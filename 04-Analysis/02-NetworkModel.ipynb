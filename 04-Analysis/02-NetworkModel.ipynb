{
 "cells": [
  {
   "attachments": {},
   "cell_type": "markdown",
   "metadata": {},
   "source": [
    "# Network Model - Analysis"
   ]
  },
  {
   "cell_type": "code",
   "execution_count": 56,
   "metadata": {},
   "outputs": [],
   "source": [
    "# Libraries\n",
    "import numpy as np\n",
    "import pandas as pd\n",
    "import igraph as ig\n",
    "import networkx as nx\n",
    "from sklearn.model_selection import StratifiedKFold, StratifiedShuffleSplit\n",
    "from auxiliar_funcs import *\n",
    "import matplotlib.pyplot as plt\n",
    "import powerlaw as plaw\n",
    "import collections"
   ]
  },
  {
   "attachments": {},
   "cell_type": "markdown",
   "metadata": {},
   "source": [
    "### Load Data"
   ]
  },
  {
   "cell_type": "code",
   "execution_count": 3,
   "metadata": {},
   "outputs": [
    {
     "name": "stdout",
     "output_type": "stream",
     "text": [
      "Data loaded!\n",
      "<class 'pandas.core.frame.DataFrame'>\n",
      "RangeIndex: 32769 entries, 0 to 32768\n",
      "Data columns (total 10 columns):\n",
      " #   Column            Non-Null Count  Dtype\n",
      "---  ------            --------------  -----\n",
      " 0   ACTION            32769 non-null  int64\n",
      " 1   RESOURCE          32769 non-null  int64\n",
      " 2   MGR_ID            32769 non-null  int64\n",
      " 3   ROLE_ROLLUP_1     32769 non-null  int64\n",
      " 4   ROLE_ROLLUP_2     32769 non-null  int64\n",
      " 5   ROLE_DEPTNAME     32769 non-null  int64\n",
      " 6   ROLE_TITLE        32769 non-null  int64\n",
      " 7   ROLE_FAMILY_DESC  32769 non-null  int64\n",
      " 8   ROLE_FAMILY       32769 non-null  int64\n",
      " 9   ROLE_CODE         32769 non-null  int64\n",
      "dtypes: int64(10)\n",
      "memory usage: 2.5 MB\n",
      "None\n",
      "|U|:  9561\n",
      "|R|:  7518\n",
      "|U| : 9561\n",
      "|L'| : 32769  = |L| : 32769\n",
      "\n",
      "Num positive entries: 30872 94.21%\n",
      "Num negative entries: 1897 5.789%\n",
      "Done!\n"
     ]
    }
   ],
   "source": [
    "# LOAD DATA\n",
    "url_file = \"../00-Data/train.csv\"\n",
    "df_data = pd.read_csv(url_file)\n",
    "print(\"Data loaded!\")\n",
    "print(df_data.info())\n",
    "\n",
    "# User attributes\n",
    "user_attrs = df_data.columns[2:]\n",
    "\n",
    "# Number of users\n",
    "n_users = len(df_data[user_attrs].drop_duplicates())\n",
    "n_rsrcs = len(df_data.RESOURCE.drop_duplicates())\n",
    "print(\"|U|: \", n_users) # Unique users\n",
    "print(\"|R|: \", n_rsrcs) # Unique resources\n",
    "\n",
    "# Create an index for every users\n",
    "user_dict = {}\n",
    "for u_idx, u_attr in enumerate(df_data[user_attrs].drop_duplicates().values):\n",
    "    idx = \"999\" + str(u_idx) + \"999\"\n",
    "    user_dict[int(idx)] = list(u_attr)\n",
    "print(\"|U| :\", len(user_dict))\n",
    "\n",
    "# Create a new column to add in a DF\n",
    "list_usr_idx = []\n",
    "key_list = list(user_dict.keys()) # list out keys and values separately\n",
    "val_list = list(user_dict.values())\n",
    "for log in df_data[user_attrs].values:\n",
    "    key_idx = val_list.index(list(log))\n",
    "    list_usr_idx.append(key_list[key_idx])\n",
    "print(\"|L'| :\", len(list_usr_idx), \" = |L| :\", len(df_data))\n",
    "df_data[\"USERID\"] = list_usr_idx\n",
    "\n",
    "print()\n",
    "df_pos_entries = df_data[df_data.ACTION==1]\n",
    "df_neg_entries = df_data[df_data.ACTION==0]\n",
    "print('Num positive entries:',len(df_pos_entries), \n",
    "    \"{:.4}%\".format((len(df_pos_entries)/len(df_data))*100))\n",
    "print('Num negative entries:',len(df_neg_entries),\n",
    "    \"{:.4}%\".format((len(df_neg_entries)/len(df_data))*100))\n",
    "\n",
    "##### ***** Cross-Validation Configuration ***** #####\n",
    "k = 10\n",
    "test_size = 0.2\n",
    "kfold = StratifiedShuffleSplit(n_splits=k, test_size=test_size, random_state=1)\n",
    "\n",
    "data_partition = kfold.split(df_data, df_data.ACTION)\n",
    "data_corpus = [] # Lista donde se almacenan los k fols\n",
    "\n",
    "for train_data, test_data in data_partition:        \n",
    "    X_train, X_test = df_data.iloc[train_data], df_data.iloc[test_data]\n",
    "    data_corpus.append([X_train, X_test])\n",
    "\n",
    "print(\"Done!\")"
   ]
  },
  {
   "attachments": {},
   "cell_type": "markdown",
   "metadata": {},
   "source": [
    "### Data Pre-processing"
   ]
  },
  {
   "cell_type": "code",
   "execution_count": 4,
   "metadata": {},
   "outputs": [
    {
     "name": "stdout",
     "output_type": "stream",
     "text": [
      "# Train access request = 26215  %: 80.00\n",
      "# Test access request = 6554  %: 20.00\n",
      "# Total = 32769\n",
      "\n",
      "TASK 1: Done!\n",
      "\n",
      "TASK 2: Done!\n",
      "\n",
      "TASK 3: Drop duplicates access requests\n",
      "\n",
      "# Solicitudes Train (+): 24697  %: 94.21\n",
      "# Solicitudes Train (-): 1518  %: 5.79\n",
      "# Solicitudes Test (+): 6175  %: 94.22\n",
      "# Solicitudes Test (-): 379  %: 5.78\n",
      "# Train Users (+):  8576\n",
      "# Train Resrc (+):  6414\n",
      "# Train Users (-):  830\n",
      "# Train Resrc (-):  950\n",
      "# Test Users (+):  4087\n",
      "# Test Resrc (+):  2748\n",
      "# Test Users (-):  301\n",
      "# Test Resrc (-):  316\n",
      "\n"
     ]
    }
   ],
   "source": [
    "##### ***** Control Variables ***** #####\n",
    "id_kfold = 0\n",
    "task4 = False\n",
    "#########################################\n",
    "\n",
    "df_train_k, df_test_k = data_corpus[id_kfold][0], data_corpus[id_kfold][1]\n",
    "print(\"# Train access request =\", len(df_train_k), \n",
    "      \" %: {:.2f}\".format((len(df_train_k)/(len(df_train_k)+len(df_test_k)))*100))\n",
    "print(\"# Test access request =\", len(df_test_k),\n",
    "      \" %: {:.2f}\".format((len(df_test_k)/(len(df_train_k)+len(df_test_k)))*100))\n",
    "print(\"# Total =\", len(df_train_k)+len(df_test_k))\n",
    "print()\n",
    "\n",
    "##### ***** Task 1: Null and uknwokn values ***** #####\n",
    "print(\"TASK 1: Done!\"); print() # NA\n",
    "\n",
    "\n",
    "##### ***** TASK 2: convert continuous values to categorical values ***** #####\n",
    "print(\"TASK 2: Done!\"); print() # NA \n",
    "\n",
    "##### ***** TASK 3: Drop duplicates access requests ***** #####\n",
    "print(\"TASK 3: Drop duplicates access requests\")\n",
    "df_train_k_pos = df_train_k[df_train_k.ACTION==1]   # Train Pos\n",
    "df_train_k_neg = df_train_k[df_train_k.ACTION==0]   # Train Neg\n",
    "df_test_k_pos = df_test_k[df_test_k.ACTION==1]      # Test Pos\n",
    "df_test_k_neg = df_test_k[df_test_k.ACTION==0]      # Test Neg\n",
    "df_train_k_pos = df_train_k_pos[df_train_k_pos.columns[1:]].drop_duplicates()\n",
    "df_train_k_neg = df_train_k_neg[df_train_k_neg.columns[1:]].drop_duplicates()\n",
    "df_test_k_pos = df_test_k_pos[df_test_k_pos.columns[1:]].drop_duplicates()\n",
    "df_test_k_neg = df_test_k_neg[df_test_k_neg.columns[1:]].drop_duplicates()\n",
    "print()\n",
    "\n",
    "print(\"# Solicitudes Train (+):\", len(df_train_k_pos), \" %: {:.2f}\".format(\n",
    "      (len(df_train_k_pos)/len(df_train_k))*100))\n",
    "print(\"# Solicitudes Train (-):\", len(df_train_k_neg), \" %: {:.2f}\".format(\n",
    "      (len(df_train_k_neg)/len(df_train_k))*100))\n",
    "print(\"# Solicitudes Test (+):\", len(df_test_k_pos), \" %: {:.2f}\".format(\n",
    "      (len(df_test_k_pos)/len(df_test_k))*100))\n",
    "print(\"# Solicitudes Test (-):\", len(df_test_k_neg), \" %: {:.2f}\".format(\n",
    "      (len(df_test_k_neg)/len(df_test_k))*100))\n",
    "print(\"# Train Users (+): \", len(df_train_k_pos.USERID.drop_duplicates()))\n",
    "print(\"# Train Resrc (+): \", len(df_train_k_pos.RESOURCE.drop_duplicates()))\n",
    "print(\"# Train Users (-): \", len(df_train_k_neg.USERID.drop_duplicates()))\n",
    "print(\"# Train Resrc (-): \", len(df_train_k_neg.RESOURCE.drop_duplicates()))\n",
    "print(\"# Test Users (+): \", len(df_test_k_pos.USERID.drop_duplicates()))\n",
    "print(\"# Test Resrc (+): \", len(df_test_k_pos.RESOURCE.drop_duplicates()))\n",
    "print(\"# Test Users (-): \", len(df_test_k_neg.USERID.drop_duplicates()))\n",
    "print(\"# Test Resrc (-): \", len(df_test_k_neg.RESOURCE.drop_duplicates())); print()\n",
    "\n",
    "if task4:\n",
    "    # Filter resources\n",
    "      n1 = 0\n",
    "      n2 = 149\n",
    "      top_list = df_train_k_pos.RESOURCE.value_counts()[:len(df_train_k_pos.RESOURCE.drop_duplicates())].index.tolist()\n",
    "      # Filter the interval between n1 and n2\n",
    "      top_list = top_list[n1:n2+1]\n",
    "      print('#Filtered resources:', len(top_list))\n",
    "      boolean_series = df_train_k_pos.RESOURCE.isin(top_list)\n",
    "      df_train_k_pos = df_train_k_pos[boolean_series]\n",
    "      bolean_series = df_train_k_neg.RESOURCE.isin(top_list)\n",
    "      df_train_k_neg = df_train_k_neg[bolean_series]\n",
    "      print(\"Done!\")\n",
    "      "
   ]
  },
  {
   "attachments": {},
   "cell_type": "markdown",
   "metadata": {},
   "source": [
    "### Network Modelling"
   ]
  },
  {
   "cell_type": "code",
   "execution_count": 5,
   "metadata": {},
   "outputs": [],
   "source": [
    "def build_network_model(data, usr_id_name, res_id_name, file_path=None):\n",
    "    \"\"\"\n",
    "    Builds the Access Requests Bipartite Network from Access log.\n",
    "\n",
    "    Args:\n",
    "        data (pandas dataframe): The Access Log.\n",
    "        usr_id_name (str): The name of the ID users column in the Access Log\n",
    "        res_id_name (str): The name of the ID resources column in the Access Log\n",
    "    \n",
    "    Returns:\n",
    "        Graph (iGraph): The Access Requests Bipartite Network.\n",
    "\n",
    "    Raises:\n",
    "        TypeError: If a network is not Bipartite.\n",
    "    \"\"\"\n",
    "    \n",
    "    list_of_edges = []\n",
    "    bi_network = nx.Graph() # NetworkX Graph object\n",
    "\n",
    "    for usr_idx, rsr_idx in data[[usr_id_name, res_id_name]].values:\n",
    "        list_of_edges.append((int(usr_idx), int(rsr_idx))) # Tuple of edges\n",
    "    bi_network.add_edges_from(list_of_edges) # Build Network with edges\n",
    "\n",
    "    # Change networkX object to iGraph object\n",
    "    bi_network = ig.Graph.from_networkx(bi_network)\n",
    "    bi_network.vs['name'] = bi_network.vs[\"_nx_name\"] # Clean name column\n",
    "    del bi_network.vs[\"_nx_name\"] # Remove uncleaned name column\n",
    "\n",
    "    print(bi_network.summary())\n",
    "    print(bi_network.vs())\n",
    "\n",
    "    if not bi_network.is_bipartite():\n",
    "        raise TypeError(\"The ARBN is not bipartite\")\n",
    "\n",
    "    ### Add type of node (user or resource)\n",
    "    list_of_resources_in_data = list(data[res_id_name])\n",
    "    list_node_type = []\n",
    "    for node in bi_network.vs():\n",
    "        if node['name'] in list_of_resources_in_data:\n",
    "            list_node_type.append(1) # A resource\n",
    "        else:\n",
    "            list_node_type.append(0) # An user\n",
    "    bi_network.vs[\"typen\"] = list_node_type\n",
    "    ### End node type\n",
    "\n",
    "    if not file_path == None: # Create a file\n",
    "        ig.write(bi_network, file_path)\n",
    "\n",
    "    print(\"ARBN builded!\")\n",
    "    print(bi_network.summary())\n",
    "    print(\"|U-Nodes| =\", len(bi_network.vs.select(typen=0)))\n",
    "    print(\"|R-Nodes| =\", len(bi_network.vs.select(typen=1)))\n",
    "\n",
    "    return bi_network\n",
    "    "
   ]
  },
  {
   "cell_type": "code",
   "execution_count": 6,
   "metadata": {},
   "outputs": [
    {
     "name": "stdout",
     "output_type": "stream",
     "text": [
      "IGRAPH UN-- 14990 24697 -- \n",
      "+ attr: name (v)\n",
      "<igraph.VertexSeq object at 0x7fe41b4c2950>\n",
      "ARBN builded!\n",
      "IGRAPH UN-- 14990 24697 -- \n",
      "+ attr: name (v), typen (v)\n",
      "|U-Nodes| = 8576\n",
      "|R-Nodes| = 6414\n"
     ]
    }
   ],
   "source": [
    "bip_network = build_network_model(df_train_k_pos, 'USERID', 'RESOURCE')"
   ]
  },
  {
   "attachments": {},
   "cell_type": "markdown",
   "metadata": {},
   "source": [
    "### User network"
   ]
  },
  {
   "cell_type": "code",
   "execution_count": 7,
   "metadata": {},
   "outputs": [],
   "source": [
    "def get_edge_weight(i_node, j_node):\n",
    "    \"\"\"\n",
    "    Compute the weight of an edge between i and j nodes.\n",
    "\n",
    "    Args:\n",
    "        i_node (networkX node): i node.\n",
    "        j_node (networkX node): j node.\n",
    "    \n",
    "    Returns:\n",
    "        weight (float): The weight between nodes.\n",
    "\n",
    "    Raises:\n",
    "        TypeError: if there are not an intersection\n",
    "    \"\"\"\n",
    "    neighs_i = set(i_node.neighbors())\n",
    "    neighs_j = set(j_node.neighbors())\n",
    "\n",
    "    insersection_neighbors = neighs_i.intersection(neighs_j)\n",
    "    \n",
    "    weight = (len(insersection_neighbors)*len(insersection_neighbors)) / (len(neighs_i)*len(neighs_j))\n",
    "\n",
    "    return weight\n",
    "\n",
    "\n",
    "def bipartite_projection(biparte_network, node_type=0):\n",
    "    \"\"\"\n",
    "    Generate a monopartite network from bipartite network.\n",
    "\n",
    "    Parameters:\n",
    "        bipartite_network (igraph Graph): The bipartie network.\n",
    "        node_type (int): The set of nodes of the monopartite network.\n",
    "\n",
    "    Returns:\n",
    "        Graph (iGraph): The monopartite (projected) network.\n",
    "\n",
    "    Raises:\n",
    "        Some\n",
    "    \"\"\"\n",
    "\n",
    "    #Check if the bipartite network is a bipartite network:\n",
    "    if not biparte_network.is_bipartite():\n",
    "        raise TypeError(\"The ARBN is not bipartite\")\n",
    "\n",
    "    # networkX object (more easy to buil)\n",
    "    g = nx.Graph()\n",
    "\n",
    "    # All opposite node set\n",
    "    opposite_nodes = biparte_network.vs.select(typen=1)\n",
    "\n",
    "    # Check for every node the same type\n",
    "    for X_node in opposite_nodes:\n",
    "        # Select all neighbors of the X_node\n",
    "        neighbordhood = X_node.neighbors()\n",
    "\n",
    "        for Y_node_i in neighbordhood:\n",
    "            for Y_node_j in neighbordhood:\n",
    "                # Ceck if both nodes are the same\n",
    "                if Y_node_i['name'] != Y_node_j['name']:\n",
    "                    # If there is no an edge generate\n",
    "                    if not g.has_edge(Y_node_i['name'], Y_node_j['name']):\n",
    "                        weight_ = get_edge_weight(Y_node_i, Y_node_j)\n",
    "                        #print(\"Peso: \", Y_node_i['name'], \"-\", Y_node_j['name'], \" => \", weight_)\n",
    "                        g.add_edge(Y_node_i[\"name\"], Y_node_j[\"name\"],\n",
    "                                   weight=weight_)                                 \n",
    "\n",
    "    # Convert from networkX graph to igraph graph\n",
    "    g = ig.Graph.from_networkx(g)\n",
    "    g.vs[\"name\"] = g.vs[\"_nx_name\"]\n",
    "    del g.vs[\"_nx_name\"]\n",
    "    \n",
    "    return g\n"
   ]
  },
  {
   "cell_type": "code",
   "execution_count": 315,
   "metadata": {},
   "outputs": [
    {
     "name": "stdout",
     "output_type": "stream",
     "text": [
      "IGRAPH UNW- 8250 772907 -- \n",
      "+ attr: name (v), weight (e)\n"
     ]
    }
   ],
   "source": [
    "user_network = bipartite_projection(bip_network, 0)\n",
    "print(user_network.summary())\n",
    "# ig.write(user_network, \"graphs/amz_user_network.gml\")"
   ]
  },
  {
   "attachments": {},
   "cell_type": "markdown",
   "metadata": {},
   "source": [
    "### Network Analysis"
   ]
  },
  {
   "cell_type": "code",
   "execution_count": 9,
   "metadata": {},
   "outputs": [
    {
     "name": "stdout",
     "output_type": "stream",
     "text": [
      "Density: 0.022714437379002778\n",
      "Avg. degree 187.37139393939393\n",
      "Connected Components: 75\n"
     ]
    }
   ],
   "source": [
    "density = user_network.density()\n",
    "print(\"Density:\", density)\n",
    "\n",
    "avg_degree = sum(user_network.degree()) / user_network.vcount()\n",
    "print(\"Avg. degree\", avg_degree)\n",
    "\n",
    "components = user_network.components()\n",
    "print(\"Connected Components:\", len(components))\n",
    "\n"
   ]
  },
  {
   "cell_type": "code",
   "execution_count": 319,
   "metadata": {},
   "outputs": [
    {
     "data": {
      "text/plain": [
       "1660"
      ]
     },
     "execution_count": 319,
     "metadata": {},
     "output_type": "execute_result"
    }
   ],
   "source": [
    "max(user_network.degree())"
   ]
  },
  {
   "cell_type": "code",
   "execution_count": 312,
   "metadata": {},
   "outputs": [
    {
     "name": "stdout",
     "output_type": "stream",
     "text": [
      "1660\n"
     ]
    },
    {
     "data": {
      "text/plain": [
       "Text(0, 0.5, 'P(k)')"
      ]
     },
     "execution_count": 312,
     "metadata": {},
     "output_type": "execute_result"
    },
    {
     "data": {
      "text/plain": [
       "<Figure size 432x288 with 0 Axes>"
      ]
     },
     "metadata": {},
     "output_type": "display_data"
    },
    {
     "data": {
      "image/png": "[encoded data removed]",
      "text/plain": [
       "<Figure size 2160x720 with 3 Axes>"
      ]
     },
     "metadata": {
      "needs_background": "light"
     },
     "output_type": "display_data"
    }
   ],
   "source": [
    "max_degree = max(user_network.degree())\n",
    "print(max_degree)\n",
    "\n",
    "# Crear una lista donde se almacena\n",
    "degree_list = np.zeros(max_degree, dtype=int)\n",
    "\n",
    "for node in user_network.vs():    \n",
    "    degree_list[node.degree()-1] = (degree_list[node.degree()-1] + 1)\n",
    "\n",
    "#degree_list = degree_list / user_network.vcount()\n",
    "\n",
    "plt.clf()\n",
    "fig = plt.figure(figsize=(30, 10))     \n",
    "\n",
    "plt.subplot(1, 3, 1)\n",
    "plt.plot(degree_list, \"r\")\n",
    "plt.xlabel('Degree')\n",
    "plt.ylabel('P(k)')\n",
    "\n",
    "plt.subplot(1, 3, 2)\n",
    "plt.plot(range(max_degree), degree_list, \"r.\")\n",
    "plt.loglog()\n",
    "plt.xlabel('Degree')\n",
    "plt.ylabel('P(k)')\n",
    "\n",
    "plt.subplot(1, 3, 3)\n",
    "bins = np.logspace(0, 3.22, 12)\n",
    "plt.plot(bins[:-1], hist_norm, \"r*\")\n",
    "plt.plot(range(max_degree), degree_list, \"b.\")\n",
    "plt.loglog()\n",
    "plt.xlabel('Degree')\n",
    "plt.ylabel('P(k)')"
   ]
  },
  {
   "cell_type": "code",
   "execution_count": 101,
   "metadata": {},
   "outputs": [
    {
     "data": {
      "image/png": "[encoded data removed]",
      "text/plain": [
       "<Figure size 432x288 with 1 Axes>"
      ]
     },
     "metadata": {
      "needs_background": "light"
     },
     "output_type": "display_data"
    }
   ],
   "source": [
    "import numpy as np\n",
    "from matplotlib import pyplot as plt\n",
    "\n",
    "# something random to plot\n",
    "data = (np.random.random(10000)*10)**3\n",
    "\n",
    "# log-scaled bins\n",
    "bins = np.logspace(0, 3, 50)\n",
    "widths = (bins[1:] - bins[:-1])\n",
    "\n",
    "# Calculate histogram\n",
    "hist = np.histogram(data, bins=bins)\n",
    "# normalize by bin width\n",
    "hist_norm = hist[0]/widths\n",
    "\n",
    "# plot it!\n",
    "plt.bar(bins[:-1], hist_norm, widths)\n",
    "plt.xscale('log')\n",
    "plt.yscale('log')"
   ]
  },
  {
   "cell_type": "code",
   "execution_count": null,
   "metadata": {},
   "outputs": [],
   "source": [
    "# Como calcular el bin de stop? Fácil. \n",
    "# Log(max(degree_list))"
   ]
  },
  {
   "cell_type": "code",
   "execution_count": 169,
   "metadata": {},
   "outputs": [
    {
     "data": {
      "text/plain": [
       "array([1.63360424e-01, 1.90047053e-01, 2.21093220e-01, 2.57211102e-01,\n",
       "       2.99229217e-01, 3.48111429e-01, 4.04979059e-01, 4.71136610e-01,\n",
       "       5.48101687e-01, 6.37639811e-01, 7.41804921e-01, 8.62986488e-01,\n",
       "       1.00396433e+00, 1.16797236e+00, 1.35877283e+00, 1.58074253e+00,\n",
       "       1.83897330e+00, 2.13938876e+00, 2.48888022e+00, 2.89546475e+00,\n",
       "       3.36846910e+00, 3.91874364e+00, 4.55891126e+00, 5.30365694e+00,\n",
       "       6.17006459e+00, 7.17800895e+00, 8.35061154e+00, 9.71477099e+00,\n",
       "       1.13017801e+01, 1.31480437e+01, 1.52959137e+01, 1.77946606e+01,\n",
       "       2.07016040e+01, 2.40834268e+01, 2.80177056e+01, 3.25946898e+01,\n",
       "       3.79193722e+01, 4.41138969e+01, 5.13203619e+01, 5.97040780e+01,\n",
       "       6.94573615e+01, 8.08039455e+01, 9.40041124e+01, 1.09360664e+02,\n",
       "       1.27225869e+02, 1.48009540e+02, 1.72188442e+02, 2.00317219e+02,\n",
       "       2.33041124e+02])"
      ]
     },
     "execution_count": 169,
     "metadata": {},
     "output_type": "execute_result"
    }
   ],
   "source": [
    "widths"
   ]
  },
  {
   "cell_type": "code",
   "execution_count": 303,
   "metadata": {},
   "outputs": [
    {
     "data": {
      "image/png": "[encoded data removed]",
      "text/plain": [
       "<Figure size 720x720 with 1 Axes>"
      ]
     },
     "metadata": {
      "needs_background": "light"
     },
     "output_type": "display_data"
    }
   ],
   "source": [
    "# something random to plot\n",
    "data = degree_list\n",
    "# log-scaled bins\n",
    "plt.figure(figsize=(10, 10))\n",
    "bins = np.logspace(0, 3.22, 12)\n",
    "widths = (bins[1:] - bins[:-1])\n",
    "\n",
    "# Calculate histogram\n",
    "hist = np.histogram(data, bins=bins)\n",
    "# normalize by bin width\n",
    "hist_norm = hist[0]/widths\n",
    "\n",
    "# plot it!\n",
    "plt.bar(bins[:-1], hist_norm, widths)\n",
    "plt.xscale('log')\n",
    "plt.yscale('log')"
   ]
  },
  {
   "cell_type": "code",
   "execution_count": 306,
   "metadata": {},
   "outputs": [
    {
     "data": {
      "text/plain": [
       "array([  0.96212772,   1.88781746,   3.70413897,   7.26799374,\n",
       "        14.26073196,  27.98137744,  54.90303625, 107.72676919,\n",
       "       211.37367973, 414.74215571, 813.77707926])"
      ]
     },
     "execution_count": 306,
     "metadata": {},
     "output_type": "execute_result"
    }
   ],
   "source": [
    "widths"
   ]
  },
  {
   "cell_type": "code",
   "execution_count": 309,
   "metadata": {},
   "outputs": [
    {
     "data": {
      "text/plain": [
       "array([279, 261, 191,  81,  37,  23,  24,  10,   2,   0,   0])"
      ]
     },
     "execution_count": 309,
     "metadata": {},
     "output_type": "execute_result"
    }
   ],
   "source": [
    "hist[0]"
   ]
  },
  {
   "cell_type": "code",
   "execution_count": 285,
   "metadata": {},
   "outputs": [
    {
     "name": "stdout",
     "output_type": "stream",
     "text": [
      "Corte: 2\n",
      "Elementos de 0 - 2  =  555\n",
      "Corte: 4\n",
      "Elementos de 2 - 4  =  397\n",
      "Corte: 8\n",
      "Elementos de 4 - 8  =  505\n",
      "Corte: 16\n",
      "Elementos de 8 - 16  =  803\n",
      "Corte: 32\n",
      "Elementos de 16 - 32  =  901\n",
      "Corte: 64\n",
      "Elementos de 32 - 64  =  1174\n",
      "Corte: 128\n",
      "Elementos de 64 - 128  =  845\n",
      "Corte: 256\n",
      "Elementos de 128 - 256  =  920\n",
      "Corte: 512\n",
      "Elementos de 256 - 512  =  1089\n",
      "Corte: 1024\n",
      "Elementos de 512 - 1024  =  981\n",
      "Corte: 1660\n",
      "Elementos de 1024 - 1024  =  80\n"
     ]
    },
    {
     "data": {
      "text/plain": [
       "[555, 397, 505, 803, 901, 1174, 845, 920, 1089, 981, 80]"
      ]
     },
     "execution_count": 285,
     "metadata": {},
     "output_type": "execute_result"
    }
   ],
   "source": [
    "suma_ = 0\n",
    "anterior_i = 0\n",
    "lista_x = []\n",
    "for i in range(1, 12):    \n",
    "    cal = 2 ** (i)\n",
    "    suma_ = suma_ + cal\n",
    "    print(\"Corte:\",cal)\n",
    "    temp = sum(degree_list[anterior_i:cal])\n",
    "    print(\"Elementos de\", anterior_i,\"-\", cal, \" = \", temp)\n",
    "    anterior_i = cal\n",
    "    lista_x.append(temp)\n",
    "    if suma_ > len(degree_list):\n",
    "        print(\"Corte:\",len(degree_list))\n",
    "        temp = sum(degree_list[anterior_i:len(degree_list)])\n",
    "        print(\"Elementos de\", anterior_i,\"-\", cal, \" = \", temp)\n",
    "        \n",
    "        lista_x.append(temp)\n",
    "        anterior_i = cal\n",
    "        break\n",
    "lista_x"
   ]
  },
  {
   "cell_type": "code",
   "execution_count": 264,
   "metadata": {},
   "outputs": [
    {
     "data": {
      "text/plain": [
       "array([324, 231, 192, 205, 139, 130, 124, 112, 108, 100])"
      ]
     },
     "execution_count": 264,
     "metadata": {},
     "output_type": "execute_result"
    }
   ],
   "source": [
    "degree_list[:10]"
   ]
  },
  {
   "cell_type": "code",
   "execution_count": 290,
   "metadata": {},
   "outputs": [
    {
     "data": {
      "text/plain": [
       "Text(0, 0.5, 'P(k)')"
      ]
     },
     "execution_count": 290,
     "metadata": {},
     "output_type": "execute_result"
    },
    {
     "data": {
      "image/png": "[encoded data removed]",
      "text/plain": [
       "<Figure size 720x720 with 1 Axes>"
      ]
     },
     "metadata": {
      "needs_background": "light"
     },
     "output_type": "display_data"
    }
   ],
   "source": [
    "plt.figure(figsize=(10, 10))\n",
    "plt.plot(lista_x, \"r*\")\n",
    "plt.loglog()\n",
    "plt.xlabel('Degree')\n",
    "plt.ylabel('P(k)')"
   ]
  },
  {
   "cell_type": "code",
   "execution_count": 301,
   "metadata": {},
   "outputs": [
    {
     "data": {
      "text/plain": [
       "[324,\n",
       " 231,\n",
       " 192,\n",
       " 205,\n",
       " 139,\n",
       " 130,\n",
       " 124,\n",
       " 112,\n",
       " 108,\n",
       " 100,\n",
       " 126,\n",
       " 90,\n",
       " 124,\n",
       " 93,\n",
       " 93,\n",
       " 69,\n",
       " 73,\n",
       " 85,\n",
       " 44,\n",
       " 81,\n",
       " 73,\n",
       " 29,\n",
       " 69,\n",
       " 49,\n",
       " 72,\n",
       " 59,\n",
       " 41,\n",
       " 67,\n",
       " 33,\n",
       " 53,\n",
       " 45,\n",
       " 28,\n",
       " 60,\n",
       " 38,\n",
       " 50,\n",
       " 64,\n",
       " 31,\n",
       " 19,\n",
       " 52,\n",
       " 25,\n",
       " 13,\n",
       " 47,\n",
       " 22,\n",
       " 66,\n",
       " 53,\n",
       " 28,\n",
       " 13,\n",
       " 30,\n",
       " 66,\n",
       " 103,\n",
       " 25,\n",
       " 21,\n",
       " 53,\n",
       " 23,\n",
       " 34,\n",
       " 16,\n",
       " 20,\n",
       " 20,\n",
       " 76,\n",
       " 14,\n",
       " 44,\n",
       " 25,\n",
       " 15,\n",
       " 8,\n",
       " 4,\n",
       " 14,\n",
       " 12,\n",
       " 7,\n",
       " 36,\n",
       " 17,\n",
       " 30,\n",
       " 44,\n",
       " 12,\n",
       " 59,\n",
       " 17,\n",
       " 18,\n",
       " 19,\n",
       " 15,\n",
       " 7,\n",
       " 7,\n",
       " 27,\n",
       " 13,\n",
       " 19,\n",
       " 8,\n",
       " 6,\n",
       " 8,\n",
       " 15,\n",
       " 9,\n",
       " 5,\n",
       " 11,\n",
       " 7,\n",
       " 10,\n",
       " 14,\n",
       " 58,\n",
       " 13,\n",
       " 7,\n",
       " 18,\n",
       " 16,\n",
       " 8,\n",
       " 8,\n",
       " 11,\n",
       " 9,\n",
       " 21,\n",
       " 11,\n",
       " 6,\n",
       " 7,\n",
       " 8,\n",
       " 7,\n",
       " 9,\n",
       " 6,\n",
       " 9,\n",
       " 4,\n",
       " 10,\n",
       " 27,\n",
       " 7,\n",
       " 3,\n",
       " 4,\n",
       " 11,\n",
       " 6,\n",
       " 7,\n",
       " 3,\n",
       " 8,\n",
       " 5,\n",
       " 28,\n",
       " 2,\n",
       " 6,\n",
       " 6,\n",
       " 6,\n",
       " 6,\n",
       " 12,\n",
       " 3,\n",
       " 7,\n",
       " 5,\n",
       " 13,\n",
       " 11,\n",
       " 8,\n",
       " 10,\n",
       " 9,\n",
       " 8,\n",
       " 8,\n",
       " 6,\n",
       " 5,\n",
       " 10,\n",
       " 5,\n",
       " 7,\n",
       " 5,\n",
       " 3,\n",
       " 6,\n",
       " 10,\n",
       " 5,\n",
       " 10,\n",
       " 7,\n",
       " 13,\n",
       " 4,\n",
       " 2,\n",
       " 4,\n",
       " 4,\n",
       " 5,\n",
       " 68,\n",
       " 12,\n",
       " 4,\n",
       " 5,\n",
       " 4,\n",
       " 3,\n",
       " 6,\n",
       " 3,\n",
       " 3,\n",
       " 6,\n",
       " 8,\n",
       " 4,\n",
       " 6,\n",
       " 6,\n",
       " 1,\n",
       " 1,\n",
       " 4,\n",
       " 2,\n",
       " 4,\n",
       " 12,\n",
       " 1,\n",
       " 13,\n",
       " 5,\n",
       " 5,\n",
       " 6,\n",
       " 3,\n",
       " 8,\n",
       " 4,\n",
       " 4,\n",
       " 28,\n",
       " 62,\n",
       " 8,\n",
       " 11,\n",
       " 9,\n",
       " 6,\n",
       " 6,\n",
       " 1,\n",
       " 6,\n",
       " 5,\n",
       " 10,\n",
       " 5,\n",
       " 8,\n",
       " 4,\n",
       " 3,\n",
       " 8,\n",
       " 5,\n",
       " 1,\n",
       " 6,\n",
       " 5,\n",
       " 4,\n",
       " 4,\n",
       " 3,\n",
       " 15,\n",
       " 3,\n",
       " 17,\n",
       " 6,\n",
       " 7,\n",
       " 36,\n",
       " 9,\n",
       " 10,\n",
       " 14,\n",
       " 10,\n",
       " 9,\n",
       " 7,\n",
       " 9,\n",
       " 7,\n",
       " 8,\n",
       " 7,\n",
       " 3,\n",
       " 3,\n",
       " 5,\n",
       " 2,\n",
       " 11,\n",
       " 2,\n",
       " 4,\n",
       " 4,\n",
       " 5,\n",
       " 6,\n",
       " 6,\n",
       " 4,\n",
       " 11,\n",
       " 3,\n",
       " 5,\n",
       " 7,\n",
       " 6,\n",
       " 2,\n",
       " 3,\n",
       " 2,\n",
       " 1,\n",
       " 2,\n",
       " 1,\n",
       " 3,\n",
       " 7,\n",
       " 4,\n",
       " 4,\n",
       " 3,\n",
       " 4,\n",
       " 7,\n",
       " 1,\n",
       " 4,\n",
       " 8,\n",
       " 5,\n",
       " 7,\n",
       " 2,\n",
       " 2,\n",
       " 4,\n",
       " 8,\n",
       " 1,\n",
       " 3,\n",
       " 2,\n",
       " 1,\n",
       " 2,\n",
       " 5,\n",
       " 3,\n",
       " 3,\n",
       " 3,\n",
       " 1,\n",
       " 3,\n",
       " 3,\n",
       " 7,\n",
       " 1,\n",
       " 2,\n",
       " 1,\n",
       " 3,\n",
       " 2,\n",
       " 4,\n",
       " 2,\n",
       " 1,\n",
       " 3,\n",
       " 1,\n",
       " 1,\n",
       " 2,\n",
       " 5,\n",
       " 2,\n",
       " 4,\n",
       " 2,\n",
       " 3,\n",
       " 4,\n",
       " 3,\n",
       " 1,\n",
       " 2,\n",
       " 31,\n",
       " 7,\n",
       " 5,\n",
       " 2,\n",
       " 2,\n",
       " 146,\n",
       " 9,\n",
       " 40,\n",
       " 7,\n",
       " 4,\n",
       " 11,\n",
       " 9,\n",
       " 6,\n",
       " 4,\n",
       " 7,\n",
       " 4,\n",
       " 5,\n",
       " 2,\n",
       " 7,\n",
       " 10,\n",
       " 5,\n",
       " 7,\n",
       " 9,\n",
       " 4,\n",
       " 5,\n",
       " 3,\n",
       " 5,\n",
       " 4,\n",
       " 5,\n",
       " 10,\n",
       " 3,\n",
       " 7,\n",
       " 4,\n",
       " 4,\n",
       " 4,\n",
       " 3,\n",
       " 3,\n",
       " 3,\n",
       " 2,\n",
       " 2,\n",
       " 1,\n",
       " 7,\n",
       " 13,\n",
       " 2,\n",
       " 4,\n",
       " 3,\n",
       " 17,\n",
       " 1,\n",
       " 5,\n",
       " 3,\n",
       " 3,\n",
       " 6,\n",
       " 2,\n",
       " 1,\n",
       " 47,\n",
       " 19,\n",
       " 11,\n",
       " 10,\n",
       " 8,\n",
       " 13,\n",
       " 6,\n",
       " 4,\n",
       " 4,\n",
       " 3,\n",
       " 2,\n",
       " 6,\n",
       " 4,\n",
       " 4,\n",
       " 2,\n",
       " 3,\n",
       " 5,\n",
       " 8,\n",
       " 2,\n",
       " 4,\n",
       " 6,\n",
       " 6,\n",
       " 7,\n",
       " 2,\n",
       " 3,\n",
       " 5,\n",
       " 4,\n",
       " 2,\n",
       " 4,\n",
       " 3,\n",
       " 3,\n",
       " 3,\n",
       " 5,\n",
       " 3,\n",
       " 10,\n",
       " 3,\n",
       " 1,\n",
       " 3,\n",
       " 2,\n",
       " 1,\n",
       " 3,\n",
       " 3,\n",
       " 3,\n",
       " 2,\n",
       " 6,\n",
       " 3,\n",
       " 3,\n",
       " 5,\n",
       " 3,\n",
       " 4,\n",
       " 5,\n",
       " 3,\n",
       " 2,\n",
       " 2,\n",
       " 3,\n",
       " 3,\n",
       " 3,\n",
       " 2,\n",
       " 6,\n",
       " 2,\n",
       " 2,\n",
       " 2,\n",
       " 5,\n",
       " 1,\n",
       " 3,\n",
       " 1,\n",
       " 2,\n",
       " 2,\n",
       " 2,\n",
       " 3,\n",
       " 3,\n",
       " 4,\n",
       " 4,\n",
       " 3,\n",
       " 3,\n",
       " 4,\n",
       " 6,\n",
       " 3,\n",
       " 2,\n",
       " 3,\n",
       " 3,\n",
       " 2,\n",
       " 4,\n",
       " 1,\n",
       " 5,\n",
       " 1,\n",
       " 3,\n",
       " 4,\n",
       " 1,\n",
       " 2,\n",
       " 3,\n",
       " 2,\n",
       " 2,\n",
       " 2,\n",
       " 1,\n",
       " 1,\n",
       " 2,\n",
       " 1,\n",
       " 1,\n",
       " 5,\n",
       " 3,\n",
       " 3,\n",
       " 1,\n",
       " 1,\n",
       " 2,\n",
       " 4,\n",
       " 3,\n",
       " 4,\n",
       " 1,\n",
       " 1,\n",
       " 3,\n",
       " 1,\n",
       " 2,\n",
       " 1,\n",
       " 1,\n",
       " 2,\n",
       " 1,\n",
       " 3,\n",
       " 1,\n",
       " 2,\n",
       " 1,\n",
       " 2,\n",
       " 2,\n",
       " 3,\n",
       " 1,\n",
       " 1,\n",
       " 6,\n",
       " 2,\n",
       " 1,\n",
       " 1,\n",
       " 4,\n",
       " 3,\n",
       " 3,\n",
       " 1,\n",
       " 2,\n",
       " 1,\n",
       " 2,\n",
       " 2,\n",
       " 2,\n",
       " 1,\n",
       " 1,\n",
       " 1,\n",
       " 2,\n",
       " 2,\n",
       " 4,\n",
       " 3,\n",
       " 3,\n",
       " 1,\n",
       " 1,\n",
       " 1,\n",
       " 1,\n",
       " 1,\n",
       " 1,\n",
       " 3,\n",
       " 2,\n",
       " 1,\n",
       " 1,\n",
       " 1,\n",
       " 2,\n",
       " 1,\n",
       " 2,\n",
       " 1,\n",
       " 4,\n",
       " 1,\n",
       " 6,\n",
       " 1,\n",
       " 2,\n",
       " 1,\n",
       " 1,\n",
       " 1,\n",
       " 1,\n",
       " 3,\n",
       " 2,\n",
       " 1,\n",
       " 1,\n",
       " 4,\n",
       " 1,\n",
       " 3,\n",
       " 3,\n",
       " 1,\n",
       " 1,\n",
       " 1,\n",
       " 1,\n",
       " 1,\n",
       " 1,\n",
       " 1,\n",
       " 1,\n",
       " 2,\n",
       " 1,\n",
       " 1,\n",
       " 4,\n",
       " 1,\n",
       " 2,\n",
       " 3,\n",
       " 3,\n",
       " 2,\n",
       " 2,\n",
       " 1,\n",
       " 1,\n",
       " 1,\n",
       " 1,\n",
       " 3,\n",
       " 1,\n",
       " 1,\n",
       " 1,\n",
       " 1,\n",
       " 2,\n",
       " 1,\n",
       " 1,\n",
       " 1,\n",
       " 1,\n",
       " 1,\n",
       " 1,\n",
       " 2,\n",
       " 1,\n",
       " 3,\n",
       " 2,\n",
       " 1,\n",
       " 1,\n",
       " 2,\n",
       " 2,\n",
       " 1,\n",
       " 1,\n",
       " 2,\n",
       " 2,\n",
       " 3,\n",
       " 2,\n",
       " 1,\n",
       " 2,\n",
       " 1,\n",
       " 1,\n",
       " 1,\n",
       " 2,\n",
       " 2,\n",
       " 1,\n",
       " 2,\n",
       " 3,\n",
       " 1,\n",
       " 1,\n",
       " 3,\n",
       " 1,\n",
       " 2,\n",
       " 2,\n",
       " 3,\n",
       " 4,\n",
       " 1,\n",
       " 1,\n",
       " 1,\n",
       " 2,\n",
       " 120,\n",
       " 27,\n",
       " 24,\n",
       " 21,\n",
       " 21,\n",
       " 13,\n",
       " 9,\n",
       " 9,\n",
       " 26,\n",
       " 7,\n",
       " 5,\n",
       " 10,\n",
       " 4,\n",
       " 5,\n",
       " 11,\n",
       " 8,\n",
       " 5,\n",
       " 7,\n",
       " 5,\n",
       " 5,\n",
       " 2,\n",
       " 1,\n",
       " 5,\n",
       " 1,\n",
       " 3,\n",
       " 2,\n",
       " 5,\n",
       " 2,\n",
       " 4,\n",
       " 4,\n",
       " 3,\n",
       " 6,\n",
       " 3,\n",
       " 5,\n",
       " 3,\n",
       " 5,\n",
       " 6,\n",
       " 3,\n",
       " 1,\n",
       " 5,\n",
       " 1,\n",
       " 2,\n",
       " 1,\n",
       " 1,\n",
       " 4,\n",
       " 4,\n",
       " 2,\n",
       " 1,\n",
       " 4,\n",
       " 1,\n",
       " 4,\n",
       " 2,\n",
       " 3,\n",
       " 1,\n",
       " 1,\n",
       " 1,\n",
       " 1,\n",
       " 3,\n",
       " 6,\n",
       " 2,\n",
       " 2,\n",
       " 2,\n",
       " 3,\n",
       " 4,\n",
       " 1,\n",
       " 1,\n",
       " 1,\n",
       " 1,\n",
       " 2,\n",
       " 1,\n",
       " 1,\n",
       " 1,\n",
       " 1,\n",
       " 3,\n",
       " 1,\n",
       " 3,\n",
       " 2,\n",
       " 1,\n",
       " 2,\n",
       " 3,\n",
       " 1,\n",
       " 4,\n",
       " 1,\n",
       " 2,\n",
       " 2,\n",
       " 1,\n",
       " 4,\n",
       " 3,\n",
       " 3,\n",
       " 1,\n",
       " 2,\n",
       " 2,\n",
       " 1,\n",
       " 1,\n",
       " 1,\n",
       " 1,\n",
       " 1,\n",
       " 2,\n",
       " 2,\n",
       " 1,\n",
       " 2,\n",
       " 1,\n",
       " 2,\n",
       " 1,\n",
       " 3,\n",
       " 1,\n",
       " 2,\n",
       " 2,\n",
       " 1,\n",
       " 3,\n",
       " 1,\n",
       " 1,\n",
       " 1,\n",
       " 1,\n",
       " 1,\n",
       " 1,\n",
       " 1,\n",
       " 1,\n",
       " 2,\n",
       " 3,\n",
       " 1,\n",
       " 2,\n",
       " 1,\n",
       " 2,\n",
       " 1,\n",
       " 1,\n",
       " 1,\n",
       " 2,\n",
       " 8,\n",
       " 8,\n",
       " 1,\n",
       " 6,\n",
       " 5,\n",
       " 2,\n",
       " 1,\n",
       " 1,\n",
       " 2,\n",
       " 2,\n",
       " 2,\n",
       " 3,\n",
       " 3,\n",
       " 2,\n",
       " 2,\n",
       " 1,\n",
       " 2,\n",
       " 2,\n",
       " 3,\n",
       " 3,\n",
       " 1,\n",
       " 3,\n",
       " 3,\n",
       " 3,\n",
       " 3,\n",
       " 1,\n",
       " 2,\n",
       " 1,\n",
       " 2,\n",
       " 1,\n",
       " 4,\n",
       " 2,\n",
       " 1,\n",
       " 2,\n",
       " 1,\n",
       " 1,\n",
       " 2,\n",
       " 1,\n",
       " 4,\n",
       " 4,\n",
       " 1,\n",
       " 1,\n",
       " 1,\n",
       " 2,\n",
       " 1,\n",
       " 1,\n",
       " 1,\n",
       " 2,\n",
       " 1,\n",
       " 2,\n",
       " 2,\n",
       " 2,\n",
       " 1,\n",
       " 2,\n",
       " 1,\n",
       " 1,\n",
       " 1,\n",
       " 1,\n",
       " 2,\n",
       " 1,\n",
       " 1,\n",
       " 2,\n",
       " 1,\n",
       " 1,\n",
       " 1,\n",
       " 1,\n",
       " 5,\n",
       " 1,\n",
       " 2,\n",
       " 1,\n",
       " 3,\n",
       " 2,\n",
       " 1,\n",
       " 5,\n",
       " 2,\n",
       " 1,\n",
       " 1,\n",
       " 2,\n",
       " 1,\n",
       " 1,\n",
       " 2,\n",
       " 2,\n",
       " 2,\n",
       " 1,\n",
       " 1,\n",
       " 1,\n",
       " 3,\n",
       " 1,\n",
       " 2,\n",
       " 2,\n",
       " 3,\n",
       " 1,\n",
       " 1,\n",
       " 2,\n",
       " 4,\n",
       " 3,\n",
       " 1,\n",
       " 2,\n",
       " 1,\n",
       " 2,\n",
       " 1,\n",
       " 1,\n",
       " 1,\n",
       " 1,\n",
       " 2,\n",
       " 1,\n",
       " 1,\n",
       " 1,\n",
       " 4,\n",
       " 1,\n",
       " 1,\n",
       " 1,\n",
       " 1,\n",
       " 1,\n",
       " 1,\n",
       " 1,\n",
       " 1,\n",
       " 1,\n",
       " 1,\n",
       " 1,\n",
       " 1,\n",
       " 1,\n",
       " 1,\n",
       " 1,\n",
       " 1,\n",
       " 1,\n",
       " 1,\n",
       " 1,\n",
       " 1,\n",
       " 1,\n",
       " 1,\n",
       " 1,\n",
       " 1,\n",
       " 1,\n",
       " 1,\n",
       " 1,\n",
       " 1,\n",
       " 1,\n",
       " 1,\n",
       " 1,\n",
       " 1,\n",
       " 1,\n",
       " 4,\n",
       " 1,\n",
       " 1,\n",
       " 2,\n",
       " 1,\n",
       " 1,\n",
       " 1,\n",
       " 1,\n",
       " 1,\n",
       " 1,\n",
       " 1,\n",
       " 1,\n",
       " 1,\n",
       " 1,\n",
       " 1,\n",
       " 1,\n",
       " 1,\n",
       " 1,\n",
       " 1,\n",
       " 1,\n",
       " 1,\n",
       " 1,\n",
       " 1,\n",
       " 1,\n",
       " 1,\n",
       " 1,\n",
       " 1,\n",
       " 1,\n",
       " 1,\n",
       " 1,\n",
       " 1,\n",
       " 1,\n",
       " 1,\n",
       " 1,\n",
       " 1,\n",
       " 1]"
      ]
     },
     "execution_count": 301,
     "metadata": {},
     "output_type": "execute_result"
    }
   ],
   "source": [
    "degreeCount = collections.Counter(sorted(user_network.degree()))\n",
    "deg, cnt = zip(*degreeCount.items())\n",
    "list(cnt)"
   ]
  },
  {
   "cell_type": "code",
   "execution_count": 302,
   "metadata": {},
   "outputs": [
    {
     "data": {
      "text/plain": [
       "908"
      ]
     },
     "execution_count": 302,
     "metadata": {},
     "output_type": "execute_result"
    }
   ],
   "source": [
    "len(cnt)"
   ]
  },
  {
   "cell_type": "code",
   "execution_count": 260,
   "metadata": {},
   "outputs": [
    {
     "data": {
      "text/plain": [
       "Text(0, 0.5, 'P(k)')"
      ]
     },
     "execution_count": 260,
     "metadata": {},
     "output_type": "execute_result"
    },
    {
     "data": {
      "image/png": "[encoded data removed]",
      "text/plain": [
       "<Figure size 720x720 with 1 Axes>"
      ]
     },
     "metadata": {
      "needs_background": "light"
     },
     "output_type": "display_data"
    }
   ],
   "source": [
    "plt.figure(figsize=(10, 10))\n",
    "plt.plot(bins[:-1], hist_norm, \"r*\")\n",
    "plt.loglog()\n",
    "plt.xlabel('Degree')\n",
    "plt.ylabel('P(k)')"
   ]
  },
  {
   "cell_type": "code",
   "execution_count": 155,
   "metadata": {},
   "outputs": [
    {
     "data": {
      "text/plain": [
       "0.0"
      ]
     },
     "execution_count": 155,
     "metadata": {},
     "output_type": "execute_result"
    }
   ],
   "source": [
    "hist_norm[1]"
   ]
  },
  {
   "cell_type": "code",
   "execution_count": 134,
   "metadata": {},
   "outputs": [
    {
     "data": {
      "text/plain": [
       "324"
      ]
     },
     "execution_count": 134,
     "metadata": {},
     "output_type": "execute_result"
    }
   ],
   "source": [
    "max(degree_list)"
   ]
  },
  {
   "cell_type": "code",
   "execution_count": 122,
   "metadata": {},
   "outputs": [
    {
     "data": {
      "text/plain": [
       "array([1.00000000e+00, 1.15247802e+00, 1.32820560e+00, 1.53072776e+00,\n",
       "       1.76413011e+00, 2.03312118e+00, 2.34312749e+00, 2.70040294e+00,\n",
       "       3.11215504e+00, 3.58669029e+00, 4.13358175e+00, 4.76386212e+00,\n",
       "       5.49024641e+00, 6.32738834e+00, 7.29217601e+00, 8.40407261e+00,\n",
       "       9.68550900e+00, 1.11623363e+01, 1.28643473e+01, 1.48258775e+01,\n",
       "       1.70864980e+01, 1.96918135e+01, 2.26943823e+01, 2.61547769e+01,\n",
       "       3.01428057e+01, 3.47389211e+01, 4.00358432e+01, 4.61404295e+01,\n",
       "       5.31758310e+01, 6.12839767e+01, 7.06284364e+01, 8.13977209e+01,\n",
       "       9.38090846e+01, 1.08112908e+02, 1.24597751e+02, 1.43596170e+02,\n",
       "       1.65491431e+02, 1.90725237e+02, 2.19806644e+02, 2.53322327e+02,\n",
       "       2.91948415e+02, 3.36464133e+02, 3.87767520e+02, 4.46893545e+02,\n",
       "       5.15034990e+02, 5.93566508e+02, 6.84072356e+02, 7.88378358e+02,\n",
       "       9.08588733e+02, 1.04712855e+03])"
      ]
     },
     "execution_count": 122,
     "metadata": {},
     "output_type": "execute_result"
    }
   ],
   "source": [
    "np.logspace(start=0, stop=3.02, num=50)"
   ]
  },
  {
   "cell_type": "code",
   "execution_count": 107,
   "metadata": {},
   "outputs": [
    {
     "data": {
      "image/png": "[encoded data removed]",
      "text/plain": [
       "<Figure size 432x288 with 1 Axes>"
      ]
     },
     "metadata": {
      "needs_background": "light"
     },
     "output_type": "display_data"
    }
   ],
   "source": [
    "degree_sequence = sorted([d for d in user_network.degree()], reverse=True)  # degree sequence\n",
    "degreeCount = collections.Counter(degree_sequence)\n",
    "deg, cnt = zip(*degreeCount.items())\n",
    "cs = np.cumsum(np.array(cnt)/user_network.vcount())\n",
    "plt.loglog(deg, cs, 'bo')\n",
    "plt.title(\"Cumulative Distribution plot\")\n",
    "plt.ylabel(\"Sample with value > Degree\")\n",
    "plt.xlabel(\"Degree\")\n",
    "plt.show()"
   ]
  },
  {
   "cell_type": "code",
   "execution_count": 14,
   "metadata": {},
   "outputs": [
    {
     "name": "stdout",
     "output_type": "stream",
     "text": [
      "1660\n",
      "Calculating best minimal value for power law fit\n",
      "xmin progress: 98%\r"
     ]
    },
    {
     "data": {
      "text/plain": [
       "<Figure size 432x288 with 0 Axes>"
      ]
     },
     "metadata": {},
     "output_type": "display_data"
    },
    {
     "data": {
      "image/png": "[encoded data removed]",
      "text/plain": [
       "<Figure size 720x720 with 1 Axes>"
      ]
     },
     "metadata": {
      "needs_background": "light"
     },
     "output_type": "display_data"
    },
    {
     "name": "stdout",
     "output_type": "stream",
     "text": [
      "\n"
     ]
    }
   ],
   "source": [
    "max_degree = max(user_network.degree())\n",
    "print(max_degree)\n",
    "\n",
    "# Crear una lista donde se almacena\n",
    "degree_list = np.zeros(max_degree, dtype=int)\n",
    "\n",
    "for node in user_network.vs():\n",
    "    #print(node.degree())\n",
    "    degree_list[node.degree()-1] = (degree_list[node.degree()-1] + 1)\n",
    "    \n",
    "\n",
    "#distri_grados = [i/user_network.vcount() for i in user_network.degree()]\n",
    "#distri_grados = [i for i in user_network.degree()]\n",
    "plt.clf()\n",
    "plt.figure(figsize=(10,10))\n",
    "#plt.plot(range(max_degree), degree_list, \"b.\")\n",
    "fit = plaw.Fit(np.array(degree_list)+1, fit_method='KS')#, xmin=xmin, xmax=max(degree)-xmin,discrete=True)\n",
    "fit.power_law.plot_pdf(color='r',linestyle='--',label='fit ccdf')\n",
    "fit.plot_ccdf()\n",
    "#plt.yscale(\"log\")\n",
    "#plt.xscale(\"log\")\n",
    "plt.show()\n",
    "print()"
   ]
  },
  {
   "cell_type": "code",
   "execution_count": null,
   "metadata": {},
   "outputs": [],
   "source": [
    "max_degree = max(user_network.degree())\n",
    "print(max_degree)\n",
    "\n",
    "# Crear una lista donde se almacena\n",
    "degree_list = np.zeros(max_degree, dtype=int)\n",
    "\n",
    "for node in user_network.vs():\n",
    "    #print(node.degree())\n",
    "    degree_list[node.degree()-1] = (degree_list[node.degree()-1] + 1)\n",
    "    \n",
    "\n",
    "#distri_grados = [i/user_network.vcount() for i in user_network.degree()]\n",
    "#distri_grados = [i for i in user_network.degree()]\n",
    "plt.clf()\n",
    "plt.figure(figsize=(10,10))\n",
    "plt.plot(range(max_degree), degree_list, \"b.\")\n",
    "#fit = powerlaw.Fit(np.array(degree_list)+1, fit_method='KS')#, xmin=xmin, xmax=max(degree)-xmin,discrete=True)\n",
    "#fit.power_law.plot_pdf(color='r',linestyle='--',label='fit ccdf')\n",
    "#fit.plot_ccdf()\n",
    "#plt.yscale(\"log\")\n",
    "#plt.xscale(\"log\")\n",
    "plt.show()\n",
    "print()"
   ]
  },
  {
   "cell_type": "code",
   "execution_count": 66,
   "metadata": {},
   "outputs": [
    {
     "name": "stdout",
     "output_type": "stream",
     "text": [
      "1000\n"
     ]
    },
    {
     "data": {
      "text/plain": [
       "<Figure size 432x288 with 0 Axes>"
      ]
     },
     "metadata": {},
     "output_type": "display_data"
    },
    {
     "data": {
      "image/png": "[encoded data removed]",
      "text/plain": [
       "<Figure size 720x720 with 1 Axes>"
      ]
     },
     "metadata": {
      "needs_background": "light"
     },
     "output_type": "display_data"
    },
    {
     "name": "stdout",
     "output_type": "stream",
     "text": [
      "\n"
     ]
    }
   ],
   "source": [
    "arreglo_test = (np.array(user_network.es['weight'])*1000).astype(int)\n",
    "max_peso = max(arreglo_test)\n",
    "print(max_peso)\n",
    "\n",
    "# Crear una lista donde se almacena\n",
    "arreglo_test_ = np.zeros(max_peso, dtype=int)\n",
    "\n",
    "for node in arreglo_test:\n",
    "    #print(node.degree())\n",
    "    arreglo_test_[node-1] = (arreglo_test_[node-1] + 1)\n",
    "\n",
    "plt.clf()\n",
    "plt.figure(figsize=(10,10))\n",
    "plt.plot(arreglo_test_)\n",
    "#fit = powerlaw.Fit(np.array(degree_list)+1, fit_method='KS')#, xmin=xmin, xmax=max(degree)-xmin,discrete=True)\n",
    "#fit.power_law.plot_pdf(color='r',linestyle='--',label='fit ccdf')\n",
    "#fit.plot_ccdf()\n",
    "#plt.yscale(\"log\")\n",
    "#plt.xscale(\"log\")\n",
    "plt.show()\n",
    "print()"
   ]
  },
  {
   "cell_type": "code",
   "execution_count": null,
   "metadata": {},
   "outputs": [],
   "source": [
    "len(arreglo_test)"
   ]
  },
  {
   "cell_type": "code",
   "execution_count": 166,
   "metadata": {},
   "outputs": [
    {
     "name": "stdout",
     "output_type": "stream",
     "text": [
      "P6: Scale-free distribution p(k) = ∼k^{−α}.\n"
     ]
    },
    {
     "data": {
      "image/png": "[encoded data removed]",
      "text/plain": [
       "<Figure size 720x720 with 1 Axes>"
      ]
     },
     "metadata": {
      "needs_background": "light"
     },
     "output_type": "display_data"
    },
    {
     "name": "stdout",
     "output_type": "stream",
     "text": [
      "\n"
     ]
    }
   ],
   "source": [
    "##### P6: Scale-free distribution p(k) = ∼k−α. #####\n",
    "print(\"P6: Scale-free distribution p(k) = ∼k^{−α}.\")\n",
    "distri_grados = df_train_k_pos.RESOURCE.value_counts()\n",
    "plt.figure(figsize=(10,10))\n",
    "plt.plot(sorted(distri_grados,reverse=True))\n",
    "#x1, y1 = [100, 700], [0.13, 0.015]\n",
    "#x2, y2 = [1, 231], [3, 2]\n",
    "#plt.plot(x1, y1, marker = 'o')\n",
    "plt.yscale(\"log\")\n",
    "plt.xscale(\"log\")\n",
    "plt.show()\n",
    "print()"
   ]
  },
  {
   "cell_type": "code",
   "execution_count": 15,
   "metadata": {},
   "outputs": [
    {
     "name": "stdout",
     "output_type": "stream",
     "text": [
      "Calculating best minimal value for power law fit\n",
      "xmin progress: 98%\r"
     ]
    },
    {
     "data": {
      "text/plain": [
       "<Figure size 432x288 with 0 Axes>"
      ]
     },
     "metadata": {},
     "output_type": "display_data"
    },
    {
     "data": {
      "image/png": "[encoded data removed]",
      "text/plain": [
       "<Figure size 720x720 with 1 Axes>"
      ]
     },
     "metadata": {
      "needs_background": "light"
     },
     "output_type": "display_data"
    },
    {
     "name": "stdout",
     "output_type": "stream",
     "text": [
      "\n"
     ]
    }
   ],
   "source": [
    "distri_grados = df_train_k_pos.RESOURCE.value_counts()\n",
    "\n",
    "#distri_grados = [i/user_network.vcount() for i in user_network.degree()]\n",
    "#distri_grados = [i for i in user_network.degree()]\n",
    "plt.clf()\n",
    "plt.figure(figsize=(10,10))\n",
    "#plt.plot(range(max_degree), degree_list, \"b.\")\n",
    "fit = plaw.Fit(np.array(distri_grados)+1, fit_method='KS')#, xmin=xmin, xmax=max(degree)-xmin,discrete=True)\n",
    "fit.power_law.plot_pdf(color='r',linestyle='--',label='fit ccdf')\n",
    "fit.plot_ccdf()\n",
    "#plt.yscale(\"log\")\n",
    "#plt.xscale(\"log\")\n",
    "plt.show()\n",
    "print()"
   ]
  },
  {
   "cell_type": "code",
   "execution_count": 68,
   "metadata": {},
   "outputs": [
    {
     "ename": "TypeError",
     "evalue": "'<' not supported between instances of 'str' and 'float'",
     "output_type": "error",
     "traceback": [
      "\u001b[0;31m---------------------------------------------------------------------------\u001b[0m",
      "\u001b[0;31mTypeError\u001b[0m                                 Traceback (most recent call last)",
      "\u001b[0;32m/tmp/ipykernel_9985/2281877819.py\u001b[0m in \u001b[0;36m<module>\u001b[0;34m\u001b[0m\n\u001b[1;32m      1\u001b[0m \u001b[0muser_network_test\u001b[0m \u001b[0;34m=\u001b[0m \u001b[0muser_network\u001b[0m\u001b[0;34m.\u001b[0m\u001b[0mcopy\u001b[0m\u001b[0;34m(\u001b[0m\u001b[0;34m)\u001b[0m\u001b[0;34m\u001b[0m\u001b[0;34m\u001b[0m\u001b[0m\n\u001b[0;32m----> 2\u001b[0;31m \u001b[0muser_network_test\u001b[0m\u001b[0;34m.\u001b[0m\u001b[0mes\u001b[0m\u001b[0;34m.\u001b[0m\u001b[0mselect\u001b[0m\u001b[0;34m(\u001b[0m\u001b[0;34m\"weight\"\u001b[0m\u001b[0;34m<\u001b[0m\u001b[0;36m0.4\u001b[0m\u001b[0;34m)\u001b[0m\u001b[0;34m\u001b[0m\u001b[0;34m\u001b[0m\u001b[0m\n\u001b[0m",
      "\u001b[0;31mTypeError\u001b[0m: '<' not supported between instances of 'str' and 'float'"
     ]
    }
   ],
   "source": [
    "user_network_test = user_network.copy()\n",
    "user_network_test.es.select(\"weight\"<0.4)"
   ]
  },
  {
   "cell_type": "code",
   "execution_count": 73,
   "metadata": {},
   "outputs": [],
   "source": [
    "user_network_test.es.select(weight_lt=0.4).delete()"
   ]
  },
  {
   "cell_type": "code",
   "execution_count": 74,
   "metadata": {},
   "outputs": [
    {
     "data": {
      "text/plain": [
       "'IGRAPH UNW- 8250 76677 -- \\n+ attr: name (v), weight (e)'"
      ]
     },
     "execution_count": 74,
     "metadata": {},
     "output_type": "execute_result"
    }
   ],
   "source": [
    "user_network_test.summary()"
   ]
  },
  {
   "cell_type": "code",
   "execution_count": 75,
   "metadata": {},
   "outputs": [
    {
     "name": "stdout",
     "output_type": "stream",
     "text": [
      "238\n"
     ]
    },
    {
     "data": {
      "text/plain": [
       "<Figure size 432x288 with 0 Axes>"
      ]
     },
     "metadata": {},
     "output_type": "display_data"
    },
    {
     "data": {
      "image/png": "[encoded data removed]",
      "text/plain": [
       "<Figure size 720x720 with 1 Axes>"
      ]
     },
     "metadata": {
      "needs_background": "light"
     },
     "output_type": "display_data"
    },
    {
     "name": "stdout",
     "output_type": "stream",
     "text": [
      "\n"
     ]
    }
   ],
   "source": [
    "max_degree = max(user_network_test.degree())\n",
    "print(max_degree)\n",
    "\n",
    "# Crear una lista donde se almacena\n",
    "degree_list = np.zeros(max_degree, dtype=int)\n",
    "\n",
    "for node in user_network_test.vs():\n",
    "    #print(node.degree())\n",
    "    degree_list[node.degree()-1] = (degree_list[node.degree()-1] + 1)\n",
    "    \n",
    "\n",
    "#distri_grados = [i/user_network.vcount() for i in user_network.degree()]\n",
    "#distri_grados = [i for i in user_network.degree()]\n",
    "plt.clf()\n",
    "plt.figure(figsize=(10,10))\n",
    "plt.plot(range(max_degree), degree_list, \"b.\")\n",
    "#fit = powerlaw.Fit(np.array(degree_list)+1, fit_method='KS')#, xmin=xmin, xmax=max(degree)-xmin,discrete=True)\n",
    "#fit.power_law.plot_pdf(color='r',linestyle='--',label='fit ccdf')\n",
    "#fit.plot_ccdf()\n",
    "#plt.yscale(\"log\")\n",
    "#plt.xscale(\"log\")\n",
    "plt.show()\n",
    "print()"
   ]
  }
 ],
 "metadata": {
  "kernelspec": {
   "display_name": "tesis_env",
   "language": "python",
   "name": "python3"
  },
  "language_info": {
   "codemirror_mode": {
    "name": "ipython",
    "version": 3
   },
   "file_extension": ".py",
   "mimetype": "text/x-python",
   "name": "python",
   "nbconvert_exporter": "python",
   "pygments_lexer": "ipython3",
   "version": "3.7.13"
  },
  "orig_nbformat": 4,
  "vscode": {
   "interpreter": {
    "hash": "deec884ae07beaa7e970d39d84b9343805b80aeba4e343861fb4097b62dc7004"
   }
  }
 },
 "nbformat": 4,
 "nbformat_minor": 2
}
