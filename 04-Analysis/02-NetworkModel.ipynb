{
 "cells": [
  {
   "attachments": {},
   "cell_type": "markdown",
   "metadata": {},
   "source": [
    "# Network Model - Analysis"
   ]
  },
  {
   "cell_type": "code",
   "execution_count": 22,
   "metadata": {},
   "outputs": [],
   "source": [
    "# Libraries\n",
    "import numpy as np\n",
    "import pandas as pd\n",
    "import igraph as ig\n",
    "import networkx as nx\n",
    "from sklearn.model_selection import StratifiedKFold, StratifiedShuffleSplit\n",
    "from auxiliar_funcs import *"
   ]
  },
  {
   "attachments": {},
   "cell_type": "markdown",
   "metadata": {},
   "source": [
    "### Load Data"
   ]
  },
  {
   "cell_type": "code",
   "execution_count": 16,
   "metadata": {},
   "outputs": [
    {
     "name": "stdout",
     "output_type": "stream",
     "text": [
      "Data loaded!\n",
      "<class 'pandas.core.frame.DataFrame'>\n",
      "RangeIndex: 32769 entries, 0 to 32768\n",
      "Data columns (total 10 columns):\n",
      " #   Column            Non-Null Count  Dtype\n",
      "---  ------            --------------  -----\n",
      " 0   ACTION            32769 non-null  int64\n",
      " 1   RESOURCE          32769 non-null  int64\n",
      " 2   MGR_ID            32769 non-null  int64\n",
      " 3   ROLE_ROLLUP_1     32769 non-null  int64\n",
      " 4   ROLE_ROLLUP_2     32769 non-null  int64\n",
      " 5   ROLE_DEPTNAME     32769 non-null  int64\n",
      " 6   ROLE_TITLE        32769 non-null  int64\n",
      " 7   ROLE_FAMILY_DESC  32769 non-null  int64\n",
      " 8   ROLE_FAMILY       32769 non-null  int64\n",
      " 9   ROLE_CODE         32769 non-null  int64\n",
      "dtypes: int64(10)\n",
      "memory usage: 2.5 MB\n",
      "None\n",
      "|U|:  9561\n",
      "|R|:  7518\n",
      "|U| : 9561\n",
      "|L'| : 32769  = |L| : 32769\n",
      "\n",
      "Num positive entries: 30872 94.21%\n",
      "Num negative entries: 1897 5.789%\n",
      "Done!\n"
     ]
    }
   ],
   "source": [
    "# LOAD DATA\n",
    "url_file = \"../00-Data/train.csv\"\n",
    "df_data = pd.read_csv(url_file)\n",
    "print(\"Data loaded!\")\n",
    "print(df_data.info())\n",
    "\n",
    "# User attributes\n",
    "user_attrs = df_data.columns[2:]\n",
    "\n",
    "# Number of users\n",
    "n_users = len(df_data[user_attrs].drop_duplicates())\n",
    "n_rsrcs = len(df_data.RESOURCE.drop_duplicates())\n",
    "print(\"|U|: \", n_users) # Unique users\n",
    "print(\"|R|: \", n_rsrcs) # Unique resources\n",
    "\n",
    "# Create an index for every users\n",
    "user_dict = {}\n",
    "for u_idx, u_attr in enumerate(df_data[user_attrs].drop_duplicates().values):\n",
    "    idx = \"999\" + str(u_idx) + \"999\"\n",
    "    user_dict[int(idx)] = list(u_attr)\n",
    "print(\"|U| :\", len(user_dict))\n",
    "\n",
    "# Create a new column to add in a DF\n",
    "list_usr_idx = []\n",
    "key_list = list(user_dict.keys()) # list out keys and values separately\n",
    "val_list = list(user_dict.values())\n",
    "for log in df_data[user_attrs].values:\n",
    "    key_idx = val_list.index(list(log))\n",
    "    list_usr_idx.append(key_list[key_idx])\n",
    "print(\"|L'| :\", len(list_usr_idx), \" = |L| :\", len(df_data))\n",
    "df_data[\"USERID\"] = list_usr_idx\n",
    "\n",
    "print()\n",
    "df_pos_entries = df_data[df_data.ACTION==1]\n",
    "df_neg_entries = df_data[df_data.ACTION==0]\n",
    "print('Num positive entries:',len(df_pos_entries), \n",
    "    \"{:.4}%\".format((len(df_pos_entries)/len(df_data))*100))\n",
    "print('Num negative entries:',len(df_neg_entries),\n",
    "    \"{:.4}%\".format((len(df_neg_entries)/len(df_data))*100))\n",
    "\n",
    "##### ***** Cross-Validation Configuration ***** #####\n",
    "k = 10\n",
    "test_size = 0.2\n",
    "kfold = StratifiedShuffleSplit(n_splits=k, test_size=test_size, random_state=1)\n",
    "\n",
    "data_partition = kfold.split(df_data, df_data.ACTION)\n",
    "data_corpus = [] # Lista donde se almacenan los k fols\n",
    "\n",
    "for train_data, test_data in data_partition:        \n",
    "    X_train, X_test = df_data.iloc[train_data], df_data.iloc[test_data]\n",
    "    data_corpus.append([X_train, X_test])\n",
    "\n",
    "print(\"Done!\")"
   ]
  },
  {
   "attachments": {},
   "cell_type": "markdown",
   "metadata": {},
   "source": [
    "### Data Pre-processing"
   ]
  },
  {
   "cell_type": "code",
   "execution_count": 17,
   "metadata": {},
   "outputs": [
    {
     "name": "stdout",
     "output_type": "stream",
     "text": [
      "# Train access request = 26215  %: 80.00\n",
      "# Test access request = 6554  %: 20.00\n",
      "# Total = 32769\n",
      "\n",
      "TASK 1: Done!\n",
      "\n",
      "TASK 2: Done!\n",
      "\n",
      "TASK 3: Drop duplicates access requests\n",
      "\n",
      "# Solicitudes Train (+): 24697  %: 94.21\n",
      "# Solicitudes Train (-): 1518  %: 5.79\n",
      "# Solicitudes Test (+): 6175  %: 94.22\n",
      "# Solicitudes Test (-): 379  %: 5.78\n",
      "# Train Users (+):  8576\n",
      "# Train Resrc (+):  6414\n",
      "# Train Users (-):  830\n",
      "# Train Resrc (-):  950\n",
      "# Test Users (+):  4087\n",
      "# Test Resrc (+):  2748\n",
      "# Test Users (-):  301\n",
      "# Test Resrc (-):  316\n",
      "\n"
     ]
    }
   ],
   "source": [
    "##### ***** Control Variables ***** #####\n",
    "id_kfold = 0\n",
    "task4 = False\n",
    "#########################################\n",
    "\n",
    "df_train_k, df_test_k = data_corpus[id_kfold][0], data_corpus[id_kfold][1]\n",
    "print(\"# Train access request =\", len(df_train_k), \n",
    "      \" %: {:.2f}\".format((len(df_train_k)/(len(df_train_k)+len(df_test_k)))*100))\n",
    "print(\"# Test access request =\", len(df_test_k),\n",
    "      \" %: {:.2f}\".format((len(df_test_k)/(len(df_train_k)+len(df_test_k)))*100))\n",
    "print(\"# Total =\", len(df_train_k)+len(df_test_k))\n",
    "print()\n",
    "\n",
    "##### ***** Task 1: Null and uknwokn values ***** #####\n",
    "print(\"TASK 1: Done!\"); print() # NA\n",
    "\n",
    "\n",
    "##### ***** TASK 2: convert continuous values to categorical values ***** #####\n",
    "print(\"TASK 2: Done!\"); print() # NA \n",
    "\n",
    "##### ***** TASK 3: Drop duplicates access requests ***** #####\n",
    "print(\"TASK 3: Drop duplicates access requests\")\n",
    "df_train_k_pos = df_train_k[df_train_k.ACTION==1]   # Train Pos\n",
    "df_train_k_neg = df_train_k[df_train_k.ACTION==0]   # Train Neg\n",
    "df_test_k_pos = df_test_k[df_test_k.ACTION==1]      # Test Pos\n",
    "df_test_k_neg = df_test_k[df_test_k.ACTION==0]      # Test Neg\n",
    "df_train_k_pos = df_train_k_pos[df_train_k_pos.columns[1:]].drop_duplicates()\n",
    "df_train_k_neg = df_train_k_neg[df_train_k_neg.columns[1:]].drop_duplicates()\n",
    "df_test_k_pos = df_test_k_pos[df_test_k_pos.columns[1:]].drop_duplicates()\n",
    "df_test_k_neg = df_test_k_neg[df_test_k_neg.columns[1:]].drop_duplicates()\n",
    "print()\n",
    "\n",
    "print(\"# Solicitudes Train (+):\", len(df_train_k_pos), \" %: {:.2f}\".format(\n",
    "      (len(df_train_k_pos)/len(df_train_k))*100))\n",
    "print(\"# Solicitudes Train (-):\", len(df_train_k_neg), \" %: {:.2f}\".format(\n",
    "      (len(df_train_k_neg)/len(df_train_k))*100))\n",
    "print(\"# Solicitudes Test (+):\", len(df_test_k_pos), \" %: {:.2f}\".format(\n",
    "      (len(df_test_k_pos)/len(df_test_k))*100))\n",
    "print(\"# Solicitudes Test (-):\", len(df_test_k_neg), \" %: {:.2f}\".format(\n",
    "      (len(df_test_k_neg)/len(df_test_k))*100))\n",
    "print(\"# Train Users (+): \", len(df_train_k_pos.USERID.drop_duplicates()))\n",
    "print(\"# Train Resrc (+): \", len(df_train_k_pos.RESOURCE.drop_duplicates()))\n",
    "print(\"# Train Users (-): \", len(df_train_k_neg.USERID.drop_duplicates()))\n",
    "print(\"# Train Resrc (-): \", len(df_train_k_neg.RESOURCE.drop_duplicates()))\n",
    "print(\"# Test Users (+): \", len(df_test_k_pos.USERID.drop_duplicates()))\n",
    "print(\"# Test Resrc (+): \", len(df_test_k_pos.RESOURCE.drop_duplicates()))\n",
    "print(\"# Test Users (-): \", len(df_test_k_neg.USERID.drop_duplicates()))\n",
    "print(\"# Test Resrc (-): \", len(df_test_k_neg.RESOURCE.drop_duplicates())); print()\n",
    "\n",
    "if task4:\n",
    "    # Filter resources\n",
    "      n1 = 0\n",
    "      n2 = 149\n",
    "      top_list = df_train_k_pos.RESOURCE.value_counts()[:len(df_train_k_pos.RESOURCE.drop_duplicates())].index.tolist()\n",
    "      # Filter the interval between n1 and n2\n",
    "      top_list = top_list[n1:n2+1]\n",
    "      print('#Filtered resources:', len(top_list))\n",
    "      boolean_series = df_train_k_pos.RESOURCE.isin(top_list)\n",
    "      df_train_k_pos = df_train_k_pos[boolean_series]\n",
    "      bolean_series = df_train_k_neg.RESOURCE.isin(top_list)\n",
    "      df_train_k_neg = df_train_k_neg[bolean_series]\n",
    "      print(\"Done!\")\n",
    "      "
   ]
  },
  {
   "attachments": {},
   "cell_type": "markdown",
   "metadata": {},
   "source": [
    "### Network Modelling"
   ]
  },
  {
   "cell_type": "code",
   "execution_count": 20,
   "metadata": {},
   "outputs": [],
   "source": [
    "def build_network_model(data, usr_id_name, res_id_name, file_path=None):\n",
    "    \"\"\"\n",
    "    Builds the Access Requests Bipartite Network from Access log.\n",
    "\n",
    "    Args:\n",
    "        data (pandas dataframe): The Access Log.\n",
    "        usr_id_name (str): The name of the ID users column in the Access Log\n",
    "        res_id_name (str): The name of the ID resources column in the Access Log\n",
    "    \n",
    "    Returns:\n",
    "        Graph (iGraph): The Access Requests Bipartite Network.\n",
    "\n",
    "    Raises:\n",
    "        TypeError: If a network is not Bipartite.\n",
    "    \"\"\"\n",
    "    \n",
    "    list_of_edges = []\n",
    "    bi_network = nx.Graph() # NetworkX Graph object\n",
    "\n",
    "    for usr_idx, rsr_idx in data[[usr_id_name, res_id_name]].values:\n",
    "        list_of_edges.append((int(usr_idx), int(rsr_idx))) # Tuple of edges\n",
    "    bi_network.add_edges_from(list_of_edges) # Build Network with edges\n",
    "\n",
    "    # Change networkX object to iGraph object\n",
    "    bi_network = ig.Graph.from_networkx(bi_network)\n",
    "    bi_network.vs['name'] = bi_network.vs[\"_nx_name\"] # Clean name column\n",
    "    del bi_network.vs[\"_nx_name\"] # Remove uncleaned name column\n",
    "\n",
    "    print(bi_network.summary())\n",
    "    print(bi_network.vs())\n",
    "\n",
    "    if not bi_network.is_bipartite():\n",
    "        raise TypeError(\"The ARBN is not bipartite\")\n",
    "\n",
    "    ### Add type of node (user or resource)\n",
    "    list_of_resources_in_data = list(data[res_id_name])\n",
    "    list_node_type = []\n",
    "    for node in bi_network.vs():\n",
    "        if node['name'] in list_of_resources_in_data:\n",
    "            list_node_type.append(1) # A resource\n",
    "        else:\n",
    "            list_node_type.append(0) # An user\n",
    "    bi_network.vs[\"typen\"] = list_node_type\n",
    "    ### End node type\n",
    "\n",
    "    if not file_path == None: # Create a file\n",
    "        ig.write(bi_network, file_path)\n",
    "\n",
    "    print(\"ARBN builded!\")\n",
    "    print(bi_network.summary())\n",
    "    print(\"|U-Nodes| =\", len(bi_network.vs.select(typen=0)))\n",
    "    print(\"|R-Nodes| =\", len(bi_network.vs.select(typen=1)))\n",
    "\n",
    "    return bi_network\n",
    "    "
   ]
  },
  {
   "cell_type": "code",
   "execution_count": 21,
   "metadata": {},
   "outputs": [
    {
     "name": "stdout",
     "output_type": "stream",
     "text": [
      "IGRAPH UN-- 14990 24697 -- \n",
      "+ attr: name (v)\n",
      "<igraph.VertexSeq object at 0x0000018264C578B8>\n",
      "ARBN builded!\n",
      "IGRAPH UN-- 14990 24697 -- \n",
      "+ attr: name (v), typen (v)\n",
      "|U-Nodes| = 8576\n",
      "|R-Nodes| = 6414\n"
     ]
    }
   ],
   "source": [
    "bip_network = build_network_model(df_train_k_pos, 'USERID', 'RESOURCE')"
   ]
  },
  {
   "attachments": {},
   "cell_type": "markdown",
   "metadata": {},
   "source": [
    "### User network"
   ]
  },
  {
   "cell_type": "code",
   "execution_count": 127,
   "metadata": {},
   "outputs": [],
   "source": [
    "def get_edge_weight(i_node, j_node):\n",
    "    \"\"\"\n",
    "    Compute the weight of an edge between i and j nodes.\n",
    "\n",
    "    Args:\n",
    "        i_node (networkX node): i node.\n",
    "        j_node (networkX node): j node.\n",
    "    \n",
    "    Returns:\n",
    "        weight (float): The weight between nodes.\n",
    "\n",
    "    Raises:\n",
    "        TypeError: if there are not an intersection\n",
    "    \"\"\"\n",
    "    neighs_i = set(i_node.neighbors())\n",
    "    neighs_j = set(j_node.neighbors())\n",
    "\n",
    "    insersection_neighbors = neighs_i.intersection(neighs_j)\n",
    "    \n",
    "    weight = (len(insersection_neighbors)*len(insersection_neighbors)) / (len(neighs_i)*len(neighs_j))\n",
    "\n",
    "    return weight\n",
    "\n",
    "\n",
    "def bipartite_projection(biparte_network, node_type=0):\n",
    "    \"\"\"\n",
    "    Generate a monopartite network from bipartite network.\n",
    "\n",
    "    Args:\n",
    "        bipartite_network (igraph Graph): The bipartie network.\n",
    "        node_type (int): The set of nodes of the monopartite network.\n",
    "\n",
    "    Returns:\n",
    "        Graph (iGraph): The monopartite (projected) network.\n",
    "\n",
    "    Raises:\n",
    "        Some\n",
    "    \"\"\"\n",
    "\n",
    "    #Check if the bipartite network is a bipartite network:\n",
    "    if not biparte_network.is_bipartite():\n",
    "        raise TypeError(\"The ARBN is not bipartite\")\n",
    "\n",
    "    # networkX object (more easy to buil)\n",
    "    g = nx.Graph()\n",
    "\n",
    "    # All opposite node set\n",
    "    opposite_nodes = biparte_network.vs.select(typen=1)\n",
    "\n",
    "    # Check for every node the same type\n",
    "    for X_node in opposite_nodes:\n",
    "        # Select all neighbors of the X_node\n",
    "        neighbordhood = X_node.neighbors()\n",
    "\n",
    "        for Y_node_i in neighbordhood:\n",
    "            for Y_node_j in neighbordhood:\n",
    "                # Ceck if both nodes are the same\n",
    "                if Y_node_i['name'] != Y_node_j['name']:\n",
    "                    # If there is no an edge generate\n",
    "                    if not g.has_edge(Y_node_i['name'], Y_node_j['name']):\n",
    "                        weight_ = get_edge_weight(Y_node_i, Y_node_j)\n",
    "                        #print(\"Peso: \", Y_node_i['name'], \"-\", Y_node_j['name'], \" => \", weight_)\n",
    "                        g.add_edge(Y_node_i[\"name\"], Y_node_j[\"name\"],\n",
    "                                   weight=weight_)                                 \n",
    "\n",
    "    # Convert from networkX graph to igraph graph\n",
    "    g = ig.Graph.from_networkx(g)\n",
    "    g.vs[\"name\"] = g.vs[\"_nx_name\"]\n",
    "    del g.vs[\"_nx_name\"]\n",
    "    \n",
    "    return g\n"
   ]
  },
  {
   "cell_type": "code",
   "execution_count": 128,
   "metadata": {},
   "outputs": [
    {
     "name": "stdout",
     "output_type": "stream",
     "text": [
      "IGRAPH UNW- 8250 772907 -- \n",
      "+ attr: name (v), weight (e)\n"
     ]
    }
   ],
   "source": [
    "user_network = bipartite_projection(bip_network, 0)\n",
    "print(user_network.summary())\n",
    "ig.write(user_network, \"graphs/amz_user_network.gml\")"
   ]
  },
  {
   "attachments": {},
   "cell_type": "markdown",
   "metadata": {},
   "source": [
    "### Network Analysis"
   ]
  },
  {
   "cell_type": "code",
   "execution_count": 134,
   "metadata": {},
   "outputs": [
    {
     "name": "stdout",
     "output_type": "stream",
     "text": [
      "Density: 0.022714437379002778\n",
      "Avg. degree 187.37139393939393\n"
     ]
    },
    {
     "ename": "TypeError",
     "evalue": "function missing required argument 'n' (pos 1)",
     "output_type": "error",
     "traceback": [
      "\u001b[1;31m---------------------------------------------------------------------------\u001b[0m",
      "\u001b[1;31mTypeError\u001b[0m                                 Traceback (most recent call last)",
      "\u001b[1;32m~\\AppData\\Local\\Temp\\ipykernel_13400\\183011183.py\u001b[0m in \u001b[0;36m<module>\u001b[1;34m\u001b[0m\n\u001b[0;32m      5\u001b[0m \u001b[0mprint\u001b[0m\u001b[1;33m(\u001b[0m\u001b[1;34m\"Avg. degree\"\u001b[0m\u001b[1;33m,\u001b[0m \u001b[0mavg_degree\u001b[0m\u001b[1;33m)\u001b[0m\u001b[1;33m\u001b[0m\u001b[1;33m\u001b[0m\u001b[0m\n\u001b[0;32m      6\u001b[0m \u001b[1;33m\u001b[0m\u001b[0m\n\u001b[1;32m----> 7\u001b[1;33m \u001b[0muser_network\u001b[0m\u001b[1;33m.\u001b[0m\u001b[0mStatic_Power_Law\u001b[0m\u001b[1;33m(\u001b[0m\u001b[1;33m)\u001b[0m\u001b[1;33m\u001b[0m\u001b[1;33m\u001b[0m\u001b[0m\n\u001b[0m",
      "\u001b[1;31mTypeError\u001b[0m: function missing required argument 'n' (pos 1)"
     ]
    }
   ],
   "source": [
    "density = user_network.density()\n",
    "print(\"Density:\", density)\n",
    "\n",
    "avg_degree = sum(user_network.degree()) / user_network.vcount()\n",
    "print(\"Avg. degree\", avg_degree)\n"
   ]
  },
  {
   "cell_type": "code",
   "execution_count": 173,
   "metadata": {},
   "outputs": [
    {
     "name": "stdout",
     "output_type": "stream",
     "text": [
      "P6: Scale-free distribution p(k) = ∼k^{−α}.\n"
     ]
    },
    {
     "data": {
      "image/png": "[encoded data removed]",
      "text/plain": [
       "<Figure size 720x720 with 1 Axes>"
      ]
     },
     "metadata": {
      "needs_background": "light"
     },
     "output_type": "display_data"
    },
    {
     "name": "stdout",
     "output_type": "stream",
     "text": [
      "\n"
     ]
    }
   ],
   "source": [
    "##### P6: Scale-free distribution p(k) = ∼k−α. #####\n",
    "print(\"P6: Scale-free distribution p(k) = ∼k^{−α}.\")\n",
    "#distri_grados = [i/user_network.vcount() for i in user_network.degree()]\n",
    "distri_grados = [i for i in user_network.degree()]\n",
    "plt.figure(figsize=(10,10))\n",
    "plt.plot(sorted(distri_grados,reverse=True))\n",
    "#x1, y1 = [100, 700], [0.13, 0.015]\n",
    "#x2, y2 = [1, 231], [3, 2]\n",
    "#plt.plot(x1, y1, marker = 'o')\n",
    "#plt.yscale(\"log\")\n",
    "#plt.xscale(\"log\")\n",
    "plt.show()\n",
    "print()"
   ]
  },
  {
   "cell_type": "code",
   "execution_count": 166,
   "metadata": {},
   "outputs": [
    {
     "name": "stdout",
     "output_type": "stream",
     "text": [
      "P6: Scale-free distribution p(k) = ∼k^{−α}.\n"
     ]
    },
    {
     "data": {
      "image/png": "[encoded data removed]",
      "text/plain": [
       "<Figure size 720x720 with 1 Axes>"
      ]
     },
     "metadata": {
      "needs_background": "light"
     },
     "output_type": "display_data"
    },
    {
     "name": "stdout",
     "output_type": "stream",
     "text": [
      "\n"
     ]
    }
   ],
   "source": [
    "##### P6: Scale-free distribution p(k) = ∼k−α. #####\n",
    "print(\"P6: Scale-free distribution p(k) = ∼k^{−α}.\")\n",
    "distri_grados = df_train_k_pos.RESOURCE.value_counts()\n",
    "plt.figure(figsize=(10,10))\n",
    "plt.plot(sorted(distri_grados,reverse=True))\n",
    "#x1, y1 = [100, 700], [0.13, 0.015]\n",
    "#x2, y2 = [1, 231], [3, 2]\n",
    "#plt.plot(x1, y1, marker = 'o')\n",
    "plt.yscale(\"log\")\n",
    "plt.xscale(\"log\")\n",
    "plt.show()\n",
    "print()"
   ]
  },
  {
   "cell_type": "code",
   "execution_count": 181,
   "metadata": {},
   "outputs": [
    {
     "data": {
      "text/plain": [
       "(array([  10.,   22.,   61.,  110.,  278.,  497.,  738., 1006., 1262.,\n",
       "        1416., 1329., 1170.,  848.,  595.,  346.,  180.,   77.,   39.,\n",
       "          12.,    4.]),\n",
       " array([-342.  , -306.85, -271.7 , -236.55, -201.4 , -166.25, -131.1 ,\n",
       "         -95.95,  -60.8 ,  -25.65,    9.5 ,   44.65,   79.8 ,  114.95,\n",
       "         150.1 ,  185.25,  220.4 ,  255.55,  290.7 ,  325.85,  361.  ]),\n",
       " <BarContainer object of 20 artists>)"
      ]
     },
     "execution_count": 181,
     "metadata": {},
     "output_type": "execute_result"
    },
    {
     "data": {
      "image/png": "[encoded data removed]",
      "text/plain": [
       "<Figure size 432x288 with 1 Axes>"
      ]
     },
     "metadata": {
      "needs_background": "light"
     },
     "output_type": "display_data"
    }
   ],
   "source": [
    "from scipy.stats import norm\n",
    "\n",
    "# Generate 10000 normal random integers with specified mean (loc) and std (scale).\n",
    "draw = norm.ppf(np.random.random(10000), loc=0, scale=100).astype(int)\n",
    "plt.hist(draw, bins=20)"
   ]
  },
  {
   "cell_type": "code",
   "execution_count": 184,
   "metadata": {},
   "outputs": [
    {
     "name": "stdout",
     "output_type": "stream",
     "text": [
      "P6: Scale-free distribution p(k) = ∼k^{−α}.\n"
     ]
    },
    {
     "data": {
      "image/png": "[encoded data removed]",
      "text/plain": [
       "<Figure size 720x720 with 1 Axes>"
      ]
     },
     "metadata": {
      "needs_background": "light"
     },
     "output_type": "display_data"
    },
    {
     "name": "stdout",
     "output_type": "stream",
     "text": [
      "\n"
     ]
    }
   ],
   "source": [
    "##### P6: Scale-free distribution p(k) = ∼k−α. #####\n",
    "print(\"P6: Scale-free distribution p(k) = ∼k^{−α}.\")\n",
    "distri_grados = df_train_k_pos.RESOURCE.value_counts()\n",
    "plt.figure(figsize=(10,10))\n",
    "plt.plot(sorted(sorted(draw),reverse=True))\n",
    "#x1, y1 = [100, 700], [0.13, 0.015]\n",
    "#x2, y2 = [1, 231], [3, 2]\n",
    "#plt.plot(x1, y1, marker = 'o')\n",
    "#plt.yscale(\"log\")\n",
    "#plt.xscale(\"log\")\n",
    "plt.show()\n",
    "print()"
   ]
  }
 ],
 "metadata": {
  "kernelspec": {
   "display_name": "tesis_env",
   "language": "python",
   "name": "python3"
  },
  "language_info": {
   "codemirror_mode": {
    "name": "ipython",
    "version": 3
   },
   "file_extension": ".py",
   "mimetype": "text/x-python",
   "name": "python",
   "nbconvert_exporter": "python",
   "pygments_lexer": "ipython3",
   "version": "3.7.13"
  },
  "orig_nbformat": 4,
  "vscode": {
   "interpreter": {
    "hash": "deec884ae07beaa7e970d39d84b9343805b80aeba4e343861fb4097b62dc7004"
   }
  }
 },
 "nbformat": 4,
 "nbformat_minor": 2
}
