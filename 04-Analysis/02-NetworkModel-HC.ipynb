{
 "cells": [
  {
   "attachments": {},
   "cell_type": "markdown",
   "metadata": {},
   "source": [
    "# Network Model - Analysis"
   ]
  },
  {
   "cell_type": "code",
   "execution_count": 1,
   "metadata": {},
   "outputs": [],
   "source": [
    "# Libraries\n",
    "import numpy as np\n",
    "import pandas as pd\n",
    "import igraph as ig\n",
    "import networkx as nx\n",
    "from sklearn.model_selection import StratifiedKFold, StratifiedShuffleSplit\n",
    "from auxiliar_funcs import *\n",
    "import matplotlib.pyplot as plt\n",
    "#import powerlaw as plaw\n",
    "import collections\n",
    "from math import log2, ceil"
   ]
  },
  {
   "attachments": {},
   "cell_type": "markdown",
   "metadata": {},
   "source": [
    "### Load Data"
   ]
  },
  {
   "cell_type": "code",
   "execution_count": 2,
   "metadata": {},
   "outputs": [
    {
     "name": "stdout",
     "output_type": "stream",
     "text": [
      "Data loaded!\n",
      "<class 'pandas.core.frame.DataFrame'>\n",
      "RangeIndex: 32769 entries, 0 to 32768\n",
      "Data columns (total 10 columns):\n",
      " #   Column            Non-Null Count  Dtype\n",
      "---  ------            --------------  -----\n",
      " 0   ACTION            32769 non-null  int64\n",
      " 1   RESOURCE          32769 non-null  int64\n",
      " 2   MGR_ID            32769 non-null  int64\n",
      " 3   ROLE_ROLLUP_1     32769 non-null  int64\n",
      " 4   ROLE_ROLLUP_2     32769 non-null  int64\n",
      " 5   ROLE_DEPTNAME     32769 non-null  int64\n",
      " 6   ROLE_TITLE        32769 non-null  int64\n",
      " 7   ROLE_FAMILY_DESC  32769 non-null  int64\n",
      " 8   ROLE_FAMILY       32769 non-null  int64\n",
      " 9   ROLE_CODE         32769 non-null  int64\n",
      "dtypes: int64(10)\n",
      "memory usage: 2.5 MB\n",
      "None\n",
      "|U|:  9561\n",
      "|R|:  7518\n",
      "|U| : 9561\n",
      "|L'| : 32769  = |L| : 32769\n",
      "\n",
      "Num positive entries: 30872 94.21%\n",
      "Num negative entries: 1897 5.789%\n",
      "Done!\n"
     ]
    }
   ],
   "source": [
    "# LOAD DATA\n",
    "url_file = \"../00-Data/train.csv\"\n",
    "df_data = pd.read_csv(url_file)\n",
    "print(\"Data loaded!\")\n",
    "print(df_data.info())\n",
    "\n",
    "# User attributes\n",
    "user_attrs = df_data.columns[2:]\n",
    "\n",
    "# Number of users\n",
    "n_users = len(df_data[user_attrs].drop_duplicates())\n",
    "n_rsrcs = len(df_data.RESOURCE.drop_duplicates())\n",
    "print(\"|U|: \", n_users) # Unique users\n",
    "print(\"|R|: \", n_rsrcs) # Unique resources\n",
    "\n",
    "# Create an index for every users\n",
    "user_dict = {}\n",
    "for u_idx, u_attr in enumerate(df_data[user_attrs].drop_duplicates().values):\n",
    "    idx = \"999\" + str(u_idx) + \"999\"\n",
    "    user_dict[int(idx)] = list(u_attr)\n",
    "print(\"|U| :\", len(user_dict))\n",
    "\n",
    "# Create a new column to add in a DF\n",
    "list_usr_idx = []\n",
    "key_list = list(user_dict.keys()) # list out keys and values separately\n",
    "val_list = list(user_dict.values())\n",
    "for log in df_data[user_attrs].values:\n",
    "    key_idx = val_list.index(list(log))\n",
    "    list_usr_idx.append(key_list[key_idx])\n",
    "print(\"|L'| :\", len(list_usr_idx), \" = |L| :\", len(df_data))\n",
    "df_data[\"USERID\"] = list_usr_idx\n",
    "\n",
    "print()\n",
    "df_pos_entries = df_data[df_data.ACTION==1]\n",
    "df_neg_entries = df_data[df_data.ACTION==0]\n",
    "print('Num positive entries:',len(df_pos_entries), \n",
    "    \"{:.4}%\".format((len(df_pos_entries)/len(df_data))*100))\n",
    "print('Num negative entries:',len(df_neg_entries),\n",
    "    \"{:.4}%\".format((len(df_neg_entries)/len(df_data))*100))\n",
    "\n",
    "##### ***** Cross-Validation Configuration ***** #####\n",
    "k = 10\n",
    "test_size = 0.2\n",
    "kfold = StratifiedShuffleSplit(n_splits=k, test_size=test_size, random_state=1)\n",
    "\n",
    "data_partition = kfold.split(df_data, df_data.ACTION)\n",
    "data_corpus = [] # Lista donde se almacenan los k fols\n",
    "\n",
    "for train_data, test_data in data_partition:        \n",
    "    X_train, X_test = df_data.iloc[train_data], df_data.iloc[test_data]\n",
    "    data_corpus.append([X_train, X_test])\n",
    "\n",
    "print(\"Done!\")"
   ]
  },
  {
   "attachments": {},
   "cell_type": "markdown",
   "metadata": {},
   "source": [
    "### Data Pre-processing"
   ]
  },
  {
   "cell_type": "code",
   "execution_count": 23,
   "metadata": {},
   "outputs": [
    {
     "name": "stdout",
     "output_type": "stream",
     "text": [
      "# Train access request = 26215  %: 80.00\n",
      "# Test access request = 6554  %: 20.00\n",
      "# Total = 32769\n",
      "\n",
      "TASK 1: Done!\n",
      "\n",
      "TASK 2: Done!\n",
      "\n",
      "TASK 3: Drop duplicates access requests\n",
      "\n",
      "# Solicitudes Train (+): 24697  %: 94.21\n",
      "# Solicitudes Train (-): 1518  %: 5.79\n",
      "# Solicitudes Test (+): 6175  %: 94.22\n",
      "# Solicitudes Test (-): 379  %: 5.78\n",
      "# Train Users (+):  8548\n",
      "# Train Resrc (+):  6430\n",
      "# Train Users (-):  819\n",
      "# Train Resrc (-):  977\n",
      "# Test Users (+):  4060\n",
      "# Test Resrc (+):  2767\n",
      "# Test Users (-):  295\n",
      "# Test Resrc (-):  284\n",
      "\n"
     ]
    }
   ],
   "source": [
    "##### ***** Control Variables ***** #####\n",
    "id_kfold = 1\n",
    "task4 = False\n",
    "#########################################\n",
    "\n",
    "df_train_k, df_test_k = data_corpus[id_kfold][0], data_corpus[id_kfold][1]\n",
    "print(\"# Train access request =\", len(df_train_k), \n",
    "      \" %: {:.2f}\".format((len(df_train_k)/(len(df_train_k)+len(df_test_k)))*100))\n",
    "print(\"# Test access request =\", len(df_test_k),\n",
    "      \" %: {:.2f}\".format((len(df_test_k)/(len(df_train_k)+len(df_test_k)))*100))\n",
    "print(\"# Total =\", len(df_train_k)+len(df_test_k))\n",
    "print()\n",
    "\n",
    "##### ***** Task 1: Null and uknwokn values ***** #####\n",
    "print(\"TASK 1: Done!\"); print() # NA\n",
    "\n",
    "\n",
    "##### ***** TASK 2: convert continuous values to categorical values ***** #####\n",
    "print(\"TASK 2: Done!\"); print() # NA \n",
    "\n",
    "##### ***** TASK 3: Drop duplicates access requests ***** #####\n",
    "print(\"TASK 3: Drop duplicates access requests\")\n",
    "df_train_k_pos = df_train_k[df_train_k.ACTION==1]   # Train Pos\n",
    "df_train_k_neg = df_train_k[df_train_k.ACTION==0]   # Train Neg\n",
    "df_test_k_pos = df_test_k[df_test_k.ACTION==1]      # Test Pos\n",
    "df_test_k_neg = df_test_k[df_test_k.ACTION==0]      # Test Neg\n",
    "df_train_k_pos = df_train_k_pos[df_train_k_pos.columns[1:]].drop_duplicates()\n",
    "df_train_k_neg = df_train_k_neg[df_train_k_neg.columns[1:]].drop_duplicates()\n",
    "df_test_k_pos = df_test_k_pos[df_test_k_pos.columns[1:]].drop_duplicates()\n",
    "df_test_k_neg = df_test_k_neg[df_test_k_neg.columns[1:]].drop_duplicates()\n",
    "print()\n",
    "\n",
    "print(\"# Solicitudes Train (+):\", len(df_train_k_pos), \" %: {:.2f}\".format(\n",
    "      (len(df_train_k_pos)/len(df_train_k))*100))\n",
    "print(\"# Solicitudes Train (-):\", len(df_train_k_neg), \" %: {:.2f}\".format(\n",
    "      (len(df_train_k_neg)/len(df_train_k))*100))\n",
    "print(\"# Solicitudes Test (+):\", len(df_test_k_pos), \" %: {:.2f}\".format(\n",
    "      (len(df_test_k_pos)/len(df_test_k))*100))\n",
    "print(\"# Solicitudes Test (-):\", len(df_test_k_neg), \" %: {:.2f}\".format(\n",
    "      (len(df_test_k_neg)/len(df_test_k))*100))\n",
    "print(\"# Train Users (+): \", len(df_train_k_pos.USERID.drop_duplicates()))\n",
    "print(\"# Train Resrc (+): \", len(df_train_k_pos.RESOURCE.drop_duplicates()))\n",
    "print(\"# Train Users (-): \", len(df_train_k_neg.USERID.drop_duplicates()))\n",
    "print(\"# Train Resrc (-): \", len(df_train_k_neg.RESOURCE.drop_duplicates()))\n",
    "print(\"# Test Users (+): \", len(df_test_k_pos.USERID.drop_duplicates()))\n",
    "print(\"# Test Resrc (+): \", len(df_test_k_pos.RESOURCE.drop_duplicates()))\n",
    "print(\"# Test Users (-): \", len(df_test_k_neg.USERID.drop_duplicates()))\n",
    "print(\"# Test Resrc (-): \", len(df_test_k_neg.RESOURCE.drop_duplicates())); print()\n",
    "\n",
    "if task4:\n",
    "    # Filter resources\n",
    "      n1 = 0\n",
    "      n2 = 149\n",
    "      top_list = df_train_k_pos.RESOURCE.value_counts()[:len(df_train_k_pos.RESOURCE.drop_duplicates())].index.tolist()\n",
    "      # Filter the interval between n1 and n2\n",
    "      top_list = top_list[n1:n2+1]\n",
    "      print('#Filtered resources:', len(top_list))\n",
    "      boolean_series = df_train_k_pos.RESOURCE.isin(top_list)\n",
    "      df_train_k_pos = df_train_k_pos[boolean_series]\n",
    "      bolean_series = df_train_k_neg.RESOURCE.isin(top_list)\n",
    "      df_train_k_neg = df_train_k_neg[bolean_series]\n",
    "      print(\"Done!\")\n",
    "      "
   ]
  },
  {
   "attachments": {},
   "cell_type": "markdown",
   "metadata": {},
   "source": [
    "### Network Modelling"
   ]
  },
  {
   "cell_type": "code",
   "execution_count": 4,
   "metadata": {},
   "outputs": [],
   "source": [
    "def build_network_model(data, usr_id_name, res_id_name, file_path=None):\n",
    "    \"\"\"\n",
    "    Builds the Access Requests Bipartite Network from Access log.\n",
    "\n",
    "    Args:\n",
    "        data (pandas dataframe): The Access Log.\n",
    "        usr_id_name (str): The name of the ID users column in the Access Log\n",
    "        res_id_name (str): The name of the ID resources column in the Access Log\n",
    "    \n",
    "    Returns:\n",
    "        Graph (iGraph): The Access Requests Bipartite Network.\n",
    "\n",
    "    Raises:\n",
    "        TypeError: If a network is not Bipartite.\n",
    "    \"\"\"\n",
    "    \n",
    "    list_of_edges = []\n",
    "    bi_network = nx.Graph() # NetworkX Graph object\n",
    "\n",
    "    for usr_idx, rsr_idx in data[[usr_id_name, res_id_name]].values:\n",
    "        list_of_edges.append((int(usr_idx), int(rsr_idx))) # Tuple of edges\n",
    "    bi_network.add_edges_from(list_of_edges) # Build Network with edges\n",
    "\n",
    "    # Change networkX object to iGraph object\n",
    "    bi_network = ig.Graph.from_networkx(bi_network)\n",
    "    bi_network.vs['name'] = bi_network.vs[\"_nx_name\"] # Clean name column\n",
    "    del bi_network.vs[\"_nx_name\"] # Remove uncleaned name column\n",
    "\n",
    "    print(bi_network.summary())\n",
    "    print(bi_network.vs())\n",
    "\n",
    "    if not bi_network.is_bipartite():\n",
    "        raise TypeError(\"The ARBN is not bipartite\")\n",
    "\n",
    "    ### Add type of node (user or resource)\n",
    "    list_of_resources_in_data = list(data[res_id_name])\n",
    "    list_node_type = []\n",
    "    for node in bi_network.vs():\n",
    "        if node['name'] in list_of_resources_in_data:\n",
    "            list_node_type.append(1) # A resource\n",
    "        else:\n",
    "            list_node_type.append(0) # An user\n",
    "    bi_network.vs[\"typen\"] = list_node_type\n",
    "    ### End node type\n",
    "\n",
    "    if not file_path == None: # Create a file\n",
    "        ig.write(bi_network, file_path)\n",
    "\n",
    "    print(\"ARBN builded!\")\n",
    "    print(bi_network.summary())\n",
    "    print(\"|U-Nodes| =\", len(bi_network.vs.select(typen=0)))\n",
    "    print(\"|R-Nodes| =\", len(bi_network.vs.select(typen=1)))\n",
    "\n",
    "    return bi_network\n",
    "    "
   ]
  },
  {
   "cell_type": "code",
   "execution_count": 24,
   "metadata": {},
   "outputs": [
    {
     "name": "stdout",
     "output_type": "stream",
     "text": [
      "IGRAPH UN-- 14978 24697 -- \n",
      "+ attr: name (v)\n",
      "<igraph.VertexSeq object at 0x0000012F5F3C99A8>\n",
      "ARBN builded!\n",
      "IGRAPH UN-- 14978 24697 -- \n",
      "+ attr: name (v), typen (v)\n",
      "|U-Nodes| = 8548\n",
      "|R-Nodes| = 6430\n"
     ]
    }
   ],
   "source": [
    "bip_network = build_network_model(df_train_k_pos, 'USERID', 'RESOURCE')"
   ]
  },
  {
   "attachments": {},
   "cell_type": "markdown",
   "metadata": {},
   "source": [
    "### User network"
   ]
  },
  {
   "cell_type": "code",
   "execution_count": 6,
   "metadata": {},
   "outputs": [],
   "source": [
    "def get_edge_weight(i_node, j_node):\n",
    "    \"\"\"\n",
    "    Compute the weight of an edge between i and j nodes.\n",
    "\n",
    "    Args:\n",
    "        i_node (networkX node): i node.\n",
    "        j_node (networkX node): j node.\n",
    "    \n",
    "    Returns:\n",
    "        weight (float): The weight between nodes.\n",
    "\n",
    "    Raises:\n",
    "        TypeError: if there are not an intersection\n",
    "    \"\"\"\n",
    "    neighs_i = set(i_node.neighbors())\n",
    "    neighs_j = set(j_node.neighbors())\n",
    "\n",
    "    insersection_neighbors = neighs_i.intersection(neighs_j)\n",
    "    \n",
    "    weight = (len(insersection_neighbors)*len(insersection_neighbors)) / (len(neighs_i)*len(neighs_j))\n",
    "\n",
    "    return weight\n",
    "\n",
    "\n",
    "def bipartite_projection(biparte_network, node_type=0):\n",
    "    \"\"\"\n",
    "    Generate a monopartite network from bipartite network.\n",
    "\n",
    "    Parameters:\n",
    "        bipartite_network (igraph Graph): The bipartie network.\n",
    "        node_type (int): The set of nodes of the monopartite network.\n",
    "\n",
    "    Returns:\n",
    "        Graph (iGraph): The monopartite (projected) network.\n",
    "\n",
    "    Raises:\n",
    "        Some\n",
    "    \"\"\"\n",
    "\n",
    "    #Check if the bipartite network is a bipartite network:\n",
    "    if not biparte_network.is_bipartite():\n",
    "        raise TypeError(\"The ARBN is not bipartite\")\n",
    "\n",
    "    # networkX object (more easy to buil)\n",
    "    g = nx.Graph()\n",
    "\n",
    "    # All opposite node set\n",
    "    opposite_nodes = biparte_network.vs.select(typen=1)\n",
    "\n",
    "    # Check for every node the same type\n",
    "    for X_node in opposite_nodes:\n",
    "        # Select all neighbors of the X_node\n",
    "        neighbordhood = X_node.neighbors()\n",
    "\n",
    "        for Y_node_i in neighbordhood:\n",
    "            for Y_node_j in neighbordhood:\n",
    "                # Ceck if both nodes are the same\n",
    "                if Y_node_i['name'] != Y_node_j['name']:\n",
    "                    # If there is no an edge generate\n",
    "                    if not g.has_edge(Y_node_i['name'], Y_node_j['name']):\n",
    "                        weight_ = get_edge_weight(Y_node_i, Y_node_j)\n",
    "                        #print(\"Peso: \", Y_node_i['name'], \"-\", Y_node_j['name'], \" => \", weight_)\n",
    "                        g.add_edge(Y_node_i[\"name\"], Y_node_j[\"name\"],\n",
    "                                   weight=weight_)                                 \n",
    "\n",
    "    # Convert from networkX graph to igraph graph\n",
    "    g = ig.Graph.from_networkx(g)\n",
    "    g.vs[\"name\"] = g.vs[\"_nx_name\"]\n",
    "    del g.vs[\"_nx_name\"]\n",
    "    \n",
    "    return g\n"
   ]
  },
  {
   "cell_type": "code",
   "execution_count": 25,
   "metadata": {},
   "outputs": [
    {
     "name": "stdout",
     "output_type": "stream",
     "text": [
      "IGRAPH UNW- 8224 773453 -- \n",
      "+ attr: name (v), weight (e)\n"
     ]
    }
   ],
   "source": [
    "user_network = bipartite_projection(bip_network, 0)\n",
    "print(user_network.summary())\n",
    "# ig.write(user_network, \"graphs/amz_user_network.gml\")"
   ]
  },
  {
   "attachments": {},
   "cell_type": "markdown",
   "metadata": {},
   "source": [
    "### Network Analysis"
   ]
  },
  {
   "cell_type": "code",
   "execution_count": 26,
   "metadata": {},
   "outputs": [
    {
     "name": "stdout",
     "output_type": "stream",
     "text": [
      "Density: 0.022874443231497874\n",
      "Avg. degree 188.096546692607\n",
      "Connected Components: 66\n"
     ]
    }
   ],
   "source": [
    "density = user_network.density()\n",
    "print(\"Density:\", density)\n",
    "\n",
    "avg_degree = sum(user_network.degree()) / user_network.vcount()\n",
    "print(\"Avg. degree\", avg_degree)\n",
    "\n",
    "components = user_network.components()\n",
    "print(\"Connected Components:\", len(components))\n",
    "\n"
   ]
  },
  {
   "cell_type": "code",
   "execution_count": 8,
   "metadata": {},
   "outputs": [],
   "source": [
    "def calculate_log_binning(degrees_list, n_bins):\n",
    "    \"\"\"\n",
    "    Compute the log-binning y-values.\n",
    "    \"\"\"\n",
    "    current_sum = 0\n",
    "    previous_k = 0\n",
    "    y_values_log_bin_list = []\n",
    "    x_values = []\n",
    "\n",
    "    for i in range(1, n_bins):\n",
    "        x_values.append(previous_k)\n",
    "        current_k = 2 ** (i)\n",
    "        current_sum = current_sum + current_k\n",
    "        temp_y_value = sum(degrees_list[previous_k:current_k])\n",
    "        temp_y_value = temp_y_value / (current_k-previous_k)\n",
    "        y_values_log_bin_list.append(temp_y_value)\n",
    "        previous_k = current_k\n",
    "\n",
    "        if current_sum > len(degrees_list):\n",
    "            x_values.append(previous_k)\n",
    "            temp_y_value = sum(degrees_list[previous_k:len(degrees_list)])\n",
    "            temp_y_value = temp_y_value / (len(degrees_list)-previous_k)\n",
    "            y_values_log_bin_list.append(temp_y_value)            \n",
    "            break\n",
    "\n",
    "    return x_values, y_values_log_bin_list"
   ]
  },
  {
   "cell_type": "code",
   "execution_count": 27,
   "metadata": {},
   "outputs": [
    {
     "name": "stdout",
     "output_type": "stream",
     "text": [
      "1676\n"
     ]
    },
    {
     "data": {
      "text/plain": [
       "Text(0, 0.5, 'P(k)')"
      ]
     },
     "execution_count": 27,
     "metadata": {},
     "output_type": "execute_result"
    },
    {
     "data": {
      "text/plain": [
       "<Figure size 432x288 with 0 Axes>"
      ]
     },
     "metadata": {},
     "output_type": "display_data"
    },
    {
     "data": {
      "image/png": "[encoded data removed]",
      "text/plain": [
       "<Figure size 2160x720 with 3 Axes>"
      ]
     },
     "metadata": {
      "needs_background": "light"
     },
     "output_type": "display_data"
    }
   ],
   "source": [
    "max_degree = max(user_network.degree())\n",
    "print(max_degree)\n",
    "\n",
    "# Colors palette CATEGORICAL\n",
    "# [\"#ea5545\", \"#f46a9b\", \"#ef9b20\", \"#edbf33\", \"#ede15b\", \"#bdcf32\", \"#87bc45\", \"#27aeef\", \"#b33dc6\"]\n",
    "# [\"#fd7f6f\", \"#7eb0d5\", \"#b2e061\", \"#bd7ebe\", \"#ffb55a\", \"#ffee65\", \"#beb9db\", \"#fdcce5\", \"#8bd3c7\"] Pasteles\n",
    "# [#e60049\", \"#0bb4ff\", \"#50e991\", \"#e6d800\", \"#9b19f5\", \"#ffa300\", \"#dc0ab4\", \"#b3d4ff\", \"#00bfa0\"] Dutch\n",
    "\n",
    "# Colors palette Secquence\n",
    "# [\"#115f9a\", \"#1984c5\", \"#22a7f0\", \"#48b5c4\", \"#76c68f\", \"#a6d75b\", \"#c9e52f\", \"#d0ee11\", \"#d0f400\"]\n",
    "\n",
    "# Crear una lista donde se almacena\n",
    "degree_list = np.zeros(max_degree, dtype=int)\n",
    "\n",
    "for node in user_network.vs():    \n",
    "    degree_list[node.degree()-1] = (degree_list[node.degree()-1] + 1)\n",
    "\n",
    "degree_list = degree_list / user_network.vcount()\n",
    "\n",
    "plt.clf()\n",
    "fig = plt.figure(figsize=(30, 10))     \n",
    "\n",
    "plt.subplot(1, 3, 1)\n",
    "plt.plot(degree_list, color=\"#e60049\")\n",
    "plt.xlabel('Degree')\n",
    "plt.ylabel('P(k)')\n",
    "\n",
    "plt.subplot(1, 3, 2)\n",
    "plt.plot(range(max_degree), degree_list, color=\"#00bfa0\", marker='*', ls='None')\n",
    "plt.loglog()\n",
    "plt.xlabel('Degree', color='#9b19f5')\n",
    "plt.ylabel('P(k)')\n",
    "\n",
    "plt.subplot(1, 3, 3)\n",
    "n_log_bin = ceil(log2(max(user_network.degree())))\n",
    "x_values, y_values = calculate_log_binning(degree_list, n_log_bin)\n",
    "plt.plot(x_values, y_values, color='#e60049', marker=\"*\", ls='None')\n",
    "#C = y_values[0]\n",
    "#alpha = 1.4\n",
    "#x = np.arange(1,len(degree_list))\n",
    "#y = C*np.power(x,-alpha)\n",
    "#plt.plot(x, y, \"b\")\n",
    "plt.loglog()\n",
    "plt.xlabel('Degree')\n",
    "plt.ylabel('P(k)')\n",
    "\n",
    "#plt.subplot(1, 3, 3)\n",
    "#bins = np.logspace(0, 3.22, 12)\n",
    "#plt.plot(bins[:-1], hist_norm, \"r*\")\n",
    "#plt.plot(range(max_degree), degree_list, \"b.\")\n",
    "#plt.loglog()\n",
    "#plt.xlabel('Degree')\n",
    "#plt.ylabel('P(k)')"
   ]
  },
  {
   "cell_type": "code",
   "execution_count": 175,
   "metadata": {},
   "outputs": [
    {
     "data": {
      "text/plain": [
       "Text(0, 0.5, 'P(k)')"
      ]
     },
     "execution_count": 175,
     "metadata": {},
     "output_type": "execute_result"
    },
    {
     "data": {
      "image/png": "[encoded data removed]",
      "text/plain": [
       "<Figure size 720x720 with 1 Axes>"
      ]
     },
     "metadata": {
      "needs_background": "light"
     },
     "output_type": "display_data"
    }
   ],
   "source": [
    "plt.figure(figsize=(10, 10))     \n",
    "n_log_bin = ceil(log2(max(user_network.degree())))\n",
    "x_values, y_values = calculate_log_binning(degree_list, n_log_bin)\n",
    "plt.plot(x_values, y_values, \"r*\")\n",
    "#C = max(degree_list)\n",
    "C=0.15\n",
    "#C = y_values[0]\n",
    "alpha = 1.3\n",
    "x = np.arange(x_values[3],x_values[-1])\n",
    "y = C*np.power(x,-alpha)\n",
    "plt.plot(x, y, \"b\")\n",
    "plt.loglog()\n",
    "plt.xlabel('Degree')\n",
    "plt.ylabel('P(k)')"
   ]
  },
  {
   "cell_type": "code",
   "execution_count": 10,
   "metadata": {},
   "outputs": [
    {
     "data": {
      "image/png": "[encoded data removed]",
      "text/plain": [
       "<Figure size 432x288 with 1 Axes>"
      ]
     },
     "metadata": {
      "needs_background": "light"
     },
     "output_type": "display_data"
    }
   ],
   "source": [
    "import numpy as np\n",
    "from matplotlib import pyplot as plt\n",
    "\n",
    "# something random to plot\n",
    "data = (np.random.random(10000)*10)**3\n",
    "\n",
    "# log-scaled bins\n",
    "bins = np.logspace(0, 3, 50)\n",
    "widths = (bins[1:] - bins[:-1])\n",
    "\n",
    "# Calculate histogram\n",
    "hist = np.histogram(data, bins=bins)\n",
    "# normalize by bin width\n",
    "hist_norm = hist[0]/widths\n",
    "\n",
    "# plot it!\n",
    "plt.bar(bins[:-1], hist_norm, widths)\n",
    "plt.xscale('log')\n",
    "plt.yscale('log')"
   ]
  },
  {
   "cell_type": "code",
   "execution_count": null,
   "metadata": {},
   "outputs": [],
   "source": [
    "# Como calcular el bin de stop? Fácil. \n",
    "# Log(max(degree_list))"
   ]
  },
  {
   "cell_type": "code",
   "execution_count": 45,
   "metadata": {},
   "outputs": [
    {
     "data": {
      "text/plain": [
       "1660"
      ]
     },
     "execution_count": 45,
     "metadata": {},
     "output_type": "execute_result"
    }
   ],
   "source": [
    "max(user_network.degree())"
   ]
  },
  {
   "cell_type": "code",
   "execution_count": 20,
   "metadata": {},
   "outputs": [
    {
     "name": "stderr",
     "output_type": "stream",
     "text": [
      "c:\\Users\\danie\\anaconda3\\envs\\tesis_env\\lib\\site-packages\\ipykernel_launcher.py:16: UserWarning: Data has no positive values, and therefore cannot be log-scaled.\n",
      "  app.launch_new_instance()\n"
     ]
    },
    {
     "data": {
      "image/png": "[encoded data removed]",
      "text/plain": [
       "<Figure size 720x720 with 1 Axes>"
      ]
     },
     "metadata": {
      "needs_background": "light"
     },
     "output_type": "display_data"
    }
   ],
   "source": [
    "# something random to plot\n",
    "data = degree_list\n",
    "# log-scaled bins\n",
    "plt.figure(figsize=(10, 10))\n",
    "bins = np.logspace(0, 3.22, 12)\n",
    "widths = (bins[1:] - bins[:-1])\n",
    "\n",
    "# Calculate histogram\n",
    "hist = np.histogram(data, bins=bins)\n",
    "# normalize by bin width\n",
    "hist_norm = hist[0]/widths\n",
    "\n",
    "# plot it!\n",
    "plt.bar(bins[:-1], hist_norm, widths)\n",
    "plt.xscale('log')\n",
    "plt.yscale('log')"
   ]
  },
  {
   "cell_type": "code",
   "execution_count": 306,
   "metadata": {},
   "outputs": [
    {
     "data": {
      "text/plain": [
       "array([  0.96212772,   1.88781746,   3.70413897,   7.26799374,\n",
       "        14.26073196,  27.98137744,  54.90303625, 107.72676919,\n",
       "       211.37367973, 414.74215571, 813.77707926])"
      ]
     },
     "execution_count": 306,
     "metadata": {},
     "output_type": "execute_result"
    }
   ],
   "source": [
    "widths"
   ]
  },
  {
   "cell_type": "code",
   "execution_count": 33,
   "metadata": {},
   "outputs": [],
   "source": []
  },
  {
   "cell_type": "code",
   "execution_count": 34,
   "metadata": {},
   "outputs": [
    {
     "name": "stderr",
     "output_type": "stream",
     "text": [
      "c:\\Users\\danie\\anaconda3\\envs\\tesis_env\\lib\\site-packages\\ipykernel_launcher.py:19: RuntimeWarning: divide by zero encountered in double_scalars\n"
     ]
    },
    {
     "data": {
      "text/plain": [
       "[0.03363636363636364,\n",
       " 0.02406060606060606,\n",
       " 0.015303030303030304,\n",
       " 0.012166666666666666,\n",
       " 0.006825757575757575,\n",
       " 0.0044469696969696975,\n",
       " 0.0016003787878787878,\n",
       " 0.000871212121212121,\n",
       " 0.0005156249999999997,\n",
       " 0.0002322443181818173,\n",
       " inf]"
      ]
     },
     "execution_count": 34,
     "metadata": {},
     "output_type": "execute_result"
    }
   ],
   "source": [
    "calculate_log_binning(degree_list, 12)"
   ]
  },
  {
   "cell_type": "code",
   "execution_count": 107,
   "metadata": {},
   "outputs": [
    {
     "data": {
      "image/png": "[encoded data removed]",
      "text/plain": [
       "<Figure size 432x288 with 1 Axes>"
      ]
     },
     "metadata": {
      "needs_background": "light"
     },
     "output_type": "display_data"
    }
   ],
   "source": [
    "degree_sequence = sorted([d for d in user_network.degree()], reverse=True)  # degree sequence\n",
    "degreeCount = collections.Counter(degree_sequence)\n",
    "deg, cnt = zip(*degreeCount.items())\n",
    "cs = np.cumsum(np.array(cnt)/user_network.vcount())\n",
    "plt.loglog(deg, cs, 'bo')\n",
    "plt.title(\"Cumulative Distribution plot\")\n",
    "plt.ylabel(\"Sample with value > Degree\")\n",
    "plt.xlabel(\"Degree\")\n",
    "plt.show()"
   ]
  },
  {
   "attachments": {},
   "cell_type": "markdown",
   "metadata": {},
   "source": [
    "### Weighted distribution"
   ]
  },
  {
   "cell_type": "code",
   "execution_count": 14,
   "metadata": {},
   "outputs": [
    {
     "name": "stdout",
     "output_type": "stream",
     "text": [
      "1000\n"
     ]
    },
    {
     "data": {
      "text/plain": [
       "<Figure size 432x288 with 0 Axes>"
      ]
     },
     "metadata": {},
     "output_type": "display_data"
    },
    {
     "data": {
      "image/png": "[encoded data removed]",
      "text/plain": [
       "<Figure size 720x720 with 1 Axes>"
      ]
     },
     "metadata": {
      "needs_background": "light"
     },
     "output_type": "display_data"
    },
    {
     "name": "stdout",
     "output_type": "stream",
     "text": [
      "\n"
     ]
    }
   ],
   "source": [
    "arreglo_test = (np.array(user_network.es['weight'])*1000).astype(int)\n",
    "max_peso = max(arreglo_test)\n",
    "print(max_peso)\n",
    "\n",
    "# Crear una lista donde se almacena\n",
    "arreglo_test_ = np.zeros(max_peso, dtype=int)\n",
    "\n",
    "for node in arreglo_test:\n",
    "    #print(node.degree())\n",
    "    arreglo_test_[node-1] = (arreglo_test_[node-1] + 1)\n",
    "\n",
    "plt.clf()\n",
    "plt.figure(figsize=(10,10))\n",
    "plt.plot(arreglo_test_)\n",
    "#fit = powerlaw.Fit(np.array(degree_list)+1, fit_method='KS')#, xmin=xmin, xmax=max(degree)-xmin,discrete=True)\n",
    "#fit.power_law.plot_pdf(color='r',linestyle='--',label='fit ccdf')\n",
    "#fit.plot_ccdf()\n",
    "#plt.yscale(\"log\")\n",
    "#plt.xscale(\"log\")\n",
    "plt.show()\n",
    "print()"
   ]
  },
  {
   "cell_type": "code",
   "execution_count": 15,
   "metadata": {},
   "outputs": [
    {
     "name": "stdout",
     "output_type": "stream",
     "text": [
      "P6: Scale-free distribution p(k) = ∼k^{−α}.\n"
     ]
    },
    {
     "data": {
      "image/png": "[encoded data removed]",
      "text/plain": [
       "<Figure size 720x720 with 1 Axes>"
      ]
     },
     "metadata": {
      "needs_background": "light"
     },
     "output_type": "display_data"
    },
    {
     "name": "stdout",
     "output_type": "stream",
     "text": [
      "\n"
     ]
    }
   ],
   "source": [
    "##### P6: Scale-free distribution p(k) = ∼k−α. #####\n",
    "print(\"P6: Scale-free distribution p(k) = ∼k^{−α}.\")\n",
    "distri_grados = df_train_k_pos.RESOURCE.value_counts()\n",
    "plt.figure(figsize=(10,10))\n",
    "plt.plot(sorted(distri_grados,reverse=True))\n",
    "#x1, y1 = [100, 700], [0.13, 0.015]\n",
    "#x2, y2 = [1, 231], [3, 2]\n",
    "#plt.plot(x1, y1, marker = 'o')\n",
    "plt.yscale(\"log\")\n",
    "plt.xscale(\"log\")\n",
    "plt.show()\n",
    "print()"
   ]
  },
  {
   "cell_type": "code",
   "execution_count": 16,
   "metadata": {},
   "outputs": [],
   "source": [
    "user_network_test = user_network.copy()\n",
    "user_network_test.es.select(weight_lt=0.4).delete()"
   ]
  },
  {
   "cell_type": "code",
   "execution_count": 17,
   "metadata": {},
   "outputs": [
    {
     "data": {
      "text/plain": [
       "'IGRAPH UNW- 8250 76677 -- \\n+ attr: name (v), weight (e)'"
      ]
     },
     "execution_count": 17,
     "metadata": {},
     "output_type": "execute_result"
    }
   ],
   "source": [
    "user_network_test.summary()"
   ]
  },
  {
   "cell_type": "code",
   "execution_count": 18,
   "metadata": {},
   "outputs": [
    {
     "name": "stdout",
     "output_type": "stream",
     "text": [
      "238\n"
     ]
    },
    {
     "data": {
      "text/plain": [
       "Text(0, 0.5, 'P(k)')"
      ]
     },
     "execution_count": 18,
     "metadata": {},
     "output_type": "execute_result"
    },
    {
     "data": {
      "text/plain": [
       "<Figure size 432x288 with 0 Axes>"
      ]
     },
     "metadata": {},
     "output_type": "display_data"
    },
    {
     "data": {
      "image/png": "[encoded data removed]",
      "text/plain": [
       "<Figure size 2160x720 with 3 Axes>"
      ]
     },
     "metadata": {
      "needs_background": "light"
     },
     "output_type": "display_data"
    }
   ],
   "source": [
    "max_degree = max(user_network_test.degree())\n",
    "print(max_degree)\n",
    "\n",
    "# Crear una lista donde se almacena\n",
    "degree_list = np.zeros(max_degree, dtype=int)\n",
    "\n",
    "for node in user_network_test.vs():    \n",
    "    degree_list[node.degree()-1] = (degree_list[node.degree()-1] + 1)\n",
    "\n",
    "degree_list = degree_list / user_network_test.vcount()\n",
    "\n",
    "plt.clf()\n",
    "fig = plt.figure(figsize=(30, 10))     \n",
    "\n",
    "plt.subplot(1, 3, 1)\n",
    "plt.plot(degree_list, color=\"#e60049\")\n",
    "plt.xlabel('Degree')\n",
    "plt.ylabel('P(k)')\n",
    "\n",
    "plt.subplot(1, 3, 2)\n",
    "plt.plot(range(max_degree), degree_list, color=\"#00bfa0\", marker='*', ls='None')\n",
    "plt.loglog()\n",
    "plt.xlabel('Degree', color='#9b19f5')\n",
    "plt.ylabel('P(k)')\n",
    "\n",
    "plt.subplot(1, 3, 3)\n",
    "n_log_bin = ceil(log2(max(user_network_test.degree())))\n",
    "x_values, y_values = calculate_log_binning(degree_list, n_log_bin)\n",
    "plt.plot(x_values, y_values, color='#e60049', marker=\"*\", ls='None')\n",
    "#C = y_values[0]\n",
    "#alpha = 1.4\n",
    "#x = np.arange(1,len(degree_list))\n",
    "#y = C*np.power(x,-alpha)\n",
    "#plt.plot(x, y, \"b\")\n",
    "plt.loglog()\n",
    "plt.xlabel('Degree')\n",
    "plt.ylabel('P(k)')\n"
   ]
  },
  {
   "cell_type": "code",
   "execution_count": 22,
   "metadata": {},
   "outputs": [
    {
     "name": "stdout",
     "output_type": "stream",
     "text": [
      "Density: 0.0022534081266048773\n",
      "Avg. degree 18.588363636363635\n",
      "Connected Components: 3269\n"
     ]
    }
   ],
   "source": [
    "density = user_network_test.density()\n",
    "print(\"Density:\", density)\n",
    "\n",
    "avg_degree = sum(user_network_test.degree()) / user_network_test.vcount()\n",
    "print(\"Avg. degree\", avg_degree)\n",
    "\n",
    "components = user_network_test.components()\n",
    "print(\"Connected Components:\", len(components))"
   ]
  }
 ],
 "metadata": {
  "kernelspec": {
   "display_name": "tesis_env",
   "language": "python",
   "name": "python3"
  },
  "language_info": {
   "codemirror_mode": {
    "name": "ipython",
    "version": 3
   },
   "file_extension": ".py",
   "mimetype": "text/x-python",
   "name": "python",
   "nbconvert_exporter": "python",
   "pygments_lexer": "ipython3",
   "version": "3.7.13"
  },
  "orig_nbformat": 4,
  "vscode": {
   "interpreter": {
    "hash": "deec884ae07beaa7e970d39d84b9343805b80aeba4e343861fb4097b62dc7004"
   }
  }
 },
 "nbformat": 4,
 "nbformat_minor": 2
}
