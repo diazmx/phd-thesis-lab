{
 "cells": [
  {
   "attachments": {},
   "cell_type": "markdown",
   "metadata": {},
   "source": [
    "# Network Model - Analysis"
   ]
  },
  {
   "cell_type": "code",
   "execution_count": 1,
   "metadata": {},
   "outputs": [],
   "source": [
    "# Libraries\n",
    "import numpy as np\n",
    "import pandas as pd\n",
    "import igraph as ig\n",
    "import networkx as nx\n",
    "from sklearn.model_selection import StratifiedKFold, StratifiedShuffleSplit\n",
    "from auxiliar_funcs import *\n",
    "import matplotlib.pyplot as plt\n",
    "#import powerlaw as plaw\n",
    "import collections\n",
    "from math import log2, ceil"
   ]
  },
  {
   "attachments": {},
   "cell_type": "markdown",
   "metadata": {},
   "source": [
    "### Load Data"
   ]
  },
  {
   "cell_type": "code",
   "execution_count": 69,
   "metadata": {},
   "outputs": [
    {
     "name": "stdout",
     "output_type": "stream",
     "text": [
      "# User attr: 5\n",
      "# Rsrc attr: 6\n",
      "\n",
      "***** POSITIVE HC *****\n",
      "Columns:  Index(['action', 'role', 'type', 'oward', 'uward', 'team', 'treatingteam',\n",
      "       'patient', 'author', 'topic', 'specialty', 'agentfor'],\n",
      "      dtype='object')\n",
      "Length:  8735\n",
      "<class 'pandas.core.frame.DataFrame'>\n",
      "Int64Index: 8735 entries, 0 to 8998\n",
      "Data columns (total 12 columns):\n",
      " #   Column        Non-Null Count  Dtype \n",
      "---  ------        --------------  ----- \n",
      " 0   action        8735 non-null   int64 \n",
      " 1   role          8735 non-null   object\n",
      " 2   type          8735 non-null   object\n",
      " 3   oward         8735 non-null   object\n",
      " 4   uward         8735 non-null   object\n",
      " 5   team          8735 non-null   object\n",
      " 6   treatingteam  8735 non-null   object\n",
      " 7   patient       8735 non-null   object\n",
      " 8   author        8735 non-null   object\n",
      " 9   topic         8735 non-null   object\n",
      " 10  specialty     8735 non-null   object\n",
      " 11  agentfor      8735 non-null   object\n",
      "dtypes: int64(1), object(11)\n",
      "memory usage: 887.1+ KB\n",
      "None\n",
      "   action    role type    oward    uward      team treatingteam  patient  \\\n",
      "0       1    none   hr  oncward  carward  oncteam1     oncteam1  oncpat2   \n",
      "1       1    none   hr  oncward     none  carteam1     carteam1  oncpat1   \n",
      "2       1  doctor   hr  oncward  oncward      none     oncteam2  oncpat1   \n",
      "3       1  doctor   hr     none     none  oncteam1     carteam1  oncpat2   \n",
      "4       1    none   hr     none     none  oncteam1     oncteam1  carpat2   \n",
      "\n",
      "      author     topic   specialty agentfor  \n",
      "0    oncdoc2  oncology        note  oncpat1  \n",
      "1  carnurse1      note        none  oncpat1  \n",
      "2  oncnurse2   nursing  cardiology  oncpat1  \n",
      "3    oncdoc2      note  cardiology  oncpat1  \n",
      "4  oncnurse2  oncology     nursing  carpat1  \n",
      "\n",
      "\n",
      "***** NEGATIVE HC *****\n",
      "Columns:  Index(['action', 'role', 'type', 'oward', 'uward', 'team', 'treatingteam',\n",
      "       'patient', 'author', 'topic', 'specialty', 'agentfor'],\n",
      "      dtype='object')\n",
      "Length:  8998\n",
      "<class 'pandas.core.frame.DataFrame'>\n",
      "Int64Index: 8998 entries, 0 to 8999\n",
      "Data columns (total 12 columns):\n",
      " #   Column        Non-Null Count  Dtype \n",
      "---  ------        --------------  ----- \n",
      " 0   action        8998 non-null   int64 \n",
      " 1   role          8998 non-null   object\n",
      " 2   type          8998 non-null   object\n",
      " 3   oward         8998 non-null   object\n",
      " 4   uward         8998 non-null   object\n",
      " 5   team          8998 non-null   object\n",
      " 6   treatingteam  8998 non-null   object\n",
      " 7   patient       8998 non-null   object\n",
      " 8   author        8998 non-null   object\n",
      " 9   topic         8998 non-null   object\n",
      " 10  specialty     8998 non-null   object\n",
      " 11  agentfor      8998 non-null   object\n",
      "dtypes: int64(1), object(11)\n",
      "memory usage: 913.9+ KB\n",
      "None\n",
      "   action    role    type    oward    uward      team treatingteam  patient  \\\n",
      "0       0    none      hr  oncward  oncward  carteam2     oncteam2  carpat1   \n",
      "1       0    none    none     none  oncward  carteam1     oncteam2  carpat1   \n",
      "2       0   nurse    none  oncward     none  oncteam2         none  oncpat2   \n",
      "3       0   nurse    none  oncward  carward  oncteam2     carteam2  carpat1   \n",
      "4       0  doctor  hritem  oncward  carward  carteam1     carteam1  carpat2   \n",
      "\n",
      "      author    topic specialty agentfor  \n",
      "0  carnurse2     note   nursing  carpat2  \n",
      "1  carnurse2  nursing   nursing     none  \n",
      "2  oncnurse1     note      note  carpat1  \n",
      "3  carnurse1     note      note  oncpat1  \n",
      "4  oncnurse1     note   nursing     none  \n",
      "\n",
      "\n",
      "Columns:  Index(['action', 'role', 'type', 'oward', 'uward', 'team', 'treatingteam',\n",
      "       'patient', 'author', 'topic', 'specialty', 'agentfor'],\n",
      "      dtype='object')\n",
      "Length:  17733\n",
      "\n",
      "% Solicitudes (+): 49.26\n",
      "% Solicitudes (-): 50.74\n",
      "\n",
      "\n",
      "Hecho!\n",
      "- k = 10\n",
      "- Porcentaje Train-Test: 80.0 - 20.0\n",
      "|U|: 1064\n",
      "|U|: 2216\n"
     ]
    }
   ],
   "source": [
    "# Re-order columns by user attributes and resources attributes\n",
    "user_attr = ['role', 'specialty', 'team', 'uward', 'agentfor']\n",
    "rsrc_attr = ['type', 'patient', 'treatingteam', 'oward', 'author', 'topic']\n",
    "print(\"# User attr:\", len(user_attr))\n",
    "print(\"# Rsrc attr:\", len(rsrc_attr))\n",
    "print()\n",
    "\n",
    "##### Load positive access log. #####\n",
    "url_file = \"../00-Data/hc-positive.csv\"\n",
    "df = pd.read_csv(url_file)\n",
    "df = df[df.columns[:-1]].drop_duplicates()\n",
    "print(\"***** POSITIVE HC *****\")\n",
    "print(\"Columns: \", df.columns)\n",
    "print(\"Length: \", len(df))\n",
    "print(df.info())\n",
    "print(df.head(5))\n",
    "print(); print()\n",
    "\n",
    "##### Load positive access log. #####\n",
    "url_file = \"../00-Data/hc-negative.csv\"\n",
    "df_neg = pd.read_csv(url_file)\n",
    "df_neg = df_neg[df_neg.columns[:-2]].drop_duplicates()\n",
    "df_neg = df_neg.replace(\"?\", \"none\")\n",
    "df_neg[\"action\"] = 0\n",
    "print(\"***** NEGATIVE HC *****\")\n",
    "print(\"Columns: \", df_neg.columns)\n",
    "print(\"Length: \", len(df_neg))\n",
    "print(df_neg.info())\n",
    "print(df_neg.head(5))\n",
    "print(); print()\n",
    "\n",
    "##### Concatenar solicitudes + y - #####\n",
    "df_total = pd.concat([df, df_neg])\n",
    "print(\"Columns: \", df_total.columns)\n",
    "print(\"Length: \", len(df_total))\n",
    "print()\n",
    "\n",
    "##### Calcular porcentaje de solicitudes + y - #####\n",
    "print(\"% Solicitudes (+): {:.2f}\".format((len(df)/len(df_total))*100))\n",
    "print(\"% Solicitudes (-): {:.2f}\".format((len(df_neg)/len(df_total))*100))\n",
    "print(); print()\n",
    "\n",
    "# Cross-Validation\n",
    "k = 10\n",
    "test_size = 0.2\n",
    "kfold = StratifiedShuffleSplit(n_splits=k, test_size=test_size, random_state=1)\n",
    "\n",
    "data_partition = kfold.split(df_total, df_total.action)\n",
    "data_corpus = [] # Lista donde se almacenan los k fols\n",
    "\n",
    "for train_data, test_data in data_partition:        \n",
    "    X_train, X_test = df_total.iloc[train_data], df_total.iloc[test_data]\n",
    "    data_corpus.append([X_train, X_test])\n",
    "\n",
    "print(\"Hecho!\")\n",
    "print(\"- k =\",k)\n",
    "print(\"- Porcentaje Train-Test:\", (1-test_size)*100, \"-\", test_size*100)\n",
    "\n",
    "print(\"|U|:\", len(df[user_attr].drop_duplicates()))\n",
    "print(\"|R|:\", len(df[rsrc_attr].drop_duplicates()))"
   ]
  },
  {
   "cell_type": "code",
   "execution_count": 3,
   "metadata": {},
   "outputs": [
    {
     "name": "stdout",
     "output_type": "stream",
     "text": [
      "# Solicitudes Train: 14186  %: 80.00\n",
      "# Solicitudes Test: 3547  %: 20.00\n",
      "# Solicitudes: 17733\n",
      "\n",
      "Tarea 1: Tratar valores desconocidos y nulos.\n",
      "Tarea 1: Hecha!.\n",
      "\n",
      "Tarea 2: No aplica!.\n",
      "\n",
      "Tarea 3: Eliminar solicitudes duplicadas.\n"
     ]
    },
    {
     "name": "stderr",
     "output_type": "stream",
     "text": [
      "/home/daniel/anaconda3/envs/tesis_env/lib/python3.7/site-packages/ipykernel_launcher.py:13: SettingWithCopyWarning: \n",
      "A value is trying to be set on a copy of a slice from a DataFrame.\n",
      "Try using .loc[row_indexer,col_indexer] = value instead\n",
      "\n",
      "See the caveats in the documentation: https://pandas.pydata.org/pandas-docs/stable/user_guide/indexing.html#returning-a-view-versus-a-copy\n",
      "  del sys.path[0]\n",
      "/home/daniel/anaconda3/envs/tesis_env/lib/python3.7/site-packages/ipykernel_launcher.py:14: SettingWithCopyWarning: \n",
      "A value is trying to be set on a copy of a slice from a DataFrame.\n",
      "Try using .loc[row_indexer,col_indexer] = value instead\n",
      "\n",
      "See the caveats in the documentation: https://pandas.pydata.org/pandas-docs/stable/user_guide/indexing.html#returning-a-view-versus-a-copy\n",
      "  \n",
      "/home/daniel/anaconda3/envs/tesis_env/lib/python3.7/site-packages/ipykernel_launcher.py:17: SettingWithCopyWarning: \n",
      "A value is trying to be set on a copy of a slice from a DataFrame.\n",
      "Try using .loc[row_indexer,col_indexer] = value instead\n",
      "\n",
      "See the caveats in the documentation: https://pandas.pydata.org/pandas-docs/stable/user_guide/indexing.html#returning-a-view-versus-a-copy\n",
      "/home/daniel/anaconda3/envs/tesis_env/lib/python3.7/site-packages/ipykernel_launcher.py:18: SettingWithCopyWarning: \n",
      "A value is trying to be set on a copy of a slice from a DataFrame.\n",
      "Try using .loc[row_indexer,col_indexer] = value instead\n",
      "\n",
      "See the caveats in the documentation: https://pandas.pydata.org/pandas-docs/stable/user_guide/indexing.html#returning-a-view-versus-a-copy\n",
      "/home/daniel/anaconda3/envs/tesis_env/lib/python3.7/site-packages/ipykernel_launcher.py:22: SettingWithCopyWarning: \n",
      "A value is trying to be set on a copy of a slice from a DataFrame.\n",
      "Try using .loc[row_indexer,col_indexer] = value instead\n",
      "\n",
      "See the caveats in the documentation: https://pandas.pydata.org/pandas-docs/stable/user_guide/indexing.html#returning-a-view-versus-a-copy\n",
      "/home/daniel/anaconda3/envs/tesis_env/lib/python3.7/site-packages/ipykernel_launcher.py:23: SettingWithCopyWarning: \n",
      "A value is trying to be set on a copy of a slice from a DataFrame.\n",
      "Try using .loc[row_indexer,col_indexer] = value instead\n",
      "\n",
      "See the caveats in the documentation: https://pandas.pydata.org/pandas-docs/stable/user_guide/indexing.html#returning-a-view-versus-a-copy\n",
      "/home/daniel/anaconda3/envs/tesis_env/lib/python3.7/site-packages/ipykernel_launcher.py:26: SettingWithCopyWarning: \n",
      "A value is trying to be set on a copy of a slice from a DataFrame.\n",
      "Try using .loc[row_indexer,col_indexer] = value instead\n",
      "\n",
      "See the caveats in the documentation: https://pandas.pydata.org/pandas-docs/stable/user_guide/indexing.html#returning-a-view-versus-a-copy\n",
      "/home/daniel/anaconda3/envs/tesis_env/lib/python3.7/site-packages/ipykernel_launcher.py:27: SettingWithCopyWarning: \n",
      "A value is trying to be set on a copy of a slice from a DataFrame.\n",
      "Try using .loc[row_indexer,col_indexer] = value instead\n",
      "\n",
      "See the caveats in the documentation: https://pandas.pydata.org/pandas-docs/stable/user_guide/indexing.html#returning-a-view-versus-a-copy\n",
      "/home/daniel/anaconda3/envs/tesis_env/lib/python3.7/site-packages/ipykernel_launcher.py:31: SettingWithCopyWarning: \n",
      "A value is trying to be set on a copy of a slice from a DataFrame.\n",
      "Try using .loc[row_indexer,col_indexer] = value instead\n",
      "\n",
      "See the caveats in the documentation: https://pandas.pydata.org/pandas-docs/stable/user_guide/indexing.html#returning-a-view-versus-a-copy\n",
      "/home/daniel/anaconda3/envs/tesis_env/lib/python3.7/site-packages/ipykernel_launcher.py:32: SettingWithCopyWarning: \n",
      "A value is trying to be set on a copy of a slice from a DataFrame.\n",
      "Try using .loc[row_indexer,col_indexer] = value instead\n",
      "\n",
      "See the caveats in the documentation: https://pandas.pydata.org/pandas-docs/stable/user_guide/indexing.html#returning-a-view-versus-a-copy\n",
      "/home/daniel/anaconda3/envs/tesis_env/lib/python3.7/site-packages/ipykernel_launcher.py:35: SettingWithCopyWarning: \n",
      "A value is trying to be set on a copy of a slice from a DataFrame.\n",
      "Try using .loc[row_indexer,col_indexer] = value instead\n",
      "\n",
      "See the caveats in the documentation: https://pandas.pydata.org/pandas-docs/stable/user_guide/indexing.html#returning-a-view-versus-a-copy\n",
      "/home/daniel/anaconda3/envs/tesis_env/lib/python3.7/site-packages/ipykernel_launcher.py:36: SettingWithCopyWarning: \n",
      "A value is trying to be set on a copy of a slice from a DataFrame.\n",
      "Try using .loc[row_indexer,col_indexer] = value instead\n",
      "\n",
      "See the caveats in the documentation: https://pandas.pydata.org/pandas-docs/stable/user_guide/indexing.html#returning-a-view-versus-a-copy\n",
      "/home/daniel/anaconda3/envs/tesis_env/lib/python3.7/site-packages/ipykernel_launcher.py:40: SettingWithCopyWarning: \n",
      "A value is trying to be set on a copy of a slice from a DataFrame.\n",
      "Try using .loc[row_indexer,col_indexer] = value instead\n",
      "\n",
      "See the caveats in the documentation: https://pandas.pydata.org/pandas-docs/stable/user_guide/indexing.html#returning-a-view-versus-a-copy\n",
      "/home/daniel/anaconda3/envs/tesis_env/lib/python3.7/site-packages/ipykernel_launcher.py:41: SettingWithCopyWarning: \n",
      "A value is trying to be set on a copy of a slice from a DataFrame.\n",
      "Try using .loc[row_indexer,col_indexer] = value instead\n",
      "\n",
      "See the caveats in the documentation: https://pandas.pydata.org/pandas-docs/stable/user_guide/indexing.html#returning-a-view-versus-a-copy\n",
      "/home/daniel/anaconda3/envs/tesis_env/lib/python3.7/site-packages/ipykernel_launcher.py:45: SettingWithCopyWarning: \n",
      "A value is trying to be set on a copy of a slice from a DataFrame.\n",
      "Try using .loc[row_indexer,col_indexer] = value instead\n",
      "\n",
      "See the caveats in the documentation: https://pandas.pydata.org/pandas-docs/stable/user_guide/indexing.html#returning-a-view-versus-a-copy\n",
      "/home/daniel/anaconda3/envs/tesis_env/lib/python3.7/site-packages/ipykernel_launcher.py:46: SettingWithCopyWarning: \n",
      "A value is trying to be set on a copy of a slice from a DataFrame.\n",
      "Try using .loc[row_indexer,col_indexer] = value instead\n",
      "\n",
      "See the caveats in the documentation: https://pandas.pydata.org/pandas-docs/stable/user_guide/indexing.html#returning-a-view-versus-a-copy\n",
      "/home/daniel/anaconda3/envs/tesis_env/lib/python3.7/site-packages/ipykernel_launcher.py:49: SettingWithCopyWarning: \n",
      "A value is trying to be set on a copy of a slice from a DataFrame.\n",
      "Try using .loc[row_indexer,col_indexer] = value instead\n",
      "\n",
      "See the caveats in the documentation: https://pandas.pydata.org/pandas-docs/stable/user_guide/indexing.html#returning-a-view-versus-a-copy\n",
      "/home/daniel/anaconda3/envs/tesis_env/lib/python3.7/site-packages/ipykernel_launcher.py:50: SettingWithCopyWarning: \n",
      "A value is trying to be set on a copy of a slice from a DataFrame.\n",
      "Try using .loc[row_indexer,col_indexer] = value instead\n",
      "\n",
      "See the caveats in the documentation: https://pandas.pydata.org/pandas-docs/stable/user_guide/indexing.html#returning-a-view-versus-a-copy\n",
      "/home/daniel/anaconda3/envs/tesis_env/lib/python3.7/site-packages/ipykernel_launcher.py:53: SettingWithCopyWarning: \n",
      "A value is trying to be set on a copy of a slice from a DataFrame.\n",
      "Try using .loc[row_indexer,col_indexer] = value instead\n",
      "\n",
      "See the caveats in the documentation: https://pandas.pydata.org/pandas-docs/stable/user_guide/indexing.html#returning-a-view-versus-a-copy\n",
      "/home/daniel/anaconda3/envs/tesis_env/lib/python3.7/site-packages/ipykernel_launcher.py:54: SettingWithCopyWarning: \n",
      "A value is trying to be set on a copy of a slice from a DataFrame.\n",
      "Try using .loc[row_indexer,col_indexer] = value instead\n",
      "\n",
      "See the caveats in the documentation: https://pandas.pydata.org/pandas-docs/stable/user_guide/indexing.html#returning-a-view-versus-a-copy\n",
      "/home/daniel/anaconda3/envs/tesis_env/lib/python3.7/site-packages/ipykernel_launcher.py:58: SettingWithCopyWarning: \n",
      "A value is trying to be set on a copy of a slice from a DataFrame.\n",
      "Try using .loc[row_indexer,col_indexer] = value instead\n",
      "\n",
      "See the caveats in the documentation: https://pandas.pydata.org/pandas-docs/stable/user_guide/indexing.html#returning-a-view-versus-a-copy\n",
      "/home/daniel/anaconda3/envs/tesis_env/lib/python3.7/site-packages/ipykernel_launcher.py:59: SettingWithCopyWarning: \n",
      "A value is trying to be set on a copy of a slice from a DataFrame.\n",
      "Try using .loc[row_indexer,col_indexer] = value instead\n",
      "\n",
      "See the caveats in the documentation: https://pandas.pydata.org/pandas-docs/stable/user_guide/indexing.html#returning-a-view-versus-a-copy\n"
     ]
    },
    {
     "name": "stdout",
     "output_type": "stream",
     "text": [
      "\n",
      "# Solicitudes Train (+): 6988  %: 49.26\n",
      "# Solicitudes Train (-): 7197  %: 50.73\n",
      "# Solicitudes Test (+): 1747  %: 49.25\n",
      "# Solicitudes Test (-): 1800  %: 50.75\n",
      "# Train Users (+):  1046\n",
      "# Train Resrc (+):  2090\n",
      "# Train Users (-):  1045\n",
      "# Train Resrc (-):  1239\n",
      "# Test Users (+):  748\n",
      "# Test Resrc (+):  1\n",
      "# Test Users (-):  826\n",
      "# Test Resrc (-):  407\n"
     ]
    }
   ],
   "source": [
    "id_kfold = 0\n",
    "\n",
    "df_train_k, df_test_k = data_corpus[id_kfold][0], data_corpus[id_kfold][1]\n",
    "print(\"# Solicitudes Train:\", len(df_train_k), \" %: {:.2f}\".format((len(df_train_k)/(len(df_train_k)+len(df_test_k)))*100))\n",
    "print(\"# Solicitudes Test:\", len(df_test_k), \" %: {:.2f}\".format((len(df_test_k)/(len(df_train_k)+len(df_test_k)))*100))\n",
    "print(\"# Solicitudes:\", len(df_train_k)+len(df_test_k))\n",
    "print()\n",
    "\n",
    "##### ***** TAREA 1: Tratar valores desconocidos y nulos ***** #####\n",
    "print(\"Tarea 1: Tratar valores desconocidos y nulos.\")\n",
    "# Cambiar valores string a numeros\n",
    "mapping = {\"none\": 10, \"doctor\": 11, \"nurse\": 12} # role\n",
    "df_train_k[\"role\"] = df_train_k[\"role\"].replace(mapping)\n",
    "df_test_k[\"role\"] = df_test_k[\"role\"].replace(mapping)\n",
    "\n",
    "mapping = {\"note\": 110, \"cardiology\": 111, \"nursing\": 112, \"oncology\": 113, \"none\": 114} # speacialty\n",
    "df_train_k[\"specialty\"] = df_train_k[\"specialty\"].replace(mapping)\n",
    "df_test_k[\"specialty\"] = df_test_k[\"specialty\"].replace(mapping)\n",
    "\n",
    "mapping = {\"oncteam1\": 1101, \"carteam1\": 1111,\n",
    "           \"carteam2\": 1121, \"oncteam2\": 1131, \"none\": 1141} # tem\n",
    "df_train_k[\"team\"] = df_train_k[\"team\"].replace(mapping)\n",
    "df_test_k[\"team\"] = df_test_k[\"team\"].replace(mapping)\n",
    "\n",
    "mapping = {\"carward\": 11011, \"oncward\": 11111, \"none\": 11211} # uward\n",
    "df_train_k[\"uward\"] = df_train_k[\"uward\"].replace(mapping)\n",
    "df_test_k[\"uward\"] = df_test_k[\"uward\"].replace(mapping)\n",
    "\n",
    "mapping = {\"oncpat1\": 111011, \"carpat1\": 111111, # agentfor\n",
    "           \"oncpat2\": 111211, \"carpat2\": 111311, \"none\": 111411}\n",
    "df_train_k[\"agentfor\"] = df_train_k[\"agentfor\"].replace(mapping)\n",
    "df_test_k[\"agentfor\"] = df_test_k[\"agentfor\"].replace(mapping)\n",
    "\n",
    "mapping = {\"hr\": 1110111, \"hritem\": 1111111} # type\n",
    "df_train_k[\"type\"] = df_train_k[\"type\"].replace(mapping)\n",
    "df_test_k[\"type\"] = df_test_k[\"type\"].replace(mapping)\n",
    "\n",
    "mapping = {\"oncpat1\": 211012, \"carpat1\": 211112, # patient\n",
    "           \"oncpat2\": 211212, \"carpat2\": 211312, \"none\": 211412}\n",
    "df_train_k[\"patient\"] = df_train_k[\"patient\"].replace(mapping)\n",
    "df_test_k[\"patient\"] = df_test_k[\"patient\"].replace(mapping)\n",
    "\n",
    "mapping = {\"oncteam1\": 2102, \"carteam1\": 2112,\n",
    "           \"carteam2\": 2122, \"oncteam2\": 2132, \"none\": 2142} # treatingteam\n",
    "df_train_k[\"treatingteam\"] = df_train_k[\"treatingteam\"].replace(mapping)\n",
    "df_test_k[\"treatingteam\"] = df_test_k[\"treatingteam\"].replace(mapping)\n",
    "\n",
    "mapping = {\"carward\": 21012, \"oncward\": 21112, \"none\": 21212} # oward\n",
    "df_train_k[\"oward\"] = df_train_k[\"oward\"].replace(mapping)\n",
    "df_test_k[\"oward\"] = df_test_k[\"oward\"].replace(mapping)\n",
    "\n",
    "mapping = {\"note\": 210, \"cardiology\": 211, \"nursing\": 212, \"oncology\": 213, \"none\": 214} # topic\n",
    "df_train_k[\"topic\"] = df_train_k[\"topic\"].replace(mapping)\n",
    "df_test_k[\"topic\"] = df_test_k[\"topic\"].replace(mapping)\n",
    "\n",
    "mapping = {\"oncdoc2\": 11110111, \"carnurse1\": 11111111, \"oncnurse2\": 11112111, # author\n",
    "           \"carnurse2\": 11113111, \"oncdoc1\": 11114111, \"oncnurse1\": 11115111, \"none\": 11116111}\n",
    "df_train_k[\"author\"] = df_train_k[\"author\"].replace(mapping)\n",
    "df_test_k[\"author\"] = df_test_k[\"author\"].replace(mapping)\n",
    "print(\"Tarea 1: Hecha!.\")\n",
    "print()\n",
    "\n",
    "##### ***** TAREA 2: Convertir valores continuas a categoricos ***** #####\n",
    "print(\"Tarea 2: No aplica!.\")\n",
    "print()\n",
    "\n",
    "##### ***** TAREA 3: Eliminar solicitudes duplicadas ***** #####\n",
    "##### Dataframe solicitudes positivas y negativas #####\n",
    "print(\"Tarea 3: Eliminar solicitudes duplicadas.\")\n",
    "df_train_k_pos = df_train_k[df_train_k.action==1]   # Train Pos\n",
    "df_train_k_neg = df_train_k[df_train_k.action==0]   # Train Neg\n",
    "df_test_k_pos = df_test_k[df_test_k.action==1]      # Test Pos\n",
    "df_test_k_neg = df_test_k[df_test_k.action==0]      # Test Neg\n",
    "df_train_k_pos = df_train_k_pos[df_train_k_pos.columns[1:]].drop_duplicates()\n",
    "df_train_k_neg = df_train_k_neg[df_train_k_neg.columns[1:]].drop_duplicates()\n",
    "df_test_k_pos = df_test_k_pos[df_test_k_pos.columns[1:]].drop_duplicates()\n",
    "df_test_k_neg = df_test_k_neg[df_test_k_neg.columns[1:]].drop_duplicates()\n",
    "print()\n",
    "\n",
    "##### Agregar la columna de usuarios y recursos #####\n",
    "user_dict = get_user_res(df_train_k_pos, user_attr, True)\n",
    "res_dict = get_user_res(df_train_k_pos, rsrc_attr, False)\n",
    "df_train_k_pos = add_col(df_train_k_pos, user_dict, user_attr, \"USRID\")\n",
    "df_train_k_pos = add_col(df_train_k_pos, res_dict, rsrc_attr, \"RESID\")\n",
    "df_train_k_neg = add_col(df_train_k_neg, user_dict, user_attr, \"USRID\")\n",
    "df_train_k_neg = add_col(df_train_k_neg, res_dict, rsrc_attr, \"RESID\")\n",
    "df_test_k_pos =  add_col(df_test_k_pos, user_dict, user_attr, \"USRID\")\n",
    "df_test_k_pos =  add_col(df_test_k_pos, res_dict, user_attr, \"RESID\")\n",
    "df_test_k_neg = add_col(df_test_k_neg, user_dict, user_attr, \"USRID\")\n",
    "df_test_k_neg = add_col(df_test_k_neg, res_dict, rsrc_attr, \"RESID\")\n",
    "\n",
    "print(\"# Solicitudes Train (+):\", len(df_train_k_pos), \" %: {:.2f}\".format((len(df_train_k_pos)/len(df_train_k))*100))\n",
    "print(\"# Solicitudes Train (-):\", len(df_train_k_neg), \" %: {:.2f}\".format((len(df_train_k_neg)/len(df_train_k))*100))\n",
    "print(\"# Solicitudes Test (+):\", len(df_test_k_pos), \" %: {:.2f}\".format((len(df_test_k_pos)/len(df_test_k))*100))\n",
    "print(\"# Solicitudes Test (-):\", len(df_test_k_neg), \" %: {:.2f}\".format((len(df_test_k_neg)/len(df_test_k))*100))\n",
    "print(\"# Train Users (+): \", len(df_train_k_pos.USRID.drop_duplicates()))\n",
    "print(\"# Train Resrc (+): \", len(df_train_k_pos.RESID.drop_duplicates()))\n",
    "print(\"# Train Users (-): \", len(df_train_k_neg.USRID.drop_duplicates()))\n",
    "print(\"# Train Resrc (-): \", len(df_train_k_neg.RESID.drop_duplicates()))\n",
    "print(\"# Test Users (+): \", len(df_test_k_pos.USRID.drop_duplicates()))\n",
    "print(\"# Test Resrc (+): \", len(df_test_k_pos.RESID.drop_duplicates()))\n",
    "print(\"# Test Users (-): \", len(df_test_k_neg.USRID.drop_duplicates()))\n",
    "print(\"# Test Resrc (-): \", len(df_test_k_neg.RESID.drop_duplicates()))"
   ]
  },
  {
   "attachments": {},
   "cell_type": "markdown",
   "metadata": {},
   "source": [
    "### Network Modelling"
   ]
  },
  {
   "cell_type": "code",
   "execution_count": 4,
   "metadata": {},
   "outputs": [],
   "source": [
    "def build_network_model(data, usr_id_name, res_id_name, file_path=None):\n",
    "    \"\"\"\n",
    "    Builds the Access Requests Bipartite Network from Access log.\n",
    "\n",
    "    Args:\n",
    "        data (pandas dataframe): The Access Log.\n",
    "        usr_id_name (str): The name of the ID users column in the Access Log\n",
    "        res_id_name (str): The name of the ID resources column in the Access Log\n",
    "    \n",
    "    Returns:\n",
    "        Graph (iGraph): The Access Requests Bipartite Network.\n",
    "\n",
    "    Raises:\n",
    "        TypeError: If a network is not Bipartite.\n",
    "    \"\"\"\n",
    "    \n",
    "    list_of_edges = []\n",
    "    bi_network = nx.Graph() # NetworkX Graph object\n",
    "\n",
    "    for usr_idx, rsr_idx in data[[usr_id_name, res_id_name]].values:\n",
    "        list_of_edges.append((int(usr_idx), int(rsr_idx))) # Tuple of edges\n",
    "    bi_network.add_edges_from(list_of_edges) # Build Network with edges\n",
    "\n",
    "    # Change networkX object to iGraph object\n",
    "    bi_network = ig.Graph.from_networkx(bi_network)\n",
    "    bi_network.vs['name'] = bi_network.vs[\"_nx_name\"] # Clean name column\n",
    "    del bi_network.vs[\"_nx_name\"] # Remove uncleaned name column\n",
    "\n",
    "    print(bi_network.summary())\n",
    "    print(bi_network.vs())\n",
    "\n",
    "    if not bi_network.is_bipartite():\n",
    "        raise TypeError(\"The ARBN is not bipartite\")\n",
    "\n",
    "    ### Add type of node (user or resource)\n",
    "    list_of_resources_in_data = list(data[res_id_name])\n",
    "    list_node_type = []\n",
    "    for node in bi_network.vs():\n",
    "        if node['name'] in list_of_resources_in_data:\n",
    "            list_node_type.append(1) # A resource\n",
    "        else:\n",
    "            list_node_type.append(0) # An user\n",
    "    bi_network.vs[\"typen\"] = list_node_type\n",
    "    ### End node type\n",
    "\n",
    "    if not file_path == None: # Create a file\n",
    "        ig.write(bi_network, file_path)\n",
    "\n",
    "    print(\"ARBN builded!\")\n",
    "    print(bi_network.summary())\n",
    "    print(\"|U-Nodes| =\", len(bi_network.vs.select(typen=0)))\n",
    "    print(\"|R-Nodes| =\", len(bi_network.vs.select(typen=1)))\n",
    "\n",
    "    return bi_network\n",
    "    "
   ]
  },
  {
   "cell_type": "code",
   "execution_count": 5,
   "metadata": {},
   "outputs": [
    {
     "name": "stdout",
     "output_type": "stream",
     "text": [
      "IGRAPH UN-- 3136 6988 -- \n",
      "+ attr: name (v)\n",
      "<igraph.VertexSeq object at 0x7fed0cb6cf50>\n",
      "ARBN builded!\n",
      "IGRAPH UN-- 3136 6988 -- \n",
      "+ attr: name (v), typen (v)\n",
      "|U-Nodes| = 1046\n",
      "|R-Nodes| = 2090\n"
     ]
    }
   ],
   "source": [
    "bip_network = build_network_model(df_train_k_pos, 'USRID', 'RESID')"
   ]
  },
  {
   "cell_type": "code",
   "execution_count": 66,
   "metadata": {},
   "outputs": [],
   "source": [
    "bip_network.write(\"HC-bip.gml\")"
   ]
  },
  {
   "attachments": {},
   "cell_type": "markdown",
   "metadata": {},
   "source": [
    "### User network"
   ]
  },
  {
   "cell_type": "code",
   "execution_count": 70,
   "metadata": {},
   "outputs": [],
   "source": [
    "def get_edge_weight(i_node, j_node):\n",
    "    \"\"\"\n",
    "    Compute the weight of an edge between i and j nodes.\n",
    "\n",
    "    Args:\n",
    "        i_node (networkX node): i node.\n",
    "        j_node (networkX node): j node.\n",
    "    \n",
    "    Returns:\n",
    "        weight (float): The weight between nodes.\n",
    "\n",
    "    Raises:\n",
    "        TypeError: if there are not an intersection\n",
    "    \"\"\"\n",
    "    neighs_i = set(i_node.neighbors())\n",
    "    neighs_j = set(j_node.neighbors())\n",
    "\n",
    "    insersection_neighbors = neighs_i.intersection(neighs_j)\n",
    "    \n",
    "    weight = (len(insersection_neighbors)*len(insersection_neighbors)) / (len(neighs_i)*len(neighs_j))\n",
    "\n",
    "    return weight\n",
    "\n",
    "\n",
    "def bipartite_projection(biparte_network, node_type=0):\n",
    "    \"\"\"\n",
    "    Generate a monopartite network from bipartite network.\n",
    "\n",
    "    Parameters:\n",
    "        bipartite_network (igraph Graph): The bipartie network.\n",
    "        node_type (int): The set of nodes of the monopartite network.\n",
    "\n",
    "    Returns:\n",
    "        Graph (iGraph): The monopartite (projected) network.\n",
    "\n",
    "    Raises:\n",
    "        Some\n",
    "    \"\"\"\n",
    "\n",
    "    #Check if the bipartite network is a bipartite network:\n",
    "    if not biparte_network.is_bipartite():\n",
    "        raise TypeError(\"The ARBN is not bipartite\")\n",
    "\n",
    "    # networkX object (more easy to buil)\n",
    "    g = nx.Graph()\n",
    "\n",
    "    # All opposite node set\n",
    "    opposite_nodes = biparte_network.vs.select(typen=0)\n",
    "\n",
    "    # Check for every node the same type\n",
    "    for X_node in opposite_nodes:\n",
    "        # Select all neighbors of the X_node\n",
    "        neighbordhood = X_node.neighbors()\n",
    "\n",
    "        for Y_node_i in neighbordhood:\n",
    "            for Y_node_j in neighbordhood:\n",
    "                # Ceck if both nodes are the same\n",
    "                if Y_node_i['name'] != Y_node_j['name']:\n",
    "                    # If there is no an edge generate\n",
    "                    if not g.has_edge(Y_node_i['name'], Y_node_j['name']):\n",
    "                        weight_ = get_edge_weight(Y_node_i, Y_node_j)\n",
    "                        #print(\"Peso: \", Y_node_i['name'], \"-\", Y_node_j['name'], \" => \", weight_)\n",
    "                        g.add_edge(Y_node_i[\"name\"], Y_node_j[\"name\"],\n",
    "                                   weight=weight_)                                 \n",
    "\n",
    "    # Convert from networkX graph to igraph graph\n",
    "    g = ig.Graph.from_networkx(g)\n",
    "    g.vs[\"name\"] = g.vs[\"_nx_name\"]\n",
    "    del g.vs[\"_nx_name\"]\n",
    "    \n",
    "    return g\n"
   ]
  },
  {
   "cell_type": "code",
   "execution_count": 7,
   "metadata": {},
   "outputs": [
    {
     "name": "stdout",
     "output_type": "stream",
     "text": [
      "IGRAPH UNW- 1032 19509 -- \n",
      "+ attr: name (v), weight (e)\n"
     ]
    }
   ],
   "source": [
    "user_network = bipartite_projection(bip_network, 0)\n",
    "print(user_network.summary())\n",
    "# ig.write(user_network, \"graphs/amz_user_network.gml\")"
   ]
  },
  {
   "cell_type": "code",
   "execution_count": 71,
   "metadata": {},
   "outputs": [
    {
     "name": "stdout",
     "output_type": "stream",
     "text": [
      "IGRAPH UNW- 2076 29286 -- \n",
      "+ attr: name (v), weight (e)\n"
     ]
    }
   ],
   "source": [
    "user_network = bipartite_projection(bip_network, 0)\n",
    "print(user_network.summary())\n",
    "ig.write(user_network, \"graphs/hc_test.gml\")"
   ]
  },
  {
   "cell_type": "code",
   "execution_count": 58,
   "metadata": {},
   "outputs": [
    {
     "data": {
      "text/plain": [
       "'IGRAPH UNW- 1032 19509 -- \\n+ attr: agentfor (v), name (v), role (v), specialty (v), team (v), uward (v), weight (e)'"
      ]
     },
     "execution_count": 58,
     "metadata": {},
     "output_type": "execute_result"
    }
   ],
   "source": [
    "# Add features\n",
    "user_data_attrs = df_train_k_pos[user_attr+[\"USRID\"]].drop_duplicates()\n",
    "#user_data_attrs[user_data_attrs.USRID == 101]\n",
    "role_attr = []\n",
    "specialty_attr = []\n",
    "team_attr = []\n",
    "uward_attr = []\n",
    "agentfor_attr = []\n",
    "for user in user_network.vs():\n",
    "    user_row = user_data_attrs[user_data_attrs.USRID == user['name']]    \n",
    "    role_attr.append(user_row['role'].values[0])\n",
    "    specialty_attr.append(user_row['specialty'].values[0])\n",
    "    team_attr.append(user_row['team'].values[0])\n",
    "    uward_attr.append(user_row['uward'].values[0])\n",
    "    agentfor_attr.append(user_row['agentfor'].values[0])\n",
    "    \n",
    "user_network.vs['role'] = role_attr\n",
    "user_network.vs['specialty'] = specialty_attr\n",
    "user_network.vs['team'] = team_attr\n",
    "user_network.vs['uward'] = uward_attr\n",
    "user_network.vs['agentfor'] = agentfor_attr\n",
    "user_network.summary()"
   ]
  },
  {
   "cell_type": "code",
   "execution_count": 67,
   "metadata": {},
   "outputs": [
    {
     "data": {
      "text/html": [
       "<div>\n",
       "<style scoped>\n",
       "    .dataframe tbody tr th:only-of-type {\n",
       "        vertical-align: middle;\n",
       "    }\n",
       "\n",
       "    .dataframe tbody tr th {\n",
       "        vertical-align: top;\n",
       "    }\n",
       "\n",
       "    .dataframe thead th {\n",
       "        text-align: right;\n",
       "    }\n",
       "</style>\n",
       "<table border=\"1\" class=\"dataframe\">\n",
       "  <thead>\n",
       "    <tr style=\"text-align: right;\">\n",
       "      <th></th>\n",
       "      <th>role</th>\n",
       "      <th>specialty</th>\n",
       "      <th>team</th>\n",
       "      <th>uward</th>\n",
       "      <th>agentfor</th>\n",
       "      <th>USRID</th>\n",
       "    </tr>\n",
       "  </thead>\n",
       "  <tbody>\n",
       "    <tr>\n",
       "      <th>1745</th>\n",
       "      <td>10</td>\n",
       "      <td>111</td>\n",
       "      <td>1111</td>\n",
       "      <td>11211</td>\n",
       "      <td>111211</td>\n",
       "      <td>101</td>\n",
       "    </tr>\n",
       "    <tr>\n",
       "      <th>2816</th>\n",
       "      <td>12</td>\n",
       "      <td>114</td>\n",
       "      <td>1141</td>\n",
       "      <td>11111</td>\n",
       "      <td>111311</td>\n",
       "      <td>1101</td>\n",
       "    </tr>\n",
       "    <tr>\n",
       "      <th>7575</th>\n",
       "      <td>11</td>\n",
       "      <td>111</td>\n",
       "      <td>1111</td>\n",
       "      <td>11111</td>\n",
       "      <td>111011</td>\n",
       "      <td>2101</td>\n",
       "    </tr>\n",
       "    <tr>\n",
       "      <th>8573</th>\n",
       "      <td>10</td>\n",
       "      <td>113</td>\n",
       "      <td>1121</td>\n",
       "      <td>11011</td>\n",
       "      <td>111111</td>\n",
       "      <td>3101</td>\n",
       "    </tr>\n",
       "    <tr>\n",
       "      <th>1511</th>\n",
       "      <td>11</td>\n",
       "      <td>113</td>\n",
       "      <td>1101</td>\n",
       "      <td>11111</td>\n",
       "      <td>111011</td>\n",
       "      <td>4101</td>\n",
       "    </tr>\n",
       "    <tr>\n",
       "      <th>...</th>\n",
       "      <td>...</td>\n",
       "      <td>...</td>\n",
       "      <td>...</td>\n",
       "      <td>...</td>\n",
       "      <td>...</td>\n",
       "      <td>...</td>\n",
       "    </tr>\n",
       "    <tr>\n",
       "      <th>5358</th>\n",
       "      <td>12</td>\n",
       "      <td>114</td>\n",
       "      <td>1111</td>\n",
       "      <td>11211</td>\n",
       "      <td>111311</td>\n",
       "      <td>1041101</td>\n",
       "    </tr>\n",
       "    <tr>\n",
       "      <th>8884</th>\n",
       "      <td>10</td>\n",
       "      <td>113</td>\n",
       "      <td>1121</td>\n",
       "      <td>11211</td>\n",
       "      <td>111411</td>\n",
       "      <td>1042101</td>\n",
       "    </tr>\n",
       "    <tr>\n",
       "      <th>6211</th>\n",
       "      <td>10</td>\n",
       "      <td>110</td>\n",
       "      <td>1141</td>\n",
       "      <td>11111</td>\n",
       "      <td>111411</td>\n",
       "      <td>1043101</td>\n",
       "    </tr>\n",
       "    <tr>\n",
       "      <th>5288</th>\n",
       "      <td>11</td>\n",
       "      <td>110</td>\n",
       "      <td>1141</td>\n",
       "      <td>11011</td>\n",
       "      <td>111111</td>\n",
       "      <td>1044101</td>\n",
       "    </tr>\n",
       "    <tr>\n",
       "      <th>5486</th>\n",
       "      <td>11</td>\n",
       "      <td>111</td>\n",
       "      <td>1131</td>\n",
       "      <td>11211</td>\n",
       "      <td>111311</td>\n",
       "      <td>1045101</td>\n",
       "    </tr>\n",
       "  </tbody>\n",
       "</table>\n",
       "<p>1046 rows × 6 columns</p>\n",
       "</div>"
      ],
      "text/plain": [
       "      role  specialty  team  uward  agentfor    USRID\n",
       "1745    10        111  1111  11211    111211      101\n",
       "2816    12        114  1141  11111    111311     1101\n",
       "7575    11        111  1111  11111    111011     2101\n",
       "8573    10        113  1121  11011    111111     3101\n",
       "1511    11        113  1101  11111    111011     4101\n",
       "...    ...        ...   ...    ...       ...      ...\n",
       "5358    12        114  1111  11211    111311  1041101\n",
       "8884    10        113  1121  11211    111411  1042101\n",
       "6211    10        110  1141  11111    111411  1043101\n",
       "5288    11        110  1141  11011    111111  1044101\n",
       "5486    11        111  1131  11211    111311  1045101\n",
       "\n",
       "[1046 rows x 6 columns]"
      ]
     },
     "execution_count": 67,
     "metadata": {},
     "output_type": "execute_result"
    }
   ],
   "source": [
    "user_data_attrs"
   ]
  },
  {
   "attachments": {},
   "cell_type": "markdown",
   "metadata": {},
   "source": [
    "### Network Analysis"
   ]
  },
  {
   "cell_type": "code",
   "execution_count": 59,
   "metadata": {},
   "outputs": [
    {
     "name": "stdout",
     "output_type": "stream",
     "text": [
      "Density: 0.0366713283558523\n",
      "Avg. degree 37.80813953488372\n",
      "Connected Components: 1\n"
     ]
    }
   ],
   "source": [
    "density = user_network.density()\n",
    "print(\"Density:\", density)\n",
    "\n",
    "avg_degree = sum(user_network.degree()) / user_network.vcount()\n",
    "print(\"Avg. degree\", avg_degree)\n",
    "\n",
    "components = user_network.components()\n",
    "print(\"Connected Components:\", len(components))"
   ]
  },
  {
   "cell_type": "code",
   "execution_count": 60,
   "metadata": {},
   "outputs": [],
   "source": [
    "def calculate_log_binning(degrees_list, n_bins):\n",
    "    \"\"\"\n",
    "    Compute the log-binning y-values.\n",
    "    \"\"\"\n",
    "    current_sum = 0\n",
    "    previous_k = 0\n",
    "    y_values_log_bin_list = []\n",
    "    x_values = []\n",
    "\n",
    "    for i in range(1, n_bins):\n",
    "        x_values.append(previous_k)\n",
    "        current_k = 2 ** (i)\n",
    "        current_sum = current_sum + current_k\n",
    "        temp_y_value = sum(degrees_list[previous_k:current_k])\n",
    "        temp_y_value = temp_y_value / (current_k-previous_k)\n",
    "        y_values_log_bin_list.append(temp_y_value)\n",
    "        previous_k = current_k\n",
    "\n",
    "        if current_sum > len(degrees_list):\n",
    "            x_values.append(previous_k)\n",
    "            temp_y_value = sum(degrees_list[previous_k:len(degrees_list)])\n",
    "            temp_y_value = temp_y_value / (len(degrees_list)-previous_k)\n",
    "            y_values_log_bin_list.append(temp_y_value)            \n",
    "            break\n",
    "\n",
    "    return x_values, y_values_log_bin_list"
   ]
  },
  {
   "cell_type": "code",
   "execution_count": 61,
   "metadata": {},
   "outputs": [
    {
     "name": "stdout",
     "output_type": "stream",
     "text": [
      "218\n"
     ]
    },
    {
     "data": {
      "text/plain": [
       "Text(0, 0.5, 'P(k)')"
      ]
     },
     "execution_count": 61,
     "metadata": {},
     "output_type": "execute_result"
    },
    {
     "data": {
      "text/plain": [
       "<Figure size 432x288 with 0 Axes>"
      ]
     },
     "metadata": {},
     "output_type": "display_data"
    },
    {
     "data": {
      "image/png": "[encoded data removed]",
      "text/plain": [
       "<Figure size 2160x720 with 3 Axes>"
      ]
     },
     "metadata": {
      "needs_background": "light"
     },
     "output_type": "display_data"
    }
   ],
   "source": [
    "max_degree = max(user_network.degree())\n",
    "print(max_degree)\n",
    "\n",
    "# Colors palette CATEGORICAL\n",
    "# [\"#ea5545\", \"#f46a9b\", \"#ef9b20\", \"#edbf33\", \"#ede15b\", \"#bdcf32\", \"#87bc45\", \"#27aeef\", \"#b33dc6\"]\n",
    "# [\"#fd7f6f\", \"#7eb0d5\", \"#b2e061\", \"#bd7ebe\", \"#ffb55a\", \"#ffee65\", \"#beb9db\", \"#fdcce5\", \"#8bd3c7\"] Pasteles\n",
    "# [#e60049\", \"#0bb4ff\", \"#50e991\", \"#e6d800\", \"#9b19f5\", \"#ffa300\", \"#dc0ab4\", \"#b3d4ff\", \"#00bfa0\"] Dutch\n",
    "\n",
    "# Colors palette Secquence\n",
    "# [\"#115f9a\", \"#1984c5\", \"#22a7f0\", \"#48b5c4\", \"#76c68f\", \"#a6d75b\", \"#c9e52f\", \"#d0ee11\", \"#d0f400\"]\n",
    "\n",
    "# Crear una lista donde se almacena\n",
    "degree_list = np.zeros(max_degree, dtype=int)\n",
    "\n",
    "for node in user_network.vs():    \n",
    "    degree_list[node.degree()-1] = (degree_list[node.degree()-1] + 1)\n",
    "\n",
    "degree_list = degree_list / user_network.vcount()\n",
    "\n",
    "plt.clf()\n",
    "fig = plt.figure(figsize=(30, 10))     \n",
    "\n",
    "plt.subplot(1, 3, 1)\n",
    "plt.plot(degree_list, color=\"#e60049\")\n",
    "plt.xlabel('Degree')\n",
    "plt.ylabel('P(k)')\n",
    "\n",
    "plt.subplot(1, 3, 2)\n",
    "plt.plot(range(max_degree), degree_list, color=\"#00bfa0\", marker='*', ls='None')\n",
    "plt.loglog()\n",
    "plt.xlabel('Degree', color='#9b19f5')\n",
    "plt.ylabel('P(k)')\n",
    "\n",
    "plt.subplot(1, 3, 3)\n",
    "n_log_bin = ceil(log2(max(user_network.degree())))\n",
    "x_values, y_values = calculate_log_binning(degree_list, n_log_bin)\n",
    "plt.plot(x_values, y_values, color='#e60049', marker=\"*\", ls='None')\n",
    "#C = y_values[0]\n",
    "#alpha = 1.4\n",
    "#x = np.arange(1,len(degree_list))\n",
    "#y = C*np.power(x,-alpha)\n",
    "#plt.plot(x, y, \"b\")\n",
    "plt.loglog()\n",
    "plt.xlabel('Degree')\n",
    "plt.ylabel('P(k)')\n",
    "\n",
    "#plt.subplot(1, 3, 3)\n",
    "#bins = np.logspace(0, 3.22, 12)\n",
    "#plt.plot(bins[:-1], hist_norm, \"r*\")\n",
    "#plt.plot(range(max_degree), degree_list, \"b.\")\n",
    "#plt.loglog()\n",
    "#plt.xlabel('Degree')\n",
    "#plt.ylabel('P(k)')"
   ]
  },
  {
   "cell_type": "code",
   "execution_count": 11,
   "metadata": {},
   "outputs": [
    {
     "data": {
      "image/png": "[encoded data removed]",
      "text/plain": [
       "<Figure size 432x288 with 1 Axes>"
      ]
     },
     "metadata": {
      "needs_background": "light"
     },
     "output_type": "display_data"
    }
   ],
   "source": [
    "degree_sequence = sorted([d for d in user_network.degree()], reverse=True)  # degree sequence\n",
    "degreeCount = collections.Counter(degree_sequence)\n",
    "deg, cnt = zip(*degreeCount.items())\n",
    "cs = np.cumsum(np.array(cnt)/user_network.vcount())\n",
    "plt.loglog(deg, cs, 'bo')\n",
    "plt.title(\"Cumulative Distribution plot\")\n",
    "plt.ylabel(\"Sample with value > Degree\")\n",
    "plt.xlabel(\"Degree\")\n",
    "plt.show()"
   ]
  },
  {
   "attachments": {},
   "cell_type": "markdown",
   "metadata": {},
   "source": [
    "### Weighted distribution"
   ]
  },
  {
   "cell_type": "code",
   "execution_count": 12,
   "metadata": {},
   "outputs": [
    {
     "name": "stdout",
     "output_type": "stream",
     "text": [
      "1000\n"
     ]
    },
    {
     "data": {
      "text/plain": [
       "<Figure size 432x288 with 0 Axes>"
      ]
     },
     "metadata": {},
     "output_type": "display_data"
    },
    {
     "data": {
      "image/png": "[encoded data removed]",
      "text/plain": [
       "<Figure size 720x720 with 1 Axes>"
      ]
     },
     "metadata": {
      "needs_background": "light"
     },
     "output_type": "display_data"
    },
    {
     "name": "stdout",
     "output_type": "stream",
     "text": [
      "\n"
     ]
    }
   ],
   "source": [
    "arreglo_test = (np.array(user_network.es['weight'])*1000).astype(int)\n",
    "max_peso = max(arreglo_test)\n",
    "print(max_peso)\n",
    "\n",
    "# Crear una lista donde se almacena\n",
    "arreglo_test_ = np.zeros(max_peso, dtype=int)\n",
    "\n",
    "for node in arreglo_test:\n",
    "    #print(node.degree())\n",
    "    arreglo_test_[node-1] = (arreglo_test_[node-1] + 1)\n",
    "\n",
    "plt.clf()\n",
    "plt.figure(figsize=(10,10))\n",
    "plt.plot(arreglo_test_)\n",
    "#fit = powerlaw.Fit(np.array(degree_list)+1, fit_method='KS')#, xmin=xmin, xmax=max(degree)-xmin,discrete=True)\n",
    "#fit.power_law.plot_pdf(color='r',linestyle='--',label='fit ccdf')\n",
    "#fit.plot_ccdf()\n",
    "#plt.yscale(\"log\")\n",
    "#plt.xscale(\"log\")\n",
    "plt.show()\n",
    "print()"
   ]
  },
  {
   "cell_type": "code",
   "execution_count": 15,
   "metadata": {},
   "outputs": [
    {
     "name": "stdout",
     "output_type": "stream",
     "text": [
      "P6: Scale-free distribution p(k) = ∼k^{−α}.\n"
     ]
    },
    {
     "data": {
      "image/png": "[encoded data removed]",
      "text/plain": [
       "<Figure size 720x720 with 1 Axes>"
      ]
     },
     "metadata": {
      "needs_background": "light"
     },
     "output_type": "display_data"
    },
    {
     "name": "stdout",
     "output_type": "stream",
     "text": [
      "\n"
     ]
    }
   ],
   "source": [
    "##### P6: Scale-free distribution p(k) = ∼k−α. #####\n",
    "print(\"P6: Scale-free distribution p(k) = ∼k^{−α}.\")\n",
    "distri_grados = df_train_k_pos.RESOURCE.value_counts()\n",
    "plt.figure(figsize=(10,10))\n",
    "plt.plot(sorted(distri_grados,reverse=True))\n",
    "#x1, y1 = [100, 700], [0.13, 0.015]\n",
    "#x2, y2 = [1, 231], [3, 2]\n",
    "#plt.plot(x1, y1, marker = 'o')\n",
    "plt.yscale(\"log\")\n",
    "plt.xscale(\"log\")\n",
    "plt.show()\n",
    "print()"
   ]
  },
  {
   "cell_type": "code",
   "execution_count": 62,
   "metadata": {},
   "outputs": [],
   "source": [
    "user_network_test = user_network.copy()\n",
    "user_network_test.es.select(weight_lt=0.1).delete()"
   ]
  },
  {
   "cell_type": "code",
   "execution_count": 63,
   "metadata": {},
   "outputs": [
    {
     "data": {
      "text/plain": [
       "'IGRAPH UNW- 1032 1326 -- \\n+ attr: agentfor (v), name (v), role (v), specialty (v), team (v), uward (v), weight (e)'"
      ]
     },
     "execution_count": 63,
     "metadata": {},
     "output_type": "execute_result"
    }
   ],
   "source": [
    "user_network_test.summary()"
   ]
  },
  {
   "cell_type": "code",
   "execution_count": 64,
   "metadata": {},
   "outputs": [
    {
     "name": "stdout",
     "output_type": "stream",
     "text": [
      "34\n"
     ]
    },
    {
     "data": {
      "text/plain": [
       "Text(0, 0.5, 'P(k)')"
      ]
     },
     "execution_count": 64,
     "metadata": {},
     "output_type": "execute_result"
    },
    {
     "data": {
      "text/plain": [
       "<Figure size 432x288 with 0 Axes>"
      ]
     },
     "metadata": {},
     "output_type": "display_data"
    },
    {
     "data": {
      "image/png": "[encoded data removed]",
      "text/plain": [
       "<Figure size 2160x720 with 3 Axes>"
      ]
     },
     "metadata": {
      "needs_background": "light"
     },
     "output_type": "display_data"
    }
   ],
   "source": [
    "max_degree = max(user_network_test.degree())\n",
    "print(max_degree)\n",
    "\n",
    "# Crear una lista donde se almacena\n",
    "degree_list = np.zeros(max_degree, dtype=int)\n",
    "\n",
    "for node in user_network_test.vs():    \n",
    "    degree_list[node.degree()-1] = (degree_list[node.degree()-1] + 1)\n",
    "\n",
    "degree_list = degree_list / user_network_test.vcount()\n",
    "\n",
    "plt.clf()\n",
    "fig = plt.figure(figsize=(30, 10))     \n",
    "\n",
    "plt.subplot(1, 3, 1)\n",
    "plt.plot(degree_list, color=\"#e60049\")\n",
    "plt.xlabel('Degree')\n",
    "plt.ylabel('P(k)')\n",
    "\n",
    "plt.subplot(1, 3, 2)\n",
    "plt.plot(range(max_degree), degree_list, color=\"#00bfa0\", marker='*', ls='None')\n",
    "plt.loglog()\n",
    "plt.xlabel('Degree', color='#9b19f5')\n",
    "plt.ylabel('P(k)')\n",
    "\n",
    "plt.subplot(1, 3, 3)\n",
    "n_log_bin = ceil(log2(max(user_network_test.degree())))\n",
    "x_values, y_values = calculate_log_binning(degree_list, n_log_bin)\n",
    "plt.plot(x_values, y_values, color='#e60049', marker=\"*\", ls='None')\n",
    "#C = y_values[0]\n",
    "#alpha = 1.4\n",
    "#x = np.arange(1,len(degree_list))\n",
    "#y = C*np.power(x,-alpha)\n",
    "#plt.plot(x, y, \"b\")\n",
    "plt.loglog()\n",
    "plt.xlabel('Degree')\n",
    "plt.ylabel('P(k)')\n"
   ]
  },
  {
   "cell_type": "code",
   "execution_count": 16,
   "metadata": {},
   "outputs": [
    {
     "name": "stdout",
     "output_type": "stream",
     "text": [
      "Density: 0.002492499943608599\n",
      "Avg. degree 2.5697674418604652\n",
      "Connected Components: 505\n"
     ]
    }
   ],
   "source": [
    "density = user_network_test.density()\n",
    "print(\"Density:\", density)\n",
    "\n",
    "avg_degree = sum(user_network_test.degree()) / user_network_test.vcount()\n",
    "print(\"Avg. degree\", avg_degree)\n",
    "\n",
    "components = user_network_test.components()\n",
    "print(\"Connected Components:\", len(components))"
   ]
  },
  {
   "cell_type": "code",
   "execution_count": 65,
   "metadata": {},
   "outputs": [],
   "source": [
    "user_network_test.write(\"HC-users-attrs.gml\")"
   ]
  },
  {
   "cell_type": "code",
   "execution_count": 25,
   "metadata": {},
   "outputs": [],
   "source": [
    "biggest_comp = components.subgraphs()[18]"
   ]
  },
  {
   "cell_type": "code",
   "execution_count": 26,
   "metadata": {},
   "outputs": [
    {
     "name": "stdout",
     "output_type": "stream",
     "text": [
      "34\n"
     ]
    },
    {
     "data": {
      "text/plain": [
       "Text(0, 0.5, 'P(k)')"
      ]
     },
     "execution_count": 26,
     "metadata": {},
     "output_type": "execute_result"
    },
    {
     "data": {
      "text/plain": [
       "<Figure size 432x288 with 0 Axes>"
      ]
     },
     "metadata": {},
     "output_type": "display_data"
    },
    {
     "data": {
      "image/png": "[encoded data removed]",
      "text/plain": [
       "<Figure size 2160x720 with 3 Axes>"
      ]
     },
     "metadata": {
      "needs_background": "light"
     },
     "output_type": "display_data"
    }
   ],
   "source": [
    "max_degree = max(biggest_comp.degree())\n",
    "print(max_degree)\n",
    "\n",
    "# Colors palette CATEGORICAL\n",
    "# [\"#ea5545\", \"#f46a9b\", \"#ef9b20\", \"#edbf33\", \"#ede15b\", \"#bdcf32\", \"#87bc45\", \"#27aeef\", \"#b33dc6\"]\n",
    "# [\"#fd7f6f\", \"#7eb0d5\", \"#b2e061\", \"#bd7ebe\", \"#ffb55a\", \"#ffee65\", \"#beb9db\", \"#fdcce5\", \"#8bd3c7\"] Pasteles\n",
    "# [#e60049\", \"#0bb4ff\", \"#50e991\", \"#e6d800\", \"#9b19f5\", \"#ffa300\", \"#dc0ab4\", \"#b3d4ff\", \"#00bfa0\"] Dutch\n",
    "\n",
    "# Colors palette Secquence\n",
    "# [\"#115f9a\", \"#1984c5\", \"#22a7f0\", \"#48b5c4\", \"#76c68f\", \"#a6d75b\", \"#c9e52f\", \"#d0ee11\", \"#d0f400\"]\n",
    "\n",
    "# Crear una lista donde se almacena\n",
    "degree_list = np.zeros(max_degree, dtype=int)\n",
    "\n",
    "for node in biggest_comp.vs():    \n",
    "    degree_list[node.degree()-1] = (degree_list[node.degree()-1] + 1)\n",
    "\n",
    "degree_list = degree_list / biggest_comp.vcount()\n",
    "\n",
    "plt.clf()\n",
    "fig = plt.figure(figsize=(30, 10))     \n",
    "\n",
    "plt.subplot(1, 3, 1)\n",
    "plt.plot(degree_list, color=\"#e60049\")\n",
    "plt.xlabel('Degree')\n",
    "plt.ylabel('P(k)')\n",
    "\n",
    "plt.subplot(1, 3, 2)\n",
    "plt.plot(range(max_degree), degree_list, color=\"#00bfa0\", marker='*', ls='None')\n",
    "plt.loglog()\n",
    "plt.xlabel('Degree', color='#9b19f5')\n",
    "plt.ylabel('P(k)')\n",
    "\n",
    "plt.subplot(1, 3, 3)\n",
    "n_log_bin = ceil(log2(max(biggest_comp.degree())))\n",
    "x_values, y_values = calculate_log_binning(degree_list, n_log_bin)\n",
    "plt.plot(x_values, y_values, color='#e60049', marker=\"*\", ls='None')\n",
    "#C = y_values[0]\n",
    "#alpha = 1.4\n",
    "#x = np.arange(1,len(degree_list))\n",
    "#y = C*np.power(x,-alpha)\n",
    "#plt.plot(x, y, \"b\")\n",
    "plt.loglog()\n",
    "plt.xlabel('Degree')\n",
    "plt.ylabel('P(k)')\n",
    "\n",
    "#plt.subplot(1, 3, 3)\n",
    "#bins = np.logspace(0, 3.22, 12)\n",
    "#plt.plot(bins[:-1], hist_norm, \"r*\")\n",
    "#plt.plot(range(max_degree), degree_list, \"b.\")\n",
    "#plt.loglog()\n",
    "#plt.xlabel('Degree')\n",
    "#plt.ylabel('P(k)')"
   ]
  },
  {
   "cell_type": "code",
   "execution_count": null,
   "metadata": {},
   "outputs": [],
   "source": [
    "# Agregar attributos al grafo de usuarios.\n",
    "# Aplicar detección de comunidades.\n",
    "# Ver si genera comunidades con la estructura del grafo bipartito (circulos de colores del doc)\n",
    "# Ver si genera comunidades con los mismo atribuos."
   ]
  }
 ],
 "metadata": {
  "kernelspec": {
   "display_name": "tesis_env",
   "language": "python",
   "name": "python3"
  },
  "language_info": {
   "codemirror_mode": {
    "name": "ipython",
    "version": 3
   },
   "file_extension": ".py",
   "mimetype": "text/x-python",
   "name": "python",
   "nbconvert_exporter": "python",
   "pygments_lexer": "ipython3",
   "version": "3.7.13 (default, Mar 29 2022, 02:18:16) \n[GCC 7.5.0]"
  },
  "orig_nbformat": 4,
  "vscode": {
   "interpreter": {
    "hash": "deec884ae07beaa7e970d39d84b9343805b80aeba4e343861fb4097b62dc7004"
   }
  }
 },
 "nbformat": 4,
 "nbformat_minor": 2
}
