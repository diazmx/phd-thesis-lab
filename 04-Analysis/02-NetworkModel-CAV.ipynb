{
 "cells": [
  {
   "attachments": {},
   "cell_type": "markdown",
   "metadata": {},
   "source": [
    "# Network Model - Analysis"
   ]
  },
  {
   "cell_type": "code",
   "execution_count": 1,
   "metadata": {},
   "outputs": [],
   "source": [
    "# Libraries\n",
    "import numpy as np\n",
    "import pandas as pd\n",
    "import igraph as ig\n",
    "import networkx as nx\n",
    "from sklearn.model_selection import StratifiedKFold, StratifiedShuffleSplit\n",
    "from auxiliar_funcs import *\n",
    "import matplotlib.pyplot as plt\n",
    "#import powerlaw as plaw\n",
    "import collections\n",
    "from math import log2, ceil"
   ]
  },
  {
   "attachments": {},
   "cell_type": "markdown",
   "metadata": {},
   "source": [
    "### Load Data"
   ]
  },
  {
   "cell_type": "code",
   "execution_count": 21,
   "metadata": {},
   "outputs": [
    {
     "name": "stdout",
     "output_type": "stream",
     "text": [
      "Columns:  Index(['driving_task_type', 'control', 'monitoring', 'fallback', 'weather',\n",
      "       'visibility', 'traffic_congestion', 'environmental_weighted_average',\n",
      "       'driving_task_loa', 'vehicle_loa', 'region_loa', 'result'],\n",
      "      dtype='object')\n",
      "Lenght:  239580\n",
      "\n",
      "|A_U| = 6\n",
      "|A_R| = 3\n",
      "\n",
      "|U| = 6655\n",
      "|R| = 216\n",
      "\n",
      "|L+| = 118975 49.66%\n",
      "|L-| = 120605 50.34%\n",
      "Done!\n",
      " - k = 10\n",
      " - Train-Test size:  191664 ( 80.0 ) \t 47916 ( 20.0 )\n"
     ]
    }
   ],
   "source": [
    "# Load data\n",
    "url_file = '../00-Data/cav_policies.csv'\n",
    "cav_data = pd.read_csv(url_file)\n",
    "\n",
    "# Get a smaller sample: 15K positive and 15k negative.\n",
    "# cav_data = cav_data.groupby('result').sample(n=15000)\n",
    "print(\"Columns: \", cav_data.columns)\n",
    "print(\"Lenght: \", len(cav_data)); print()\n",
    "\n",
    "user_attr = ['control', 'monitoring', 'fallback', 'weather', 'visibility', \n",
    "        'traffic_congestion']\n",
    "#user_attr = ['control', 'monitoring', 'fallback']\n",
    "rsrc_attr = ['driving_task_loa', 'vehicle_loa', 'region_loa']\n",
    "cav_data = cav_data[user_attr + rsrc_attr + ['result']]\n",
    "\n",
    "##### Change string values to numerical\n",
    "mapping = {'system': 10101, 'human': 10201, 'human and system': 10301} # Control\n",
    "cav_data.control = cav_data.control.replace(mapping)\n",
    "mapping = {'system': 20102, 'human': 20202} # monitoring\n",
    "cav_data.monitoring = cav_data.monitoring.replace(mapping)\n",
    "mapping = {'system': 30103, 'human': 30203} # fallbacj\n",
    "cav_data.fallback = cav_data.fallback.replace(mapping)\n",
    "mapping = {0: 40004, 1: 40104, 2: 40204, 3: 40304, 4: 40404, 5: 40504}\n",
    "cav_data.driving_task_loa = cav_data.driving_task_loa.replace(mapping)\n",
    "mapping = {0: 50005, 1: 50105, 2: 50205, 3: 50305, 4: 50405, 5: 50505}\n",
    "cav_data.vehicle_loa = cav_data.vehicle_loa.replace(mapping)\n",
    "mapping = {0: 60006, 1: 60106, 2: 60206, 3: 60306, 4: 60406, 5: 60506}\n",
    "cav_data.region_loa = cav_data.region_loa.replace(mapping)\n",
    "##### END - Mapping values\n",
    "\n",
    "# Number of users and resources attributes\n",
    "print(\"|A_U| =\", len(user_attr)) # Number of users attributes\n",
    "print(\"|A_R| =\", len(rsrc_attr)); print() # Number of resources attributes\n",
    "\n",
    "# Data statictics:\n",
    "n_users = len(cav_data[user_attr].drop_duplicates()) # Number of users\n",
    "n_rscrc = len(cav_data[rsrc_attr].drop_duplicates()) # Number of resources\n",
    "print(\"|U| =\", n_users)\n",
    "print(\"|R| =\", n_rscrc); print()\n",
    "\n",
    "# Add user and resource id columns\n",
    "user_dict = get_user_res(cav_data, user_attr, True)\n",
    "rsrc_dict = get_user_res(cav_data, rsrc_attr, False)\n",
    "cav_data = add_col(cav_data, user_dict, user_attr, \"USRID\")\n",
    "cav_data = add_col(cav_data, rsrc_dict, rsrc_attr, \"RESID\")\n",
    "\n",
    "# Accepted and rejected requests\n",
    "cav_pos = cav_data[cav_data.result == 'approved']\n",
    "cav_neg = cav_data[cav_data.result == 'rejected']\n",
    "print(\"|L+| =\", len(cav_pos), \"{:.2f}%\".format((len(cav_pos) \n",
    "        / len(cav_data) ) * 100))\n",
    "print(\"|L-| =\", len(cav_neg), \"{:.2f}%\".format((len(cav_neg) \n",
    "        / len(cav_data) ) * 100))\n",
    "\n",
    "# Cross validation\n",
    "k = 10\n",
    "test_size = 0.2\n",
    "kfold = StratifiedShuffleSplit(n_splits=k, test_size=test_size, random_state=1)\n",
    "\n",
    "data_partition = kfold.split(cav_data, cav_data.result)\n",
    "data_curpus = [] # A list to storage the k folds\n",
    "\n",
    "for train_data, test_data in data_partition:\n",
    "    X_train, X_test = cav_data.iloc[train_data], cav_data.iloc[test_data]\n",
    "    data_curpus.append([X_train, X_test])\n",
    "\n",
    "print(\"Done!\")  \n",
    "print(\" - k =\", k)\n",
    "print(\" - Train-Test size: \", len(data_curpus[0][0]), \"(\", (1-test_size)*100, \") \\t\", len(data_curpus[0][1]), \"(\", test_size*100, \")\")"
   ]
  },
  {
   "cell_type": "code",
   "execution_count": 17,
   "metadata": {},
   "outputs": [
    {
     "name": "stdout",
     "output_type": "stream",
     "text": [
      "# Train access request = 191664 80.00%\n",
      "# Train access request = 47916 80.00%\n",
      "Total = 239580\n",
      "\n",
      "TASK 1: Done!\n",
      "\n",
      "TASK 2: Done!\n",
      "\n",
      "TASK 3: Drop duplicates access requests\n",
      " -TRAIN DATA: Removing -95086 positive access requests\n",
      " -TRAIN DATA: Removing -96254 negative access requests\n",
      " -TEST DATA: Removing -23701 positive access requests\n",
      " -TEST DATA: Removing -23915 negative access requests\n",
      "Hecho!\n",
      "\n",
      "|U| = 5\n",
      "|R| = 91\n"
     ]
    }
   ],
   "source": [
    "##### Control variables\n",
    "id_kfold = 0\n",
    "task4 = False\n",
    "#####\n",
    "\n",
    "cav_train, cav_test = data_curpus[id_kfold][0], data_curpus[id_kfold][1]\n",
    "print(\"# Train access request =\", len(cav_train), \"{:.2f}%\".format(\n",
    "    len(cav_train)/(len(cav_train)+len(cav_test))*100))\n",
    "print(\"# Train access request =\", len(cav_test), \"{:.2f}%\".format(\n",
    "    len(cav_train)/(len(cav_train)+len(cav_test))*100))\n",
    "print(\"Total =\", len(cav_train)+len(cav_test)); print()\n",
    "\n",
    "#### **** SELECT FUNCTIONAL ATTRIBUTES **** ####\n",
    "cav_train = cav_train[user_attr + rsrc_attr + ['USRID', 'RESID', 'result']]\n",
    "cav_test = cav_test[user_attr + rsrc_attr + ['USRID', 'RESID', 'result']]\n",
    "\n",
    "##### ***** Task 1: Null and uknwokn values ***** #####\n",
    "print(\"TASK 1: Done!\"); print() # NA\n",
    "\n",
    "\n",
    "##### ***** TASK 2: convert continuous values to categorical values ***** #####\n",
    "print(\"TASK 2: Done!\"); print() # NA \n",
    "\n",
    "##### ***** TASK 3: Drop duplicates access requests ***** #####\n",
    "print(\"TASK 3: Drop duplicates access requests\")\n",
    "\n",
    "positive_cav_train = cav_train[cav_train.result=='approved']\n",
    "positive_cav_test = cav_test[cav_test.result=='approved']\n",
    "negative_cav_train = cav_train[cav_train.result=='rejected']\n",
    "negative_cav_test = cav_test[cav_test.result=='rejected']\n",
    "\n",
    "\n",
    "print(\" -TRAIN DATA: Removing\", \n",
    "    len(positive_cav_train.drop_duplicates()) - \n",
    "    len(positive_cav_train), \"positive access requests\")\n",
    "print(\" -TRAIN DATA: Removing\", \n",
    "    len(negative_cav_train.drop_duplicates()) - \n",
    "    len(negative_cav_train), \"negative access requests\")\n",
    "print(\" -TEST DATA: Removing\", \n",
    "    len(positive_cav_test.drop_duplicates()) - \n",
    "    len(positive_cav_test), \"positive access requests\")\n",
    "print(\" -TEST DATA: Removing\", \n",
    "    len(negative_cav_test.drop_duplicates()) - \n",
    "    len(negative_cav_test), \"negative access requests\")\n",
    "\n",
    "# Filter resources\n",
    "if task4:\n",
    "    n1 = 0\n",
    "    n2 = 84\n",
    "    top_list = positive_cav_train.RESID.value_counts()[:len(positive_cav_train.RESID.drop_duplicates())].index.tolist()\n",
    "    # Filter the interval between n1 and n2\n",
    "    top_list = top_list[n1:n2+1]\n",
    "    print('#Filtered resources:', len(top_list))\n",
    "\n",
    "    boolean_series = positive_cav_train.RESID.isin(top_list)\n",
    "    positive_cav_train = positive_cav_train[boolean_series]\n",
    "    #bolean_series = negative_cav_train.RESID.isin(top_list)\n",
    "    #negative_cav_train = negative_cav_train[bolean_series]\n",
    "\n",
    "# Data statictics:\n",
    "print(\"Hecho!\"); print()\n",
    "n_users = len(positive_cav_train.USRID.drop_duplicates()) # Number of users\n",
    "n_rscrc = len(positive_cav_train.RESID.drop_duplicates()) # Number of resources\n",
    "print(\"|U| =\", n_users)\n",
    "print(\"|R| =\", n_rscrc)\n"
   ]
  },
  {
   "attachments": {},
   "cell_type": "markdown",
   "metadata": {},
   "source": [
    "### Network Modelling"
   ]
  },
  {
   "cell_type": "code",
   "execution_count": 4,
   "metadata": {},
   "outputs": [],
   "source": [
    "def build_network_model(data, usr_id_name, res_id_name, file_path=None):\n",
    "    \"\"\"\n",
    "    Builds the Access Requests Bipartite Network from Access log.\n",
    "\n",
    "    Args:\n",
    "        data (pandas dataframe): The Access Log.\n",
    "        usr_id_name (str): The name of the ID users column in the Access Log\n",
    "        res_id_name (str): The name of the ID resources column in the Access Log\n",
    "    \n",
    "    Returns:\n",
    "        Graph (iGraph): The Access Requests Bipartite Network.\n",
    "\n",
    "    Raises:\n",
    "        TypeError: If a network is not Bipartite.\n",
    "    \"\"\"\n",
    "    \n",
    "    list_of_edges = []\n",
    "    bi_network = nx.Graph() # NetworkX Graph object\n",
    "\n",
    "    for usr_idx, rsr_idx in data[[usr_id_name, res_id_name]].values:\n",
    "        list_of_edges.append((int(usr_idx), int(rsr_idx))) # Tuple of edges\n",
    "    bi_network.add_edges_from(list_of_edges) # Build Network with edges\n",
    "\n",
    "    # Change networkX object to iGraph object\n",
    "    bi_network = ig.Graph.from_networkx(bi_network)\n",
    "    bi_network.vs['name'] = bi_network.vs[\"_nx_name\"] # Clean name column\n",
    "    del bi_network.vs[\"_nx_name\"] # Remove uncleaned name column\n",
    "\n",
    "    print(bi_network.summary())\n",
    "    print(bi_network.vs())\n",
    "\n",
    "    if not bi_network.is_bipartite():\n",
    "        raise TypeError(\"The ARBN is not bipartite\")\n",
    "\n",
    "    ### Add type of node (user or resource)\n",
    "    list_of_resources_in_data = list(data[res_id_name])\n",
    "    list_node_type = []\n",
    "    for node in bi_network.vs():\n",
    "        if node['name'] in list_of_resources_in_data:\n",
    "            list_node_type.append(1) # A resource\n",
    "        else:\n",
    "            list_node_type.append(0) # An user\n",
    "    bi_network.vs[\"typen\"] = list_node_type\n",
    "    ### End node type\n",
    "\n",
    "    if not file_path == None: # Create a file\n",
    "        ig.write(bi_network, file_path)\n",
    "\n",
    "    print(\"ARBN builded!\")\n",
    "    print(bi_network.summary())\n",
    "    print(\"|U-Nodes| =\", len(bi_network.vs.select(typen=0)))\n",
    "    print(\"|R-Nodes| =\", len(bi_network.vs.select(typen=1)))\n",
    "\n",
    "    return bi_network\n",
    "    "
   ]
  },
  {
   "cell_type": "code",
   "execution_count": 18,
   "metadata": {},
   "outputs": [
    {
     "name": "stdout",
     "output_type": "stream",
     "text": [
      "IGRAPH UN-- 96 94 -- \n",
      "+ attr: name (v)\n",
      "<igraph.VertexSeq object at 0x7f06656e5710>\n",
      "ARBN builded!\n",
      "IGRAPH UN-- 96 94 -- \n",
      "+ attr: name (v), typen (v)\n",
      "|U-Nodes| = 5\n",
      "|R-Nodes| = 91\n"
     ]
    }
   ],
   "source": [
    "bip_network = build_network_model(positive_cav_train, 'USRID', 'RESID')"
   ]
  },
  {
   "attachments": {},
   "cell_type": "markdown",
   "metadata": {},
   "source": [
    "### User network"
   ]
  },
  {
   "cell_type": "code",
   "execution_count": 7,
   "metadata": {},
   "outputs": [],
   "source": [
    "def get_edge_weight(i_node, j_node):\n",
    "    \"\"\"\n",
    "    Compute the weight of an edge between i and j nodes.\n",
    "\n",
    "    Args:\n",
    "        i_node (networkX node): i node.\n",
    "        j_node (networkX node): j node.\n",
    "    \n",
    "    Returns:\n",
    "        weight (float): The weight between nodes.\n",
    "\n",
    "    Raises:\n",
    "        TypeError: if there are not an intersection\n",
    "    \"\"\"\n",
    "    neighs_i = set(i_node.neighbors())\n",
    "    neighs_j = set(j_node.neighbors())\n",
    "\n",
    "    insersection_neighbors = neighs_i.intersection(neighs_j)\n",
    "    \n",
    "    weight = (len(insersection_neighbors)*len(insersection_neighbors)) / (len(neighs_i)*len(neighs_j))\n",
    "\n",
    "    return weight\n",
    "\n",
    "\n",
    "def bipartite_projection(biparte_network, node_type=0):\n",
    "    \"\"\"\n",
    "    Generate a monopartite network from bipartite network.\n",
    "\n",
    "    Parameters:\n",
    "        bipartite_network (igraph Graph): The bipartie network.\n",
    "        node_type (int): The set of nodes of the monopartite network.\n",
    "\n",
    "    Returns:\n",
    "        Graph (iGraph): The monopartite (projected) network.\n",
    "\n",
    "    Raises:\n",
    "        Some\n",
    "    \"\"\"\n",
    "\n",
    "    #Check if the bipartite network is a bipartite network:\n",
    "    if not biparte_network.is_bipartite():\n",
    "        raise TypeError(\"The ARBN is not bipartite\")\n",
    "\n",
    "    # networkX object (more easy to buil)\n",
    "    g = nx.Graph()\n",
    "\n",
    "    # All opposite node set\n",
    "    opposite_nodes = biparte_network.vs.select(typen=1)\n",
    "\n",
    "    # Check for every node the same type\n",
    "    for X_node in opposite_nodes:\n",
    "        # Select all neighbors of the X_node\n",
    "        neighbordhood = X_node.neighbors()\n",
    "\n",
    "        for Y_node_i in neighbordhood:\n",
    "            for Y_node_j in neighbordhood:\n",
    "                # Ceck if both nodes are the same\n",
    "                if Y_node_i['name'] != Y_node_j['name']:\n",
    "                    # If there is no an edge generate\n",
    "                    if not g.has_edge(Y_node_i['name'], Y_node_j['name']):\n",
    "                        weight_ = get_edge_weight(Y_node_i, Y_node_j)\n",
    "                        #print(\"Peso: \", Y_node_i['name'], \"-\", Y_node_j['name'], \" => \", weight_)\n",
    "                        g.add_edge(Y_node_i[\"name\"], Y_node_j[\"name\"],\n",
    "                                   weight=weight_)                                 \n",
    "\n",
    "    # Convert from networkX graph to igraph graph\n",
    "    g = ig.Graph.from_networkx(g)\n",
    "    g.vs[\"name\"] = g.vs[\"_nx_name\"]\n",
    "    del g.vs[\"_nx_name\"]\n",
    "    \n",
    "    return g\n"
   ]
  },
  {
   "cell_type": "code",
   "execution_count": 19,
   "metadata": {},
   "outputs": [
    {
     "name": "stdout",
     "output_type": "stream",
     "text": [
      "IGRAPH UNW- 4 6 -- \n",
      "+ attr: name (v), weight (e)\n"
     ]
    }
   ],
   "source": [
    "user_network = bipartite_projection(bip_network, 0)\n",
    "print(user_network.summary())\n",
    "# ig.write(user_network, \"graphs/amz_user_network.gml\")"
   ]
  },
  {
   "attachments": {},
   "cell_type": "markdown",
   "metadata": {},
   "source": [
    "### Network Analysis"
   ]
  },
  {
   "cell_type": "code",
   "execution_count": 20,
   "metadata": {},
   "outputs": [
    {
     "name": "stdout",
     "output_type": "stream",
     "text": [
      "Density: 1.0\n",
      "Avg. degree 3.0\n",
      "Connected Components: 1\n"
     ]
    }
   ],
   "source": [
    "density = user_network.density()\n",
    "print(\"Density:\", density)\n",
    "\n",
    "avg_degree = sum(user_network.degree()) / user_network.vcount()\n",
    "print(\"Avg. degree\", avg_degree)\n",
    "\n",
    "components = user_network.components()\n",
    "print(\"Connected Components:\", len(components))"
   ]
  },
  {
   "cell_type": "code",
   "execution_count": 12,
   "metadata": {},
   "outputs": [],
   "source": [
    "def calculate_log_binning(degrees_list, n_bins):\n",
    "    \"\"\"\n",
    "    Compute the log-binning y-values.\n",
    "    \"\"\"\n",
    "    current_sum = 0\n",
    "    previous_k = 0\n",
    "    y_values_log_bin_list = []\n",
    "    x_values = []\n",
    "\n",
    "    for i in range(1, n_bins):\n",
    "        x_values.append(previous_k)\n",
    "        current_k = 2 ** (i)\n",
    "        current_sum = current_sum + current_k\n",
    "        temp_y_value = sum(degrees_list[previous_k:current_k])\n",
    "        temp_y_value = temp_y_value / (current_k-previous_k)\n",
    "        y_values_log_bin_list.append(temp_y_value)\n",
    "        previous_k = current_k\n",
    "\n",
    "        if current_sum > len(degrees_list):\n",
    "            x_values.append(previous_k)\n",
    "            temp_y_value = sum(degrees_list[previous_k:len(degrees_list)])\n",
    "            temp_y_value = temp_y_value / (len(degrees_list)-previous_k)\n",
    "            y_values_log_bin_list.append(temp_y_value)            \n",
    "            break\n",
    "\n",
    "    return x_values, y_values_log_bin_list"
   ]
  },
  {
   "cell_type": "code",
   "execution_count": 13,
   "metadata": {},
   "outputs": [
    {
     "name": "stdout",
     "output_type": "stream",
     "text": [
      "1330\n"
     ]
    },
    {
     "data": {
      "text/plain": [
       "Text(0, 0.5, 'P(k)')"
      ]
     },
     "execution_count": 13,
     "metadata": {},
     "output_type": "execute_result"
    },
    {
     "data": {
      "text/plain": [
       "<Figure size 432x288 with 0 Axes>"
      ]
     },
     "metadata": {},
     "output_type": "display_data"
    },
    {
     "data": {
      "image/png": "[encoded data removed]",
      "text/plain": [
       "<Figure size 2160x720 with 3 Axes>"
      ]
     },
     "metadata": {
      "needs_background": "light"
     },
     "output_type": "display_data"
    }
   ],
   "source": [
    "max_degree = max(user_network.degree())\n",
    "print(max_degree)\n",
    "\n",
    "# Colors palette CATEGORICAL\n",
    "# [\"#ea5545\", \"#f46a9b\", \"#ef9b20\", \"#edbf33\", \"#ede15b\", \"#bdcf32\", \"#87bc45\", \"#27aeef\", \"#b33dc6\"]\n",
    "# [\"#fd7f6f\", \"#7eb0d5\", \"#b2e061\", \"#bd7ebe\", \"#ffb55a\", \"#ffee65\", \"#beb9db\", \"#fdcce5\", \"#8bd3c7\"] Pasteles\n",
    "# [#e60049\", \"#0bb4ff\", \"#50e991\", \"#e6d800\", \"#9b19f5\", \"#ffa300\", \"#dc0ab4\", \"#b3d4ff\", \"#00bfa0\"] Dutch\n",
    "\n",
    "# Colors palette Secquence\n",
    "# [\"#115f9a\", \"#1984c5\", \"#22a7f0\", \"#48b5c4\", \"#76c68f\", \"#a6d75b\", \"#c9e52f\", \"#d0ee11\", \"#d0f400\"]\n",
    "\n",
    "# Crear una lista donde se almacena\n",
    "degree_list = np.zeros(max_degree, dtype=int)\n",
    "\n",
    "for node in user_network.vs():    \n",
    "    degree_list[node.degree()-1] = (degree_list[node.degree()-1] + 1)\n",
    "\n",
    "degree_list = degree_list / user_network.vcount()\n",
    "\n",
    "plt.clf()\n",
    "fig = plt.figure(figsize=(30, 10))     \n",
    "\n",
    "plt.subplot(1, 3, 1)\n",
    "plt.plot(degree_list, color=\"#e60049\")\n",
    "plt.xlabel('Degree')\n",
    "plt.ylabel('P(k)')\n",
    "\n",
    "plt.subplot(1, 3, 2)\n",
    "plt.plot(range(max_degree), degree_list, color=\"#00bfa0\", marker='*', ls='None')\n",
    "plt.loglog()\n",
    "plt.xlabel('Degree', color='#9b19f5')\n",
    "plt.ylabel('P(k)')\n",
    "\n",
    "plt.subplot(1, 3, 3)\n",
    "n_log_bin = ceil(log2(max(user_network.degree())))\n",
    "x_values, y_values = calculate_log_binning(degree_list, n_log_bin)\n",
    "plt.plot(x_values, y_values, color='#e60049', marker=\"*\", ls='None')\n",
    "#C = y_values[0]\n",
    "#alpha = 1.4\n",
    "#x = np.arange(1,len(degree_list))\n",
    "#y = C*np.power(x,-alpha)\n",
    "#plt.plot(x, y, \"b\")\n",
    "plt.loglog()\n",
    "plt.xlabel('Degree')\n",
    "plt.ylabel('P(k)')\n",
    "\n",
    "#plt.subplot(1, 3, 3)\n",
    "#bins = np.logspace(0, 3.22, 12)\n",
    "#plt.plot(bins[:-1], hist_norm, \"r*\")\n",
    "#plt.plot(range(max_degree), degree_list, \"b.\")\n",
    "#plt.loglog()\n",
    "#plt.xlabel('Degree')\n",
    "#plt.ylabel('P(k)')"
   ]
  },
  {
   "cell_type": "code",
   "execution_count": 23,
   "metadata": {},
   "outputs": [
    {
     "data": {
      "image/png": "[encoded data removed]",
      "text/plain": [
       "<Figure size 432x288 with 1 Axes>"
      ]
     },
     "metadata": {
      "needs_background": "light"
     },
     "output_type": "display_data"
    }
   ],
   "source": [
    "degree_sequence = sorted([d for d in user_network.degree()], reverse=True)  # degree sequence\n",
    "degreeCount = collections.Counter(degree_sequence)\n",
    "deg, cnt = zip(*degreeCount.items())\n",
    "cs = np.cumsum(np.array(cnt)/user_network.vcount())\n",
    "plt.loglog(deg, cs, 'bo')\n",
    "plt.title(\"Cumulative Distribution plot\")\n",
    "plt.ylabel(\"Sample with value > Degree\")\n",
    "plt.xlabel(\"Degree\")\n",
    "plt.show()"
   ]
  },
  {
   "attachments": {},
   "cell_type": "markdown",
   "metadata": {},
   "source": [
    "### Weighted distribution"
   ]
  },
  {
   "cell_type": "code",
   "execution_count": 24,
   "metadata": {},
   "outputs": [
    {
     "name": "stdout",
     "output_type": "stream",
     "text": [
      "1000\n"
     ]
    },
    {
     "data": {
      "text/plain": [
       "<Figure size 432x288 with 0 Axes>"
      ]
     },
     "metadata": {},
     "output_type": "display_data"
    },
    {
     "data": {
      "image/png": "[encoded data removed]",
      "text/plain": [
       "<Figure size 720x720 with 1 Axes>"
      ]
     },
     "metadata": {
      "needs_background": "light"
     },
     "output_type": "display_data"
    },
    {
     "name": "stdout",
     "output_type": "stream",
     "text": [
      "\n"
     ]
    }
   ],
   "source": [
    "arreglo_test = (np.array(user_network.es['weight'])*1000).astype(int)\n",
    "max_peso = max(arreglo_test)\n",
    "print(max_peso)\n",
    "\n",
    "# Crear una lista donde se almacena\n",
    "arreglo_test_ = np.zeros(max_peso, dtype=int)\n",
    "\n",
    "for node in arreglo_test:\n",
    "    #print(node.degree())\n",
    "    arreglo_test_[node-1] = (arreglo_test_[node-1] + 1)\n",
    "\n",
    "plt.clf()\n",
    "plt.figure(figsize=(10,10))\n",
    "plt.plot(arreglo_test_)\n",
    "#fit = powerlaw.Fit(np.array(degree_list)+1, fit_method='KS')#, xmin=xmin, xmax=max(degree)-xmin,discrete=True)\n",
    "#fit.power_law.plot_pdf(color='r',linestyle='--',label='fit ccdf')\n",
    "#fit.plot_ccdf()\n",
    "#plt.yscale(\"log\")\n",
    "#plt.xscale(\"log\")\n",
    "plt.show()\n",
    "print()"
   ]
  },
  {
   "cell_type": "code",
   "execution_count": 15,
   "metadata": {},
   "outputs": [
    {
     "name": "stdout",
     "output_type": "stream",
     "text": [
      "P6: Scale-free distribution p(k) = ∼k^{−α}.\n"
     ]
    },
    {
     "data": {
      "image/png": "[encoded data removed]",
      "text/plain": [
       "<Figure size 720x720 with 1 Axes>"
      ]
     },
     "metadata": {
      "needs_background": "light"
     },
     "output_type": "display_data"
    },
    {
     "name": "stdout",
     "output_type": "stream",
     "text": [
      "\n"
     ]
    }
   ],
   "source": [
    "##### P6: Scale-free distribution p(k) = ∼k−α. #####\n",
    "print(\"P6: Scale-free distribution p(k) = ∼k^{−α}.\")\n",
    "distri_grados = df_train_k_pos.RESOURCE.value_counts()\n",
    "plt.figure(figsize=(10,10))\n",
    "plt.plot(sorted(distri_grados,reverse=True))\n",
    "#x1, y1 = [100, 700], [0.13, 0.015]\n",
    "#x2, y2 = [1, 231], [3, 2]\n",
    "#plt.plot(x1, y1, marker = 'o')\n",
    "plt.yscale(\"log\")\n",
    "plt.xscale(\"log\")\n",
    "plt.show()\n",
    "print()"
   ]
  },
  {
   "cell_type": "code",
   "execution_count": 31,
   "metadata": {},
   "outputs": [],
   "source": [
    "user_network_test = user_network.copy()\n",
    "user_network_test.es.select(weight_lt=0.1).delete()"
   ]
  },
  {
   "cell_type": "code",
   "execution_count": 32,
   "metadata": {},
   "outputs": [
    {
     "data": {
      "text/plain": [
       "'IGRAPH UNW- 1032 1326 -- \\n+ attr: name (v), weight (e)'"
      ]
     },
     "execution_count": 32,
     "metadata": {},
     "output_type": "execute_result"
    }
   ],
   "source": [
    "user_network_test.summary()"
   ]
  },
  {
   "cell_type": "code",
   "execution_count": 33,
   "metadata": {},
   "outputs": [
    {
     "name": "stdout",
     "output_type": "stream",
     "text": [
      "34\n"
     ]
    },
    {
     "data": {
      "text/plain": [
       "Text(0, 0.5, 'P(k)')"
      ]
     },
     "execution_count": 33,
     "metadata": {},
     "output_type": "execute_result"
    },
    {
     "data": {
      "text/plain": [
       "<Figure size 432x288 with 0 Axes>"
      ]
     },
     "metadata": {},
     "output_type": "display_data"
    },
    {
     "data": {
      "image/png": "[encoded data removed]",
      "text/plain": [
       "<Figure size 2160x720 with 3 Axes>"
      ]
     },
     "metadata": {
      "needs_background": "light"
     },
     "output_type": "display_data"
    }
   ],
   "source": [
    "max_degree = max(user_network_test.degree())\n",
    "print(max_degree)\n",
    "\n",
    "# Crear una lista donde se almacena\n",
    "degree_list = np.zeros(max_degree, dtype=int)\n",
    "\n",
    "for node in user_network_test.vs():    \n",
    "    degree_list[node.degree()-1] = (degree_list[node.degree()-1] + 1)\n",
    "\n",
    "degree_list = degree_list / user_network_test.vcount()\n",
    "\n",
    "plt.clf()\n",
    "fig = plt.figure(figsize=(30, 10))     \n",
    "\n",
    "plt.subplot(1, 3, 1)\n",
    "plt.plot(degree_list, color=\"#e60049\")\n",
    "plt.xlabel('Degree')\n",
    "plt.ylabel('P(k)')\n",
    "\n",
    "plt.subplot(1, 3, 2)\n",
    "plt.plot(range(max_degree), degree_list, color=\"#00bfa0\", marker='*', ls='None')\n",
    "plt.loglog()\n",
    "plt.xlabel('Degree', color='#9b19f5')\n",
    "plt.ylabel('P(k)')\n",
    "\n",
    "plt.subplot(1, 3, 3)\n",
    "n_log_bin = ceil(log2(max(user_network_test.degree())))\n",
    "x_values, y_values = calculate_log_binning(degree_list, n_log_bin)\n",
    "plt.plot(x_values, y_values, color='#e60049', marker=\"*\", ls='None')\n",
    "#C = y_values[0]\n",
    "#alpha = 1.4\n",
    "#x = np.arange(1,len(degree_list))\n",
    "#y = C*np.power(x,-alpha)\n",
    "#plt.plot(x, y, \"b\")\n",
    "plt.loglog()\n",
    "plt.xlabel('Degree')\n",
    "plt.ylabel('P(k)')\n"
   ]
  },
  {
   "cell_type": "code",
   "execution_count": 34,
   "metadata": {},
   "outputs": [
    {
     "name": "stdout",
     "output_type": "stream",
     "text": [
      "Density: 0.002492499943608599\n",
      "Avg. degree 2.5697674418604652\n",
      "Connected Components: 505\n"
     ]
    }
   ],
   "source": [
    "density = user_network_test.density()\n",
    "print(\"Density:\", density)\n",
    "\n",
    "avg_degree = sum(user_network_test.degree()) / user_network_test.vcount()\n",
    "print(\"Avg. degree\", avg_degree)\n",
    "\n",
    "components = user_network_test.components()\n",
    "print(\"Connected Components:\", len(components))"
   ]
  }
 ],
 "metadata": {
  "kernelspec": {
   "display_name": "tesis_env",
   "language": "python",
   "name": "python3"
  },
  "language_info": {
   "codemirror_mode": {
    "name": "ipython",
    "version": 3
   },
   "file_extension": ".py",
   "mimetype": "text/x-python",
   "name": "python",
   "nbconvert_exporter": "python",
   "pygments_lexer": "ipython3",
   "version": "3.7.13 (default, Mar 29 2022, 02:18:16) \n[GCC 7.5.0]"
  },
  "orig_nbformat": 4,
  "vscode": {
   "interpreter": {
    "hash": "deec884ae07beaa7e970d39d84b9343805b80aeba4e343861fb4097b62dc7004"
   }
  }
 },
 "nbformat": 4,
 "nbformat_minor": 2
}
