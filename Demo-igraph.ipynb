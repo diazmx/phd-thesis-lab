{
 "cells": [
  {
   "attachments": {},
   "cell_type": "markdown",
   "metadata": {},
   "source": [
    "# 06 - igraph *Demo* - CN&S Graph Analysis Tools Part 3\n",
    "igraph emerge como una herramienta versátil y eficiente que ofrece una amplia \n",
    "gama de funcionalidades para el análisis de redes."
   ]
  },
  {
   "attachments": {},
   "cell_type": "markdown",
   "metadata": {},
   "source": [
    "> Instalar `igraph` con `pip`\n",
    "\n",
    "```shell\n",
    "$ pip install igraph\n",
    "```"
   ]
  },
  {
   "attachments": {},
   "cell_type": "markdown",
   "metadata": {},
   "source": [
    "> Instalar `igraph` con `conda`\n",
    "\n",
    "```shell\n",
    "$ conda install -c conda-forge python-igraph\n",
    "```"
   ]
  },
  {
   "attachments": {},
   "cell_type": "markdown",
   "metadata": {},
   "source": [
    "> Importar biblioteca\n"
   ]
  },
  {
   "cell_type": "code",
   "execution_count": null,
   "metadata": {},
   "outputs": [],
   "source": [
    "import igraph as ig\n",
    "print(ig.__version__)"
   ]
  },
  {
   "attachments": {},
   "cell_type": "markdown",
   "metadata": {},
   "source": [
    "## Generación de grafos"
   ]
  },
  {
   "attachments": {},
   "cell_type": "markdown",
   "metadata": {},
   "source": [
    "### Grafos por estructuras de datos Python"
   ]
  },
  {
   "cell_type": "code",
   "execution_count": null,
   "metadata": {},
   "outputs": [],
   "source": [
    "### Desde una lista de diccionarios.\n",
    "\n",
    "vertices = [{'name': 'apple'}, {'name': 'pear'}, {'name': 'peach'}]\n",
    "edges = [{'source': 'apple', 'target': 'pear', 'weight': 1.2},\n",
    "         {'source': 'apple', 'target': 'peach', 'weight': 0.9}]\n",
    "g = ig.Graph.DictList(vertices, edges)\n",
    "\n",
    "print(g)"
   ]
  },
  {
   "attachments": {},
   "cell_type": "markdown",
   "metadata": {},
   "source": [
    "### Desde matriz de adyacencia"
   ]
  },
  {
   "cell_type": "code",
   "execution_count": null,
   "metadata": {},
   "outputs": [],
   "source": [
    "### Generar grafos desde matriz de adyacencia\n",
    "\n",
    "matrix = [[0, 1, 1], [0, 0, 0], [0, 0, 1]]\n",
    "g = ig.Graph.Adjacency(matrix)\n",
    "\n",
    "print(g)"
   ]
  },
  {
   "attachments": {},
   "cell_type": "markdown",
   "metadata": {},
   "source": [
    "### Desde un archivo"
   ]
  },
  {
   "cell_type": "code",
   "execution_count": null,
   "metadata": {},
   "outputs": [],
   "source": [
    "### Generar grafo desde un archivo\n",
    "\n",
    "my_file = \"Karate_club_from_gephi.graphml\"\n",
    "g = ig.Graph.Load(my_file, format=\"graphml\")\n",
    "\n",
    "#print(g)\n",
    "print(g.summary())"
   ]
  },
  {
   "attachments": {},
   "cell_type": "markdown",
   "metadata": {},
   "source": [
    "### Desde bibliotecas externas"
   ]
  },
  {
   "cell_type": "code",
   "execution_count": null,
   "metadata": {},
   "outputs": [],
   "source": [
    "### Generar un grafo desde networkX\n",
    "\n",
    "import networkx as nx\n",
    "\n",
    "my_file = \"Karate_club_from_gephi.gml\"\n",
    "g_nx = nx.read_gml(my_file)\n",
    "print(\"NetworkX graph information\")\n",
    "print(nx.info(g_nx))\n",
    "\n",
    "# Converto from networkX to igraph\n",
    "g_ig = ig.Graph.from_networkx(g_nx)\n",
    "print(\"\\nIgraph graph information\")\n",
    "print(g_ig.summary())"
   ]
  },
  {
   "attachments": {},
   "cell_type": "markdown",
   "metadata": {},
   "source": [
    "### Desde dataframe de pandas"
   ]
  },
  {
   "cell_type": "code",
   "execution_count": null,
   "metadata": {},
   "outputs": [],
   "source": [
    "### Generar un grafo desde pandas dataframe\n",
    "\n",
    "import pandas as pd\n",
    "\n",
    "temp_var = [[0,1],[1,2],[3,4],[2,4]]\n",
    "df = pd.DataFrame(temp_var)\n",
    "df.columns = [\"fuente\", \"destino\"]\n",
    "df"
   ]
  },
  {
   "cell_type": "code",
   "execution_count": null,
   "metadata": {},
   "outputs": [],
   "source": [
    "g = ig.Graph.DataFrame(df, directed=False)\n",
    "print(g)"
   ]
  },
  {
   "attachments": {},
   "cell_type": "markdown",
   "metadata": {},
   "source": [
    "### Funciones generadoras"
   ]
  },
  {
   "cell_type": "code",
   "execution_count": null,
   "metadata": {},
   "outputs": [],
   "source": [
    "### Grafo completo\n",
    "\n",
    "g = ig.Graph.Full(n=6)\n",
    "print(g)\n",
    "ig.plot(g, bbox=(200, 200))"
   ]
  },
  {
   "cell_type": "code",
   "execution_count": null,
   "metadata": {},
   "outputs": [],
   "source": [
    "### Árbol\n",
    "\n",
    "g = ig.Graph.Tree(n=10, children=2)\n",
    "print(g)\n",
    "ig.plot(g, bbox=(200, 200))"
   ]
  },
  {
   "cell_type": "code",
   "execution_count": null,
   "metadata": {},
   "outputs": [],
   "source": [
    "### Estrella\n",
    "\n",
    "g = ig.Graph.Star(n=6)\n",
    "print(g)\n",
    "ig.plot(g, bbox=(200, 200))"
   ]
  },
  {
   "cell_type": "code",
   "execution_count": null,
   "metadata": {},
   "outputs": [],
   "source": [
    "### Lattice\n",
    "\n",
    "g = ig.Graph.Lattice(dim=[5, 5], circular=False)\n",
    "\n",
    "print(g.summary())\n",
    "ig.plot(g, bbox=(200, 200))"
   ]
  },
  {
   "cell_type": "code",
   "execution_count": null,
   "metadata": {},
   "outputs": [],
   "source": [
    "### Grafos famosos\n",
    "\n",
    "g = ig.Graph.Famous(\"Zachary\")\n",
    "\n",
    "print(g.summary())\n",
    "ig.plot(g, bbox=(200, 200))"
   ]
  },
  {
   "cell_type": "code",
   "execution_count": null,
   "metadata": {},
   "outputs": [],
   "source": [
    "g = ig.Graph.Famous('Diamond')\n",
    "\n",
    "print(g.summary())\n",
    "ig.plot(g, bbox=(200, 200))"
   ]
  },
  {
   "cell_type": "code",
   "execution_count": null,
   "metadata": {},
   "outputs": [],
   "source": [
    "### Grafos aleaorios\n",
    "\n",
    "g = ig.Graph.Erdos_Renyi(n=15, p=0.2)\n",
    "\n",
    "print(g.summary())\n",
    "ig.plot(g, bbox=(200, 200))"
   ]
  },
  {
   "cell_type": "code",
   "execution_count": null,
   "metadata": {},
   "outputs": [],
   "source": [
    "g = ig.Graph.Tree_Game(n=15)\n",
    "\n",
    "print(g.summary())\n",
    "ig.plot(g, bbox=(200, 200))"
   ]
  },
  {
   "attachments": {},
   "cell_type": "markdown",
   "metadata": {},
   "source": [
    "### Grafos desde cero"
   ]
  },
  {
   "cell_type": "code",
   "execution_count": null,
   "metadata": {},
   "outputs": [],
   "source": [
    "### Grafo vacío\n",
    "\n",
    "g = ig.Graph()\n",
    "\n",
    "print(g.summary())"
   ]
  },
  {
   "cell_type": "code",
   "execution_count": null,
   "metadata": {},
   "outputs": [],
   "source": [
    "# Grafo con 10 nodos y 2 aristas\n",
    "\n",
    "g = ig.Graph(n=5, edges=[[0, 1], [0, 4]])\n",
    "\n",
    "print(g)"
   ]
  },
  {
   "cell_type": "code",
   "execution_count": null,
   "metadata": {},
   "outputs": [],
   "source": [
    "### Agregar nodos\n",
    "\n",
    "g.add_vertex() # Agregar un sólo nodo\n",
    "\n",
    "g.add_vertices(4) # Agregar 5 nodos\n",
    "\n",
    "print(g)"
   ]
  },
  {
   "cell_type": "code",
   "execution_count": null,
   "metadata": {},
   "outputs": [],
   "source": [
    "### Agregar aristas\n",
    "\n",
    "g.add_edge(2, 7) # Agregar una única arista\n",
    "\n",
    "g.add_edges([[3, 8], [4, 7], [8,1]]) # Agregar 3 aristas\n",
    "\n",
    "print(g)"
   ]
  },
  {
   "cell_type": "code",
   "execution_count": null,
   "metadata": {},
   "outputs": [],
   "source": [
    "### Error al crear aristas\n",
    "\n",
    "g.add_edges([(10, 20)])"
   ]
  },
  {
   "cell_type": "code",
   "execution_count": null,
   "metadata": {},
   "outputs": [],
   "source": [
    "### Eliminar nodos y aristas\n",
    "\n",
    "g.delete_vertices([5, 9]) # Eliminar nodo con ID=5 y ID=9\n",
    "g.delete_edges([(0,1),(3,7)]) # Eliminar aristas\n",
    "\n",
    "print(g)"
   ]
  },
  {
   "cell_type": "code",
   "execution_count": null,
   "metadata": {},
   "outputs": [],
   "source": [
    "### Mostrar la secuencia de nodos\n",
    "\n",
    "list(g.vs())"
   ]
  },
  {
   "cell_type": "code",
   "execution_count": null,
   "metadata": {},
   "outputs": [],
   "source": [
    "### Mostrar la secuencia de aristas\n",
    "\n",
    "list(g.es())"
   ]
  },
  {
   "attachments": {},
   "cell_type": "markdown",
   "metadata": {},
   "source": [
    "## Manipulación y análisis"
   ]
  },
  {
   "attachments": {},
   "cell_type": "markdown",
   "metadata": {},
   "source": [
    "### Atributos"
   ]
  },
  {
   "cell_type": "code",
   "execution_count": null,
   "metadata": {},
   "outputs": [],
   "source": [
    "# Grafo simple\n",
    "g = ig.Graph([(0,1), (0,2), (2,3), (3,4), (4,2), (2,5), (5,0), (6,3), (5,6)])\n",
    "\n",
    "g.vs[\"name\"] = [\"Alice\", \"Bob\", \"Clara\", \"Dennis\", \"Esther\", \"Frank\", \"George\"]\n",
    "g.vs[\"age\"] = [25, 31, 18, 47, 22, 23, 50]\n",
    "g.vs[\"class\"] = [\"C1\", \"C2\", \"C1\", \"C2\", \"C2\", \"C1\", \"C1\"]\n",
    "g.es[\"is_formal\"] = [False, False, True, True, True, False, True, False, False]\n",
    "\n",
    "print(g)\n",
    "ig.plot(g, bbox=(200, 200))"
   ]
  },
  {
   "cell_type": "code",
   "execution_count": null,
   "metadata": {},
   "outputs": [],
   "source": [
    "### Atributos del grafo\n",
    "\n",
    "print(\"Atrs. de nodos: \",g.vs.attributes())\n",
    "print(\"Atrs. de aristas: \",g.es.attributes())"
   ]
  },
  {
   "cell_type": "code",
   "execution_count": null,
   "metadata": {},
   "outputs": [],
   "source": [
    "### Modificar un valor\n",
    "print(\"Valores antes: \",g.es[\"is_formal\"])\n",
    "\n",
    "g.es[0][\"is_formal\"] = True\n",
    "\n",
    "print(\"Valores después\", g.es[\"is_formal\"])"
   ]
  },
  {
   "cell_type": "code",
   "execution_count": null,
   "metadata": {},
   "outputs": [],
   "source": [
    "### Modificar un subconjunto de valores\n",
    "\n",
    "print(\"Valores antes: \",g.es[\"is_formal\"])\n",
    "\n",
    "g.es[4:][\"is_formal\"] = True\n",
    "\n",
    "print(\"Valores después\", g.es[\"is_formal\"])"
   ]
  },
  {
   "cell_type": "code",
   "execution_count": null,
   "metadata": {},
   "outputs": [],
   "source": [
    "# Eliminar atributos\n",
    "\n",
    "g.vs[3][\"grado\"] = \"MS\"\n",
    "print(g.vs[\"grado\"])"
   ]
  },
  {
   "cell_type": "code",
   "execution_count": null,
   "metadata": {},
   "outputs": [],
   "source": [
    "del g.vs[\"grado\"] # Se elimina\n",
    "print(g.vs[\"grado\"])"
   ]
  },
  {
   "attachments": {},
   "cell_type": "markdown",
   "metadata": {},
   "source": [
    "### Propiedades"
   ]
  },
  {
   "cell_type": "code",
   "execution_count": null,
   "metadata": {},
   "outputs": [],
   "source": [
    "g.vs[\"label\"] = g.vs[\"name\"]\n",
    "ig.plot(g, bbox=(200, 200))"
   ]
  },
  {
   "cell_type": "code",
   "execution_count": null,
   "metadata": {},
   "outputs": [],
   "source": [
    "### Mostrar los grados\n",
    "print(g.vs[\"label\"])\n",
    "g.degree()"
   ]
  },
  {
   "cell_type": "code",
   "execution_count": null,
   "metadata": {},
   "outputs": [],
   "source": [
    "### Grado de un sólo nodo\n",
    "g.degree(3)"
   ]
  },
  {
   "cell_type": "code",
   "execution_count": null,
   "metadata": {},
   "outputs": [],
   "source": [
    "### Grado de un subconjunto\n",
    "g.degree([2,4,1])"
   ]
  },
  {
   "cell_type": "code",
   "execution_count": null,
   "metadata": {},
   "outputs": [],
   "source": [
    "### Centralidad de betweenness\n",
    "\n",
    "g.edge_betweenness() # Centralidad de intermediación ARISTAS"
   ]
  },
  {
   "cell_type": "code",
   "execution_count": null,
   "metadata": {},
   "outputs": [],
   "source": [
    "g.betweenness() # Centralidad de intermediación NODOS"
   ]
  },
  {
   "cell_type": "code",
   "execution_count": null,
   "metadata": {},
   "outputs": [],
   "source": [
    "### Algoritmo de detección comunidades\n",
    "\n",
    "partition = g.community_multilevel()\n",
    "partition.summary()\n"
   ]
  },
  {
   "attachments": {},
   "cell_type": "markdown",
   "metadata": {},
   "source": [
    "### Consulta de nodos y aristas por atributos"
   ]
  },
  {
   "cell_type": "code",
   "execution_count": null,
   "metadata": {},
   "outputs": [],
   "source": [
    "### Personas con un grado mayor a 3\n",
    "\n",
    "seleccion = g.vs.select(_degree_ge=3)\n",
    "print(list(seleccion))\n",
    "print(seleccion[\"name\"])"
   ]
  },
  {
   "cell_type": "code",
   "execution_count": null,
   "metadata": {},
   "outputs": [],
   "source": [
    "g.vs.select(_degree=g.maxdegree())[\"name\"]"
   ]
  },
  {
   "cell_type": "code",
   "execution_count": null,
   "metadata": {},
   "outputs": [],
   "source": [
    "### Seleccionar todas las personas en la clase C1\n",
    "\n",
    "clase_c1 = g.vs.select(class_eq=\"C1\")\n",
    "print(list(clase_c1))\n",
    "\n",
    "for item in clase_c1:\n",
    "    print(item[\"name\"], item[\"age\"])"
   ]
  },
  {
   "cell_type": "code",
   "execution_count": null,
   "metadata": {},
   "outputs": [],
   "source": [
    "### Seleccionar todas las personas con edad menor a 20\n",
    "\n",
    "seleccion = g.vs.select(age_lt=25)\n",
    "print(seleccion[\"name\"])"
   ]
  },
  {
   "cell_type": "code",
   "execution_count": null,
   "metadata": {},
   "outputs": [],
   "source": [
    "seleccion = g.es.select(is_formal=True)\n",
    "\n",
    "for item in seleccion:\n",
    "    print(g.vs[item.source][\"name\"], \"-\", g.vs[item.target][\"name\"])"
   ]
  },
  {
   "attachments": {},
   "cell_type": "markdown",
   "metadata": {},
   "source": [
    "### Encontrar nodos y aristas"
   ]
  },
  {
   "cell_type": "code",
   "execution_count": null,
   "metadata": {},
   "outputs": [],
   "source": [
    "bob = g.vs.find(name=\"Bob\")\n",
    "type(bob)"
   ]
  },
  {
   "cell_type": "code",
   "execution_count": null,
   "metadata": {},
   "outputs": [],
   "source": [
    "bob.attributes()"
   ]
  },
  {
   "cell_type": "code",
   "execution_count": null,
   "metadata": {},
   "outputs": [],
   "source": [
    "bob.degree()"
   ]
  },
  {
   "attachments": {},
   "cell_type": "markdown",
   "metadata": {},
   "source": [
    "## Visualización de grafos"
   ]
  },
  {
   "cell_type": "code",
   "execution_count": null,
   "metadata": {},
   "outputs": [],
   "source": [
    "### Tener un layout para la posición de los nodos\n",
    "\n",
    "layout = g.layout(\"kamada_kawai\") # Ambos tienen el mismo efecto\n",
    "layout = g.layout_kamada_kawai()"
   ]
  },
  {
   "cell_type": "code",
   "execution_count": null,
   "metadata": {},
   "outputs": [],
   "source": [
    "layout = g.layout(\"kk\")\n",
    "ig.plot(g, layout=layout, bbox=(300,300))"
   ]
  },
  {
   "cell_type": "code",
   "execution_count": null,
   "metadata": {},
   "outputs": [],
   "source": [
    "g.vs[\"label\"] = g.vs[\"name\"]\n",
    "color_dict = {\"C1\": \"blue\", \"C2\": \"orange\"}\n",
    "g.vs[\"color\"] = [color_dict[clase] for clase in g.vs[\"class\"]]\n",
    "ig.plot(g, layout=layout, bbox=(300, 300), margin=20)"
   ]
  },
  {
   "cell_type": "code",
   "execution_count": null,
   "metadata": {},
   "outputs": [],
   "source": [
    "visual_style = {}\n",
    "visual_style[\"vertex_size\"] = 20\n",
    "visual_style[\"vertex_color\"] = [color_dict[clase] for clase in g.vs[\"class\"]]\n",
    "visual_style[\"vertex_label\"] = g.vs[\"name\"]\n",
    "visual_style[\"edge_width\"] = [1 + 4 * int(is_formal) for is_formal in g.es[\"is_formal\"]]\n",
    "visual_style[\"layout\"] = layout\n",
    "visual_style[\"bbox\"] = (300, 300)\n",
    "visual_style[\"margin\"] = 20\n",
    "ig.plot(g, **visual_style)"
   ]
  },
  {
   "attachments": {},
   "cell_type": "markdown",
   "metadata": {},
   "source": [
    "## Exportar grafos"
   ]
  },
  {
   "cell_type": "code",
   "execution_count": null,
   "metadata": {},
   "outputs": [],
   "source": [
    "ig.plot(g, \"social_network.pdf\", **visual_style)"
   ]
  },
  {
   "cell_type": "code",
   "execution_count": null,
   "metadata": {},
   "outputs": [],
   "source": [
    "g.write_graphml(\"social_net.graphml\")\n",
    "g.write(\"social_net.graphml\", format=\"graphml\")"
   ]
  }
 ],
 "metadata": {
  "kernelspec": {
   "display_name": "tesis_env",
   "language": "python",
   "name": "python3"
  },
  "language_info": {
   "codemirror_mode": {
    "name": "ipython",
    "version": 3
   },
   "file_extension": ".py",
   "mimetype": "text/x-python",
   "name": "python",
   "nbconvert_exporter": "python",
   "pygments_lexer": "ipython3",
   "version": "3.7.13"
  },
  "orig_nbformat": 4,
  "vscode": {
   "interpreter": {
    "hash": "deec884ae07beaa7e970d39d84b9343805b80aeba4e343861fb4097b62dc7004"
   }
  }
 },
 "nbformat": 4,
 "nbformat_minor": 2
}
