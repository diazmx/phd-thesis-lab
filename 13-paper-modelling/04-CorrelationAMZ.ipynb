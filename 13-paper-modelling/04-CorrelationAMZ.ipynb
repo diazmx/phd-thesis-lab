{
 "cells": [
  {
   "cell_type": "code",
   "execution_count": 12,
   "id": "def0b116",
   "metadata": {},
   "outputs": [],
   "source": [
    "### Import libraries\n",
    "\n",
    "import igraph as ig\n",
    "import numpy as np\n",
    "import os\n",
    "from collections import Counter, OrderedDict\n",
    "import pickle\n",
    "import pandas as pd\n",
    "import matplotlib.pyplot as plt\n",
    "from auxiliar_bb import apply_backboning\n",
    "from auxiliar_projections_large import apply_projection\n",
    "from auxiliar_optimization import *\n",
    "from sklearn.manifold import TSNE\n",
    "from sklearn.decomposition import PCA\n",
    "from matplotlib.lines import Line2D"
   ]
  },
  {
   "cell_type": "code",
   "execution_count": 13,
   "id": "bb679f95",
   "metadata": {},
   "outputs": [],
   "source": [
    "### Select dataset\n",
    "DATASET = \"amz\" # [\"amz\", \"um\", \"am\"]\n",
    "PROJ_NAMES = [\"simple\", \"vector\", \"jaccard\", \"neighs\", \"hyper\", \"resall\"]\n",
    "\n",
    "nombre_proyecciones = {\n",
    "    \"simple\": \"Weighted\", \"jaccard\": \"Jaccard\", \"hyper\": \"Hyperbolic\",\n",
    "    \"vector\": \"Vectorized\", \"resall\": \"Resource\\nAllocation\", \"neighs\": \"Neighborhood\"\n",
    "}\n",
    "nombre_backbonings = { \"NC\": \"Noise Corrected\", \"DF\": \"Disparity Filter\"}\n",
    "COLORS_PR = [\"#ef476fff\", \"#f78c6bff\", \"#ffd166ff\", \"#06d6a0ff\", \"#118ab2ff\", \"#718355\"]\n",
    "COLORS_BB = [ \"#8ab17d\", \"#e9c46a\"]\n",
    "COLORS_SV = [\"#718355\", \"#87986a\", \"#97a97c\", \"#b5c99a\"]\n",
    "\n",
    "if DATASET == \"um\":\n",
    "    FILENAME = \"../12-third_year/00-Data/08-imdb/user-movie.graphml\"\n",
    "elif DATASET == \"am\":\n",
    "    FILENAME = \"/home/daniel/Documents/phd/phd-thesis-lab/12-third_year/00-Data/05-actor-movie/actor-movie.graphml\"\n",
    "elif DATASET == \"amz\":\n",
    "    FILENAME = \"binet-AMZ-Rw.graphml\"\n"
   ]
  },
  {
   "cell_type": "markdown",
   "id": "6631a871",
   "metadata": {},
   "source": [
    "### Auxiliar functions and variables"
   ]
  },
  {
   "cell_type": "code",
   "execution_count": 15,
   "id": "5a94ad92",
   "metadata": {},
   "outputs": [],
   "source": [
    "# Auxiliar functions\n",
    "def plot_pie_subplots(proyecciones, backbonings, significancias, title):\n",
    "    fig, axes = plt.subplots(1, 3, figsize=(15, 5))\n",
    "    categories = [\n",
    "        (proyecciones, \"Projections types\"),\n",
    "        (backbonings, \"Backboning methods\"),\n",
    "        (OrderedDict(sorted(significancias.items(), key=lambda x: float(x[0]))), \"Significance value\")\n",
    "    ]\n",
    "    color_counter = 0\n",
    "    for ax, (data, subtitle) in zip(axes, categories):\n",
    "        labels = list(data.keys())\n",
    "        sizes = list(data.values())\n",
    "\n",
    "        if color_counter == 0:\n",
    "            ax.pie(sizes, labels=labels, autopct='%1.1f%%', startangle=90, colors=COLORS_PR)\n",
    "        elif color_counter == 1:\n",
    "            ax.pie(sizes, labels=labels, autopct='%1.1f%%', startangle=90, colors=COLORS_BB)\n",
    "        else:\n",
    "            ax.pie(sizes, labels=labels, autopct='%1.1f%%', startangle=90, colors=COLORS_SV)\n",
    "        color_counter += 1\n",
    "        ax.set_title(subtitle)\n",
    "        ax.axis('equal')\n",
    "\n",
    "    fig.suptitle(f\"Distribution of network instance characteristics - {title}\", fontsize=14)\n",
    "    plt.tight_layout()\n",
    "    plt.savefig(title + \"-pastel.png\")\n",
    "    plt.show()\n",
    "\n",
    "# Función principal\n",
    "def analizar_frente(front, nombre=\"Frente\"):\n",
    "    proyecciones = Counter()\n",
    "    backbonings = Counter()\n",
    "    significancias = Counter()\n",
    "\n",
    "    for sol in front:\n",
    "        if isinstance(sol, dict):\n",
    "            fname = sol[\"filename\"]\n",
    "        else:\n",
    "            fname = sol\n",
    "\n",
    "        parts = fname.split(\"_\")\n",
    "        if len(parts) == 3:\n",
    "            proj, back, alpha = parts\n",
    "\n",
    "            proj_label = nombre_proyecciones.get(proj, proj)\n",
    "            back_label = nombre_backbonings.get(back, back)\n",
    "\n",
    "            proyecciones[proj_label] += 1\n",
    "            backbonings[back_label] += 1\n",
    "\n",
    "            if alpha.startswith('a'):\n",
    "                alpha_val = alpha[1:]\n",
    "                if len(alpha_val) == 1:\n",
    "                    alpha_val = f\"0.{alpha_val}0\"\n",
    "                elif len(alpha_val) == 2:\n",
    "                    alpha_val = f\"0.{alpha_val}\"\n",
    "                else:\n",
    "                    alpha_val = f\"0.{alpha_val[:2]}\"\n",
    "                significancias[alpha_val] += 1\n",
    "\n",
    "    print(f\"\\nResumen para {nombre}\")\n",
    "    print(\"Proyecciones:\", dict(proyecciones))\n",
    "    print(\"Backbonings:\", dict(backbonings))\n",
    "    print(\"Significancias:\", dict(significancias))\n",
    "\n",
    "    # Mostrar los subplots\n",
    "    plot_pie_subplots(proyecciones, backbonings, significancias, nombre)\n",
    "\n",
    "### Mapa de figuras, colores, y líneas.\n",
    "\n",
    "projection_styles = {\n",
    "    \"simple\": \"tab:blue\",\n",
    "    \"jaccard\": \"tab:orange\",\n",
    "    \"neighs\": \"tab:green\",\n",
    "    \"hyper\": \"tab:red\",\n",
    "    \"resall\": \"tab:purple\",\n",
    "    \"vector\": \"tab:brown\"\n",
    "}\n",
    "\n",
    "\n",
    "backboning_styles = {\n",
    "    \"DF\": \"-\",    # línea continua\n",
    "    \"NC\": \"--\"    # línea punteada\n",
    "}\n",
    "\n",
    "alpha_styles = {\n",
    "    \"a05\": \"o\",   # círculo\n",
    "    \"a1\": \"s\",   # cuadrado\n",
    "    \"a15\": \"*\",   # rombo\n",
    "    \"a2\": \"^\"    # triángulo\n",
    "}\n",
    "\n",
    "projection_labels = {\n",
    "    \"simple\": \"Simple\",\n",
    "    \"jaccard\": \"Jaccard\",\n",
    "    \"vector\": \"Vectorized\",\n",
    "    \"neighs\": \"Neighborhood\",\n",
    "    \"hyper\": \"Hyperbolic\",\n",
    "    \"resall\": \"Resource Allocation\"\n",
    "}\n",
    "\n",
    "backboning_labels = {\n",
    "    \"DF\": \"Disparity Filter\",\n",
    "    \"NC\": \"Noise Corrected\"\n",
    "}\n",
    "\n",
    "alpha_labels = {\n",
    "    \"a05\": \"0.05\",\n",
    "    \"a1\": \"0.10\",\n",
    "    \"a15\": \"0.15\",\n",
    "    \"a2\": \"0.20\"\n",
    "}\n",
    "\n",
    "backboning_styles2 = { 'DF': \"full\", 'NC': \"none\"}"
   ]
  },
  {
   "cell_type": "markdown",
   "id": "5519aea1",
   "metadata": {},
   "source": [
    "### Load Dataset"
   ]
  },
  {
   "cell_type": "code",
   "execution_count": 16,
   "id": "e52004f2",
   "metadata": {},
   "outputs": [
    {
     "name": "stdout",
     "output_type": "stream",
     "text": [
      "IGRAPH U-WT 17079 32769 -- \n",
      "+ attr: freq (v), id (v), type (v), weight (e)\n",
      "\n",
      "|U|= 9561  \t|R|= 7518  \t|U|+|R|= 17079 = 17079\n",
      "\n",
      "The graph IS bipartite\n"
     ]
    }
   ],
   "source": [
    "g = ig.read(FILENAME)\n",
    "print(g.summary())\n",
    "print()\n",
    "\n",
    "top_nodes = g.vs.select(type=0)\n",
    "bot_nodes = g.vs.select(type=1)\n",
    "\n",
    "print(\"|U|=\",len(top_nodes), \" \\t|R|=\",len(bot_nodes), \" \\t|U|+|R|=\",\n",
    "      len(top_nodes)+len(bot_nodes), \"=\", g.vcount())\n",
    "print()\n",
    "\n",
    "if(g.is_bipartite()): # Check if the the graph is bipartite\n",
    "    print(\"The graph IS bipartite\")\n",
    "else:\n",
    "    print(\"The graph IS NOT bipartite\")\n",
    "    exit()\n"
   ]
  },
  {
   "cell_type": "code",
   "execution_count": 17,
   "id": "18cd3aa7",
   "metadata": {},
   "outputs": [
    {
     "data": {
      "text/plain": [
       "{'x1': 9561,\n",
       " 'x2': 7518,\n",
       " 'x3': 32769,\n",
       " 'x8': 0.245,\n",
       " 'x9': 5.628737133833499,\n",
       " 'x11': 3.8553228787812426,\n",
       " 'x15': 0.00022469516962160804,\n",
       " 'x16': 3.427361154690932}"
      ]
     },
     "execution_count": 17,
     "metadata": {},
     "output_type": "execute_result"
    }
   ],
   "source": [
    "NODETYPE = 0   # 0=Top     1=Bot\n",
    "\n",
    "# 1) Reading the bipartite networks\n",
    "gb = ig.Graph.Read_GraphML(FILENAME)\n",
    "#bip_metrics = compute_bip_metrics(gb, NODETYPE)\n",
    "bip_metrics = {'x1': 9561,\n",
    " 'x2': 7518,\n",
    " 'x3': 32769,\n",
    " 'x8': 0.245,\n",
    " 'x9': 5.628737133833499,\n",
    " 'x11': 3.8553228787812426, 'x15': gb.density(), 'x16': statistics.mean(gb.degree(gb.vs.select(type=0)))}\n",
    "\n",
    "bip_metrics"
   ]
  },
  {
   "cell_type": "code",
   "execution_count": 18,
   "id": "3be45067",
   "metadata": {},
   "outputs": [
    {
     "name": "stdout",
     "output_type": "stream",
     "text": [
      "All solutions: 48\n",
      "Feasible solutions: 40\n"
     ]
    }
   ],
   "source": [
    "# Directorio de proyecciones\n",
    "proj_dir = DATASET + (\"/top\" if NODETYPE == 0 else \"/bot\")\n",
    "\n",
    "# Directorio para guardar métricas cacheadas\n",
    "metrics_cache_dir = os.path.join(proj_dir, \"cached_metrics\")\n",
    "os.makedirs(metrics_cache_dir, exist_ok=True)\n",
    "\n",
    "# Lista de archivos de métricas\n",
    "metrics_files = [f for f in os.listdir(metrics_cache_dir) if f.endswith(\"_metrics.pkl\")]\n",
    "\n",
    "solutions = []\n",
    "to_df = []\n",
    "names_df = []\n",
    "\n",
    "for fname in metrics_files:\n",
    "    cache_path = os.path.join(metrics_cache_dir, fname)\n",
    "\n",
    "    # Cargar las métricas ya calculadas\n",
    "    with open(cache_path, 'rb') as f:\n",
    "        proj_metrics = pickle.load(f)\n",
    "\n",
    "    # Nombre base del archivo (quita el sufijo \"_metrics.pkl\")\n",
    "    base_name = fname.replace(\"_metrics.pkl\", \"\")\n",
    "\n",
    "    sol = evaluate_solution(bip_metrics, proj_metrics, NODETYPE)\n",
    "    to_df.append(sol[\"f\"])\n",
    "    names_df.append(base_name)\n",
    "    sol[\"filename\"] = base_name\n",
    "\n",
    "    if is_feasible(sol):\n",
    "        solutions.append(sol)\n",
    "\n",
    "# Crear dataset final\n",
    "a = pd.DataFrame(to_df, columns=['f1', 'f2', 'f3', 'f4', 'f5', 'f6'])\n",
    "#a = pd.DataFrame(to_df, columns=['f1', 'f2'])\n",
    "b = pd.DataFrame(names_df, columns=[\"name\"])\n",
    "final_DF = pd.concat([a, b], axis=1)\n",
    "\n",
    "print(\"All solutions:\", len(metrics_files))\n",
    "print(\"Feasible solutions:\", len(solutions))\n"
   ]
  },
  {
   "cell_type": "code",
   "execution_count": 19,
   "id": "9af36f2c",
   "metadata": {},
   "outputs": [
    {
     "name": "stdout",
     "output_type": "stream",
     "text": [
      "\n",
      "Frente 1 (34 soluciones):\n",
      "hyper_DF_a1\n",
      "resall_NC_a15\n",
      "neighs_DF_a15\n",
      "simple_NC_a05\n",
      "hyper_NC_a1\n",
      "resall_NC_a05\n",
      "hyper_NC_a15\n",
      "simple_NC_a15\n",
      "jaccard_NC_a15\n",
      "vector_NC_a15\n",
      "vector_NC_a2\n",
      "hyper_DF_a15\n",
      "neighs_NC_a15\n",
      "neighs_NC_a05\n",
      "hyper_NC_a05\n",
      "resall_DF_a15\n",
      "hyper_DF_a2\n",
      "vector_DF_a15\n",
      "resall_DF_a1\n",
      "simple_NC_a1\n",
      "vector_NC_a05\n",
      "hyper_DF_a05\n",
      "jaccard_DF_a1\n",
      "resall_DF_a2\n",
      "neighs_NC_a2\n",
      "hyper_NC_a2\n",
      "neighs_DF_a2\n",
      "vector_DF_a2\n",
      "resall_NC_a1\n",
      "vector_NC_a1\n",
      "neighs_DF_a1\n",
      "resall_DF_a05\n",
      "jaccard_DF_a15\n",
      "jaccard_DF_a2\n",
      "\n",
      "Frente 2 (6 soluciones):\n",
      "jaccard_NC_a05\n",
      "jaccard_NC_a2\n",
      "simple_NC_a2\n",
      "neighs_NC_a1\n",
      "resall_NC_a2\n",
      "jaccard_NC_a1\n"
     ]
    }
   ],
   "source": [
    "### Compute the pareto fronts\n",
    "\n",
    "all_fronts = pareto_rank_all(solutions)\n",
    "counter_sols = []\n",
    "\n",
    "for rank, front in enumerate(all_fronts, 1):\n",
    "    print(f\"\\nFrente {rank} ({len(front)} soluciones):\")\n",
    "    for sol_i in front:\n",
    "        clean_name = sol_i[\"filename\"][8:]\n",
    "        print(clean_name)\n",
    "        counter_sols.append(clean_name)\n",
    "\n",
    "#analizar_frente(counter_sols, DATASET.upper()+\" Top\")"
   ]
  },
  {
   "cell_type": "code",
   "execution_count": 20,
   "id": "6cbe284c",
   "metadata": {},
   "outputs": [
    {
     "name": "stdout",
     "output_type": "stream",
     "text": [
      "Matriz de correlación:\n",
      "          f1        f2        f3        f4        f5        f6\n",
      "f1  1.000000 -0.561641 -0.092932 -0.067987 -0.672224 -0.197655\n",
      "f2 -0.561641  1.000000  0.570105  0.107438  0.872106 -0.326191\n",
      "f3 -0.092932  0.570105  1.000000  0.279059  0.521410 -0.501024\n",
      "f4 -0.067987  0.107438  0.279059  1.000000  0.171098 -0.114121\n",
      "f5 -0.672224  0.872106  0.521410  0.171098  1.000000 -0.203137\n",
      "f6 -0.197655 -0.326191 -0.501024 -0.114121 -0.203137  1.000000\n"
     ]
    },
    {
     "data": {
      "image/png": "[encoded data removed]",
      "text/plain": [
       "<Figure size 800x600 with 2 Axes>"
      ]
     },
     "metadata": {},
     "output_type": "display_data"
    }
   ],
   "source": [
    "# Calculamos la matriz de correlación\n",
    "correlation_matrix = final_DF[final_DF.columns[:-1]].corr()\n",
    "\n",
    "print(\"Matriz de correlación:\")\n",
    "print(correlation_matrix)\n",
    "\n",
    "import seaborn as sns\n",
    "import matplotlib.pyplot as plt\n",
    "\n",
    "# Usamos la matriz de correlación que calculamos antes\n",
    "plt.figure(figsize=(8, 6))\n",
    "sns.heatmap(correlation_matrix, annot=True, cmap='coolwarm', fmt=\".2f\")\n",
    "plt.title('Mapa de Calor de la Matriz de Correlación')\n",
    "plt.show()"
   ]
  },
  {
   "cell_type": "code",
   "execution_count": 21,
   "id": "8981916e",
   "metadata": {},
   "outputs": [
    {
     "data": {
      "text/plain": [
       "{'x1': 9561,\n",
       " 'x2': 7518,\n",
       " 'x3': 32769,\n",
       " 'x8': 0.245,\n",
       " 'x9': 5.628737133833499,\n",
       " 'x11': 3.8553228787812426,\n",
       " 'x15': 0.00022469516962160804,\n",
       " 'x16': 4.358739026336791}"
      ]
     },
     "execution_count": 21,
     "metadata": {},
     "output_type": "execute_result"
    }
   ],
   "source": [
    "NODETYPE = 1    # 0=Top     1=Bot\n",
    "\n",
    "# 1) Reading the bipartite networks\n",
    "gb = ig.Graph.Read_GraphML(FILENAME)\n",
    "#bip_metrics = compute_bip_metrics(gb, NODETYPE)\n",
    "bip_metrics = {'x1': 9561,\n",
    " 'x2': 7518,\n",
    " 'x3': 32769,\n",
    " 'x8': 0.245,\n",
    " 'x9': 5.628737133833499,\n",
    " 'x11': 3.8553228787812426, 'x15': gb.density(), 'x16': statistics.mean(gb.degree(gb.vs.select(type=NODETYPE)))}\n",
    "bip_metrics"
   ]
  },
  {
   "cell_type": "code",
   "execution_count": 27,
   "id": "1dd7c8f0",
   "metadata": {},
   "outputs": [
    {
     "name": "stdout",
     "output_type": "stream",
     "text": [
      "All solutions: 48\n",
      "Feasible solutions: 32\n"
     ]
    }
   ],
   "source": [
    "# Directorio de proyecciones\n",
    "proj_dir = DATASET + (\"/top\" if NODETYPE == 0 else \"/bot\")\n",
    "\n",
    "# Directorio para guardar métricas cacheadas\n",
    "metrics_cache_dir = os.path.join(proj_dir, \"cached_metrics\")\n",
    "os.makedirs(metrics_cache_dir, exist_ok=True)\n",
    "\n",
    "# Lista de archivos de métricas\n",
    "metrics_files = [f for f in os.listdir(metrics_cache_dir) if f.endswith(\"_metrics.pkl\")]\n",
    "\n",
    "solutions = []\n",
    "to_df = []\n",
    "names_df = []\n",
    "\n",
    "for fname in metrics_files:\n",
    "    cache_path = os.path.join(metrics_cache_dir, fname)\n",
    "\n",
    "    # Cargar las métricas ya calculadas\n",
    "    with open(cache_path, 'rb') as f:\n",
    "        proj_metrics = pickle.load(f)\n",
    "\n",
    "    # Nombre base del archivo (quita el sufijo \"_metrics.pkl\")\n",
    "    base_name = fname.replace(\"_metrics.pkl\", \"\")\n",
    "\n",
    "    sol = evaluate_solution(bip_metrics, proj_metrics, NODETYPE)\n",
    "    to_df.append(sol[\"f\"])\n",
    "    names_df.append(base_name)\n",
    "    sol[\"filename\"] = base_name\n",
    "\n",
    "    if is_feasible(sol):\n",
    "        solutions.append(sol)\n",
    "\n",
    "# Crear dataset final\n",
    "a = pd.DataFrame(to_df, columns=['f1', 'f2', 'f3', 'f4', 'f5', 'f6'])\n",
    "b = pd.DataFrame(names_df, columns=[\"name\"])\n",
    "final_DF = pd.concat([a, b], axis=1)\n",
    "\n",
    "print(\"All solutions:\", len(metrics_files))\n",
    "print(\"Feasible solutions:\", len(solutions))\n"
   ]
  },
  {
   "cell_type": "code",
   "execution_count": 28,
   "id": "225735ad",
   "metadata": {},
   "outputs": [
    {
     "name": "stdout",
     "output_type": "stream",
     "text": [
      "\n",
      "Frente 1 (14 soluciones):\n",
      "hyper_NC_a15\n",
      "hyper_NC_a05\n",
      "vector_DF_a15\n",
      "jaccard_DF_a2\n",
      "hyper_NC_a2\n",
      "vector_DF_a2\n",
      "simple_NC_a05\n",
      "neighs_DF_a2\n",
      "neighs_DF_a1\n",
      "vector_DF_a1\n",
      "resall_NC_a05\n",
      "hyper_NC_a1\n",
      "neighs_DF_a15\n",
      "jaccard_DF_a15\n",
      "\n",
      "Frente 2 (6 soluciones):\n",
      "jaccard_NC_a05\n",
      "resall_NC_a1\n",
      "simple_NC_a15\n",
      "jaccard_NC_a1\n",
      "resall_NC_a15\n",
      "simple_NC_a1\n",
      "\n",
      "Frente 3 (5 soluciones):\n",
      "jaccard_NC_a15\n",
      "simple_NC_a2\n",
      "neighs_NC_a1\n",
      "jaccard_NC_a2\n",
      "resall_NC_a2\n",
      "\n",
      "Frente 4 (5 soluciones):\n",
      "neighs_NC_a05\n",
      "neighs_NC_a15\n",
      "vector_NC_a05\n",
      "neighs_NC_a2\n",
      "vector_NC_a1\n",
      "\n",
      "Frente 5 (1 soluciones):\n",
      "vector_NC_a15\n",
      "\n",
      "Frente 6 (1 soluciones):\n",
      "vector_NC_a2\n"
     ]
    }
   ],
   "source": [
    "### Compute the pareto fronts\n",
    "\n",
    "all_fronts = pareto_rank_all(solutions)\n",
    "counter_sols = []\n",
    "\n",
    "for rank, front in enumerate(all_fronts, 1):\n",
    "    print(f\"\\nFrente {rank} ({len(front)} soluciones):\")\n",
    "    for sol_i in front:\n",
    "        clean_name = sol_i[\"filename\"][8:]\n",
    "        print(clean_name)\n",
    "        counter_sols.append(clean_name)\n"
   ]
  },
  {
   "cell_type": "code",
   "execution_count": 29,
   "id": "fe6eb33c",
   "metadata": {},
   "outputs": [
    {
     "name": "stdout",
     "output_type": "stream",
     "text": [
      "Matriz de correlación:\n",
      "          f1        f2        f3        f4        f5        f6\n",
      "f1  1.000000  0.341063  0.055489  0.434434 -0.521876 -0.183388\n",
      "f2  0.341063  1.000000 -0.396702  0.527638  0.173392 -0.162599\n",
      "f3  0.055489 -0.396702  1.000000  0.064408 -0.032752 -0.061051\n",
      "f4  0.434434  0.527638  0.064408  1.000000  0.292188 -0.414560\n",
      "f5 -0.521876  0.173392 -0.032752  0.292188  1.000000 -0.210592\n",
      "f6 -0.183388 -0.162599 -0.061051 -0.414560 -0.210592  1.000000\n"
     ]
    },
    {
     "data": {
      "image/png": "[encoded data removed]",
      "text/plain": [
       "<Figure size 800x600 with 2 Axes>"
      ]
     },
     "metadata": {},
     "output_type": "display_data"
    }
   ],
   "source": [
    "# Calculamos la matriz de correlación\n",
    "correlation_matrix = final_DF[final_DF.columns[:-1]].corr()\n",
    "\n",
    "print(\"Matriz de correlación:\")\n",
    "print(correlation_matrix)\n",
    "\n",
    "import seaborn as sns\n",
    "import matplotlib.pyplot as plt\n",
    "\n",
    "# Usamos la matriz de correlación que calculamos antes\n",
    "plt.figure(figsize=(8, 6))\n",
    "sns.heatmap(correlation_matrix, annot=True, cmap='coolwarm', fmt=\".2f\")\n",
    "plt.title('Mapa de Calor de la Matriz de Correlación')\n",
    "plt.show()"
   ]
  }
 ],
 "metadata": {
  "kernelspec": {
   "display_name": "tesis",
   "language": "python",
   "name": "python3"
  },
  "language_info": {
   "codemirror_mode": {
    "name": "ipython",
    "version": 3
   },
   "file_extension": ".py",
   "mimetype": "text/x-python",
   "name": "python",
   "nbconvert_exporter": "python",
   "pygments_lexer": "ipython3",
   "version": "3.10.16"
  }
 },
 "nbformat": 4,
 "nbformat_minor": 5
}
