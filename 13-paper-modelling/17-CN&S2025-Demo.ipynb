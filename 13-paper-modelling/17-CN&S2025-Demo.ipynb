{
 "cells": [
  {
   "cell_type": "markdown",
   "metadata": {},
   "source": [
    "## Igraph"
   ]
  },
  {
   "cell_type": "code",
   "execution_count": 41,
   "metadata": {},
   "outputs": [
    {
     "name": "stdout",
     "output_type": "stream",
     "text": [
      "Clustering with 34 elements and 4 clusters\n",
      "[0] 0, 1, 2, 3, 7, 9, 11, 12, 13, 17, 19, 21\n",
      "[1] 4, 5, 6, 10, 16\n",
      "[2] 8, 14, 15, 18, 20, 22, 26, 29, 30, 32, 33\n",
      "[3] 23, 24, 25, 27, 28, 31\n",
      "<class 'igraph.clustering.VertexClustering'>\n"
     ]
    }
   ],
   "source": [
    "import igraph as ig\n",
    "\n",
    "# Grafo para las pruebas\n",
    "g = ig.Graph.Famous(\"Zachary\")\n",
    "\n",
    "\n",
    "communities = g.community_multilevel()\n",
    "print(communities)\n",
    "print(type(communities))"
   ]
  },
  {
   "cell_type": "code",
   "execution_count": 42,
   "metadata": {},
   "outputs": [
    {
     "name": "stdout",
     "output_type": "stream",
     "text": [
      "Dendrogram, 34 elements, 33 merges\n",
      "\n",
      "2 28 27 24 25 31 26 14 15 18 20 22 8 30 23 29 32 33 9 0 1 3 13 7 21 19 17 12 11 5 6 16 4 10\n",
      "| |  |  |  |  |  |  |  |  |  |  |  | |  |  |  |  |  | | | | |  | |  |  |  |  |  | | |  | |\n",
      "| |  |  |  |  |  |  |  |  |  |  |  | |  |  |  `--'  | | | | |  | |  |  |  |  |  | | |  | |\n",
      "| |  |  |  |  |  |  |  |  |  |  |  | |  |  |   |    | | | | |  | |  |  |  |  |  | | |  | |\n",
      "| |  |  |  `--'  |  |  |  |  |  |  | |  |  `---'    | | | | |  | |  |  |  |  |  | | |  | |\n",
      "| |  |  |   |    |  |  |  |  |  |  | |  |    |      | | | | |  | |  |  |  |  |  | | |  | |\n",
      "| |  |  `---'    |  |  |  |  |  |  | |  `----'      | | | | |  | |  |  |  |  |  | `-'  | |\n",
      "| |  |    |      |  |  |  |  |  |  | |    |         | | | | |  | |  |  |  |  |  |  |   | |\n",
      "`-'  |    |      |  |  |  |  |  |  | |    |         | | | `-'  | |  |  |  |  |  `--'   `-'\n",
      " |   |    |      |  |  |  |  |  |  | |    |         | | |  |   | |  |  |  |  |   |      | \n",
      " |   |    |      |  |  |  |  |  |  | |    |         | | `--'   | |  |  |  |  |   |      | \n",
      " |   |    |      |  |  |  |  |  |  | |    |         | |  |     | |  |  |  |  |   |      | \n",
      " |   |    |      |  |  |  |  |  |  | |    |         | `--'     | |  |  |  |  |   |      | \n",
      " |   |    |      |  |  |  |  |  |  | |    |         |  |       | |  |  |  |  |   |      | \n",
      " |   |    |      |  |  |  |  |  |  | `----'         |  `-------' |  |  |  |  |   |      | \n",
      " |   |    |      |  |  |  |  |  |  |   |            |      |     |  |  |  |  |   |      | \n",
      " `---'    |      |  |  |  |  |  |  `---'            |      `-----'  |  |  |  |   |      | \n",
      "   |      |      |  |  |  |  |  |    |              |         |     |  |  |  |   |      | \n",
      "   |      |      |  |  |  |  |  `----'              |         `-----'  |  |  |   `------' \n",
      "   |      |      |  |  |  |  |    |                 |            |     |  |  |      |     \n",
      "   |      |      |  |  |  |  `----'                 |            `-----'  |  |      |     \n",
      "   |      |      |  |  |  |    |                    |               |     |  |      |     \n",
      "   `------'      |  |  |  `----'                    |               |     |  |      |     \n",
      "      |          |  |  |    |                       |               |     |  |      |     \n",
      "      |          |  |  `----'                       |               |     |  |      |     \n",
      "      |          |  |    |                          |               |     |  |      |     \n",
      "      |          |  `----'                          |               `-----'  |      |     \n",
      "      |          |    |                             |                  |     |      |     \n",
      "      |          `----'                             |                  `-----'      |     \n",
      "      |            |                                |                     |         |     \n",
      "      `------------'                                |                     `---------'     \n",
      "            |                                       |                          |          \n",
      "            `---------------------------------------'                          |          \n",
      "                                |                                              |          \n",
      "                                `----------------------------------------------'\n",
      "<class 'igraph.clustering.VertexDendrogram'>\n"
     ]
    }
   ],
   "source": [
    "communities = g.community_edge_betweenness()\n",
    "print(communities)\n",
    "print(type(communities))"
   ]
  },
  {
   "cell_type": "code",
   "execution_count": 55,
   "metadata": {},
   "outputs": [
    {
     "name": "stdout",
     "output_type": "stream",
     "text": [
      "Clustering with 34 elements and 4 clusters\n",
      "[0] 0, 1, 2, 3, 7, 11, 12, 13, 17, 19, 21\n",
      "[1] 4, 5, 6, 10, 16\n",
      "[2] 8, 9, 14, 15, 18, 20, 22, 23, 26, 27, 29, 30, 32, 33\n",
      "[3] 24, 25, 28, 31\n"
     ]
    }
   ],
   "source": [
    "communities = g.community_multilevel()\n",
    "print(communities)"
   ]
  },
  {
   "cell_type": "code",
   "execution_count": 56,
   "metadata": {},
   "outputs": [
    {
     "name": "stdout",
     "output_type": "stream",
     "text": [
      "0.4151051939513478\n"
     ]
    }
   ],
   "source": [
    "### Obtener el valor de modularidad\n",
    "print(communities.modularity)"
   ]
  },
  {
   "cell_type": "code",
   "execution_count": 57,
   "metadata": {},
   "outputs": [
    {
     "name": "stdout",
     "output_type": "stream",
     "text": [
      "[<igraph.Graph object at 0x1204c8d40>, <igraph.Graph object at 0x1204c8f40>, <igraph.Graph object at 0x1204c8e40>, <igraph.Graph object at 0x1204c9040>]\n",
      "IGRAPH U--- 11 23 --\n",
      "+ edges:\n",
      " 0 --  1  2  3  4  5  6  7  8  9 10    6 --  0  3\n",
      " 1 --  0  2  3  4  7  8  9 10          7 --  0  1  2  3\n",
      " 2 --  0  1  3  4  7                   8 --  0  1\n",
      " 3 --  0  1  2  4  6  7                9 --  0  1\n",
      " 4 --  0  1  2  3                     10 --  0  1\n",
      " 5 --  0\n",
      "IGRAPH U--- 5 6 --\n",
      "+ edges:\n",
      "0--2 1--2 0--3 1--3 1--4 2--4\n",
      "IGRAPH U--- 14 26 --\n",
      "+ edges:\n",
      "7--9 7--10 8--10 0--11 0--12 2--12 3--12 4--12 5--12 6--12 7--12 10--12 11--12\n",
      "0--13 1--13 2--13 3--13 4--13 5--13 6--13 7--13 8--13 9--13 10--13 11--13\n",
      "12--13\n",
      "IGRAPH U--- 4 4 --\n",
      "+ edges:\n",
      "0--1 0--3 1--3 2--3\n"
     ]
    }
   ],
   "source": [
    "### Obtener los subgrafos en un objeto de tipo GRAPH de igraph\n",
    "print(communities.subgraphs())\n",
    "\n",
    "for sg in communities.subgraphs():\n",
    "    print(sg)"
   ]
  },
  {
   "cell_type": "code",
   "execution_count": 58,
   "metadata": {},
   "outputs": [
    {
     "name": "stdout",
     "output_type": "stream",
     "text": [
      "[11, 5, 14, 4]\n"
     ]
    }
   ],
   "source": [
    "### Obtener el tamaño de cada comunidad\n",
    "print(communities.sizes())"
   ]
  },
  {
   "cell_type": "code",
   "execution_count": 59,
   "metadata": {},
   "outputs": [
    {
     "name": "stdout",
     "output_type": "stream",
     "text": [
      "IGRAPH U--- 14 26 --\n",
      "+ edges:\n",
      "7--9 7--10 8--10 0--11 0--12 2--12 3--12 4--12 5--12 6--12 7--12 10--12 11--12\n",
      "0--13 1--13 2--13 3--13 4--13 5--13 6--13 7--13 8--13 9--13 10--13 11--13\n",
      "12--13\n"
     ]
    }
   ],
   "source": [
    "### Obtener la comunidad más grande de la partición\n",
    "print(communities.giant())"
   ]
  },
  {
   "cell_type": "code",
   "execution_count": 61,
   "metadata": {},
   "outputs": [
    {
     "name": "stdout",
     "output_type": "stream",
     "text": [
      "11\n"
     ]
    }
   ],
   "source": [
    "### Obtener el tamaño de una comunida\n",
    "print(communities.size(0))"
   ]
  },
  {
   "cell_type": "code",
   "execution_count": 63,
   "metadata": {},
   "outputs": [
    {
     "name": "stdout",
     "output_type": "stream",
     "text": [
      "N = 4, mean +- sd: 8.5000 +- 4.7958\n",
      "[ 4,  5): * (1)\n",
      "[ 5,  6): * (1)\n",
      "[ 6,  7):  (0)\n",
      "[ 7,  8):  (0)\n",
      "[ 8,  9):  (0)\n",
      "[ 9, 10):  (0)\n",
      "[10, 11):  (0)\n",
      "[11, 12): * (1)\n",
      "[12, 13):  (0)\n",
      "[13, 14):  (0)\n",
      "[14, 15): * (1)\n"
     ]
    }
   ],
   "source": [
    "### Obtener el histograma de tamaños de comunidades\n",
    "print(communities.size_histogram())"
   ]
  },
  {
   "cell_type": "code",
   "execution_count": 64,
   "metadata": {},
   "outputs": [
    {
     "name": "stdout",
     "output_type": "stream",
     "text": [
      "[0, 0, 0, 0, 1, 1, 1, 0, 2, 2, 1, 0, 0, 0, 2, 2, 1, 0, 2, 0, 2, 0, 2, 2, 3, 3, 2, 2, 3, 2, 2, 3, 2, 2]\n"
     ]
    }
   ],
   "source": [
    "### Obtener un vector de pertenencia de cada nodo\n",
    "print(communities.membership)"
   ]
  },
  {
   "cell_type": "markdown",
   "metadata": {},
   "source": [
    "## NetworkX"
   ]
  },
  {
   "cell_type": "code",
   "execution_count": 67,
   "metadata": {},
   "outputs": [
    {
     "name": "stdout",
     "output_type": "stream",
     "text": [
      "[{0, 1, 2, 3, 7, 9, 11, 12, 13, 17, 19, 21}, {16, 4, 5, 6, 10}, {23, 24, 25, 27, 28, 31}, {32, 33, 8, 14, 15, 18, 20, 22, 26, 29, 30}]\n"
     ]
    },
    {
     "data": {
      "text/plain": [
       "4"
      ]
     },
     "execution_count": 67,
     "metadata": {},
     "output_type": "execute_result"
    }
   ],
   "source": [
    "import networkx as nx\n",
    "G = g.to_networkx()\n",
    "communities = nx.community.louvain_communities(G)\n",
    "\n",
    "print(communities)\n",
    "len(communities)"
   ]
  },
  {
   "cell_type": "code",
   "execution_count": 68,
   "metadata": {},
   "outputs": [
    {
     "name": "stdout",
     "output_type": "stream",
     "text": [
      "0.41880341880341876\n"
     ]
    }
   ],
   "source": [
    "print(nx.community.modularity(G, communities))"
   ]
  },
  {
   "cell_type": "code",
   "execution_count": 69,
   "metadata": {},
   "outputs": [
    {
     "name": "stdout",
     "output_type": "stream",
     "text": [
      "dict_values([{0, 1, 3, 4, 7, 10, 11, 12, 13, 17, 19, 21, 24, 25, 31}, {32, 33, 2, 8, 9, 14, 15, 18, 20, 22, 23, 26, 27, 28, 29, 30}, {16, 5, 6}])\n"
     ]
    }
   ],
   "source": [
    "communities = nx.community.label_propagation_communities(G)\n",
    "\n",
    "print(communities)"
   ]
  },
  {
   "cell_type": "code",
   "execution_count": 70,
   "metadata": {},
   "outputs": [
    {
     "name": "stdout",
     "output_type": "stream",
     "text": [
      "0.3251150558842867\n"
     ]
    }
   ],
   "source": [
    "print(nx.community.modularity(G, communities))"
   ]
  }
 ],
 "metadata": {
  "kernelspec": {
   "display_name": "Python 3 (ipykernel)",
   "language": "python",
   "name": "python3"
  }
 },
 "nbformat": 4,
 "nbformat_minor": 2
}
