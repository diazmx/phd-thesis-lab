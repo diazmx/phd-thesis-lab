{
 "cells": [
  {
   "cell_type": "markdown",
   "metadata": {},
   "source": [
    "# Data Pre-processing\n",
    "---------------"
   ]
  },
  {
   "cell_type": "code",
   "execution_count": 7,
   "metadata": {},
   "outputs": [],
   "source": [
    "### Import libraries\n",
    "\n",
    "import numpy as np\n",
    "import pandas as pd\n",
    "import igraph as ig"
   ]
  },
  {
   "cell_type": "code",
   "execution_count": 8,
   "metadata": {},
   "outputs": [
    {
     "name": "stdout",
     "output_type": "stream",
     "text": [
      "Nodos y frecuencias:\n",
      "Nodo 0: Frecuencia 11 - Type 0\n",
      "Nodo 1: Frecuencia 8 - Type 0\n",
      "Nodo 2: Frecuencia 9 - Type 0\n",
      "Nodo 3: Frecuencia 22 - Type 0\n",
      "Nodo 4: Frecuencia 12 - Type 0\n",
      "Nodo 5: Frecuencia 8 - Type 0\n",
      "Nodo 6: Frecuencia 2 - Type 0\n",
      "Nodo 7: Frecuencia 10 - Type 0\n",
      "Nodo 8: Frecuencia 23 - Type 1\n",
      "Nodo 9: Frecuencia 39 - Type 1\n",
      "Nodo 10: Frecuencia 13 - Type 1\n",
      "Nodo 11: Frecuencia 25 - Type 1\n",
      "\n",
      "Aristas y pesos:\n",
      "Arista (0, 8): Peso 11\n",
      "Arista (1, 8): Peso 3\n",
      "Arista (1, 9): Peso 5\n",
      "Arista (2, 8): Peso 7\n",
      "Arista (2, 9): Peso 20\n",
      "Arista (3, 8): Peso 2\n",
      "Arista (3, 9): Peso 10\n",
      "Arista (3, 10): Peso 5\n",
      "Arista (3, 11): Peso 5\n",
      "Arista (4, 9): Peso 4\n",
      "Arista (4, 10): Peso 8\n",
      "Arista (5, 11): Peso 8\n",
      "Arista (6, 11): Peso 2\n",
      "Arista (7, 11): Peso 10\n",
      "Is bipartite? = True\n"
     ]
    }
   ],
   "source": [
    "# Ejemplo de dataframe de entrada\n",
    "df = pd.DataFrame({\n",
    "    'source': [1, 2, 2, 3, 3, 4, 4, 4, 4, 5, 5, 6, 7, 8],\n",
    "    'target': [1, 1, 2, 1, 2, 1, 2, 3, 4, 2, 3, 4, 4, 4]\n",
    "})\n",
    "\n",
    "# Obtener identificadores únicos por tipo\n",
    "unique_source = sorted(df['source'].unique())  # Nodos tipo 1\n",
    "unique_target = sorted(df['target'].unique())  # Nodos tipo 2\n",
    "\n",
    "# Crear nuevo mapeo de IDs\n",
    "source_mapping = {old_id: new_id for new_id, old_id in enumerate(unique_source)}\n",
    "start_target_id = len(unique_source)  # El primer ID del target será el último del source + 1\n",
    "target_mapping = {old_id: new_id for new_id, old_id in enumerate(unique_target, start=start_target_id)}\n",
    "\n",
    "# Aplicar el mapeo al dataframe\n",
    "df_mapped = df.replace({'source': source_mapping, 'target': target_mapping})\n",
    "\n",
    "# Contar la frecuencia correcta después del mapeo\n",
    "source_counts = df_mapped['source'].value_counts().to_dict()\n",
    "target_counts = df_mapped['target'].value_counts().to_dict()\n",
    "\n",
    "# Fusionar ambas frecuencias asegurando que no falte ningún nodo\n",
    "node_frequencies = {node: source_counts.get(node, 0) + target_counts.get(node, 0) for node in range(len(source_mapping) + len(target_mapping))}\n",
    "\n",
    "# Contar la frecuencia de cada arista después del mapeo\n",
    "edge_counts = df_mapped.groupby(['source', 'target']).size().to_dict()\n",
    "\n",
    "# Crear el grafo bipartito en igraph\n",
    "edges = list(edge_counts.keys())  # Lista de aristas sin duplicados\n",
    "g = ig.Graph(edges=edges, directed=False)\n",
    "\n",
    "# Etiquetar los nodos con su tipo\n",
    "g.vs['type'] = [0] * len(source_mapping) + [1] * len(target_mapping)  # 0 para tipo 1, 1 para tipo 2\n",
    "\n",
    "freq = [11, 8, 9, 22, 12, 8, 2, 10, 23, 39, 13, 25]\n",
    "# Agregar el atributo de frecuencia de los nodos\n",
    "g.vs['frequency'] = freq\n",
    "\n",
    "weigts = [11, 3, 5, 7, 20, 2, 10, 5, 5, 4, 8, 8, 2, 10]\n",
    "# Agregar el atributo de peso a las aristas\n",
    "g.es['weight'] = weigts\n",
    "\n",
    "# Mostrar nodos con sus frecuencias\n",
    "print(\"Nodos y frecuencias:\")\n",
    "for v, f, z in zip(g.vs.indices, g.vs['frequency'], g.vs[\"type\"]):\n",
    "    print(f\"Nodo {v}: Frecuencia {f} - Type {z}\")\n",
    "\n",
    "# Mostrar aristas con sus pesos\n",
    "print(\"\\nAristas y pesos:\")\n",
    "for edge, weight in zip(g.get_edgelist(), g.es['weight']):\n",
    "    print(f\"Arista {edge}: Peso {weight}\")\n",
    "\n",
    "print(f\"Is bipartite? = {g.is_bipartite()}\")\n"
   ]
  },
  {
   "cell_type": "code",
   "execution_count": 9,
   "metadata": {},
   "outputs": [],
   "source": [
    "### Change color\n",
    "color_map = []\n",
    "for nodetype in g.vs[\"type\"]:\n",
    "    if nodetype == 0:\n",
    "        color_map.append(\"red\")\n",
    "    else:\n",
    "        color_map.append(\"blue\")"
   ]
  },
  {
   "cell_type": "code",
   "execution_count": 10,
   "metadata": {},
   "outputs": [],
   "source": [
    "g.write_graphml(\"TOY-GRAPH.graphml\")"
   ]
  },
  {
   "cell_type": "code",
   "execution_count": 13,
   "metadata": {},
   "outputs": [
    {
     "name": "stdout",
     "output_type": "stream",
     "text": [
      "\n",
      "Aristas y pesos:\n",
      "Arista (0, 8): Peso 11\n",
      "Arista (1, 8): Peso 3\n",
      "Arista (1, 9): Peso 5\n",
      "Arista (2, 8): Peso 7\n",
      "Arista (2, 9): Peso 20\n",
      "Arista (3, 8): Peso 2\n",
      "Arista (3, 9): Peso 10\n",
      "Arista (3, 10): Peso 5\n",
      "Arista (3, 11): Peso 5\n",
      "Arista (4, 9): Peso 4\n",
      "Arista (4, 10): Peso 8\n",
      "Arista (5, 11): Peso 8\n",
      "Arista (6, 11): Peso 2\n",
      "Arista (7, 11): Peso 10\n"
     ]
    }
   ],
   "source": [
    "print(\"\\nAristas y pesos:\")\n",
    "for edge, weight in zip(g.get_edgelist(), g.es['weight']):\n",
    "    print(f\"Arista {edge}: Peso {weight}\")"
   ]
  },
  {
   "cell_type": "code",
   "execution_count": 17,
   "metadata": {},
   "outputs": [
    {
     "data": {
      "text/plain": [
       "8"
      ]
     },
     "execution_count": 17,
     "metadata": {},
     "output_type": "execute_result"
    }
   ],
   "source": [
    "len(g.vs.select(type=0))"
   ]
  },
  {
   "cell_type": "code",
   "execution_count": 20,
   "metadata": {},
   "outputs": [],
   "source": [
    "def bipartite_density(g):\n",
    "    return g.ecount() / (len(g.vs.select(type=0)) * len(g.vs.select(type=1)))"
   ]
  },
  {
   "cell_type": "code",
   "execution_count": 21,
   "metadata": {},
   "outputs": [
    {
     "data": {
      "text/plain": [
       "0.4375"
      ]
     },
     "execution_count": 21,
     "metadata": {},
     "output_type": "execute_result"
    }
   ],
   "source": [
    "bipartite_density(g)"
   ]
  },
  {
   "cell_type": "code",
   "execution_count": 22,
   "metadata": {},
   "outputs": [
    {
     "data": {
      "text/plain": [
       "14"
      ]
     },
     "execution_count": 22,
     "metadata": {},
     "output_type": "execute_result"
    }
   ],
   "source": [
    "g.ecount()"
   ]
  },
  {
   "cell_type": "code",
   "execution_count": null,
   "metadata": {},
   "outputs": [],
   "source": []
  }
 ],
 "metadata": {
  "kernelspec": {
   "display_name": "Python 3 (ipykernel)",
   "language": "python",
   "name": "python3"
  }
 },
 "nbformat": 4,
 "nbformat_minor": 2
}
