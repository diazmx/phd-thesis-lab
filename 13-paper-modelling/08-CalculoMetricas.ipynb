{
 "cells": [
  {
   "cell_type": "code",
   "execution_count": 1,
   "id": "5348c71b",
   "metadata": {},
   "outputs": [],
   "source": [
    "### Import libraries\n",
    "\n",
    "import igraph as ig\n",
    "import numpy as np\n",
    "import os\n",
    "from collections import Counter, OrderedDict\n",
    "import pickle\n",
    "import pandas as pd\n",
    "import matplotlib.pyplot as plt\n",
    "from auxiliar_bb import apply_backboning\n",
    "from auxiliar_projections_large import apply_projection\n",
    "from auxiliar_opti_two import *\n",
    "from sklearn.manifold import TSNE\n",
    "from sklearn.decomposition import PCA\n",
    "from matplotlib.lines import Line2D"
   ]
  },
  {
   "cell_type": "code",
   "execution_count": 19,
   "id": "f03b1a71",
   "metadata": {},
   "outputs": [],
   "source": [
    "### Select dataset\n",
    "DATASET = \"am\" # [\"amz\", \"um\", \"am\"]\n",
    "PROJ_NAMES = [\"simple\", \"vector\", \"jaccard\", \"neighs\", \"hyper\", \"resall\"]\n",
    "\n",
    "nombre_proyecciones = {\n",
    "    \"simple\": \"Weighted\", \"jaccard\": \"Jaccard\", \"hyper\": \"Hyperbolic\",\n",
    "    \"vector\": \"Vectorized\", \"resall\": \"Resource\\nAllocation\", \"neighs\": \"Neighborhood\"\n",
    "}\n",
    "nombre_backbonings = { \"NC\": \"Noise Corrected\", \"DF\": \"Disparity Filter\"}\n",
    "COLORS_PR = [\"#ef476fff\", \"#f78c6bff\", \"#ffd166ff\", \"#06d6a0ff\", \"#118ab2ff\", \"#718355\"]\n",
    "COLORS_BB = [ \"#8ab17d\", \"#e9c46a\"]\n",
    "COLORS_SV = [\"#718355\", \"#87986a\", \"#97a97c\", \"#b5c99a\"]\n",
    "\n",
    "if DATASET == \"um\":\n",
    "    FILENAME = \"../12-third_year/00-Data/08-imdb/user-movie.graphml\"\n",
    "elif DATASET == \"am\":\n",
    "    FILENAME = \"/home/daniel/Documents/phd/phd-thesis-lab/12-third_year/00-Data/05-actor-movie/actor-movie.graphml\"\n",
    "elif DATASET == \"amz\":\n",
    "    FILENAME = \"binet-AMZ-Rw.graphml\"\n"
   ]
  },
  {
   "cell_type": "code",
   "execution_count": 20,
   "id": "6d3ac361",
   "metadata": {},
   "outputs": [
    {
     "name": "stdout",
     "output_type": "stream",
     "text": [
      "IGRAPH UN-T 511463 1470404 -- \n",
      "+ attr: id (v), name (v), type (v)\n",
      "\n",
      "|U|= 383640  \t|R|= 127823  \t|U|+|R|= 511463 = 511463\n",
      "\n",
      "The graph IS bipartite\n"
     ]
    }
   ],
   "source": [
    "g = ig.read(FILENAME)\n",
    "print(g.summary())\n",
    "print()\n",
    "\n",
    "top_nodes = g.vs.select(type=0)\n",
    "bot_nodes = g.vs.select(type=1)\n",
    "\n",
    "print(\"|U|=\",len(top_nodes), \" \\t|R|=\",len(bot_nodes), \" \\t|U|+|R|=\",\n",
    "      len(top_nodes)+len(bot_nodes), \"=\", g.vcount())\n",
    "print()\n",
    "\n",
    "if(g.is_bipartite()): # Check if the the graph is bipartite\n",
    "    print(\"The graph IS bipartite\")\n",
    "else:\n",
    "    print(\"The graph IS NOT bipartite\")\n",
    "    exit()\n"
   ]
  },
  {
   "cell_type": "code",
   "execution_count": 4,
   "id": "2d5f7d3c",
   "metadata": {},
   "outputs": [
    {
     "ename": "KeyboardInterrupt",
     "evalue": "",
     "output_type": "error",
     "traceback": [
      "\u001b[0;31m---------------------------------------------------------------------------\u001b[0m",
      "\u001b[0;31mKeyboardInterrupt\u001b[0m                         Traceback (most recent call last)",
      "Cell \u001b[0;32mIn[4], line 3\u001b[0m\n\u001b[1;32m      1\u001b[0m avg_cc_bip \u001b[38;5;241m=\u001b[39m \u001b[38;5;241m0\u001b[39m\n\u001b[1;32m      2\u001b[0m \u001b[38;5;28;01mfor\u001b[39;00m i \u001b[38;5;129;01min\u001b[39;00m \u001b[38;5;28mrange\u001b[39m(\u001b[38;5;241m5\u001b[39m):\n\u001b[0;32m----> 3\u001b[0m     res \u001b[38;5;241m=\u001b[39m \u001b[43maverage_local_bipartite_clustering_coefficient_sampled_stratified\u001b[49m\u001b[43m(\u001b[49m\u001b[43mg\u001b[49m\u001b[43m,\u001b[49m\u001b[43m \u001b[49m\u001b[43mn\u001b[49m\u001b[38;5;241;43m=\u001b[39;49m\u001b[38;5;241;43m500\u001b[39;49m\u001b[43m)\u001b[49m\n\u001b[1;32m      4\u001b[0m     avg_cc_bip \u001b[38;5;241m+\u001b[39m\u001b[38;5;241m=\u001b[39m res\n\u001b[1;32m      5\u001b[0m avg_cc_bip \u001b[38;5;241m/\u001b[39m \u001b[38;5;241m5\u001b[39m\n",
      "File \u001b[0;32m~/Documents/phd/phd-thesis-lab/13-paper-modelling/auxiliar_opti_two.py:290\u001b[0m, in \u001b[0;36maverage_local_bipartite_clustering_coefficient_sampled_stratified\u001b[0;34m(graph, n, seed)\u001b[0m\n\u001b[1;32m    288\u001b[0m node_type \u001b[38;5;241m=\u001b[39m graph\u001b[38;5;241m.\u001b[39mvs[v_id][\u001b[38;5;124m\"\u001b[39m\u001b[38;5;124mtype\u001b[39m\u001b[38;5;124m\"\u001b[39m]\n\u001b[1;32m    289\u001b[0m \u001b[38;5;28;01mtry\u001b[39;00m:\n\u001b[0;32m--> 290\u001b[0m     cc_v \u001b[38;5;241m=\u001b[39m \u001b[43mlocal_bipartite_clustering_coefficient\u001b[49m\u001b[43m(\u001b[49m\u001b[43mgraph\u001b[49m\u001b[43m,\u001b[49m\u001b[43m \u001b[49m\u001b[43mv_id\u001b[49m\u001b[43m,\u001b[49m\u001b[43m \u001b[49m\u001b[43mnode_type\u001b[49m\u001b[43m)\u001b[49m\n\u001b[1;32m    291\u001b[0m     sum_cc \u001b[38;5;241m+\u001b[39m\u001b[38;5;241m=\u001b[39m cc_v\n\u001b[1;32m    292\u001b[0m     count_valid \u001b[38;5;241m+\u001b[39m\u001b[38;5;241m=\u001b[39m \u001b[38;5;241m1\u001b[39m\n",
      "File \u001b[0;32m~/Documents/phd/phd-thesis-lab/13-paper-modelling/auxiliar_opti_two.py:127\u001b[0m, in \u001b[0;36mlocal_bipartite_clustering_coefficient\u001b[0;34m(graph, u_id, U_type_value)\u001b[0m\n\u001b[1;32m    125\u001b[0m sum_cc_uu_prime \u001b[38;5;241m=\u001b[39m \u001b[38;5;241m0.0\u001b[39m\n\u001b[1;32m    126\u001b[0m \u001b[38;5;28;01mfor\u001b[39;00m u_prime_id \u001b[38;5;129;01min\u001b[39;00m nn_u:\n\u001b[0;32m--> 127\u001b[0m     sum_cc_uu_prime \u001b[38;5;241m+\u001b[39m\u001b[38;5;241m=\u001b[39m \u001b[43mbipartite_cc_uu_prime\u001b[49m\u001b[43m(\u001b[49m\u001b[43mgraph\u001b[49m\u001b[43m,\u001b[49m\u001b[43m \u001b[49m\u001b[43mu_id\u001b[49m\u001b[43m,\u001b[49m\u001b[43m \u001b[49m\u001b[43mu_prime_id\u001b[49m\u001b[43m)\u001b[49m\n\u001b[1;32m    129\u001b[0m \u001b[38;5;28;01mreturn\u001b[39;00m sum_cc_uu_prime \u001b[38;5;241m/\u001b[39m \u001b[38;5;28mlen\u001b[39m(nn_u)\n",
      "File \u001b[0;32m~/Documents/phd/phd-thesis-lab/13-paper-modelling/auxiliar_opti_two.py:72\u001b[0m, in \u001b[0;36mbipartite_cc_uu_prime\u001b[0;34m(graph, u_id, u_prime_id)\u001b[0m\n\u001b[1;32m     59\u001b[0m \u001b[38;5;28;01mdef\u001b[39;00m \u001b[38;5;21mbipartite_cc_uu_prime\u001b[39m(graph, u_id, u_prime_id):\n\u001b[1;32m     60\u001b[0m \u001b[38;5;250m    \u001b[39m\u001b[38;5;124;03m\"\"\"\u001b[39;00m\n\u001b[1;32m     61\u001b[0m \u001b[38;5;124;03m    Calculates the Jaccard index based clustering coefficient for a pair of vertices\u001b[39;00m\n\u001b[1;32m     62\u001b[0m \u001b[38;5;124;03m    u and u' from the same set of nodes in a bipartite graph.\u001b[39;00m\n\u001b[0;32m   (...)\u001b[0m\n\u001b[1;32m     70\u001b[0m \u001b[38;5;124;03m        The Jaccard index (cc_u_u_prime) or 0 if union of neighbors is empty.\u001b[39;00m\n\u001b[1;32m     71\u001b[0m \u001b[38;5;124;03m    \"\"\"\u001b[39;00m\n\u001b[0;32m---> 72\u001b[0m     \u001b[38;5;28;01mif\u001b[39;00m \u001b[38;5;129;01mnot\u001b[39;00m \u001b[43mgraph\u001b[49m\u001b[38;5;241;43m.\u001b[39;49m\u001b[43mis_bipartite\u001b[49m\u001b[43m(\u001b[49m\u001b[43m)\u001b[49m:\n\u001b[1;32m     73\u001b[0m         \u001b[38;5;28;01mraise\u001b[39;00m \u001b[38;5;167;01mValueError\u001b[39;00m(\u001b[38;5;124m\"\u001b[39m\u001b[38;5;124mGraph must be bipartite.\u001b[39m\u001b[38;5;124m\"\u001b[39m)\n\u001b[1;32m     75\u001b[0m     \u001b[38;5;66;03m# Get neighbors of u and u'\u001b[39;00m\n",
      "\u001b[0;31mKeyboardInterrupt\u001b[0m: "
     ]
    }
   ],
   "source": [
    "avg_cc_bip = 0\n",
    "for i in range(5):\n",
    "    res = average_local_bipartite_clustering_coefficient_sampled_stratified(g, n=500)\n",
    "    avg_cc_bip += res\n",
    "avg_cc_bip / 5"
   ]
  },
  {
   "cell_type": "code",
   "execution_count": 28,
   "id": "98bcb6e0",
   "metadata": {},
   "outputs": [
    {
     "data": {
      "text/plain": [
       "0.32535131844540927"
      ]
     },
     "execution_count": 28,
     "metadata": {},
     "output_type": "execute_result"
    }
   ],
   "source": [
    "average_local_bipartite_clustering_coefficient_sampled_stratified(g, n=100)"
   ]
  },
  {
   "cell_type": "code",
   "execution_count": 21,
   "id": "8536bf4b",
   "metadata": {},
   "outputs": [
    {
     "data": {
      "text/plain": [
       "1.8623650345000595"
      ]
     },
     "execution_count": 21,
     "metadata": {},
     "output_type": "execute_result"
    }
   ],
   "source": [
    "compute_power_law_bipartite(g, 0)"
   ]
  },
  {
   "cell_type": "code",
   "execution_count": 22,
   "id": "96851fff",
   "metadata": {},
   "outputs": [
    {
     "data": {
      "text/plain": [
       "5.066327861107771"
      ]
     },
     "execution_count": 22,
     "metadata": {},
     "output_type": "execute_result"
    }
   ],
   "source": [
    "compute_power_law_bipartite(g, 1)"
   ]
  },
  {
   "cell_type": "code",
   "execution_count": 23,
   "id": "e8d272e9",
   "metadata": {},
   "outputs": [
    {
     "data": {
      "text/plain": [
       "{'type_true': 6.213333333333333,\n",
       " 'type_false': 7.400402414486922,\n",
       " 'overall': 7.103635144198524}"
      ]
     },
     "execution_count": 23,
     "metadata": {},
     "output_type": "execute_result"
    }
   ],
   "source": [
    "compute_avg_path_length_same_type(g, k=100, seed=42)"
   ]
  },
  {
   "cell_type": "code",
   "execution_count": 27,
   "id": "6f562bf8",
   "metadata": {},
   "outputs": [
    {
     "name": "stdout",
     "output_type": "stream",
     "text": [
      "T0: 3.669019658284563    T1: 3.2922002635046113\n"
     ]
    }
   ],
   "source": [
    "avg_p_l_0 = 0\n",
    "avg_p_l_1 = 0\n",
    "for i in range(5):\n",
    "    result = compute_avg_path_length_same_type(g, k=100)\n",
    "    avg_p_l_0 += result[\"type_false\"] / 2\n",
    "    avg_p_l_1 += result[\"type_true\"] / 2\n",
    "# → {'type_true': 2.0, 'type_false': 0.0, 'overall': 1.3333}\n",
    "\n",
    "print(\"T0:\", avg_p_l_0/5, \"   T1:\", avg_p_l_1/5)"
   ]
  },
  {
   "cell_type": "code",
   "execution_count": 24,
   "id": "2702ef2d",
   "metadata": {},
   "outputs": [
    {
     "data": {
      "text/plain": [
       "1.1241883410574385e-05"
      ]
     },
     "execution_count": 24,
     "metadata": {},
     "output_type": "execute_result"
    }
   ],
   "source": [
    "g.density()"
   ]
  },
  {
   "cell_type": "code",
   "execution_count": 25,
   "id": "58df51fb",
   "metadata": {},
   "outputs": [
    {
     "data": {
      "text/plain": [
       "3.832770305494735"
      ]
     },
     "execution_count": 25,
     "metadata": {},
     "output_type": "execute_result"
    }
   ],
   "source": [
    "import statistics\n",
    "\n",
    "statistics.mean(g.degree(g.vs.select(type=0)))"
   ]
  },
  {
   "cell_type": "code",
   "execution_count": 26,
   "id": "9ed7d678",
   "metadata": {},
   "outputs": [
    {
     "data": {
      "text/plain": [
       "11.503438348341065"
      ]
     },
     "execution_count": 26,
     "metadata": {},
     "output_type": "execute_result"
    }
   ],
   "source": [
    "statistics.mean(g.degree(g.vs.select(type=1)))"
   ]
  }
 ],
 "metadata": {
  "kernelspec": {
   "display_name": "tesis",
   "language": "python",
   "name": "python3"
  },
  "language_info": {
   "codemirror_mode": {
    "name": "ipython",
    "version": 3
   },
   "file_extension": ".py",
   "mimetype": "text/x-python",
   "name": "python",
   "nbconvert_exporter": "python",
   "pygments_lexer": "ipython3",
   "version": "3.10.16"
  }
 },
 "nbformat": 4,
 "nbformat_minor": 5
}
