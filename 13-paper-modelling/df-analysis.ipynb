{
 "cells": [
  {
   "cell_type": "code",
   "execution_count": 1,
   "id": "20e32770",
   "metadata": {},
   "outputs": [],
   "source": [
    "import pandas as pd\n",
    "import matplotlib.pyplot as plt"
   ]
  },
  {
   "cell_type": "code",
   "execution_count": 2,
   "id": "d8b95fc7",
   "metadata": {},
   "outputs": [],
   "source": [
    "df = pd.read_csv(\"datos_proj_bot_act_mov.csv\")"
   ]
  },
  {
   "cell_type": "code",
   "execution_count": 19,
   "id": "b9679aac",
   "metadata": {},
   "outputs": [
    {
     "data": {
      "text/plain": [
       "'[0.00000000e+00 4.90684035e-04 3.69200000e+03 8.72838335e-01\\n 4.83071582e-01 3.31086491e+00]'"
      ]
     },
     "execution_count": 19,
     "metadata": {},
     "output_type": "execute_result"
    }
   ],
   "source": [
    "list_column = df['f'].tolist()\n",
    "\n",
    "# Crear un nuevo DataFrame a partir de la lista de listas\n",
    "# Opción 1: Si quieres cada sub-lista como una fila\n",
    "new_df_rows = pd.DataFrame(list_column)\n",
    "new_df_rows.head()[0][0]"
   ]
  },
  {
   "cell_type": "code",
   "execution_count": null,
   "id": "b5f5a92b",
   "metadata": {},
   "outputs": [],
   "source": []
  },
  {
   "cell_type": "code",
   "execution_count": null,
   "id": "0dce331c",
   "metadata": {},
   "outputs": [],
   "source": []
  }
 ],
 "metadata": {
  "kernelspec": {
   "display_name": "tesis",
   "language": "python",
   "name": "python3"
  },
  "language_info": {
   "codemirror_mode": {
    "name": "ipython",
    "version": 3
   },
   "file_extension": ".py",
   "mimetype": "text/x-python",
   "name": "python",
   "nbconvert_exporter": "python",
   "pygments_lexer": "ipython3",
   "version": "3.10.16"
  }
 },
 "nbformat": 4,
 "nbformat_minor": 5
}
