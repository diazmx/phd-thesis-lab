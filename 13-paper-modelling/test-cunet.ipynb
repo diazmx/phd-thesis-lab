{
 "cells": [
  {
   "cell_type": "code",
   "execution_count": 181,
   "id": "99261496",
   "metadata": {},
   "outputs": [],
   "source": [
    "import numpy as np\n",
    "import pandas as pd\n",
    "import networkx as nx\n",
    "import nx_cugraph as nxcg\n",
    "from time import time\n",
    "import os\n",
    "import cupy as cp\n",
    "import random"
   ]
  },
  {
   "cell_type": "code",
   "execution_count": 175,
   "id": "1bd27dfd",
   "metadata": {},
   "outputs": [],
   "source": [
    "FILENAME = \"/home/daniel/Documents/phd/phd-thesis-lab/12-third_year/00-Data/05-actor-movie/actor-movie.graphml\"\n"
   ]
  },
  {
   "cell_type": "code",
   "execution_count": null,
   "id": "499dd0d6",
   "metadata": {},
   "outputs": [
    {
     "name": "stdout",
     "output_type": "stream",
     "text": [
      "using networkx version 3.2\n",
      "|N| 17079    |M| 32769\n",
      "GPU - time: 3.3951961994 seconds.\n",
      "CPU - time: 30.7760994434 seconds.\n"
     ]
    }
   ],
   "source": [
    "\n",
    "\n",
    "print(f\"using networkx version {nx.__version__}\")\n",
    "\n",
    "G = nx.read_graphml(FILENAME)\n",
    "print(\"|N|\",G.number_of_nodes(), \"   |M|\",G.number_of_edges())\n",
    "\n",
    "nxcg_G = nxcg.from_networkx(G) \n",
    "\n",
    "a = time()\n",
    "#bc_results = nx.betweenness_centrality(G, k=100)\n",
    "nx.betweenness_centrality(nxcg_G, k=1000)\n",
    "b = time() - a\n",
    "print(\"GPU - time: %.10f seconds.\" % b)\n",
    "\n",
    "a = time()\n",
    "bc_results = nx.betweenness_centrality(G, k=1000)\n",
    "#nx.betweenness_centrality(nxcg_G, k=1000)\n",
    "b = time() - a\n",
    "print(\"CPU - time: %.10f seconds.\" % b)"
   ]
  },
  {
   "cell_type": "code",
   "execution_count": 14,
   "id": "67b8bd0a",
   "metadata": {},
   "outputs": [
    {
     "ename": "TypeError",
     "evalue": "all_pairs_shortest_path_length() got an unexpected keyword argument 'source'",
     "output_type": "error",
     "traceback": [
      "\u001b[0;31m---------------------------------------------------------------------------\u001b[0m",
      "\u001b[0;31mTypeError\u001b[0m                                 Traceback (most recent call last)",
      "File \u001b[0;32m<timed exec>:13\u001b[0m\n",
      "File \u001b[0;32m~/miniconda3/envs/tesis/lib/python3.10/site-packages/nx_cugraph/utils/decorators.py:161\u001b[0m, in \u001b[0;36mnetworkx_algorithm.__call__\u001b[0;34m(self, *args, **kwargs)\u001b[0m\n\u001b[1;32m    159\u001b[0m \u001b[38;5;28;01mdef\u001b[39;00m \u001b[38;5;21m__call__\u001b[39m(\u001b[38;5;28mself\u001b[39m, \u001b[38;5;241m/\u001b[39m, \u001b[38;5;241m*\u001b[39margs, \u001b[38;5;241m*\u001b[39m\u001b[38;5;241m*\u001b[39mkwargs):\n\u001b[1;32m    160\u001b[0m     \u001b[38;5;28;01mif\u001b[39;00m \u001b[38;5;129;01mnot\u001b[39;00m \u001b[38;5;28mself\u001b[39m\u001b[38;5;241m.\u001b[39mfallback:\n\u001b[0;32m--> 161\u001b[0m         \u001b[38;5;28;01mreturn\u001b[39;00m \u001b[38;5;28;43mself\u001b[39;49m\u001b[38;5;241;43m.\u001b[39;49m\u001b[43m__wrapped__\u001b[49m\u001b[43m(\u001b[49m\u001b[38;5;241;43m*\u001b[39;49m\u001b[43margs\u001b[49m\u001b[43m,\u001b[49m\u001b[43m \u001b[49m\u001b[38;5;241;43m*\u001b[39;49m\u001b[38;5;241;43m*\u001b[39;49m\u001b[43mkwargs\u001b[49m\u001b[43m)\u001b[49m\n\u001b[1;32m    162\u001b[0m     \u001b[38;5;28;01mtry\u001b[39;00m:\n\u001b[1;32m    163\u001b[0m         \u001b[38;5;28;01mreturn\u001b[39;00m \u001b[38;5;28mself\u001b[39m\u001b[38;5;241m.\u001b[39m__wrapped__(\u001b[38;5;241m*\u001b[39margs, \u001b[38;5;241m*\u001b[39m\u001b[38;5;241m*\u001b[39mkwargs)\n",
      "\u001b[0;31mTypeError\u001b[0m: all_pairs_shortest_path_length() got an unexpected keyword argument 'source'"
     ]
    }
   ],
   "source": [
    "%%time\n",
    "sample_size = 1000  # Número de nodos de muestreo para aproximar APL\n",
    "all_nodes = list(G.nodes())\n",
    "sample_nodes = random.sample(all_nodes, sample_size)\n",
    "\n",
    "# -------------------------------------------\n",
    "# 3️⃣ Calcular distancias usando SSSP y acumular\n",
    "# -------------------------------------------\n",
    "total_distances = 0\n",
    "reachable_pairs = 0\n",
    "\n",
    "for i, src_node in enumerate(sample_nodes):\n",
    "    # Ejecutar SSSP desde el nodo fuente\n",
    "    sssp_df = nxcg.all_pairs_shortest_path_length(nxcg_G, source=src_node)\n",
    "    a = list(sssp_df.values())\n",
    "    if 0 in a:\n",
    "      a.remove(0)\n",
    "    if cp.inf in a:\n",
    "      a.remove(cp.inf)\n",
    "\n",
    "    # Acumular suma de distancias y contar cuántos pares fueron alcanzables\n",
    "    total_distances += sum(a)\n",
    "    reachable_pairs += len(a)\n",
    "\n",
    "    #if (i + 1) % 10 == 0:\n",
    "    #    print(f\"Muestreo {i+1}/{sample_size} completado.\")\n",
    "\n",
    "# -------------------------------------------\n",
    "# 4️⃣ Calcular APL aproximado\n",
    "# -------------------------------------------\n",
    "apl_approx = float(total_distances) / reachable_pairs\n",
    "\n",
    "print(f\"\\n🔹 APL aproximado con {sample_size} nodos de muestreo: {apl_approx:.4f}\")\n",
    "print(f\"🔹 Pares alcanzables contabilizados: {reachable_pairs}\")\n"
   ]
  },
  {
   "cell_type": "code",
   "execution_count": 177,
   "id": "30ab1f93",
   "metadata": {},
   "outputs": [
    {
     "name": "stdout",
     "output_type": "stream",
     "text": [
      "|N| 511463    |M| 1470404\n",
      "\n",
      "🔹 APL aproximado con 100 nodos de muestreo: 7.0303\n",
      "🔹 Pares alcanzables contabilizados: 48395737\n",
      "CPU times: user 1min 4s, sys: 430 ms, total: 1min 5s\n",
      "Wall time: 1min 5s\n"
     ]
    }
   ],
   "source": [
    "%%time\n",
    "G = nx.read_graphml(FILENAME)\n",
    "print(\"|N|\",G.number_of_nodes(), \"   |M|\",G.number_of_edges())\n",
    "\n",
    "nxcg_G = nxcg.from_networkx(G) \n",
    "\n",
    "sample_size = 100  # Número de nodos de muestreo para aproximar APL\n",
    "all_nodes = list(G.nodes())\n",
    "sample_nodes = random.sample(all_nodes, sample_size)\n",
    "\n",
    "# -------------------------------------------\n",
    "# 3️⃣ Calcular distancias usando SSSP y acumular\n",
    "# -------------------------------------------\n",
    "total_distances = 0\n",
    "reachable_pairs = 0\n",
    "c = 0\n",
    "for i, src_node in enumerate(sample_nodes):\n",
    "    \n",
    "    # Ejecutar SSSP desde el nodo fuente\n",
    "    sssp_df = nx.shortest_path_length(G, source=src_node)\n",
    "\n",
    "\n",
    "    # Acumular suma de distancias y contar cuántos pares fueron alcanzables\n",
    "    total_distances += sum(sssp_df.values())\n",
    "    reachable_pairs += len(sssp_df.values())\n",
    "\n",
    "# -------------------------------------------\n",
    "# 4️⃣ Calcular APL aproximado\n",
    "# -------------------------------------------\n",
    "apl_approx = float(total_distances) / reachable_pairs\n",
    "\n",
    "print(f\"\\n🔹 APL aproximado con {sample_size} nodos de muestreo: {apl_approx:.4f}\")\n",
    "print(f\"🔹 Pares alcanzables contabilizados: {reachable_pairs}\")\n"
   ]
  },
  {
   "cell_type": "code",
   "execution_count": 183,
   "id": "2f798392",
   "metadata": {},
   "outputs": [
    {
     "data": {
      "text/plain": [
       "<nx_cugraph.classes.graph.CudaGraph at 0x7fda14ba2c50>"
      ]
     },
     "execution_count": 183,
     "metadata": {},
     "output_type": "execute_result"
    }
   ],
   "source": [
    "\n",
    "a = nxcg.from_networkx(g.to_networkx())\n",
    "a"
   ]
  },
  {
   "cell_type": "code",
   "execution_count": 180,
   "id": "49928bf6",
   "metadata": {},
   "outputs": [
    {
     "name": "stdout",
     "output_type": "stream",
     "text": [
      "|N| 511463    |M| 1470404\n",
      "\n",
      "🔹 APL aproximado con 1000 nodos de muestreo: 7.1506\n",
      "🔹 Pares alcanzables contabilizados: 487449886\n",
      "CPU times: user 1min 52s, sys: 6.13 s, total: 1min 58s\n",
      "Wall time: 1min 58s\n"
     ]
    }
   ],
   "source": [
    "%%time\n",
    "G = nx.read_graphml(FILENAME)\n",
    "print(\"|N|\",G.number_of_nodes(), \"   |M|\",G.number_of_edges())\n",
    "\n",
    "nxcg_G = nxcg.from_networkx(G) \n",
    "\n",
    "sample_size = 1000  # Número de nodos de muestreo para aproximar APL\n",
    "all_nodes = list(G.nodes())\n",
    "sample_nodes = random.sample(all_nodes, sample_size)\n",
    "\n",
    "# -------------------------------------------\n",
    "# 3️⃣ Calcular distancias usando SSSP y acumular\n",
    "# -------------------------------------------\n",
    "total_distances = 0\n",
    "reachable_pairs = 0\n",
    "c = 0\n",
    "for i, src_node in enumerate(sample_nodes):\n",
    "    # Ejecutar SSSP desde el nodo fuente\n",
    "\n",
    "    sssp_df = nxcg.shortest_path_length(nxcg_G, source=src_node)\n",
    "\n",
    "    # Acumular suma de distancias y contar cuántos pares fueron alcanzables\n",
    "    total_distances += sum(sssp_df.values())\n",
    "    reachable_pairs += len(sssp_df.values())\n",
    "\n",
    "# -------------------------------------------\n",
    "# 4️⃣ Calcular APL aproximado\n",
    "# -------------------------------------------\n",
    "apl_approx = float(total_distances) / reachable_pairs\n",
    "\n",
    "print(f\"\\n🔹 APL aproximado con {sample_size} nodos de muestreo: {apl_approx:.4f}\")\n",
    "print(f\"🔹 Pares alcanzables contabilizados: {reachable_pairs}\")\n"
   ]
  },
  {
   "cell_type": "code",
   "execution_count": 168,
   "id": "e6186880",
   "metadata": {},
   "outputs": [],
   "source": [
    "def convertir_funcion_apl(lista):\n",
    "    new_list = []\n",
    "    for i in lista:\n",
    "        size_ = len(i)\n",
    "        if size_ > 0:\n",
    "            new_list.append(len(i)-1)\n",
    "    return new_list"
   ]
  },
  {
   "cell_type": "code",
   "execution_count": 179,
   "id": "e329f675",
   "metadata": {},
   "outputs": [
    {
     "name": "stdout",
     "output_type": "stream",
     "text": [
      "|N| <built-in method vcount of Graph object at 0x7fda46f5e7a0>    |M| <built-in method ecount of Graph object at 0x7fda46f5e7a0>\n"
     ]
    },
    {
     "name": "stderr",
     "output_type": "stream",
     "text": [
      "<timed exec>:20: RuntimeWarning: Couldn't reach some vertices at src/paths/unweighted.c:368\n"
     ]
    },
    {
     "name": "stdout",
     "output_type": "stream",
     "text": [
      "\n",
      "🔹 APL aproximado con 100 nodos de muestreo: 7.1874\n",
      "🔹 Pares alcanzables contabilizados: 45901150\n",
      "CPU times: user 41.1 s, sys: 96.8 ms, total: 41.2 s\n",
      "Wall time: 41.1 s\n"
     ]
    }
   ],
   "source": [
    "%%time\n",
    "import igraph as ig\n",
    "g = ig.read(filename=FILENAME)\n",
    "\n",
    "print(\"|N|\",g.vcount, \"   |M|\",g.ecount)\n",
    "\n",
    "\n",
    "sample_size = 100  # Número de nodos de muestreo para aproximar APL\n",
    "all_nodes = list(g.vs())\n",
    "sample_nodes = random.sample(all_nodes, sample_size)\n",
    "\n",
    "# -------------------------------------------\n",
    "# 3️⃣ Calcular distancias usando SSSP y acumular\n",
    "# -------------------------------------------\n",
    "total_distances = 0\n",
    "reachable_pairs = 0\n",
    "c = 0\n",
    "for i, src_node in enumerate(sample_nodes):\n",
    "    # Ejecutar SSSP desde el nodo fuente\n",
    "\n",
    "    sssp_df =convertir_funcion_apl(g.get_shortest_paths(v=src_node))\n",
    "\n",
    "\n",
    "    # Acumular suma de distancias y contar cuántos pares fueron alcanzables\n",
    "    total_distances += sum(sssp_df)\n",
    "    reachable_pairs += len(sssp_df)\n",
    "\n",
    "# -------------------------------------------\n",
    "# 4️⃣ Calcular APL aproximado\n",
    "# -------------------------------------------\n",
    "apl_approx = float(total_distances) / reachable_pairs\n",
    "\n",
    "print(f\"\\n🔹 APL aproximado con {sample_size} nodos de muestreo: {apl_approx:.4f}\")\n",
    "print(f\"🔹 Pares alcanzables contabilizados: {reachable_pairs}\")\n"
   ]
  },
  {
   "cell_type": "code",
   "execution_count": null,
   "id": "63d49f6c",
   "metadata": {},
   "outputs": [],
   "source": []
  }
 ],
 "metadata": {
  "kernelspec": {
   "display_name": "tesis",
   "language": "python",
   "name": "python3"
  },
  "language_info": {
   "codemirror_mode": {
    "name": "ipython",
    "version": 3
   },
   "file_extension": ".py",
   "mimetype": "text/x-python",
   "name": "python",
   "nbconvert_exporter": "python",
   "pygments_lexer": "ipython3",
   "version": "3.10.16"
  }
 },
 "nbformat": 4,
 "nbformat_minor": 5
}
