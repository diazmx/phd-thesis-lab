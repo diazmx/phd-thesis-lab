{
 "cells": [
  {
   "cell_type": "code",
   "execution_count": 1,
   "id": "99261496",
   "metadata": {},
   "outputs": [],
   "source": [
    "import numpy as np\n",
    "import pandas as pd\n",
    "import networkx as nx\n",
    "import nx_cugraph as nxcg\n",
    "from time import time\n",
    "import os\n",
    "import cupy as cp\n",
    "import random"
   ]
  },
  {
   "cell_type": "code",
   "execution_count": 2,
   "id": "1bd27dfd",
   "metadata": {},
   "outputs": [],
   "source": [
    "FILENAME = \"/home/daniel/Documents/phd/phd-thesis-lab/12-third_year/00-Data/05-actor-movie/actor-movie.graphml\"\n"
   ]
  },
  {
   "cell_type": "code",
   "execution_count": 4,
   "id": "499dd0d6",
   "metadata": {},
   "outputs": [
    {
     "name": "stdout",
     "output_type": "stream",
     "text": [
      "using networkx version 3.2\n",
      "|N| 511463    |M| 1470404\n",
      "GPU - time: 1.2944035530 seconds.\n"
     ]
    },
    {
     "ename": "KeyboardInterrupt",
     "evalue": "",
     "output_type": "error",
     "traceback": [
      "\u001b[0;31m---------------------------------------------------------------------------\u001b[0m",
      "\u001b[0;31mKeyboardInterrupt\u001b[0m                         Traceback (most recent call last)",
      "Cell \u001b[0;32mIn[4], line 15\u001b[0m\n\u001b[1;32m     12\u001b[0m \u001b[38;5;28mprint\u001b[39m(\u001b[38;5;124m\"\u001b[39m\u001b[38;5;124mGPU - time: \u001b[39m\u001b[38;5;132;01m%.10f\u001b[39;00m\u001b[38;5;124m seconds.\u001b[39m\u001b[38;5;124m\"\u001b[39m \u001b[38;5;241m%\u001b[39m b)\n\u001b[1;32m     14\u001b[0m a \u001b[38;5;241m=\u001b[39m time()\n\u001b[0;32m---> 15\u001b[0m bc_results \u001b[38;5;241m=\u001b[39m \u001b[43mnx\u001b[49m\u001b[38;5;241;43m.\u001b[39;49m\u001b[43mbetweenness_centrality\u001b[49m\u001b[43m(\u001b[49m\u001b[43mG\u001b[49m\u001b[43m,\u001b[49m\u001b[43m \u001b[49m\u001b[43mk\u001b[49m\u001b[38;5;241;43m=\u001b[39;49m\u001b[38;5;241;43m100\u001b[39;49m\u001b[43m)\u001b[49m\n\u001b[1;32m     16\u001b[0m \u001b[38;5;66;03m#nx.betweenness_centrality(nxcg_G, k=1000)\u001b[39;00m\n\u001b[1;32m     17\u001b[0m b \u001b[38;5;241m=\u001b[39m time() \u001b[38;5;241m-\u001b[39m a\n",
      "File \u001b[0;32m<class 'networkx.utils.decorators.argmap'> compilation 13:4\u001b[0m, in \u001b[0;36margmap_betweenness_centrality_10\u001b[0;34m(G, k, normalized, weight, endpoints, seed, backend, **backend_kwargs)\u001b[0m\n\u001b[1;32m      2\u001b[0m \u001b[38;5;28;01mimport\u001b[39;00m \u001b[38;5;21;01mcollections\u001b[39;00m\n\u001b[1;32m      3\u001b[0m \u001b[38;5;28;01mimport\u001b[39;00m \u001b[38;5;21;01mgzip\u001b[39;00m\n\u001b[0;32m----> 4\u001b[0m \u001b[38;5;28;01mimport\u001b[39;00m \u001b[38;5;21;01minspect\u001b[39;00m\n\u001b[1;32m      5\u001b[0m \u001b[38;5;28;01mimport\u001b[39;00m \u001b[38;5;21;01mitertools\u001b[39;00m\n\u001b[1;32m      6\u001b[0m \u001b[38;5;28;01mimport\u001b[39;00m \u001b[38;5;21;01mre\u001b[39;00m\n",
      "File \u001b[0;32m~/miniconda3/envs/tesis/lib/python3.10/site-packages/networkx/utils/backends.py:576\u001b[0m, in \u001b[0;36m_dispatch.__call__\u001b[0;34m(self, backend, *args, **kwargs)\u001b[0m\n\u001b[1;32m    569\u001b[0m             \u001b[38;5;28;01mreturn\u001b[39;00m \u001b[38;5;28mself\u001b[39m\u001b[38;5;241m.\u001b[39m_convert_and_call(\n\u001b[1;32m    570\u001b[0m                 backend_name,\n\u001b[1;32m    571\u001b[0m                 args,\n\u001b[1;32m    572\u001b[0m                 kwargs,\n\u001b[1;32m    573\u001b[0m                 fallback_to_nx\u001b[38;5;241m=\u001b[39m\u001b[38;5;28mself\u001b[39m\u001b[38;5;241m.\u001b[39m_fallback_to_nx,\n\u001b[1;32m    574\u001b[0m             )\n\u001b[1;32m    575\u001b[0m \u001b[38;5;66;03m# Default: run with networkx on networkx inputs\u001b[39;00m\n\u001b[0;32m--> 576\u001b[0m \u001b[38;5;28;01mreturn\u001b[39;00m \u001b[38;5;28;43mself\u001b[39;49m\u001b[38;5;241;43m.\u001b[39;49m\u001b[43morig_func\u001b[49m\u001b[43m(\u001b[49m\u001b[38;5;241;43m*\u001b[39;49m\u001b[43margs\u001b[49m\u001b[43m,\u001b[49m\u001b[43m \u001b[49m\u001b[38;5;241;43m*\u001b[39;49m\u001b[38;5;241;43m*\u001b[39;49m\u001b[43mkwargs\u001b[49m\u001b[43m)\u001b[49m\n",
      "File \u001b[0;32m~/miniconda3/envs/tesis/lib/python3.10/site-packages/networkx/algorithms/centrality/betweenness.py:136\u001b[0m, in \u001b[0;36mbetweenness_centrality\u001b[0;34m(G, k, normalized, weight, endpoints, seed)\u001b[0m\n\u001b[1;32m    133\u001b[0m \u001b[38;5;28;01mfor\u001b[39;00m s \u001b[38;5;129;01min\u001b[39;00m nodes:\n\u001b[1;32m    134\u001b[0m     \u001b[38;5;66;03m# single source shortest paths\u001b[39;00m\n\u001b[1;32m    135\u001b[0m     \u001b[38;5;28;01mif\u001b[39;00m weight \u001b[38;5;129;01mis\u001b[39;00m \u001b[38;5;28;01mNone\u001b[39;00m:  \u001b[38;5;66;03m# use BFS\u001b[39;00m\n\u001b[0;32m--> 136\u001b[0m         S, P, sigma, _ \u001b[38;5;241m=\u001b[39m \u001b[43m_single_source_shortest_path_basic\u001b[49m\u001b[43m(\u001b[49m\u001b[43mG\u001b[49m\u001b[43m,\u001b[49m\u001b[43m \u001b[49m\u001b[43ms\u001b[49m\u001b[43m)\u001b[49m\n\u001b[1;32m    137\u001b[0m     \u001b[38;5;28;01melse\u001b[39;00m:  \u001b[38;5;66;03m# use Dijkstra's algorithm\u001b[39;00m\n\u001b[1;32m    138\u001b[0m         S, P, sigma, _ \u001b[38;5;241m=\u001b[39m _single_source_dijkstra_path_basic(G, s, weight)\n",
      "File \u001b[0;32m~/miniconda3/envs/tesis/lib/python3.10/site-packages/networkx/algorithms/centrality/betweenness.py:270\u001b[0m, in \u001b[0;36m_single_source_shortest_path_basic\u001b[0;34m(G, s)\u001b[0m\n\u001b[1;32m    268\u001b[0m Dv \u001b[38;5;241m=\u001b[39m D[v]\n\u001b[1;32m    269\u001b[0m sigmav \u001b[38;5;241m=\u001b[39m sigma[v]\n\u001b[0;32m--> 270\u001b[0m \u001b[38;5;28;01mfor\u001b[39;00m w \u001b[38;5;129;01min\u001b[39;00m \u001b[43mG\u001b[49m\u001b[43m[\u001b[49m\u001b[43mv\u001b[49m\u001b[43m]\u001b[49m:\n\u001b[1;32m    271\u001b[0m     \u001b[38;5;28;01mif\u001b[39;00m w \u001b[38;5;129;01mnot\u001b[39;00m \u001b[38;5;129;01min\u001b[39;00m D:\n\u001b[1;32m    272\u001b[0m         Q\u001b[38;5;241m.\u001b[39mappend(w)\n",
      "File \u001b[0;32m~/miniconda3/envs/tesis/lib/python3.10/site-packages/networkx/classes/graph.py:513\u001b[0m, in \u001b[0;36mGraph.__getitem__\u001b[0;34m(self, n)\u001b[0m\n\u001b[1;32m    489\u001b[0m \u001b[38;5;28;01mdef\u001b[39;00m \u001b[38;5;21m__getitem__\u001b[39m(\u001b[38;5;28mself\u001b[39m, n):\n\u001b[1;32m    490\u001b[0m \u001b[38;5;250m    \u001b[39m\u001b[38;5;124;03m\"\"\"Returns a dict of neighbors of node n.  Use: 'G[n]'.\u001b[39;00m\n\u001b[1;32m    491\u001b[0m \n\u001b[1;32m    492\u001b[0m \u001b[38;5;124;03m    Parameters\u001b[39;00m\n\u001b[0;32m   (...)\u001b[0m\n\u001b[1;32m    511\u001b[0m \u001b[38;5;124;03m    AtlasView({1: {}})\u001b[39;00m\n\u001b[1;32m    512\u001b[0m \u001b[38;5;124;03m    \"\"\"\u001b[39;00m\n\u001b[0;32m--> 513\u001b[0m     \u001b[38;5;28;01mreturn\u001b[39;00m \u001b[38;5;28;43mself\u001b[39;49m\u001b[38;5;241;43m.\u001b[39;49m\u001b[43madj\u001b[49m\u001b[43m[\u001b[49m\u001b[43mn\u001b[49m\u001b[43m]\u001b[49m\n",
      "File \u001b[0;32m~/miniconda3/envs/tesis/lib/python3.10/site-packages/networkx/classes/coreviews.py:81\u001b[0m, in \u001b[0;36mAdjacencyView.__getitem__\u001b[0;34m(self, name)\u001b[0m\n\u001b[1;32m     80\u001b[0m \u001b[38;5;28;01mdef\u001b[39;00m \u001b[38;5;21m__getitem__\u001b[39m(\u001b[38;5;28mself\u001b[39m, name):\n\u001b[0;32m---> 81\u001b[0m     \u001b[38;5;28;01mreturn\u001b[39;00m \u001b[43mAtlasView\u001b[49m\u001b[43m(\u001b[49m\u001b[38;5;28;43mself\u001b[39;49m\u001b[38;5;241;43m.\u001b[39;49m\u001b[43m_atlas\u001b[49m\u001b[43m[\u001b[49m\u001b[43mname\u001b[49m\u001b[43m]\u001b[49m\u001b[43m)\u001b[49m\n",
      "File \u001b[0;32m~/miniconda3/envs/tesis/lib/python3.10/site-packages/networkx/classes/coreviews.py:43\u001b[0m, in \u001b[0;36mAtlasView.__init__\u001b[0;34m(self, d)\u001b[0m\n\u001b[1;32m     40\u001b[0m \u001b[38;5;28;01mdef\u001b[39;00m \u001b[38;5;21m__setstate__\u001b[39m(\u001b[38;5;28mself\u001b[39m, state):\n\u001b[1;32m     41\u001b[0m     \u001b[38;5;28mself\u001b[39m\u001b[38;5;241m.\u001b[39m_atlas \u001b[38;5;241m=\u001b[39m state[\u001b[38;5;124m\"\u001b[39m\u001b[38;5;124m_atlas\u001b[39m\u001b[38;5;124m\"\u001b[39m]\n\u001b[0;32m---> 43\u001b[0m \u001b[38;5;28;01mdef\u001b[39;00m \u001b[38;5;21m__init__\u001b[39m(\u001b[38;5;28mself\u001b[39m, d):\n\u001b[1;32m     44\u001b[0m     \u001b[38;5;28mself\u001b[39m\u001b[38;5;241m.\u001b[39m_atlas \u001b[38;5;241m=\u001b[39m d\n\u001b[1;32m     46\u001b[0m \u001b[38;5;28;01mdef\u001b[39;00m \u001b[38;5;21m__len__\u001b[39m(\u001b[38;5;28mself\u001b[39m):\n",
      "\u001b[0;31mKeyboardInterrupt\u001b[0m: "
     ]
    }
   ],
   "source": [
    "\n",
    "\n",
    "print(f\"using networkx version {nx.__version__}\")\n",
    "\n",
    "G = nx.read_graphml(FILENAME)\n",
    "print(\"|N|\",G.number_of_nodes(), \"   |M|\",G.number_of_edges())\n",
    "\n",
    "nxcg_G = nxcg.from_networkx(G) \n",
    "\n",
    "a = time()\n",
    "#bc_results = nx.betweenness_centrality(G, k=100)\n",
    "nx.betweenness_centrality(nxcg_G, k=100)\n",
    "b = time() - a\n",
    "print(\"GPU - time: %.10f seconds.\" % b)\n",
    "\n",
    "a = time()\n",
    "bc_results = nx.betweenness_centrality(G, k=100)\n",
    "#nx.betweenness_centrality(nxcg_G, k=1000)\n",
    "b = time() - a\n",
    "print(\"CPU - time: %.10f seconds.\" % b)"
   ]
  },
  {
   "cell_type": "code",
   "execution_count": 5,
   "id": "67b8bd0a",
   "metadata": {},
   "outputs": [
    {
     "ename": "TypeError",
     "evalue": "all_pairs_shortest_path_length() got an unexpected keyword argument 'source'",
     "output_type": "error",
     "traceback": [
      "\u001b[0;31m---------------------------------------------------------------------------\u001b[0m",
      "\u001b[0;31mTypeError\u001b[0m                                 Traceback (most recent call last)",
      "File \u001b[0;32m<timed exec>:13\u001b[0m\n",
      "File \u001b[0;32m~/miniconda3/envs/tesis/lib/python3.10/site-packages/nx_cugraph/utils/decorators.py:161\u001b[0m, in \u001b[0;36mnetworkx_algorithm.__call__\u001b[0;34m(self, *args, **kwargs)\u001b[0m\n\u001b[1;32m    159\u001b[0m \u001b[38;5;28;01mdef\u001b[39;00m \u001b[38;5;21m__call__\u001b[39m(\u001b[38;5;28mself\u001b[39m, \u001b[38;5;241m/\u001b[39m, \u001b[38;5;241m*\u001b[39margs, \u001b[38;5;241m*\u001b[39m\u001b[38;5;241m*\u001b[39mkwargs):\n\u001b[1;32m    160\u001b[0m     \u001b[38;5;28;01mif\u001b[39;00m \u001b[38;5;129;01mnot\u001b[39;00m \u001b[38;5;28mself\u001b[39m\u001b[38;5;241m.\u001b[39mfallback:\n\u001b[0;32m--> 161\u001b[0m         \u001b[38;5;28;01mreturn\u001b[39;00m \u001b[38;5;28;43mself\u001b[39;49m\u001b[38;5;241;43m.\u001b[39;49m\u001b[43m__wrapped__\u001b[49m\u001b[43m(\u001b[49m\u001b[38;5;241;43m*\u001b[39;49m\u001b[43margs\u001b[49m\u001b[43m,\u001b[49m\u001b[43m \u001b[49m\u001b[38;5;241;43m*\u001b[39;49m\u001b[38;5;241;43m*\u001b[39;49m\u001b[43mkwargs\u001b[49m\u001b[43m)\u001b[49m\n\u001b[1;32m    162\u001b[0m     \u001b[38;5;28;01mtry\u001b[39;00m:\n\u001b[1;32m    163\u001b[0m         \u001b[38;5;28;01mreturn\u001b[39;00m \u001b[38;5;28mself\u001b[39m\u001b[38;5;241m.\u001b[39m__wrapped__(\u001b[38;5;241m*\u001b[39margs, \u001b[38;5;241m*\u001b[39m\u001b[38;5;241m*\u001b[39mkwargs)\n",
      "\u001b[0;31mTypeError\u001b[0m: all_pairs_shortest_path_length() got an unexpected keyword argument 'source'"
     ]
    }
   ],
   "source": [
    "%%time\n",
    "sample_size = 100  # Número de nodos de muestreo para aproximar APL\n",
    "all_nodes = list(G.nodes())\n",
    "sample_nodes = random.sample(all_nodes, sample_size)\n",
    "\n",
    "# -------------------------------------------\n",
    "# 3️⃣ Calcular distancias usando SSSP y acumular\n",
    "# -------------------------------------------\n",
    "total_distances = 0\n",
    "reachable_pairs = 0\n",
    "\n",
    "for i, src_node in enumerate(sample_nodes):\n",
    "    # Ejecutar SSSP desde el nodo fuente\n",
    "    sssp_df = nxcg.all_pairs_shortest_path_length(nxcg_G, source=src_node)\n",
    "    a = list(sssp_df.values())\n",
    "    if 0 in a:\n",
    "      a.remove(0)\n",
    "    if cp.inf in a:\n",
    "      a.remove(cp.inf)\n",
    "\n",
    "    # Acumular suma de distancias y contar cuántos pares fueron alcanzables\n",
    "    total_distances += sum(a)\n",
    "    reachable_pairs += len(a)\n",
    "\n",
    "    #if (i + 1) % 10 == 0:\n",
    "    #    print(f\"Muestreo {i+1}/{sample_size} completado.\")\n",
    "\n",
    "# -------------------------------------------\n",
    "# 4️⃣ Calcular APL aproximado\n",
    "# -------------------------------------------\n",
    "apl_approx = float(total_distances) / reachable_pairs\n",
    "\n",
    "print(f\"\\n🔹 APL aproximado con {sample_size} nodos de muestreo: {apl_approx:.4f}\")\n",
    "print(f\"🔹 Pares alcanzables contabilizados: {reachable_pairs}\")\n"
   ]
  },
  {
   "cell_type": "code",
   "execution_count": 177,
   "id": "30ab1f93",
   "metadata": {},
   "outputs": [
    {
     "name": "stdout",
     "output_type": "stream",
     "text": [
      "|N| 511463    |M| 1470404\n",
      "\n",
      "🔹 APL aproximado con 100 nodos de muestreo: 7.0303\n",
      "🔹 Pares alcanzables contabilizados: 48395737\n",
      "CPU times: user 1min 4s, sys: 430 ms, total: 1min 5s\n",
      "Wall time: 1min 5s\n"
     ]
    }
   ],
   "source": [
    "%%time\n",
    "G = nx.read_graphml(FILENAME)\n",
    "print(\"|N|\",G.number_of_nodes(), \"   |M|\",G.number_of_edges())\n",
    "\n",
    "nxcg_G = nxcg.from_networkx(G) \n",
    "\n",
    "sample_size = 100  # Número de nodos de muestreo para aproximar APL\n",
    "all_nodes = list(G.nodes())\n",
    "sample_nodes = random.sample(all_nodes, sample_size)\n",
    "\n",
    "# -------------------------------------------\n",
    "# 3️⃣ Calcular distancias usando SSSP y acumular\n",
    "# -------------------------------------------\n",
    "total_distances = 0\n",
    "reachable_pairs = 0\n",
    "c = 0\n",
    "for i, src_node in enumerate(sample_nodes):\n",
    "    \n",
    "    # Ejecutar SSSP desde el nodo fuente\n",
    "    sssp_df = nx.shortest_path_length(G, source=src_node)\n",
    "\n",
    "\n",
    "    # Acumular suma de distancias y contar cuántos pares fueron alcanzables\n",
    "    total_distances += sum(sssp_df.values())\n",
    "    reachable_pairs += len(sssp_df.values())\n",
    "\n",
    "# -------------------------------------------\n",
    "# 4️⃣ Calcular APL aproximado\n",
    "# -------------------------------------------\n",
    "apl_approx = float(total_distances) / reachable_pairs\n",
    "\n",
    "print(f\"\\n🔹 APL aproximado con {sample_size} nodos de muestreo: {apl_approx:.4f}\")\n",
    "print(f\"🔹 Pares alcanzables contabilizados: {reachable_pairs}\")\n"
   ]
  },
  {
   "cell_type": "code",
   "execution_count": 3,
   "id": "49928bf6",
   "metadata": {},
   "outputs": [
    {
     "name": "stdout",
     "output_type": "stream",
     "text": [
      "|N| 511463    |M| 1470404\n",
      "\n",
      "🔹 APL aproximado con 100 nodos de muestreo: 7.1675\n",
      "🔹 Pares alcanzables contabilizados: 46400073\n",
      "CPU times: user 21.9 s, sys: 1.68 s, total: 23.6 s\n",
      "Wall time: 23.6 s\n"
     ]
    }
   ],
   "source": [
    "%%time\n",
    "G = nx.read_graphml(FILENAME)\n",
    "print(\"|N|\",G.number_of_nodes(), \"   |M|\",G.number_of_edges())\n",
    "\n",
    "nxcg_G = nxcg.from_networkx(G) \n",
    "\n",
    "sample_size = 100  # Número de nodos de muestreo para aproximar APL\n",
    "all_nodes = list(G.nodes())\n",
    "sample_nodes = random.sample(all_nodes, sample_size)\n",
    "\n",
    "# -------------------------------------------\n",
    "# 3️⃣ Calcular distancias usando SSSP y acumular\n",
    "# -------------------------------------------\n",
    "total_distances = 0\n",
    "reachable_pairs = 0\n",
    "c = 0\n",
    "for i, src_node in enumerate(sample_nodes):\n",
    "    # Ejecutar SSSP desde el nodo fuente\n",
    "\n",
    "    sssp_df = nxcg.shortest_path_length(nxcg_G, source=src_node)\n",
    "\n",
    "    # Acumular suma de distancias y contar cuántos pares fueron alcanzables\n",
    "    total_distances += sum(sssp_df.values())\n",
    "    reachable_pairs += len(sssp_df.values())\n",
    "\n",
    "# -------------------------------------------\n",
    "# 4️⃣ Calcular APL aproximado\n",
    "# -------------------------------------------\n",
    "apl_approx = float(total_distances) / reachable_pairs\n",
    "\n",
    "print(f\"\\n🔹 APL aproximado con {sample_size} nodos de muestreo: {apl_approx:.4f}\")\n",
    "print(f\"🔹 Pares alcanzables contabilizados: {reachable_pairs}\")\n"
   ]
  },
  {
   "cell_type": "code",
   "execution_count": 4,
   "id": "e6186880",
   "metadata": {},
   "outputs": [],
   "source": [
    "def convertir_funcion_apl(lista):\n",
    "    new_list = []\n",
    "    for i in lista:\n",
    "        size_ = len(i)\n",
    "        if size_ > 0:\n",
    "            new_list.append(len(i)-1)\n",
    "    return new_list"
   ]
  },
  {
   "cell_type": "code",
   "execution_count": 6,
   "id": "75562f80",
   "metadata": {},
   "outputs": [
    {
     "data": {
      "text/plain": [
       "0.0"
      ]
     },
     "execution_count": 6,
     "metadata": {},
     "output_type": "execute_result"
    }
   ],
   "source": [
    "nxcg.average_clustering(nxcg_G)"
   ]
  },
  {
   "cell_type": "code",
   "execution_count": 5,
   "id": "e329f675",
   "metadata": {},
   "outputs": [
    {
     "name": "stdout",
     "output_type": "stream",
     "text": [
      "|N| <built-in method vcount of Graph object at 0x703ab9967e20>    |M| <built-in method ecount of Graph object at 0x703ab9967e20>\n"
     ]
    },
    {
     "name": "stderr",
     "output_type": "stream",
     "text": [
      "<timed exec>:20: RuntimeWarning: Couldn't reach some vertices at src/paths/unweighted.c:368\n"
     ]
    },
    {
     "name": "stdout",
     "output_type": "stream",
     "text": [
      "\n",
      "🔹 APL aproximado con 100 nodos de muestreo: 7.3979\n",
      "🔹 Pares alcanzables contabilizados: 48894654\n",
      "CPU times: user 58.6 s, sys: 107 ms, total: 58.7 s\n",
      "Wall time: 58.7 s\n"
     ]
    }
   ],
   "source": [
    "%%time\n",
    "import igraph as ig\n",
    "g = ig.read(filename=FILENAME)\n",
    "\n",
    "print(\"|N|\",g.vcount, \"   |M|\",g.ecount)\n",
    "\n",
    "\n",
    "sample_size = 100  # Número de nodos de muestreo para aproximar APL\n",
    "all_nodes = list(g.vs())\n",
    "sample_nodes = random.sample(all_nodes, sample_size)\n",
    "\n",
    "# -------------------------------------------\n",
    "# 3️⃣ Calcular distancias usando SSSP y acumular\n",
    "# -------------------------------------------\n",
    "total_distances = 0\n",
    "reachable_pairs = 0\n",
    "c = 0\n",
    "for i, src_node in enumerate(sample_nodes):\n",
    "    # Ejecutar SSSP desde el nodo fuente\n",
    "\n",
    "    sssp_df =convertir_funcion_apl(g.get_shortest_paths(v=src_node))\n",
    "\n",
    "\n",
    "    # Acumular suma de distancias y contar cuántos pares fueron alcanzables\n",
    "    total_distances += sum(sssp_df)\n",
    "    reachable_pairs += len(sssp_df)\n",
    "\n",
    "# -------------------------------------------\n",
    "# 4️⃣ Calcular APL aproximado\n",
    "# -------------------------------------------\n",
    "apl_approx = float(total_distances) / reachable_pairs\n",
    "\n",
    "print(f\"\\n🔹 APL aproximado con {sample_size} nodos de muestreo: {apl_approx:.4f}\")\n",
    "print(f\"🔹 Pares alcanzables contabilizados: {reachable_pairs}\")\n"
   ]
  },
  {
   "cell_type": "code",
   "execution_count": null,
   "id": "63d49f6c",
   "metadata": {},
   "outputs": [],
   "source": []
  }
 ],
 "metadata": {
  "kernelspec": {
   "display_name": "tesis",
   "language": "python",
   "name": "python3"
  },
  "language_info": {
   "codemirror_mode": {
    "name": "ipython",
    "version": 3
   },
   "file_extension": ".py",
   "mimetype": "text/x-python",
   "name": "python",
   "nbconvert_exporter": "python",
   "pygments_lexer": "ipython3",
   "version": "3.10.16"
  }
 },
 "nbformat": 4,
 "nbformat_minor": 5
}
