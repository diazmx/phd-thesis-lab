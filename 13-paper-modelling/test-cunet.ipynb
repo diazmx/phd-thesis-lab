{
 "cells": [
  {
   "cell_type": "code",
   "execution_count": 1,
   "id": "499dd0d6",
   "metadata": {},
   "outputs": [
    {
     "name": "stderr",
     "output_type": "stream",
     "text": [
      "/home/daniel/miniconda3/envs/tesis/lib/python3.10/site-packages/scipy/__init__.py:146: UserWarning: A NumPy version >=1.17.3 and <1.25.0 is required for this version of SciPy (detected version 1.26.4\n",
      "  warnings.warn(f\"A NumPy version >={np_minversion} and <{np_maxversion}\"\n"
     ]
    },
    {
     "name": "stdout",
     "output_type": "stream",
     "text": [
      "using networkx version 3.2\n",
      "|N| 17079    |M| 32769\n",
      "GPU - time: 3.4237275124 seconds.\n",
      "CPU - time: 30.1187062263 seconds.\n"
     ]
    }
   ],
   "source": [
    "import numpy as np\n",
    "import pandas as pd\n",
    "import networkx as nx\n",
    "import nx_cugraph as nxcg\n",
    "from time import time\n",
    "import os\n",
    "\n",
    "print(f\"using networkx version {nx.__version__}\")\n",
    "\n",
    "G = nx.read_graphml(\"binet-AMZ-Rw.graphml\")\n",
    "print(\"|N|\",G.number_of_nodes(), \"   |M|\",G.number_of_edges())\n",
    "\n",
    "nxcg_G = nxcg.from_networkx(G) \n",
    "\n",
    "a = time()\n",
    "#bc_results = nx.betweenness_centrality(G, k=100)\n",
    "nx.betweenness_centrality(nxcg_G, k=1000)\n",
    "b = time() - a\n",
    "print(\"GPU - time: %.10f seconds.\" % b)\n",
    "\n",
    "a = time()\n",
    "bc_results = nx.betweenness_centrality(G, k=1000)\n",
    "#nx.betweenness_centrality(nxcg_G, k=1000)\n",
    "b = time() - a\n",
    "print(\"CPU - time: %.10f seconds.\" % b)"
   ]
  }
 ],
 "metadata": {
  "kernelspec": {
   "display_name": "tesis",
   "language": "python",
   "name": "python3"
  },
  "language_info": {
   "codemirror_mode": {
    "name": "ipython",
    "version": 3
   },
   "file_extension": ".py",
   "mimetype": "text/x-python",
   "name": "python",
   "nbconvert_exporter": "python",
   "pygments_lexer": "ipython3",
   "version": "3.10.16"
  }
 },
 "nbformat": 4,
 "nbformat_minor": 5
}
