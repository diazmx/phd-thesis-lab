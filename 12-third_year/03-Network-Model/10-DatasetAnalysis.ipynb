{
 "cells": [
  {
   "cell_type": "markdown",
   "metadata": {},
   "source": [
    "# Dataset analysis\n",
    "\n",
    "In this notebook, we analyze the datasets properties:\n",
    "* Users\n",
    "* Resources\n",
    "* Attributes\n",
    "* Size\n",
    "* Positive Access requests\n",
    "* Negative Access requests\n",
    "* Number of rules\n",
    "* Avg. size of rules"
   ]
  },
  {
   "cell_type": "code",
   "execution_count": 35,
   "metadata": {},
   "outputs": [],
   "source": [
    "### Import libraries\n",
    "\n",
    "import numpy as np\n",
    "import pandas as pd\n",
    "import matplotlib.pyplot as plt"
   ]
  },
  {
   "cell_type": "code",
   "execution_count": 56,
   "metadata": {},
   "outputs": [],
   "source": [
    "### User and resource attributes for each dataset\n",
    "\n",
    "DS_ID = \"IoT\" # Availables => user_attributes.keys()\n",
    "# OUT_FILE = open(DS_ID+\".output\", \"w\") # File to save the outputs\n",
    "\n",
    "USER_ATTRS = {\"IoT\": [\"role\", \"age\", \"health\", \"uname\"],\n",
    "              \"AMZ\": [\"MGR_ID\",\"ROLE_ROLLUP_1\",\"ROLE_ROLLUP_2\",\"ROLE_DEPTNAME\",\"ROLE_TITLE\",\"ROLE_FAMILY_DESC\",\"ROLE_FAMILY\",\"ROLE_CODE\"],\n",
    "              \"HC\": [\"position\", \"uward\", \"specialties\", \"teams\", \"agentfor\", \"uname\"],\n",
    "              \"UN\": [\"position\",\"departmentu\",\"crsTaken\",\"crsTaught\",\"isChair\", \"uname\"],\n",
    "              \"PM\": [\"adminroles\",\"projects\",\"departmentu\",\"projectsled\",\"expertiseu\",\"isemployee\",\"task\",\"uname\"]}\n",
    "\n",
    "RES_ATTRS = {\"IoT\": [\"area\", \"mode\", \"temperature\", \"lockstatus\", \"rname\"],\n",
    "             \"AMZ\":[\"RID\"],\n",
    "             \"HC\": [\"type\", \"author\", \"patient\", \"topics\", \"tratingTeam\", \"rward\", \"rname\"],\n",
    "             \"UN\": [\"type\",\"student\",\"departmentr\",\"csr\", \"rname\"],\n",
    "             \"PM\": [\"type\",\"project\",\"department\",\"expertise\",\"proprietary\", \"rname\"]}\n",
    "\n",
    "EDG_ATTRS = {\"IoT\": [\"uname\", \"rname\", \"location\", \"timeday\", \"op\", \"ACTION\"],\n",
    "             \"AMZ\": [\"uname\", \"rname\"],\n",
    "             \"HC\": [\"uname\", \"rname\"],\n",
    "             \"UN\":[\"uname\", \"rname\"],\n",
    "             \"PM\":[\"uname\", \"rname\"]}\n"
   ]
  },
  {
   "cell_type": "code",
   "execution_count": 71,
   "metadata": {},
   "outputs": [
    {
     "ename": "AttributeError",
     "evalue": "'DataFrame' object has no attribute 'uname'",
     "output_type": "error",
     "traceback": [
      "\u001b[1;31m---------------------------------------------------------------------------\u001b[0m",
      "\u001b[1;31mAttributeError\u001b[0m                            Traceback (most recent call last)",
      "\u001b[1;32m~\\AppData\\Local\\Temp\\ipykernel_10728\\3032977628.py\u001b[0m in \u001b[0;36m<module>\u001b[1;34m\u001b[0m\n\u001b[0;32m      8\u001b[0m \u001b[1;33m\u001b[0m\u001b[0m\n\u001b[0;32m      9\u001b[0m \u001b[1;31m# Change the uname string values to int values\u001b[0m\u001b[1;33m\u001b[0m\u001b[1;33m\u001b[0m\u001b[1;33m\u001b[0m\u001b[0m\n\u001b[1;32m---> 10\u001b[1;33m \u001b[0macc_log\u001b[0m \u001b[1;33m=\u001b[0m \u001b[0macc_log\u001b[0m\u001b[1;33m.\u001b[0m\u001b[0mreplace\u001b[0m\u001b[1;33m(\u001b[0m\u001b[0macc_log\u001b[0m\u001b[1;33m.\u001b[0m\u001b[0muname\u001b[0m\u001b[1;33m.\u001b[0m\u001b[0munique\u001b[0m\u001b[1;33m(\u001b[0m\u001b[1;33m)\u001b[0m\u001b[1;33m,\u001b[0m \u001b[0mrange\u001b[0m\u001b[1;33m(\u001b[0m\u001b[0mlen\u001b[0m\u001b[1;33m(\u001b[0m\u001b[0macc_log\u001b[0m\u001b[1;33m.\u001b[0m\u001b[0muname\u001b[0m\u001b[1;33m.\u001b[0m\u001b[0munique\u001b[0m\u001b[1;33m(\u001b[0m\u001b[1;33m)\u001b[0m\u001b[1;33m)\u001b[0m\u001b[1;33m)\u001b[0m\u001b[1;33m)\u001b[0m\u001b[1;33m\u001b[0m\u001b[1;33m\u001b[0m\u001b[0m\n\u001b[0m\u001b[0;32m     11\u001b[0m \u001b[1;33m\u001b[0m\u001b[0m\n\u001b[0;32m     12\u001b[0m \u001b[1;31m# Change the resource id\u001b[0m\u001b[1;33m\u001b[0m\u001b[1;33m\u001b[0m\u001b[1;33m\u001b[0m\u001b[0m\n",
      "\u001b[1;32mc:\\Users\\danie\\anaconda3\\envs\\tesis_env\\lib\\site-packages\\pandas\\core\\generic.py\u001b[0m in \u001b[0;36m__getattr__\u001b[1;34m(self, name)\u001b[0m\n\u001b[0;32m   5485\u001b[0m         ):\n\u001b[0;32m   5486\u001b[0m             \u001b[1;32mreturn\u001b[0m \u001b[0mself\u001b[0m\u001b[1;33m[\u001b[0m\u001b[0mname\u001b[0m\u001b[1;33m]\u001b[0m\u001b[1;33m\u001b[0m\u001b[1;33m\u001b[0m\u001b[0m\n\u001b[1;32m-> 5487\u001b[1;33m         \u001b[1;32mreturn\u001b[0m \u001b[0mobject\u001b[0m\u001b[1;33m.\u001b[0m\u001b[0m__getattribute__\u001b[0m\u001b[1;33m(\u001b[0m\u001b[0mself\u001b[0m\u001b[1;33m,\u001b[0m \u001b[0mname\u001b[0m\u001b[1;33m)\u001b[0m\u001b[1;33m\u001b[0m\u001b[1;33m\u001b[0m\u001b[0m\n\u001b[0m\u001b[0;32m   5488\u001b[0m \u001b[1;33m\u001b[0m\u001b[0m\n\u001b[0;32m   5489\u001b[0m     \u001b[1;32mdef\u001b[0m \u001b[0m__setattr__\u001b[0m\u001b[1;33m(\u001b[0m\u001b[0mself\u001b[0m\u001b[1;33m,\u001b[0m \u001b[0mname\u001b[0m\u001b[1;33m:\u001b[0m \u001b[0mstr\u001b[0m\u001b[1;33m,\u001b[0m \u001b[0mvalue\u001b[0m\u001b[1;33m)\u001b[0m \u001b[1;33m->\u001b[0m \u001b[1;32mNone\u001b[0m\u001b[1;33m:\u001b[0m\u001b[1;33m\u001b[0m\u001b[1;33m\u001b[0m\u001b[0m\n",
      "\u001b[1;31mAttributeError\u001b[0m: 'DataFrame' object has no attribute 'uname'"
     ]
    }
   ],
   "source": [
    "str_dataset = \"AMZ\"\n",
    "filename = \"../data/\"+str_dataset+\"/0-\"+str_dataset+\"-universal.csv\"\n",
    "\n",
    "acc_log = pd.read_csv(filename)\n",
    "\n",
    "# Remove first column (is the old index)\n",
    "acc_log = acc_log[acc_log.columns[1:]]\n",
    "\n",
    "# Change the uname string values to int values\n",
    "acc_log = acc_log.replace(acc_log.uname.unique(), range(len(acc_log.uname.unique())))\n",
    "\n",
    "# Change the resource id\n",
    "if not str_dataset in [\"UN\", \"PM\"]:\n",
    "    acc_log[\"rname\"] = acc_log[\"rname\"] + max(acc_log.uname.unique()) + 1\n",
    "\n",
    "print(\"Done!\")\n",
    "print(acc_log.head(5)) # Show the first five rows\n",
    "\n",
    "# Delete some variables\n",
    "del filename"
   ]
  },
  {
   "cell_type": "code",
   "execution_count": 77,
   "metadata": {},
   "outputs": [
    {
     "name": "stdout",
     "output_type": "stream",
     "text": [
      "Done!\n",
      "   uname  rname  rating       time\n",
      "0    196    242       3  881250949\n",
      "1    186    302       3  891717742\n",
      "2     22    377       1  878887116\n",
      "3    244     51       2  880606923\n",
      "4    166    346       1  886397596\n"
     ]
    }
   ],
   "source": [
    "str_dataset = \"ML\"\n",
    "filename = \"../data/\"+str_dataset+\"/0-\"+str_dataset+\"-universal.csv\"\n",
    "\n",
    "acc_log = pd.read_csv(filename)\n",
    "\n",
    "# Change the uname string values to int values\n",
    "#acc_log = acc_log.replace(acc_log.uname.unique(), range(len(acc_log.uname.unique())))\n",
    "\n",
    "# Change the resource id\n",
    "#if n#ot str_dataset == \"PM\":\n",
    "#    acc_log[\"rname\"] = acc_log[\"rname\"] + max(acc_log.uname.unique()) + 1\n",
    "\n",
    "print(\"Done!\")\n",
    "print(acc_log.head(5)) # Show the first five rows\n",
    "\n",
    "# Delete some variables\n",
    "del filename"
   ]
  },
  {
   "cell_type": "code",
   "execution_count": 28,
   "metadata": {},
   "outputs": [
    {
     "name": "stdout",
     "output_type": "stream",
     "text": [
      "Number of users: \t 943\n",
      "Number of Resources: \t 1682\n",
      "Size of AL: \t 100000\n"
     ]
    }
   ],
   "source": [
    "### Properties\n",
    "\n",
    "print(\"Number of users: \\t\", len(acc_log[\"uname\"].drop_duplicates()))\n",
    "print(\"Number of Resources: \\t\", len(acc_log[\"rname\"].drop_duplicates()))\n",
    "#print(\"User Attrs: \\t\", len(USER_ATTRS[str_dataset]))\n",
    "#print(\"Rscs Attrs: \\t\", len(RES_ATTRS[str_dataset]))\n",
    "print(\"Size of AL: \\t\", len(acc_log))\n",
    "#print(\"Size of +AL: \\t\", len(acc_log[acc_log.ACTION==1]))\n",
    "#print(\"Size of -AL: \\t\", len(acc_log[acc_log.ACTION==0]))"
   ]
  },
  {
   "cell_type": "code",
   "execution_count": 68,
   "metadata": {},
   "outputs": [
    {
     "name": "stdout",
     "output_type": "stream",
     "text": [
      "Number of users: \t 120\n",
      "Number of Resources: \t 990\n",
      "User Attrs: \t 4\n",
      "Rscs Attrs: \t 5\n",
      "Size of AL: \t 5702400\n",
      "Size of +AL: \t 4276800\n",
      "Size of -AL: \t 1425600\n"
     ]
    }
   ],
   "source": [
    "### Properties\n",
    "\n",
    "print(\"Number of users: \\t\", len(acc_log[USER_ATTRS[str_dataset]].drop_duplicates()))\n",
    "print(\"Number of Resources: \\t\", len(acc_log[RES_ATTRS[str_dataset]].drop_duplicates()))\n",
    "print(\"User Attrs: \\t\", len(USER_ATTRS[str_dataset]))\n",
    "print(\"Rscs Attrs: \\t\", len(RES_ATTRS[str_dataset]))\n",
    "print(\"Size of AL: \\t\", len(acc_log))\n",
    "print(\"Size of +AL: \\t\", len(acc_log[acc_log.ACTION==1]))\n",
    "print(\"Size of -AL: \\t\", len(acc_log[acc_log.ACTION==0]))"
   ]
  },
  {
   "cell_type": "code",
   "execution_count": 29,
   "metadata": {},
   "outputs": [],
   "source": [
    "def resize_distribution(prob_distribution, new_size):\n",
    "    \"\"\"\n",
    "    Resize the probability distribution to a new size using linear interpolation.\n",
    "\n",
    "    Parameters:\n",
    "    - prob_distribution (list): The original probability distribution.\n",
    "    - new_size (int): The desired size of the new probability distribution.\n",
    "\n",
    "    Returns:\n",
    "    - list: The resized probability distribution.\n",
    "    \"\"\"\n",
    "    old_size = len(prob_distribution)\n",
    "\n",
    "    # Create indices for the old and new arrays\n",
    "    old_indices = np.linspace(0, old_size - 1, old_size)\n",
    "    new_indices = np.linspace(0, old_size - 1, new_size)\n",
    "\n",
    "    # Use linear interpolation to resize the distribution\n",
    "    resized_distribution = np.interp(new_indices, old_indices, prob_distribution)\n",
    "\n",
    "    # Normalize the distribution to ensure it sums to 1\n",
    "    resized_distribution /= sum(resized_distribution)\n",
    "\n",
    "    return resized_distribution\n"
   ]
  },
  {
   "cell_type": "code",
   "execution_count": 78,
   "metadata": {},
   "outputs": [
    {
     "data": {
      "image/png": "[encoded data removed]",
      "text/plain": [
       "<Figure size 504x360 with 1 Axes>"
      ]
     },
     "metadata": {
      "needs_background": "light"
     },
     "output_type": "display_data"
    }
   ],
   "source": [
    "### User distribution\n",
    "\n",
    "fig, ax = plt.subplots(figsize=(7, 5))\n",
    "ax.spines[['right', 'top']].set_visible(False)\n",
    "to_plot = acc_log[\"uname\"].value_counts(normalize=True, ascending=True)\n",
    "#to_plot = acc_log[USER_ATTRS[str_dataset]].value_counts(normalize=True, ascending=True)\n",
    "ax.plot(range(len(to_plot)), to_plot)\n",
    "ax.set_xlabel('Usuer $i$', loc=\"left\", size=\"large\", family='monospace', alpha=0.5, parse_math=True)\n",
    "ax.set_ylabel('$P_i$', loc=\"top\", size=\"large\", family='monospace',  alpha=0.5,\n",
    "               parse_math=True)\n",
    "ax.yaxis.set_label_coords(-0.1,0.95)\n",
    "ax.set_title(\"User distribution\", loc='left', size=\"x-large\", family='monospace', x=-0.14, y=1, alpha=0.5)\n",
    "plt.suptitle(str_dataset+\" Access Log\", size=\"xx-large\", family='monospace', x=0.15, y=1)\n",
    "plt.show()"
   ]
  },
  {
   "cell_type": "code",
   "execution_count": 79,
   "metadata": {},
   "outputs": [
    {
     "data": {
      "image/png": "[encoded data removed]",
      "text/plain": [
       "<Figure size 504x360 with 1 Axes>"
      ]
     },
     "metadata": {
      "needs_background": "light"
     },
     "output_type": "display_data"
    }
   ],
   "source": [
    "### User distribution\n",
    "\n",
    "fig, ax = plt.subplots(figsize=(7, 5))\n",
    "ax.spines[['right', 'top']].set_visible(False)\n",
    "to_plot = acc_log[\"rname\"].value_counts(normalize=True, ascending=True)\n",
    "ax.plot(range(len(to_plot)), to_plot)\n",
    "ax.set_xlabel('Resource $i$', loc=\"left\", size=\"large\", family='monospace', alpha=0.5, parse_math=True)\n",
    "ax.set_ylabel('$P_i$', loc=\"top\", size=\"large\", family='monospace',  alpha=0.5,\n",
    "               parse_math=True)\n",
    "ax.yaxis.set_label_coords(-0.1,0.95)\n",
    "ax.set_title(\"Resource distribution\", loc='left', size=\"x-large\", family='monospace', x=-0.14, y=1, alpha=0.5)\n",
    "plt.suptitle(str_dataset+\" Access Log\", size=\"xx-large\", family='monospace', x=0.15, y=1)\n",
    "plt.show()"
   ]
  }
 ],
 "metadata": {
  "kernelspec": {
   "display_name": "tesis_env",
   "language": "python",
   "name": "python3"
  },
  "language_info": {
   "codemirror_mode": {
    "name": "ipython",
    "version": 3
   },
   "file_extension": ".py",
   "mimetype": "text/x-python",
   "name": "python",
   "nbconvert_exporter": "python",
   "pygments_lexer": "ipython3",
   "version": "3.7.13"
  }
 },
 "nbformat": 4,
 "nbformat_minor": 2
}
