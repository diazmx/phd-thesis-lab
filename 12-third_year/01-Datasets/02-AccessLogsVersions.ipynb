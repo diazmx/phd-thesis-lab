{
 "cells": [
  {
   "cell_type": "code",
   "execution_count": 1,
   "metadata": {},
   "outputs": [],
   "source": [
    "import numpy as np\n",
    "import pandas as pd\n",
    "import matplotlib.pyplot as plt\n",
    "import matplotlib as mpl\n",
    "from itertools import product\n",
    "from pathlib import Path\n",
    "from sklearn.model_selection import StratifiedShuffleSplit"
   ]
  },
  {
   "cell_type": "markdown",
   "metadata": {},
   "source": [
    "#### Auxiliar Functions"
   ]
  },
  {
   "cell_type": "code",
   "execution_count": 17,
   "metadata": {},
   "outputs": [],
   "source": [
    "###\n",
    "class AccessLog:\n",
    "    \"\"\" All operation in AccessLog (AL) \"\"\"\n",
    "    def __init__(self, df_users, df_rscs) -> None:\n",
    "        \"\"\" Initialize AL attributes \"\"\"\n",
    "        self.df_users = df_users\n",
    "        self.df_rscs = df_rscs\n",
    "        self.user_attrs = df_users.columns\n",
    "        self.rsrc_attrs = df_rscs.columns\n",
    "        self.universal_access_log = []\n",
    "    \n",
    "    def compute_universal_al(self) -> None:\n",
    "        \"\"\" Compute the universal Access Log (UAL). |UAL| = |U| x |R|\"\"\"\n",
    "        access_log = []\n",
    "        for user in self.df_users.values:\n",
    "            for res in self.df_rscs.values:        \n",
    "                access_log.append(list(user) + list(res))\n",
    "        \n",
    "        access_log = pd.DataFrame(access_log)\n",
    "        access_log.columns = self.df_users.columns.append(self.df_rscs.columns)\n",
    "        self.universal_access_log = access_log\n",
    "\n",
    "    def policy_evaluation(self, policy) -> None:\n",
    "        \"\"\" Compare each access record with a policy set.\"\"\"\n",
    "        false_negs = [] # False negatives\n",
    "        true_pos = [] # True positives\n",
    "        len_policy = len(policy)\n",
    "\n",
    "        for acc_req in self.universal_access_log.iloc:\n",
    "            denies_count = 0\n",
    "            for rule in policy:\n",
    "                res = True\n",
    "                for item_rule in rule:\n",
    "                    if item_rule[0] == 0:\n",
    "                        if acc_req[item_rule[1]] != item_rule[2]:\n",
    "                            res = False\n",
    "                            break\n",
    "                    if item_rule[0] == 1: # => attr1.val = attr2.val\n",
    "                        if acc_req[item_rule[1]] != acc_req[item_rule[2]]:\n",
    "                            res = False\n",
    "                            break\n",
    "\n",
    "                if res == False:\n",
    "                    denies_count += 1\n",
    "            if denies_count == len_policy:\n",
    "                false_negs.append(acc_req)\n",
    "            else:\n",
    "                true_pos.append(acc_req)\n",
    "        \n",
    "        false_negs = pd.DataFrame(false_negs)\n",
    "        true_pos = pd.DataFrame(true_pos)\n",
    "\n",
    "        print(\"FN;\", len(false_negs), \"\\t\\tTP:\", len(true_pos))\n",
    "\n",
    "        # Add \"ACTION\" column\n",
    "        false_negs[\"ACTION\"] = 0\n",
    "        true_pos[\"ACTION\"] = 1\n",
    "\n",
    "        # Access log with \"ACTION\" column\n",
    "        self.universal_access_log = pd.concat([true_pos,false_negs])\n",
    "\n",
    "    def get_sparse_al(self, fraction, random_state=None, previous_al=None):        \n",
    "        \"\"\" Compute the sparse access log (SAL) version. \"\"\"\n",
    "        acc_log = self.universal_access_log\n",
    "        if isinstance(previous_al, pd.DataFrame):\n",
    "            acc_log = previous_al\n",
    "        sparse_positive_al = None   \n",
    "        pos_access_req = acc_log[acc_log[\"ACTION\"]==1]\n",
    "        if random_state != None:\n",
    "            sparse_positive_al = pos_access_req.sample(frac=fraction,\n",
    "                                                       random_state=random_state)\n",
    "        else:\n",
    "            sparse_positive_al = pos_access_req.sample(frac=fraction)\n",
    "\n",
    "        return pd.concat([sparse_positive_al, acc_log[acc_log[\"ACTION\"]==0]])\n",
    "\n",
    "    def get_noisy_al(self, fraction, random_state=None, previous_al=None):\n",
    "        \"\"\" Compute the noisy access log (NAL) version. \"\"\"\n",
    "        acc_log = self.universal_access_log\n",
    "        if isinstance(previous_al, pd.DataFrame):\n",
    "            acc_log = previous_al\n",
    "\n",
    "        noysi_al = None\n",
    "        if random_state != None:\n",
    "            noisy_separation = StratifiedShuffleSplit(n_splits = 1,\n",
    "                                                      train_size = fraction,\n",
    "                                                      random_state = random_state)\n",
    "        else:\n",
    "            noisy_separation = StratifiedShuffleSplit(n_splits = 1,\n",
    "                                                      train_size = fraction)\n",
    "        \n",
    "        noisy_acc_log_selection = noisy_separation.split(acc_log, acc_log.ACTION)\n",
    "                        \n",
    "        noisy_acc_req = None\n",
    "        normal_acc_req = None\n",
    "        for noisy_idx, normal_idx, in noisy_acc_log_selection:\n",
    "            noisy_acc_req = acc_log.iloc[noisy_idx]\n",
    "            normal_acc_req = acc_log.iloc[normal_idx]\n",
    "\n",
    "        # Change the resolution in the noisy_selection dataset\n",
    "        noisy_acc_req[\"ACTION\"] = np.where(noisy_acc_req[\"ACTION\"] == 0, 1, 0)\n",
    "\n",
    "        noysi_al = pd.concat([noisy_acc_req, normal_acc_req])\n",
    "\n",
    "        return noysi_al\n",
    "\n",
    "    def get_balanced_al(self, positive_frac, random_state = None, previous_al = None):\n",
    "        acc_log = self.universal_access_log\n",
    "        \n",
    "        if isinstance(previous_al, pd.DataFrame):\n",
    "            acc_log = previous_al        \n",
    "\n",
    "        # Compute the original balanced\n",
    "        pos_acc_log = acc_log[acc_log[\"ACTION\"]==1]\n",
    "        neg_acc_log = acc_log[acc_log[\"ACTION\"]==0]\n",
    "\n",
    "        len_al = len(acc_log)\n",
    "        len_pos_ar = len(pos_acc_log)\n",
    "\n",
    "        limit_positive_frac = ( len_pos_ar * 100 ) / len_al\n",
    "\n",
    "        if positive_frac < limit_positive_frac and positive_frac > 1:\n",
    "            print(\"Is not possible\")\n",
    "            return\n",
    "        \n",
    "        len_neg_ar = int(( (1-positive_frac) * 100 * len_pos_ar ) / (positive_frac*100))        \n",
    "\n",
    "        neg_acc_req = []\n",
    "        if random_state != None:\n",
    "            neg_acc_req = neg_acc_log.sample(n=len_neg_ar,\n",
    "                                             random_state=random_state)\n",
    "        else:\n",
    "            neg_acc_req = neg_acc_log.sample(n=len_neg_ar)\n",
    "\n",
    "        return pd.concat([pos_acc_log, neg_acc_req])\n",
    "\n",
    "        \n"
   ]
  },
  {
   "cell_type": "code",
   "execution_count": 27,
   "metadata": {},
   "outputs": [],
   "source": [
    "fpath = Path(mpl.get_data_path(), \"C:\\\\Users\\\\danie\\\\AppData\\\\Local\\\\Microsoft\\\\Windows\\\\Fonts\\\\mulish-regular.ttf\")\n",
    "fpath2 = Path(mpl.get_data_path(), \"C:\\\\Users\\\\danie\\\\AppData\\\\Local\\\\Microsoft\\\\Windows\\\\Fonts\\\\mulish-regular.ttf\")"
   ]
  },
  {
   "cell_type": "markdown",
   "metadata": {},
   "source": [
    "### HC"
   ]
  },
  {
   "cell_type": "markdown",
   "metadata": {},
   "source": [
    "##### Policy"
   ]
  },
  {
   "cell_type": "code",
   "execution_count": 8,
   "metadata": {},
   "outputs": [
    {
     "name": "stdout",
     "output_type": "stream",
     "text": [
      "|R| 9\n",
      "avg(R) 2.6666666666666665\n",
      "WSC 24\n"
     ]
    }
   ],
   "source": [
    "### Policy\n",
    "# 0 = attribute = value\n",
    "# 1 = attribute = attribute => attribute.value = attribute.value\n",
    "policy_hc = [\n",
    "    [\n",
    "        [0, \"position\", \"nurse\"],\n",
    "        [0, \"type\", \"HR\"],\n",
    "        [1, \"uward\", \"rward\"]\n",
    "    ],\n",
    "    [\n",
    "        [0, \"type\", \"HR\"],\n",
    "        [1, \"tratingTeam\", \"teams\"]\n",
    "    ],\n",
    "    [\n",
    "        [0, \"type\", \"HR\"],\n",
    "        [1, \"uname\", \"patient\"]\n",
    "    ],\n",
    "    [\n",
    "        [0, \"type\", \"HR\"],\n",
    "        [1, \"patient\", \"agentfor\"]\n",
    "    ],\n",
    "\n",
    "    [\n",
    "        [0, \"type\", \"HRItem\"],\n",
    "        [1, \"uname\", \"author\"]\n",
    "    ],\n",
    "    [\n",
    "        [0, \"position\", \"nurse\"],\n",
    "        [0, \"type\", \"HRItem\"],\n",
    "        [0, \"topics\", \"nursing\"],\n",
    "        [1, \"uward\", \"rward\"]\n",
    "    ],\n",
    "    [\n",
    "        [0, \"type\", \"HRItem\"],\n",
    "        [1, \"topics\", \"specialties\"],\n",
    "        [1, \"tratingTeam\", \"teams\"]\n",
    "    ],\n",
    "    [\n",
    "        [0, \"type\", \"HRItem\"],\n",
    "        [0, \"topics\", \"note\"],\n",
    "        [1, \"uname\", \"patient\"]\n",
    "    ],\n",
    "    [\n",
    "        [0, \"type\", \"HRItem\"],\n",
    "        [0, \"topics\", \"note\"],\n",
    "        [1, \"patient\", \"agentfor\"]\n",
    "    ]\n",
    "]\n",
    "\n",
    "# Policy summary\n",
    "counter_len = 0\n",
    "for rule in policy_hc:\n",
    "    counter_len += len(rule)\n",
    "print(\"|R|\", len(policy_hc))\n",
    "print(\"avg(R)\", counter_len/len(policy_hc))\n",
    "print(\"WSC\", counter_len)\n"
   ]
  },
  {
   "cell_type": "markdown",
   "metadata": {},
   "source": [
    "##### Data"
   ]
  },
  {
   "cell_type": "code",
   "execution_count": 6,
   "metadata": {},
   "outputs": [
    {
     "name": "stdout",
     "output_type": "stream",
     "text": [
      "###*** DF - USERS - DONE!***###\n",
      "###*** DF - RESOURCES - DONE!***###\n"
     ]
    }
   ],
   "source": [
    "### Load data\n",
    "\n",
    "# Load users\n",
    "filepath = \"../data/test.log\"\n",
    "df_users = pd.read_csv(filepath)\n",
    "#df_users = df_users[df_users.columns[1:]] # remove the rname column\n",
    "df_users = df_users.drop_duplicates() # Remove deplicated users\n",
    "print(\"###*** DF - USERS - DONE!***###\")\n",
    "\n",
    "# Load resources\n",
    "filepath = \"../data/HC-res.csv\"\n",
    "df_res = pd.read_csv(filepath)\n",
    "df_res = df_res[df_res.columns[1:]] # Remove the ID\n",
    "df_res = df_res.drop_duplicates() # Remove deplicated resources\n",
    "print(\"###*** DF - RESOURCES - DONE!***###\")"
   ]
  },
  {
   "cell_type": "code",
   "execution_count": 7,
   "metadata": {},
   "outputs": [
    {
     "data": {
      "text/html": [
       "<div>\n",
       "<style scoped>\n",
       "    .dataframe tbody tr th:only-of-type {\n",
       "        vertical-align: middle;\n",
       "    }\n",
       "\n",
       "    .dataframe tbody tr th {\n",
       "        vertical-align: top;\n",
       "    }\n",
       "\n",
       "    .dataframe thead th {\n",
       "        text-align: right;\n",
       "    }\n",
       "</style>\n",
       "<table border=\"1\" class=\"dataframe\">\n",
       "  <thead>\n",
       "    <tr style=\"text-align: right;\">\n",
       "      <th></th>\n",
       "      <th>type</th>\n",
       "      <th>author</th>\n",
       "      <th>patient</th>\n",
       "      <th>topics</th>\n",
       "      <th>tratingTeam</th>\n",
       "      <th>rward</th>\n",
       "      <th>rname</th>\n",
       "    </tr>\n",
       "  </thead>\n",
       "  <tbody>\n",
       "    <tr>\n",
       "      <th>0</th>\n",
       "      <td>HRitem</td>\n",
       "      <td>oncNurse1</td>\n",
       "      <td>oncPat1</td>\n",
       "      <td>oncology</td>\n",
       "      <td>oncTeam1</td>\n",
       "      <td>oncward</td>\n",
       "      <td>0</td>\n",
       "    </tr>\n",
       "    <tr>\n",
       "      <th>1</th>\n",
       "      <td>HRitem</td>\n",
       "      <td>oncNurse1</td>\n",
       "      <td>oncPat1</td>\n",
       "      <td>oncology</td>\n",
       "      <td>oncTeam1</td>\n",
       "      <td>carward</td>\n",
       "      <td>1</td>\n",
       "    </tr>\n",
       "    <tr>\n",
       "      <th>2</th>\n",
       "      <td>HRitem</td>\n",
       "      <td>oncNurse1</td>\n",
       "      <td>oncPat1</td>\n",
       "      <td>oncology</td>\n",
       "      <td>oncTeam2</td>\n",
       "      <td>oncward</td>\n",
       "      <td>2</td>\n",
       "    </tr>\n",
       "    <tr>\n",
       "      <th>3</th>\n",
       "      <td>HRitem</td>\n",
       "      <td>oncNurse1</td>\n",
       "      <td>oncPat1</td>\n",
       "      <td>oncology</td>\n",
       "      <td>oncTeam2</td>\n",
       "      <td>carward</td>\n",
       "      <td>3</td>\n",
       "    </tr>\n",
       "    <tr>\n",
       "      <th>4</th>\n",
       "      <td>HRitem</td>\n",
       "      <td>oncNurse1</td>\n",
       "      <td>oncPat1</td>\n",
       "      <td>oncology</td>\n",
       "      <td>carTeam1</td>\n",
       "      <td>oncward</td>\n",
       "      <td>4</td>\n",
       "    </tr>\n",
       "    <tr>\n",
       "      <th>...</th>\n",
       "      <td>...</td>\n",
       "      <td>...</td>\n",
       "      <td>...</td>\n",
       "      <td>...</td>\n",
       "      <td>...</td>\n",
       "      <td>...</td>\n",
       "      <td>...</td>\n",
       "    </tr>\n",
       "    <tr>\n",
       "      <th>4955</th>\n",
       "      <td>HR</td>\n",
       "      <td>carAgent1</td>\n",
       "      <td>carPat1</td>\n",
       "      <td>cardiology</td>\n",
       "      <td>oncTeam2</td>\n",
       "      <td>carward</td>\n",
       "      <td>4955</td>\n",
       "    </tr>\n",
       "    <tr>\n",
       "      <th>4956</th>\n",
       "      <td>HR</td>\n",
       "      <td>carAgent1</td>\n",
       "      <td>carPat1</td>\n",
       "      <td>cardiology</td>\n",
       "      <td>carTeam1</td>\n",
       "      <td>oncward</td>\n",
       "      <td>4956</td>\n",
       "    </tr>\n",
       "    <tr>\n",
       "      <th>4957</th>\n",
       "      <td>HR</td>\n",
       "      <td>carAgent1</td>\n",
       "      <td>carPat1</td>\n",
       "      <td>cardiology</td>\n",
       "      <td>carTeam1</td>\n",
       "      <td>carward</td>\n",
       "      <td>4957</td>\n",
       "    </tr>\n",
       "    <tr>\n",
       "      <th>4958</th>\n",
       "      <td>HR</td>\n",
       "      <td>carAgent1</td>\n",
       "      <td>carPat1</td>\n",
       "      <td>cardiology</td>\n",
       "      <td>carTeam2</td>\n",
       "      <td>oncward</td>\n",
       "      <td>4958</td>\n",
       "    </tr>\n",
       "    <tr>\n",
       "      <th>4959</th>\n",
       "      <td>HR</td>\n",
       "      <td>carAgent1</td>\n",
       "      <td>carPat1</td>\n",
       "      <td>cardiology</td>\n",
       "      <td>carTeam2</td>\n",
       "      <td>carward</td>\n",
       "      <td>4959</td>\n",
       "    </tr>\n",
       "  </tbody>\n",
       "</table>\n",
       "<p>4960 rows × 7 columns</p>\n",
       "</div>"
      ],
      "text/plain": [
       "        type     author  patient      topics tratingTeam    rward  rname\n",
       "0     HRitem  oncNurse1  oncPat1    oncology    oncTeam1  oncward      0\n",
       "1     HRitem  oncNurse1  oncPat1    oncology    oncTeam1  carward      1\n",
       "2     HRitem  oncNurse1  oncPat1    oncology    oncTeam2  oncward      2\n",
       "3     HRitem  oncNurse1  oncPat1    oncology    oncTeam2  carward      3\n",
       "4     HRitem  oncNurse1  oncPat1    oncology    carTeam1  oncward      4\n",
       "...      ...        ...      ...         ...         ...      ...    ...\n",
       "4955      HR  carAgent1  carPat1  cardiology    oncTeam2  carward   4955\n",
       "4956      HR  carAgent1  carPat1  cardiology    carTeam1  oncward   4956\n",
       "4957      HR  carAgent1  carPat1  cardiology    carTeam1  carward   4957\n",
       "4958      HR  carAgent1  carPat1  cardiology    carTeam2  oncward   4958\n",
       "4959      HR  carAgent1  carPat1  cardiology    carTeam2  carward   4959\n",
       "\n",
       "[4960 rows x 7 columns]"
      ]
     },
     "execution_count": 7,
     "metadata": {},
     "output_type": "execute_result"
    }
   ],
   "source": [
    "### Preprocessing in resources \n",
    "\n",
    "# All possible combination\n",
    "uniques = [df_res[i].unique().tolist() for i in df_res.columns]\n",
    "df_res = pd.DataFrame(product(*uniques), columns = df_res.columns)\n",
    "df_res[\"rname\"] = df_res.index\n",
    "print(\"Done\")"
   ]
  },
  {
   "cell_type": "code",
   "execution_count": 18,
   "metadata": {},
   "outputs": [
    {
     "name": "stdout",
     "output_type": "stream",
     "text": [
      "FN; 133920 \t\tTP: 19840\n"
     ]
    }
   ],
   "source": [
    "#### Access Log object\n",
    "\n",
    "hc_acc_log = AccessLog(df_users=df_users, df_rscs=df_res)\n",
    "\n",
    "# Compute access log universal\n",
    "hc_acc_log.compute_universal_al()\n",
    "\n",
    "# Compute the decision for each access requests\n",
    "hc_acc_log.policy_evaluation(policy_hc)"
   ]
  },
  {
   "cell_type": "code",
   "execution_count": 40,
   "metadata": {},
   "outputs": [],
   "source": [
    "hc_sparse_al = hc_acc_log.get_sparse_al(0.5)"
   ]
  },
  {
   "cell_type": "code",
   "execution_count": 41,
   "metadata": {},
   "outputs": [
    {
     "data": {
      "image/png": "[encoded data removed]",
      "text/plain": [
       "<Figure size 720x360 with 1 Axes>"
      ]
     },
     "metadata": {
      "needs_background": "light"
     },
     "output_type": "display_data"
    }
   ],
   "source": [
    "fig, ax = plt.subplots(figsize=(10, 5))\n",
    "ax.spines[['right', 'top']].set_visible(False)\n",
    "access_distri = hc_sparse_al[hc_sparse_al.ACTION==1].rname.value_counts(normalize=True)\n",
    "ax.bar(range(len(access_distri)), access_distri)\n",
    "ax.set_xlabel('ID resource', loc=\"left\", size=\"large\", font=fpath)\n",
    "ax.set_ylabel('$P_k$', loc=\"top\", size=\"large\", font=fpath, parse_math=True)\n",
    "ax.yaxis.set_label_coords(-0.08,0.95)\n",
    "#ax.set_title(\"Linear Binning\", loc='left', size=\"x-large\", family='monospace', x=-0, y=1, alpha=0.5)\n",
    "ax.set_title(\"Distribution of access to resources in $L^+$.\", size=\"xx-large\",  font=fpath2, x=0.29, y=1, parse_math=True)\n",
    "#plt.savefig(\"HC-AccessDistribution.svg\")\n",
    "plt.show()"
   ]
  },
  {
   "cell_type": "code",
   "execution_count": 51,
   "metadata": {},
   "outputs": [
    {
     "name": "stderr",
     "output_type": "stream",
     "text": [
      "c:\\Users\\danie\\anaconda3\\envs\\tesis_env\\lib\\site-packages\\ipykernel_launcher.py:101: SettingWithCopyWarning: \n",
      "A value is trying to be set on a copy of a slice from a DataFrame.\n",
      "Try using .loc[row_indexer,col_indexer] = value instead\n",
      "\n",
      "See the caveats in the documentation: https://pandas.pydata.org/pandas-docs/stable/user_guide/indexing.html#returning-a-view-versus-a-copy\n"
     ]
    }
   ],
   "source": [
    "hc_noisy_al = hc_acc_log.get_noisy_al(0.25)"
   ]
  },
  {
   "cell_type": "code",
   "execution_count": 52,
   "metadata": {},
   "outputs": [
    {
     "data": {
      "image/png": "[encoded data removed]",
      "text/plain": [
       "<Figure size 720x360 with 1 Axes>"
      ]
     },
     "metadata": {
      "needs_background": "light"
     },
     "output_type": "display_data"
    }
   ],
   "source": [
    "fig, ax = plt.subplots(figsize=(10, 5))\n",
    "ax.spines[['right', 'top']].set_visible(False)\n",
    "access_distri = hc_noisy_al[hc_noisy_al.ACTION==1].rname.value_counts(normalize=True)\n",
    "ax.bar(range(len(access_distri)), access_distri)\n",
    "ax.set_xlabel('ID resource', loc=\"left\", size=\"large\", font=fpath)\n",
    "ax.set_ylabel('$P_k$', loc=\"top\", size=\"large\", font=fpath, parse_math=True)\n",
    "ax.yaxis.set_label_coords(-0.08,0.95)\n",
    "#ax.set_title(\"Linear Binning\", loc='left', size=\"x-large\", family='monospace', x=-0, y=1, alpha=0.5)\n",
    "ax.set_title(\"Distribution of access to resources in $L^+$.\", size=\"xx-large\",  font=fpath2, x=0.29, y=1, parse_math=True)\n",
    "#plt.savefig(\"HC-AccessDistribution.svg\")\n",
    "plt.show()"
   ]
  },
  {
   "cell_type": "code",
   "execution_count": 32,
   "metadata": {},
   "outputs": [],
   "source": [
    "data_ = hc_acc_log.universal_access_log[hc_acc_log.universal_access_log.ACTION==1]"
   ]
  },
  {
   "cell_type": "code",
   "execution_count": 33,
   "metadata": {},
   "outputs": [
    {
     "data": {
      "image/png": "[encoded data removed]",
      "text/plain": [
       "<Figure size 720x360 with 1 Axes>"
      ]
     },
     "metadata": {
      "needs_background": "light"
     },
     "output_type": "display_data"
    }
   ],
   "source": [
    "data_ = hc_acc_log.universal_access_log[hc_acc_log.universal_access_log.ACTION==1]\n",
    "fig, ax = plt.subplots(figsize=(10, 5))\n",
    "ax.spines[['right', 'top']].set_visible(False)\n",
    "access_distri = data_.rname.value_counts(normalize=True)\n",
    "ax.bar(range(len(access_distri)), access_distri)\n",
    "ax.set_xlabel('ID resource', loc=\"left\", size=\"large\", font=fpath)\n",
    "ax.set_ylabel('$P_k$', loc=\"top\", size=\"large\", font=fpath, parse_math=True)\n",
    "ax.yaxis.set_label_coords(-0.08,0.95)\n",
    "#ax.set_title(\"Linear Binning\", loc='left', size=\"x-large\", family='monospace', x=-0, y=1, alpha=0.5)\n",
    "ax.set_title(\"Distribution of access to resources in $L^+$.\", size=\"xx-large\",  font=fpath2, x=0.29, y=1, parse_math=True)\n",
    "#plt.savefig(\"HC-AccessDistribution.svg\")\n",
    "plt.show()"
   ]
  },
  {
   "cell_type": "markdown",
   "metadata": {},
   "source": [
    "### PM"
   ]
  },
  {
   "cell_type": "code",
   "execution_count": 53,
   "metadata": {},
   "outputs": [
    {
     "name": "stdout",
     "output_type": "stream",
     "text": [
      "|R| 12\n",
      "avg(R) 2.8333333333333335\n",
      "WSC 34\n"
     ]
    }
   ],
   "source": [
    "policy_pm = [\n",
    "    [\n",
    "        [0, \"adminroles\", \"manager\"],\n",
    "        [0, \"type\", \"budget\"],\n",
    "        [1, \"department\", \"departmentu\"]\n",
    "    ],\n",
    "    [\n",
    "        [0, \"type\", \"schedule\"],\n",
    "        [1, \"projectsled\", \"project\"]\n",
    "    ],\n",
    "    [\n",
    "        [0, \"type\", \"budget\"],\n",
    "        [1, \"projectsled\", \"project\"]\n",
    "    ],\n",
    "    [\n",
    "        [0, \"type\", \"schedule\"],\n",
    "        [0, \"projects\", \"project\"]\n",
    "    ],\n",
    "    [\n",
    "        [0, \"type\", \"task\"],\n",
    "        [0, \"task\", \"rname\"]\n",
    "    ],\n",
    "    [\n",
    "        [0, \"type\", \"task\"],\n",
    "        [0, \"proprietary\", \"0\"],\n",
    "        [1, \"project\", \"projects\"],\n",
    "        [1, \"expertise\", \"expertiseu\"]\n",
    "    ],\n",
    "    [\n",
    "        [0, \"isemployee\",\"0\"],\n",
    "        [0, \"type\", \"task\"],\n",
    "        [1, \"project\", \"projects\"],\n",
    "        [1, \"expertise\", \"expertiseu\"]\n",
    "    ],\n",
    "    [\n",
    "        [0, \"adminroles\", \"auditor\"],\n",
    "        [0, \"type\", \"budget\"],\n",
    "        [1, \"project\", \"projects\"]\n",
    "    ],\n",
    "    [\n",
    "        [0, \"adminroles\", \"accountant\"],\n",
    "        [0, \"type\", \"budget\"],\n",
    "        [1, \"project\", \"projects\"]\n",
    "    ],\n",
    "    [\n",
    "        [0, \"adminroles\", \"accountant\"],\n",
    "        [0, \"type\", \"task\"],\n",
    "        [1, \"project\", \"projects\"]\n",
    "    ],\n",
    "    [\n",
    "        [0, \"adminroles\", \"planner\"],\n",
    "        [0, \"type\", \"schedule\"],\n",
    "        [1, \"project\", \"projects\"]\n",
    "    ],\n",
    "    [\n",
    "        [0, \"adminroles\", \"planner\"],\n",
    "        [0, \"type\", \"task\"],\n",
    "        [1, \"project\", \"projects\"]\n",
    "    ]\n",
    "]\n",
    "\n",
    "counter_len = 0\n",
    "for rule in policy_pm:\n",
    "    counter_len += len(rule)\n",
    "print(\"|R|\", len(policy_pm))\n",
    "print(\"avg(R)\", counter_len/len(policy_pm))\n",
    "print(\"WSC\", counter_len)\n"
   ]
  },
  {
   "cell_type": "code",
   "execution_count": 54,
   "metadata": {},
   "outputs": [],
   "source": [
    "# Load user and resource data\n",
    "filepath = \"../data/PM-users.csv\"\n",
    "df_users = pd.read_csv(filepath) # Users\n",
    "df_users = df_users[df_users.columns[1:]] # remove the rname column\n",
    "df_users = df_users.drop_duplicates() # Remove deplicated users\n",
    "\n",
    "filepath = \"../data/PM-res.csv\"\n",
    "df_res = pd.read_csv(filepath)  # Resources\n",
    "#df_res = df_res[df_res.columns[1:]]\n",
    "df_res = df_res.drop_duplicates() # Remove deplicated users\n",
    "\n",
    "#print(df_users.info(), df_res.info())"
   ]
  },
  {
   "cell_type": "code",
   "execution_count": 55,
   "metadata": {},
   "outputs": [
    {
     "data": {
      "text/html": [
       "<div>\n",
       "<style scoped>\n",
       "    .dataframe tbody tr th:only-of-type {\n",
       "        vertical-align: middle;\n",
       "    }\n",
       "\n",
       "    .dataframe tbody tr th {\n",
       "        vertical-align: top;\n",
       "    }\n",
       "\n",
       "    .dataframe thead th {\n",
       "        text-align: right;\n",
       "    }\n",
       "</style>\n",
       "<table border=\"1\" class=\"dataframe\">\n",
       "  <thead>\n",
       "    <tr style=\"text-align: right;\">\n",
       "      <th></th>\n",
       "      <th>projects</th>\n",
       "      <th>expertiseu</th>\n",
       "      <th>isemployee</th>\n",
       "      <th>task</th>\n",
       "    </tr>\n",
       "  </thead>\n",
       "  <tbody>\n",
       "    <tr>\n",
       "      <th>0</th>\n",
       "      <td>proj11</td>\n",
       "      <td>design</td>\n",
       "      <td>1</td>\n",
       "      <td>proj11task1a</td>\n",
       "    </tr>\n",
       "    <tr>\n",
       "      <th>1</th>\n",
       "      <td>proj11</td>\n",
       "      <td>design</td>\n",
       "      <td>1</td>\n",
       "      <td>proj11task2a</td>\n",
       "    </tr>\n",
       "    <tr>\n",
       "      <th>2</th>\n",
       "      <td>proj11</td>\n",
       "      <td>design</td>\n",
       "      <td>1</td>\n",
       "      <td>proj11task1</td>\n",
       "    </tr>\n",
       "    <tr>\n",
       "      <th>3</th>\n",
       "      <td>proj11</td>\n",
       "      <td>design</td>\n",
       "      <td>1</td>\n",
       "      <td>proj11task2</td>\n",
       "    </tr>\n",
       "    <tr>\n",
       "      <th>4</th>\n",
       "      <td>proj11</td>\n",
       "      <td>design</td>\n",
       "      <td>1</td>\n",
       "      <td>proj11task1propa</td>\n",
       "    </tr>\n",
       "    <tr>\n",
       "      <th>...</th>\n",
       "      <td>...</td>\n",
       "      <td>...</td>\n",
       "      <td>...</td>\n",
       "      <td>...</td>\n",
       "    </tr>\n",
       "    <tr>\n",
       "      <th>507</th>\n",
       "      <td>proj22</td>\n",
       "      <td>coding</td>\n",
       "      <td>0</td>\n",
       "      <td>proj22task2</td>\n",
       "    </tr>\n",
       "    <tr>\n",
       "      <th>508</th>\n",
       "      <td>proj22</td>\n",
       "      <td>coding</td>\n",
       "      <td>0</td>\n",
       "      <td>proj22task1propa</td>\n",
       "    </tr>\n",
       "    <tr>\n",
       "      <th>509</th>\n",
       "      <td>proj22</td>\n",
       "      <td>coding</td>\n",
       "      <td>0</td>\n",
       "      <td>proj22task2propa</td>\n",
       "    </tr>\n",
       "    <tr>\n",
       "      <th>510</th>\n",
       "      <td>proj22</td>\n",
       "      <td>coding</td>\n",
       "      <td>0</td>\n",
       "      <td>proj22task1prop</td>\n",
       "    </tr>\n",
       "    <tr>\n",
       "      <th>511</th>\n",
       "      <td>proj22</td>\n",
       "      <td>coding</td>\n",
       "      <td>0</td>\n",
       "      <td>proj22task2prop</td>\n",
       "    </tr>\n",
       "  </tbody>\n",
       "</table>\n",
       "<p>512 rows × 4 columns</p>\n",
       "</div>"
      ],
      "text/plain": [
       "    projects expertiseu isemployee              task\n",
       "0     proj11     design          1      proj11task1a\n",
       "1     proj11     design          1      proj11task2a\n",
       "2     proj11     design          1       proj11task1\n",
       "3     proj11     design          1       proj11task2\n",
       "4     proj11     design          1  proj11task1propa\n",
       "..       ...        ...        ...               ...\n",
       "507   proj22     coding          0       proj22task2\n",
       "508   proj22     coding          0  proj22task1propa\n",
       "509   proj22     coding          0  proj22task2propa\n",
       "510   proj22     coding          0   proj22task1prop\n",
       "511   proj22     coding          0   proj22task2prop\n",
       "\n",
       "[512 rows x 4 columns]"
      ]
     },
     "execution_count": 55,
     "metadata": {},
     "output_type": "execute_result"
    }
   ],
   "source": [
    "df_users_sample = df_users.iloc[46:]\n",
    "df_users_sample = df_users_sample[[\"projects\", \"expertiseu\", \"isemployee\", \"task\"]]\n",
    "\n",
    "uniques = [df_users_sample[i].unique().tolist() for i in df_users_sample.columns]\n",
    "df_users_sample = pd.DataFrame(product(*uniques), columns = df_users_sample.columns)\n",
    "#df_users_sample[\"uname\"] = df_users_sample.index\n",
    "df_users_sample"
   ]
  },
  {
   "cell_type": "code",
   "execution_count": 56,
   "metadata": {},
   "outputs": [
    {
     "data": {
      "text/html": [
       "<div>\n",
       "<style scoped>\n",
       "    .dataframe tbody tr th:only-of-type {\n",
       "        vertical-align: middle;\n",
       "    }\n",
       "\n",
       "    .dataframe tbody tr th {\n",
       "        vertical-align: top;\n",
       "    }\n",
       "\n",
       "    .dataframe thead th {\n",
       "        text-align: right;\n",
       "    }\n",
       "</style>\n",
       "<table border=\"1\" class=\"dataframe\">\n",
       "  <thead>\n",
       "    <tr style=\"text-align: right;\">\n",
       "      <th></th>\n",
       "      <th>adminroles</th>\n",
       "      <th>projects</th>\n",
       "      <th>departmentu</th>\n",
       "      <th>projectsled</th>\n",
       "      <th>expertiseu</th>\n",
       "      <th>isemployee</th>\n",
       "      <th>task</th>\n",
       "      <th>uname</th>\n",
       "    </tr>\n",
       "  </thead>\n",
       "  <tbody>\n",
       "    <tr>\n",
       "      <th>0</th>\n",
       "      <td>accountant</td>\n",
       "      <td>proj11</td>\n",
       "      <td>none</td>\n",
       "      <td>none</td>\n",
       "      <td>none</td>\n",
       "      <td>none</td>\n",
       "      <td>none</td>\n",
       "      <td>0</td>\n",
       "    </tr>\n",
       "    <tr>\n",
       "      <th>1</th>\n",
       "      <td>accountant</td>\n",
       "      <td>proj21</td>\n",
       "      <td>none</td>\n",
       "      <td>none</td>\n",
       "      <td>none</td>\n",
       "      <td>none</td>\n",
       "      <td>none</td>\n",
       "      <td>1</td>\n",
       "    </tr>\n",
       "    <tr>\n",
       "      <th>2</th>\n",
       "      <td>accountant</td>\n",
       "      <td>proj12</td>\n",
       "      <td>none</td>\n",
       "      <td>none</td>\n",
       "      <td>none</td>\n",
       "      <td>none</td>\n",
       "      <td>none</td>\n",
       "      <td>2</td>\n",
       "    </tr>\n",
       "    <tr>\n",
       "      <th>3</th>\n",
       "      <td>accountant</td>\n",
       "      <td>proj22</td>\n",
       "      <td>none</td>\n",
       "      <td>none</td>\n",
       "      <td>none</td>\n",
       "      <td>none</td>\n",
       "      <td>none</td>\n",
       "      <td>3</td>\n",
       "    </tr>\n",
       "    <tr>\n",
       "      <th>4</th>\n",
       "      <td>auditor</td>\n",
       "      <td>proj11</td>\n",
       "      <td>none</td>\n",
       "      <td>none</td>\n",
       "      <td>none</td>\n",
       "      <td>none</td>\n",
       "      <td>none</td>\n",
       "      <td>4</td>\n",
       "    </tr>\n",
       "    <tr>\n",
       "      <th>...</th>\n",
       "      <td>...</td>\n",
       "      <td>...</td>\n",
       "      <td>...</td>\n",
       "      <td>...</td>\n",
       "      <td>...</td>\n",
       "      <td>...</td>\n",
       "      <td>...</td>\n",
       "      <td>...</td>\n",
       "    </tr>\n",
       "    <tr>\n",
       "      <th>507</th>\n",
       "      <td>NaN</td>\n",
       "      <td>proj22</td>\n",
       "      <td>NaN</td>\n",
       "      <td>NaN</td>\n",
       "      <td>coding</td>\n",
       "      <td>0</td>\n",
       "      <td>proj22task2</td>\n",
       "      <td>507</td>\n",
       "    </tr>\n",
       "    <tr>\n",
       "      <th>508</th>\n",
       "      <td>NaN</td>\n",
       "      <td>proj22</td>\n",
       "      <td>NaN</td>\n",
       "      <td>NaN</td>\n",
       "      <td>coding</td>\n",
       "      <td>0</td>\n",
       "      <td>proj22task1propa</td>\n",
       "      <td>508</td>\n",
       "    </tr>\n",
       "    <tr>\n",
       "      <th>509</th>\n",
       "      <td>NaN</td>\n",
       "      <td>proj22</td>\n",
       "      <td>NaN</td>\n",
       "      <td>NaN</td>\n",
       "      <td>coding</td>\n",
       "      <td>0</td>\n",
       "      <td>proj22task2propa</td>\n",
       "      <td>509</td>\n",
       "    </tr>\n",
       "    <tr>\n",
       "      <th>510</th>\n",
       "      <td>NaN</td>\n",
       "      <td>proj22</td>\n",
       "      <td>NaN</td>\n",
       "      <td>NaN</td>\n",
       "      <td>coding</td>\n",
       "      <td>0</td>\n",
       "      <td>proj22task1prop</td>\n",
       "      <td>510</td>\n",
       "    </tr>\n",
       "    <tr>\n",
       "      <th>511</th>\n",
       "      <td>NaN</td>\n",
       "      <td>proj22</td>\n",
       "      <td>NaN</td>\n",
       "      <td>NaN</td>\n",
       "      <td>coding</td>\n",
       "      <td>0</td>\n",
       "      <td>proj22task2prop</td>\n",
       "      <td>511</td>\n",
       "    </tr>\n",
       "  </tbody>\n",
       "</table>\n",
       "<p>558 rows × 8 columns</p>\n",
       "</div>"
      ],
      "text/plain": [
       "     adminroles projects departmentu projectsled expertiseu isemployee  \\\n",
       "0    accountant   proj11        none        none       none       none   \n",
       "1    accountant   proj21        none        none       none       none   \n",
       "2    accountant   proj12        none        none       none       none   \n",
       "3    accountant   proj22        none        none       none       none   \n",
       "4       auditor   proj11        none        none       none       none   \n",
       "..          ...      ...         ...         ...        ...        ...   \n",
       "507         NaN   proj22         NaN         NaN     coding          0   \n",
       "508         NaN   proj22         NaN         NaN     coding          0   \n",
       "509         NaN   proj22         NaN         NaN     coding          0   \n",
       "510         NaN   proj22         NaN         NaN     coding          0   \n",
       "511         NaN   proj22         NaN         NaN     coding          0   \n",
       "\n",
       "                 task  uname  \n",
       "0                none      0  \n",
       "1                none      1  \n",
       "2                none      2  \n",
       "3                none      3  \n",
       "4                none      4  \n",
       "..                ...    ...  \n",
       "507       proj22task2    507  \n",
       "508  proj22task1propa    508  \n",
       "509  proj22task2propa    509  \n",
       "510   proj22task1prop    510  \n",
       "511   proj22task2prop    511  \n",
       "\n",
       "[558 rows x 8 columns]"
      ]
     },
     "execution_count": 56,
     "metadata": {},
     "output_type": "execute_result"
    }
   ],
   "source": [
    "df_users_test = df_users.drop(range(46, len(df_users)))\n",
    "df_users_test = pd.concat([df_users_test, df_users_sample])\n",
    "df_users_test[\"uname\"] = df_users_test.index\n",
    "df_users_test"
   ]
  },
  {
   "cell_type": "code",
   "execution_count": 59,
   "metadata": {},
   "outputs": [
    {
     "name": "stdout",
     "output_type": "stream",
     "text": [
      "FN; 20640 \t\tTP: 1680\n"
     ]
    }
   ],
   "source": [
    "pm_acc_log = AccessLog(df_users_test, df_res)\n",
    "\n",
    "# Compute access log universal\n",
    "pm_acc_log.compute_universal_al()\n",
    "\n",
    "# Compute the decision for each access requests\n",
    "pm_acc_log.policy_evaluation(policy_pm)"
   ]
  },
  {
   "cell_type": "code",
   "execution_count": 63,
   "metadata": {},
   "outputs": [
    {
     "data": {
      "image/png": "[encoded data removed]",
      "text/plain": [
       "<Figure size 720x360 with 1 Axes>"
      ]
     },
     "metadata": {
      "needs_background": "light"
     },
     "output_type": "display_data"
    }
   ],
   "source": [
    "data_ = pm_acc_log.universal_access_log[pm_acc_log.universal_access_log.ACTION==1]\n",
    "fig, ax = plt.subplots(figsize=(10, 5))\n",
    "ax.spines[['right', 'top']].set_visible(False)\n",
    "access_distri = data_.rname.value_counts(normalize=True)\n",
    "ax.bar(range(len(access_distri)), access_distri)\n",
    "ax.set_xlabel('ID resource', loc=\"left\", size=\"large\", font=fpath)\n",
    "ax.set_ylabel('$P_k$', loc=\"top\", size=\"large\", font=fpath, parse_math=True)\n",
    "ax.yaxis.set_label_coords(-0.08,0.95)\n",
    "#ax.set_title(\"Linear Binning\", loc='left', size=\"x-large\", family='monospace', x=-0, y=1, alpha=0.5)\n",
    "ax.set_title(\"Distribution of access to resources in $L^+$.\", size=\"xx-large\",  font=fpath2, x=0.29, y=1, parse_math=True)\n",
    "#plt.savefig(\"HC-AccessDistribution.svg\")\n",
    "plt.show()"
   ]
  },
  {
   "cell_type": "code",
   "execution_count": 78,
   "metadata": {},
   "outputs": [],
   "source": [
    "pm_sparse_al = pm_acc_log.get_sparse_al(0.5)"
   ]
  },
  {
   "cell_type": "code",
   "execution_count": 79,
   "metadata": {},
   "outputs": [
    {
     "data": {
      "image/png": "[encoded data removed]",
      "text/plain": [
       "<Figure size 720x360 with 1 Axes>"
      ]
     },
     "metadata": {
      "needs_background": "light"
     },
     "output_type": "display_data"
    }
   ],
   "source": [
    "pm_sparse_al = pm_acc_log.get_sparse_al(0.5)\n",
    "fig, ax = plt.subplots(figsize=(10, 5))\n",
    "ax.spines[['right', 'top']].set_visible(False)\n",
    "access_distri = pm_sparse_al[pm_sparse_al.ACTION==1].rname.value_counts(normalize=True)\n",
    "ax.bar(range(len(access_distri)), access_distri)\n",
    "ax.set_xlabel('ID resource', loc=\"left\", size=\"large\", font=fpath)\n",
    "ax.set_ylabel('$P_k$', loc=\"top\", size=\"large\", font=fpath, parse_math=True)\n",
    "ax.yaxis.set_label_coords(-0.08,0.95)\n",
    "#ax.set_title(\"Linear Binning\", loc='left', size=\"x-large\", family='monospace', x=-0, y=1, alpha=0.5)\n",
    "ax.set_title(\"Distribution of access to resources in $L^+$.\", size=\"xx-large\",  font=fpath2, x=0.29, y=1, parse_math=True)\n",
    "#plt.savefig(\"HC-AccessDistribution.svg\")\n",
    "plt.show()"
   ]
  },
  {
   "cell_type": "code",
   "execution_count": 88,
   "metadata": {},
   "outputs": [
    {
     "name": "stderr",
     "output_type": "stream",
     "text": [
      "c:\\Users\\danie\\anaconda3\\envs\\tesis_env\\lib\\site-packages\\ipykernel_launcher.py:101: SettingWithCopyWarning: \n",
      "A value is trying to be set on a copy of a slice from a DataFrame.\n",
      "Try using .loc[row_indexer,col_indexer] = value instead\n",
      "\n",
      "See the caveats in the documentation: https://pandas.pydata.org/pandas-docs/stable/user_guide/indexing.html#returning-a-view-versus-a-copy\n"
     ]
    }
   ],
   "source": [
    "pm_noisy_al = pm_acc_log.get_noisy_al(0.25)"
   ]
  },
  {
   "cell_type": "code",
   "execution_count": 89,
   "metadata": {},
   "outputs": [
    {
     "data": {
      "image/png": "[encoded data removed]",
      "text/plain": [
       "<Figure size 720x360 with 1 Axes>"
      ]
     },
     "metadata": {
      "needs_background": "light"
     },
     "output_type": "display_data"
    }
   ],
   "source": [
    "fig, ax = plt.subplots(figsize=(10, 5))\n",
    "ax.spines[['right', 'top']].set_visible(False)\n",
    "access_distri = pm_noisy_al[pm_noisy_al.ACTION==1].rname.value_counts(normalize=True)\n",
    "ax.bar(range(len(access_distri)), access_distri)\n",
    "ax.set_xlabel('ID resource', loc=\"left\", size=\"large\", font=fpath)\n",
    "ax.set_ylabel('$P_k$', loc=\"top\", size=\"large\", font=fpath, parse_math=True)\n",
    "ax.yaxis.set_label_coords(-0.08,0.95)\n",
    "#ax.set_title(\"Linear Binning\", loc='left', size=\"x-large\", family='monospace', x=-0, y=1, alpha=0.5)\n",
    "ax.set_title(\"Distribution of access to resources in $L^+$.\", size=\"xx-large\",  font=fpath2, x=0.29, y=1, parse_math=True)\n",
    "#plt.savefig(\"HC-AccessDistribution.svg\")\n",
    "plt.show()"
   ]
  },
  {
   "cell_type": "markdown",
   "metadata": {},
   "source": [
    "### UN"
   ]
  },
  {
   "cell_type": "code",
   "execution_count": 90,
   "metadata": {},
   "outputs": [
    {
     "name": "stdout",
     "output_type": "stream",
     "text": [
      "|R| 12\n",
      "avg(R) 1.9166666666666667\n",
      "WSC 23\n"
     ]
    }
   ],
   "source": [
    "policy_un = [\n",
    "    [\n",
    "        [0,\"type\", \"gradebook\"],\n",
    "        [1, \"crsTaken\", \"csr\"]\n",
    "    ],\n",
    "    [\n",
    "        [0,\"type\", \"gradebook\"],\n",
    "        [1, \"crsTaught\", \"csr\"]\n",
    "    ],\n",
    "    [\n",
    "        [0, \"position\", \"faculty\"],\n",
    "        [0,\"type\", \"gradebook\"],\n",
    "        [1, \"crsTaught\", \"csr\"]\n",
    "    ],\n",
    "    [\n",
    "        [0, \"departmentu\", \"registrar\"],\n",
    "        [0, \"type\", \"roster\"]\n",
    "    ],\n",
    "    [\n",
    "        [0, \"position\", \"faculty\"],\n",
    "        [0, \"type\", \"roster\"],\n",
    "        [1, \"crsTaught\", \"csr\"]\n",
    "    ],\n",
    "    [\n",
    "        [0, \"type\", \"transcript\"],\n",
    "        [1, \"uname\", \"student\"]\n",
    "    ],\n",
    "    [\n",
    "        [0, \"isChair\", 1],\n",
    "        [0, \"type\", \"transcript\"],\n",
    "        [1, \"rDepartment\", \"departmentu\"]\n",
    "    ],\n",
    "    [\n",
    "        [0, \"departmentu\", \"registrar\"],\n",
    "        [0, \"type\", \"transcript\"],\n",
    "    ],\n",
    "    [\n",
    "        [0, \"type\", \"application\"],\n",
    "        [1, \"uname\", \"student\"]\n",
    "    ],\n",
    "    [\n",
    "        [0, \"departmentu\", \"admissions\"],\n",
    "        [0, \"type\", \"application\"],\n",
    "    ]\n",
    "]\n",
    "\n",
    "counter_len = 0\n",
    "for rule in policy_un:\n",
    "    counter_len += len(rule)\n",
    "print(\"|R|\", len(policy_pm))\n",
    "print(\"avg(R)\", counter_len/len(policy_pm))\n",
    "print(\"WSC\", counter_len)"
   ]
  },
  {
   "cell_type": "code",
   "execution_count": 96,
   "metadata": {},
   "outputs": [
    {
     "name": "stdout",
     "output_type": "stream",
     "text": [
      "<class 'pandas.core.frame.DataFrame'>\n",
      "Int64Index: 101 entries, 0 to 100\n",
      "Data columns (total 6 columns):\n",
      " #   Column       Non-Null Count  Dtype \n",
      "---  ------       --------------  ----- \n",
      " 0   uname        101 non-null    object\n",
      " 1   position     101 non-null    object\n",
      " 2   departmentu  101 non-null    object\n",
      " 3   crsTaken     101 non-null    object\n",
      " 4   crsTaught    101 non-null    object\n",
      " 5   isChair      101 non-null    int64 \n",
      "dtypes: int64(1), object(5)\n",
      "memory usage: 5.5+ KB\n",
      "<class 'pandas.core.frame.DataFrame'>\n",
      "Int64Index: 277 entries, 0 to 276\n",
      "Data columns (total 5 columns):\n",
      " #   Column       Non-Null Count  Dtype \n",
      "---  ------       --------------  ----- \n",
      " 0   rName        277 non-null    object\n",
      " 1   type         277 non-null    object\n",
      " 2   student      277 non-null    object\n",
      " 3   rDepartment  277 non-null    object\n",
      " 4   csr          277 non-null    object\n",
      "dtypes: object(5)\n",
      "memory usage: 13.0+ KB\n",
      "None None\n"
     ]
    }
   ],
   "source": [
    "# Load user and resource data\n",
    "filepath = \"../data/UN-users.csv\"\n",
    "df_users = pd.read_csv(filepath) # Users\n",
    "#df_users = df_users[df_users.columns[1:]] # remove the rname column\n",
    "df_users = df_users.drop_duplicates() # Remove deplicated users\n",
    "\n",
    "filepath = \"../data/UN-res.csv\"\n",
    "df_res = pd.read_csv(filepath)  # Resources\n",
    "#df_res = df_res[df_res.columns[1:]]\n",
    "df_res = df_res.drop_duplicates() # Remove deplicated users\n",
    "\n",
    "print(df_users.info(), df_res.info())"
   ]
  },
  {
   "cell_type": "code",
   "execution_count": 97,
   "metadata": {},
   "outputs": [
    {
     "name": "stdout",
     "output_type": "stream",
     "text": [
      "FN; 26955 \t\tTP: 1022\n"
     ]
    }
   ],
   "source": [
    "un_acc_log = AccessLog(df_users, df_res)\n",
    "\n",
    "# Compute access log universal\n",
    "un_acc_log.compute_universal_al()\n",
    "\n",
    "# Compute the decision for each access requests\n",
    "un_acc_log.policy_evaluation(policy_un)"
   ]
  },
  {
   "cell_type": "code",
   "execution_count": 99,
   "metadata": {},
   "outputs": [
    {
     "data": {
      "image/png": "[encoded data removed]",
      "text/plain": [
       "<Figure size 720x360 with 1 Axes>"
      ]
     },
     "metadata": {
      "needs_background": "light"
     },
     "output_type": "display_data"
    }
   ],
   "source": [
    "data_ = un_acc_log.universal_access_log[un_acc_log.universal_access_log.ACTION==1]\n",
    "fig, ax = plt.subplots(figsize=(10, 5))\n",
    "ax.spines[['right', 'top']].set_visible(False)\n",
    "access_distri = data_.rName.value_counts(normalize=True)\n",
    "ax.bar(range(len(access_distri)), access_distri)\n",
    "ax.set_xlabel('ID resource', loc=\"left\", size=\"large\", font=fpath)\n",
    "ax.set_ylabel('$P_k$', loc=\"top\", size=\"large\", font=fpath, parse_math=True)\n",
    "ax.yaxis.set_label_coords(-0.08,0.95)\n",
    "#ax.set_title(\"Linear Binning\", loc='left', size=\"x-large\", family='monospace', x=-0, y=1, alpha=0.5)\n",
    "ax.set_title(\"Distribution of access to resources in $L^+$.\", size=\"xx-large\",  font=fpath2, x=0.29, y=1, parse_math=True)\n",
    "#plt.savefig(\"HC-AccessDistribution.svg\")\n",
    "plt.show()"
   ]
  },
  {
   "cell_type": "code",
   "execution_count": 104,
   "metadata": {},
   "outputs": [
    {
     "data": {
      "image/png": "[encoded data removed]",
      "text/plain": [
       "<Figure size 720x360 with 1 Axes>"
      ]
     },
     "metadata": {
      "needs_background": "light"
     },
     "output_type": "display_data"
    }
   ],
   "source": [
    "un_sparse_al = un_acc_log.get_sparse_al(0.5)\n",
    "fig, ax = plt.subplots(figsize=(10, 5))\n",
    "ax.spines[['right', 'top']].set_visible(False)\n",
    "access_distri = un_sparse_al[un_sparse_al.ACTION==1].rName.value_counts(normalize=True)\n",
    "ax.bar(range(len(access_distri)), access_distri)\n",
    "ax.set_xlabel('ID resource', loc=\"left\", size=\"large\", font=fpath)\n",
    "ax.set_ylabel('$P_k$', loc=\"top\", size=\"large\", font=fpath, parse_math=True)\n",
    "ax.yaxis.set_label_coords(-0.08,0.95)\n",
    "#ax.set_title(\"Linear Binning\", loc='left', size=\"x-large\", family='monospace', x=-0, y=1, alpha=0.5)\n",
    "ax.set_title(\"Distribution of access to resources in $L^+$.\", size=\"xx-large\",  font=fpath2, x=0.29, y=1, parse_math=True)\n",
    "#plt.savefig(\"HC-AccessDistribution.svg\")\n",
    "plt.show()"
   ]
  },
  {
   "cell_type": "code",
   "execution_count": 109,
   "metadata": {},
   "outputs": [
    {
     "name": "stderr",
     "output_type": "stream",
     "text": [
      "c:\\Users\\danie\\anaconda3\\envs\\tesis_env\\lib\\site-packages\\ipykernel_launcher.py:101: SettingWithCopyWarning: \n",
      "A value is trying to be set on a copy of a slice from a DataFrame.\n",
      "Try using .loc[row_indexer,col_indexer] = value instead\n",
      "\n",
      "See the caveats in the documentation: https://pandas.pydata.org/pandas-docs/stable/user_guide/indexing.html#returning-a-view-versus-a-copy\n"
     ]
    },
    {
     "data": {
      "image/png": "[encoded data removed]",
      "text/plain": [
       "<Figure size 720x360 with 1 Axes>"
      ]
     },
     "metadata": {
      "needs_background": "light"
     },
     "output_type": "display_data"
    }
   ],
   "source": [
    "un_sparse_al = un_acc_log.get_noisy_al(0.25)\n",
    "fig, ax = plt.subplots(figsize=(10, 5))\n",
    "ax.spines[['right', 'top']].set_visible(False)\n",
    "access_distri = un_sparse_al[un_sparse_al.ACTION==1].rName.value_counts(normalize=True)\n",
    "ax.bar(range(len(access_distri)), access_distri)\n",
    "ax.set_xlabel('ID resource', loc=\"left\", size=\"large\", font=fpath)\n",
    "ax.set_ylabel('$P_k$', loc=\"top\", size=\"large\", font=fpath, parse_math=True)\n",
    "ax.yaxis.set_label_coords(-0.08,0.95)\n",
    "#ax.set_title(\"Linear Binning\", loc='left', size=\"x-large\", family='monospace', x=-0, y=1, alpha=0.5)\n",
    "ax.set_title(\"Distribution of access to resources in $L^+$.\", size=\"xx-large\",  font=fpath2, x=0.29, y=1, parse_math=True)\n",
    "#plt.savefig(\"HC-AccessDistribution.svg\")\n",
    "plt.show()"
   ]
  }
 ],
 "metadata": {
  "kernelspec": {
   "display_name": "tesis_env",
   "language": "python",
   "name": "python3"
  },
  "language_info": {
   "codemirror_mode": {
    "name": "ipython",
    "version": 3
   },
   "file_extension": ".py",
   "mimetype": "text/x-python",
   "name": "python",
   "nbconvert_exporter": "python",
   "pygments_lexer": "ipython3",
   "version": "3.7.13"
  },
  "orig_nbformat": 4
 },
 "nbformat": 4,
 "nbformat_minor": 2
}
