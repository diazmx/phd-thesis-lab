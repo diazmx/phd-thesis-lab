{
 "cells": [
  {
   "cell_type": "code",
   "execution_count": 7,
   "metadata": {},
   "outputs": [],
   "source": [
    "### Import libraries\n",
    "\n",
    "import igraph as ig\n",
    "from auxiliar_bb import noise_corrected, disparity\n",
    "from auxiliar_projections_large import apply_projection, multiply_weigt, remove_zeros\n",
    "from time import time\n",
    "import matplotlib.pyplot as plt"
   ]
  },
  {
   "cell_type": "code",
   "execution_count": 8,
   "metadata": {},
   "outputs": [],
   "source": [
    "##### **** Variables selection **** #####\n",
    "\n",
    "DATASET = \"AMZ\"\n",
    "DATASET_PATH = \"01-AMZ\"\n",
    "FILENAME = \"../00-Data/\"+DATASET_PATH+\"/02-Graphs/binet-\"+DATASET+\"-Rw.graphml\"\n",
    "PROJ_NAME = \"weights\"  # simple weights vector master hyperbolic resall\n",
    "THRESHOLD_NODES = 2\n",
    "alpha = [0.05, 0.1, 0.15, 0.2]"
   ]
  },
  {
   "cell_type": "code",
   "execution_count": 9,
   "metadata": {},
   "outputs": [
    {
     "name": "stdout",
     "output_type": "stream",
     "text": [
      "IGRAPH U-WT 17079 32769 -- \n",
      "+ attr: frequency (v), id (v), type (v), weight (e)\n",
      "\n",
      "The graph IS bipartite\n",
      "|U|= 9561  \t|R|= 7518  \t|U|+|R|= 17079 = 17079\n",
      "\n"
     ]
    }
   ],
   "source": [
    "##### **** Selection of dataset **** #####\n",
    "\n",
    "g = ig.read(FILENAME)\n",
    "print(g.summary())\n",
    "print()\n",
    "\n",
    "user_nodes = g.vs.select(type=0)\n",
    "res_nodes = g.vs.select(type=1)\n",
    "\n",
    "if(g.is_bipartite()): # Check if the the graph is bipartite\n",
    "    print(\"The graph IS bipartite\")\n",
    "else:\n",
    "    print(\"The graph IS NOT bipartite\")\n",
    "    exit()\n",
    "print(\"|U|=\",len(user_nodes), \" \\t|R|=\",len(res_nodes), \" \\t|U|+|R|=\",len(user_nodes)+len(res_nodes), \"=\", g.vcount())\n",
    "print()"
   ]
  },
  {
   "cell_type": "code",
   "execution_count": 12,
   "metadata": {},
   "outputs": [
    {
     "name": "stdout",
     "output_type": "stream",
     "text": [
      "IGRAPH U-WT 9561 1253277 -- \n",
      "+ attr: frequency (v), id (v), type (v), weight (e)\n"
     ]
    },
    {
     "data": {
      "text/plain": [
       "'for i in user_graph.vs():\\n    print(i)\\nprint()\\nfor i in user_graph.es():\\n    print(i)\\nprint(\"Done PROJ1\")'"
      ]
     },
     "execution_count": 12,
     "metadata": {},
     "output_type": "execute_result"
    }
   ],
   "source": [
    "##### **** Projection **** #####\n",
    "#user_graph = apply_projection(g, PROJ_NAME, len(user_nodes), True)\n",
    "user_graph = apply_projection(g, \"master\", len(user_nodes), False)\n",
    "print(user_graph.summary())\n",
    "\"\"\"for i in user_graph.vs():\n",
    "    print(i)\n",
    "print()\n",
    "for i in user_graph.es():\n",
    "    print(i)\n",
    "print(\"Done PROJ1\")\"\"\"\n",
    "#fig, ax = plt.subplots()\n",
    "#ig.plot(user_graph, target=ax, vertex_label=user_graph.vs[\"id\"], edge_label=user_graph.es()[\"weight\"])\n"
   ]
  },
  {
   "cell_type": "code",
   "execution_count": 14,
   "metadata": {},
   "outputs": [
    {
     "name": "stdout",
     "output_type": "stream",
     "text": [
      "IGRAPH U-WT 7518 72277 -- \n",
      "+ attr: frequency (v), id (v), type (v), weight (e)\n"
     ]
    },
    {
     "data": {
      "text/plain": [
       "'for i in rsrs_graph.vs():\\n    print(i)\\nprint()\\nfor i in rsrs_graph.es():\\n    print(i)\\nprint(\"Done PROJ2\")\\nfig, ax = plt.subplots()\\nig.plot(rsrs_graph, target=ax, vertex_label=rsrs_graph.vs()[\"id\"],edge_label=rsrs_graph.es()[\"weight\"])'"
      ]
     },
     "execution_count": 14,
     "metadata": {},
     "output_type": "execute_result"
    }
   ],
   "source": [
    "rsrs_graph = apply_projection(g, \"master\", len(user_nodes), True)\n",
    "print(rsrs_graph.summary())\n",
    "\"\"\"for i in rsrs_graph.vs():\n",
    "    print(i)\n",
    "print()\n",
    "for i in rsrs_graph.es():\n",
    "    print(i)\n",
    "print(\"Done PROJ2\")\n",
    "fig, ax = plt.subplots()\n",
    "ig.plot(rsrs_graph, target=ax, vertex_label=rsrs_graph.vs()[\"id\"],edge_label=rsrs_graph.es()[\"weight\"])\"\"\""
   ]
  }
 ],
 "metadata": {
  "kernelspec": {
   "display_name": "Python 3 (ipykernel)",
   "language": "python",
   "name": "python3"
  }
 },
 "nbformat": 4,
 "nbformat_minor": 2
}
