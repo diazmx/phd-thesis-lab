{
 "cells": [
  {
   "cell_type": "code",
   "execution_count": 2,
   "metadata": {},
   "outputs": [],
   "source": [
    "import igraph as ig\n",
    "import pandas as pd\n",
    "import numpy as np\n",
    "import matplotlib.pyplot as plt"
   ]
  },
  {
   "cell_type": "code",
   "execution_count": null,
   "metadata": {},
   "outputs": [
    {
     "name": "stdout",
     "output_type": "stream",
     "text": [
      "<class 'pandas.core.frame.DataFrame'>\n",
      "RangeIndex: 100 entries, 0 to 99\n",
      "Data columns (total 3 columns):\n",
      " #   Column  Non-Null Count  Dtype\n",
      "---  ------  --------------  -----\n",
      " 0   uname   100 non-null    int64\n",
      " 1   rname   100 non-null    int64\n",
      " 2   ACTION  100 non-null    int64\n",
      "dtypes: int64(3)\n",
      "memory usage: 2.5 KB\n",
      "None\n"
     ]
    },
    {
     "data": {
      "text/html": [
       "<div>\n",
       "<style scoped>\n",
       "    .dataframe tbody tr th:only-of-type {\n",
       "        vertical-align: middle;\n",
       "    }\n",
       "\n",
       "    .dataframe tbody tr th {\n",
       "        vertical-align: top;\n",
       "    }\n",
       "\n",
       "    .dataframe thead th {\n",
       "        text-align: right;\n",
       "    }\n",
       "</style>\n",
       "<table border=\"1\" class=\"dataframe\">\n",
       "  <thead>\n",
       "    <tr style=\"text-align: right;\">\n",
       "      <th></th>\n",
       "      <th>uname</th>\n",
       "      <th>rname</th>\n",
       "      <th>ACTION</th>\n",
       "    </tr>\n",
       "  </thead>\n",
       "  <tbody>\n",
       "    <tr>\n",
       "      <th>0</th>\n",
       "      <td>1</td>\n",
       "      <td>1</td>\n",
       "      <td>1</td>\n",
       "    </tr>\n",
       "    <tr>\n",
       "      <th>1</th>\n",
       "      <td>1</td>\n",
       "      <td>1</td>\n",
       "      <td>1</td>\n",
       "    </tr>\n",
       "    <tr>\n",
       "      <th>2</th>\n",
       "      <td>1</td>\n",
       "      <td>1</td>\n",
       "      <td>1</td>\n",
       "    </tr>\n",
       "    <tr>\n",
       "      <th>3</th>\n",
       "      <td>1</td>\n",
       "      <td>1</td>\n",
       "      <td>1</td>\n",
       "    </tr>\n",
       "    <tr>\n",
       "      <th>4</th>\n",
       "      <td>1</td>\n",
       "      <td>1</td>\n",
       "      <td>1</td>\n",
       "    </tr>\n",
       "    <tr>\n",
       "      <th>...</th>\n",
       "      <td>...</td>\n",
       "      <td>...</td>\n",
       "      <td>...</td>\n",
       "    </tr>\n",
       "    <tr>\n",
       "      <th>95</th>\n",
       "      <td>9</td>\n",
       "      <td>5</td>\n",
       "      <td>1</td>\n",
       "    </tr>\n",
       "    <tr>\n",
       "      <th>96</th>\n",
       "      <td>9</td>\n",
       "      <td>5</td>\n",
       "      <td>1</td>\n",
       "    </tr>\n",
       "    <tr>\n",
       "      <th>97</th>\n",
       "      <td>9</td>\n",
       "      <td>5</td>\n",
       "      <td>1</td>\n",
       "    </tr>\n",
       "    <tr>\n",
       "      <th>98</th>\n",
       "      <td>9</td>\n",
       "      <td>5</td>\n",
       "      <td>1</td>\n",
       "    </tr>\n",
       "    <tr>\n",
       "      <th>99</th>\n",
       "      <td>9</td>\n",
       "      <td>5</td>\n",
       "      <td>1</td>\n",
       "    </tr>\n",
       "  </tbody>\n",
       "</table>\n",
       "<p>100 rows × 3 columns</p>\n",
       "</div>"
      ],
      "text/plain": [
       "    uname  rname  ACTION\n",
       "0       1      1       1\n",
       "1       1      1       1\n",
       "2       1      1       1\n",
       "3       1      1       1\n",
       "4       1      1       1\n",
       "..    ...    ...     ...\n",
       "95      9      5       1\n",
       "96      9      5       1\n",
       "97      9      5       1\n",
       "98      9      5       1\n",
       "99      9      5       1\n",
       "\n",
       "[100 rows x 3 columns]"
      ]
     },
     "execution_count": 13,
     "metadata": {},
     "output_type": "execute_result"
    }
   ],
   "source": [
    "### Creation of dataset in csv\n",
    "\n",
    "data = [[1,1],[1,1],[1,1],[1,1],[1,1],[1,1],[1,1],[1,1],[1,1],[1,1],[1,1],\n",
    "        [2,2],[2,1],[2,2],[2,2],[2,2],[2,1],[2,2],[2,1],\n",
    "        [3,1],[3,1],[3,1],[3,1],[3,1],[3,1],[3,1],[3,2],[3,2],[3,2],[3,2],[3,2],\n",
    "        [3,2],[3,2],[3,2],[3,2],[3,2],[3,2],[3,2],[3,2],[3,2],[3,2],[3,2],[3,2],\n",
    "        [3,2],[3,2],[3,2],[5,1],[5,1],[5,2],[5,2],[5,2],[5,2],[5,2],[5,2],[5,2],\n",
    "        [5,2],[5,2],[5,2],[5,3],[5,3],[5,3],[5,3],[5,3],[5,5],[5,5],[5,5],[5,5],\n",
    "        [5,5],[6,2],[6,2],[6,2],[6,2],[6,3],[6,3],[6,3],[6,3],[6,3],[6,3],[6,3],\n",
    "        [6,3],[7,5],[7,5],[7,5],[7,5],[7,5],[7,5],[7,5],[7,5],[8,5],[8,5],[9,5],\n",
    "        [9,5],[9,5],[9,5],[9,5],[9,5],[9,5],[9,5],[9,5],[9,5]\n",
    "        ]\n",
    "\n",
    "df = pd.DataFrame(np.array(data), columns=[\"uname\", \"rname\"])\n",
    "df[\"ACTION\"] = 1\n",
    "print(df.info())\n",
    "df.to_csv(\"TOY-Rw.csv\")\n",
    "df"
   ]
  },
  {
   "cell_type": "code",
   "execution_count": null,
   "metadata": {},
   "outputs": [],
   "source": []
  },
  {
   "cell_type": "code",
   "execution_count": null,
   "metadata": {},
   "outputs": [],
   "source": []
  },
  {
   "cell_type": "code",
   "execution_count": 7,
   "metadata": {},
   "outputs": [
    {
     "name": "stdout",
     "output_type": "stream",
     "text": [
      "Nodos y frecuencias:\n",
      "Nodo 0: Frecuencia 11 - Type 0\n",
      "Nodo 1: Frecuencia 8 - Type 0\n",
      "Nodo 2: Frecuencia 9 - Type 0\n",
      "Nodo 3: Frecuencia 22 - Type 0\n",
      "Nodo 4: Frecuencia 12 - Type 0\n",
      "Nodo 5: Frecuencia 8 - Type 0\n",
      "Nodo 6: Frecuencia 2 - Type 0\n",
      "Nodo 7: Frecuencia 10 - Type 0\n",
      "Nodo 8: Frecuencia 23 - Type 1\n",
      "Nodo 9: Frecuencia 39 - Type 1\n",
      "Nodo 10: Frecuencia 13 - Type 1\n",
      "Nodo 11: Frecuencia 25 - Type 1\n",
      "\n",
      "Aristas y pesos:\n",
      "Arista (0, 8): Peso 11\n",
      "Arista (1, 8): Peso 3\n",
      "Arista (1, 9): Peso 5\n",
      "Arista (2, 8): Peso 7\n",
      "Arista (2, 9): Peso 20\n",
      "Arista (3, 8): Peso 2\n",
      "Arista (3, 9): Peso 10\n",
      "Arista (3, 10): Peso 5\n",
      "Arista (3, 11): Peso 5\n",
      "Arista (4, 9): Peso 4\n",
      "Arista (4, 10): Peso 8\n",
      "Arista (5, 11): Peso 8\n",
      "Arista (6, 11): Peso 2\n",
      "Arista (7, 11): Peso 10\n",
      "Is bipartite? = True\n"
     ]
    }
   ],
   "source": [
    "# Ejemplo de dataframe de entrada\n",
    "df = pd.DataFrame({\n",
    "    'source': [1, 2, 2, 3, 3, 4, 4, 4, 4, 5, 5, 6, 7, 8],\n",
    "    'target': [1, 1, 2, 1, 2, 1, 2, 3, 4, 2, 3, 4, 4, 4]\n",
    "})\n",
    "\n",
    "# Obtener identificadores únicos por tipo\n",
    "unique_source = sorted(df['source'].unique())  # Nodos tipo 1\n",
    "unique_target = sorted(df['target'].unique())  # Nodos tipo 2\n",
    "\n",
    "# Crear nuevo mapeo de IDs\n",
    "source_mapping = {old_id: new_id for new_id, old_id in enumerate(unique_source)}\n",
    "start_target_id = len(unique_source)  # El primer ID del target será el último del source + 1\n",
    "target_mapping = {old_id: new_id for new_id, old_id in enumerate(unique_target, start=start_target_id)}\n",
    "\n",
    "# Aplicar el mapeo al dataframe\n",
    "df_mapped = df.replace({'source': source_mapping, 'target': target_mapping})\n",
    "\n",
    "# Contar la frecuencia correcta después del mapeo\n",
    "source_counts = df_mapped['source'].value_counts().to_dict()\n",
    "target_counts = df_mapped['target'].value_counts().to_dict()\n",
    "\n",
    "# Fusionar ambas frecuencias asegurando que no falte ningún nodo\n",
    "node_frequencies = {node: source_counts.get(node, 0) + target_counts.get(node, 0) for node in range(len(source_mapping) + len(target_mapping))}\n",
    "\n",
    "# Contar la frecuencia de cada arista después del mapeo\n",
    "edge_counts = df_mapped.groupby(['source', 'target']).size().to_dict()\n",
    "\n",
    "# Crear el grafo bipartito en igraph\n",
    "edges = list(edge_counts.keys())  # Lista de aristas sin duplicados\n",
    "g = ig.Graph(edges=edges, directed=False)\n",
    "\n",
    "# Etiquetar los nodos con su tipo\n",
    "g.vs['type'] = [0] * len(source_mapping) + [1] * len(target_mapping)  # 0 para tipo 1, 1 para tipo 2\n",
    "\n",
    "freq = [11, 8, 9, 22, 12, 8, 2, 10, 23, 39, 13, 25]\n",
    "# Agregar el atributo de frecuencia de los nodos\n",
    "g.vs['frequency'] = freq\n",
    "\n",
    "weigts = [11, 3, 5, 7, 20, 2, 10, 5, 5, 4, 8, 8, 2, 10]\n",
    "# Agregar el atributo de peso a las aristas\n",
    "g.es['weight'] = weigts\n",
    "\n",
    "# Mostrar nodos con sus frecuencias\n",
    "print(\"Nodos y frecuencias:\")\n",
    "for v, f, z in zip(g.vs.indices, g.vs['frequency'], g.vs[\"type\"]):\n",
    "    print(f\"Nodo {v}: Frecuencia {f} - Type {z}\")\n",
    "\n",
    "# Mostrar aristas con sus pesos\n",
    "print(\"\\nAristas y pesos:\")\n",
    "for edge, weight in zip(g.get_edgelist(), g.es['weight']):\n",
    "    print(f\"Arista {edge}: Peso {weight}\")\n",
    "\n",
    "print(f\"Is bipartite? = {g.is_bipartite()}\")\n"
   ]
  },
  {
   "cell_type": "code",
   "execution_count": 8,
   "metadata": {},
   "outputs": [],
   "source": [
    "### Change color\n",
    "color_map = []\n",
    "for nodetype in g.vs[\"type\"]:\n",
    "    if nodetype == 0:\n",
    "        color_map.append(\"red\")\n",
    "    else:\n",
    "        color_map.append(\"blue\")"
   ]
  },
  {
   "cell_type": "code",
   "execution_count": 9,
   "metadata": {},
   "outputs": [
    {
     "data": {
      "text/plain": [
       "<igraph.drawing.matplotlib.graph.GraphArtist at 0x117b21270>"
      ]
     },
     "execution_count": 9,
     "metadata": {},
     "output_type": "execute_result"
    },
    {
     "data": {
      "image/png": "[encoded data removed]",
      "text/plain": [
       "<Figure size 640x480 with 1 Axes>"
      ]
     },
     "metadata": {},
     "output_type": "display_data"
    }
   ],
   "source": [
    "fig, ax = plt.subplots()\n",
    "ig.plot(g, target=ax, vertex_color=color_map)"
   ]
  },
  {
   "cell_type": "code",
   "execution_count": 10,
   "metadata": {},
   "outputs": [],
   "source": [
    "g.write_graphml(\"TOY-GRAPH.graphml\")"
   ]
  }
 ],
 "metadata": {
  "kernelspec": {
   "display_name": "Python 3 (ipykernel)",
   "language": "python",
   "name": "python3"
  },
  "language_info": {
   "codemirror_mode": {
    "name": "ipython",
    "version": 3
   },
   "file_extension": ".py",
   "mimetype": "text/x-python",
   "name": "python",
   "nbconvert_exporter": "python",
   "pygments_lexer": "ipython3",
   "version": "3.10.9"
  }
 },
 "nbformat": 4,
 "nbformat_minor": 2
}
