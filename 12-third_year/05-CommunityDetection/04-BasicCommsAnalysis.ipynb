{
 "cells": [
  {
   "cell_type": "code",
   "execution_count": 1,
   "metadata": {},
   "outputs": [],
   "source": [
    "### Import libraries\n",
    "\n",
    "import pandas as pd\n",
    "import igraph as ig\n",
    "import auxiliar_path\n",
    "import numpy as np\n",
    "import matplotlib.pyplot as plt"
   ]
  },
  {
   "cell_type": "code",
   "execution_count": 5,
   "metadata": {},
   "outputs": [],
   "source": [
    "### Global variables\n",
    "### Global variables\n",
    "\n",
    "DATASET = \"AMZ\" # AMZ, HC, PM, UN, TOY\n",
    "NODE_TYPE = True\n",
    "\n",
    "PATH_DATASET = auxiliar_path.get_path_dataset(DATASET)\n",
    "PATH_NODETYPE = auxiliar_path.get_path_topbot(NODE_TYPE)\n",
    "\n",
    "GLOBAL_PATH = \"/Users/ddiaz/Documents/code/phd-thesis-lab/\"\n",
    "\n",
    "# File CSV\n",
    "### GLOBAL variables\n",
    "\n",
    "GRAPH_PATH = \"/Users/ddiaz/Documents/code/phd-thesis-lab/12-third_year/00-Data/01-AMZ/02-Graphs/01-Top/AMZ_top_resall_DF_alpha2.graphml\"\n",
    "#GRAPH_PATH = \"/Users/ddiaz/Documents/code/phd-thesis-lab/12-third_year/00-Data/02-HC/02-Graphs/02-Bot/HC_bot_weights_DF_alpha05.graphml\""
   ]
  },
  {
   "cell_type": "code",
   "execution_count": 6,
   "metadata": {},
   "outputs": [
    {
     "name": "stdout",
     "output_type": "stream",
     "text": [
      "IGRAPH U-WT 9560 162026 -- \n",
      "+ attr: freq (v), id (v), type (v), weight (e) \n",
      "\n",
      "Graph info:\n",
      "\t|V| = 9560\n",
      "\t|E| = 162026\n",
      "\t d  = 0.00354604589597921\n"
     ]
    },
    {
     "name": "stderr",
     "output_type": "stream",
     "text": [
      "/Users/ddiaz/Documents/code/envs/tesis/lib/python3.10/site-packages/igraph/io/files.py:295: RuntimeWarning: Could not add vertex ids, there is already an 'id' vertex attribute. at src/io/graphml.c:488\n",
      "  return reader(f, *args, **kwds)\n"
     ]
    }
   ],
   "source": [
    "### Read GRAPH\n",
    "\n",
    "g = ig.read(GRAPH_PATH)\n",
    "print(g.summary(), \"\\n\")\n",
    "\n",
    "print(\"Graph info:\")\n",
    "print(\"\\t|V| =\", g.vcount())\n",
    "print(\"\\t|E| =\", g.ecount())\n",
    "print(\"\\t d  =\", g.density())"
   ]
  },
  {
   "cell_type": "code",
   "execution_count": 7,
   "metadata": {},
   "outputs": [
    {
     "name": "stdout",
     "output_type": "stream",
     "text": [
      "Clustering with 9560 elements and 423 clusters \n",
      "\n"
     ]
    }
   ],
   "source": [
    "### Community Detection\n",
    "\n",
    "comms = g.community_multilevel(weights=g.es[\"weight\"])\n",
    "g.vs[\"cls\"] = comms.membership\n",
    "print(comms.summary(), \"\\n\")"
   ]
  },
  {
   "cell_type": "code",
   "execution_count": 45,
   "metadata": {},
   "outputs": [
    {
     "data": {
      "text/plain": [
       "{0: <igraph.Graph at 0x132d7e840>,\n",
       " 1: <igraph.Graph at 0x132d7dc40>,\n",
       " 2: <igraph.Graph at 0x132d7dd40>,\n",
       " 3: <igraph.Graph at 0x132d7e740>,\n",
       " 4: <igraph.Graph at 0x132d7eb40>,\n",
       " 5: <igraph.Graph at 0x132d7e340>,\n",
       " 6: <igraph.Graph at 0x132d7ec40>,\n",
       " 7: <igraph.Graph at 0x132d7ee40>,\n",
       " 8: <igraph.Graph at 0x132d7f040>,\n",
       " 9: <igraph.Graph at 0x132d7f140>,\n",
       " 10: <igraph.Graph at 0x132d7f240>,\n",
       " 11: <igraph.Graph at 0x132d7f340>,\n",
       " 12: <igraph.Graph at 0x132d7f440>,\n",
       " 13: <igraph.Graph at 0x132d7f540>,\n",
       " 14: <igraph.Graph at 0x132d7f640>,\n",
       " 15: <igraph.Graph at 0x132d7f840>,\n",
       " 16: <igraph.Graph at 0x132d7f940>,\n",
       " 17: <igraph.Graph at 0x132d7fa40>,\n",
       " 20: <igraph.Graph at 0x132d7cb40>,\n",
       " 21: <igraph.Graph at 0x132d7cd40>,\n",
       " 22: <igraph.Graph at 0x132d7ca40>,\n",
       " 23: <igraph.Graph at 0x132d7cf40>,\n",
       " 24: <igraph.Graph at 0x132d7d040>,\n",
       " 25: <igraph.Graph at 0x132d7d240>,\n",
       " 27: <igraph.Graph at 0x132d7d440>,\n",
       " 30: <igraph.Graph at 0x132d7d840>,\n",
       " 35: <igraph.Graph at 0x132d7de40>,\n",
       " 37: <igraph.Graph at 0x132d7e040>,\n",
       " 45: <igraph.Graph at 0x132d7fe40>,\n",
       " 52: <igraph.Graph at 0x13023c340>,\n",
       " 61: <igraph.Graph at 0x13023f640>,\n",
       " 73: <igraph.Graph at 0x13023f740>}"
      ]
     },
     "execution_count": 45,
     "metadata": {},
     "output_type": "execute_result"
    }
   ],
   "source": [
    "comms_with_one = {subgraph.vs[\"cls\"][0]: subgraph for i, subgraph in enumerate(comms.subgraphs()) if len(subgraph.vs) > 5}\n",
    "comms_with_one"
   ]
  },
  {
   "cell_type": "code",
   "execution_count": 26,
   "metadata": {},
   "outputs": [],
   "source": [
    "def internal_external_degree_node(node):\n",
    "    \"\"\"Compute the internal degree k_i^int of node i in a community C.\"\"\"\n",
    "    node_neighs = node.neighbors()\n",
    "    node_community = node[\"cls\"]\n",
    "\n",
    "    internal_degree = [1 for i in node_neighs if i[\"cls\"]==node_community]\n",
    "    external_degree = [1 for i in node_neighs if i[\"cls\"]!=node_community]\n",
    "    \n",
    "    return sum(internal_degree), sum(external_degree)\n",
    "\n",
    "def check_strong_community(graph, communities):\n",
    "    \"\"\"Returns if it is a strong community.\"\"\"\n",
    "\n",
    "    dict_to_ret = {}\n",
    "\n",
    "    for C in communities.keys():\n",
    "        "
   ]
  },
  {
   "cell_type": "code",
   "execution_count": 27,
   "metadata": {},
   "outputs": [
    {
     "data": {
      "text/plain": [
       "(10, 9)"
      ]
     },
     "execution_count": 27,
     "metadata": {},
     "output_type": "execute_result"
    }
   ],
   "source": [
    "internal_external_degree_node(test_node)"
   ]
  },
  {
   "cell_type": "code",
   "execution_count": 19,
   "metadata": {},
   "outputs": [
    {
     "data": {
      "text/plain": [
       "[igraph.Vertex(<igraph.Graph object at 0x132c70040>, 23, {'id': 23.0, 'type': 0.0, 'freq': 24.0, 'cls': 0}),\n",
       " igraph.Vertex(<igraph.Graph object at 0x132c70040>, 247, {'id': 247.0, 'type': 0.0, 'freq': 10.0, 'cls': 0}),\n",
       " igraph.Vertex(<igraph.Graph object at 0x132c70040>, 254, {'id': 254.0, 'type': 0.0, 'freq': 24.0, 'cls': 0}),\n",
       " igraph.Vertex(<igraph.Graph object at 0x132c70040>, 366, {'id': 366.0, 'type': 0.0, 'freq': 16.0, 'cls': 5}),\n",
       " igraph.Vertex(<igraph.Graph object at 0x132c70040>, 1190, {'id': 1190.0, 'type': 0.0, 'freq': 18.0, 'cls': 0}),\n",
       " igraph.Vertex(<igraph.Graph object at 0x132c70040>, 1644, {'id': 1644.0, 'type': 0.0, 'freq': 16.0, 'cls': 5}),\n",
       " igraph.Vertex(<igraph.Graph object at 0x132c70040>, 1705, {'id': 1705.0, 'type': 0.0, 'freq': 10.0, 'cls': 0}),\n",
       " igraph.Vertex(<igraph.Graph object at 0x132c70040>, 1896, {'id': 1896.0, 'type': 0.0, 'freq': 6.0, 'cls': 0}),\n",
       " igraph.Vertex(<igraph.Graph object at 0x132c70040>, 1958, {'id': 1958.0, 'type': 0.0, 'freq': 4.0, 'cls': 0}),\n",
       " igraph.Vertex(<igraph.Graph object at 0x132c70040>, 2161, {'id': 2161.0, 'type': 0.0, 'freq': 14.0, 'cls': 5}),\n",
       " igraph.Vertex(<igraph.Graph object at 0x132c70040>, 2174, {'id': 2174.0, 'type': 0.0, 'freq': 8.0, 'cls': 5}),\n",
       " igraph.Vertex(<igraph.Graph object at 0x132c70040>, 2181, {'id': 2181.0, 'type': 0.0, 'freq': 6.0, 'cls': 5}),\n",
       " igraph.Vertex(<igraph.Graph object at 0x132c70040>, 2639, {'id': 2639.0, 'type': 0.0, 'freq': 2.0, 'cls': 0}),\n",
       " igraph.Vertex(<igraph.Graph object at 0x132c70040>, 3194, {'id': 3194.0, 'type': 0.0, 'freq': 12.0, 'cls': 5}),\n",
       " igraph.Vertex(<igraph.Graph object at 0x132c70040>, 3491, {'id': 3491.0, 'type': 0.0, 'freq': 14.0, 'cls': 5}),\n",
       " igraph.Vertex(<igraph.Graph object at 0x132c70040>, 4348, {'id': 4348.0, 'type': 0.0, 'freq': 18.0, 'cls': 0}),\n",
       " igraph.Vertex(<igraph.Graph object at 0x132c70040>, 4500, {'id': 4500.0, 'type': 0.0, 'freq': 12.0, 'cls': 0}),\n",
       " igraph.Vertex(<igraph.Graph object at 0x132c70040>, 4979, {'id': 4979.0, 'type': 0.0, 'freq': 8.0, 'cls': 5}),\n",
       " igraph.Vertex(<igraph.Graph object at 0x132c70040>, 7137, {'id': 7137.0, 'type': 0.0, 'freq': 10.0, 'cls': 5})]"
      ]
     },
     "execution_count": 19,
     "metadata": {},
     "output_type": "execute_result"
    }
   ],
   "source": [
    "neis"
   ]
  }
 ],
 "metadata": {
  "kernelspec": {
   "display_name": "Python 3 (ipykernel)",
   "language": "python",
   "name": "python3"
  },
  "language_info": {
   "codemirror_mode": {
    "name": "ipython",
    "version": 3
   },
   "file_extension": ".py",
   "mimetype": "text/x-python",
   "name": "python",
   "nbconvert_exporter": "python",
   "pygments_lexer": "ipython3",
   "version": "3.10.9"
  }
 },
 "nbformat": 4,
 "nbformat_minor": 2
}
