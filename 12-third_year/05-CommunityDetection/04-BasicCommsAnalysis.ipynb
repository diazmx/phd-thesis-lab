{
 "cells": [
  {
   "cell_type": "code",
   "execution_count": 1,
   "metadata": {},
   "outputs": [],
   "source": [
    "### Import libraries\n",
    "\n",
    "import pandas as pd\n",
    "import igraph as ig\n",
    "import auxiliar_path\n",
    "import numpy as np\n",
    "import matplotlib.pyplot as plt"
   ]
  },
  {
   "cell_type": "code",
   "execution_count": null,
   "metadata": {},
   "outputs": [],
   "source": [
    "### Global variables\n",
    "### Global variables\n",
    "\n",
    "DATASET = \"AMZ\" # AMZ, HC, PM, UN, TOY\n",
    "NODE_TYPE = True\n",
    "\n",
    "PATH_DATASET = auxiliar_path.get_path_dataset(DATASET)\n",
    "PATH_NODETYPE = auxiliar_path.get_path_topbot(NODE_TYPE)\n",
    "\n",
    "GLOBAL_PATH = \"/Users/ddiaz/Documents/code/phd-thesis-lab/\"\n",
    "\n",
    "# File CSV\n",
    "### GLOBAL variables\n",
    "\n",
    "GRAPH_PATH = \"/Users/ddiaz/Documents/code/phd-thesis-lab/12-third_year/00-Data/01-AMZ/02-Graphs/01-Top/AMZ_top_resall_DF_alpha2.graphml\"\n",
    "#GRAPH_PATH = \"/Users/ddiaz/Documents/code/phd-thesis-lab/12-third_year/00-Data/02-HC/02-Graphs/02-Bot/HC_bot_weights_DF_alpha05.graphml\"\n",
    "GRAPH_PATH = \"../\""
   ]
  },
  {
   "cell_type": "code",
   "execution_count": 3,
   "metadata": {},
   "outputs": [
    {
     "ename": "FileNotFoundError",
     "evalue": "[Errno 2] No such file or directory: '/Users/ddiaz/Documents/code/phd-thesis-lab/12-third_year/00-Data/01-AMZ/02-Graphs/01-Top/AMZ_top_resall_DF_alpha2.graphml'",
     "output_type": "error",
     "traceback": [
      "\u001b[0;31m---------------------------------------------------------------------------\u001b[0m",
      "\u001b[0;31mFileNotFoundError\u001b[0m                         Traceback (most recent call last)",
      "Cell \u001b[0;32mIn[3], line 3\u001b[0m\n\u001b[1;32m      1\u001b[0m \u001b[38;5;66;03m### Read GRAPH\u001b[39;00m\n\u001b[0;32m----> 3\u001b[0m g \u001b[38;5;241m=\u001b[39m \u001b[43mig\u001b[49m\u001b[38;5;241;43m.\u001b[39;49m\u001b[43mread\u001b[49m\u001b[43m(\u001b[49m\u001b[43mGRAPH_PATH\u001b[49m\u001b[43m)\u001b[49m\n\u001b[1;32m      4\u001b[0m \u001b[38;5;28mprint\u001b[39m(g\u001b[38;5;241m.\u001b[39msummary(), \u001b[38;5;124m\"\u001b[39m\u001b[38;5;130;01m\\n\u001b[39;00m\u001b[38;5;124m\"\u001b[39m)\n\u001b[1;32m      6\u001b[0m \u001b[38;5;28mprint\u001b[39m(\u001b[38;5;124m\"\u001b[39m\u001b[38;5;124mGraph info:\u001b[39m\u001b[38;5;124m\"\u001b[39m)\n",
      "File \u001b[0;32m~/miniconda3/envs/tesis/lib/python3.10/site-packages/igraph/__init__.py:5270\u001b[0m, in \u001b[0;36mread\u001b[0;34m(filename, *args, **kwds)\u001b[0m\n\u001b[1;32m   5262\u001b[0m \u001b[38;5;28;01mdef\u001b[39;00m \u001b[38;5;21mread\u001b[39m(filename, \u001b[38;5;241m*\u001b[39margs, \u001b[38;5;241m*\u001b[39m\u001b[38;5;241m*\u001b[39mkwds):\n\u001b[1;32m   5263\u001b[0m \u001b[38;5;250m    \u001b[39m\u001b[38;5;124;03m\"\"\"Loads a graph from the given filename.\u001b[39;00m\n\u001b[1;32m   5264\u001b[0m \n\u001b[1;32m   5265\u001b[0m \u001b[38;5;124;03m    This is just a convenience function, calls L{Graph.Read} directly.\u001b[39;00m\n\u001b[0;32m   (...)\u001b[0m\n\u001b[1;32m   5268\u001b[0m \u001b[38;5;124;03m    @param filename: the name of the file to be loaded\u001b[39;00m\n\u001b[1;32m   5269\u001b[0m \u001b[38;5;124;03m    \"\"\"\u001b[39;00m\n\u001b[0;32m-> 5270\u001b[0m     \u001b[38;5;28;01mreturn\u001b[39;00m \u001b[43mGraph\u001b[49m\u001b[38;5;241;43m.\u001b[39;49m\u001b[43mRead\u001b[49m\u001b[43m(\u001b[49m\u001b[43mfilename\u001b[49m\u001b[43m,\u001b[49m\u001b[43m \u001b[49m\u001b[38;5;241;43m*\u001b[39;49m\u001b[43margs\u001b[49m\u001b[43m,\u001b[49m\u001b[43m \u001b[49m\u001b[38;5;241;43m*\u001b[39;49m\u001b[38;5;241;43m*\u001b[39;49m\u001b[43mkwds\u001b[49m\u001b[43m)\u001b[49m\n",
      "File \u001b[0;32m~/miniconda3/envs/tesis/lib/python3.10/site-packages/igraph/__init__.py:2929\u001b[0m, in \u001b[0;36mGraph.Read\u001b[0;34m(cls, f, format, *args, **kwds)\u001b[0m\n\u001b[1;32m   2927\u001b[0m     \u001b[38;5;28;01mraise\u001b[39;00m \u001b[38;5;167;01mIOError\u001b[39;00m(\u001b[38;5;124m\"\u001b[39m\u001b[38;5;124mno reader method for file format: \u001b[39m\u001b[38;5;132;01m%s\u001b[39;00m\u001b[38;5;124m\"\u001b[39m \u001b[38;5;241m%\u001b[39m \u001b[38;5;28mstr\u001b[39m(\u001b[38;5;28mformat\u001b[39m))\n\u001b[1;32m   2928\u001b[0m reader \u001b[38;5;241m=\u001b[39m \u001b[38;5;28mgetattr\u001b[39m(\u001b[38;5;28mcls\u001b[39m, reader)\n\u001b[0;32m-> 2929\u001b[0m \u001b[38;5;28;01mreturn\u001b[39;00m \u001b[43mreader\u001b[49m\u001b[43m(\u001b[49m\u001b[43mf\u001b[49m\u001b[43m,\u001b[49m\u001b[43m \u001b[49m\u001b[38;5;241;43m*\u001b[39;49m\u001b[43margs\u001b[49m\u001b[43m,\u001b[49m\u001b[43m \u001b[49m\u001b[38;5;241;43m*\u001b[39;49m\u001b[38;5;241;43m*\u001b[39;49m\u001b[43mkwds\u001b[49m\u001b[43m)\u001b[49m\n",
      "\u001b[0;31mFileNotFoundError\u001b[0m: [Errno 2] No such file or directory: '/Users/ddiaz/Documents/code/phd-thesis-lab/12-third_year/00-Data/01-AMZ/02-Graphs/01-Top/AMZ_top_resall_DF_alpha2.graphml'"
     ]
    }
   ],
   "source": [
    "### Read GRAPH\n",
    "\n",
    "g = ig.read(GRAPH_PATH)\n",
    "print(g.summary(), \"\\n\")\n",
    "\n",
    "print(\"Graph info:\")\n",
    "print(\"\\t|V| =\", g.vcount())\n",
    "print(\"\\t|E| =\", g.ecount())\n",
    "print(\"\\t d  =\", g.density())"
   ]
  },
  {
   "cell_type": "code",
   "execution_count": 7,
   "metadata": {},
   "outputs": [
    {
     "name": "stdout",
     "output_type": "stream",
     "text": [
      "Clustering with 9560 elements and 423 clusters \n",
      "\n"
     ]
    }
   ],
   "source": [
    "### Community Detection\n",
    "\n",
    "comms = g.community_multilevel(weights=g.es[\"weight\"])\n",
    "g.vs[\"cls\"] = comms.membership\n",
    "print(comms.summary(), \"\\n\")"
   ]
  },
  {
   "cell_type": "code",
   "execution_count": 45,
   "metadata": {},
   "outputs": [
    {
     "data": {
      "text/plain": [
       "{0: <igraph.Graph at 0x132d7e840>,\n",
       " 1: <igraph.Graph at 0x132d7dc40>,\n",
       " 2: <igraph.Graph at 0x132d7dd40>,\n",
       " 3: <igraph.Graph at 0x132d7e740>,\n",
       " 4: <igraph.Graph at 0x132d7eb40>,\n",
       " 5: <igraph.Graph at 0x132d7e340>,\n",
       " 6: <igraph.Graph at 0x132d7ec40>,\n",
       " 7: <igraph.Graph at 0x132d7ee40>,\n",
       " 8: <igraph.Graph at 0x132d7f040>,\n",
       " 9: <igraph.Graph at 0x132d7f140>,\n",
       " 10: <igraph.Graph at 0x132d7f240>,\n",
       " 11: <igraph.Graph at 0x132d7f340>,\n",
       " 12: <igraph.Graph at 0x132d7f440>,\n",
       " 13: <igraph.Graph at 0x132d7f540>,\n",
       " 14: <igraph.Graph at 0x132d7f640>,\n",
       " 15: <igraph.Graph at 0x132d7f840>,\n",
       " 16: <igraph.Graph at 0x132d7f940>,\n",
       " 17: <igraph.Graph at 0x132d7fa40>,\n",
       " 20: <igraph.Graph at 0x132d7cb40>,\n",
       " 21: <igraph.Graph at 0x132d7cd40>,\n",
       " 22: <igraph.Graph at 0x132d7ca40>,\n",
       " 23: <igraph.Graph at 0x132d7cf40>,\n",
       " 24: <igraph.Graph at 0x132d7d040>,\n",
       " 25: <igraph.Graph at 0x132d7d240>,\n",
       " 27: <igraph.Graph at 0x132d7d440>,\n",
       " 30: <igraph.Graph at 0x132d7d840>,\n",
       " 35: <igraph.Graph at 0x132d7de40>,\n",
       " 37: <igraph.Graph at 0x132d7e040>,\n",
       " 45: <igraph.Graph at 0x132d7fe40>,\n",
       " 52: <igraph.Graph at 0x13023c340>,\n",
       " 61: <igraph.Graph at 0x13023f640>,\n",
       " 73: <igraph.Graph at 0x13023f740>}"
      ]
     },
     "execution_count": 45,
     "metadata": {},
     "output_type": "execute_result"
    }
   ],
   "source": [
    "comms_with_one = {subgraph.vs[\"cls\"][0]: subgraph for i, subgraph in enumerate(comms.subgraphs()) if len(subgraph.vs) > 5}\n",
    "comms_with_one"
   ]
  },
  {
   "cell_type": "code",
   "execution_count": 26,
   "metadata": {},
   "outputs": [],
   "source": [
    "def internal_external_degree_node(node):\n",
    "    \"\"\"Compute the internal degree k_i^int of node i in a community C.\"\"\"\n",
    "    node_neighs = node.neighbors()\n",
    "    node_community = node[\"cls\"]\n",
    "\n",
    "    internal_degree = [1 for i in node_neighs if i[\"cls\"]==node_community]\n",
    "    external_degree = [1 for i in node_neighs if i[\"cls\"]!=node_community]\n",
    "    \n",
    "    return sum(internal_degree), sum(external_degree)\n",
    "\n",
    "def check_strong_community(graph, communities):\n",
    "    \"\"\"Returns if it is a strong community.\"\"\"\n",
    "\n",
    "    dict_to_ret = {}\n",
    "\n",
    "    for C in communities.keys():\n",
    "        "
   ]
  },
  {
   "cell_type": "code",
   "execution_count": 27,
   "metadata": {},
   "outputs": [
    {
     "data": {
      "text/plain": [
       "(10, 9)"
      ]
     },
     "execution_count": 27,
     "metadata": {},
     "output_type": "execute_result"
    }
   ],
   "source": [
    "internal_external_degree_node(test_node)"
   ]
  },
  {
   "cell_type": "code",
   "execution_count": 19,
   "metadata": {},
   "outputs": [
    {
     "data": {
      "text/plain": [
       "[igraph.Vertex(<igraph.Graph object at 0x132c70040>, 23, {'id': 23.0, 'type': 0.0, 'freq': 24.0, 'cls': 0}),\n",
       " igraph.Vertex(<igraph.Graph object at 0x132c70040>, 247, {'id': 247.0, 'type': 0.0, 'freq': 10.0, 'cls': 0}),\n",
       " igraph.Vertex(<igraph.Graph object at 0x132c70040>, 254, {'id': 254.0, 'type': 0.0, 'freq': 24.0, 'cls': 0}),\n",
       " igraph.Vertex(<igraph.Graph object at 0x132c70040>, 366, {'id': 366.0, 'type': 0.0, 'freq': 16.0, 'cls': 5}),\n",
       " igraph.Vertex(<igraph.Graph object at 0x132c70040>, 1190, {'id': 1190.0, 'type': 0.0, 'freq': 18.0, 'cls': 0}),\n",
       " igraph.Vertex(<igraph.Graph object at 0x132c70040>, 1644, {'id': 1644.0, 'type': 0.0, 'freq': 16.0, 'cls': 5}),\n",
       " igraph.Vertex(<igraph.Graph object at 0x132c70040>, 1705, {'id': 1705.0, 'type': 0.0, 'freq': 10.0, 'cls': 0}),\n",
       " igraph.Vertex(<igraph.Graph object at 0x132c70040>, 1896, {'id': 1896.0, 'type': 0.0, 'freq': 6.0, 'cls': 0}),\n",
       " igraph.Vertex(<igraph.Graph object at 0x132c70040>, 1958, {'id': 1958.0, 'type': 0.0, 'freq': 4.0, 'cls': 0}),\n",
       " igraph.Vertex(<igraph.Graph object at 0x132c70040>, 2161, {'id': 2161.0, 'type': 0.0, 'freq': 14.0, 'cls': 5}),\n",
       " igraph.Vertex(<igraph.Graph object at 0x132c70040>, 2174, {'id': 2174.0, 'type': 0.0, 'freq': 8.0, 'cls': 5}),\n",
       " igraph.Vertex(<igraph.Graph object at 0x132c70040>, 2181, {'id': 2181.0, 'type': 0.0, 'freq': 6.0, 'cls': 5}),\n",
       " igraph.Vertex(<igraph.Graph object at 0x132c70040>, 2639, {'id': 2639.0, 'type': 0.0, 'freq': 2.0, 'cls': 0}),\n",
       " igraph.Vertex(<igraph.Graph object at 0x132c70040>, 3194, {'id': 3194.0, 'type': 0.0, 'freq': 12.0, 'cls': 5}),\n",
       " igraph.Vertex(<igraph.Graph object at 0x132c70040>, 3491, {'id': 3491.0, 'type': 0.0, 'freq': 14.0, 'cls': 5}),\n",
       " igraph.Vertex(<igraph.Graph object at 0x132c70040>, 4348, {'id': 4348.0, 'type': 0.0, 'freq': 18.0, 'cls': 0}),\n",
       " igraph.Vertex(<igraph.Graph object at 0x132c70040>, 4500, {'id': 4500.0, 'type': 0.0, 'freq': 12.0, 'cls': 0}),\n",
       " igraph.Vertex(<igraph.Graph object at 0x132c70040>, 4979, {'id': 4979.0, 'type': 0.0, 'freq': 8.0, 'cls': 5}),\n",
       " igraph.Vertex(<igraph.Graph object at 0x132c70040>, 7137, {'id': 7137.0, 'type': 0.0, 'freq': 10.0, 'cls': 5})]"
      ]
     },
     "execution_count": 19,
     "metadata": {},
     "output_type": "execute_result"
    }
   ],
   "source": [
    "neis"
   ]
  }
 ],
 "metadata": {
  "kernelspec": {
   "display_name": "Python 3 (ipykernel)",
   "language": "python",
   "name": "python3"
  },
  "language_info": {
   "codemirror_mode": {
    "name": "ipython",
    "version": 3
   },
   "file_extension": ".py",
   "mimetype": "text/x-python",
   "name": "python",
   "nbconvert_exporter": "python",
   "pygments_lexer": "ipython3",
   "version": "3.10.16"
  }
 },
 "nbformat": 4,
 "nbformat_minor": 2
}
