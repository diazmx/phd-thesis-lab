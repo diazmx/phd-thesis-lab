{
 "cells": [
  {
   "cell_type": "code",
   "execution_count": 1,
   "metadata": {},
   "outputs": [],
   "source": [
    "TYPE_PC = False # True For Mac   -   False Ubuntu"
   ]
  },
  {
   "cell_type": "code",
   "execution_count": 2,
   "metadata": {},
   "outputs": [],
   "source": [
    "### Import libraries\n",
    "\n",
    "import sys\n",
    "\n",
    "if TYPE_PC:\n",
    "    sys.path.append('/home/daniel/Documents/phd/phd-thesis-lab/12-third_year/05-CommunityDetection/')\n",
    "else:\n",
    "    sys.path.append('/home/daniel/Documents/phd/phd-thesis-lab/12-third_year/05-CommunityDetection/')\n",
    "\n",
    "import pandas as pd\n",
    "import igraph as ig\n",
    "import numpy as np\n",
    "import matplotlib.pyplot as plt\n",
    "import auxiliar_path"
   ]
  },
  {
   "cell_type": "code",
   "execution_count": 96,
   "metadata": {},
   "outputs": [
    {
     "name": "stdout",
     "output_type": "stream",
     "text": [
      "/home/daniel/Documents/phd/phd-thesis-lab/12-third_year/00-Data/01-AMZ/02-Graphs/02-Bot/AMZ_bot_weights_NC_alph2.graphml\n"
     ]
    }
   ],
   "source": [
    "### Global variables\n",
    "### Global variables\n",
    "\n",
    "DATASET = \"AMZ\" # AMZ, HC, PM, UN, TOY\n",
    "NODE_TYPE = False\n",
    "\n",
    "PATH_DATASET = auxiliar_path.get_path_dataset(DATASET)\n",
    "PATH_NODETYPE = auxiliar_path.get_path_topbot(NODE_TYPE)\n",
    "\n",
    "if TYPE_PC:\n",
    "    GLOBAL_PATH = \"/Users/ddiaz/Documents/code/phd-thesis-lab/12-third_year/\"    \n",
    "else:\n",
    "    GLOBAL_PATH = \"/home/daniel/Documents/phd/phd-thesis-lab/12-third_year/\"\n",
    "\n",
    "# File CSVpa\n",
    "### GLOBAL variables\n",
    "GRAPH_PATH = GLOBAL_PATH + \"00-Data/\" + PATH_DATASET + \"/02-Graphs/\"+PATH_NODETYPE+\"/AMZ_bot_weights_NC_alph2.graphml\"\n",
    "print(GRAPH_PATH)"
   ]
  },
  {
   "cell_type": "code",
   "execution_count": 97,
   "metadata": {},
   "outputs": [
    {
     "name": "stdout",
     "output_type": "stream",
     "text": [
      "IGRAPH U-WT 7518 67589 -- \n",
      "+ attr: freq (v), id (v), type (v), weight (e) \n",
      "\n",
      "Graph info:\n",
      "\t|V| = 7518\n",
      "\t|E| = 67589\n",
      "\t d  = 0.002391988817543408\n"
     ]
    }
   ],
   "source": [
    "### Read GRAPH\n",
    "\n",
    "g = ig.read(GRAPH_PATH)\n",
    "print(g.summary(), \"\\n\")\n",
    "\n",
    "print(\"Graph info:\")\n",
    "print(\"\\t|V| =\", g.vcount())\n",
    "print(\"\\t|E| =\", g.ecount())\n",
    "print(\"\\t d  =\", g.density()) "
   ]
  },
  {
   "cell_type": "code",
   "execution_count": 98,
   "metadata": {},
   "outputs": [
    {
     "name": "stdout",
     "output_type": "stream",
     "text": [
      "Clustering with 7518 elements and 300 clusters \n",
      "\n"
     ]
    }
   ],
   "source": [
    "### Community Detection\n",
    "\n",
    "comms = g.community_multilevel(weights=g.es[\"weight\"])\n",
    "g.vs[\"cls\"] = comms.membership\n",
    "print(comms.summary(), \"\\n\")"
   ]
  },
  {
   "cell_type": "code",
   "execution_count": 86,
   "metadata": {},
   "outputs": [
    {
     "data": {
      "text/plain": [
       "383"
      ]
     },
     "execution_count": 86,
     "metadata": {},
     "output_type": "execute_result"
    }
   ],
   "source": [
    "len(set(g.vs[\"cls\"]))"
   ]
  },
  {
   "cell_type": "code",
   "execution_count": 99,
   "metadata": {},
   "outputs": [
    {
     "data": {
      "text/plain": [
       "({0: <igraph.Graph at 0x76b8061d0040>,\n",
       "  1: <igraph.Graph at 0x76b8061d0a90>,\n",
       "  2: <igraph.Graph at 0x76b8061d0e50>,\n",
       "  3: <igraph.Graph at 0x76b8061d0f40>,\n",
       "  4: <igraph.Graph at 0x76b8061d1210>,\n",
       "  5: <igraph.Graph at 0x76b8061d1300>,\n",
       "  6: <igraph.Graph at 0x76b8061d13f0>,\n",
       "  7: <igraph.Graph at 0x76b8061d15d0>,\n",
       "  8: <igraph.Graph at 0x76b8061d16c0>,\n",
       "  9: <igraph.Graph at 0x76b8061d1f30>,\n",
       "  10: <igraph.Graph at 0x76b8061d2020>,\n",
       "  11: <igraph.Graph at 0x76b8061d2110>,\n",
       "  12: <igraph.Graph at 0x76b8061d2200>,\n",
       "  14: <igraph.Graph at 0x76b8061d24d0>,\n",
       "  15: <igraph.Graph at 0x76b8061d25c0>,\n",
       "  16: <igraph.Graph at 0x76b8061d26b0>,\n",
       "  17: <igraph.Graph at 0x76b8061d27a0>,\n",
       "  18: <igraph.Graph at 0x76b8061d2890>,\n",
       "  19: <igraph.Graph at 0x76b8061d2980>,\n",
       "  21: <igraph.Graph at 0x76b8061d2d40>,\n",
       "  26: <igraph.Graph at 0x76b8061d32e0>,\n",
       "  102: <igraph.Graph at 0x76b8061ec400>,\n",
       "  118: <igraph.Graph at 0x76b8061ed300>,\n",
       "  125: <igraph.Graph at 0x76b8061ed990>,\n",
       "  200: <igraph.Graph at 0x76b805716200>},\n",
       " 275)"
      ]
     },
     "execution_count": 99,
     "metadata": {},
     "output_type": "execute_result"
    }
   ],
   "source": [
    "comms_with_one = {subgraph.vs[\"cls\"][0]: subgraph for i, subgraph in enumerate(comms.subgraphs()) if len(subgraph.vs) > 5}\n",
    "comms_to_remove = [sg for sg in comms.subgraphs() if len(sg.vs) <= 5]\n",
    "comms_with_one, len(comms_to_remove)"
   ]
  },
  {
   "cell_type": "code",
   "execution_count": 100,
   "metadata": {},
   "outputs": [
    {
     "data": {
      "text/plain": [
       "339"
      ]
     },
     "execution_count": 100,
     "metadata": {},
     "output_type": "execute_result"
    }
   ],
   "source": [
    "nodes_to_remove = []\n",
    "for i in comms_to_remove:\n",
    "    for node in i.vs:\n",
    "        nodes_to_remove.append(node[\"id\"])\n",
    "len(nodes_to_remove)"
   ]
  },
  {
   "cell_type": "code",
   "execution_count": 101,
   "metadata": {},
   "outputs": [],
   "source": [
    "asd = []\n",
    "for node in nodes_to_remove:\n",
    "    asd.append(g.vs.find(id_eq=node).index)"
   ]
  },
  {
   "cell_type": "code",
   "execution_count": 102,
   "metadata": {},
   "outputs": [],
   "source": [
    "g.delete_vertices(asd)"
   ]
  },
  {
   "cell_type": "code",
   "execution_count": 61,
   "metadata": {},
   "outputs": [
    {
     "data": {
      "text/plain": [
       "'IGRAPH U-WT 8104 90635 -- \\n+ attr: cls (v), freq (v), id (v), type (v), weight (e)'"
      ]
     },
     "execution_count": 61,
     "metadata": {},
     "output_type": "execute_result"
    }
   ],
   "source": [
    "g.summary()"
   ]
  },
  {
   "cell_type": "code",
   "execution_count": 103,
   "metadata": {},
   "outputs": [
    {
     "name": "stdout",
     "output_type": "stream",
     "text": [
      "X\n",
      "X\n",
      "X\n",
      "X\n",
      "X\n"
     ]
    }
   ],
   "source": [
    "new_ids_comms = 1500\n",
    "for com in comms_with_one.values():\n",
    "    if com.density() > 0.5:\n",
    "        print(\"X\")\n",
    "        new_partition = com.community_multilevel(weights=com.es[\"weight\"])\n",
    "        for new_comms in new_partition.subgraphs():\n",
    "            for nodes in new_comms.vs():\n",
    "                node_to_add = g.vs.find(id_eq=nodes[\"id\"])\n",
    "                node_to_add[\"cls\"] = new_ids_comms\n",
    "            new_ids_comms += 1"
   ]
  },
  {
   "cell_type": "code",
   "execution_count": 104,
   "metadata": {},
   "outputs": [
    {
     "data": {
      "text/plain": [
       "28"
      ]
     },
     "execution_count": 104,
     "metadata": {},
     "output_type": "execute_result"
    }
   ],
   "source": [
    "len(set(g.vs[\"cls\"]))"
   ]
  },
  {
   "cell_type": "code",
   "execution_count": 31,
   "metadata": {},
   "outputs": [],
   "source": [
    "g.write_graphml(\"g_comms_2.graphml\")"
   ]
  },
  {
   "cell_type": "code",
   "execution_count": 47,
   "metadata": {},
   "outputs": [],
   "source": [
    "def internal_external_degree_node(node):\n",
    "    \"\"\"Compute the internal degree k_i^int of node i in a community C.\"\"\"\n",
    "    node_neighs = node.neighbors()\n",
    "    node_community = node[\"cls\"]\n",
    "\n",
    "    internal_degree = [1 for i in node_neighs if i[\"cls\"]==node_community]\n",
    "    external_degree = [1 for i in node_neighs if i[\"cls\"]!=node_community]\n",
    "    \n",
    "    return sum(internal_degree), sum(external_degree)\n",
    "\n",
    "\n",
    "def check_strong_community(graph, communities):\n",
    "    \"\"\"Returns if it is a strong community.\"\"\"\n",
    "\n",
    "    dict_to_ret = {}\n",
    "\n",
    "    for id_c in set(g.vs[\"cls\"]):\n",
    "        flag_weak_comm = False\n",
    "        porcentaje = 0\n",
    "        comms = g.vs.select(cls_eq=id_c)\n",
    "        for node in comms:\n",
    "            vertex = g.vs.find(id_eq=node[\"id\"])\n",
    "            int_degree, ext_degree = internal_external_degree_node(vertex)\n",
    "            if int_degree <= ext_degree:\n",
    "                flag_weak_comm = True\n",
    "                porcentaje += 1\n",
    "        \n",
    "        if flag_weak_comm:\n",
    "            dict_to_ret[id_c] = [comms, False, porcentaje/len(comms)]\n",
    "        else:\n",
    "            dict_to_ret[id_c] = [comms, True, 0]\n",
    "\n",
    "    return dict_to_ret"
   ]
  },
  {
   "cell_type": "code",
   "execution_count": 105,
   "metadata": {},
   "outputs": [
    {
     "data": {
      "text/plain": [
       "{0: [<igraph.VertexSeq at 0x76b7cc2eca40>, False, 0.22580645161290322],\n",
       " 1: [<igraph.VertexSeq at 0x76b7c9b943b0>, False, 0.0947603121516165],\n",
       " 2: [<igraph.VertexSeq at 0x76b7cf0504f0>, False, 0.0759651307596513],\n",
       " 3: [<igraph.VertexSeq at 0x76b7cf0509f0>, False, 0.14657210401891252],\n",
       " 4: [<igraph.VertexSeq at 0x76b8983d9170>, False, 0.1692150866462793],\n",
       " 5: [<igraph.VertexSeq at 0x76b7cc2ed850>, False, 0.1569767441860465],\n",
       " 6: [<igraph.VertexSeq at 0x76b7cc2ee110>, False, 0.06567796610169492],\n",
       " 7: [<igraph.VertexSeq at 0x76b7cc2ee430>, False, 0.09980806142034548],\n",
       " 8: [<igraph.VertexSeq at 0x76b7cc2ec950>, False, 0.09722222222222222],\n",
       " 9: [<igraph.VertexSeq at 0x76b7cc2ece50>, False, 0.06521739130434782],\n",
       " 10: [<igraph.VertexSeq at 0x76b7cc2ef3d0>, False, 0.1537037037037037],\n",
       " 11: [<igraph.VertexSeq at 0x76b7cc2ef1a0>, False, 0.21428571428571427],\n",
       " 12: [<igraph.VertexSeq at 0x76b7cc2ed300>, False, 0.1564245810055866],\n",
       " 14: [<igraph.VertexSeq at 0x76b7cc2ed760>, False, 0.2235294117647059],\n",
       " 15: [<igraph.VertexSeq at 0x76b7cc2ed940>, False, 0.16455696202531644],\n",
       " 16: [<igraph.VertexSeq at 0x76b7cc2ed170>, False, 0.15086206896551724],\n",
       " 17: [<igraph.VertexSeq at 0x76b7cc2ed3f0>, False, 0.11560693641618497],\n",
       " 18: [<igraph.VertexSeq at 0x76b7cc2ec720>, False, 0.20952380952380953],\n",
       " 19: [<igraph.VertexSeq at 0x76b7cc2ec5e0>, False, 0.27631578947368424],\n",
       " 26: [<igraph.VertexSeq at 0x76b7cc2ec9f0>, False, 0.044444444444444446],\n",
       " 1500: [<igraph.VertexSeq at 0x76b7cc2ec6d0>, True, 0],\n",
       " 1501: [<igraph.VertexSeq at 0x76b7cc2ecbd0>, False, 0.25],\n",
       " 1502: [<igraph.VertexSeq at 0x76b7cc2ec770>, False, 0.3333333333333333],\n",
       " 1503: [<igraph.VertexSeq at 0x76b7cc2ec900>, False, 0.2],\n",
       " 1504: [<igraph.VertexSeq at 0x76b7cc2ec400>, False, 1.0],\n",
       " 1505: [<igraph.VertexSeq at 0x76b7cc2ec1d0>, False, 0.2],\n",
       " 1506: [<igraph.VertexSeq at 0x76b7cc2ec4f0>, False, 0.5],\n",
       " 1507: [<igraph.VertexSeq at 0x76b7cc2ec450>, True, 0]}"
      ]
     },
     "execution_count": 105,
     "metadata": {},
     "output_type": "execute_result"
    }
   ],
   "source": [
    "strongcomms = check_strong_community(g, comms_with_one)\n",
    "strongcomms"
   ]
  },
  {
   "cell_type": "code",
   "execution_count": 107,
   "metadata": {},
   "outputs": [
    {
     "data": {
      "text/plain": [
       "28"
      ]
     },
     "execution_count": 107,
     "metadata": {},
     "output_type": "execute_result"
    }
   ],
   "source": [
    "len(strongcomms)"
   ]
  },
  {
   "cell_type": "code",
   "execution_count": 106,
   "metadata": {},
   "outputs": [
    {
     "name": "stdout",
     "output_type": "stream",
     "text": [
      "Nodos puente 0.19249315090592933\n",
      "Comunidades strong 2\n",
      "Comunidades weak 26\n"
     ]
    }
   ],
   "source": [
    "contador = 0\n",
    "contador_striong = 0\n",
    "for porcentaje in strongcomms.values():\n",
    "    contador += porcentaje[2]\n",
    "    if porcentaje[1]:\n",
    "        contador_striong+=1\n",
    "\n",
    "print(\"Nodos puente\", contador / len(strongcomms))\n",
    "print(\"Comunidades strong\", contador_striong)\n",
    "print(\"Comunidades weak\", len(strongcomms)-contador_striong)"
   ]
  }
 ],
 "metadata": {
  "kernelspec": {
   "display_name": "Python 3 (ipykernel)",
   "language": "python",
   "name": "python3"
  },
  "language_info": {
   "codemirror_mode": {
    "name": "ipython",
    "version": 3
   },
   "file_extension": ".py",
   "mimetype": "text/x-python",
   "name": "python",
   "nbconvert_exporter": "python",
   "pygments_lexer": "ipython3",
   "version": "3.10.16"
  }
 },
 "nbformat": 4,
 "nbformat_minor": 2
}
