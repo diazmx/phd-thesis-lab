{
 "cells": [
  {
   "cell_type": "code",
   "execution_count": 12,
   "metadata": {},
   "outputs": [],
   "source": [
    "TYPE_PC = False # True For Mac   -   False Ubuntu"
   ]
  },
  {
   "cell_type": "code",
   "execution_count": 13,
   "metadata": {},
   "outputs": [],
   "source": [
    "### Import libraries\n",
    "\n",
    "import sys\n",
    "\n",
    "if TYPE_PC:\n",
    "    sys.path.append('/home/daniel/Documents/phd/phd-thesis-lab/12-third_year/05-CommunityDetection/')\n",
    "else:\n",
    "    sys.path.append('/home/daniel/Documents/phd/phd-thesis-lab/12-third_year/05-CommunityDetection/')\n",
    "\n",
    "import pandas as pd\n",
    "import igraph as ig\n",
    "import numpy as np\n",
    "import matplotlib.pyplot as plt\n",
    "import auxiliar_path"
   ]
  },
  {
   "cell_type": "code",
   "execution_count": 20,
   "metadata": {},
   "outputs": [
    {
     "name": "stdout",
     "output_type": "stream",
     "text": [
      "/home/daniel/Documents/phd/phd-thesis-lab/12-third_year/00-Data/01-AMZ/02-Graphs/01-Top/AMZ_top_hyperbolic_DF_alpha1.graphml\n"
     ]
    }
   ],
   "source": [
    "### Global variables\n",
    "### Global variables\n",
    "\n",
    "DATASET = \"AMZ\" # AMZ, HC, PM, UN, TOY\n",
    "NODE_TYPE = True\n",
    "\n",
    "PATH_DATASET = auxiliar_path.get_path_dataset(DATASET)\n",
    "PATH_NODETYPE = auxiliar_path.get_path_topbot(NODE_TYPE)\n",
    "\n",
    "if TYPE_PC:\n",
    "    GLOBAL_PATH = \"/Users/ddiaz/Documents/code/phd-thesis-lab/12-third_year/\"    \n",
    "else:\n",
    "    GLOBAL_PATH = \"/home/daniel/Documents/phd/phd-thesis-lab/12-third_year/\"\n",
    "\n",
    "# File CSVpa\n",
    "### GLOBAL variables\n",
    "GRAPH_PATH = GLOBAL_PATH + \"00-Data/\" + PATH_DATASET + \"/02-Graphs/\"+PATH_NODETYPE+\"/AMZ_top_hyperbolic_DF_alpha1.graphml\"\n",
    "print(GRAPH_PATH)"
   ]
  },
  {
   "cell_type": "code",
   "execution_count": 131,
   "metadata": {},
   "outputs": [
    {
     "name": "stdout",
     "output_type": "stream",
     "text": [
      "IGRAPH U-WT 9560 90843 -- \n",
      "+ attr: freq (v), id (v), type (v), weight (e) \n",
      "\n",
      "Graph info:\n",
      "\t|V| = 9560\n",
      "\t|E| = 90843\n",
      "\t d  = 0.001988158982684504\n"
     ]
    }
   ],
   "source": [
    "### Read GRAPH\n",
    "\n",
    "g = ig.read(GRAPH_PATH)\n",
    "print(g.summary(), \"\\n\")\n",
    "\n",
    "print(\"Graph info:\")\n",
    "print(\"\\t|V| =\", g.vcount())\n",
    "print(\"\\t|E| =\", g.ecount())\n",
    "print(\"\\t d  =\", g.density()) "
   ]
  },
  {
   "cell_type": "code",
   "execution_count": 138,
   "metadata": {},
   "outputs": [
    {
     "name": "stdout",
     "output_type": "stream",
     "text": [
      "Clustering with 9560 elements and 1405 clusters \n",
      "\n"
     ]
    }
   ],
   "source": [
    "### Community Detection\n",
    "\n",
    "comms = g.community_multilevel(weights=g.es[\"weight\"])\n",
    "g.vs[\"cls\"] = comms.membership\n",
    "print(comms.summary(), \"\\n\")"
   ]
  },
  {
   "cell_type": "code",
   "execution_count": null,
   "metadata": {},
   "outputs": [
    {
     "name": "stdout",
     "output_type": "stream",
     "text": [
      "X\n",
      "X\n",
      "X\n",
      "X\n",
      "X\n",
      "X\n",
      "X\n",
      "X\n",
      "X\n",
      "X\n",
      "X\n",
      "X\n",
      "X\n",
      "X\n",
      "X\n",
      "X\n",
      "X\n",
      "X\n",
      "X\n",
      "X\n",
      "X\n",
      "X\n",
      "X\n",
      "X\n",
      "X\n",
      "X\n",
      "X\n",
      "X\n",
      "X\n",
      "X\n",
      "X\n",
      "X\n"
     ]
    }
   ],
   "source": []
  },
  {
   "cell_type": "code",
   "execution_count": 139,
   "metadata": {},
   "outputs": [
    {
     "data": {
      "text/plain": [
       "1405"
      ]
     },
     "execution_count": 139,
     "metadata": {},
     "output_type": "execute_result"
    }
   ],
   "source": [
    "len(set(g.vs[\"cls\"]))"
   ]
  },
  {
   "cell_type": "code",
   "execution_count": 140,
   "metadata": {},
   "outputs": [
    {
     "data": {
      "text/plain": [
       "({0: <igraph.Graph at 0x7820d03d4310>,\n",
       "  1: <igraph.Graph at 0x7820d03d4400>,\n",
       "  2: <igraph.Graph at 0x7820d03d44f0>,\n",
       "  3: <igraph.Graph at 0x7820d03d45e0>,\n",
       "  4: <igraph.Graph at 0x7820d03d46d0>,\n",
       "  5: <igraph.Graph at 0x7820d03d47c0>,\n",
       "  6: <igraph.Graph at 0x7820d03d48b0>,\n",
       "  7: <igraph.Graph at 0x7820d03d49a0>,\n",
       "  8: <igraph.Graph at 0x7820d03d4a90>,\n",
       "  9: <igraph.Graph at 0x7820d03d4b80>,\n",
       "  10: <igraph.Graph at 0x7820d03d4c70>,\n",
       "  11: <igraph.Graph at 0x7820d03d4e50>,\n",
       "  12: <igraph.Graph at 0x7820d03d4f40>,\n",
       "  13: <igraph.Graph at 0x7820d03d5030>,\n",
       "  15: <igraph.Graph at 0x7820d03d5210>,\n",
       "  16: <igraph.Graph at 0x7820d03d5300>,\n",
       "  17: <igraph.Graph at 0x7820d03d53f0>,\n",
       "  19: <igraph.Graph at 0x7820d03d55d0>,\n",
       "  21: <igraph.Graph at 0x7820d03d57b0>,\n",
       "  23: <igraph.Graph at 0x7820d03d5990>,\n",
       "  34: <igraph.Graph at 0x7820d03d63e0>,\n",
       "  37: <igraph.Graph at 0x7820d03d66b0>,\n",
       "  60: <igraph.Graph at 0x7820d03d7c40>,\n",
       "  80: <igraph.Graph at 0x7820d04a8f40>,\n",
       "  86: <igraph.Graph at 0x7820d04a94e0>,\n",
       "  97: <igraph.Graph at 0x7820d04a9f30>,\n",
       "  140: <igraph.Graph at 0x7820d0983010>},\n",
       " 1378)"
      ]
     },
     "execution_count": 140,
     "metadata": {},
     "output_type": "execute_result"
    }
   ],
   "source": [
    "comms_with_one = {subgraph.vs[\"cls\"][0]: subgraph for i, subgraph in enumerate(comms.subgraphs()) if len(subgraph.vs) > 5}\n",
    "comms_to_remove = [sg for sg in comms.subgraphs() if len(sg.vs) <= 5]\n",
    "comms_with_one, len(comms_to_remove)"
   ]
  },
  {
   "cell_type": "code",
   "execution_count": 141,
   "metadata": {},
   "outputs": [
    {
     "data": {
      "text/plain": [
       "1455"
      ]
     },
     "execution_count": 141,
     "metadata": {},
     "output_type": "execute_result"
    }
   ],
   "source": [
    "nodes_to_remove = []\n",
    "for i in comms_to_remove:\n",
    "    for node in i.vs:\n",
    "        nodes_to_remove.append(node[\"id\"])\n",
    "len(nodes_to_remove)"
   ]
  },
  {
   "cell_type": "code",
   "execution_count": 143,
   "metadata": {},
   "outputs": [],
   "source": [
    "asd = []\n",
    "for node in nodes_to_remove:\n",
    "    asd.append(g.vs.find(id_eq=node).index)"
   ]
  },
  {
   "cell_type": "code",
   "execution_count": 144,
   "metadata": {},
   "outputs": [],
   "source": [
    "g.delete_vertices(asd)"
   ]
  },
  {
   "cell_type": "code",
   "execution_count": 145,
   "metadata": {},
   "outputs": [
    {
     "data": {
      "text/plain": [
       "'IGRAPH U-WT 8105 90632 -- \\n+ attr: cls (v), freq (v), id (v), type (v), weight (e)'"
      ]
     },
     "execution_count": 145,
     "metadata": {},
     "output_type": "execute_result"
    }
   ],
   "source": [
    "g.summary()"
   ]
  },
  {
   "cell_type": "code",
   "execution_count": 149,
   "metadata": {},
   "outputs": [
    {
     "name": "stdout",
     "output_type": "stream",
     "text": [
      "X\n",
      "X\n",
      "X\n",
      "X\n",
      "X\n",
      "X\n",
      "X\n"
     ]
    }
   ],
   "source": [
    "new_ids_comms = 1500\n",
    "for com in comms_with_one.values():\n",
    "    if com.density() > 0.1:\n",
    "        print(\"X\")\n",
    "        new_partition = com.community_multilevel(weights=com.es[\"weight\"])\n",
    "        for new_comms in new_partition.subgraphs():\n",
    "            for nodes in new_comms.vs():\n",
    "                node_to_add = g.vs.find(id_eq=nodes[\"id\"])\n",
    "                node_to_add[\"cls\"] = new_ids_comms\n",
    "            new_ids_comms += 1"
   ]
  },
  {
   "cell_type": "code",
   "execution_count": 155,
   "metadata": {},
   "outputs": [
    {
     "data": {
      "text/plain": [
       "37"
      ]
     },
     "execution_count": 155,
     "metadata": {},
     "output_type": "execute_result"
    }
   ],
   "source": [
    "len(set(g.vs[\"cls\"]))"
   ]
  },
  {
   "cell_type": "code",
   "execution_count": 156,
   "metadata": {},
   "outputs": [],
   "source": [
    "g.write_graphml(\"g_comms_2.graphml\")"
   ]
  },
  {
   "cell_type": "code",
   "execution_count": 37,
   "metadata": {},
   "outputs": [],
   "source": [
    "test_node = g.vs[1010]"
   ]
  },
  {
   "cell_type": "code",
   "execution_count": 38,
   "metadata": {},
   "outputs": [
    {
     "data": {
      "text/plain": [
       "(6, 1)"
      ]
     },
     "execution_count": 38,
     "metadata": {},
     "output_type": "execute_result"
    }
   ],
   "source": [
    "internal_external_degree_node(test_node)"
   ]
  },
  {
   "cell_type": "code",
   "execution_count": 128,
   "metadata": {},
   "outputs": [],
   "source": [
    "def internal_external_degree_node(node):\n",
    "    \"\"\"Compute the internal degree k_i^int of node i in a community C.\"\"\"\n",
    "    node_neighs = node.neighbors()\n",
    "    node_community = node[\"cls\"]\n",
    "\n",
    "    internal_degree = [1 for i in node_neighs if i[\"cls\"]==node_community]\n",
    "    external_degree = [1 for i in node_neighs if i[\"cls\"]!=node_community]\n",
    "    \n",
    "    return sum(internal_degree), sum(external_degree)\n",
    "\n",
    "\n",
    "def check_strong_community(graph, communities):\n",
    "    \"\"\"Returns if it is a strong community.\"\"\"\n",
    "\n",
    "    dict_to_ret = {}\n",
    "\n",
    "    for (id_c, commm) in communities.items():\n",
    "        flag_weak_comm = False\n",
    "        porcentaje = 0\n",
    "        for node in commm.vs:\n",
    "            vertex = g.vs.find(id_eq=node[\"id\"])\n",
    "            int_degree, ext_degree = internal_external_degree_node(vertex)\n",
    "            if int_degree <= ext_degree:\n",
    "                flag_weak_comm = True\n",
    "                porcentaje += 1\n",
    "        \n",
    "        if flag_weak_comm:\n",
    "            dict_to_ret[id_c] = [commm, False, porcentaje/commm.vcount()]\n",
    "        else:\n",
    "            dict_to_ret[id_c] = [commm, True, 0]\n",
    "\n",
    "    return dict_to_ret"
   ]
  },
  {
   "cell_type": "code",
   "execution_count": 121,
   "metadata": {},
   "outputs": [
    {
     "data": {
      "text/plain": [
       "(10, 8)"
      ]
     },
     "execution_count": 121,
     "metadata": {},
     "output_type": "execute_result"
    }
   ],
   "source": [
    "test = g.vs[0]\n",
    "internal_external_degree_node(test)"
   ]
  },
  {
   "cell_type": "code",
   "execution_count": 129,
   "metadata": {},
   "outputs": [
    {
     "data": {
      "text/plain": [
       "{0: [<igraph.Graph at 0x7820d34462f0>, False, 0.36075949367088606],\n",
       " 1: [<igraph.Graph at 0x7820d34463e0>, False, 0.2033271719038817],\n",
       " 2: [<igraph.Graph at 0x7820d34466b0>, False, 0.30141843971631205],\n",
       " 3: [<igraph.Graph at 0x7820d34467a0>, False, 0.09051724137931035],\n",
       " 4: [<igraph.Graph at 0x7820d3446980>, False, 0.16901408450704225],\n",
       " 5: [<igraph.Graph at 0x7820d3446a70>, False, 0.11479028697571744],\n",
       " 6: [<igraph.Graph at 0x7820d34457b0>, False, 0.23125],\n",
       " 7: [<igraph.Graph at 0x7820d3445f30>, False, 0.3470319634703196],\n",
       " 8: [<igraph.Graph at 0x7820d3445030>, False, 0.07983761840324763],\n",
       " 9: [<igraph.Graph at 0x7820d3446b60>, False, 0.3547400611620795],\n",
       " 10: [<igraph.Graph at 0x7820d3446c50>, False, 0.24890829694323144],\n",
       " 11: [<igraph.Graph at 0x7820d3446d40>, False, 0.1111111111111111],\n",
       " 12: [<igraph.Graph at 0x7820d3446e30>, False, 0.3058103975535168],\n",
       " 14: [<igraph.Graph at 0x7820d3447010>, False, 0.32592592592592595],\n",
       " 15: [<igraph.Graph at 0x7820d3447100>, True, 0],\n",
       " 17: [<igraph.Graph at 0x7820d34472e0>, False, 0.3098106712564544],\n",
       " 18: [<igraph.Graph at 0x7820d34473d0>, False, 0.1022530329289428],\n",
       " 20: [<igraph.Graph at 0x7820d34475b0>, False, 0.10927152317880795],\n",
       " 21: [<igraph.Graph at 0x7820d34476a0>, False, 0.43333333333333335],\n",
       " 23: [<igraph.Graph at 0x7820d3447970>, False, 0.12941176470588237],\n",
       " 24: [<igraph.Graph at 0x7820d3447a60>, False, 0.09125475285171103],\n",
       " 25: [<igraph.Graph at 0x7820d3447c40>, False, 0.035175879396984924],\n",
       " 36: [<igraph.Graph at 0x7820d307da80>, False, 0.08163265306122448],\n",
       " 82: [<igraph.Graph at 0x7820d3983100>, False, 0.4166666666666667],\n",
       " 88: [<igraph.Graph at 0x7820d3983790>, True, 0],\n",
       " 141: [<igraph.Graph at 0x7820d39b8a90>, True, 0]}"
      ]
     },
     "execution_count": 129,
     "metadata": {},
     "output_type": "execute_result"
    }
   ],
   "source": [
    "check_strong_community(g, comms_with_one)"
   ]
  }
 ],
 "metadata": {
  "kernelspec": {
   "display_name": "Python 3 (ipykernel)",
   "language": "python",
   "name": "python3"
  },
  "language_info": {
   "codemirror_mode": {
    "name": "ipython",
    "version": 3
   },
   "file_extension": ".py",
   "mimetype": "text/x-python",
   "name": "python",
   "nbconvert_exporter": "python",
   "pygments_lexer": "ipython3",
   "version": "3.10.16"
  }
 },
 "nbformat": 4,
 "nbformat_minor": 2
}
