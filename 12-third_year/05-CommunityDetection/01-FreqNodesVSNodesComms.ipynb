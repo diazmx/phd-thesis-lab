{
 "cells": [
  {
   "cell_type": "markdown",
   "metadata": {},
   "source": [
    "# Nodos frecuentes vs Nodos en comunidades\n",
    "\n",
    "---\n",
    "\n",
    "A partir del análisis de la distribución del tamaño de las comunidaes en los grafos \\\n",
    "surgió la hipótesis de que probablemente que los nodos que se agrupan en comunidades \\\n",
    "son lo nodos más frecuentes en el access control. A continuación, se describe el \\\n",
    "proceso desarrollado para la experimentación.\n",
    "\n",
    "1. Análisis de la frecuencia de usuarios y recursos. Por frecuencia se refiere a \\\n",
    "el numero de veces que aparecen en el dataset como una solicitud de acceso.\n",
    "\n",
    "2. Creación del grafo bipartito para una versión.\n",
    "\n",
    "3. "
   ]
  },
  {
   "cell_type": "code",
   "execution_count": 2,
   "metadata": {},
   "outputs": [],
   "source": [
    "### Import libraries\n",
    "\n",
    "import igraph as ig\n",
    "import pandas as pd\n",
    "import numpy as np\n",
    "import matplotlib.pyplot as plt"
   ]
  },
  {
   "cell_type": "code",
   "execution_count": 3,
   "metadata": {},
   "outputs": [],
   "source": [
    "### Auxiliar functions\n",
    "\n",
    "def get_path_topbot(tpe):\n",
    "    \"\"\"Return the paht of a type of nodes.\"\"\"\n",
    "    \n",
    "    if tpe:\n",
    "        return \"01-Top\"\n",
    "    else:\n",
    "        return \"02-Bot\"\n",
    "\n",
    "def get_path_dataset(ds):\n",
    "    \"\"\"Return the path of a dataset ds.\"\"\"\n",
    "\n",
    "    if ds == \"AMZ\":\n",
    "        return \"01-AMZ\"\n",
    "    elif ds == \"HC\":\n",
    "        return \"02-HC\"\n",
    "    elif ds == \"PM\":\n",
    "        return \"03-PM\"\n",
    "    elif ds == \"UN\":\n",
    "        return \"04-UN\"\n",
    "    else:\n",
    "        return None"
   ]
  },
  {
   "cell_type": "code",
   "execution_count": 6,
   "metadata": {},
   "outputs": [],
   "source": [
    "### Global variables\n",
    "\n",
    "DATASET = \"AMZ\" # AMZ, HC, PM, UN\n",
    "NODE_TYPE = False\n",
    "\n",
    "PATH_DATASET = get_path_dataset(DATASET)\n",
    "PATH_NODETYPE = get_path_topbot(NODE_TYPE)\n",
    "\n",
    "#FILE_GRAPH = \"../00-Data/\" + PATH_DATASET + \"/02-Graphs/\" + PATH_NODETYPE + \"/\"\n",
    "FILE_GRAPH = \"../00-Data/01-AMZ/02-Graphs/01-Top/AMZ_top_simple_disparity_alpha1.graphml\"\n",
    "FILE_DS = \"../00-Data/01-AMZ/01-DistributionsCSV/AMZ-Rw.csv\""
   ]
  },
  {
   "cell_type": "code",
   "execution_count": 8,
   "metadata": {},
   "outputs": [
    {
     "name": "stdout",
     "output_type": "stream",
     "text": [
      "IGRAPH U-W- 7494 2182 -- \n",
      "+ attr: id (v), weight (e) \n",
      "\n",
      "Graph info:\n",
      "\t|V| = 7494\n",
      "\t|E| = 2182\n",
      "\t d  = 7.771687344092099e-05\n"
     ]
    }
   ],
   "source": [
    "### Read a graph\n",
    "\n",
    "g = ig.read(FILE_GRAPH)\n",
    "print(g.summary(), \"\\n\")\n",
    "\n",
    "print(\"Graph info:\")\n",
    "print(\"\\t|V| =\", g.vcount())\n",
    "print(\"\\t|E| =\", g.ecount())\n",
    "print(\"\\t d  =\", g.density())"
   ]
  },
  {
   "cell_type": "code",
   "execution_count": null,
   "metadata": {},
   "outputs": [],
   "source": []
  }
 ],
 "metadata": {
  "kernelspec": {
   "display_name": "Python 3 (ipykernel)",
   "language": "python",
   "name": "python3"
  }
 },
 "nbformat": 4,
 "nbformat_minor": 2
}
