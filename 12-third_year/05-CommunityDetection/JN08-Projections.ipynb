{
 "cells": [
  {
   "cell_type": "code",
   "execution_count": 1,
   "metadata": {},
   "outputs": [],
   "source": [
    "### Import libraries\n",
    "\n",
    "import igraph as ig\n",
    "from auxiliar_bb import noise_corrected, disparity\n",
    "from auxiliar_projections_large import apply_projection, multiply_weigt, remove_zeros\n",
    "from time import time\n",
    "import matplotlib.pyplot as plt\n",
    "from auxiliar_path import get_path_dataset, get_path_topbot"
   ]
  },
  {
   "cell_type": "code",
   "execution_count": 9,
   "metadata": {},
   "outputs": [],
   "source": [
    "##### **** Variables selection **** #####\n",
    "\n",
    "DATASET = \"AMZ\"\n",
    "\n",
    "# False = Users = 0\n",
    "# True = Resources = 1\n",
    "NODE_TYPE = False\n",
    "\n",
    "PATH_DATASET = get_path_dataset(DATASET)\n",
    "PATH_NODETYPE = get_path_topbot(NODE_TYPE)\n",
    "\n",
    "FILENAME = \"../00-Data/\"+PATH_DATASET+\"/02-Graphs/binet-\"+DATASET+\"-Rw.graphml\"\n",
    "\n",
    "PROJ_NAME = \"simple\"  # simple weights vector master hyperbolic resall\n",
    "THRESHOLD_NODES = 2\n",
    "\n",
    "alpha = [0.05, 0.1, 0.15, 0.2]"
   ]
  },
  {
   "cell_type": "code",
   "execution_count": 3,
   "metadata": {},
   "outputs": [
    {
     "name": "stdout",
     "output_type": "stream",
     "text": [
      "IGRAPH U-WT 17079 32769 -- \n",
      "+ attr: freq (v), id (v), type (v), weight (e)\n",
      "\n",
      "The graph IS bipartite\n",
      "|U|= 9561  \t|R|= 7518  \t|U|+|R|= 17079 = 17079\n",
      "\n"
     ]
    },
    {
     "name": "stderr",
     "output_type": "stream",
     "text": [
      "/Users/ddiaz/Documents/code/envs/tesis/lib/python3.10/site-packages/igraph/io/files.py:295: RuntimeWarning: Could not add vertex ids, there is already an 'id' vertex attribute. at src/io/graphml.c:488\n",
      "  return reader(f, *args, **kwds)\n"
     ]
    }
   ],
   "source": [
    "##### **** Selection of dataset **** #####\n",
    "\n",
    "g = ig.read(FILENAME)\n",
    "print(g.summary())\n",
    "print()\n",
    "\n",
    "user_nodes = g.vs.select(type=0)\n",
    "res_nodes = g.vs.select(type=1)\n",
    "\n",
    "if(g.is_bipartite()): # Check if the the graph is bipartite\n",
    "    print(\"The graph IS bipartite\")\n",
    "else:\n",
    "    print(\"The graph IS NOT bipartite\")\n",
    "    exit()\n",
    "print(\"|U|=\",len(user_nodes), \" \\t|R|=\",len(res_nodes), \" \\t|U|+|R|=\",len(user_nodes)+len(res_nodes), \"=\", g.vcount())\n",
    "print()"
   ]
  },
  {
   "cell_type": "code",
   "execution_count": 10,
   "metadata": {},
   "outputs": [
    {
     "name": "stdout",
     "output_type": "stream",
     "text": [
      "IGRAPH U-WT 9561 1253277 -- \n",
      "+ attr: freq (v), id (v), type (v), weight (e)\n",
      "9560.0\n"
     ]
    }
   ],
   "source": [
    "##### **** Projection **** #####\n",
    "#user_graph = apply_projection(g, PROJ_NAME, len(user_nodes), True)\n",
    "user_graph = apply_projection(g, PROJ_NAME, len(user_nodes), False)\n",
    "print(user_graph.summary())\n",
    "print(max(list(user_graph.vs()[\"id\"])))\n"
   ]
  },
  {
   "cell_type": "code",
   "execution_count": 11,
   "metadata": {},
   "outputs": [
    {
     "name": "stdout",
     "output_type": "stream",
     "text": [
      "9561.0\n"
     ]
    }
   ],
   "source": [
    "rsrs_graph = apply_projection(g, PROJ_NAME, len(user_nodes), True)\n",
    "print(min(list(rsrs_graph.vs()[\"id\"])))"
   ]
  }
 ],
 "metadata": {
  "kernelspec": {
   "display_name": "Python 3 (ipykernel)",
   "language": "python",
   "name": "python3"
  }
 },
 "nbformat": 4,
 "nbformat_minor": 2
}
