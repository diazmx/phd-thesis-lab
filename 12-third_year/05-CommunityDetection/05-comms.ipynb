{
 "cells": [
  {
   "cell_type": "code",
   "execution_count": 1,
   "metadata": {},
   "outputs": [],
   "source": [
    "TYPE_PC = False # True For Mac   -   False Ubuntu"
   ]
  },
  {
   "cell_type": "code",
   "execution_count": 2,
   "metadata": {},
   "outputs": [],
   "source": [
    "### Import libraries\n",
    "\n",
    "import sys\n",
    "\n",
    "if TYPE_PC:\n",
    "    sys.path.append('/home/daniel/Documents/phd/phd-thesis-lab/12-third_year/05-CommunityDetection/')\n",
    "else:\n",
    "    sys.path.append('/home/daniel/Documents/phd/phd-thesis-lab/12-third_year/05-CommunityDetection/')\n",
    "\n",
    "import pandas as pd\n",
    "import igraph as ig\n",
    "import numpy as np\n",
    "import matplotlib.pyplot as plt\n",
    "import auxiliar_path"
   ]
  },
  {
   "cell_type": "code",
   "execution_count": 3,
   "metadata": {},
   "outputs": [
    {
     "name": "stdout",
     "output_type": "stream",
     "text": [
      "/home/daniel/Documents/phd/phd-thesis-lab/12-third_year/00-Data/01-AMZ/02-Graphs/02-Bot/AMZ_bot_weights_NC_alph2.graphml\n"
     ]
    }
   ],
   "source": [
    "### Global variables\n",
    "### Global variables\n",
    "\n",
    "DATASET = \"AMZ\" # AMZ, HC, PM, UN, TOY\n",
    "NODE_TYPE = False\n",
    "\n",
    "PATH_DATASET = auxiliar_path.get_path_dataset(DATASET)\n",
    "PATH_NODETYPE = auxiliar_path.get_path_topbot(NODE_TYPE)\n",
    "\n",
    "if TYPE_PC:\n",
    "    GLOBAL_PATH = \"/Users/ddiaz/Documents/code/phd-thesis-lab/12-third_year/\"    \n",
    "else:\n",
    "    GLOBAL_PATH = \"/home/daniel/Documents/phd/phd-thesis-lab/12-third_year/\"\n",
    "\n",
    "# File CSVpa\n",
    "### GLOBAL variables\n",
    "GRAPH_PATH = GLOBAL_PATH + \"00-Data/\" + PATH_DATASET + \"/02-Graphs/\"+PATH_NODETYPE+\"/AMZ_bot_weights_NC_alph2.graphml\"\n",
    "print(GRAPH_PATH)"
   ]
  },
  {
   "cell_type": "code",
   "execution_count": 19,
   "metadata": {},
   "outputs": [
    {
     "name": "stdout",
     "output_type": "stream",
     "text": [
      "IGRAPH U-WT 7518 67589 -- \n",
      "+ attr: freq (v), id (v), type (v), weight (e) \n",
      "\n",
      "Graph info:\n",
      "\t|V| = 7518\n",
      "\t|E| = 67589\n",
      "\t d  = 0.002391988817543408\n"
     ]
    }
   ],
   "source": [
    "### Read GRAPH\n",
    "\n",
    "g = ig.read(GRAPH_PATH)\n",
    "print(g.summary(), \"\\n\")\n",
    "\n",
    "print(\"Graph info:\")\n",
    "print(\"\\t|V| =\", g.vcount())\n",
    "print(\"\\t|E| =\", g.ecount())\n",
    "print(\"\\t d  =\", g.density()) "
   ]
  },
  {
   "cell_type": "code",
   "execution_count": 5,
   "metadata": {},
   "outputs": [
    {
     "name": "stdout",
     "output_type": "stream",
     "text": [
      "Clustering with 7518 elements and 297 clusters \n",
      "\n"
     ]
    }
   ],
   "source": [
    "### Community Detection\n",
    "\n",
    "comms = g.community_multilevel(weights=g.es[\"weight\"])\n",
    "g.vs[\"cls\"] = comms.membership\n",
    "print(comms.summary(), \"\\n\")"
   ]
  },
  {
   "cell_type": "code",
   "execution_count": 6,
   "metadata": {},
   "outputs": [
    {
     "data": {
      "text/plain": [
       "297"
      ]
     },
     "execution_count": 6,
     "metadata": {},
     "output_type": "execute_result"
    }
   ],
   "source": [
    "len(set(g.vs[\"cls\"]))"
   ]
  },
  {
   "cell_type": "code",
   "execution_count": 7,
   "metadata": {},
   "outputs": [
    {
     "data": {
      "text/plain": [
       "({0: <igraph.Graph at 0x7fb704df0220>,\n",
       "  1: <igraph.Graph at 0x7fb704df07c0>,\n",
       "  2: <igraph.Graph at 0x7fb704df08b0>,\n",
       "  3: <igraph.Graph at 0x7fb704df09a0>,\n",
       "  4: <igraph.Graph at 0x7fb704df0a90>,\n",
       "  5: <igraph.Graph at 0x7fb704df0b80>,\n",
       "  6: <igraph.Graph at 0x7fb704df0c70>,\n",
       "  7: <igraph.Graph at 0x7fb704df0d60>,\n",
       "  8: <igraph.Graph at 0x7fb704df0e50>,\n",
       "  9: <igraph.Graph at 0x7fb704df0f40>,\n",
       "  10: <igraph.Graph at 0x7fb704df1030>,\n",
       "  11: <igraph.Graph at 0x7fb704df1120>,\n",
       "  12: <igraph.Graph at 0x7fb704df1210>,\n",
       "  14: <igraph.Graph at 0x7fb704df13f0>,\n",
       "  15: <igraph.Graph at 0x7fb704df14e0>,\n",
       "  16: <igraph.Graph at 0x7fb704df15d0>,\n",
       "  22: <igraph.Graph at 0x7fb704df1b70>,\n",
       "  28: <igraph.Graph at 0x7fb704df2110>,\n",
       "  87: <igraph.Graph at 0x7fb7041fd8a0>,\n",
       "  100: <igraph.Graph at 0x7fb7041fe4d0>,\n",
       "  116: <igraph.Graph at 0x7fb7041ff3d0>,\n",
       "  197: <igraph.Graph at 0x7fb70402c040>},\n",
       " 275)"
      ]
     },
     "execution_count": 7,
     "metadata": {},
     "output_type": "execute_result"
    }
   ],
   "source": [
    "comms_with_one = {subgraph.vs[\"cls\"][0]: subgraph for i, subgraph in enumerate(comms.subgraphs()) if len(subgraph.vs) > 5}\n",
    "comms_to_remove = [sg for sg in comms.subgraphs() if len(sg.vs) <= 5]\n",
    "comms_with_one, len(comms_to_remove)"
   ]
  },
  {
   "cell_type": "code",
   "execution_count": 8,
   "metadata": {},
   "outputs": [
    {
     "data": {
      "text/plain": [
       "339"
      ]
     },
     "execution_count": 8,
     "metadata": {},
     "output_type": "execute_result"
    }
   ],
   "source": [
    "nodes_to_remove = []\n",
    "for i in comms_to_remove:\n",
    "    for node in i.vs:\n",
    "        nodes_to_remove.append(node[\"id\"])\n",
    "len(nodes_to_remove)"
   ]
  },
  {
   "cell_type": "code",
   "execution_count": 9,
   "metadata": {},
   "outputs": [],
   "source": [
    "asd = []\n",
    "for node in nodes_to_remove:\n",
    "    asd.append(g.vs.find(id_eq=node).index)"
   ]
  },
  {
   "cell_type": "code",
   "execution_count": 10,
   "metadata": {},
   "outputs": [],
   "source": [
    "g.delete_vertices(asd)"
   ]
  },
  {
   "cell_type": "code",
   "execution_count": 61,
   "metadata": {},
   "outputs": [
    {
     "data": {
      "text/plain": [
       "'IGRAPH U-WT 8104 90635 -- \\n+ attr: cls (v), freq (v), id (v), type (v), weight (e)'"
      ]
     },
     "execution_count": 61,
     "metadata": {},
     "output_type": "execute_result"
    }
   ],
   "source": [
    "g.summary()"
   ]
  },
  {
   "cell_type": "code",
   "execution_count": 11,
   "metadata": {},
   "outputs": [
    {
     "name": "stdout",
     "output_type": "stream",
     "text": [
      "X\n",
      "X\n",
      "X\n",
      "X\n"
     ]
    }
   ],
   "source": [
    "new_ids_comms = 1500\n",
    "for com in comms_with_one.values():\n",
    "    if com.density() > 0.5:\n",
    "        print(\"X\")\n",
    "        new_partition = com.community_multilevel(weights=com.es[\"weight\"])\n",
    "        for new_comms in new_partition.subgraphs():\n",
    "            for nodes in new_comms.vs():\n",
    "                node_to_add = g.vs.find(id_eq=nodes[\"id\"])\n",
    "                node_to_add[\"cls\"] = new_ids_comms\n",
    "            new_ids_comms += 1"
   ]
  },
  {
   "cell_type": "code",
   "execution_count": 13,
   "metadata": {},
   "outputs": [
    {
     "data": {
      "text/plain": [
       "24"
      ]
     },
     "execution_count": 13,
     "metadata": {},
     "output_type": "execute_result"
    }
   ],
   "source": [
    "len(set(g.vs[\"cls\"]))"
   ]
  },
  {
   "cell_type": "code",
   "execution_count": 47,
   "metadata": {},
   "outputs": [
    {
     "name": "stdout",
     "output_type": "stream",
     "text": [
      "IGRAPH U-WT 7518 67589 -- \n",
      "+ attr: freq (v), id (v), type (v), weight (e) \n",
      "\n",
      "Graph info:\n",
      "\t|V| = 7518\n",
      "\t|E| = 67589\n",
      "\t d  = 0.002391988817543408\n",
      "Clustering with 7518 elements and 301 clusters \n",
      "\n",
      "X\n",
      "X\n",
      "X\n",
      "X\n",
      "X\n",
      "X\n",
      "X\n"
     ]
    },
    {
     "data": {
      "text/plain": [
       "32"
      ]
     },
     "execution_count": 47,
     "metadata": {},
     "output_type": "execute_result"
    }
   ],
   "source": [
    "### Read GRAPH\n",
    "\n",
    "g1 = ig.read(GRAPH_PATH)\n",
    "print(g1.summary(), \"\\n\")\n",
    "\n",
    "print(\"Graph info:\")\n",
    "print(\"\\t|V| =\", g1.vcount())\n",
    "print(\"\\t|E| =\", g1.ecount())\n",
    "print(\"\\t d  =\", g1.density()) \n",
    "\n",
    "### Community Detection\n",
    "\n",
    "comms = g1.community_multilevel(weights=g1.es[\"weight\"])\n",
    "g1.vs[\"cls\"] = comms.membership\n",
    "print(comms.summary(), \"\\n\")\n",
    "\n",
    "comms_with_one = {subgraph.vs[\"cls\"][0]: subgraph for i, subgraph in enumerate(comms.subgraphs()) if len(subgraph.vs) > 5}\n",
    "comms_to_remove = [sg for sg in comms.subgraphs() if len(sg.vs) <= 5]\n",
    "\n",
    "nodes_to_remove = []\n",
    "for i in comms_to_remove:\n",
    "    for node in i.vs:\n",
    "        nodes_to_remove.append(node[\"id\"])\n",
    "len(nodes_to_remove)\n",
    "\n",
    "asd = []\n",
    "for node in nodes_to_remove:\n",
    "    asd.append(g1.vs.find(id_eq=node).index)\n",
    "\n",
    "g1.delete_vertices(asd)\n",
    "\n",
    "new_ids_comms = 1500\n",
    "for com in comms_with_one.values():\n",
    "    if com.density() > 0.5:\n",
    "        print(\"X\")\n",
    "        new_partition = com.community_multilevel(weights=com.es[\"weight\"])\n",
    "        for new_comms in new_partition.subgraphs():\n",
    "            for nodes in new_comms.vs():\n",
    "                node_to_add = g1.vs.find(id_eq=nodes[\"id\"])\n",
    "                node_to_add[\"cls\"] = new_ids_comms\n",
    "            new_ids_comms += 1\n",
    "\n",
    "len(set(g1.vs[\"cls\"]))        "
   ]
  },
  {
   "cell_type": "code",
   "execution_count": 48,
   "metadata": {},
   "outputs": [
    {
     "name": "stdout",
     "output_type": "stream",
     "text": [
      "IGRAPH U-WT 7518 67589 -- \n",
      "+ attr: freq (v), id (v), type (v), weight (e) \n",
      "\n",
      "Graph info:\n",
      "\t|V| = 7518\n",
      "\t|E| = 67589\n",
      "\t d  = 0.002391988817543408\n",
      "Clustering with 7518 elements and 298 clusters \n",
      "\n",
      "X\n",
      "X\n",
      "X\n",
      "X\n"
     ]
    },
    {
     "data": {
      "text/plain": [
       "26"
      ]
     },
     "execution_count": 48,
     "metadata": {},
     "output_type": "execute_result"
    }
   ],
   "source": [
    "### Read GRAPH\n",
    "\n",
    "g2 = ig.read(GRAPH_PATH)\n",
    "print(g2.summary(), \"\\n\")\n",
    "\n",
    "print(\"Graph info:\")\n",
    "print(\"\\t|V| =\", g2.vcount())\n",
    "print(\"\\t|E| =\", g2.ecount())\n",
    "print(\"\\t d  =\", g2.density()) \n",
    "\n",
    "### Community Detection\n",
    "\n",
    "comms = g2.community_multilevel(weights=g2.es[\"weight\"])\n",
    "g2.vs[\"cls\"] = comms.membership\n",
    "print(comms.summary(), \"\\n\")\n",
    "\n",
    "comms_with_one = {subgraph.vs[\"cls\"][0]: subgraph for i, subgraph in enumerate(comms.subgraphs()) if len(subgraph.vs) > 5}\n",
    "comms_to_remove = [sg for sg in comms.subgraphs() if len(sg.vs) <= 5]\n",
    "\n",
    "nodes_to_remove = []\n",
    "for i in comms_to_remove:\n",
    "    for node in i.vs:\n",
    "        nodes_to_remove.append(node[\"id\"])\n",
    "len(nodes_to_remove)\n",
    "\n",
    "asd = []\n",
    "for node in nodes_to_remove:\n",
    "    asd.append(g2.vs.find(id_eq=node).index)\n",
    "\n",
    "g2.delete_vertices(asd)\n",
    "\n",
    "new_ids_comms = 1500\n",
    "for com in comms_with_one.values():\n",
    "    if com.density() > 0.5:\n",
    "        print(\"X\")\n",
    "        new_partition = com.community_multilevel(weights=com.es[\"weight\"])\n",
    "        for new_comms in new_partition.subgraphs():\n",
    "            for nodes in new_comms.vs():\n",
    "                node_to_add = g2.vs.find(id_eq=nodes[\"id\"])\n",
    "                node_to_add[\"cls\"] = new_ids_comms\n",
    "            new_ids_comms += 1\n",
    "\n",
    "len(set(g2.vs[\"cls\"]))        "
   ]
  },
  {
   "cell_type": "code",
   "execution_count": 49,
   "metadata": {},
   "outputs": [
    {
     "name": "stdout",
     "output_type": "stream",
     "text": [
      "IGRAPH U-WT 7518 67589 -- \n",
      "+ attr: freq (v), id (v), type (v), weight (e) \n",
      "\n",
      "Graph info:\n",
      "\t|V| = 7518\n",
      "\t|E| = 67589\n",
      "\t d  = 0.002391988817543408\n",
      "Clustering with 7518 elements and 298 clusters \n",
      "\n",
      "X\n",
      "X\n",
      "X\n"
     ]
    },
    {
     "data": {
      "text/plain": [
       "25"
      ]
     },
     "execution_count": 49,
     "metadata": {},
     "output_type": "execute_result"
    }
   ],
   "source": [
    "### Read GRAPH\n",
    "\n",
    "g3 = ig.read(GRAPH_PATH)\n",
    "print(g3.summary(), \"\\n\")\n",
    "\n",
    "print(\"Graph info:\")\n",
    "print(\"\\t|V| =\", g3.vcount())\n",
    "print(\"\\t|E| =\", g3.ecount())\n",
    "print(\"\\t d  =\", g3.density()) \n",
    "\n",
    "### Community Detection\n",
    "\n",
    "comms = g3.community_multilevel(weights=g3.es[\"weight\"])\n",
    "g3.vs[\"cls\"] = comms.membership\n",
    "print(comms.summary(), \"\\n\")\n",
    "\n",
    "comms_with_one = {subgraph.vs[\"cls\"][0]: subgraph for i, subgraph in enumerate(comms.subgraphs()) if len(subgraph.vs) > 5}\n",
    "comms_to_remove = [sg for sg in comms.subgraphs() if len(sg.vs) <= 5]\n",
    "\n",
    "nodes_to_remove = []\n",
    "for i in comms_to_remove:\n",
    "    for node in i.vs:\n",
    "        nodes_to_remove.append(node[\"id\"])\n",
    "len(nodes_to_remove)\n",
    "\n",
    "asd = []\n",
    "for node in nodes_to_remove:\n",
    "    asd.append(g3.vs.find(id_eq=node).index)\n",
    "\n",
    "g3.delete_vertices(asd)\n",
    "\n",
    "new_ids_comms = 1500\n",
    "for com in comms_with_one.values():\n",
    "    if com.density() > 0.5:\n",
    "        print(\"X\")\n",
    "        new_partition = com.community_multilevel(weights=com.es[\"weight\"])\n",
    "        for new_comms in new_partition.subgraphs():\n",
    "            for nodes in new_comms.vs():\n",
    "                node_to_add = g3.vs.find(id_eq=nodes[\"id\"])\n",
    "                node_to_add[\"cls\"] = new_ids_comms\n",
    "            new_ids_comms += 1\n",
    "\n",
    "len(set(g3.vs[\"cls\"]))        "
   ]
  },
  {
   "cell_type": "code",
   "execution_count": 63,
   "metadata": {},
   "outputs": [],
   "source": [
    "def get_neis_same_comm(node, graph_):\n",
    "    node_new = graph_.vs.find(id_eq=node[\"id\"])\n",
    "    neis = graph_.neighbors(node_new)\n",
    "    set_to_ret = []\n",
    "    for it in neis:\n",
    "        to_search = graph_.vs()[it]\n",
    "        try:\n",
    "            if to_search[\"cls\"] == node[\"cls\"]:\n",
    "                set_to_ret.append(to_search[\"id\"])\n",
    "        except KeyError:\n",
    "            pass  # Ignora el vértice si no tiene el atributo 'cls'\n",
    "    return set(set_to_ret)"
   ]
  },
  {
   "cell_type": "code",
   "execution_count": 61,
   "metadata": {},
   "outputs": [
    {
     "data": {
      "text/plain": [
       "{9565.0,\n",
       " 9739.0,\n",
       " 9840.0,\n",
       " 9880.0,\n",
       " 10349.0,\n",
       " 10511.0,\n",
       " 10584.0,\n",
       " 11045.0,\n",
       " 11115.0,\n",
       " 11568.0,\n",
       " 11747.0,\n",
       " 11825.0,\n",
       " 12388.0,\n",
       " 12424.0,\n",
       " 12679.0,\n",
       " 12807.0,\n",
       " 12886.0,\n",
       " 12922.0,\n",
       " 13055.0,\n",
       " 13206.0,\n",
       " 13208.0,\n",
       " 13353.0,\n",
       " 13385.0,\n",
       " 13487.0,\n",
       " 14219.0,\n",
       " 14920.0,\n",
       " 15304.0,\n",
       " 15611.0,\n",
       " 15726.0,\n",
       " 16206.0,\n",
       " 16366.0,\n",
       " 16383.0,\n",
       " 16544.0,\n",
       " 16656.0,\n",
       " 16661.0,\n",
       " 16744.0,\n",
       " 17035.0}"
      ]
     },
     "execution_count": 61,
     "metadata": {},
     "output_type": "execute_result"
    }
   ],
   "source": [
    "get_neis_same_comm(g1.vs[0], g1)"
   ]
  },
  {
   "cell_type": "code",
   "execution_count": 67,
   "metadata": {},
   "outputs": [
    {
     "name": "stdout",
     "output_type": "stream",
     "text": [
      "set()\n",
      "set()\n",
      "set()\n",
      "set()\n",
      "set()\n",
      "set()\n",
      "set()\n",
      "set()\n",
      "set()\n",
      "set()\n",
      "set()\n",
      "set()\n",
      "set()\n",
      "set()\n",
      "set()\n",
      "set()\n",
      "set()\n",
      "set()\n",
      "set()\n",
      "set()\n",
      "set()\n",
      "set()\n",
      "set()\n",
      "set()\n",
      "set()\n",
      "set()\n",
      "set()\n",
      "set()\n",
      "set()\n",
      "set()\n",
      "set()\n",
      "set()\n",
      "set()\n",
      "set()\n",
      "set()\n",
      "set()\n",
      "set()\n",
      "set()\n",
      "set()\n",
      "set()\n",
      "set()\n",
      "set()\n",
      "set()\n",
      "set()\n",
      "set()\n",
      "set()\n",
      "set()\n",
      "set()\n",
      "set()\n",
      "set()\n",
      "set()\n",
      "set()\n",
      "set()\n",
      "set()\n",
      "set()\n",
      "set()\n",
      "set()\n",
      "set()\n",
      "set()\n",
      "set()\n",
      "set()\n",
      "set()\n",
      "set()\n",
      "set()\n",
      "set()\n",
      "set()\n",
      "set()\n",
      "set()\n",
      "set()\n",
      "set()\n",
      "set()\n",
      "set()\n",
      "set()\n",
      "set()\n",
      "set()\n",
      "set()\n",
      "set()\n",
      "set()\n",
      "set()\n",
      "set()\n",
      "set()\n",
      "set()\n",
      "set()\n",
      "set()\n",
      "set()\n",
      "set()\n",
      "set()\n",
      "set()\n",
      "set()\n",
      "set()\n",
      "set()\n",
      "set()\n",
      "set()\n",
      "set()\n",
      "set()\n",
      "set()\n",
      "set()\n",
      "set()\n",
      "set()\n",
      "set()\n",
      "set()\n",
      "set()\n",
      "set()\n",
      "set()\n",
      "set()\n",
      "set()\n",
      "set()\n",
      "set()\n"
     ]
    },
    {
     "ename": "ValueError",
     "evalue": "no such vertex",
     "output_type": "error",
     "traceback": [
      "\u001b[0;31m---------------------------------------------------------------------------\u001b[0m",
      "\u001b[0;31mValueError\u001b[0m                                Traceback (most recent call last)",
      "Cell \u001b[0;32mIn[67], line 3\u001b[0m\n\u001b[1;32m      1\u001b[0m dict_to_me \u001b[38;5;241m=\u001b[39m {}\n\u001b[1;32m      2\u001b[0m \u001b[38;5;28;01mfor\u001b[39;00m node \u001b[38;5;129;01min\u001b[39;00m g\u001b[38;5;241m.\u001b[39mvs():\n\u001b[0;32m----> 3\u001b[0m     set1 \u001b[38;5;241m=\u001b[39m \u001b[43mget_neis_same_comm\u001b[49m\u001b[43m(\u001b[49m\u001b[43mnode\u001b[49m\u001b[43m,\u001b[49m\u001b[43m \u001b[49m\u001b[43mg1\u001b[49m\u001b[43m)\u001b[49m\n\u001b[1;32m      4\u001b[0m     \u001b[38;5;28mprint\u001b[39m(set1)\n\u001b[1;32m      5\u001b[0m     set2 \u001b[38;5;241m=\u001b[39m get_neis_same_comm(node, g2)\n",
      "Cell \u001b[0;32mIn[63], line 2\u001b[0m, in \u001b[0;36mget_neis_same_comm\u001b[0;34m(node, graph_)\u001b[0m\n\u001b[1;32m      1\u001b[0m \u001b[38;5;28;01mdef\u001b[39;00m \u001b[38;5;21mget_neis_same_comm\u001b[39m(node, graph_):\n\u001b[0;32m----> 2\u001b[0m     node_new \u001b[38;5;241m=\u001b[39m \u001b[43mgraph_\u001b[49m\u001b[38;5;241;43m.\u001b[39;49m\u001b[43mvs\u001b[49m\u001b[38;5;241;43m.\u001b[39;49m\u001b[43mfind\u001b[49m\u001b[43m(\u001b[49m\u001b[43mid_eq\u001b[49m\u001b[38;5;241;43m=\u001b[39;49m\u001b[43mnode\u001b[49m\u001b[43m[\u001b[49m\u001b[38;5;124;43m\"\u001b[39;49m\u001b[38;5;124;43mid\u001b[39;49m\u001b[38;5;124;43m\"\u001b[39;49m\u001b[43m]\u001b[49m\u001b[43m)\u001b[49m\n\u001b[1;32m      3\u001b[0m     neis \u001b[38;5;241m=\u001b[39m graph_\u001b[38;5;241m.\u001b[39mneighbors(node_new)\n\u001b[1;32m      4\u001b[0m     set_to_ret \u001b[38;5;241m=\u001b[39m []\n",
      "File \u001b[0;32m~/miniconda3/envs/tesis/lib/python3.10/site-packages/igraph/__init__.py:4427\u001b[0m, in \u001b[0;36mVertexSeq.find\u001b[0;34m(self, *args, **kwds)\u001b[0m\n\u001b[1;32m   4425\u001b[0m \u001b[38;5;28;01mif\u001b[39;00m vs:\n\u001b[1;32m   4426\u001b[0m     \u001b[38;5;28;01mreturn\u001b[39;00m vs[\u001b[38;5;241m0\u001b[39m]\n\u001b[0;32m-> 4427\u001b[0m \u001b[38;5;28;01mraise\u001b[39;00m \u001b[38;5;167;01mValueError\u001b[39;00m(\u001b[38;5;124m\"\u001b[39m\u001b[38;5;124mno such vertex\u001b[39m\u001b[38;5;124m\"\u001b[39m)\n",
      "\u001b[0;31mValueError\u001b[0m: no such vertex"
     ]
    }
   ],
   "source": [
    "dict_to_me = {}\n",
    "for node in g.vs():\n",
    "    set1 = get_neis_same_comm(node, g1)\n",
    "    print(set1)\n",
    "    set2 = get_neis_same_comm(node, g2)\n",
    "    print(set2)\n",
    "    set3 = get_neis_same_comm(node, g3)\n",
    "    print(set3)\n",
    "\n",
    "    union_ = set1.union(set2.union(set3))\n",
    "    inter = set1.intersection(set2.intersection(set3))\n",
    "    if len(union_) != 0:\n",
    "        jsim = len(inter) / len(union_)\n",
    "        dict_to_me[node[\"id\"]] = jsim\n",
    "dict_to_me"
   ]
  }
 ],
 "metadata": {
  "kernelspec": {
   "display_name": "Python 3 (ipykernel)",
   "language": "python",
   "name": "python3"
  }
 },
 "nbformat": 4,
 "nbformat_minor": 2
}
