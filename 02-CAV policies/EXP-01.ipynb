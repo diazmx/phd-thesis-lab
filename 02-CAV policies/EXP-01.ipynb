{
 "cells": [
  {
   "attachments": {},
   "cell_type": "markdown",
   "metadata": {},
   "source": [
    "# EXP-01\n",
    "----------\n",
    "Policy mining based on complex network approach."
   ]
  },
  {
   "attachments": {},
   "cell_type": "markdown",
   "metadata": {},
   "source": [
    "### Import libraries"
   ]
  },
  {
   "cell_type": "code",
   "execution_count": 1,
   "metadata": {},
   "outputs": [],
   "source": [
    "# import libraries\n",
    "import numpy as np\n",
    "import pandas as pd\n",
    "import igraph as ig\n",
    "import networkx as nx\n",
    "import matplotlib.pyplot as plt\n",
    "from sklearn.model_selection import train_test_split, KFold, StratifiedKFold, StratifiedShuffleSplit\n",
    "from apriori_python import apriori"
   ]
  },
  {
   "attachments": {},
   "cell_type": "markdown",
   "metadata": {},
   "source": [
    "### Load data"
   ]
  },
  {
   "attachments": {},
   "cell_type": "markdown",
   "metadata": {},
   "source": [
    "#### Auxiliar"
   ]
  },
  {
   "cell_type": "code",
   "execution_count": 2,
   "metadata": {},
   "outputs": [],
   "source": [
    "def get_user_res(dataf, attr_list, user_):\n",
    "    dict_temp = {}\n",
    "    for i, j in enumerate(dataf[attr_list].drop_duplicates().values):\n",
    "        if user_:\n",
    "            idx = str(i) + \"101\"\n",
    "        else:\n",
    "            idx = str(i) + \"202\"\n",
    "        dict_temp[int(idx)] = list(j)\n",
    "    return dict_temp\n",
    "\n",
    "def add_col(dataf, dict_, attr_list, name_col):\n",
    "    list_users = []  # List to save users\n",
    "    key_list = list(dict_.keys())\n",
    "    val_list = list(dict_.values())\n",
    "\n",
    "    for item in dataf[attr_list].values:\n",
    "        if list(item) in val_list:\n",
    "            idx = val_list.index(list(item))\n",
    "            list_users.append(key_list[idx])\n",
    "        else:\n",
    "            list_users.append(11111111)\n",
    "\n",
    "    dataf[name_col] = list_users\n",
    "    return dataf"
   ]
  },
  {
   "attachments": {},
   "cell_type": "markdown",
   "metadata": {},
   "source": [
    "#### Load data\n"
   ]
  },
  {
   "cell_type": "code",
   "execution_count": 140,
   "metadata": {},
   "outputs": [
    {
     "name": "stdout",
     "output_type": "stream",
     "text": [
      "Columns:  Index(['driving_task_type', 'control', 'monitoring', 'fallback', 'weather',\n",
      "       'visibility', 'traffic_congestion', 'environmental_weighted_average',\n",
      "       'driving_task_loa', 'vehicle_loa', 'region_loa', 'result'],\n",
      "      dtype='object')\n",
      "Lenght:  30000\n",
      "\n",
      "# User attr: 6\n",
      "# Rsrc attr: 3\n",
      "\n",
      "|U| = 6582\n",
      "|R| = 216\n",
      "\n",
      "|L+| = 15000 50.00%\n",
      "|L-| = 15000 50.00%\n"
     ]
    }
   ],
   "source": [
    "# Load data\n",
    "url_file = '../00-Data/cav_policies.csv'\n",
    "cav_data = pd.read_csv(url_file)\n",
    "\n",
    "# Get a smaller sample: 15K positive and 15k negative.\n",
    "cav_data = cav_data.groupby('result').sample(n=15000)\n",
    "print(\"Columns: \", cav_data.columns)\n",
    "print(\"Lenght: \", len(cav_data)); print()\n",
    "\n",
    "# Change string values to numerical\n",
    "mapping = {'system': 10101, 'human': 10201, 'human and system': 10301} # Control\n",
    "cav_data.control = cav_data.control.replace(mapping)\n",
    "\n",
    "mapping = {'system': 20102, 'human': 20202} # monitoring\n",
    "cav_data.monitoring = cav_data.monitoring.replace(mapping)\n",
    "\n",
    "mapping = {'system': 30103, 'human': 30203} # fallbacj\n",
    "cav_data.fallback = cav_data.fallback.replace(mapping)\n",
    "\n",
    "\n",
    "user_attr = ['control', 'monitoring', 'fallback', 'weather', 'visibility', \n",
    "        'traffic_congestion']\n",
    "#user_attr = ['control', 'monitoring', 'fallback']\n",
    "rsrc_attr = ['driving_task_loa', 'vehicle_loa', 'region_loa']\n",
    "print(\"# User attr:\", len(user_attr))\n",
    "print(\"# Rsrc attr:\", len(rsrc_attr)); print()\n",
    "\n",
    "# Data statictics:\n",
    "n_users = len(cav_data[user_attr].drop_duplicates())\n",
    "n_rscrc = len(cav_data[rsrc_attr].drop_duplicates())\n",
    "print(\"|U| =\", n_users)\n",
    "print(\"|R| =\", n_rscrc); print()\n",
    "\n",
    "# Add user and resource id columns\n",
    "user_dict = get_user_res(cav_data, user_attr, True)\n",
    "rsrc_dict = get_user_res(cav_data, rsrc_attr, False)\n",
    "cav_data = add_col(cav_data, user_dict, user_attr, \"USRID\")\n",
    "cav_data = add_col(cav_data, rsrc_dict, rsrc_attr, \"RESID\")\n",
    "\n",
    "# Accepted and rejected requests\n",
    "cav_pos = cav_data[cav_data.result == 'approved']\n",
    "cav_neg = cav_data[cav_data.result == 'rejected']\n",
    "print(\"|L+| =\", len(cav_pos), \"{:.2f}%\".format((len(cav_pos) \n",
    "        / len(cav_data) ) * 100))\n",
    "print(\"|L-| =\", len(cav_neg), \"{:.2f}%\".format((len(cav_neg) \n",
    "        / len(cav_data) ) * 100))"
   ]
  },
  {
   "cell_type": "code",
   "execution_count": 4,
   "metadata": {},
   "outputs": [
    {
     "name": "stdout",
     "output_type": "stream",
     "text": [
      "Done!\n",
      " - k = 10\n",
      " - Train-Test size:  80.0 20.0\n"
     ]
    }
   ],
   "source": [
    "# Cross validation\n",
    "k = 10\n",
    "test_size = 0.2\n",
    "kfold = StratifiedShuffleSplit(n_splits=k, test_size=test_size, random_state=1)\n",
    "\n",
    "data_partition = kfold.split(cav_data, cav_data.result)\n",
    "data_curpus = [] # A list to storage the k folds\n",
    "\n",
    "for train_data, test_data in data_partition:\n",
    "    X_train, X_test = cav_data.iloc[train_data], cav_data.iloc[test_data]\n",
    "    data_curpus.append([X_train, X_test])\n",
    "\n",
    "print(\"Done!\")\n",
    "print(\" - k =\", k)\n",
    "print(\" - Train-Test size: \", (1-test_size)*100, test_size*100)"
   ]
  },
  {
   "attachments": {},
   "cell_type": "markdown",
   "metadata": {},
   "source": [
    "## Data preprocessing"
   ]
  },
  {
   "cell_type": "markdown",
   "metadata": {},
   "source": [
    "#### Task 1, 2 and 3"
   ]
  },
  {
   "cell_type": "code",
   "execution_count": 5,
   "metadata": {},
   "outputs": [
    {
     "name": "stdout",
     "output_type": "stream",
     "text": [
      "# Train access request = 24000 80.00%\n",
      "# Train access request = 6000 80.00%\n",
      "Total = 30000\n",
      "\n",
      "TASK 1: Done!\n",
      "\n",
      "TASK 2: Done!\n",
      "\n",
      "TASK 3: Drop duplicates access requests\n",
      " -TRAIN DATA: Removing 0 positive access requests\n",
      " -TRAIN DATA: Removing 0 negative access requests\n",
      " -TEST DATA: Removing 0 positive access requests\n",
      " -TEST DATA: Removing 0 negative access requests\n"
     ]
    }
   ],
   "source": [
    "id_kfold = 1\n",
    "\n",
    "cav_train, cav_test = data_curpus[id_kfold][0], data_curpus[id_kfold][1]\n",
    "print(\"# Train access request =\", len(cav_train), \"{:.2f}%\".format(\n",
    "    len(cav_train)/(len(cav_train)+len(cav_test))*100))\n",
    "print(\"# Train access request =\", len(cav_test), \"{:.2f}%\".format(\n",
    "    len(cav_train)/(len(cav_train)+len(cav_test))*100))\n",
    "print(\"Total =\", len(cav_train)+len(cav_test)); print()\n",
    "\n",
    "#### **** SELECT FUNCTIONAL ATTRIBUTES **** ####\n",
    "cav_train = cav_train[user_attr + rsrc_attr + ['USRID', 'RESID', 'result']]\n",
    "cav_test = cav_test[user_attr + rsrc_attr + ['USRID', 'RESID', 'result']]\n",
    "\n",
    "##### ***** Task 1: Null and uknwokn values ***** #####\n",
    "print(\"TASK 1: Done!\"); print() # NA\n",
    "\n",
    "\n",
    "##### ***** TASK 2: convert continuous values to categorical values ***** #####\n",
    "print(\"TASK 2: Done!\"); print() # NA \n",
    "\n",
    "##### ***** TASK 3: Drop duplicates access requests ***** #####\n",
    "print(\"TASK 3: Drop duplicates access requests\")\n",
    "\n",
    "positive_cav_train = cav_train[cav_train.result=='approved']\n",
    "positive_cav_test = cav_test[cav_test.result=='approved']\n",
    "negative_cav_train = cav_train[cav_train.result=='rejected']\n",
    "negative_cav_test = cav_test[cav_test.result=='rejected']\n",
    "\n",
    "\n",
    "print(\" -TRAIN DATA: Removing\", \n",
    "    len(positive_cav_train.drop_duplicates()) - \n",
    "    len(positive_cav_train), \"positive access requests\")\n",
    "print(\" -TRAIN DATA: Removing\", \n",
    "    len(negative_cav_train.drop_duplicates()) - \n",
    "    len(negative_cav_train), \"negative access requests\")\n",
    "print(\" -TEST DATA: Removing\", \n",
    "    len(positive_cav_test.drop_duplicates()) - \n",
    "    len(positive_cav_test), \"positive access requests\")\n",
    "print(\" -TEST DATA: Removing\", \n",
    "    len(negative_cav_test.drop_duplicates()) - \n",
    "    len(negative_cav_test), \"negative access requests\")"
   ]
  },
  {
   "cell_type": "markdown",
   "metadata": {},
   "source": [
    "## Network modelling"
   ]
  },
  {
   "cell_type": "markdown",
   "metadata": {},
   "source": [
    "### TASK 1: Bipartite Access Requests Network"
   ]
  },
  {
   "cell_type": "code",
   "execution_count": 13,
   "metadata": {},
   "outputs": [
    {
     "name": "stdout",
     "output_type": "stream",
     "text": [
      "IGRAPH UN-- 4908 12000 -- \n",
      "+ attr: name (v), typen (v)\n",
      "User nodes = 4817\n",
      "Rsrc nodes = 91\n",
      "Is bipartite?  True\n"
     ]
    }
   ],
   "source": [
    "edges = []\n",
    "for usr_idx, rsr_idx in positive_cav_train[['USRID', 'RESID']].values:\n",
    "    edges.append((int(usr_idx), int(rsr_idx)))\n",
    "gb = nx.Graph()\n",
    "gb.add_edges_from(edges)\n",
    "\n",
    "gb = ig.Graph.from_networkx(gb)\n",
    "gb.vs[\"name\"] = gb.vs[\"_nx_name\"]\n",
    "del gb.vs[\"_nx_name\"]\n",
    "\n",
    "# Identify user and resources NODES\n",
    "list_temp = list(positive_cav_train.USRID)\n",
    "list_type = []\n",
    "for node in gb.vs():\n",
    "    if node['name'] in list_temp:\n",
    "        list_type.append(0)\n",
    "    else:\n",
    "        list_type.append(1)\n",
    "\n",
    "gb.vs['typen'] = list_type\n",
    "print(gb.summary())\n",
    "print(\"User nodes =\", len(gb.vs.select(typen=0)))\n",
    "print(\"Rsrc nodes =\", len(gb.vs.select(typen=1)))\n",
    "print(\"Is bipartite? \", gb.is_bipartite())\n",
    "\n",
    "ig.write(gb, \"output-files/bi-cav.gml\")"
   ]
  },
  {
   "cell_type": "markdown",
   "metadata": {},
   "source": [
    "### TASK 2: User Network"
   ]
  },
  {
   "cell_type": "markdown",
   "metadata": {},
   "source": [
    "#### Auxiliar"
   ]
  },
  {
   "cell_type": "code",
   "execution_count": 7,
   "metadata": {},
   "outputs": [],
   "source": [
    "def edge_weight(node_u, node_v):\n",
    "    \"\"\"Return the edge weight between two nodes.\"\"\"\n",
    "    neig_u = set(node_u.neighbors())\n",
    "    neig_v = set(node_v.neighbors())\n",
    "    inter_neig_uv = neig_u.intersection(neig_v)\n",
    "\n",
    "    return (len(inter_neig_uv) / len(neig_u)) * (len(inter_neig_uv) / len(neig_v))\n",
    "\n",
    "def graph_projectionB(bipartite_graph):\n",
    "    G = nx.Graph()        \n",
    "    for r_node in bipartite_graph.vs.select(typen=1): # Every resource\n",
    "        neighborhood = r_node.neighbors()\n",
    "        for u_node in neighborhood:\n",
    "            for v_node in neighborhood:\n",
    "                if u_node[\"name\"] != v_node[\"name\"]:\n",
    "                    if G.has_edge(u_node[\"name\"], v_node[\"name\"]):\n",
    "                        pass\n",
    "                    else:\n",
    "                        G.add_edge(u_node[\"name\"], v_node[\"name\"], weight=edge_weight(u_node, v_node) )                                 \n",
    "    return G\n",
    "\n",
    "def graph_projectionC(bipartite_graph):\n",
    "    G = nx.Graph()        \n",
    "    for r_node in bipartite_graph.vs.select(typen=1): # Every resource\n",
    "        neighborhood = r_node.neighbors()\n",
    "        wei_local = 1 / len(neighborhood)\n",
    "        for i in range(len(neighborhood)): # Load every list\n",
    "            for j in range(i+1, len(neighborhood)):\n",
    "                if G.has_edge(neighborhood[i][\"name\"], neighborhood[j][\"name\"]):\n",
    "                    G[neighborhood[i][\"name\"]][neighborhood[j][\"name\"]]['weight'] += wei_local\n",
    "                else:\n",
    "                    G.add_edge(neighborhood[i][\"name\"], neighborhood[j][\"name\"], weight=wei_local)                            \n",
    "    return G\n",
    "\n",
    "def partition_quality(G, partition):\n",
    "    \"\"\"Returns the coverage and performance of a partition of G.\n",
    "\n",
    "    The *coverage* of a partition is the ratio of the number of\n",
    "    intra-community edges to the total number of edges in the graph.\n",
    "\n",
    "    The *performance* of a partition is the number of\n",
    "    intra-community edges plus inter-community non-edges divided by the total\n",
    "    number of potential edges.\n",
    "\n",
    "    This algorithm has complexity $O(C^2 + L)$ where C is the number of communities and L is the number of links.\n",
    "\n",
    "    Parameters\n",
    "    ----------\n",
    "    G : igraph graph\n",
    "\n",
    "    partition : sequence\n",
    "        Partition of the nodes of `G`, represented as a sequence of\n",
    "        sets of nodes (blocks). Each block of the partition represents a\n",
    "        community.\n",
    "\n",
    "    Returns\n",
    "    -------\n",
    "    (float, float)\n",
    "        The (coverage, performance) tuple of the partition, as defined above.\n",
    "\n",
    "    Raises\n",
    "    ------\n",
    "    NetworkXError\n",
    "        If `partition` is not a valid partition of the nodes of `G`.\n",
    "\n",
    "    Notes\n",
    "    -----\n",
    "    If `G` is a multigraph;\n",
    "        - for coverage, the multiplicity of edges is counted\n",
    "        - for performance, the result is -1 (total number of possible edges is not defined)\n",
    "\n",
    "    References\n",
    "    ----------\n",
    "    .. [1] Santo Fortunato.\n",
    "           \"Community Detection in Graphs\".\n",
    "           *Physical Reports*, Volume 486, Issue 3--5 pp. 75--174\n",
    "           <https://arxiv.org/abs/0906.0612>\n",
    "    \"\"\"\n",
    "\n",
    "    node_community = {}\n",
    "    for i, community in enumerate(partition.membership):\n",
    "        #for node in community:\n",
    "        node_community[i] = community\n",
    "\n",
    "    # Iterate over the communities, quadratic, to calculate \n",
    "    # `possible_inter_community_edges`\n",
    "    possible_inter_community_edges = sum(\n",
    "        p1 * p2 for p1, p2 in combinations(partition.sizes(), 2)\n",
    "    )\n",
    "    # Compute the number of edges in the complete graph -- `n` nodes,\n",
    "    # directed or undirected, depending on `G`\n",
    "    n = G.vcount()\n",
    "    total_pairs = n * (n - 1)\n",
    "    total_pairs //= 2\n",
    "\n",
    "    intra_community_edges = 0\n",
    "    inter_community_non_edges = possible_inter_community_edges\n",
    "\n",
    "    # Iterate over the links to count `intra_community_edges` and `inter_community_non_edges`\n",
    "    for e in G.es():\n",
    "        if node_community[e.tuple[0]] == node_community[e.tuple[1]]:\n",
    "            intra_community_edges += 1\n",
    "        else:\n",
    "            inter_community_non_edges -= 1\n",
    "\n",
    "    coverage = intra_community_edges / G.ecount()\n",
    "    performance = (intra_community_edges + inter_community_non_edges) / total_pairs\n",
    "\n",
    "    return coverage, performance"
   ]
  },
  {
   "cell_type": "markdown",
   "metadata": {},
   "source": [
    "#### Main"
   ]
  },
  {
   "cell_type": "code",
   "execution_count": 14,
   "metadata": {},
   "outputs": [
    {
     "name": "stdout",
     "output_type": "stream",
     "text": [
      "Name: \n",
      "Type: Graph\n",
      "Number of nodes: 4817\n",
      "Number of edges: 706967\n",
      "Average degree: 293.5300\n",
      "IGRAPH UNW- 4817 706967 -- \n",
      "+ attr: name (v), weight (e)\n",
      "None\n"
     ]
    }
   ],
   "source": [
    "g_proj_B = graph_projectionB(gb) # Bipartite projection\n",
    "print(nx.info(g_proj_B)) # Networkx network\n",
    "\n",
    "# Convert to igraph object graph\n",
    "g_proj_B = ig.Graph.from_networkx(g_proj_B)\n",
    "g_proj_B.vs[\"name\"] = g_proj_B.vs[\"_nx_name\"]\n",
    "del g_proj_B.vs[\"_nx_name\"]\n",
    "print(ig.summary(g_proj_B)) # igraph network"
   ]
  },
  {
   "attachments": {},
   "cell_type": "markdown",
   "metadata": {},
   "source": [
    "### TASK 3: Network Analysis"
   ]
  },
  {
   "cell_type": "code",
   "execution_count": 15,
   "metadata": {},
   "outputs": [
    {
     "name": "stdout",
     "output_type": "stream",
     "text": [
      "P1: n = |V|, m = |E| commonly in the order of thousands or millions.\n",
      "Vértices:  4817\n",
      "Aristas:  706967\n",
      "\n",
      "P2: low average degree *k* << n.\n",
      "Avarage Degree (k): 293.5300  << 4817\n",
      "\n",
      "P3: low density d << 1.\n",
      "Density: 0.0609  << 4817\n",
      "\n",
      "P4: low average path length L << n.\n",
      "Average Path Length : 1.7259  << 4817\n",
      "\n",
      "P5: hight average cluster coefficient 1/n << *C* < 1.\n",
      "0.0002 << Average Path Length : 0.7025  < 1\n",
      "\n",
      "P6: Scale-free distribution p(k) = ∼k^{−α}.\n"
     ]
    },
    {
     "data": {
      "image/png": "[encoded data removed]",
      "text/plain": [
       "<Figure size 1440x720 with 1 Axes>"
      ]
     },
     "metadata": {
      "needs_background": "light"
     },
     "output_type": "display_data"
    },
    {
     "name": "stdout",
     "output_type": "stream",
     "text": [
      "\n"
     ]
    }
   ],
   "source": [
    "##### P1: n = |V|, m = |E| commonly in the order of thousands or millions. #####\n",
    "n = g_proj_B.vcount()\n",
    "m = g_proj_B.ecount()\n",
    "print(\"P1: n = |V|, m = |E| commonly in the order of thousands or millions.\")\n",
    "print(\"Vértices: \", n)\n",
    "print(\"Aristas: \", m)\n",
    "print()\n",
    "\n",
    "##### P2: low average degree *k* << n. #####\n",
    "print(\"P2: low average degree *k* << n.\")\n",
    "print(\"Avarage Degree (k): {:.4f}\".format(ig.mean(g_proj_B.degree())), \" <<\", n)\n",
    "print()\n",
    "\n",
    "##### P3: low density d << 1. #####\n",
    "print(\"P3: low density d << 1.\")\n",
    "d = g_proj_B.density()\n",
    "print(\"Density: {:.4f}\".format(d), \" <<\",n)\n",
    "print()\n",
    "\n",
    "##### P4: low average path length L << n. #####\n",
    "print(\"P4: low average path length L << n.\")\n",
    "L = g_proj_B.average_path_length()\n",
    "print(\"Average Path Length :\", \"{:.4f}\".format(L), \" <<\", n)\n",
    "print()\n",
    "\n",
    "##### P5: hight average cluster coefficient 1/n << *C* < 1. #####\n",
    "print(\"P5: hight average cluster coefficient 1/n << *C* < 1.\")\n",
    "cc = g_proj_B.transitivity_avglocal_undirected()\n",
    "print(\"{:.4f}\".format(1/n),\"<<\",\"Average Path Length :\", \n",
    "    \"{:.4f}\".format(cc), \" <\", 1)\n",
    "print()\n",
    "\n",
    "##### P6: Scale-free distribution p(k) = ∼k−α. #####\n",
    "print(\"P6: Scale-free distribution p(k) = ∼k^{−α}.\")\n",
    "distri_grados = [i/g_proj_B.vcount() for i in g_proj_B.degree()]\n",
    "plt.figure(figsize=(20,10))\n",
    "plt.plot(sorted(distri_grados,reverse=True))\n",
    "#x1, y1 = [100, 700], [0.13, 0.015]\n",
    "#x2, y2 = [1, 231], [3, 2]\n",
    "#plt.plot(x1, y1, marker = 'o')\n",
    "plt.yscale(\"log\")\n",
    "plt.xscale(\"log\")\n",
    "plt.show()\n",
    "print()"
   ]
  },
  {
   "cell_type": "markdown",
   "metadata": {},
   "source": [
    "## Community Detection"
   ]
  },
  {
   "attachments": {},
   "cell_type": "markdown",
   "metadata": {},
   "source": [
    "### Auxiliar"
   ]
  },
  {
   "cell_type": "code",
   "execution_count": 54,
   "metadata": {},
   "outputs": [],
   "source": [
    "def num_recursos(user_sets, grafo_bip):\n",
    "    all_recursos = set()\n",
    "    user_sets = [int(float(i)) for i in user_sets]\n",
    "    for user in user_sets:\n",
    "        #user_node = grafo_bip.vs.find(name=int(float(user)))\n",
    "        #print(user)\n",
    "        try:\n",
    "            user_node = grafo_bip.vs.find(name=user)\n",
    "        except:\n",
    "            continue\n",
    "        vecinos_recurso = user_node.neighbors()\n",
    "        vecinos_recurso = [nodo[\"name\"] for nodo in vecinos_recurso]\n",
    "        vecinos_recurso = set(vecinos_recurso)    \n",
    "        all_recursos = all_recursos.union(vecinos_recurso)\n",
    "    return list(all_recursos)            \n",
    "\n",
    "def numero_registros2(sub_com, dataf):\n",
    "    \"\"\"Retorna los registros en una comunidad.\"\"\"\n",
    "    dict_resc = {}\n",
    "    for node in sub_com.vs():\n",
    "        recursos = list(dataf[dataf.USRID == float(node[\"label\"])][\"RESID\"])\n",
    "        for i in recursos:\n",
    "            if i in dict_resc.keys():\n",
    "                dict_resc[i] += 1\n",
    "            else:\n",
    "                dict_resc[i] = 1\n",
    "    \n",
    "    # Remove low values\n",
    "    dict_temp = {}\n",
    "    for item in dict_resc.items():\n",
    "        if item[1] > 2:\n",
    "            dict_temp[item[0]] = item[1]\n",
    "    dict_temp = dict(sorted(dict_temp.items(), key=lambda item: item[1], reverse=True))\n",
    "\n",
    "    if len(dict_temp) < 1:\n",
    "        return  len(list(dict_temp.keys()))\n",
    "    return len(list(dict_temp.keys()))\n",
    "\n",
    "def numero_registros3(sub_com, dataf):\n",
    "    \"\"\"Retorna los registros en una comunidad.\"\"\"\n",
    "    dict_resc = {}\n",
    "    for node in sub_com.vs():\n",
    "        recursos = list(dataf[dataf.USRID == float(node[\"label\"])][\"RESID\"])\n",
    "        for i in recursos:\n",
    "            if i in dict_resc.keys():\n",
    "                dict_resc[i] += 1\n",
    "            else:\n",
    "                dict_resc[i] = 1\n",
    "    \n",
    "    # Remove low values\n",
    "    dict_temp = {}\n",
    "    for item in dict_resc.items():\n",
    "        if item[1] > 2:\n",
    "            dict_temp[item[0]] = item[1]\n",
    "    dict_temp = dict(sorted(dict_temp.items(), key=lambda item: item[1], reverse=True))\n",
    "\n",
    "    if len(dict_temp) < 1:\n",
    "        return  dict_temp\n",
    "    # return len(list(dict_temp.keys()))\n",
    "    return dict_temp\n",
    "\n",
    "\n",
    "def numero_registros4(sub_com, dataf):\n",
    "    \"\"\"Retorna los registros en una comunidad.\"\"\"\n",
    "    dict_resc = {}\n",
    "    for node in sub_com.vs():\n",
    "        recursos = list(dataf[dataf.USRID == int(node[\"label\"])][\"RESID\"])\n",
    "        for i in recursos:\n",
    "            if i in dict_resc.keys():\n",
    "                dict_resc[i] += 1\n",
    "            else:\n",
    "                dict_resc[i] = 1\n",
    "    \n",
    "    # Remove low values\n",
    "    dict_temp = {}\n",
    "    for item in dict_resc.items():\n",
    "        if item[1] > 2:\n",
    "            dict_temp[item[0]] = item[1]\n",
    "    dict_temp = dict(sorted(dict_temp.items(), key=lambda item: item[1], reverse=True))\n",
    "\n",
    "    if len(dict_temp) < 1:\n",
    "        return  dict_temp\n",
    "    # return len(list(dict_temp.keys()))\n",
    "    return dict_temp\n",
    "\n",
    "def get_users_from_resource_comms(resource_id, community, data):\n",
    "    \"\"\"Retorna los usuarios de la comunidad que acceden al conjunto de recursos\"\"\"\n",
    "    users_to_ret = []\n",
    "    for res in resource_id:\n",
    "        all_user_in_community = community.vs()[\"label\"] # Extraer usuarios de comunidad\n",
    "        ## all_user_in_community = [int(item) for item in all_user_in_community] # Convertimos a int\n",
    "        all_user_in_community = set(all_user_in_community) # Covnertimos a conjunto\n",
    "        solicitudes_en_data = data[data[\"RESID\"]==res][\"USRID\"].to_list() # Todos los usuarios que acceden al recurso\n",
    "        solicitudes_en_data = [str(item)+\".0\" for item in solicitudes_en_data]\n",
    "        solicitudes_en_data = set(solicitudes_en_data)\n",
    "        # print(all_user_in_community)\n",
    "        # print(solicitudes_en_data)\n",
    "        users_to_ret = users_to_ret + list(all_user_in_community.intersection(solicitudes_en_data)) # Intersección\n",
    "    users_to_ret = list(set(users_to_ret))\n",
    "    return users_to_ret\n",
    "\n",
    "def remove_equal_rules(rules):\n",
    "    \"\"\" Remove equal rules X -> Y == Y -> X\"\"\"\n",
    "    to_remove = []\n",
    "    lrules = len(rules)\n",
    "    for i in range(lrules):\n",
    "        for j in range(i+1,lrules):\n",
    "            if rules[i][0] == rules[j][1] and rules[i][1] == rules[j][0]:        \n",
    "                to_remove.append(rules[i])\n",
    "\n",
    "    #print(to_remove)\n",
    "    return to_remove\n",
    "\n",
    "def remove_equal_rules2(rules):\n",
    "    \"\"\" Remove equal rules X -> Y == Y -> X\"\"\"\n",
    "    to_remove = []\n",
    "    #print(rules)\n",
    "    for rule in rules:\n",
    "        descri = []\n",
    "        for ele in rule[0]:\n",
    "            descri.append(ele)\n",
    "        for ele in rule[1]:\n",
    "            descri.append(ele)\n",
    "        #print(descri)\n",
    "        descri.sort()\n",
    "        if descri in to_remove:\n",
    "            continue\n",
    "        else:            \n",
    "            to_remove.append(descri)\n",
    "\n",
    "    # Quedarse con la de mayor tamaño\n",
    "    max_id = 0\n",
    "    to_ret = None\n",
    "    for i in to_remove:        \n",
    "        if len(i) > max_id:            \n",
    "            max_id = len(i)\n",
    "            to_ret = i\n",
    "\n",
    "    return [to_ret]\n",
    "\n",
    "# Function to check if a value appear in column\n",
    "def get_attr_name(value, df_):\n",
    "    \"\"\" Return name of the column of the value.\"\"\"\n",
    "    cols = df_.columns  \n",
    "    if value == 10:\n",
    "            # Buscar el atributo maximo\n",
    "        max_val = 0\n",
    "        attr_  = None\n",
    "        for i in cols:        \n",
    "            t = len(df_[df_[i]==10])            \n",
    "            if t > max_val:\n",
    "                max_val = t\n",
    "                attr_ = i\n",
    "        return attr_\n",
    "    else:\n",
    "        for i in range(len(cols)):        \n",
    "            if len(df_[df_[cols[i]]==value]) > 0:\n",
    "                return df_.columns[i]\n",
    "\n",
    "def get_attr_val_in_users(users_id, data):\n",
    "    \"\"\"Retorna los atributo valor en comun en un conjunto de usuarios.\"\"\"\n",
    "    user_convert = [float(n) for n in users_id] # Convertimos a float\n",
    "    attr_user_ = data[data[\"USRID\"].isin(user_convert)].drop_duplicates() # Seleccionamos usuarios\n",
    "    attr_user__ = attr_user_[user_attr+[\"USRID\"]].values.tolist() # Seleccionamos attributos de los usuarios\n",
    "    attr_user_ = attr_user_[user_attr+[\"USRID\"]]\n",
    "    # print(attr_user_)\n",
    "    init_Sup = 0.6\n",
    "    init_Conf = 0.9\n",
    "    rules = []\n",
    "    while len(rules) == 0:\n",
    "        # print(\"Sup\", init_Sup, \"  Conf\", init_Conf)\n",
    "        _, rules = apriori(attr_user__, minSup=init_Sup, minConf=init_Conf) # Apply apriori\n",
    "        init_Sup -= 0.1\n",
    "        init_Conf -= 0.1\n",
    "    # print(rules)\n",
    "    rules = remove_equal_rules2(rules)\n",
    "    #print(\"XXX\",rules)\n",
    "    #for r in rules:\n",
    "    #    print(r)\n",
    "    \n",
    "    reglas_karimi = []\n",
    "    for r in rules:      \n",
    "        for t in r:                                    \n",
    "            col = get_attr_name(t, attr_user_)                                                             \n",
    "            reglas_karimi.append([col, t])\n",
    "\n",
    "    return reglas_karimi\n",
    "\n",
    "def get_attr_val_in_users_2(users_id, data):\n",
    "    \"\"\"Retorna los atributo valor en comun en un conjunto de usuarios.\"\"\"\n",
    "    user_convert = [float(n) for n in users_id] # Convertimos a float\n",
    "    attr_user_ = data[data[\"USRID\"].isin(user_convert)].drop_duplicates() # Seleccionamos usuarios\n",
    "    attr_user__ = attr_user_[user_attr].values.tolist() # Seleccionamos attributos de los usuarios\n",
    "    attr_user_ = attr_user_[user_attr+[\"USRID\"]]\n",
    "    # print(attr_user_)\n",
    "    init_Sup = 0.6\n",
    "    init_Conf = 0.9\n",
    "    rules = []\n",
    "    while len(rules) == 0:\n",
    "        # print(\"Sup\", init_Sup, \"  Conf\", init_Conf)\n",
    "        _, rules = apriori(attr_user__, minSup=init_Sup, minConf=init_Conf) # Apply apriori\n",
    "        init_Sup -= 0.1\n",
    "        init_Conf -= 0.1\n",
    "        if init_Sup < 0:\n",
    "            return attr_user__\n",
    "    # print(rules)\n",
    "    rules = remove_equal_rules2(rules)\n",
    "    #print(\"XXX\",rules)\n",
    "    #for r in rules:\n",
    "    #    print(r)\n",
    "    \n",
    "    reglas_karimi = []\n",
    "    for r in rules:      \n",
    "        for t in r:                                    \n",
    "            col = get_attr_name(t, attr_user_)                                                             \n",
    "            reglas_karimi.append([col, t])\n",
    "\n",
    "    return reglas_karimi\n",
    "\n",
    "def get_attr_val_in_res(res_ids, data):\n",
    "    \"\"\"Retorna los atributo valor en comun en un conjunto de usuarios.\"\"\"    \n",
    "    user_convert = [float(n) for n in res_ids] # Convertimos a float\n",
    "    attr_user_ = data[data[\"RESID\"].isin(user_convert)].drop_duplicates() # Seleccionamos usuarios\n",
    "    attr_user__ = attr_user_[rsrc_attr].values.tolist() # Seleccionamos attributos de los usuarios\n",
    "    attr_user_ = attr_user_[rsrc_attr+[\"RESID\"]]\n",
    "    #print(attr_user_)\n",
    "    # print(attr_user_)\n",
    "    init_Sup = 0.6\n",
    "    init_Conf = 0.9\n",
    "    rules = []\n",
    "    while len(rules) == 0:\n",
    "        # print(\"Sup\", init_Sup, \"  Conf\", init_Conf)\n",
    "        _, rules = apriori(attr_user__, minSup=init_Sup, minConf=init_Conf) # Apply apriori\n",
    "        init_Sup -= 0.1\n",
    "        init_Conf -= 0.1\n",
    "    # _, rules = apriori(attr_user__, minSup=0.6, minConf=0.9) # Apply apriori\n",
    "    rules = remove_equal_rules2(rules)\n",
    "    #for r in rules:\n",
    "    #    print(r)\n",
    "    \n",
    "    reglas_karimi = []\n",
    "    for r in rules:      \n",
    "        for t in r:                                    \n",
    "            col = get_attr_name(t, attr_user_)                                                             \n",
    "            reglas_karimi.append([col, t])\n",
    "\n",
    "    return reglas_karimi\n",
    "\n",
    "def get_attr_val_in_res_2(res_ids, data):\n",
    "    \"\"\"Retorna los atributo valor en comun en un conjunto de usuarios.\"\"\"    \n",
    "    user_convert = [float(n) for n in res_ids] # Convertimos a float\n",
    "    attr_user_ = data[data[\"RESID\"].isin(user_convert)].drop_duplicates() # Seleccionamos usuarios\n",
    "    attr_user__ = attr_user_[rsrc_attr].values.tolist() # Seleccionamos attributos de los usuarios\n",
    "    attr_user_ = attr_user_[rsrc_attr+[\"RESID\"]]\n",
    "    #print(attr_user_)\n",
    "    # print(attr_user_)\n",
    "    init_Sup = 0.6\n",
    "    init_Conf = 0.9\n",
    "    rules = []\n",
    "    while len(rules) == 0:\n",
    "        # print(\"Sup\", init_Sup, \"  Conf\", init_Conf)\n",
    "        _, rules = apriori(attr_user__, minSup=init_Sup, minConf=init_Conf) # Apply apriori\n",
    "        init_Sup -= 0.1\n",
    "        init_Conf -= 0.1\n",
    "        if init_Sup < 0:\n",
    "            return attr_user__\n",
    "    # _, rules = apriori(attr_user__, minSup=0.6, minConf=0.9) # Apply apriori\n",
    "    rules = remove_equal_rules2(rules)\n",
    "    #for r in rules:\n",
    "    #    print(r)\n",
    "    \n",
    "    reglas_karimi = []\n",
    "    for r in rules:      \n",
    "        for t in r:                                    \n",
    "            col = get_attr_name(t, attr_user_)                                                             \n",
    "            reglas_karimi.append([col, t])\n",
    "\n",
    "    return reglas_karimi\n",
    "\n",
    "\n",
    "def podado_recursos(recursos, subgrafo, umbral):\n",
    "    \"\"\"Realiza el podado de los recursos que casi no acceden\"\"\"\n",
    "    n_usuarios = subgrafo.vcount()\n",
    "    to_ret = {}    \n",
    "    for i in recursos:\n",
    "        us_temp = recursos[i]\n",
    "        if (us_temp / n_usuarios) > umbral:\n",
    "            to_ret[i] = us_temp\n",
    "    return to_ret\n",
    "\n",
    "def recurso_significativo(recursos, subgrafo, umbral):\n",
    "    \"\"\"Retorna el recurso significativo. 'None' si no hay.\"\"\"\n",
    "    n_usuarios = subgrafo.vcount()\n",
    "    to_ret = {}    \n",
    "    for i in recursos:\n",
    "        us_temp = recursos[i]\n",
    "        if (us_temp / n_usuarios) >= umbral:\n",
    "            return to_ret[i]\n",
    "    return None\n",
    "\n",
    "def extraer_recursos_similares(recursos, data_, umbral):\n",
    "    \"\"\"Retorna registros similares como nuevos registros\"\"\"\n",
    "\n",
    "    for atr in rsrc_attr: # Se reccorre los atributos\n",
    "        for r1 in recursos: # Se recorre los recursos\n",
    "            for atr2 in rsrc_attr:\n",
    "                if atr != atr2: # Se cambian los recursos\n",
    "                    print()\n",
    "\n",
    "\n",
    "def get_apriori_final(usuarios, recursos, data):\n",
    "    \"\"\"Retorna los atributo valor en comun en un conjunto de usuarios.\"\"\"\n",
    "    user_convert = [float(n) for n in usuarios] # Convertimos a float\n",
    "    attr_user_ = data[data[\"USRID\"].isin(user_convert)].drop_duplicates() # Seleccionamos usuarios\n",
    "    res_convert = [float(n) for n in recursos] # Convertimos a float\n",
    "    attr_user_ = attr_user_[attr_user_[\"RESID\"].isin(res_convert)].drop_duplicates() # Seleccionamos recursos\n",
    "    attr_user__ = attr_user_[user_attr+rsrc_attr].values.tolist() # Seleccionamos attributos de los usuarios\n",
    "    attr_user_ = attr_user_[user_attr+rsrc_attr]\n",
    "    # print(attr_user_)\n",
    "    init_Sup = 0.5\n",
    "    init_Conf = 0.8\n",
    "    rules = []\n",
    "    while len(rules) == 0:\n",
    "        _, rules = apriori(attr_user__, minSup=init_Sup, minConf=init_Conf) # Apply apriori\n",
    "        init_Sup -= 0.1\n",
    "        init_Conf -= 0.1\n",
    "    # print(rules)\n",
    "    rules = remove_equal_rules2(rules)\n",
    "    \n",
    "    reglas_karimi = []\n",
    "    for r in rules:      \n",
    "        for t in r:                                    \n",
    "            col = get_attr_name(t, attr_user_)                                                             \n",
    "            reglas_karimi.append([col, t])\n",
    "\n",
    "    return reglas_karimi\n",
    "\n",
    "def agregar_diccionario(diccionario, recurso, tupla_datos):\n",
    "    if recurso in diccionario:\n",
    "        diccionario[recurso].append(tupla_datos)\n",
    "    else:\n",
    "        diccionario[recurso] = [tupla_datos]\n",
    "\n",
    "def agregar_usuario_com(diccio, com_id, usuario):\n",
    "    if com_id in diccio:\n",
    "        if not usuario in diccio[com_id]:\n",
    "            diccio[com_id].append(usuario)\n",
    "    else:\n",
    "        \n",
    "        diccio[com_id] = [usuario]\n"
   ]
  },
  {
   "attachments": {},
   "cell_type": "markdown",
   "metadata": {},
   "source": [
    "### TASK 1: Community Detection"
   ]
  },
  {
   "cell_type": "code",
   "execution_count": 87,
   "metadata": {},
   "outputs": [
    {
     "name": "stdout",
     "output_type": "stream",
     "text": [
      "Modularity: 0.7904\n",
      "IGRAPH UNW- 4817 706967 -- \n",
      "+ attr: cluster (v), control (v), fallback (v), monitoring (v), name (v), traffic_congestion (v), visibility (v), weather (v), weight (e)\n"
     ]
    }
   ],
   "source": [
    "partition = g_proj_B.community_multilevel(weights=g_proj_B.es()[\"weight\"])\n",
    "print(\"Modularity: %.4f\" % partition.modularity)\n",
    "\n",
    "# Agregar atributos al grafo bipartito\n",
    "for attr in user_attr:    \n",
    "    list_temp = []\n",
    "    for node in g_proj_B.vs():                \n",
    "        id_name = float(node[\"name\"])\n",
    "        temp = pd.DataFrame(positive_cav_train[positive_cav_train.USRID==id_name])            \n",
    "        temp = temp[attr].drop_duplicates()            \n",
    "        temp = temp.values[0]\n",
    "        list_temp.append(temp)            \n",
    "    g_proj_B.vs[attr] = list_temp\n",
    "\n",
    "# Add cluster attribute to nodes\n",
    "g_proj_B.vs[\"cluster\"] = partition.membership\n",
    "ig.write(g_proj_B, \"output-files/proj-cav.gml\")\n",
    "print(g_proj_B.summary())"
   ]
  },
  {
   "attachments": {},
   "cell_type": "markdown",
   "metadata": {},
   "source": [
    "#### Sub-Communities"
   ]
  },
  {
   "cell_type": "code",
   "execution_count": 129,
   "metadata": {},
   "outputs": [
    {
     "name": "stdout",
     "output_type": "stream",
     "text": [
      "# de Comunidades:  45\n"
     ]
    }
   ],
   "source": [
    "# Se obtienen las comunidades y sub-comunidades\n",
    "g = g_proj_B\n",
    "\n",
    "density_threshold = 0.5\n",
    "\n",
    "n_coms = len(set(g.vs[\"cluster\"]))\n",
    "count_n_coms = 0 # Contador de número de comunidades detectadas\n",
    "# Diccionario con las comunidades. Id de la comunidad como key y una lista \n",
    "# como value {01: [subgrafo, recursos_list]}\n",
    "dict_total_coms = {} \n",
    "\n",
    "for idx_comm in range(n_coms): # Recorrer cada comunidad en la red\n",
    "    subgraph_nodes = g.vs.select(cluster=idx_comm) # Sacamos los nodos con el cluster\n",
    "    comm_subgraph = subgraph_nodes.subgraph() # Objeto de subgrafo\n",
    "\n",
    "    # Verificar si la densidad es baja: Si es baja se puede clasificar\n",
    "    if comm_subgraph.density() < density_threshold:\n",
    "\n",
    "        # Se realiza nuevamente una partición\n",
    "        new_partition = comm_subgraph.community_multilevel(\n",
    "            weights =comm_subgraph.es[\"weight\"] )        \n",
    "\n",
    "        for sub_com in new_partition.subgraphs(): # Se recorre cada nueva sub comunidad\n",
    "            # Usuarios en la comunidad\n",
    "            user_set_comm = sub_com.vs()[\"name\"]   \n",
    "            # Recursos en la comunidad\n",
    "            n_res = num_recursos(user_set_comm, gb)            \n",
    "            dict_total_coms[str(count_n_coms)] = [sub_com, n_res]\n",
    "            count_n_coms += 1\n",
    "    else:\n",
    "        user_set_comm = comm_subgraph.vs()[\"name\"]   \n",
    "        # Recursos en la comunidad\n",
    "        n_res = num_recursos(user_set_comm, gb)            \n",
    "        dict_total_coms[str(count_n_coms)] = [comm_subgraph, n_res]\n",
    "        count_n_coms += 1\n",
    "\n",
    "print(\"# de Comunidades: \", len(dict_total_coms))"
   ]
  },
  {
   "cell_type": "code",
   "execution_count": 130,
   "metadata": {},
   "outputs": [],
   "source": [
    "# Function to add new cluster id to the nodes\n",
    "def add_new_cluster_id(dict_comms, user_network):\n",
    "    \"\"\"\n",
    "    Function to add sub-cluster id to the user network nodes.\n",
    "    \"\"\"\n",
    "    temp_list = []\n",
    "    for node in user_network.vs():\n",
    "        node_name = node[\"name\"] # Name of the node        \n",
    "        for i, j in dict_total_coms.items(): # Looping in the dict\n",
    "            #print(node_name, j[0].vs().find(name_eq=int(node_name)))\n",
    "            try:\n",
    "                is_in = j[0].vs().find(name_eq=int(node_name))\n",
    "                temp_list.append(i) # Add id cluster\n",
    "            except:\n",
    "                continue        \n",
    "\n",
    "    user_network.vs()[\"n_cluster\"] = temp_list\n",
    "    return user_network\n"
   ]
  },
  {
   "cell_type": "code",
   "execution_count": 131,
   "metadata": {},
   "outputs": [],
   "source": [
    "test = add_new_cluster_id(dict_total_coms, g)"
   ]
  },
  {
   "cell_type": "code",
   "execution_count": 138,
   "metadata": {},
   "outputs": [],
   "source": [
    "ig.write(test, \"output-files/proj-cav-subclustering.gml\")"
   ]
  },
  {
   "attachments": {},
   "cell_type": "markdown",
   "metadata": {},
   "source": [
    "### TASK 2: Community classification"
   ]
  },
  {
   "cell_type": "code",
   "execution_count": 18,
   "metadata": {},
   "outputs": [
    {
     "name": "stdout",
     "output_type": "stream",
     "text": [
      "Comunidad con # mayor recursos 36\n",
      "Big Threshold:  18  \t\t Med Threshold 9\n"
     ]
    }
   ],
   "source": [
    "# Obtener el máximo valor de recursos en el total de comunidades\n",
    "n_res_in_comms = [len(i[1]) for i in dict_total_coms.values()]\n",
    "max_n_res = max(n_res_in_comms)\n",
    "print(\"Comunidad con # mayor recursos\", max_n_res)\n",
    "\n",
    "# Umbrales para la clasificación de comunidades\n",
    "big_threshold = int(0.50 * max_n_res)\n",
    "med_threshold = int(0.25 * max_n_res)\n",
    "print(\"Big Threshold: \", big_threshold, \" \\t\\t Med Threshold\", med_threshold)"
   ]
  },
  {
   "cell_type": "code",
   "execution_count": 19,
   "metadata": {},
   "outputs": [
    {
     "data": {
      "image/png": "[encoded data removed]",
      "text/plain": [
       "<Figure size 432x288 with 1 Axes>"
      ]
     },
     "metadata": {
      "needs_background": "light"
     },
     "output_type": "display_data"
    }
   ],
   "source": [
    "plt.bar(dict_total_coms.keys(), sorted(n_res_in_comms, reverse=True), color='0.40')\n",
    "plt.ylabel('Número de recursos.')\n",
    "plt.xlabel('Comunidad.')\n",
    "plt.tick_params(labelbottom=False)\n",
    "plt.savefig('output-files/n_recursos_por_comunidad_amz.pdf')"
   ]
  },
  {
   "cell_type": "code",
   "execution_count": 20,
   "metadata": {},
   "outputs": [
    {
     "data": {
      "image/png": "[encoded data removed]",
      "text/plain": [
       "<Figure size 432x288 with 1 Axes>"
      ]
     },
     "metadata": {
      "needs_background": "light"
     },
     "output_type": "display_data"
    }
   ],
   "source": [
    "lista_tamano_coms = []\n",
    "for i in dict_total_coms:\n",
    "    lista_tamano_coms.append(dict_total_coms[i][0].vcount())\n",
    "    #print(dict_total_coms[i][0].vcount())\n",
    "len(lista_tamano_coms)\n",
    "\n",
    "# plt.figure(figsize=(20,15))\n",
    "plt.bar(dict_total_coms.keys(), sorted(lista_tamano_coms, reverse=True), color='0.40')\n",
    "plt.ylabel('Número de vértices.')\n",
    "plt.xlabel('Comunidad.')\n",
    "plt.tick_params(labelbottom=False)\n",
    "plt.savefig('output-files/n_vertices_por_comunidad_amz.pdf')\n"
   ]
  },
  {
   "cell_type": "code",
   "execution_count": 21,
   "metadata": {},
   "outputs": [
    {
     "data": {
      "image/png": "[encoded data removed]",
      "text/plain": [
       "<Figure size 432x288 with 1 Axes>"
      ]
     },
     "metadata": {
      "needs_background": "light"
     },
     "output_type": "display_data"
    }
   ],
   "source": [
    "# plt.figure(figsize=(20,15))\n",
    "plt.bar(dict_total_coms.keys(), sorted(n_res_in_comms, reverse=True), color='0.40')\n",
    "plt.ylabel('Número de recursos.')\n",
    "plt.xlabel('Comunidad.')\n",
    "x, y = [0, len(n_res_in_comms)-1] , [big_threshold, big_threshold]\n",
    "plt.plot(x, y, marker = 'o', linestyle='--', color=\"0.6\")\n",
    "plt.text(len(n_res_in_comms)-5, big_threshold+6, '{} >'.format(big_threshold) , ha='left', va= 'top')\n",
    "x, y = [0, len(n_res_in_comms)-1] , [med_threshold, med_threshold]\n",
    "plt.plot(x, y, marker = 'o', linestyle='--', color=\"0.6\")\n",
    "plt.text(len(n_res_in_comms)-5, med_threshold+6, '{} >'.format(med_threshold) , ha='left', va= 'top')\n",
    "plt.tick_params(labelbottom=False)\n",
    "plt.savefig('output-files/n_recursos_por_comunidad_amz-corte.pdf')"
   ]
  },
  {
   "cell_type": "code",
   "execution_count": 22,
   "metadata": {},
   "outputs": [
    {
     "name": "stdout",
     "output_type": "stream",
     "text": [
      "# Comunidades: 47 == 47\n",
      "Big Comms: 19\n",
      "Med Comms: 10\n",
      "Sma Comms: 18\n"
     ]
    }
   ],
   "source": [
    "big_comms = [] # Almacenar las comunidades grandes\n",
    "med_comms = [] # Almacenar las comunidades medianas\n",
    "sma_comms = [] # Almacenar las comunidades pequeñas\n",
    "\n",
    "for idx_com, com in enumerate(dict_total_coms.values()):\n",
    "    if len(com[1]) > big_threshold: # Es comunidad grande\n",
    "        big_comms.append([idx_com]+com)\n",
    "    elif len(com[1]) > med_threshold: # Es comunidad mediana\n",
    "        med_comms.append([idx_com]+com)\n",
    "    else:\n",
    "        sma_comms.append([idx_com]+com)\n",
    "\n",
    "print(\"# Comunidades:\",len(big_comms)+len(med_comms)+len(sma_comms), \"==\", len(dict_total_coms))\n",
    "print(\"Big Comms:\", len(big_comms))\n",
    "print(\"Med Comms:\", len(med_comms))\n",
    "print(\"Sma Comms:\", len(sma_comms))"
   ]
  },
  {
   "attachments": {},
   "cell_type": "markdown",
   "metadata": {},
   "source": [
    "## Rule Inference"
   ]
  },
  {
   "attachments": {},
   "cell_type": "markdown",
   "metadata": {},
   "source": [
    "### Auxiliar"
   ]
  },
  {
   "cell_type": "code",
   "execution_count": 23,
   "metadata": {},
   "outputs": [],
   "source": [
    "def apriori_in_resources(data_):\n",
    "    \"\"\"Retorna regla apriori basada en los recursos.\n",
    "    data_: dataframe\n",
    "    \"\"\"\n",
    "    init_Sup = 0.6\n",
    "    init_Conf = 0.9\n",
    "    rules = []\n",
    "    while len(rules) == 0:\n",
    "        # print(\"Sup\", init_Sup, \"  Conf\", init_Conf)\n",
    "        _, rules = apriori(data_.values.tolist(), minSup=init_Sup, minConf=init_Conf) # Apply apriori\n",
    "        init_Sup -= 0.1\n",
    "        init_Conf -= 0.1\n",
    "    # _, rules = apriori(attr_user__, minSup=0.6, minConf=0.9) # Apply apriori\n",
    "    rules = remove_equal_rules2(rules)\n",
    "    #for r in rules:\n",
    "    #    print(r)\n",
    "    \n",
    "    reglas_karimi = []\n",
    "    for r in rules:      \n",
    "        for t in r:                                    \n",
    "            col = get_attr_name(t, data_)                                                             \n",
    "            reglas_karimi.append([col, t])\n",
    "\n",
    "    return reglas_karimi\n",
    "\n",
    "def podar_recursos_new(subcomunidad, grafo_bip, umbral):\n",
    "    \"\"\"Retorna los recursos nuevos ya podados.\"\"\"    \n",
    "    usuario_comunidad = subcomunidad.vs()[\"name\"]\n",
    "    all_recursos = {} # DIccionario con los recursos y su frecuencia\n",
    "    usuario_comunidad = [int(float(i)) for i in usuario_comunidad]\n",
    "    for user in usuario_comunidad:\n",
    "        user_node = grafo_bip.vs.find(name=int(float(user)))\n",
    "        vecinos_recurso = user_node.neighbors()\n",
    "        vecinos_recurso = [nodo[\"name\"] for nodo in vecinos_recurso]\n",
    "        vecinos_recurso = list(set(vecinos_recurso))\n",
    "        for vecino in vecinos_recurso:\n",
    "            if vecino in all_recursos.keys():\n",
    "                all_recursos[vecino] += 1\n",
    "            else:\n",
    "                all_recursos[vecino] = 1\n",
    "\n",
    "    umbral_en_n = int(umbral * subcomunidad.vcount())\n",
    "    \n",
    "    nuevos_recursos = []\n",
    "    for item in all_recursos:\n",
    "        if all_recursos[item] >= umbral_en_n:\n",
    "            nuevos_recursos.append(item)\n",
    "\n",
    "    return nuevos_recursos\n",
    "\n",
    "def get_recursos_significativos(subcomunidad, grafo_bip, umbral):\n",
    "    \"\"\"Obtiene una lista de recursos más significativos en la comunidad.\"\"\"\n",
    "    usuario_comunidad = subcomunidad.vs()[\"name\"]\n",
    "    all_recursos = {} # DIccionario con los recursos y su frecuencia\n",
    "    usuario_comunidad = [int(float(i)) for i in usuario_comunidad]\n",
    "    for user in usuario_comunidad:\n",
    "        user_node = grafo_bip.vs.find(name=int(float(user)))\n",
    "        vecinos_recurso = user_node.neighbors()\n",
    "        vecinos_recurso = [nodo[\"name\"] for nodo in vecinos_recurso]\n",
    "        vecinos_recurso = list(set(vecinos_recurso))\n",
    "        for vecino in vecinos_recurso:\n",
    "            if vecino in all_recursos.keys():\n",
    "                all_recursos[vecino] += 1\n",
    "            else:\n",
    "                all_recursos[vecino] = 1\n",
    "\n",
    "    umbral_en_n = int(umbral * subcomunidad.vcount())\n",
    "    \n",
    "    nuevos_recursos = []\n",
    "    for item in all_recursos:\n",
    "        if all_recursos[item] >= umbral_en_n:\n",
    "            nuevos_recursos.append(item)\n",
    "    \n",
    "    return nuevos_recursos"
   ]
  },
  {
   "attachments": {},
   "cell_type": "markdown",
   "metadata": {},
   "source": [
    "### TASK 1: Rule inference"
   ]
  },
  {
   "cell_type": "code",
   "execution_count": 24,
   "metadata": {},
   "outputs": [],
   "source": [
    "dict_ress_coms = {} # Diccionario de recursos\n",
    "list_rules = [] # Lista de reglas\n",
    "dict_res_in_coms = {} # Diccionarios de recursos en comunidad"
   ]
  },
  {
   "attachments": {},
   "cell_type": "markdown",
   "metadata": {},
   "source": [
    "#### Small Communities"
   ]
  },
  {
   "cell_type": "code",
   "execution_count": 25,
   "metadata": {},
   "outputs": [
    {
     "name": "stdout",
     "output_type": "stream",
     "text": [
      "Reglas generadas: 18\n"
     ]
    }
   ],
   "source": [
    "counter_rules = 0\n",
    "for comm in sma_comms:\n",
    "    resorces_coms = comm[2] # Se extrae los recursos al que accede.\n",
    "    if len(resorces_coms) == 1: # Si sólo hay un recurso\n",
    "        # Se extraen los atributos del único recurso\n",
    "        regla_i = [ [\"id_com\", str(comm[0])], [] ] # Se comienza generando la regla.        \n",
    "        logs_with_resource = positive_cav_train[positive_cav_train[\"RESID\"]==comm[2][0]].iloc[0]\n",
    "\n",
    "        for attr in rsrc_attr: # Se agrega la regla con atr de recurso\n",
    "            regla_i[1].append([attr, logs_with_resource[attr]])\n",
    "        \n",
    "        # Usuarios en la comunidad\n",
    "        users_in_sub_com = set([int(float(i)) for i in comm[1].vs()[\"name\"]])\n",
    "        df_users_in_comm = positive_cav_train[positive_cav_train[\"USRID\"].isin(users_in_sub_com)]\n",
    "        df_users_in_comm = df_users_in_comm[user_attr+[\"USRID\"]].drop_duplicates()                    \n",
    "        \n",
    "        # Obtener regla apriori\n",
    "        regla_atr_usuario = apriori_in_resources(data_=df_users_in_comm)\n",
    "        regla_i[1] = regla_i[1] + regla_atr_usuario\n",
    "\n",
    "        list_rules.append(regla_i)\n",
    "        counter_rules += 1\n",
    "    else:\n",
    "        regla_i = [ [\"id_com\", str(comm[0])], [] ] # Se comienza generando la regla.        \n",
    "        \n",
    "        # Solicitudes que incluyen el recurso\n",
    "        logs_with_resource = positive_cav_train[positive_cav_train['RESID'].isin(comm[2])]\n",
    "        logs_with_resource = logs_with_resource[rsrc_attr+[\"USRID\",\"RESID\"]].drop_duplicates()\n",
    "        df_resources = logs_with_resource[rsrc_attr+[\"RESID\"]].drop_duplicates()\n",
    "        \n",
    "        # Usuarios en la comunidad\n",
    "        users_in_sub_com = set([int(float(i)) for i in comm[1].vs()[\"name\"]])\n",
    "        df_users_in_comm = positive_cav_train[positive_cav_train[\"USRID\"].isin(users_in_sub_com)]\n",
    "        df_users_in_comm = df_users_in_comm[user_attr+[\"USRID\"]].drop_duplicates()                    \n",
    "        \n",
    "        # Generar regla con los atributos de los recursos\n",
    "        regla_atr_recurso = apriori_in_resources(data_=df_resources) \n",
    "        regla_atr_usuario = apriori_in_resources(data_=df_users_in_comm)        \n",
    "\n",
    "        # Se agrega a la regla\n",
    "        regla_i[1] = regla_i[1] + regla_atr_recurso + regla_atr_usuario\n",
    "        # print(regla_i)\n",
    "        \n",
    "        list_rules.append(regla_i)\n",
    "        counter_rules += 1\n",
    "\n",
    "print(\"Reglas generadas:\", counter_rules)            "
   ]
  },
  {
   "attachments": {},
   "cell_type": "markdown",
   "metadata": {},
   "source": [
    "#### Mediumn communities"
   ]
  },
  {
   "cell_type": "code",
   "execution_count": 26,
   "metadata": {},
   "outputs": [
    {
     "name": "stdout",
     "output_type": "stream",
     "text": [
      "Reglas generadas: 10\n"
     ]
    }
   ],
   "source": [
    "counter_rules = 0\n",
    "umbral_podado = 0.2\n",
    "for comm in med_comms:\n",
    "    resorces_coms = podar_recursos_new(comm[1], gb, umbral_podado)    \n",
    "    if len(resorces_coms) == 1: # Si sólo hay un recurso\n",
    "        # Se extraen los atributos del único recurso\n",
    "        regla_i = [ [\"id_com\", str(comm[0])], [] ] # Se comienza generando la regla.        \n",
    "        logs_with_resource = positive_cav_train[positive_cav_train[\"RESID\"]==comm[2][0]].iloc[0]\n",
    "\n",
    "        for attr in rsrc_attr: # Se agrega la regla con atr de recurso\n",
    "            regla_i[1].append([attr, logs_with_resource[attr]])\n",
    "        \n",
    "        # Usuarios en la comunidad\n",
    "        users_in_sub_com = set([int(float(i)) for i in comm[1].vs()[\"name\"]])\n",
    "        df_users_in_comm = positive_cav_train[positive_cav_train[\"USRID\"].isin(users_in_sub_com)]\n",
    "        df_users_in_comm = df_users_in_comm[user_attr+[\"USRID\"]].drop_duplicates()                    \n",
    "        \n",
    "        # Obtener regla apriori\n",
    "        regla_atr_usuario = apriori_in_resources(data_=df_users_in_comm)\n",
    "        regla_i[1] = regla_i[1] + regla_atr_usuario\n",
    "\n",
    "        list_rules.append(regla_i)\n",
    "        counter_rules += 1\n",
    "    else:\n",
    "        regla_i = [ [\"id_com\", str(comm[0])], [] ] # Se comienza generando la regla.        \n",
    "        \n",
    "        # Solicitudes que incluyen el recurso\n",
    "        logs_with_resource = positive_cav_train[positive_cav_train['RESID'].isin(comm[2])]\n",
    "        logs_with_resource = logs_with_resource[rsrc_attr+[\"USRID\",\"RESID\"]].drop_duplicates()\n",
    "        df_resources = logs_with_resource[rsrc_attr+[\"RESID\"]].drop_duplicates()\n",
    "        \n",
    "        # Usuarios en la comunidad\n",
    "        users_in_sub_com = set([int(float(i)) for i in comm[1].vs()[\"name\"]])\n",
    "        df_users_in_comm = positive_cav_train[positive_cav_train[\"USRID\"].isin(users_in_sub_com)]\n",
    "        df_users_in_comm = df_users_in_comm[user_attr+[\"USRID\"]].drop_duplicates()                    \n",
    "        \n",
    "        # Generar regla con los atributos de los recursos\n",
    "        regla_atr_recurso = apriori_in_resources(data_=df_resources) \n",
    "        regla_atr_usuario = apriori_in_resources(data_=df_users_in_comm)        \n",
    "\n",
    "        # Se agrega a la regla\n",
    "        regla_i[1] = regla_i[1] + regla_atr_recurso + regla_atr_usuario\n",
    "        # print(regla_i)\n",
    "        \n",
    "        list_rules.append(regla_i)\n",
    "        counter_rules += 1\n",
    "\n",
    "print(\"Reglas generadas:\", counter_rules)            "
   ]
  },
  {
   "attachments": {},
   "cell_type": "markdown",
   "metadata": {},
   "source": [
    "#### Big communities"
   ]
  },
  {
   "cell_type": "code",
   "execution_count": 27,
   "metadata": {},
   "outputs": [
    {
     "name": "stdout",
     "output_type": "stream",
     "text": [
      "Reglas generadas: 22\n"
     ]
    }
   ],
   "source": [
    "counter_rules = 0\n",
    "umbral_podado = 0.2\n",
    "umbral_rec_sig = 0.5\n",
    "\n",
    "for comm in big_comms:\n",
    "    resorces_coms = podar_recursos_new(comm[1], gb, umbral_podado)    \n",
    "    if len(resorces_coms) == 1: # Si sólo hay un recurso\n",
    "        # Se extraen los atributos del único recurso\n",
    "        regla_i = [ [\"id_com\", str(comm[0])], [] ] # Se comienza generando la regla.        \n",
    "        logs_with_resource = positive_cav_train[positive_cav_train[\"RESID\"]==comm[2][0]].iloc[0]\n",
    "\n",
    "        for attr in rsrc_attr: # Se agrega la regla con atr de recurso\n",
    "            regla_i[1].append([attr, logs_with_resource[attr]])\n",
    "        \n",
    "        # Usuarios en la comunidad\n",
    "        users_in_sub_com = set([int(float(i)) for i in comm[1].vs()[\"name\"]])\n",
    "        df_users_in_comm = positive_cav_train[positive_cav_train[\"USRID\"].isin(users_in_sub_com)]\n",
    "        df_users_in_comm = df_users_in_comm[user_attr+[\"USRID\"]].drop_duplicates()                    \n",
    "        \n",
    "        # Obtener regla apriori\n",
    "        regla_atr_usuario = apriori_in_resources(data_=df_users_in_comm)\n",
    "        regla_i[1] = regla_i[1] + regla_atr_usuario\n",
    "\n",
    "        list_rules.append(regla_i)\n",
    "        counter_rules += 1\n",
    "    else:\n",
    "\n",
    "        # Obtención de recursos significativos\n",
    "        recursos_significativos = get_recursos_significativos(comm[1], gb, umbral_rec_sig)\n",
    "\n",
    "        if len(recursos_significativos) > 0: # Si hay elementos\n",
    "            for rec in recursos_significativos:\n",
    "                regla_i = [ [\"id_com\", str(comm[0])], [] ] # Se comienza generando la regla.\n",
    "                for attr in rsrc_attr: # Se agrega la regla con atr de recurso\n",
    "                    logs_with_resource = positive_cav_train[positive_cav_train[\"RESID\"]==rec].iloc[0]\n",
    "                    regla_i[1].append([attr, logs_with_resource[attr]])\n",
    "\n",
    "                # Usuarios en la comunidad\n",
    "                users_in_sub_com = set([int(float(i)) for i in comm[1].vs()[\"name\"]])\n",
    "                df_users_in_comm = positive_cav_train[positive_cav_train[\"USRID\"].isin(users_in_sub_com)]\n",
    "                df_users_in_comm = df_users_in_comm[user_attr+[\"USRID\"]].drop_duplicates()                    \n",
    "                \n",
    "                # Obtener regla apriori\n",
    "                regla_atr_usuario = apriori_in_resources(data_=df_users_in_comm)\n",
    "                regla_i[1] = regla_i[1] + regla_atr_usuario\n",
    "                list_rules.append(regla_i)\n",
    "                counter_rules += 1\n",
    "\n",
    "        resto_coms = list(set(resorces_coms) - set(recursos_significativos))\n",
    "\n",
    "        regla_i = [ [\"id_com\", str(comm[0])], [] ] # Se comienza generando la regla.        \n",
    "        \n",
    "        # Solicitudes que incluyen el recurso\n",
    "        logs_with_resource = positive_cav_train[positive_cav_train['RESID'].isin(resto_coms)]\n",
    "        logs_with_resource = logs_with_resource[rsrc_attr+[\"USRID\",\"RESID\"]].drop_duplicates()\n",
    "        df_resources = logs_with_resource[rsrc_attr+[\"RESID\"]].drop_duplicates()\n",
    "        \n",
    "        # Usuarios en la comunidad\n",
    "        users_in_sub_com = set([int(float(i)) for i in comm[1].vs()[\"name\"]])\n",
    "        df_users_in_comm = positive_cav_train[positive_cav_train[\"USRID\"].isin(users_in_sub_com)]\n",
    "        df_users_in_comm = df_users_in_comm[user_attr+[\"USRID\"]].drop_duplicates()                    \n",
    "        \n",
    "        # Generar regla con los atributos de los recursos\n",
    "        #print(df_resources)\n",
    "        regla_atr_recurso = apriori_in_resources(data_=df_resources) \n",
    "        #print(regla_atr_recurso)\n",
    "        regla_atr_usuario = apriori_in_resources(data_=df_users_in_comm)        \n",
    "\n",
    "        # Se agrega a la regla\n",
    "        regla_i[1] = regla_i[1] + regla_atr_recurso + regla_atr_usuario\n",
    "        # print(regla_i)\n",
    "        \n",
    "        list_rules.append(regla_i)\n",
    "        counter_rules += 1\n",
    "\n",
    "print(\"Reglas generadas:\", counter_rules)            "
   ]
  },
  {
   "attachments": {},
   "cell_type": "markdown",
   "metadata": {},
   "source": [
    "### TASK 2: Rule Network Model"
   ]
  },
  {
   "attachments": {},
   "cell_type": "markdown",
   "metadata": {},
   "source": [
    "#### Auxiliar"
   ]
  },
  {
   "cell_type": "code",
   "execution_count": 28,
   "metadata": {},
   "outputs": [],
   "source": [
    "def evaluate_weight(rule_a, rule_b, umbral):\n",
    "    \"\"\"Retorna la arista entre dos reglas.\"\"\"\n",
    "    rule_atr_a = {}\n",
    "    for item in rule_a:        \n",
    "        rule_atr_a[item[0]] = item[1]\n",
    "\n",
    "    rule_atr_b = {}\n",
    "    for item in rule_b:\n",
    "        rule_atr_b[item[0]] = item[1]\n",
    "\n",
    "    conta_temp = 0\n",
    "    for attr in rule_atr_a:\n",
    "        if attr != \"id_com\":\n",
    "            if attr in rule_atr_b:\n",
    "                if rule_atr_a[attr] == rule_atr_b[attr]:\n",
    "                    conta_temp += 1\n",
    "\n",
    "    if conta_temp >= umbral:\n",
    "        return conta_temp\n",
    "    else:\n",
    "        return -1"
   ]
  },
  {
   "attachments": {},
   "cell_type": "markdown",
   "metadata": {},
   "source": [
    "#### Main"
   ]
  },
  {
   "cell_type": "code",
   "execution_count": 29,
   "metadata": {},
   "outputs": [
    {
     "name": "stdout",
     "output_type": "stream",
     "text": [
      "Nodos aislados: 0\n",
      "Name: \n",
      "Type: Graph\n",
      "Number of nodes: 50\n",
      "Number of edges: 368\n",
      "Average degree:  14.7200\n"
     ]
    }
   ],
   "source": [
    "rules_with_idx = {}\n",
    "for idx, rule in enumerate(list_rules):\n",
    "    rules_with_idx[idx] = rule\n",
    "\n",
    "umbral_peso_grafo_reglas = 3\n",
    "# Create the graph\n",
    "lista_aristas = []\n",
    "lista_posibles_no_estan = []\n",
    "for idxA in range(len(list_rules)):\n",
    "    flag_ = False\n",
    "    for idxB in range(idxA+1, len(list_rules)):\n",
    "        arista = evaluate_weight(rules_with_idx[idxA][1], \n",
    "            rules_with_idx[idxB][1], umbral_peso_grafo_reglas)\n",
    "        if arista != -1:\n",
    "            flag_ = True\n",
    "            lista_aristas.append((idxA, idxB, arista))\n",
    "    if flag_ == False:\n",
    "        lista_posibles_no_estan.append(idxA)\n",
    "\n",
    "Grules = nx.Graph()\n",
    "Grules.add_weighted_edges_from(lista_aristas)\n",
    "nodes_to_add = []\n",
    "for i in lista_posibles_no_estan:\n",
    "    if not i in Grules.nodes():\n",
    "        nodes_to_add.append(i)\n",
    "print(\"Nodos aislados:\", len(nodes_to_add))\n",
    "Grules.add_nodes_from(nodes_to_add)\n",
    "print(nx.info(Grules))"
   ]
  },
  {
   "cell_type": "code",
   "execution_count": 30,
   "metadata": {},
   "outputs": [],
   "source": [
    "GR = ig.Graph()\n",
    "GR = GR.from_networkx(Grules)\n",
    "GR.summary()\n",
    "GR.write_gml(\"output-files/rules-network-cav.gml\")"
   ]
  },
  {
   "attachments": {},
   "cell_type": "markdown",
   "metadata": {},
   "source": [
    "## Evaluation"
   ]
  },
  {
   "attachments": {},
   "cell_type": "markdown",
   "metadata": {},
   "source": [
    "#### Auxiliar"
   ]
  },
  {
   "cell_type": "code",
   "execution_count": 31,
   "metadata": {},
   "outputs": [],
   "source": [
    "def get_comm_for_user(diccionario_com_user, usuario):\n",
    "    \"\"\"Retorna el id de la comunidad al que pertenece el usuario.\"\"\"\n",
    "    for item in diccionario_com_user:\n",
    "        if str(usuario)+\".0\" in diccionario_com_user[item]: # Si el usuario está en la comunidad\n",
    "            return item\n",
    "    return 0\n",
    "\n",
    "def extraer_reglas_comunidad(lista_reglas, id_comunidad):\n",
    "    \"\"\"Retornal una lista de reglas de la comunidad.\"\"\"\n",
    "    to_ret = []\n",
    "    for r in lista_reglas:\n",
    "        if r[0][1] == id_comunidad: # Si es una regla que cumple con la comunidad\n",
    "            to_ret.append(r)\n",
    "    return to_ret\n",
    "\n",
    "def extraer_reglas_comunidad_list(lista_reglas, list_id_comunidad):\n",
    "    \"\"\"Retornal una lista de reglas de la comunidad.\"\"\"\n",
    "    to_ret = []\n",
    "    for r in lista_reglas:\n",
    "        if r[0][1] in list_id_comunidad: # Si es una regla que cumple con la comunidad\n",
    "            to_ret.append(r)\n",
    "    return to_ret\n",
    "\n",
    "def convert_to_list(dictionario_):\n",
    "    to_return = []\n",
    "    for i in dictionario_:\n",
    "        to_return.append(i[0])\n",
    "    return to_return\n",
    "\n",
    "def compute_wsc(policy):\n",
    "    return sum([len(rule) for rule in policy])\n",
    "\n",
    "def evaluate_weight(rule_a, rule_b, umbral):\n",
    "    \"\"\"Retorna la arista entre dos reglas.\"\"\"\n",
    "    rule_atr_a = {}\n",
    "    for item in rule_a:        \n",
    "        rule_atr_a[item[0]] = item[1]\n",
    "\n",
    "    rule_atr_b = {}\n",
    "    for item in rule_b:\n",
    "        rule_atr_b[item[0]] = item[1]\n",
    "\n",
    "    conta_temp = 0\n",
    "    for attr in rule_atr_a:\n",
    "        if attr != \"id_com\":\n",
    "            if attr in rule_atr_b:\n",
    "                if rule_atr_a[attr] == rule_atr_b[attr]:\n",
    "                    conta_temp += 1\n",
    "\n",
    "    if conta_temp >= umbral:\n",
    "        return conta_temp\n",
    "    else:\n",
    "        return -1\n",
    "\n",
    "def get_rule_id(set_rules, dict_wiith_idx):\n",
    "    \"\"\"Retorna el id de las reglas para verlo en el grafo.\"\"\"\n",
    "    list_idx_ret =[]\n",
    "    key_list = list(dict_wiith_idx.keys())\n",
    "    val_list = list(dict_wiith_idx.values())\n",
    "    for i in set_rules:\n",
    "        position = val_list.index(i)\n",
    "        list_idx_ret.append(key_list[position])\n",
    "    return list_idx_ret\n",
    "\n",
    "def get_neighbors_rules(list_rule_idx, rule_graph, dict_wiith_idx):\n",
    "    \"\"\"Retorna el idx de las reglas vecinas.\"\"\"\n",
    "    list_id_vecinos = []\n",
    "    for idx in list_rule_idx: # Por cada regla\n",
    "        # Se busca su vecino en el grafo\n",
    "        for i in rule_graph.neighbors(idx):\n",
    "            list_id_vecinos.append(i)\n",
    "\n",
    "    list_id_vecinos = list_id_vecinos + list_rule_idx\n",
    "    list_to_ret = []\n",
    "    #print(list_id_vecinos)\n",
    "    for idx in list_id_vecinos:\n",
    "        list_to_ret.append(dict_wiith_idx[idx])\n",
    "    return list_to_ret\n",
    "\n",
    "def calculate_k_i(node):\n",
    "    sum_to_ret = 0\n",
    "    for i in node.all_edges():\n",
    "        sum_to_ret += i[\"weight\"]\n",
    "    return sum_to_ret\n",
    "\n",
    "def calculate_k_i_in(node, comm, graph_):\n",
    "    # Sacar los vecinos del nodo\n",
    "    vecinos_node = node.neighbors()\n",
    "\n",
    "    # Ver cuales están en la comunidad\n",
    "    id_com_ = comm.vs()[0][\"comid\"] # Id de la comunidad (se busca en primer nodo)\n",
    "\n",
    "    # Se hace la intersección\n",
    "    inter_vertex = []\n",
    "    for veci in vecinos_node:\n",
    "        if veci[\"comid\"] == id_com_:\n",
    "            inter_vertex.append(veci)\n",
    "\n",
    "    # Se busca su peso\n",
    "    kiin = 0\n",
    "    for veci in inter_vertex:\n",
    "        id_edge = graph_.get_eid(node, veci, directed=False)\n",
    "        kiin += graph_.es()[id_edge][\"weight\"]\n",
    "    \n",
    "    return kiin*2\n",
    "\n",
    "def calculate_sum_tot(comm, graph_):\n",
    "    sum_tot = 0\n",
    "    for i in comm.vs():\n",
    "        id_label = i[\"name\"]\n",
    "        \n",
    "        node = graph_.vs.find(name_eq = id_label)\n",
    "        #print(node.all_edges())\n",
    "        #print([i[\"weight\"] for i in node.all_edges()])\n",
    "        sum_tot += sum([i[\"weight\"] for i in node.all_edges()])\n",
    "    return sum_tot\n",
    "\n",
    "def modularity_evaluate(node, comm, graph_):\n",
    "    \"\"\"Return the modularity value adding the node in the comm.\"\"\"    \n",
    "    sum_tot = calculate_sum_tot(comm, graph_)\n",
    "    #print(sum_tot)\n",
    "    sum_in = sum(comm.es()[\"weight\"])*2 \n",
    "    #print(sum_in)\n",
    "    k_i_in = calculate_k_i_in(node, comm, graph_)\n",
    "    #print(k_i_in)\n",
    "    k_i = calculate_k_i(node)\n",
    "    #print(k_i)\n",
    "    m = graph_.ecount()\n",
    "    #print(m)\n",
    "    part_a = ((sum_in + 2*k_i_in) / (2*m) ) - ((sum_tot+k_i)/(2*m)*(sum_tot+k_i)/(2*m))\n",
    "    part_b = (sum_in/(2*m)) - ((sum_tot/(2*m))*(sum_tot/(2*m))) - ((k_i/(2*m))*(k_i/(2*m)))\n",
    "    return part_a - part_b\n",
    "\n",
    "def add_new_user_node(user, resource, graph_, data):\n",
    "    \"\"\"Add new vertex in the graph based on share resource.\"\"\"\n",
    "    # Se extraen los usuarios que tienen el mismo recurso de acceso\n",
    "    users_same_resource = data[data[\"RESID\"]==resource].drop_duplicates()[\"USRID\"].to_list()\n",
    "    graph_.add_vertex(graph_.vcount()) # Se agrega el vértice en el grafo\n",
    "    graph_.vs()[graph_.vcount()-1][\"name\"] = user # Agregar atributo lable\n",
    "    user_obj = graph_.vs()[graph_.vcount()-1]\n",
    "    #print(users_same_resource)\n",
    "    for usr in users_same_resource:\n",
    "        x = graph_.vs.find(name_eq=str(usr)+\".0\")    \n",
    "        graph_.add_edges([(x, user_obj)])\n",
    "        graph_.es()[-1][\"weight\"] = 1\n",
    "    #print(\"Done!\")\n",
    "\n",
    "def add_new_user_node_2(user, resource, graph_, data):\n",
    "    \"\"\"Add new vertex in the graph based on share resource.\"\"\"\n",
    "    # Se extraen los usuarios que tienen el mismo recurso de acceso\n",
    "    users_same_resource = set(data[data[\"RESID\"]==resource].drop_duplicates()[\"USRID\"].to_list())\n",
    "    #print(users_same_resource)\n",
    "    usuaris_grafo = set([int(float(i)) for i in graph_.vs()[\"name\"]])\n",
    "    users_same_resource = list(users_same_resource.intersection(usuaris_grafo))\n",
    "    #print(users_same_resource)\n",
    "    graph_.add_vertex(graph_.vcount()) # Se agrega el vértice en el grafo\n",
    "    graph_.vs()[graph_.vcount()-1][\"name\"] = user # Agregar atributo lable\n",
    "    user_obj = graph_.vs()[graph_.vcount()-1]\n",
    "    #print(users_same_resource)\n",
    "    for usr in users_same_resource:\n",
    "        x = graph_.vs.find(name_eq=usr)    \n",
    "        graph_.add_edges([(x, user_obj)])\n",
    "        graph_.es()[-1][\"weight\"] = 1\n",
    "\n",
    "def get_comunidades_vecinas(nodo, graph_):\n",
    "    \"\"\"Return ids communities neighboors.\"\"\"\n",
    "    vecinos_nodo = nodo.neighbors()\n",
    "    lista_to_ret = []\n",
    "    for vecino in vecinos_nodo:\n",
    "        if not vecino[\"comid\"] in lista_to_ret:\n",
    "            lista_to_ret.append(vecino[\"comid\"])\n",
    "    return lista_to_ret\n",
    "\n",
    "def obtener_reglas_comundiad(id_com, reglas):\n",
    "    \"\"\"Retorna las reglas con el identificador de comunidad\"\"\"\n",
    "    list_to_ret = []\n",
    "    for i in reglas:\n",
    "        if i[0][1] == id_com:\n",
    "            list_to_ret.append(i)\n",
    "    return list_to_ret\n"
   ]
  },
  {
   "attachments": {},
   "cell_type": "markdown",
   "metadata": {},
   "source": [
    "#### Main"
   ]
  },
  {
   "cell_type": "code",
   "execution_count": 32,
   "metadata": {},
   "outputs": [
    {
     "name": "stdout",
     "output_type": "stream",
     "text": [
      "IGRAPH UNW- 4817 706967 -- \n",
      "+ attr: cluster (v), comid (v), name (v), weight (e)\n",
      "igraph.Vertex(<igraph.Graph object at 0x000002084C282D68>, 0, {'name': 602101, 'cluster': 0, 'comid': '0'})\n"
     ]
    }
   ],
   "source": [
    "copy_g_proj = g_proj_B.copy() # Copia del grafo\n",
    "\n",
    "temp_list = []\n",
    "\n",
    "# Se agrega su id de comunidad\n",
    "for node in copy_g_proj.vs():\n",
    "    for i in dict_total_coms: \n",
    "        #print(node[\"name\"])       \n",
    "        if node[\"name\"] in dict_total_coms[i][0].vs()[\"name\"]:\n",
    "            #print(i)\n",
    "            node[\"comid\"] = i\n",
    "\n",
    "print(copy_g_proj.summary())"
   ]
  },
  {
   "attachments": {},
   "cell_type": "markdown",
   "metadata": {},
   "source": [
    "#### FN"
   ]
  },
  {
   "cell_type": "code",
   "execution_count": 33,
   "metadata": {},
   "outputs": [
    {
     "name": "stdout",
     "output_type": "stream",
     "text": [
      "FP-2\n",
      "ENtra PAPA\n",
      "ENtra PAPA\n",
      "ENtra PAPA\n",
      "ENtra PAPA\n",
      "FP-2\n",
      "FP-2\n",
      "FP-2\n",
      "ENtra PAPA\n",
      "ENtra PAPA\n",
      "FP-2\n",
      "ENtra PAPA\n",
      "ENtra PAPA\n",
      "FP-2\n",
      "FP-2\n",
      "ENtra PAPA\n",
      "FP-2\n",
      "FP-2\n",
      "FP-2\n",
      "FP-2\n",
      "FP-2\n",
      "ENtra PAPA\n",
      "ENtra PAPA\n",
      "ENtra PAPA\n",
      "ENtra PAPA\n",
      "FP-2\n",
      "ENtra PAPA\n",
      "FP-2\n",
      "ENtra PAPA\n",
      "FP-2\n",
      "FP-2\n",
      "FP-2\n",
      "FP-2\n",
      "ENtra PAPA\n",
      "ENtra PAPA\n",
      "ENtra PAPA\n",
      "ENtra PAPA\n",
      "ENtra PAPA\n",
      "ENtra PAPA\n",
      "ENtra PAPA\n",
      "ENtra PAPA\n",
      "FP-2\n",
      "FP-2\n",
      "ENtra PAPA\n",
      "FP-2\n",
      "ENtra PAPA\n",
      "ENtra PAPA\n",
      "FP-2\n",
      "FP-2\n",
      "ENtra PAPA\n",
      "ENtra PAPA\n",
      "ENtra PAPA\n",
      "FP-2\n",
      "ENtra PAPA\n",
      "FP-2\n",
      "FP-2\n",
      "ENtra PAPA\n",
      "ENtra PAPA\n",
      "ENtra PAPA\n",
      "ENtra PAPA\n",
      "FP-2\n",
      "ENtra PAPA\n",
      "FP-2\n",
      "FP-2\n",
      "ENtra PAPA\n",
      "FP-2\n",
      "FP-2\n",
      "FP-2\n",
      "ENtra PAPA\n",
      "ENtra PAPA\n",
      "ENtra PAPA\n",
      "ENtra PAPA\n",
      "FP-2\n",
      "ENtra PAPA\n",
      "ENtra PAPA\n",
      "FP-2\n",
      "FP-2\n",
      "FP-2\n",
      "ENtra PAPA\n",
      "FP-2\n",
      "ENtra PAPA\n",
      "FP-2\n",
      "FP-2\n",
      "ENtra PAPA\n",
      "FP-2\n",
      "FP-2\n",
      "ENtra PAPA\n",
      "ENtra PAPA\n",
      "ENtra PAPA\n",
      "ENtra PAPA\n",
      "FP-2\n",
      "ENtra PAPA\n",
      "ENtra PAPA\n",
      "ENtra PAPA\n",
      "FP-2\n",
      "ENtra PAPA\n",
      "ENtra PAPA\n",
      "ENtra PAPA\n",
      "FP-2\n",
      "FP-2\n"
     ]
    }
   ],
   "source": [
    "false_neg  = []\n",
    "for i,row in positive_cav_test[:100].iterrows():\n",
    "#for i, row in pos_test.iterrows():\n",
    "    user_id = row[\"USRID\"]\n",
    "    res_id = row[\"RESID\"]\n",
    "\n",
    "    # Identificación de la comunidad\n",
    "    copy_g = copy_g_proj.copy()\n",
    "    add_new_user_node_2(user_id, res_id, copy_g, positive_cav_test) # Se agrega el nodo a la red\n",
    "    node_user = copy_g.vs[-1] # Node de usuario\n",
    "    \n",
    "    # Identificar a las comunidades vecinas\n",
    "    coms_vecinas = get_comunidades_vecinas(node_user, copy_g)\n",
    "    \n",
    "    # Probar la modularidad máxima\n",
    "    max_mod = 0\n",
    "    com_max = None\n",
    "    for id_com in coms_vecinas:\n",
    "        comunidad = copy_g.vs.select(comid_eq=id_com)\n",
    "        comunidad = copy_g.subgraph(comunidad)\n",
    "        temp_mod = modularity_evaluate(node_user, comunidad, copy_g)\n",
    "        if temp_mod > max_mod:\n",
    "            max_mod = temp_mod\n",
    "            com_max = id_com\n",
    "        # print(\"Mod:\", temp_mod, \" \\t\\t Comunidad:\", id_com)\n",
    "    #print(\" --- MAX MOD:\", max_mod, \"  --- COM:\", com_max)\n",
    "\n",
    "    list_coms_user = obtener_reglas_comundiad(com_max, list_rules)\n",
    "    #print(list_coms_user)\n",
    "    list_rules_idx = get_rule_id(list_coms_user, rules_with_idx)\n",
    "    #print(list_rules_idx)\n",
    "    list_coms_user = get_neighbors_rules(list_rules_idx, Grules, rules_with_idx)\n",
    "\n",
    "    # Evaluación\n",
    "    denies_count = 0\n",
    "    temp_rules_n = 0\n",
    "    for rule in list_coms_user:                                      \n",
    "        # En esta parte se evalua la regla completa\n",
    "        res = True                        \n",
    "        for idx_r, attr_val in enumerate(rule[1]):\n",
    "            # print(idx_r, attr_val)                                    \n",
    "            if row[attr_val[0]] != attr_val[1]:                                \n",
    "                #print(\"Fallo en -- Row:\",row[attr_val[0]], \" --- Reg:\", attr_val[1], \" --- DIFE:\", attr_val)\n",
    "                res = False\n",
    "                break                                            \n",
    "        if res == False:\n",
    "            denies_count += 1                                \n",
    "    #print(\"XXX-\", denies_count, temp_rules_n, res)\n",
    "    if denies_count == len(list_coms_user):\n",
    "        false_neg.append(row)\n",
    "        #print(\"FP-2\")\n",
    "    else:\n",
    "        #print(\"ENtra PAPA\")"
   ]
  },
  {
   "cell_type": "code",
   "execution_count": 36,
   "metadata": {},
   "outputs": [
    {
     "name": "stdout",
     "output_type": "stream",
     "text": [
      "Tasa FN: 45.00\n",
      "FN:  45  de  100\n"
     ]
    }
   ],
   "source": [
    "FN = len(false_neg)\n",
    "print(\"Tasa FN: {:.2f}\".format((FN/ 100)*100))\n",
    "print(\"FN: \", FN, \" de \", 100)"
   ]
  },
  {
   "attachments": {},
   "cell_type": "markdown",
   "metadata": {},
   "source": [
    "#### FP"
   ]
  },
  {
   "cell_type": "code",
   "execution_count": 38,
   "metadata": {},
   "outputs": [],
   "source": [
    "false_pos  = []\n",
    "for i,row in negative_cav_train[:100].iterrows():\n",
    "#for i, row in pos_test.iterrows():\n",
    "    user_id = row[\"USRID\"]\n",
    "    res_id = row[\"RESID\"]\n",
    "\n",
    "    # Identificación de la comunidad\n",
    "    copy_g = copy_g_proj.copy()\n",
    "    add_new_user_node_2(user_id, res_id, copy_g, negative_cav_train) # Se agrega el nodo a la red\n",
    "    node_user = copy_g.vs[-1] # Node de usuario\n",
    "    \n",
    "    # Identificar a las comunidades vecinas\n",
    "    coms_vecinas = get_comunidades_vecinas(node_user, copy_g)\n",
    "    \n",
    "    # Probar la modularidad máxima\n",
    "    max_mod = 0\n",
    "    com_max = None\n",
    "    for id_com in coms_vecinas:\n",
    "        comunidad = copy_g.vs.select(comid_eq=id_com)\n",
    "        comunidad = copy_g.subgraph(comunidad)\n",
    "        temp_mod = modularity_evaluate(node_user, comunidad, copy_g)\n",
    "        if temp_mod > max_mod:\n",
    "            max_mod = temp_mod\n",
    "            com_max = id_com\n",
    "        # print(\"Mod:\", temp_mod, \" \\t\\t Comunidad:\", id_com)\n",
    "    #print(\" --- MAX MOD:\", max_mod, \"  --- COM:\", com_max)\n",
    "\n",
    "    list_coms_user = obtener_reglas_comundiad(com_max, list_rules)\n",
    "    #print(list_coms_user)\n",
    "    list_rules_idx = get_rule_id(list_coms_user, rules_with_idx)\n",
    "    #print(list_rules_idx)\n",
    "    list_coms_user = get_neighbors_rules(list_rules_idx, Grules, rules_with_idx)\n",
    "\n",
    "    # Evaluación\n",
    "    denies_count = 0\n",
    "    temp_rules_n = 0\n",
    "    for rule in list_coms_user:                                      \n",
    "        # En esta parte se evalua la regla completa\n",
    "        res = True                        \n",
    "        for idx_r, attr_val in enumerate(rule[1]):\n",
    "            # print(idx_r, attr_val)                                \n",
    "            if row[attr_val[0]] != attr_val[1]:                                \n",
    "                #print(\"Fallo en -- Row:\",row[attr_val[0]], \" --- Reg:\", attr_val[1], \" --- DIFE:\", attr_val)\n",
    "                res = False\n",
    "                break                                            \n",
    "        if res == False:\n",
    "            denies_count += 1                                \n",
    "    #print(\"XXX-\", denies_count, temp_rules_n, res)\n",
    "    if denies_count < len(list_coms_user):\n",
    "        false_pos.append(row)\n",
    "        #print(\"FP-2\")    \n",
    "    #else:\n",
    "    #    print(\"ENtra PAPA\")\n",
    "    "
   ]
  },
  {
   "cell_type": "code",
   "execution_count": 39,
   "metadata": {},
   "outputs": [
    {
     "name": "stdout",
     "output_type": "stream",
     "text": [
      "Tasa FP: 19.00\n",
      "FN:  19  de  100\n"
     ]
    }
   ],
   "source": [
    "FP = len(false_pos)\n",
    "print(\"Tasa FP: {:.2f}\".format((FP/ 100)*100))\n",
    "print(\"FN: \", FP, \" de \", 100)"
   ]
  },
  {
   "attachments": {},
   "cell_type": "markdown",
   "metadata": {},
   "source": [
    "#### F-Score"
   ]
  },
  {
   "cell_type": "code",
   "execution_count": 40,
   "metadata": {},
   "outputs": [
    {
     "name": "stdout",
     "output_type": "stream",
     "text": [
      "FN: 45  - 45.00\n",
      "FP: 19  - 19.00\n",
      "Precision: 0.7432432432432432\n",
      "Recall: 0.55\n",
      "F-score 0.632183908045977\n",
      "# Rules: 50\n",
      "WSC: 281\n"
     ]
    }
   ],
   "source": [
    "\n",
    "# TP = len(df_train_k_pos) - FN\n",
    "TP = 100 - FN\n",
    "# TN = len(df_train_k_neg) - FP\n",
    "TN = 100 - FP\n",
    "\n",
    "precision = TP / (TP + FP)\n",
    "\n",
    "recall = TP / (TP + FN)\n",
    "\n",
    "fscore = 2*(precision*recall)/(precision+recall)\n",
    "\n",
    "# print(\"FN:\", FN, \" - {:.2f}\".format((FN/len(df_train_k_pos))*100))\n",
    "print(\"FN:\", FN, \" - {:.2f}\".format((FN/100)*100))\n",
    "# print(\"FP:\", FP, \" - {:.2f}\".format((FP/len(df_train_k_neg))*100))\n",
    "print(\"FP:\", FP, \" - {:.2f}\".format((FP/100)*100))\n",
    "print(\"Precision:\", precision)\n",
    "print(\"Recall:\", recall)\n",
    "print(\"F-score\", fscore)\n",
    "\n",
    "def compute_wsc(policy):\n",
    "    return sum([len(rule[1]) for rule in policy])\n",
    "\n",
    "print(\"# Rules:\", len(list_rules))\n",
    "print(\"WSC:\", compute_wsc(list_rules))"
   ]
  },
  {
   "attachments": {},
   "cell_type": "markdown",
   "metadata": {},
   "source": [
    "## Policy Refinement"
   ]
  },
  {
   "attachments": {},
   "cell_type": "markdown",
   "metadata": {},
   "source": [
    "### TASK 1: False Negative Network Modelling"
   ]
  },
  {
   "cell_type": "code",
   "execution_count": 41,
   "metadata": {},
   "outputs": [
    {
     "name": "stdout",
     "output_type": "stream",
     "text": [
      "IGRAPH UN-- 75 45 -- \n",
      "+ attr: name (v), typen (v)\n",
      "User nodes:  45\n",
      "Res nodes:  30\n",
      "Is bipartite?  True\n"
     ]
    }
   ],
   "source": [
    "list_new_edges = []\n",
    "false_negs_df = pd.DataFrame(false_neg)\n",
    "for idx_usr, idx_rsr in false_negs_df[[\"USRID\",\"RESID\"]].values:    \n",
    "    list_new_edges.append((int(idx_usr), int(idx_rsr)))\n",
    "new_g = nx.Graph()\n",
    "new_g.add_edges_from(list_new_edges)\n",
    "\n",
    "#print(list_new_edges)\n",
    "\n",
    "new_g = ig.Graph.from_networkx(new_g)\n",
    "new_g.vs[\"name\"] = new_g.vs[\"_nx_name\"]\n",
    "del new_g.vs[\"_nx_name\"]\n",
    "\n",
    "# Identificar los grafo usuario y los grafo recurso.\n",
    "list_temp = list(false_negs_df.USRID)\n",
    "list_type = []\n",
    "for vertex in new_g.vs():\n",
    "    if vertex[\"name\"] in list_temp:\n",
    "        list_type.append(0)\n",
    "    else:\n",
    "        list_type.append(1)\n",
    "\n",
    "new_g.vs[\"typen\"] = list_type\n",
    "#g = ig.Graph(list_edges)\n",
    "# nodes_to_remove = g.vs.select(_degree=0) # Node with 0 degree (isolated)\n",
    "# g.delete_vertices(nodes_to_remove)\n",
    "print(new_g.summary())\n",
    "print(\"User nodes: \", len(new_g.vs.select(typen=0)))\n",
    "print(\"Res nodes: \", len(new_g.vs.select(typen=1)))\n",
    "\n",
    "print(\"Is bipartite? \", new_g.is_bipartite())"
   ]
  },
  {
   "attachments": {},
   "cell_type": "markdown",
   "metadata": {},
   "source": [
    "### TASK 2: FN User Network"
   ]
  },
  {
   "cell_type": "code",
   "execution_count": 63,
   "metadata": {},
   "outputs": [
    {
     "name": "stdout",
     "output_type": "stream",
     "text": [
      "Name: \n",
      "Type: Graph\n",
      "Number of nodes: 27\n",
      "Number of edges: 18\n",
      "Average degree:   1.3333\n",
      "IGRAPH UNW- 27 18 -- \n",
      "+ attr: id (v), label (v), name (v), weight (e)\n",
      "IGRAPH UNW- 27 18 -- \n",
      "+ attr: control (v), fallback (v), id (v), label (v), monitoring (v), name (v), traffic_congestion (v), visibility (v), weather (v), weight (e)\n"
     ]
    }
   ],
   "source": [
    "g_proj_B_new = graph_projectionB(new_g)\n",
    "print(nx.info(g_proj_B_new)) # Networkx graph\n",
    "# Writing the gml\n",
    "file_name = \"output-files/proj-cav-RF.gml\"\n",
    "nx.write_gml(g_proj_B_new, file_name)\n",
    "g_proj_B_new = ig.read(file_name)\n",
    "g_proj_B_new.vs[\"name\"] = g_proj_B_new.vs[\"label\"]\n",
    "print(g_proj_B_new.summary())\n",
    "\n",
    "# Agregar atributos al grafo bipartito\n",
    "for attr in user_attr:    \n",
    "    list_temp = []\n",
    "    for node in g_proj_B_new.vs():                \n",
    "        id_name = float(node[\"label\"])\n",
    "        temp = pd.DataFrame(false_negs_df[false_negs_df.USRID==id_name])            \n",
    "        temp = temp[attr].drop_duplicates()            \n",
    "        temp = temp.values[0]\n",
    "        list_temp.append(temp)            \n",
    "    g_proj_B_new.vs[attr] = list_temp\n",
    "\n",
    "g_proj_B_new.write_gml(file_name)\n",
    "print(g_proj_B_new.summary())"
   ]
  },
  {
   "attachments": {},
   "cell_type": "markdown",
   "metadata": {},
   "source": [
    "### TASK 3: Community Detection"
   ]
  },
  {
   "cell_type": "code",
   "execution_count": 64,
   "metadata": {},
   "outputs": [
    {
     "name": "stdout",
     "output_type": "stream",
     "text": [
      "Modularity C 0.8889\n",
      "IGRAPH UNW- 27 18 -- \n",
      "+ attr: cluster (v), control (v), fallback (v), id (v), label (v), monitoring (v), name (v), traffic_congestion (v), visibility (v), weather (v), weight (e)\n"
     ]
    }
   ],
   "source": [
    "partition = g_proj_B_new.community_multilevel(weights=g_proj_B_new.es()[\"weight\"])\n",
    "print(\"Modularity C %.4f\" % partition.modularity)\n",
    "# Add cluster attribute to nodes\n",
    "g_proj_B_new.vs[\"cluster\"] = partition.membership\n",
    "print(g_proj_B_new.summary())"
   ]
  },
  {
   "attachments": {},
   "cell_type": "markdown",
   "metadata": {},
   "source": [
    "#### TASK 3.1: Community classification"
   ]
  },
  {
   "cell_type": "code",
   "execution_count": 65,
   "metadata": {},
   "outputs": [
    {
     "name": "stdout",
     "output_type": "stream",
     "text": [
      "# de Comunidades:  12\n"
     ]
    }
   ],
   "source": [
    "# Se obtienen las comunidades y sub-comunidades\n",
    "g = g_proj_B_new\n",
    "\n",
    "density_threshold = 0.5\n",
    "\n",
    "n_coms = len(set(g.vs[\"cluster\"]))\n",
    "count_n_coms = 0 # Contador de número de comunidades detectadas\n",
    "# Diccionario con las comunidades. Id de la comunidad como key y una lista \n",
    "# como value {01: [subgrafo, recursos_list]}\n",
    "dict_total_coms2 = {} \n",
    "\n",
    "for idx_comm in range(n_coms): # Recorrer cada comunidad en la red\n",
    "    subgraph_nodes = g.vs.select(cluster=idx_comm) # Sacamos los nodos con el cluster\n",
    "    comm_subgraph = subgraph_nodes.subgraph() # Objeto de subgrafo\n",
    "\n",
    "    # Verificar si la densidad es baja: Si es baja se puede clasificar\n",
    "    if comm_subgraph.density() < density_threshold:\n",
    "\n",
    "        # Se realiza nuevamente una partición\n",
    "        new_partition = comm_subgraph.community_multilevel(\n",
    "            weights =comm_subgraph.es[\"weight\"] )        \n",
    "\n",
    "        for sub_com in new_partition.subgraphs(): # Se recorre cada nueva sub comunidad\n",
    "            # Usuarios en la comunidad\n",
    "            user_set_comm = sub_com.vs()[\"label\"]   \n",
    "            # Recursos en la comunidad\n",
    "            n_res = num_recursos(user_set_comm, gb)            \n",
    "            dict_total_coms2[str(count_n_coms)+\"666\"] = [sub_com, n_res]\n",
    "            count_n_coms += 1\n",
    "    else:\n",
    "        user_set_comm = comm_subgraph.vs()[\"label\"]   \n",
    "        # Recursos en la comunidad\n",
    "        n_res = num_recursos(user_set_comm, gb)            \n",
    "        dict_total_coms2[str(count_n_coms)+\"666\"] = [comm_subgraph, n_res]\n",
    "        count_n_coms += 1\n",
    "\n",
    "print(\"# de Comunidades: \", len(dict_total_coms2))"
   ]
  },
  {
   "cell_type": "code",
   "execution_count": 66,
   "metadata": {},
   "outputs": [
    {
     "name": "stdout",
     "output_type": "stream",
     "text": [
      "Comunidad con # mayor recursos 9\n",
      "Big Threshold:  4  \t\t Med Threshold 2\n"
     ]
    }
   ],
   "source": [
    "# Obtener el máximo valor de recursos en el total de comunidades\n",
    "n_res_in_comms = [len(i[1]) for i in dict_total_coms2.values()]\n",
    "max_n_res = max(n_res_in_comms)\n",
    "print(\"Comunidad con # mayor recursos\", max_n_res)\n",
    "\n",
    "# Umbrales para la clasificación de comunidades\n",
    "big_threshold = int(0.50 * max_n_res)\n",
    "med_threshold = int(0.25 * max_n_res)\n",
    "print(\"Big Threshold: \", big_threshold, \" \\t\\t Med Threshold\", med_threshold)"
   ]
  },
  {
   "cell_type": "code",
   "execution_count": 67,
   "metadata": {},
   "outputs": [
    {
     "name": "stdout",
     "output_type": "stream",
     "text": [
      "# Comunidades: 12 == 12\n",
      "Big Comms: 8\n",
      "Med Comms: 3\n",
      "Sma Comms: 1\n"
     ]
    }
   ],
   "source": [
    "big_comms = [] # Almacenar las comunidades grandes\n",
    "med_comms = [] # Almacenar las comunidades medianas\n",
    "sma_comms = [] # Almacenar las comunidades pequeñas\n",
    "\n",
    "for idx_com, com in enumerate(dict_total_coms2.values()):\n",
    "    #print(idx_com, com)\n",
    "    if len(com[1]) > big_threshold: # Es comunidad grande\n",
    "        big_comms.append([list(dict_total_coms2.keys())[idx_com]]+com)\n",
    "    elif len(com[1]) > med_threshold: # Es comunidad mediana\n",
    "        med_comms.append([list(dict_total_coms2.keys())[idx_com]]+com)\n",
    "    else:\n",
    "        sma_comms.append([list(dict_total_coms2.keys())[idx_com]]+com)\n",
    "\n",
    "print(\"# Comunidades:\",len(big_comms)+len(med_comms)+len(sma_comms), \"==\", len(dict_total_coms2))\n",
    "print(\"Big Comms:\", len(big_comms))\n",
    "print(\"Med Comms:\", len(med_comms))\n",
    "print(\"Sma Comms:\", len(sma_comms))"
   ]
  },
  {
   "attachments": {},
   "cell_type": "markdown",
   "metadata": {},
   "source": [
    "### TASK 4: Rule inference"
   ]
  },
  {
   "cell_type": "code",
   "execution_count": 68,
   "metadata": {},
   "outputs": [],
   "source": [
    "dict_ress_coms_2 = {} # Diccionario de recursos\n",
    "list_rules_2 = [] # Lista de reglas\n",
    "dict_res_in_coms_2 = {} # Diccionarios de recursos en comunidad"
   ]
  },
  {
   "attachments": {},
   "cell_type": "markdown",
   "metadata": {},
   "source": [
    "#### TASK 4.1: Small Comms."
   ]
  },
  {
   "cell_type": "code",
   "execution_count": 69,
   "metadata": {},
   "outputs": [
    {
     "name": "stdout",
     "output_type": "stream",
     "text": [
      "Reglas generadas: 1\n"
     ]
    }
   ],
   "source": [
    "counter_rules = 0\n",
    "for comm in sma_comms:\n",
    "    resorces_coms = comm[2] # Se extrae los recursos al que accede.\n",
    "    if len(resorces_coms) == 1: # Si sólo hay un recurso\n",
    "        # Se extraen los atributos del único recurso\n",
    "        regla_i = [ [\"id_com\", str(comm[0])], [] ] # Se comienza generando la regla.        \n",
    "        logs_with_resource = positive_cav_train[positive_cav_train[\"RESID\"]==comm[2][0]].iloc[0]\n",
    "\n",
    "        for attr in rsrc_attr: # Se agrega la regla con atr de recurso\n",
    "            regla_i[1].append([attr, logs_with_resource[attr]])\n",
    "        \n",
    "        # Usuarios en la comunidad\n",
    "        users_in_sub_com = set([int(float(i)) for i in comm[1].vs()[\"name\"]])\n",
    "        df_users_in_comm = positive_cav_train[positive_cav_train[\"USRID\"].isin(users_in_sub_com)]\n",
    "        df_users_in_comm = df_users_in_comm[user_attr+[\"USRID\"]].drop_duplicates()                    \n",
    "        \n",
    "        # Obtener regla apriori\n",
    "        regla_atr_usuario = apriori_in_resources(data_=df_users_in_comm)\n",
    "        regla_i[1] = regla_i[1] + regla_atr_usuario\n",
    "\n",
    "        list_rules_2.append(regla_i)\n",
    "        counter_rules += 1\n",
    "    else:\n",
    "        regla_i = [ [\"id_com\", str(comm[0])], [] ] # Se comienza generando la regla.        \n",
    "        \n",
    "        # Solicitudes que incluyen el recurso\n",
    "        logs_with_resource = positive_cav_train[positive_cav_train['RESID'].isin(comm[2])]\n",
    "        logs_with_resource = logs_with_resource[rsrc_attr+[\"USRID\",\"RESID\"]].drop_duplicates()\n",
    "        df_resources = logs_with_resource[rsrc_attr+[\"RESID\"]].drop_duplicates()\n",
    "        \n",
    "        # Usuarios en la comunidad\n",
    "        users_in_sub_com = set([int(float(i)) for i in comm[1].vs()[\"name\"]])\n",
    "        df_users_in_comm = positive_cav_train[positive_cav_train[\"USRID\"].isin(users_in_sub_com)]\n",
    "        df_users_in_comm = df_users_in_comm[user_attr+[\"USRID\"]].drop_duplicates()                    \n",
    "        \n",
    "        # Generar regla con los atributos de los recursos\n",
    "        regla_atr_recurso = apriori_in_resources(data_=df_resources) \n",
    "        regla_atr_usuario = apriori_in_resources(data_=df_users_in_comm)        \n",
    "\n",
    "        # Se agrega a la regla\n",
    "        regla_i[1] = regla_i[1] + regla_atr_recurso + regla_atr_usuario\n",
    "        # print(regla_i)\n",
    "        \n",
    "        list_rules_2.append(regla_i)\n",
    "        counter_rules += 1\n",
    "\n",
    "print(\"Reglas generadas:\", counter_rules)"
   ]
  },
  {
   "attachments": {},
   "cell_type": "markdown",
   "metadata": {},
   "source": [
    "#### Task 4.2: Medium Comms."
   ]
  },
  {
   "cell_type": "code",
   "execution_count": 70,
   "metadata": {},
   "outputs": [
    {
     "name": "stdout",
     "output_type": "stream",
     "text": [
      "Reglas generadas: 3\n"
     ]
    }
   ],
   "source": [
    "counter_rules = 0\n",
    "umbral_podado = 0.2\n",
    "for comm in med_comms:\n",
    "    resorces_coms = podar_recursos_new(comm[1], new_g, umbral_podado)    \n",
    "    if len(resorces_coms) == 1: # Si sólo hay un recurso\n",
    "        # Se extraen los atributos del único recurso\n",
    "        regla_i = [ [\"id_com\", str(comm[0])], [] ] # Se comienza generando la regla.        \n",
    "        logs_with_resource = positive_cav_train[positive_cav_train[\"RESID\"]==comm[2][0]].iloc[0]\n",
    "\n",
    "        for attr in rsrc_attr: # Se agrega la regla con atr de recurso\n",
    "            regla_i[1].append([attr, logs_with_resource[attr]])\n",
    "        \n",
    "        # Usuarios en la comunidad\n",
    "        users_in_sub_com = set([int(float(i)) for i in comm[1].vs()[\"name\"]])\n",
    "        df_users_in_comm = positive_cav_train[positive_cav_train[\"USRID\"].isin(users_in_sub_com)]\n",
    "        df_users_in_comm = df_users_in_comm[user_attr+[\"USRID\"]].drop_duplicates()                    \n",
    "        \n",
    "        # Obtener regla apriori\n",
    "        regla_atr_usuario = apriori_in_resources(data_=df_users_in_comm)\n",
    "        regla_i[1] = regla_i[1] + regla_atr_usuario\n",
    "\n",
    "        list_rules_2.append(regla_i)\n",
    "        counter_rules += 1\n",
    "    else:\n",
    "        regla_i = [ [\"id_com\", str(comm[0])], [] ] # Se comienza generando la regla.        \n",
    "        \n",
    "        # Solicitudes que incluyen el recurso\n",
    "        logs_with_resource = positive_cav_train[positive_cav_train['RESID'].isin(comm[2])]\n",
    "        logs_with_resource = logs_with_resource[rsrc_attr+[\"USRID\",\"RESID\"]].drop_duplicates()\n",
    "        df_resources = logs_with_resource[rsrc_attr+[\"RESID\"]].drop_duplicates()\n",
    "        \n",
    "        # Usuarios en la comunidad\n",
    "        users_in_sub_com = set([int(float(i)) for i in comm[1].vs()[\"name\"]])\n",
    "        df_users_in_comm = positive_cav_train[positive_cav_train[\"USRID\"].isin(users_in_sub_com)]\n",
    "        df_users_in_comm = df_users_in_comm[user_attr+[\"USRID\"]].drop_duplicates()                    \n",
    "        \n",
    "        # Generar regla con los atributos de los recursos\n",
    "        regla_atr_recurso = apriori_in_resources(data_=df_resources) \n",
    "        regla_atr_usuario = apriori_in_resources(data_=df_users_in_comm)        \n",
    "\n",
    "        # Se agrega a la regla\n",
    "        regla_i[1] = regla_i[1] + regla_atr_recurso + regla_atr_usuario\n",
    "        # print(regla_i)\n",
    "        \n",
    "        list_rules_2.append(regla_i)\n",
    "        counter_rules += 1\n",
    "\n",
    "print(\"Reglas generadas:\", counter_rules)"
   ]
  },
  {
   "attachments": {},
   "cell_type": "markdown",
   "metadata": {},
   "source": [
    "#### TASK 4.3: Big Comms."
   ]
  },
  {
   "cell_type": "code",
   "execution_count": 71,
   "metadata": {},
   "outputs": [
    {
     "name": "stdout",
     "output_type": "stream",
     "text": [
      "Reglas generadas: 8\n"
     ]
    }
   ],
   "source": [
    "counter_rules = 0\n",
    "umbral_podado = 0.2\n",
    "umbral_rec_sig = 0.5\n",
    "\n",
    "for comm in big_comms:\n",
    "    resorces_coms = podar_recursos_new(comm[1], new_g, umbral_podado)    \n",
    "    if len(resorces_coms) == 1: # Si sólo hay un recurso\n",
    "        # Se extraen los atributos del único recurso\n",
    "        regla_i = [ [\"id_com\", str(comm[0])], [] ] # Se comienza generando la regla.        \n",
    "        logs_with_resource = positive_cav_train[positive_cav_train[\"RESID\"]==comm[2][0]].iloc[0]\n",
    "\n",
    "        for attr in rsrc_attr: # Se agrega la regla con atr de recurso\n",
    "            regla_i[1].append([attr, logs_with_resource[attr]])\n",
    "        \n",
    "        # Usuarios en la comunidad\n",
    "        users_in_sub_com = set([int(float(i)) for i in comm[1].vs()[\"name\"]])\n",
    "        df_users_in_comm = positive_cav_train[positive_cav_train[\"USRID\"].isin(users_in_sub_com)]\n",
    "        df_users_in_comm = df_users_in_comm[user_attr+[\"USRID\"]].drop_duplicates()                    \n",
    "        \n",
    "        # Obtener regla apriori\n",
    "        regla_atr_usuario = apriori_in_resources(data_=df_users_in_comm)\n",
    "        regla_i[1] = regla_i[1] + regla_atr_usuario\n",
    "\n",
    "        list_rules_2.append(regla_i)\n",
    "        counter_rules += 1\n",
    "    else:\n",
    "\n",
    "        # Obtención de recursos significativos\n",
    "        recursos_significativos = get_recursos_significativos(comm[1], new_g, umbral_rec_sig)\n",
    "\n",
    "        if len(recursos_significativos) > 0: # Si hay elementos\n",
    "            for rec in recursos_significativos:\n",
    "                regla_i = [ [\"id_com\", str(comm[0])], [] ] # Se comienza generando la regla.\n",
    "                for attr in rsrc_attr: # Se agrega la regla con atr de recurso\n",
    "                    logs_with_resource = positive_cav_train[positive_cav_train[\"RESID\"]==rec].iloc[0]\n",
    "                    regla_i[1].append([attr, logs_with_resource[attr]])\n",
    "\n",
    "                # Usuarios en la comunidad\n",
    "                users_in_sub_com = set([int(float(i)) for i in comm[1].vs()[\"name\"]])\n",
    "                df_users_in_comm = positive_cav_train[positive_cav_train[\"USRID\"].isin(users_in_sub_com)]\n",
    "                df_users_in_comm = df_users_in_comm[user_attr+[\"USRID\"]].drop_duplicates()                    \n",
    "                \n",
    "                # Obtener regla apriori\n",
    "                regla_atr_usuario = apriori_in_resources(data_=df_users_in_comm)\n",
    "                regla_i[1] = regla_i[1] + regla_atr_usuario\n",
    "                list_rules_2.append(regla_i)\n",
    "                counter_rules += 1\n",
    "\n",
    "        resto_coms = list(set(resorces_coms) - set(recursos_significativos))\n",
    "\n",
    "        regla_i = [ [\"id_com\", str(comm[0])], [] ] # Se comienza generando la regla.        \n",
    "        \n",
    "        # Solicitudes que incluyen el recurso\n",
    "        logs_with_resource = positive_cav_train[positive_cav_train['RESID'].isin(resto_coms)]\n",
    "        logs_with_resource = logs_with_resource[rsrc_attr+[\"USRID\",\"RESID\"]].drop_duplicates()\n",
    "        df_resources = logs_with_resource[rsrc_attr+[\"RESID\"]].drop_duplicates()\n",
    "        \n",
    "        # Usuarios en la comunidad\n",
    "        users_in_sub_com = set([int(float(i)) for i in comm[1].vs()[\"name\"]])\n",
    "        df_users_in_comm = positive_cav_train[positive_cav_train[\"USRID\"].isin(users_in_sub_com)]\n",
    "        df_users_in_comm = df_users_in_comm[user_attr+[\"USRID\"]].drop_duplicates()                    \n",
    "        \n",
    "        # Generar regla con los atributos de los recursos\n",
    "        regla_atr_recurso = apriori_in_resources(data_=df_resources) \n",
    "        regla_atr_usuario = apriori_in_resources(data_=df_users_in_comm)        \n",
    "\n",
    "        # Se agrega a la regla\n",
    "        regla_i[1] = regla_i[1] + regla_atr_recurso + regla_atr_usuario\n",
    "        # print(regla_i)\n",
    "        \n",
    "        list_rules_2.append(regla_i)\n",
    "        counter_rules += 1\n",
    "\n",
    "print(\"Reglas generadas:\", counter_rules)            "
   ]
  },
  {
   "attachments": {},
   "cell_type": "markdown",
   "metadata": {},
   "source": [
    "#### TASK 4.4: Augmented Rule Network "
   ]
  },
  {
   "cell_type": "code",
   "execution_count": 72,
   "metadata": {},
   "outputs": [],
   "source": [
    "rules_with_idx = {}\n",
    "total_rules = list_rules + list_rules_2\n",
    "for idx, rule in enumerate(total_rules):\n",
    "    rules_with_idx[idx] = rule\n",
    "\n",
    "# Create the graph\n",
    "lista_aristas = []\n",
    "for idxA in range(len(total_rules)):\n",
    "    for idxB in range(idxA, len(total_rules)):\n",
    "        arista = evaluate_weight(rules_with_idx[idxA][1], rules_with_idx[idxB][1], 3)\n",
    "        if arista != -1:\n",
    "            lista_aristas.append((idxA, idxB, arista))\n",
    "\n",
    "Grules_new = nx.Graph()\n",
    "Grules_new.add_weighted_edges_from(lista_aristas)\n",
    "\n",
    "def obtener_reglas_comundiad(id_com, reglas):\n",
    "    \"\"\"Retorna las reglas con el identificador de comunidad\"\"\"\n",
    "    list_to_ret = []\n",
    "    for i in reglas:\n",
    "        if i[0][1] == id_com:\n",
    "            list_to_ret.append(i)\n",
    "    return list_to_ret"
   ]
  },
  {
   "cell_type": "code",
   "execution_count": 73,
   "metadata": {},
   "outputs": [
    {
     "name": "stdout",
     "output_type": "stream",
     "text": [
      "50\n"
     ]
    }
   ],
   "source": [
    "print(len(list_rules))\n",
    "for i in Grules_new.nodes:\n",
    "    if i < len(list_rules):        \n",
    "        Grules_new.nodes[i][\"tipo\"] = 0\n",
    "    else:\n",
    "        Grules_new.nodes[i][\"tipo\"] = 1\n",
    "    Grules_new.nodes[i][\"com\"] = int(total_rules[i][0][1])\n",
    "Grules_new.nodes.data()\n",
    "\n",
    "Grules_new.remove_edges_from(nx.selfloop_edges(Grules_new))\n",
    "\n",
    "nx.write_gml(Grules_new, \"output-files/rule-network-2.gml\")"
   ]
  },
  {
   "cell_type": "code",
   "execution_count": 74,
   "metadata": {},
   "outputs": [
    {
     "name": "stdout",
     "output_type": "stream",
     "text": [
      "Usuarios modificar:  25\n",
      "Tamano lista Comid:  4817\n",
      "IGRAPH UNW- 4817 706967 -- \n",
      "+ attr: cluster (v), comid (v), name (v), weight (e)\n",
      "igraph.Vertex(<igraph.Graph object at 0x0000020847D5F408>, 0, {'name': 602101, 'cluster': 0, 'comid': '0'})\n"
     ]
    }
   ],
   "source": [
    "copy_g_proj2 = copy_g_proj.copy() # Copia del grafo\n",
    "modificaciones = 0\n",
    "\n",
    "lista_comid = []\n",
    "# Se agrega su id de comunidad\n",
    "for node in copy_g_proj2.vs():\n",
    "    bandera = True\n",
    "    for i in dict_total_coms2:        \n",
    "        if str(node[\"name\"]) in dict_total_coms2[i][0].vs()[\"name\"]:\n",
    "            #print(i)\n",
    "            modificaciones += 1\n",
    "            lista_comid.append(i)\n",
    "            bandera = False\n",
    "    if bandera:\n",
    "        lista_comid.append(node[\"comid\"])\n",
    "        \n",
    "print(\"Usuarios modificar: \", modificaciones)\n",
    "print(\"Tamano lista Comid: \", len(lista_comid))\n",
    "copy_g_proj2.vs[\"comid\"] = lista_comid\n",
    "print(copy_g_proj2.summary())\n",
    "print(copy_g_proj2.vs()[0])"
   ]
  },
  {
   "attachments": {},
   "cell_type": "markdown",
   "metadata": {},
   "source": [
    "### TASK 5: Evaluation"
   ]
  },
  {
   "attachments": {},
   "cell_type": "markdown",
   "metadata": {},
   "source": [
    "#### TASK 5.1: FN"
   ]
  },
  {
   "cell_type": "code",
   "execution_count": 75,
   "metadata": {},
   "outputs": [],
   "source": [
    "false_neg2  = []\n",
    "ver_pos = []\n",
    "lista_reglas_add = []\n",
    "for i,row in positive_cav_train[:100].iterrows():\n",
    "#for i, row in pos_test.iterrows():\n",
    "    user_id = row[\"USRID\"]\n",
    "    res_id = row[\"RESID\"]\n",
    "\n",
    "    # Identificación de la comunidad\n",
    "    copy_g = copy_g_proj2.copy()\n",
    "    #print(user_id, res_id)\n",
    "    add_new_user_node_2(user_id, res_id, copy_g, positive_cav_train) # Se agrega el nodo a la red\n",
    "    node_user = copy_g.vs[-1] # Node de usuario\n",
    "    \n",
    "    # Identificar a las comunidades vecinas\n",
    "    coms_vecinas = get_comunidades_vecinas(node_user, copy_g)\n",
    "    \n",
    "    # Probar la modularidad máxima\n",
    "    max_mod = 0\n",
    "    com_max = None\n",
    "    for id_com in coms_vecinas:\n",
    "        comunidad = copy_g.vs.select(comid_eq=id_com)\n",
    "        comunidad = copy_g.subgraph(comunidad)\n",
    "        temp_mod = modularity_evaluate(node_user, comunidad, copy_g)\n",
    "        if temp_mod > max_mod:\n",
    "            max_mod = temp_mod\n",
    "            com_max = id_com\n",
    "        # print(\"Mod:\", temp_mod, \" \\t\\t Comunidad:\", id_com)\n",
    "    #print(\" --- MAX MOD:\", max_mod, \"  --- COM:\", com_max)\n",
    "\n",
    "    list_coms_user = obtener_reglas_comundiad(com_max, total_rules)\n",
    "    #print(list_coms_user)\n",
    "    list_rules_idx = get_rule_id(list_coms_user, rules_with_idx)\n",
    "    #print(list_rules_idx)\n",
    "    list_coms_user = get_neighbors_rules(list_rules_idx, Grules_new, rules_with_idx)\n",
    "\n",
    "    # Evaluación\n",
    "    denies_count = 0    \n",
    "    for rule in list_coms_user:                                      \n",
    "        # En esta parte se evalua la regla completa\n",
    "        res = True                        \n",
    "        for idx_r, attr_val in enumerate(rule[1]):\n",
    "            # print(idx_r, attr_val)                                \n",
    "            if row[attr_val[0]] != attr_val[1]:                                \n",
    "                #print(\"Fallo en -- Row:\",row[attr_val[0]], \" --- Reg:\", attr_val[1], \" --- DIFE:\", attr_val)\n",
    "                res = False\n",
    "                break                                            \n",
    "        if res == False:\n",
    "            denies_count += 1                                \n",
    "        else:\n",
    "            ver_pos.append(row)\n",
    "            lista_reglas_add.append(rule[1])\n",
    "            #print(row, rule)\n",
    "            break\n",
    "    #print(\"XXX-\", denies_count, temp_rules_n, res)\n",
    "    if denies_count == len(list_coms_user):\n",
    "        false_neg2.append(row)\n",
    "        #print(\"FP-2\")\n",
    "    #else:\n",
    "        #print(\"ENtra PAPA\")"
   ]
  },
  {
   "cell_type": "code",
   "execution_count": 77,
   "metadata": {},
   "outputs": [
    {
     "name": "stdout",
     "output_type": "stream",
     "text": [
      "Tasa FN: 43.00%\n",
      "FN:  43  de  100\n"
     ]
    }
   ],
   "source": [
    "FN = len(false_neg2)\n",
    "# print(\"Tasa FN: {:.2f}%\".format((FN/ len(df_train_k_pos))*100))\n",
    "print(\"Tasa FN: {:.2f}%\".format((FN/ 100)*100))\n",
    "print(\"FN: \", FN, \" de \", 100)"
   ]
  },
  {
   "attachments": {},
   "cell_type": "markdown",
   "metadata": {},
   "source": [
    "#### TASK 5.2: FP"
   ]
  },
  {
   "cell_type": "code",
   "execution_count": 78,
   "metadata": {},
   "outputs": [],
   "source": [
    "false_pos2  = []\n",
    "for i,row in positive_cav_train[:100].iterrows():\n",
    "#for i, row in pd.DataFrame(false_pos).iterrows():\n",
    "    user_id = row[\"USRID\"]\n",
    "    res_id = row[\"RESID\"]\n",
    "\n",
    "    # Identificación de la comunidad\n",
    "    copy_g = copy_g_proj2.copy()\n",
    "    add_new_user_node_2(user_id, res_id, copy_g, positive_cav_train) # Se agrega el nodo a la red\n",
    "    node_user = copy_g.vs[-1] # Node de usuario\n",
    "    \n",
    "    # Identificar a las comunidades vecinas\n",
    "    coms_vecinas = get_comunidades_vecinas(node_user, copy_g)\n",
    "    \n",
    "    # Probar la modularidad máxima\n",
    "    max_mod = 0\n",
    "    com_max = None\n",
    "    for id_com in coms_vecinas:\n",
    "        comunidad = copy_g.vs.select(comid_eq=id_com)\n",
    "        comunidad = copy_g.subgraph(comunidad)\n",
    "        temp_mod = modularity_evaluate(node_user, comunidad, copy_g)\n",
    "        if temp_mod > max_mod:\n",
    "            max_mod = temp_mod\n",
    "            com_max = id_com\n",
    "        # print(\"Mod:\", temp_mod, \" \\t\\t Comunidad:\", id_com)\n",
    "    #print(\" --- MAX MOD:\", max_mod, \"  --- COM:\", com_max)\n",
    "\n",
    "    list_coms_user = obtener_reglas_comundiad(com_max, total_rules)\n",
    "    #print(list_coms_user)\n",
    "    list_rules_idx = get_rule_id(list_coms_user, rules_with_idx)\n",
    "    #print(list_rules_idx)\n",
    "    list_coms_user = get_neighbors_rules(list_rules_idx, Grules_new, rules_with_idx)\n",
    "\n",
    "    # Evaluación\n",
    "    denies_count = 0    \n",
    "    for rule in list_coms_user:                                      \n",
    "        # En esta parte se evalua la regla completa\n",
    "        res = True                        \n",
    "        for idx_r, attr_val in enumerate(rule[1]):\n",
    "            # print(idx_r, attr_val)                                    \n",
    "            if row[attr_val[0]] != attr_val[1]:                                \n",
    "                #print(\"Fallo en -- Row:\",row[attr_val[0]], \" --- Reg:\", attr_val[1], \" --- DIFE:\", attr_val)\n",
    "                res = False\n",
    "                break                                            \n",
    "        if res == False:\n",
    "            denies_count += 1                                \n",
    "    #print(\"XXX-\", denies_count, temp_rules_n, res)\n",
    "    if denies_count < len(list_coms_user):\n",
    "        false_pos2.append(row)\n",
    "        #print(row)\n",
    "        #print(list_coms_user)\n",
    "        #print(\"FP-2\")    \n",
    "    #else:\n",
    "        #print(\"ENtra PAPA\")\n",
    "    "
   ]
  },
  {
   "cell_type": "code",
   "execution_count": 79,
   "metadata": {},
   "outputs": [
    {
     "name": "stdout",
     "output_type": "stream",
     "text": [
      "Tasa FP: 57.00%\n",
      "FN:  57  de  100\n"
     ]
    }
   ],
   "source": [
    "FP = len(false_pos2)\n",
    "#print(\"Tasa FP: {:.2f}%\".format((FP/ len(df_train_k_neg))*100))\n",
    "print(\"Tasa FP: {:.2f}%\".format((FP/ 100)*100))\n",
    "#print(\"FN: \", FP, \" de \", len(df_train_k_neg))\n",
    "print(\"FN: \", FP, \" de \", 100)"
   ]
  },
  {
   "attachments": {},
   "cell_type": "markdown",
   "metadata": {},
   "source": [
    "#### TASK 5.3: Quality"
   ]
  },
  {
   "cell_type": "code",
   "execution_count": 80,
   "metadata": {},
   "outputs": [
    {
     "name": "stdout",
     "output_type": "stream",
     "text": [
      "FN: 43  - 43.00\n",
      "FP: 57  - 57.00\n",
      "Precision: 0.5\n",
      "Recall: 0.57\n",
      "F-score 0.5327102803738318\n",
      "# Rules: 50\n",
      "WSC: 281\n"
     ]
    }
   ],
   "source": [
    "TP = 100 - FN\n",
    "TN = 100 - FP\n",
    "\n",
    "precision = TP / (TP + FP)\n",
    "\n",
    "recall = TP / (TP + FN)\n",
    "\n",
    "fscore = 2*(precision*recall)/(precision+recall)\n",
    "\n",
    "print(\"FN:\", FN, \" - {:.2f}\".format((FN/100)*100))\n",
    "print(\"FP:\", FP, \" - {:.2f}\".format((FP/100)*100))\n",
    "print(\"Precision:\", precision)\n",
    "print(\"Recall:\", recall)\n",
    "print(\"F-score\", fscore)\n",
    "\n",
    "def compute_wsc(policy):\n",
    "    return sum([len(rule[1]) for rule in policy])\n",
    "\n",
    "print(\"# Rules:\", len(list_rules))\n",
    "print(\"WSC:\", compute_wsc(list_rules))\n"
   ]
  },
  {
   "cell_type": "code",
   "execution_count": 152,
   "metadata": {},
   "outputs": [
    {
     "name": "stdout",
     "output_type": "stream",
     "text": [
      "[0, 1, 2, 3, 4, 5, 6, 7, 8, 9, 16, 27, 10, 11, 22, 24, 25, 12, 23, 26, 28, 29, 31, 33, 34, 35, 50, 53, 54, 56, 19, 20, 21, 36, 40, 30, 38, 43, 13, 14, 15, 17, 18, 32, 37, 41, 42, 44, 45, 46, 47, 48, 49, 51, 52, 55, 57, 59, 60, 61, 58, 39]\n"
     ]
    }
   ],
   "source": [
    "print(Grules_new.nodes)"
   ]
  }
 ],
 "metadata": {
  "kernelspec": {
   "display_name": "tesis_env",
   "language": "python",
   "name": "python3"
  },
  "language_info": {
   "codemirror_mode": {
    "name": "ipython",
    "version": 3
   },
   "file_extension": ".py",
   "mimetype": "text/x-python",
   "name": "python",
   "nbconvert_exporter": "python",
   "pygments_lexer": "ipython3",
   "version": "3.7.13"
  },
  "orig_nbformat": 4,
  "vscode": {
   "interpreter": {
    "hash": "2c18656ba504603ac12f58dbe03806ef21bcc06339a74bcf0fb0fe9d9f4cfd9a"
   }
  }
 },
 "nbformat": 4,
 "nbformat_minor": 2
}
