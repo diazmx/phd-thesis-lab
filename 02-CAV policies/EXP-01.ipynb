{
 "cells": [
  {
   "attachments": {},
   "cell_type": "markdown",
   "metadata": {},
   "source": [
    "# EXP-01\n",
    "----------\n",
    "Policy mining based on complex network approach."
   ]
  },
  {
   "attachments": {},
   "cell_type": "markdown",
   "metadata": {},
   "source": [
    "### Import libraries"
   ]
  },
  {
   "cell_type": "code",
   "execution_count": 1,
   "metadata": {},
   "outputs": [],
   "source": [
    "# import libraries\n",
    "import numpy as np\n",
    "import pandas as pd\n",
    "import igraph as ig\n",
    "import networkx as nx\n",
    "import matplotlib.pyplot as plt\n",
    "from sklearn.model_selection import train_test_split, KFold, StratifiedKFold, StratifiedShuffleSplit\n",
    "from apriori_python import apriori"
   ]
  },
  {
   "attachments": {},
   "cell_type": "markdown",
   "metadata": {},
   "source": [
    "### Load data"
   ]
  },
  {
   "attachments": {},
   "cell_type": "markdown",
   "metadata": {},
   "source": [
    "#### Auxiliar"
   ]
  },
  {
   "cell_type": "code",
   "execution_count": 2,
   "metadata": {},
   "outputs": [],
   "source": [
    "def get_user_res(dataf, attr_list, user_):\n",
    "    dict_temp = {}\n",
    "    for i, j in enumerate(dataf[attr_list].drop_duplicates().values):\n",
    "        if user_:\n",
    "            idx = str(i) + \"101\"\n",
    "        else:\n",
    "            idx = str(i) + \"202\"\n",
    "        dict_temp[int(idx)] = list(j)\n",
    "    return dict_temp\n",
    "\n",
    "def add_col(dataf, dict_, attr_list, name_col):\n",
    "    list_users = []  # List to save users\n",
    "    key_list = list(dict_.keys())\n",
    "    val_list = list(dict_.values())\n",
    "\n",
    "    for item in dataf[attr_list].values:\n",
    "        if list(item) in val_list:\n",
    "            idx = val_list.index(list(item))\n",
    "            list_users.append(key_list[idx])\n",
    "        else:\n",
    "            list_users.append(11111111)\n",
    "\n",
    "    dataf[name_col] = list_users\n",
    "    return dataf"
   ]
  },
  {
   "attachments": {},
   "cell_type": "markdown",
   "metadata": {},
   "source": [
    "#### Load data\n"
   ]
  },
  {
   "cell_type": "code",
   "execution_count": null,
   "metadata": {},
   "outputs": [],
   "source": []
  },
  {
   "cell_type": "code",
   "execution_count": null,
   "metadata": {},
   "outputs": [],
   "source": []
  }
 ],
 "metadata": {
  "kernelspec": {
   "display_name": "tesis_env",
   "language": "python",
   "name": "python3"
  },
  "language_info": {
   "codemirror_mode": {
    "name": "ipython",
    "version": 3
   },
   "file_extension": ".py",
   "mimetype": "text/x-python",
   "name": "python",
   "nbconvert_exporter": "python",
   "pygments_lexer": "ipython3",
   "version": "3.7.13"
  },
  "orig_nbformat": 4,
  "vscode": {
   "interpreter": {
    "hash": "2c18656ba504603ac12f58dbe03806ef21bcc06339a74bcf0fb0fe9d9f4cfd9a"
   }
  }
 },
 "nbformat": 4,
 "nbformat_minor": 2
}
