{
 "cells": [
  {
   "cell_type": "code",
   "execution_count": 1,
   "metadata": {},
   "outputs": [],
   "source": [
    "from policy_mining import PolicyMining\n",
    "import pandas as pd\n",
    "import numpy as np\n",
    "import networkx as nx\n",
    "from auxiliar_functions.data_preprocessing import add_new_index\n",
    "from auxiliar_functions.network_model import build_network_model, bipartite_projection, plot_distribution_degree\n",
    "from auxiliar_functions.community_detection import sub_community_detection, add_type_commts\n",
    "from auxiliar_functions.rule_inference import frequent_resources, get_attrs_from_user_sig, get_attrs_from_user, get_attrs_from_res, attribute_value_common, evaluate_weight\n",
    "from auxiliar_functions.evaluation import get_FN_logs, get_FP_logs, get_FP_logs_ref, get_FN_logs_ref\n",
    "from auxiliar_functions.refinement import generate_negative_rules\n",
    "from sklearn.model_selection import StratifiedShuffleSplit\n",
    "import matplotlib.pyplot as plt"
   ]
  },
  {
   "cell_type": "code",
   "execution_count": 2,
   "metadata": {},
   "outputs": [],
   "source": [
    "NAME_DATASET = \"IoT\"\n",
    "FILE_NAME = \"../00-Data/IoT-amz-paper-rw-2.csv\"\n",
    "USER_ATTRS = ['role', 'AgeRange', 'health']\n",
    "RESOURCE_ATTRS = [\"type\", \"area\", \"mode\", \"tempRange\", \"lockstatus\"]"
   ]
  },
  {
   "cell_type": "code",
   "execution_count": 3,
   "metadata": {},
   "outputs": [
    {
     "data": {
      "text/html": [
       "<div>\n",
       "<style scoped>\n",
       "    .dataframe tbody tr th:only-of-type {\n",
       "        vertical-align: middle;\n",
       "    }\n",
       "\n",
       "    .dataframe tbody tr th {\n",
       "        vertical-align: top;\n",
       "    }\n",
       "\n",
       "    .dataframe thead th {\n",
       "        text-align: right;\n",
       "    }\n",
       "</style>\n",
       "<table border=\"1\" class=\"dataframe\">\n",
       "  <thead>\n",
       "    <tr style=\"text-align: right;\">\n",
       "      <th></th>\n",
       "      <th>role</th>\n",
       "      <th>health</th>\n",
       "      <th>uname</th>\n",
       "      <th>type</th>\n",
       "      <th>area</th>\n",
       "      <th>mode</th>\n",
       "      <th>lockstatus</th>\n",
       "      <th>rname</th>\n",
       "      <th>ACTION</th>\n",
       "      <th>AgeRange</th>\n",
       "      <th>tempRange</th>\n",
       "    </tr>\n",
       "  </thead>\n",
       "  <tbody>\n",
       "    <tr>\n",
       "      <th>0</th>\n",
       "      <td>child</td>\n",
       "      <td>health</td>\n",
       "      <td>0</td>\n",
       "      <td>Lights</td>\n",
       "      <td>livingroom</td>\n",
       "      <td>armed</td>\n",
       "      <td>locked</td>\n",
       "      <td>723</td>\n",
       "      <td>0</td>\n",
       "      <td>&lt;10</td>\n",
       "      <td>0-10</td>\n",
       "    </tr>\n",
       "    <tr>\n",
       "      <th>1</th>\n",
       "      <td>child</td>\n",
       "      <td>health</td>\n",
       "      <td>0</td>\n",
       "      <td>Lights</td>\n",
       "      <td>livingroom</td>\n",
       "      <td>night</td>\n",
       "      <td>locked</td>\n",
       "      <td>765</td>\n",
       "      <td>0</td>\n",
       "      <td>&lt;10</td>\n",
       "      <td>-10-0</td>\n",
       "    </tr>\n",
       "    <tr>\n",
       "      <th>2</th>\n",
       "      <td>child</td>\n",
       "      <td>health</td>\n",
       "      <td>0</td>\n",
       "      <td>TV</td>\n",
       "      <td>backyard</td>\n",
       "      <td>night</td>\n",
       "      <td>unlocked</td>\n",
       "      <td>1098</td>\n",
       "      <td>1</td>\n",
       "      <td>&lt;10</td>\n",
       "      <td>0-10</td>\n",
       "    </tr>\n",
       "    <tr>\n",
       "      <th>3</th>\n",
       "      <td>child</td>\n",
       "      <td>health</td>\n",
       "      <td>0</td>\n",
       "      <td>TV</td>\n",
       "      <td>backyard</td>\n",
       "      <td>night</td>\n",
       "      <td>unlocked</td>\n",
       "      <td>1106</td>\n",
       "      <td>0</td>\n",
       "      <td>&lt;10</td>\n",
       "      <td>20-30</td>\n",
       "    </tr>\n",
       "    <tr>\n",
       "      <th>4</th>\n",
       "      <td>child</td>\n",
       "      <td>health</td>\n",
       "      <td>0</td>\n",
       "      <td>Lights</td>\n",
       "      <td>bedroom</td>\n",
       "      <td>disarmed</td>\n",
       "      <td>unlocked</td>\n",
       "      <td>824</td>\n",
       "      <td>1</td>\n",
       "      <td>&lt;10</td>\n",
       "      <td>30-40</td>\n",
       "    </tr>\n",
       "    <tr>\n",
       "      <th>...</th>\n",
       "      <td>...</td>\n",
       "      <td>...</td>\n",
       "      <td>...</td>\n",
       "      <td>...</td>\n",
       "      <td>...</td>\n",
       "      <td>...</td>\n",
       "      <td>...</td>\n",
       "      <td>...</td>\n",
       "      <td>...</td>\n",
       "      <td>...</td>\n",
       "      <td>...</td>\n",
       "    </tr>\n",
       "    <tr>\n",
       "      <th>227713</th>\n",
       "      <td>guest</td>\n",
       "      <td>emergency</td>\n",
       "      <td>122</td>\n",
       "      <td>Lights</td>\n",
       "      <td>backyard</td>\n",
       "      <td>armed</td>\n",
       "      <td>locked</td>\n",
       "      <td>851</td>\n",
       "      <td>0</td>\n",
       "      <td>10-18</td>\n",
       "      <td>-10-0</td>\n",
       "    </tr>\n",
       "    <tr>\n",
       "      <th>227808</th>\n",
       "      <td>guest</td>\n",
       "      <td>emergency</td>\n",
       "      <td>122</td>\n",
       "      <td>TV</td>\n",
       "      <td>livingroom</td>\n",
       "      <td>night</td>\n",
       "      <td>locked</td>\n",
       "      <td>967</td>\n",
       "      <td>1</td>\n",
       "      <td>10-18</td>\n",
       "      <td>0-10</td>\n",
       "    </tr>\n",
       "    <tr>\n",
       "      <th>230038</th>\n",
       "      <td>guest</td>\n",
       "      <td>emergency</td>\n",
       "      <td>122</td>\n",
       "      <td>Thermostats</td>\n",
       "      <td>backyard</td>\n",
       "      <td>armed</td>\n",
       "      <td>locked</td>\n",
       "      <td>453</td>\n",
       "      <td>1</td>\n",
       "      <td>10-18</td>\n",
       "      <td>NaN</td>\n",
       "    </tr>\n",
       "    <tr>\n",
       "      <th>230996</th>\n",
       "      <td>guest</td>\n",
       "      <td>emergency</td>\n",
       "      <td>122</td>\n",
       "      <td>Thermostats</td>\n",
       "      <td>livingroom</td>\n",
       "      <td>disarmed</td>\n",
       "      <td>locked</td>\n",
       "      <td>359</td>\n",
       "      <td>0</td>\n",
       "      <td>10-18</td>\n",
       "      <td>20-30</td>\n",
       "    </tr>\n",
       "    <tr>\n",
       "      <th>235028</th>\n",
       "      <td>guest</td>\n",
       "      <td>emergency</td>\n",
       "      <td>122</td>\n",
       "      <td>Thermostats</td>\n",
       "      <td>bedroom</td>\n",
       "      <td>armed</td>\n",
       "      <td>locked</td>\n",
       "      <td>393</td>\n",
       "      <td>0</td>\n",
       "      <td>10-18</td>\n",
       "      <td>0-10</td>\n",
       "    </tr>\n",
       "  </tbody>\n",
       "</table>\n",
       "<p>55019 rows × 11 columns</p>\n",
       "</div>"
      ],
      "text/plain": [
       "         role     health  uname         type        area      mode lockstatus  \\\n",
       "0       child     health      0       Lights  livingroom     armed     locked   \n",
       "1       child     health      0       Lights  livingroom     night     locked   \n",
       "2       child     health      0           TV    backyard     night   unlocked   \n",
       "3       child     health      0           TV    backyard     night   unlocked   \n",
       "4       child     health      0       Lights     bedroom  disarmed   unlocked   \n",
       "...       ...        ...    ...          ...         ...       ...        ...   \n",
       "227713  guest  emergency    122       Lights    backyard     armed     locked   \n",
       "227808  guest  emergency    122           TV  livingroom     night     locked   \n",
       "230038  guest  emergency    122  Thermostats    backyard     armed     locked   \n",
       "230996  guest  emergency    122  Thermostats  livingroom  disarmed     locked   \n",
       "235028  guest  emergency    122  Thermostats     bedroom     armed     locked   \n",
       "\n",
       "        rname  ACTION AgeRange tempRange  \n",
       "0         723       0      <10      0-10  \n",
       "1         765       0      <10     -10-0  \n",
       "2        1098       1      <10      0-10  \n",
       "3        1106       0      <10     20-30  \n",
       "4         824       1      <10     30-40  \n",
       "...       ...     ...      ...       ...  \n",
       "227713    851       0    10-18     -10-0  \n",
       "227808    967       1    10-18      0-10  \n",
       "230038    453       1    10-18       NaN  \n",
       "230996    359       0    10-18     20-30  \n",
       "235028    393       0    10-18      0-10  \n",
       "\n",
       "[55019 rows x 11 columns]"
      ]
     },
     "execution_count": 3,
     "metadata": {},
     "output_type": "execute_result"
    }
   ],
   "source": [
    "df_data = pd.read_csv(FILE_NAME)\n",
    "df_data = df_data[df_data.columns[1:]]\n",
    "df_data.rname = df_data.rname + 123 # Cambiar el identificador para que no haya el mismo ID\n",
    "\n",
    "bins_age = [0, 10, 18, 35, 65, np.inf]\n",
    "names_age = ['<10', '10-18', '18-35', '35-65', '65+']\n",
    "df_data['AgeRange'] = pd.cut(df_data['age'], bins_age, labels=names_age)\n",
    "del df_data[\"age\"]\n",
    "\n",
    "bins_temp = [-10, 0, 10, 20, 30, np.inf]\n",
    "names_temp = [\"-10-0\", \"0-10\", \"10-20\", \"20-30\", \"30-40\"]\n",
    "df_data[\"tempRange\"] = pd.cut(df_data[\"temperature\"], bins_temp, labels=names_temp)\n",
    "del df_data[\"temperature\"]\n",
    "\n",
    "df_data = df_data.drop_duplicates()\n",
    "df_data"
   ]
  },
  {
   "cell_type": "code",
   "execution_count": 5,
   "metadata": {},
   "outputs": [
    {
     "name": "stdout",
     "output_type": "stream",
     "text": [
      "File loaded! \n",
      "\n",
      "Cross-Validation - DONE\n",
      "- k = 10\n",
      "- Percentage Train-Test: 80.0 - 20.0\n",
      "# Access requests in Train: 44015  %: 80.00\n",
      "# Access requests in Test: 11004  %: 20.00\n",
      "# Access requests: 55019\n",
      "\n"
     ]
    }
   ],
   "source": [
    "name_ds = NAME_DATASET\n",
    "print(\"File loaded! \\n\")\n",
    "\n",
    "cross_validation_settings = {\n",
    "    \"k\": 10,\n",
    "    \"id_k\": 0,\n",
    "    \"test_size\": 0.2,\n",
    "    \"random_state\": 1\n",
    "}\n",
    "\n",
    "# Cross-Validation\n",
    "if cross_validation_settings[\"random_state\"] != None:  # With random state\n",
    "    kfold = StratifiedShuffleSplit(n_splits=cross_validation_settings[\"k\"],\n",
    "                                   test_size=cross_validation_settings[\"test_size\"],\n",
    "                                   random_state=cross_validation_settings[\"random_state\"])\n",
    "else:\n",
    "    kfold = StratifiedShuffleSplit(n_splits=cross_validation_settings[\"k\"],\n",
    "                                   test_size=cross_validation_settings[\"test_size\"])\n",
    "\n",
    "data_partition = kfold.split(df_data, df_data.ACTION)\n",
    "data_corpus = []  # List with all data partitions\n",
    "\n",
    "for train_data, test_data in data_partition:\n",
    "    X_train, X_test = df_data.iloc[train_data], df_data.iloc[test_data]\n",
    "    data_corpus.append([X_train, X_test])\n",
    "\n",
    "print(\"Cross-Validation - DONE\")\n",
    "print(\"- k =\", cross_validation_settings[\"k\"])\n",
    "print(\"- Percentage Train-Test:\",\n",
    "      (1-cross_validation_settings[\"test_size\"])*100, \"-\",\n",
    "      cross_validation_settings[\"test_size\"]*100)\n",
    "\n",
    "# Selection of a split with the id_k ID.\n",
    "df_train_k = data_corpus[cross_validation_settings[\"id_k\"]][0]\n",
    "df_test_k = data_corpus[cross_validation_settings[\"id_k\"]][1]\n",
    "\n",
    "print(\"# Access requests in Train:\", len(df_train_k),\n",
    "      \" %: {:.2f}\".format((len(df_train_k)/(len(df_train_k)+len(df_test_k)))*100))\n",
    "print(\"# Access requests in Test:\", len(df_test_k),\n",
    "      \" %: {:.2f}\".format((len(df_test_k)/(len(df_train_k)+len(df_test_k)))*100))\n",
    "print(\"# Access requests:\", len(df_train_k)+len(df_test_k))\n",
    "print()"
   ]
  },
  {
   "cell_type": "code",
   "execution_count": 105,
   "metadata": {},
   "outputs": [
    {
     "name": "stdout",
     "output_type": "stream",
     "text": [
      "# (+) access requests: 21858  %: 49.66\n",
      "# (-) access requests: 22157  %: 50.34\n",
      "TASK 3: Done!\n",
      "\n"
     ]
    }
   ],
   "source": [
    "### 1. Preprocessing\n",
    "\n",
    "# Task 1: Hanfling missing and null values.\n",
    "# NA\n",
    "\n",
    "# Task 2: Converting continuous values to categorical values.\n",
    "# NA\n",
    "\n",
    "# Task 3: Removing duplicated access requests.\n",
    "df_train_k_pos = df_train_k[df_train_k.ACTION == 1]\n",
    "df_train_k_neg = df_train_k[df_train_k.ACTION == 0]\n",
    "# print(self.df_train_k_pos.columns[1:])\n",
    "df_train_k_pos = df_train_k_pos.drop_duplicates()\n",
    "df_train_k_neg = df_train_k_neg.drop_duplicates()\n",
    "\n",
    "print(\"# (+) access requests:\", len(df_train_k_pos),\n",
    "      \" %: {:.2f}\".format((len(df_train_k_pos)/len(df_train_k))*100))\n",
    "\n",
    "print(\"# (-) access requests:\", len(df_train_k_neg),\n",
    "      \" %: {:.2f}\".format((len(df_train_k_neg)/len(df_train_k))*100))\n",
    "\n",
    "print(\"TASK 3: Done!\\n\")"
   ]
  },
  {
   "cell_type": "code",
   "execution_count": 112,
   "metadata": {},
   "outputs": [
    {
     "data": {
      "image/png": "[encoded data removed]",
      "text/plain": [
       "<Figure size 640x480 with 1 Axes>"
      ]
     },
     "metadata": {},
     "output_type": "display_data"
    }
   ],
   "source": [
    "###### Tarea 4: recursos más frecuentes\n",
    "res_to_freq = (df_train_k_pos.rname.value_counts()).to_dict()\n",
    "res_to_freq_lists = res_to_freq.items()\n",
    "x_list, y_list = zip(*res_to_freq_lists)\n",
    "#plt.figure(figsize=(20,15))\n",
    "plt.plot(y_list, color='0.40', linestyle='-')\n",
    "# plt.plot(141,8, marker=\"o\", color=\"red\")\n",
    "plt.ylabel('Number of access requests.')\n",
    "plt.xlabel('Resource.')\n",
    "n_corte_recursos = 399\n",
    "x1, y1 = [n_corte_recursos, n_corte_recursos] , [0, max(y_list)]\n",
    "plt.plot(x1, y1, marker = 'o', linestyle='--', color=\"0.6\")\n",
    "#plt.text(n_corte_recursos+100, 5, '{}'.format(n_corte_recursos) , ha='left', va= 'top')\n",
    "#plt.savefig('frec-res-iot-corte.png')\n",
    "plt.show()"
   ]
  },
  {
   "cell_type": "code",
   "execution_count": 113,
   "metadata": {},
   "outputs": [
    {
     "name": "stdout",
     "output_type": "stream",
     "text": [
      "TASK 4: Done!\n",
      "\n"
     ]
    }
   ],
   "source": [
    "###### ***** TASK 4 ***** #####\n",
    "# Selecting the most used resources.\n",
    "n1 = 0\n",
    "n2 = n_corte_recursos\n",
    "#n2 = 399\n",
    "top_list = df_train_k_pos.rname.value_counts()[:len(\n",
    "    df_train_k_pos.rname.drop_duplicates())].index.tolist()\n",
    "# Filter the interval between n1 and n2\n",
    "top_list = top_list[n1:n2+1]\n",
    "boolean_series = df_train_k_pos.rname.isin(top_list)\n",
    "df_train_k_pos = df_train_k_pos[boolean_series]\n",
    "bolean_series = df_train_k_neg.rname.isin(top_list)\n",
    "df_train_k_neg = df_train_k_neg[bolean_series]\n",
    "print(\"TASK 4: Done!\\n\")"
   ]
  },
  {
   "cell_type": "code",
   "execution_count": 114,
   "metadata": {},
   "outputs": [
    {
     "name": "stdout",
     "output_type": "stream",
     "text": [
      "\n",
      "#########################\n",
      " PHASE 2: Network Model.\n",
      "#########################\n",
      "\n",
      "ARBN builded!\n",
      "IGRAPH UN-- 520 15308 -- \n",
      "+ attr: name (v), typen (v)\n",
      "|U-Nodes| = 120\n",
      "|R-Nodes| = 400\n",
      "TASK 1: Done!\n",
      "\n",
      "User Network builded!\n",
      "IGRAPH UNW- 120 7140 -- \n",
      "+ attr: name (v), rsrcs (v), weight (e)\n",
      "\n",
      "Network Analysis\n",
      "- Avg. degree 119.0000\n",
      "- Density: 1.0000\n",
      "- Clustering Coefficient: 1.0000\n",
      "- Average Path Length : 1.0000\n",
      "TASK 2: Done!\n",
      "\n"
     ]
    }
   ],
   "source": [
    "### Fase 2\n",
    "print(\"\\n#########################\")\n",
    "print(\" PHASE 2: Network Model.\")\n",
    "print(\"#########################\\n\")\n",
    "\n",
    "###### ***** TASK 1 ***** #####\n",
    "# Access request bipartite network\n",
    "bip_network = build_network_model(df_train_k_pos, 'uname', 'rname')\n",
    "print(\"TASK 1: Done!\\n\")\n",
    "\n",
    "###### ***** TASK 2 ***** #####\n",
    "# User network 3\n",
    "user_network = bipartite_projection(bip_network, 0)\n",
    "\n",
    "# Complex Network Analysis\n",
    "avg_degree = sum(user_network.degree()) / user_network.vcount()\n",
    "print(\"\\nNetwork Analysis\")\n",
    "print(\"- Avg. degree\", \"{:.4f}\".format(avg_degree))\n",
    "\n",
    "print(\"- Density:\", \"{:.4f}\".format(user_network.density()))\n",
    "\n",
    "cc = user_network.transitivity_avglocal_undirected()\n",
    "print(\"- Clustering Coefficient:\", \"{:.4f}\".format(cc))\n",
    "\n",
    "L = user_network.average_path_length()\n",
    "print(\"- Average Path Length :\", \"{:.4f}\".format(L))\n",
    "\n",
    "#plot_distribution_degree(user_network, name_ds)\n",
    "print(\"TASK 2: Done!\\n\")\n"
   ]
  },
  {
   "cell_type": "code",
   "execution_count": 121,
   "metadata": {},
   "outputs": [
    {
     "data": {
      "text/plain": [
       "1794"
      ]
     },
     "execution_count": 121,
     "metadata": {},
     "output_type": "execute_result"
    }
   ],
   "source": [
    "#from collections import OrderedDict\n",
    "weight_to_remove = 0.3\n",
    "edges_to_remove = user_network.es.select(weight_lt=weight_to_remove)\n",
    "len(edges_to_remove)"
   ]
  },
  {
   "cell_type": "code",
   "execution_count": 122,
   "metadata": {},
   "outputs": [
    {
     "name": "stdout",
     "output_type": "stream",
     "text": [
      "IGRAPH UNW- 120 47 -- \n",
      "+ attr: commty (v), name (v), rsrcs (v), tpcommty (v), weight (e)\n",
      "\n",
      "Network Analysis\n",
      "- Avg. degree 0.7833\n",
      "- Density: 0.0066\n",
      "- Clustering Coefficient: 0.2962\n",
      "- Average Path Length : 2.7883\n",
      "TASK 2: Done!\n",
      "\n"
     ]
    },
    {
     "data": {
      "image/png": "[encoded data removed]",
      "text/plain": [
       "<Figure size 2000x2000 with 4 Axes>"
      ]
     },
     "metadata": {},
     "output_type": "display_data"
    }
   ],
   "source": [
    "edges_to_remove = user_network.es.select(weight_lt=weight_to_remove)\n",
    "user_network.delete_edges(edges_to_remove)\n",
    "print(user_network.summary())\n",
    "\n",
    "# Complex Network Analysis\n",
    "avg_degree = sum(user_network.degree()) / user_network.vcount()\n",
    "print(\"\\nNetwork Analysis\")\n",
    "print(\"- Avg. degree\", \"{:.4f}\".format(avg_degree))\n",
    "\n",
    "print(\"- Density:\", \"{:.4f}\".format(user_network.density()))\n",
    "\n",
    "cc = user_network.transitivity_avglocal_undirected()\n",
    "print(\"- Clustering Coefficient:\", \"{:.4f}\".format(cc))\n",
    "\n",
    "L = user_network.average_path_length()\n",
    "print(\"- Average Path Length :\", \"{:.4f}\".format(L))\n",
    "\n",
    "plot_distribution_degree(user_network, name_ds)\n",
    "print(\"TASK 2: Done!\\n\")\n"
   ]
  },
  {
   "cell_type": "code",
   "execution_count": 123,
   "metadata": {},
   "outputs": [
    {
     "name": "stdout",
     "output_type": "stream",
     "text": [
      "\n",
      "###############################\n",
      " PHASE 3: Community Detection.\n",
      "###############################\n",
      "\n",
      "Modularity: 0.3937\n",
      "IGRAPH UNW- 120 47 -- \n",
      "+ attr: commty (v), name (v), rsrcs (v), tpcommty (v), weight (e)\n",
      "Clustering with 120 elements and 94 clusters\n",
      "TASK 1: Done!\n",
      "\n",
      "Big Threshold:  182  \t\t Med Threshold 91\n",
      "|C|: 96 == 96\n",
      "Sparse Comms: 8\n",
      "Medium Comms: 53\n",
      "Concentrate Comms: 35\n",
      "TASK 2: Done!\n",
      "\n"
     ]
    }
   ],
   "source": [
    "print(\"\\n###############################\")\n",
    "print(\" PHASE 3: Community Detection.\")\n",
    "print(\"###############################\\n\")\n",
    "\n",
    "###### ***** TASK 1 ***** #####\n",
    "# Community detection\n",
    "partition = user_network.community_multilevel(\n",
    "    weights=user_network.es()[\"weight\"])\n",
    "\n",
    "# Modularity score\n",
    "print(\"Modularity: %.4f\" % partition.modularity)\n",
    "\n",
    "# Add cluster attribute\n",
    "user_network.vs[\"commty\"] = partition.membership\n",
    "\n",
    "print(user_network.summary())\n",
    "print(partition.summary())\n",
    "print(\"TASK 1: Done!\\n\")\n",
    "\n",
    "dict_commts = sub_community_detection(\n",
    "    user_network, 0.5, None)\n",
    "\n",
    "###### ***** TASK 2 ***** #####\n",
    "# Community calssification\n",
    "n_res_in_comms = [len(i[1]) for i in dict_commts.values()]\n",
    "max_n_res = max(n_res_in_comms)\n",
    "# print(\"Comunidad con # mayor recursos\", max_n_res)\n",
    "\n",
    "# Sparse and Med Thresholds\n",
    "big_threshold = int(0.50 * max_n_res)\n",
    "med_threshold = int(0.25 * max_n_res)\n",
    "print(\"Big Threshold: \", big_threshold,\n",
    "      \" \\t\\t Med Threshold\", med_threshold)\n",
    "\n",
    "s_commts, m_commts, c_commts = add_type_commts(user_network, dict_commts,\n",
    "                                               big_threshold, med_threshold)\n",
    "all_commts = s_commts + m_commts + c_commts\n",
    "print(\"TASK 2: Done!\\n\")\n"
   ]
  },
  {
   "cell_type": "code",
   "execution_count": 261,
   "metadata": {},
   "outputs": [
    {
     "data": {
      "text/plain": [
       "[[{1}, {'TV'}, 0.8212002474737059],\n",
       " [{'backyard'}, {'TV'}, 0.8716012084592145],\n",
       " [{'backyard'}, {1, 'TV'}, 0.8716012084592145],\n",
       " [{1, 'backyard'}, {'TV'}, 0.8716012084592145],\n",
       " [{'TV'}, {1}, 1.0],\n",
       " [{'backyard'}, {1}, 1.0],\n",
       " [{'unlocked'}, {1}, 1.0],\n",
       " [{'TV', 'backyard'}, {1}, 1.0]]"
      ]
     },
     "execution_count": 261,
     "metadata": {},
     "output_type": "execute_result"
    }
   ],
   "source": [
    "commty_to_analyze = all_commts[21]\n",
    "new_data = df_train_k_pos.rname.isin(commty_to_analyze[1][1])\n",
    "new_data = df_train_k_pos[new_data]\n",
    "new_datA = new_data[RESOURCE_ATTRS].drop_duplicates()\n",
    "init_Sup = 0.5\n",
    "init_Conf = 0.8\n",
    "_, rules = apriori(new_data.values.tolist(), minSup=init_Sup, minConf=init_Conf)  # Apply apriori\n",
    "rules"
   ]
  },
  {
   "cell_type": "code",
   "execution_count": 201,
   "metadata": {
    "scrolled": false
   },
   "outputs": [
    {
     "data": {
      "text/plain": [
       "[73, 84, 52, 38, 17, 33, 71]"
      ]
     },
     "execution_count": 201,
     "metadata": {},
     "output_type": "execute_result"
    }
   ],
   "source": [
    "commty_to_analyze[1][0].vs[\"name\"]"
   ]
  },
  {
   "cell_type": "code",
   "execution_count": 203,
   "metadata": {},
   "outputs": [
    {
     "data": {
      "text/plain": [
       "[]"
      ]
     },
     "execution_count": 203,
     "metadata": {},
     "output_type": "execute_result"
    }
   ],
   "source": [
    "new_data = df_train_k_pos.uname.isin(commty_to_analyze[1][0].vs[\"name\"])\n",
    "new_data = df_train_k_pos[new_data]\n",
    "new_data = new_data[USER_ATTRS].drop_duplicates()\n",
    "_, rules = apriori(new_data.values.tolist(), minSup=init_Sup, minConf=init_Conf)  # Apply apriori\n",
    "rules"
   ]
  },
  {
   "cell_type": "code",
   "execution_count": 262,
   "metadata": {},
   "outputs": [],
   "source": [
    "#df_train_k_pos.rename(columns = {'uname':'UID', 'rname': 'RID'}, inplace = True) "
   ]
  },
  {
   "cell_type": "code",
   "execution_count": 66,
   "metadata": {},
   "outputs": [],
   "source": [
    "from collections import Counter\n",
    "from apriori_python import apriori\n",
    "\n",
    "def remove_equal_rulesX(rules):\n",
    "    rules = [set(r[:-1]) for r in rules]\n",
    "\n",
    "    a = []\n",
    "    for r in rules:\n",
    "        if not r in a:\n",
    "            a.append(r)\n",
    "\n",
    "    max_id = 0\n",
    "    to_ret = None\n",
    "    for i in a:\n",
    "        if len(i) > max_id:\n",
    "            max_id = len(i)\n",
    "            to_ret = i\n",
    "\n",
    "    return [to_ret]\n",
    "def frequent_resources(subcomunidad, grafo_bip, umbral):\n",
    "    \"\"\"Retorna los recursos nuevos ya podados.\"\"\"\n",
    "    usuario_comunidad = subcomunidad.vs()[\"name\"]\n",
    "    all_recursos = []  # DIccionario con los recursos y su frecuencia\n",
    "    for user in usuario_comunidad:\n",
    "        user_node = grafo_bip.vs.find(name=user)\n",
    "        vecinos_recurso = user_node.neighbors()\n",
    "        vecinos_recurso = [node[\"name\"] for node in vecinos_recurso]\n",
    "        vecinos_recurso = list(set(vecinos_recurso))\n",
    "        # print(vecinos_recurso)\n",
    "        all_recursos = all_recursos + vecinos_recurso\n",
    "\n",
    "    umbral_en_n = int(umbral * subcomunidad.vcount())\n",
    "\n",
    "    all_recursos = dict(Counter(all_recursos))\n",
    "\n",
    "    frequent_resources = [id_res for (\n",
    "        id_res, value_) in all_recursos.items() if value_ >= umbral_en_n]\n",
    "\n",
    "    if len(frequent_resources) == 0:\n",
    "        frequent_resources = [id_res for (id_res, value_) in all_recursos.items(\n",
    "        ) if value_ >= max(all_recursos.values())]\n",
    "\n",
    "    return frequent_resources\n",
    "\n",
    "\n",
    "def get_attrs_from_res(data_, res_attr, resources):\n",
    "    df_res_commty = data_[data_[\"rname\"].isin(resources)]\n",
    "    df_res_commty = df_res_commty[res_attr].drop_duplicates()\n",
    "\n",
    "    return df_res_commty\n",
    "\n",
    "\n",
    "def get_attrs_from_user(commty_network, data_, user_attr, resources, bip_network):\n",
    "    users_commty = commty_network.vs[\"name\"]\n",
    "    df_users_commty = data_[data_[\"uname\"].isin(users_commty)]\n",
    "    df_users_commty = data_[data_[\"rname\"].isin(resources)]\n",
    "    df_users_commty = df_users_commty[user_attr+[\"uname\"]].drop_duplicates()\n",
    "\n",
    "    return df_users_commty\n",
    "\n",
    "\n",
    "def get_attrs_from_user_sig(commty_network, data_, user_attr, sig_resource, bip_network):\n",
    "    users_commty = commty_network.vs[\"name\"]\n",
    "    user_access_sig_resource = bip_network.vs.find(name=sig_resource)\n",
    "    user_access_sig_resource = user_access_sig_resource.neighbors()\n",
    "    user_access_sig_resource = [node[\"name\"]\n",
    "                                for node in user_access_sig_resource]\n",
    "    users_commty = list(\n",
    "        set(user_access_sig_resource).intersection(set(users_commty)))\n",
    "    df_users_commty = data_[data_[\"uname\"].isin(users_commty)]\n",
    "    df_users_commty = df_users_commty[user_attr+[\"uname\"]].drop_duplicates()\n",
    "    return df_users_commty\n",
    "\n",
    "\n",
    "def get_attr_name_by_value(value, data_):\n",
    "    # value = list(value)[0]\n",
    "    for attr in data_.columns:\n",
    "        if value in list(data_[attr].drop_duplicates()):\n",
    "            return attr\n",
    "    return None\n",
    "\n",
    "def attribute_value_common2(data_):\n",
    "    \"\"\"Retorna regla apriori basada en los recursos.\n",
    "    data_: dataframe\n",
    "    \"\"\"\n",
    "    init_Sup = 0.6\n",
    "    init_Conf = 0.8\n",
    "    rules = []\n",
    "    while len(rules) == 0:\n",
    "        #print(\"Sup\", init_Sup, \"  Conf\", init_Conf)\n",
    "        _, rules = apriori(data_.values.tolist(), minSup=init_Sup,\n",
    "                           minConf=init_Conf)  # Apply apriori\n",
    "        init_Sup -= 0.1\n",
    "        init_Conf -= 0.1\n",
    "\n",
    "        if init_Sup < 0.001:\n",
    "            #break\n",
    "            #return [[],{},1]\n",
    "            rules = [[set(data_.values[0][:-1]), {}, 1]]            \n",
    "            #print(\"a\")\n",
    "            break\n",
    "    \n",
    "    if len(rules) == 0:\n",
    "        return None\n",
    "    \n",
    "    rules = [list(r[0])+list(r[1])+[r[-1]] for r in rules]\n",
    "    rules = remove_equal_rulesX(rules)\n",
    "    rules = [list(r) for r in rules]\n",
    "    #print(rules)\n",
    "\n",
    "    reglas_karimi = []\n",
    "    for r in rules:\n",
    "        for t in r:\n",
    "            col = get_attr_name_by_value(t, data_)\n",
    "            reglas_karimi.append([col, t])\n",
    "\n",
    "    return reglas_karimi"
   ]
  },
  {
   "cell_type": "code",
   "execution_count": 32,
   "metadata": {},
   "outputs": [
    {
     "name": "stdout",
     "output_type": "stream",
     "text": [
      "Elementos aleatorios elegidos: [['lockstatus', 'locked'], ['tempRange', '20-30']]\n"
     ]
    }
   ],
   "source": [
    "import random\n",
    "\n",
    "# Definir una lista de ejemplo\n",
    "lista_ejemplo = [['lockstatus', 'locked'], ['type', 'TV'], ['tempRange', '20-30'], ['area', 'backyard']]\n",
    "\n",
    "# Definir el número de elementos a elegir aleatoriamente\n",
    "n = int(len(lista_ejemplo)/2)\n",
    "\n",
    "# Elegir aleatoriamente n elementos de la lista\n",
    "elementos_aleatorios = random.sample(lista_ejemplo, n)\n",
    "\n",
    "# Imprimir los elementos elegidos aleatoriamente\n",
    "print(\"Elementos aleatorios elegidos:\", elementos_aleatorios)\n"
   ]
  },
  {
   "cell_type": "code",
   "execution_count": 124,
   "metadata": {},
   "outputs": [
    {
     "name": "stdout",
     "output_type": "stream",
     "text": [
      "\n",
      "##########################\n",
      " PHASE 4: Rule Inference.\n",
      "##########################\n",
      "\n",
      "|R|: 96\n",
      "TASK 1: Done!\n",
      "\n"
     ]
    }
   ],
   "source": [
    "print(\"\\n##########################\")\n",
    "print(\" PHASE 4: Rule Inference.\")\n",
    "print(\"##########################\\n\")\n",
    "\n",
    "###### ***** TASK 1 ***** #####\n",
    "# Rule extraction\n",
    "list_rules = []  # Lista de reglas\n",
    "th_lfr = 1\n",
    "th_sr = 1\n",
    "\n",
    "for commty_ in all_commts:\n",
    "    commty_resources = commty_[1][1]  # Get resources\n",
    "    # print()\n",
    "\n",
    "    if commty_[1][2] != 2:\n",
    "\n",
    "        commty_resources = frequent_resources(commty_[1][0], bip_network, th_lfr)        \n",
    "\n",
    "        # print(\"TIPO 3 SIG:\", commty_significant_res)\n",
    "\n",
    "        if len(commty_resources) < 1:\n",
    "            continue\n",
    "        # print(\"TIPO 3 RESTA:\", commty_resources)\n",
    "\n",
    "    # Create the other rule\n",
    "    # Se comienza generando la regla.\n",
    "    rule_i = [[\"id_com\", str(commty_[0])], []]\n",
    "    \n",
    "    df_res_commty = get_attrs_from_res(\n",
    "        df_train_k_pos, RESOURCE_ATTRS, commty_resources)\n",
    "    #print(df_res_commty)\n",
    "    rule_res_attrs = attribute_value_common2(df_res_commty)\n",
    "    \n",
    "    if len(rule_res_attrs) > int(len(RESOURCE_ATTRS)/2):\n",
    "        rule_res_attrs = random.sample(rule_res_attrs, int(len(RESOURCE_ATTRS)/2))\n",
    "    #print(rule_res_attrs)    \n",
    "    if rule_res_attrs != None:\n",
    "        rule_i[1] = rule_i[1] + rule_res_attrs\n",
    "\n",
    "    # Atributos frecuentes en usuarios\n",
    "    df_users_commty = get_attrs_from_user(\n",
    "        commty_[1][0], df_train_k_pos, USER_ATTRS,\n",
    "        commty_resources, bip_network)\n",
    "    # print(df_users_commty.values[0])\n",
    "    rule_user_attrs = attribute_value_common2(df_users_commty)\n",
    "    if len(rule_user_attrs) > int(len(USER_ATTRS)/2):\n",
    "        rule_user_attrs = random.sample(rule_user_attrs, int(len(USER_ATTRS)/2))\n",
    "    if rule_user_attrs != None:\n",
    "        rule_i[1] = rule_i[1] + rule_user_attrs\n",
    "        list_rules.append(rule_i)\n",
    "print(\"|R|:\", len(list_rules))\n",
    "print(\"TASK 1: Done!\\n\")"
   ]
  },
  {
   "cell_type": "code",
   "execution_count": 104,
   "metadata": {
    "scrolled": true
   },
   "outputs": [
    {
     "data": {
      "text/plain": [
       "([[['id_com', '1'], [['area', 'backyard'], ['type', 'TV'], ['role', 'user']]],\n",
       "  [['id_com', '2'], [['type', 'TV'], ['area', 'backyard'], ['role', 'user']]],\n",
       "  [['id_com', '3'],\n",
       "   [['mode', 'night'], ['area', 'backyard'], ['AgeRange', '65+']]],\n",
       "  [['id_com', '4'],\n",
       "   [['area', 'backyard'], ['type', 'TV'], ['health', 'emergency']]],\n",
       "  [['id_com', '5'],\n",
       "   [['area', 'backyard'], ['lockstatus', 'locked'], ['AgeRange', '35-65']]],\n",
       "  [['id_com', '7'], [['mode', 'night'], ['type', 'TV'], ['role', 'guest']]],\n",
       "  [['id_com', '10'],\n",
       "   [['type', 'TV'], ['area', 'backyard'], ['AgeRange', '65+']]],\n",
       "  [['id_com', '11'],\n",
       "   [['type', 'TV'], ['area', 'backyard'], ['health', 'emergency']]],\n",
       "  [['id_com', '12'],\n",
       "   [['type', 'TV'], ['area', 'backyard'], ['AgeRange', '65+']]],\n",
       "  [['id_com', '16'],\n",
       "   [['type', 'TV'], ['area', 'backyard'], ['role', 'guest']]],\n",
       "  [['id_com', '6'],\n",
       "   [['lockstatus', 'locked'], ['type', 'TV'], ['role', 'user']]],\n",
       "  [['id_com', '8'],\n",
       "   [['type', 'TV'], ['area', 'backyard'], ['AgeRange', '65+']]],\n",
       "  [['id_com', '9'], [['type', 'TV'], ['area', 'backyard'], ['role', 'user']]],\n",
       "  [['id_com', '17'],\n",
       "   [['type', 'TV'], ['area', 'backyard'], ['AgeRange', '65+']]],\n",
       "  [['id_com', '18'],\n",
       "   [['type', 'TV'], ['area', 'backyard'], ['AgeRange', '65+']]],\n",
       "  [['id_com', '19'],\n",
       "   [['type', 'TV'], ['area', 'backyard'], ['AgeRange', '65+']]],\n",
       "  [['id_com', '0'],\n",
       "   [['lockstatus', 'locked'], ['type', 'TV'], ['role', 'user']]],\n",
       "  [['id_com', '13'],\n",
       "   [['lockstatus', 'locked'], ['type', 'TV'], ['role', 'user']]],\n",
       "  [['id_com', '14'],\n",
       "   [['lockstatus', 'locked'], ['type', 'TV'], ['role', 'user']]],\n",
       "  [['id_com', '15'],\n",
       "   [['lockstatus', 'unlocked'], ['mode', 'night'], ['AgeRange', '18-35']]],\n",
       "  [['id_com', '20'],\n",
       "   [['lockstatus', 'locked'], ['area', 'backyard'], ['role', 'user']]],\n",
       "  [['id_com', '21'],\n",
       "   [['lockstatus', 'locked'], ['area', 'backyard'], ['role', 'user']]],\n",
       "  [['id_com', '22'],\n",
       "   [['type', 'TV'], ['area', 'backyard'], ['AgeRange', '18-35']]],\n",
       "  [['id_com', '23'],\n",
       "   [['lockstatus', 'unlocked'],\n",
       "    ['area', 'backyard'],\n",
       "    ['health', 'emergency']]],\n",
       "  [['id_com', '24'],\n",
       "   [['lockstatus', 'unlocked'], ['type', 'TV'], ['AgeRange', '18-35']]],\n",
       "  [['id_com', '25'],\n",
       "   [['lockstatus', 'locked'], ['mode', 'disarmed'], ['AgeRange', '18-35']]],\n",
       "  [['id_com', '26'],\n",
       "   [['lockstatus', 'unlocked'], ['mode', 'night'], ['role', 'user']]],\n",
       "  [['id_com', '27'],\n",
       "   [['lockstatus', 'unlocked'], ['type', 'TV'], ['health', 'emergency']]],\n",
       "  [['id_com', '28'],\n",
       "   [['lockstatus', 'unlocked'],\n",
       "    ['area', 'backyard'],\n",
       "    ['health', 'emergency']]],\n",
       "  [['id_com', '29'],\n",
       "   [['lockstatus', 'unlocked'],\n",
       "    ['area', 'backyard'],\n",
       "    ['health', 'emergency']]],\n",
       "  [['id_com', '30'],\n",
       "   [['lockstatus', 'unlocked'], ['mode', 'night'], ['health', 'emergency']]],\n",
       "  [['id_com', '31'],\n",
       "   [['lockstatus', 'locked'], ['mode', 'night'], ['AgeRange', '65+']]],\n",
       "  [['id_com', '32'],\n",
       "   [['type', 'TV'], ['area', 'backyard'], ['AgeRange', '65+']]],\n",
       "  [['id_com', '33'],\n",
       "   [['lockstatus', 'locked'], ['area', 'backyard'], ['role', 'user']]],\n",
       "  [['id_com', '34'],\n",
       "   [['lockstatus', 'unlocked'], ['type', 'TV'], ['role', 'user']]],\n",
       "  [['id_com', '35'],\n",
       "   [['lockstatus', 'locked'], ['type', 'TV'], ['AgeRange', '65+']]],\n",
       "  [['id_com', '36'],\n",
       "   [['lockstatus', 'locked'], ['mode', 'night'], ['health', 'emergency']]],\n",
       "  [['id_com', '37'],\n",
       "   [['lockstatus', 'locked'], ['area', 'backyard'], ['AgeRange', '65+']]],\n",
       "  [['id_com', '38'],\n",
       "   [['type', 'TV'], ['mode', 'night'], ['health', 'emergency']]],\n",
       "  [['id_com', '39'],\n",
       "   [['lockstatus', 'unlocked'], ['area', 'backyard'], ['AgeRange', '35-65']]]],\n",
       " 40)"
      ]
     },
     "execution_count": 104,
     "metadata": {},
     "output_type": "execute_result"
    }
   ],
   "source": [
    "list_rules, len(list_rules)"
   ]
  },
  {
   "cell_type": "code",
   "execution_count": 134,
   "metadata": {},
   "outputs": [
    {
     "name": "stdout",
     "output_type": "stream",
     "text": [
      "Rule Network\n",
      " Name: \n",
      "Type: Graph\n",
      "Number of nodes: 96\n",
      "Number of edges: 4560\n",
      "Average degree:  95.0000\n",
      "TASK 2: Done!\n",
      "\n"
     ]
    }
   ],
   "source": [
    "###### ***** TASK 2 ***** #####\n",
    "# Rule Network\n",
    "th_rule_sim = 0\n",
    "rules_with_idx = {}\n",
    "for idx, rule in enumerate(list_rules):\n",
    "    rules_with_idx[idx] = rule\n",
    "\n",
    "# Create the graph\n",
    "edge_list = []\n",
    "for idxA in range(len(list_rules)):\n",
    "    for idxB in range(idxA, len(list_rules)):\n",
    "        edge_temp = evaluate_weight(\n",
    "            rules_with_idx[idxA][1], rules_with_idx[idxB][1],\n",
    "            th_rule_sim)\n",
    "        if edge_temp != -1:\n",
    "            edge_list.append((idxA, idxB, edge_temp))\n",
    "\n",
    "rule_network = nx.Graph()\n",
    "rule_network.add_weighted_edges_from(edge_list)\n",
    "\n",
    "# Add rule attribute\n",
    "rule_network.remove_edges_from(\n",
    "    nx.selfloop_edges(rule_network))\n",
    "\n",
    "# print(self.rule_network.nodes, len(self.rule_network.nodes))\n",
    "# print(self.rules_with_idx.keys(), len(self.rules_with_idx.keys()))\n",
    "isolated_nodes = [\n",
    "    i for i in rules_with_idx.keys() if i not in rule_network.nodes]\n",
    "# print(isolated_nodes, len(isolated_nodes))\n",
    "rule_network.add_nodes_from(isolated_nodes)\n",
    "\n",
    "print(\"Rule Network\\n\", nx.info(rule_network))\n",
    "print(\"TASK 2: Done!\\n\")"
   ]
  },
  {
   "cell_type": "code",
   "execution_count": 133,
   "metadata": {},
   "outputs": [
    {
     "data": {
      "text/plain": [
       "96"
      ]
     },
     "execution_count": 133,
     "metadata": {},
     "output_type": "execute_result"
    }
   ],
   "source": [
    "len(list_rules)"
   ]
  },
  {
   "cell_type": "code",
   "execution_count": 135,
   "metadata": {},
   "outputs": [
    {
     "name": "stdout",
     "output_type": "stream",
     "text": [
      "\n",
      "#############\n",
      " Evaluation.\n",
      "#############\n",
      "\n"
     ]
    }
   ],
   "source": [
    "print(\"\\n#############\")\n",
    "print(\" Evaluation.\")\n",
    "print(\"#############\\n\")\n",
    "#df_train_k_pos.rename(columns = {'uname':'UID', 'rname': 'RID'}, inplace = True)\n",
    "#df_train_k_pos.rename(columns = {'UID':'uname', 'RID':'rname'}, inplace = True) \n",
    "###### ***** TASK 1 ***** #####\n",
    "# Get False Negative Set\n",
    "fn_logs = get_FN_logs(df_train_k_pos, user_network, list_rules, rule_network, rules_with_idx)"
   ]
  },
  {
   "cell_type": "code",
   "execution_count": 136,
   "metadata": {},
   "outputs": [
    {
     "name": "stdout",
     "output_type": "stream",
     "text": [
      "FN: 5120  - 33.45%\n",
      "FP: 2  - 0.01%\n",
      "Precision: 0.9998037291462217\n",
      "Recall: 0.6655343611183695\n",
      "F-score 0.7991214997254688\n",
      "# Rules: 96\n",
      "WSC: 288\n"
     ]
    }
   ],
   "source": [
    "# Get False Positive Set\n",
    "\n",
    "fp_logs = get_FP_logs(df_train_k_neg, user_network, list_rules, rule_network, rules_with_idx)\n",
    "\n",
    "TP = len(df_train_k_pos) - len(fn_logs)\n",
    "TN = len(df_train_k_neg) - len(fp_logs)\n",
    "\n",
    "precision = TP / (TP + len(fp_logs))\n",
    "\n",
    "recall = TP / (TP + len(fn_logs))\n",
    "\n",
    "fscore = 2*(precision*recall)/(precision+recall)\n",
    "\n",
    "print(\"FN:\", len(fn_logs),\n",
    "      \" - {:.2f}%\".format((len(fn_logs)/len(df_train_k_pos))*100))\n",
    "print(\"FP:\", len(fp_logs),\n",
    "      \" - {:.2f}%\".format((len(fp_logs)/len(df_train_k_neg))*100))\n",
    "print(\"Precision:\", precision)\n",
    "print(\"Recall:\", recall)\n",
    "print(\"F-score\", fscore)\n",
    "\n",
    "# computing Weighted Complexity Score (WSC)\n",
    "wsc = sum([len(rule[1]) for rule in list_rules])\n",
    "\n",
    "print(\"# Rules:\", len(list_rules))\n",
    "print(\"WSC:\", wsc)"
   ]
  },
  {
   "cell_type": "code",
   "execution_count": 19,
   "metadata": {},
   "outputs": [
    {
     "data": {
      "text/plain": [
       "(21858, 22157)"
      ]
     },
     "execution_count": 19,
     "metadata": {},
     "output_type": "execute_result"
    }
   ],
   "source": [
    "len(df_train_k_pos), len(df_train_k_neg)"
   ]
  },
  {
   "cell_type": "code",
   "execution_count": 63,
   "metadata": {},
   "outputs": [
    {
     "name": "stdout",
     "output_type": "stream",
     "text": [
      "Precision: 0.9300998573466477\n",
      "Recall: 0.9207999096147328\n",
      "F-score 0.9254265194311182\n"
     ]
    }
   ],
   "source": [
    "TP = 16300\n",
    "TN = 16034\n",
    "\n",
    "precision = TP / (TP + 1225)\n",
    "\n",
    "recall = TP / (TP + 1402)\n",
    "\n",
    "fscore = 2*(precision*recall)/(precision+recall)\n",
    "#print(\"FN:\", 3681,\n",
    "#      \" - {:.2f}%\".format((len(fn_logs)/len(df_train_k_pos))*100))\n",
    "#print(\"FP:\", 2760,\n",
    "#      \" - {:.2f}%\".format((len(fp_logs)/len(df_train_k_neg))*100))\n",
    "print(\"Precision:\", precision)\n",
    "print(\"Recall:\", recall)\n",
    "print(\"F-score\", fscore)"
   ]
  },
  {
   "cell_type": "code",
   "execution_count": 290,
   "metadata": {},
   "outputs": [
    {
     "name": "stdout",
     "output_type": "stream",
     "text": [
      "P6: Scale-free distribution p(k) = ∼k^{−α}.\n"
     ]
    },
    {
     "data": {
      "image/png": "[encoded data removed]",
      "text/plain": [
       "<Figure size 640x480 with 1 Axes>"
      ]
     },
     "metadata": {},
     "output_type": "display_data"
    }
   ],
   "source": [
    "##### P6: Scale-free distribution p(k) = ∼k−α. #####\n",
    "print(\"P6: Scale-free distribution p(k) = ∼k^{−α}.\")\n",
    "distri_grados = [i/user_network.vcount() for i in user_network.degree()]\n",
    "#plt.figure(figsize=(20,15))\n",
    "plt.plot(sorted(distri_grados,reverse=True),linestyle='', marker='o', color=\"0.4\")\n",
    "\n",
    "#x2, y2 = [1, 231], [3, 2]\n",
    "# plt.plot(x1, y1, marker = 'o')\n",
    "plt.yscale(\"log\")\n",
    "plt.xscale(\"log\")\n",
    "plt.xlabel('Degree k.')\n",
    "plt.ylabel('Fraction of nodes with degree k.')\n",
    "plt.savefig('degree-distri-iot.pdf')\n",
    "plt.show()"
   ]
  }
 ],
 "metadata": {
  "kernelspec": {
   "display_name": "Python 3 (ipykernel)",
   "language": "python",
   "name": "python3"
  },
  "language_info": {
   "codemirror_mode": {
    "name": "ipython",
    "version": 3
   },
   "file_extension": ".py",
   "mimetype": "text/x-python",
   "name": "python",
   "nbconvert_exporter": "python",
   "pygments_lexer": "ipython3",
   "version": "3.7.16"
  }
 },
 "nbformat": 4,
 "nbformat_minor": 2
}
