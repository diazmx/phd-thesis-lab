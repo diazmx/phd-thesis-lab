{
 "cells": [
  {
   "attachments": {},
   "cell_type": "markdown",
   "metadata": {},
   "source": [
    "## 06 - NetworkX - CN&S Graph Analysis Tools Part 2\n",
    "NetworkX - "
   ]
  },
  {
   "attachments": {},
   "cell_type": "markdown",
   "metadata": {},
   "source": [
    "## Instalación"
   ]
  },
  {
   "attachments": {},
   "cell_type": "markdown",
   "metadata": {},
   "source": [
    "> Instalar la versión actual de `networkx` con `pip`\n",
    "\n",
    "```shell\n",
    "$ pip install networkx\n",
    "```"
   ]
  },
  {
   "attachments": {},
   "cell_type": "markdown",
   "metadata": {},
   "source": [
    "## Importar biblioteca"
   ]
  },
  {
   "cell_type": "code",
   "execution_count": null,
   "metadata": {},
   "outputs": [],
   "source": [
    "# Importar la biblioteca\n",
    "import networkx as nx"
   ]
  },
  {
   "attachments": {},
   "cell_type": "markdown",
   "metadata": {},
   "source": [
    "## Crear un grafo\n",
    "Existen tres formas para crear un grafo\n",
    "> 1. Funciones generadoras propias de `NetworkX`\n",
    "\n",
    "> 2. Importar desde archivos de grafos (*gml*, *gefx*, *graphml*)\n",
    "\n",
    "> 3. Crear grafos desde cero"
   ]
  },
  {
   "attachments": {},
   "cell_type": "markdown",
   "metadata": {},
   "source": [
    "### Funciones generadoras de grafos"
   ]
  },
  {
   "attachments": {},
   "cell_type": "markdown",
   "metadata": {},
   "source": [
    "Generar un grafo completo de n nodos.\n",
    "> En este tipo de grafo todos los pares de nodos tienen una arista que los conecta."
   ]
  },
  {
   "cell_type": "code",
   "execution_count": null,
   "metadata": {},
   "outputs": [],
   "source": [
    "# Crear un grafo completo\n",
    "G = nx.complete_graph(5)\n",
    "\n",
    "print(nx.info(G))   # Información básica del grafo\n",
    "nx.draw(G)          # Dibujo básico"
   ]
  },
  {
   "attachments": {},
   "cell_type": "markdown",
   "metadata": {},
   "source": [
    "Generar un grafo aleatorio, conocido como un grafo Erdős-Rényi o Binomial\n",
    "> El modelo elige las aristas con una probabilidad $p$"
   ]
  },
  {
   "cell_type": "code",
   "execution_count": null,
   "metadata": {},
   "outputs": [],
   "source": [
    "# Crear un grafo Erdös-Rényi\n",
    "G = nx.erdos_renyi_graph(n=50, p=0.1, seed=1, directed=False)\n",
    "\n",
    "print(nx.info(G))  \n",
    "nx.draw(G)"
   ]
  },
  {
   "attachments": {},
   "cell_type": "markdown",
   "metadata": {},
   "source": [
    "Generar un grafo circular\n",
    "> Los nodos únicamente tienen dos vecinos y forman un camino en cualquier par de nodo. "
   ]
  },
  {
   "cell_type": "code",
   "execution_count": null,
   "metadata": {},
   "outputs": [],
   "source": [
    "# Crear un grafo circular\n",
    "G = nx.cycle_graph(20)\n",
    "\n",
    "print(nx.info(G))  \n",
    "nx.draw(G)"
   ]
  },
  {
   "attachments": {},
   "cell_type": "markdown",
   "metadata": {},
   "source": [
    "Generar un árbol aleatorio"
   ]
  },
  {
   "cell_type": "code",
   "execution_count": null,
   "metadata": {},
   "outputs": [],
   "source": [
    "# Crear un árbol uniformemente aleatorio\n",
    "T = nx.random_tree(10, 1)\n",
    "\n",
    "print(nx.info(T))  \n",
    "nx.draw(T)"
   ]
  },
  {
   "attachments": {},
   "cell_type": "markdown",
   "metadata": {},
   "source": [
    "### Grafos desde archivos"
   ]
  },
  {
   "attachments": {},
   "cell_type": "markdown",
   "metadata": {},
   "source": [
    "*NetworkX* permite la lectura de diferentes archivos de grafos"
   ]
  },
  {
   "cell_type": "code",
   "execution_count": null,
   "metadata": {},
   "outputs": [],
   "source": [
    "file_path = \"Karate_club_from_gephi.graphml\" # Nombre del archivo\n",
    "G = nx.read_graphml(file_path)   # Leer un grafo en formato graphml\n",
    "\n",
    "print(nx.info(G)) \n",
    "nx.draw(G)          "
   ]
  },
  {
   "cell_type": "code",
   "execution_count": null,
   "metadata": {},
   "outputs": [],
   "source": [
    "file_path = \"Karate_club_from_gephi.gml\" # Nombre del archivo\n",
    "G = nx.read_gml(file_path)   # Leer un grafo en formato gml\n",
    "\n",
    "print(nx.info(G)) \n",
    "nx.draw(G)          "
   ]
  },
  {
   "attachments": {},
   "cell_type": "markdown",
   "metadata": {},
   "source": [
    "### Crear grafos desde cero"
   ]
  },
  {
   "attachments": {},
   "cell_type": "markdown",
   "metadata": {},
   "source": [
    "Crear un grafo no dirigido"
   ]
  },
  {
   "cell_type": "code",
   "execution_count": null,
   "metadata": {},
   "outputs": [],
   "source": [
    "G = nx.Graph() # Crea un objeto de tipo Graph\n",
    "\n",
    "print(nx.info(G)) # Mostrar información en str del grafo"
   ]
  },
  {
   "attachments": {},
   "cell_type": "markdown",
   "metadata": {},
   "source": [
    "Crear un grafo dirigido"
   ]
  },
  {
   "cell_type": "code",
   "execution_count": null,
   "metadata": {},
   "outputs": [],
   "source": [
    "G = nx.DiGraph()\n",
    "\n",
    "print(nx.info(G)) # Mostrar información en str del grafo"
   ]
  },
  {
   "attachments": {},
   "cell_type": "markdown",
   "metadata": {},
   "source": [
    "Crear un multigrafo"
   ]
  },
  {
   "cell_type": "code",
   "execution_count": null,
   "metadata": {},
   "outputs": [],
   "source": [
    "G = nx.MultiGraph()\n",
    "\n",
    "print(nx.info(G)) # Mostrar información en str del grafo"
   ]
  },
  {
   "attachments": {},
   "cell_type": "markdown",
   "metadata": {},
   "source": [
    "Crear un multigrafo dirigido"
   ]
  },
  {
   "cell_type": "code",
   "execution_count": null,
   "metadata": {},
   "outputs": [],
   "source": [
    "G = nx.MultiDiGraph()\n",
    "\n",
    "print(nx.info(G)) # Mostrar información en str del grafo"
   ]
  },
  {
   "attachments": {},
   "cell_type": "markdown",
   "metadata": {},
   "source": [
    "#### Nodos\n",
    "Existen diferente formas de agregar nodos"
   ]
  },
  {
   "cell_type": "code",
   "execution_count": null,
   "metadata": {},
   "outputs": [],
   "source": [
    "G = nx.Graph()  # Se crea un grafo vacío"
   ]
  },
  {
   "attachments": {},
   "cell_type": "markdown",
   "metadata": {},
   "source": [
    "> Agregar un único nodo"
   ]
  },
  {
   "cell_type": "code",
   "execution_count": null,
   "metadata": {},
   "outputs": [],
   "source": [
    "# Agregar un único nodo\n",
    "G.add_node(1)\n",
    "\n",
    "print(nx.info(G))"
   ]
  },
  {
   "attachments": {},
   "cell_type": "markdown",
   "metadata": {},
   "source": [
    "> Agregar más de un nodo desde un contenedor iterable."
   ]
  },
  {
   "cell_type": "code",
   "execution_count": null,
   "metadata": {},
   "outputs": [],
   "source": [
    "# Lista de nodos para agregar\n",
    "nodes_to_add = [2, 3]\n",
    "\n",
    "# Agregar la lista de nodos\n",
    "G.add_nodes_from(nodes_to_add)\n",
    "\n",
    "print(nx.info(G))"
   ]
  },
  {
   "attachments": {},
   "cell_type": "markdown",
   "metadata": {},
   "source": [
    "> También se puede agregar nodos junto con atributos con tuplas de la forma `(nodo, nodo_atributo_dict)`:"
   ]
  },
  {
   "cell_type": "code",
   "execution_count": null,
   "metadata": {},
   "outputs": [],
   "source": [
    "# Lista de nodos para agregar\n",
    "nodes_to_add = [\n",
    "    (4, {\"clase\":\"CN&S\"}), # Se agrega el id del nodo y el atributo clase\n",
    "    (5, {\"clase\":\"ML\"})\n",
    "]\n",
    "\n",
    "# Agregar la lista de nodos\n",
    "G.add_nodes_from(nodes_to_add)\n",
    "\n",
    "print(nx.info(G)); print()\n",
    "\n",
    "# Mostrar los nodos y sus atributos\n",
    "print(G.nodes.data())"
   ]
  },
  {
   "cell_type": "code",
   "execution_count": null,
   "metadata": {},
   "outputs": [],
   "source": [
    "nx.draw(G, with_labels=True)"
   ]
  },
  {
   "attachments": {},
   "cell_type": "markdown",
   "metadata": {},
   "source": [
    "#### Aristas\n",
    "Al igual que los nodos, las aristas pueden ser agregadas de diferentes formas"
   ]
  },
  {
   "cell_type": "code",
   "execution_count": null,
   "metadata": {},
   "outputs": [],
   "source": [
    "G.add_edge(1, 2) # Agregar una arista que una al nodo 1 con el 2\n",
    "\n",
    "print(nx.info(G))"
   ]
  },
  {
   "cell_type": "code",
   "execution_count": null,
   "metadata": {},
   "outputs": [],
   "source": [
    "G.add_edges_from([(1, 2), (1, 3)]) # Agregar aristas desde objeto iterable\n",
    "\n",
    "print(nx.info(G))"
   ]
  },
  {
   "attachments": {},
   "cell_type": "markdown",
   "metadata": {},
   "source": [
    "> Si el nodo especificado en una arista no existe, se crea automáticamente."
   ]
  },
  {
   "cell_type": "code",
   "execution_count": null,
   "metadata": {},
   "outputs": [],
   "source": [
    "# Agregar aristas con atributos\n",
    "elist = [('a', 'b', 5.0), ('b', 'c', 3.0), ('a', 'c', 1.0), ('c', 'd', 7.3)]\n",
    "G.add_weighted_edges_from(elist) \n",
    "\n",
    "print(nx.info(G))"
   ]
  },
  {
   "cell_type": "code",
   "execution_count": null,
   "metadata": {},
   "outputs": [],
   "source": [
    "# Mostrar las aristas y sus atributos\n",
    "print(G.edges.data())"
   ]
  },
  {
   "cell_type": "code",
   "execution_count": null,
   "metadata": {},
   "outputs": [],
   "source": [
    "nx.draw(G, with_labels=True)"
   ]
  },
  {
   "attachments": {},
   "cell_type": "markdown",
   "metadata": {},
   "source": [
    "#### Eliminar elementos"
   ]
  },
  {
   "attachments": {},
   "cell_type": "markdown",
   "metadata": {},
   "source": [
    "Para eliminar `nodos` del grafo se utiliza la siguiente funcion"
   ]
  },
  {
   "cell_type": "code",
   "execution_count": null,
   "metadata": {},
   "outputs": [],
   "source": [
    "print(\"Antes:\", nx.info(G))\n",
    "\n",
    "G.remove_node(2)    # Se elimina el nodo 2\n",
    "\n",
    "print(\"Nuevo:\",nx.info(G))"
   ]
  },
  {
   "attachments": {},
   "cell_type": "markdown",
   "metadata": {},
   "source": [
    "Para eliminar `aristas` del grafo se utiliza la siguiente funcion"
   ]
  },
  {
   "cell_type": "code",
   "execution_count": null,
   "metadata": {},
   "outputs": [],
   "source": [
    "print(\"Antes:\", nx.info(G))\n",
    "\n",
    "G.remove_edge(1, 3)    # Se elimina la arista que une a 1 y 3\n",
    "\n",
    "print(\"Nuevo:\",nx.info(G))"
   ]
  },
  {
   "cell_type": "code",
   "execution_count": null,
   "metadata": {},
   "outputs": [],
   "source": [
    "nx.draw(G, with_labels=True)"
   ]
  },
  {
   "attachments": {},
   "cell_type": "markdown",
   "metadata": {},
   "source": [
    "Eliminar todos los elementos de un grafo"
   ]
  },
  {
   "cell_type": "code",
   "execution_count": null,
   "metadata": {},
   "outputs": [],
   "source": [
    "print(\"Antes:\", nx.info(G))\n",
    "\n",
    "G.clear()    # Se eliminan nodos y aristas del grafo\n",
    "\n",
    "print(\"Nuevo:\",nx.info(G))"
   ]
  },
  {
   "attachments": {},
   "cell_type": "markdown",
   "metadata": {},
   "source": [
    "## Explorando el grafo"
   ]
  },
  {
   "cell_type": "code",
   "execution_count": null,
   "metadata": {},
   "outputs": [],
   "source": [
    "G = nx.Graph()\n",
    "nodes_to_add = [\n",
    "    (1, {\"clase\":\"CN&S\"}), # Se agrega el id del nodo y el atributo clase\n",
    "    (2, {\"clase\":\"ML\"}),\n",
    "    (3, {\"clase\":\"ML\"}),\n",
    "    (4, {\"clase\":\"ALG\", \"grado\":\"phd\"}),\n",
    "    (5, {\"clase\":\"CN&S\"})\n",
    "]\n",
    "\n",
    "elist = [\n",
    "    (1, 4, 1.0),\n",
    "    (1, 5, 2.0),\n",
    "    (2, 3, 2.0),\n",
    "    (2, 4, 1.0),\n",
    "    (3, 4, 1.0),\n",
    "    (4, 5, 1.0)\n",
    "]\n",
    "\n",
    "G.add_nodes_from(nodes_to_add)\n",
    "G.add_weighted_edges_from(elist) \n",
    "\n",
    "print(nx.info(G))\n",
    "nx.draw(G, with_labels=True)"
   ]
  },
  {
   "cell_type": "code",
   "execution_count": null,
   "metadata": {},
   "outputs": [],
   "source": [
    "# Número de nodos\n",
    "G.number_of_nodes()"
   ]
  },
  {
   "cell_type": "code",
   "execution_count": null,
   "metadata": {},
   "outputs": [],
   "source": [
    "# Lista de nodos\n",
    "list(G.nodes)"
   ]
  },
  {
   "cell_type": "code",
   "execution_count": null,
   "metadata": {},
   "outputs": [],
   "source": [
    "# Lista de nodos y sus datos\n",
    "list(G.nodes(data=True))"
   ]
  },
  {
   "cell_type": "code",
   "execution_count": null,
   "metadata": {},
   "outputs": [],
   "source": [
    "# Valores de un sólo atributo\n",
    "nx.get_node_attributes(G, \"clase\")"
   ]
  },
  {
   "cell_type": "code",
   "execution_count": null,
   "metadata": {},
   "outputs": [],
   "source": [
    "# Número de aristas\n",
    "G.number_of_edges()"
   ]
  },
  {
   "cell_type": "code",
   "execution_count": null,
   "metadata": {},
   "outputs": [],
   "source": [
    "# Lista de aristas\n",
    "list(G.edges)"
   ]
  },
  {
   "cell_type": "code",
   "execution_count": null,
   "metadata": {},
   "outputs": [],
   "source": [
    "# Lista de aristas y sus datos\n",
    "list(G.edges(data=True))"
   ]
  },
  {
   "cell_type": "code",
   "execution_count": null,
   "metadata": {},
   "outputs": [],
   "source": [
    "# Valores de un sólo atributo\n",
    "nx.get_edge_attributes(G, \"weight\")"
   ]
  },
  {
   "attachments": {},
   "cell_type": "markdown",
   "metadata": {},
   "source": [
    "Las estructuras de datos internas del grafo se basan en una representación de lista de adyacencia"
   ]
  },
  {
   "cell_type": "code",
   "execution_count": null,
   "metadata": {},
   "outputs": [],
   "source": [
    "print(G.adj)"
   ]
  },
  {
   "attachments": {},
   "cell_type": "markdown",
   "metadata": {},
   "source": [
    "## Métricas del grafo"
   ]
  },
  {
   "cell_type": "code",
   "execution_count": null,
   "metadata": {},
   "outputs": [],
   "source": [
    "nx.draw(G, with_labels=True)"
   ]
  },
  {
   "cell_type": "code",
   "execution_count": null,
   "metadata": {},
   "outputs": [],
   "source": [
    "# Grado del nodo 4\n",
    "nx.degree(G, 4)"
   ]
  },
  {
   "cell_type": "code",
   "execution_count": null,
   "metadata": {},
   "outputs": [],
   "source": [
    "# Lista de grafos de todos los nodos\n",
    "nx.degree(G)"
   ]
  },
  {
   "cell_type": "code",
   "execution_count": null,
   "metadata": {},
   "outputs": [],
   "source": [
    "# Histograma de grados\n",
    "nx.degree_histogram(G)"
   ]
  },
  {
   "cell_type": "code",
   "execution_count": null,
   "metadata": {},
   "outputs": [],
   "source": [
    "# Densidad del grafo\n",
    "nx.density(G)"
   ]
  },
  {
   "cell_type": "code",
   "execution_count": null,
   "metadata": {},
   "outputs": [],
   "source": [
    "# Extraer subgrafo\n",
    "SG = nx.subgraph(G, [1, 5])\n",
    "nx.info(SG)"
   ]
  },
  {
   "cell_type": "code",
   "execution_count": null,
   "metadata": {},
   "outputs": [],
   "source": [
    "nx.draw(G, with_labels=True)"
   ]
  },
  {
   "cell_type": "code",
   "execution_count": null,
   "metadata": {},
   "outputs": [],
   "source": [
    "# Vecinos de un nodo\n",
    "list(nx.neighbors(G, 1))"
   ]
  },
  {
   "cell_type": "code",
   "execution_count": null,
   "metadata": {},
   "outputs": [],
   "source": [
    "# Nodos NO vecinos del nodo 1\n",
    "list(nx.non_neighbors(G, 1))"
   ]
  },
  {
   "cell_type": "code",
   "execution_count": null,
   "metadata": {},
   "outputs": [],
   "source": [
    "# vecinos en común de dos nodos\n",
    "list(nx.common_neighbors(G, 1, 3))"
   ]
  },
  {
   "cell_type": "code",
   "execution_count": null,
   "metadata": {},
   "outputs": [],
   "source": [
    "# Aristas NO existentes en el grafo\n",
    "list(nx.non_edges(G))"
   ]
  },
  {
   "cell_type": "code",
   "execution_count": null,
   "metadata": {},
   "outputs": [],
   "source": [
    "# Saber si el grafo es ponderado\n",
    "nx.is_weighted(G)"
   ]
  },
  {
   "cell_type": "code",
   "execution_count": null,
   "metadata": {},
   "outputs": [],
   "source": [
    "# Saber si el grafo es bipartito\n",
    "nx.is_bipartite(G)"
   ]
  },
  {
   "cell_type": "code",
   "execution_count": null,
   "metadata": {},
   "outputs": [],
   "source": [
    "# Calcular la centralidad de betweenness\n",
    "nx.betweenness_centrality(G)"
   ]
  },
  {
   "cell_type": "code",
   "execution_count": null,
   "metadata": {},
   "outputs": [],
   "source": [
    "# Camino más corto promedio\n",
    "nx.average_shortest_path_length(G)"
   ]
  },
  {
   "cell_type": "code",
   "execution_count": null,
   "metadata": {},
   "outputs": [],
   "source": [
    "# Camino más corto con el algoritmo de Dijkstra\n",
    "nx.dijkstra_path(G, 1, 3)"
   ]
  },
  {
   "attachments": {},
   "cell_type": "markdown",
   "metadata": {},
   "source": [
    "## Dibujar\n",
    "Aunque NetworkX no está diseñado para dibujar grafos, es posible hacerlo"
   ]
  },
  {
   "cell_type": "code",
   "execution_count": null,
   "metadata": {},
   "outputs": [],
   "source": [
    "import matplotlib.pyplot as plt # Se importa matplotlib\n",
    "\n",
    "# Se selecciona el algoritmo de posicionamiento visual del grafo\n",
    "posiciones_layout = nx.circular_layout(G)\n",
    "\n",
    "# Se utiliza la función draw y sus argumentos\n",
    "nx.draw(G, pos=posiciones_layout, node_color='r', edge_color='b', \n",
    "        with_labels=True)"
   ]
  },
  {
   "cell_type": "code",
   "execution_count": null,
   "metadata": {},
   "outputs": [],
   "source": [
    "G = nx.read_graphml(\"Karate_club_from_gephi.graphml\")\n",
    "print(nx.info(G))\n",
    "print(G.nodes(data=True))\n",
    "print(G.edges(data=True))"
   ]
  },
  {
   "cell_type": "code",
   "execution_count": null,
   "metadata": {},
   "outputs": [],
   "source": [
    "# Lista para almacenar los colores de los nodos dependiendo al club que pertenecen\n",
    "color_map = [] \n",
    "\n",
    "# Se selecciona únicamente los valores del atributo 'club'\n",
    "all_nodes_club = nx.get_node_attributes(G,'club') \n",
    "\n",
    "for value in all_nodes_club: # Se recorre cada nodo\n",
    "    if all_nodes_club[value] == \"Mr. Hi\": \n",
    "        color_map.append('orange')  # Color naranja si está con Mr. Hi\n",
    "    else:\n",
    "        color_map.append('blue')    # Color azul si está con Officer"
   ]
  },
  {
   "cell_type": "code",
   "execution_count": null,
   "metadata": {},
   "outputs": [],
   "source": [
    "# Lista para almacenar los tamaños de los nodos dependiendo su grado\n",
    "size_map = [] \n",
    "\n",
    "# Se selecciona únicamente los valores del atributo 'grado'\n",
    "all_nodes_degree = nx.get_node_attributes(G, \"Degree\") \n",
    "\n",
    "for value in all_nodes_degree: # Se recorre cada nodo\n",
    "    # Se agrega su grado multiplicando por un escala\n",
    "    size_map.append(100*all_nodes_degree[value]) \n"
   ]
  },
  {
   "cell_type": "code",
   "execution_count": null,
   "metadata": {},
   "outputs": [],
   "source": [
    "pos = nx.spring_layout(G) # Algoritmo de posicionamiento\n",
    "\n",
    "# Se dibuja el grafo con los argumentos\n",
    "nx.draw(G, node_color=color_map, with_labels=True, font_color='white',\n",
    "        node_size=size_map)"
   ]
  },
  {
   "attachments": {},
   "cell_type": "markdown",
   "metadata": {},
   "source": [
    "## Exportar grafos"
   ]
  },
  {
   "cell_type": "code",
   "execution_count": null,
   "metadata": {},
   "outputs": [],
   "source": [
    "# Para exportar grafo al formato GEFX\n",
    "nx.write_gexf(G, \"exportar_grafo.gefx\")\n",
    "\n",
    "# Para exportar grafo a gml\n",
    "nx.write_gml(G, \"exportar_grafo.gml\")\n",
    "\n",
    "# Para exportar grafo a graphml\n",
    "nx.write_graphml(G, \"exportar_grafo.graphml\")"
   ]
  }
 ],
 "metadata": {
  "kernelspec": {
   "display_name": "tesis_env",
   "language": "python",
   "name": "python3"
  },
  "language_info": {
   "codemirror_mode": {
    "name": "ipython",
    "version": 3
   },
   "file_extension": ".py",
   "mimetype": "text/x-python",
   "name": "python",
   "nbconvert_exporter": "python",
   "pygments_lexer": "ipython3",
   "version": "3.7.13"
  },
  "orig_nbformat": 4
 },
 "nbformat": 4,
 "nbformat_minor": 2
}
