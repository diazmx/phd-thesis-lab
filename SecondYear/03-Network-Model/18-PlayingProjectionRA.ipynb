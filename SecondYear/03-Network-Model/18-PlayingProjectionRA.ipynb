{
 "cells": [
  {
   "cell_type": "code",
   "execution_count": 26,
   "id": "87b97f42-b96a-4e2c-a4e5-17248dc7d993",
   "metadata": {
    "tags": []
   },
   "outputs": [],
   "source": [
    "ki = 1\n",
    "kj = 10\n",
    "neighs = [2,5]\n",
    "\n",
    "def calcular_peso(ki, kj, neighs):\n",
    "    sum_ki = 0\n",
    "    sum_kj = 0\n",
    "    for kz in neighs:\n",
    "        temp1 = 1/(kz*ki)\n",
    "        sum_ki += temp1\n",
    "        print(\"t\",temp1, \"total\", sum_ki)\n",
    "        sum_kj += 1/(kz*kj)\n",
    "\n",
    "    print(\"Sum ki\", sum_ki)\n",
    "    print(\"Sum kj\", sum_kj)\n",
    "\n",
    "    result = (sum_ki + sum_kj) / 2\n",
    "    print(\"Wij =\", result)"
   ]
  },
  {
   "cell_type": "code",
   "execution_count": 17,
   "id": "7fc8a3ee-53d9-4e74-bae3-db61348e6d8f",
   "metadata": {
    "tags": []
   },
   "outputs": [
    {
     "name": "stdout",
     "output_type": "stream",
     "text": [
      "Sum ki 0.41666666666666663\n",
      "Sum kj 0.08333333333333334\n",
      "Wij = 0.25\n"
     ]
    }
   ],
   "source": [
    "# i = poco, j = mucho, z=poco\n",
    "ki = 2\n",
    "kj = 10\n",
    "neighs = [2,3]\n",
    "calcular_peso(ki,kj,neighs)"
   ]
  },
  {
   "cell_type": "code",
   "execution_count": 18,
   "id": "98519650-deb0-43a2-9795-77dc01ec6995",
   "metadata": {
    "tags": []
   },
   "outputs": [
    {
     "name": "stdout",
     "output_type": "stream",
     "text": [
      "Sum ki 0.1125\n",
      "Sum kj 0.0225\n",
      "Wij = 0.0675\n"
     ]
    }
   ],
   "source": [
    "# i = poco, j = mucho, z=mucho\n",
    "ki = 2\n",
    "kj = 10\n",
    "neighs = [10,8]\n",
    "calcular_peso(ki,kj,neighs)"
   ]
  },
  {
   "cell_type": "code",
   "execution_count": 19,
   "id": "8699e806-374a-46a2-963d-1ac63388c778",
   "metadata": {
    "tags": []
   },
   "outputs": [
    {
     "name": "stdout",
     "output_type": "stream",
     "text": [
      "Sum ki 0.41666666666666663\n",
      "Sum kj 0.2777777777777778\n",
      "Wij = 0.3472222222222222\n"
     ]
    }
   ],
   "source": [
    "# i = poco, j = poco, z=poco\n",
    "ki = 2\n",
    "kj = 3\n",
    "neighs = [2,3]\n",
    "calcular_peso(ki,kj,neighs)"
   ]
  },
  {
   "cell_type": "code",
   "execution_count": 31,
   "id": "69a5933a-d20f-44df-b74e-66150f53fc7f",
   "metadata": {
    "tags": []
   },
   "outputs": [
    {
     "name": "stdout",
     "output_type": "stream",
     "text": [
      "t 0.05 total 0.05\n",
      "t 0.05555555555555555 total 0.10555555555555556\n",
      "Sum ki 0.10555555555555556\n",
      "Sum kj 0.07037037037037036\n",
      "Wij = 0.08796296296296297\n"
     ]
    }
   ],
   "source": [
    "# i = poco, j = poco, z=mucho\n",
    "ki = 2\n",
    "kj = 3\n",
    "neighs = [10,9]\n",
    "calcular_peso(ki,kj,neighs)"
   ]
  },
  {
   "cell_type": "code",
   "execution_count": 29,
   "id": "7644e7ca-163f-4815-845a-cc1173aad5da",
   "metadata": {
    "tags": []
   },
   "outputs": [
    {
     "name": "stdout",
     "output_type": "stream",
     "text": [
      "t 0.05 total 0.05\n",
      "t 0.05 total 0.1\n",
      "Sum ki 0.1\n",
      "Sum kj 0.125\n",
      "Wij = 0.1125\n"
     ]
    }
   ],
   "source": [
    "# i = mucho, j = mucho, z=poco\n",
    "ki = 10\n",
    "kj = 8\n",
    "neighs = [2,2]\n",
    "calcular_peso(ki,kj,neighs)"
   ]
  },
  {
   "cell_type": "code",
   "execution_count": 30,
   "id": "81f2d891-30ef-4b63-8b26-026d0d042e20",
   "metadata": {
    "tags": []
   },
   "outputs": [
    {
     "name": "stdout",
     "output_type": "stream",
     "text": [
      "t 0.05 total 0.05\n",
      "t 0.05 total 0.1\n",
      "t 0.03333333333333333 total 0.13333333333333333\n",
      "t 0.05 total 0.18333333333333335\n",
      "t 0.03333333333333333 total 0.21666666666666667\n",
      "t 0.05 total 0.26666666666666666\n",
      "t 0.03333333333333333 total 0.3\n",
      "t 0.05 total 0.35\n",
      "Sum ki 0.35\n",
      "Sum kj 0.4375\n",
      "Wij = 0.39375\n"
     ]
    }
   ],
   "source": [
    "# i = mucho, j = mucho, z=poco\n",
    "ki = 10\n",
    "kj = 8\n",
    "neighs = [2,2,3,2,3,2,3,2]\n",
    "calcular_peso(ki,kj,neighs)"
   ]
  },
  {
   "cell_type": "code",
   "execution_count": 13,
   "id": "67567815-35ba-45e9-ad8e-90de2f584d7f",
   "metadata": {
    "tags": []
   },
   "outputs": [
    {
     "name": "stdout",
     "output_type": "stream",
     "text": [
      "Sum ki 0.40625\n",
      "Sum kj 0.325\n",
      "Wij = 0.365625\n"
     ]
    }
   ],
   "source": [
    "# i = mucho, j = mucho, z=poco\n",
    "ki = 8\n",
    "kj = 10\n",
    "neighs = [2,3,2,3,2,3,4,2]\n",
    "calcular_peso(ki,kj,neighs)"
   ]
  },
  {
   "cell_type": "code",
   "execution_count": 32,
   "id": "212c76a9-3d6f-4c03-a14a-2b7ae6f27cde",
   "metadata": {
    "tags": []
   },
   "outputs": [
    {
     "name": "stdout",
     "output_type": "stream",
     "text": [
      "t 0.017857142857142856 total 0.017857142857142856\n",
      "t 0.020833333333333332 total 0.03869047619047619\n",
      "t 0.013888888888888888 total 0.05257936507936508\n",
      "t 0.0125 total 0.06507936507936508\n",
      "t 0.015625 total 0.08070436507936508\n",
      "t 0.017857142857142856 total 0.09856150793650795\n",
      "t 0.0125 total 0.11106150793650794\n",
      "t 0.013888888888888888 total 0.12495039682539683\n",
      "Sum ki 0.12495039682539683\n",
      "Sum kj 0.09996031746031747\n",
      "Wij = 0.11245535714285715\n"
     ]
    }
   ],
   "source": [
    "# i = mucho, j = mucho, z=mucho\n",
    "ki = 8\n",
    "kj = 10\n",
    "neighs = [7,6,9,10,8,7,10,9]\n",
    "calcular_peso(ki,kj,neighs)"
   ]
  },
  {
   "cell_type": "code",
   "execution_count": 22,
   "id": "8d6d1452-5a06-4796-b68e-9a318d41a32a",
   "metadata": {
    "tags": []
   },
   "outputs": [
    {
     "data": {
      "text/plain": [
       "0.81"
      ]
     },
     "execution_count": 22,
     "metadata": {},
     "output_type": "execute_result"
    }
   ],
   "source": [
    "0.9*0.9"
   ]
  },
  {
   "cell_type": "code",
   "execution_count": 23,
   "id": "9607bb36-0cef-4e1e-a7ec-04ed294838b6",
   "metadata": {
    "tags": []
   },
   "outputs": [
    {
     "data": {
      "text/plain": [
       "0.010000000000000002"
      ]
     },
     "execution_count": 23,
     "metadata": {},
     "output_type": "execute_result"
    }
   ],
   "source": [
    "0.1*0.1"
   ]
  },
  {
   "cell_type": "code",
   "execution_count": 24,
   "id": "a5a3a993-a0bf-4e02-939a-d92927721fae",
   "metadata": {
    "tags": []
   },
   "outputs": [
    {
     "data": {
      "text/plain": [
       "0.09000000000000001"
      ]
     },
     "execution_count": 24,
     "metadata": {},
     "output_type": "execute_result"
    }
   ],
   "source": [
    "0.1*0.9"
   ]
  }
 ],
 "metadata": {
  "kernelspec": {
   "display_name": "Python 3 (ipykernel)",
   "language": "python",
   "name": "python3"
  },
  "language_info": {
   "codemirror_mode": {
    "name": "ipython",
    "version": 3
   },
   "file_extension": ".py",
   "mimetype": "text/x-python",
   "name": "python",
   "nbconvert_exporter": "python",
   "pygments_lexer": "ipython3",
   "version": "3.7.12"
  }
 },
 "nbformat": 4,
 "nbformat_minor": 5
}
