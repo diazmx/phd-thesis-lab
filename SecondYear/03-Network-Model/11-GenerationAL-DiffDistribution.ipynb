{
 "cells": [
  {
   "cell_type": "markdown",
   "metadata": {},
   "source": [
    "# Generation of access requests with different probability dsitribution"
   ]
  },
  {
   "cell_type": "code",
   "execution_count": 1,
   "metadata": {},
   "outputs": [],
   "source": [
    "### Import libraries\n",
    "\n",
    "import numpy as np\n",
    "import pandas as pd\n",
    "import matplotlib.pyplot as plt\n",
    "from scipy.stats import expon"
   ]
  },
  {
   "cell_type": "code",
   "execution_count": 2,
   "metadata": {},
   "outputs": [],
   "source": [
    "### User and resource attributes for each dataset\n",
    "\n",
    "DS_ID = \"IoT\" # Availables => user_attributes.keys()\n",
    "# OUT_FILE = open(DS_ID+\".output\", \"w\") # File to save the outputs\n",
    "\n",
    "USER_ATTRS = {\"IoT\": [\"role\", \"age\", \"health\", \"uname\"],\n",
    "              \"AMZ\": [\"MGR_ID\",\"ROLE_ROLLUP_1\",\"ROLE_ROLLUP_2\",\"ROLE_DEPTNAME\",\"ROLE_TITLE\",\"ROLE_FAMILY_DESC\",\"ROLE_FAMILY\",\"ROLE_CODE\"],\n",
    "              \"HC\": [\"position\", \"uward\", \"specialties\", \"teams\", \"agentfor\", \"uname\"],\n",
    "              \"UN\": [\"position\",\"departmentu\",\"crsTaken\",\"crsTaught\",\"isChair\", \"uname\"],\n",
    "              \"PM\": [\"adminroles\",\"projects\",\"departmentu\",\"projectsled\",\"expertiseu\",\"isemployee\",\"task\",\"uname\"]}\n",
    "\n",
    "RES_ATTRS = {\"IoT\": [\"area\", \"mode\", \"temperature\", \"lockstatus\", \"rname\"],\n",
    "             \"AMZ\":[\"RID\"],\n",
    "             \"HC\": [\"type\", \"author\", \"patient\", \"topics\", \"tratingTeam\", \"rward\", \"rname\"],\n",
    "             \"UN\": [\"type\",\"student\",\"departmentr\",\"csr\", \"rname\"],\n",
    "             \"PM\": [\"type\",\"project\",\"department\",\"expertise\",\"proprietary\", \"rname\"]}\n",
    "\n",
    "EDG_ATTRS = {\"IoT\": [\"uname\", \"rname\", \"location\", \"timeday\", \"op\", \"ACTION\"],\n",
    "             \"AMZ\": [\"uname\", \"rname\"],\n",
    "             \"HC\": [\"uname\", \"rname\"],\n",
    "             \"UN\":[\"uname\", \"rname\"],\n",
    "             \"PM\":[\"uname\", \"rname\"]}\n",
    "\n",
    "def get_probability_distribution(n, sample_size, probability_parameters, type=\"normal\",):\n",
    "    \"\"\" Get the probability distribution for n elementsin sample size.\"\"\"\n",
    "    distri = None\n",
    "\n",
    "    if type==None:\n",
    "        return None\n",
    "\n",
    "    if type==\"normal\":\n",
    "        distri = np.random.normal(probability_parameters[\"mu\"], \n",
    "                                  probability_parameters[\"sigma\"], \n",
    "                                  size=sample_size)        \n",
    "\n",
    "    if type==\"pareto\":        \n",
    "        distri = (np.random.pareto(probability_parameters[\"alpha\"], sample_size) + 1) * probability_parameters[\"mu\"]        \n",
    "\n",
    "    if type==\"poisson\":\n",
    "        distri = np.random.poisson(probability_parameters[\"lam\"],\n",
    "                                   size=sample_size)        \n",
    "\n",
    "    if type==\"exponential\":\n",
    "        new_scale = 1 / probability_parameters[\"lam\"]\n",
    "        # Generate values for the x-axis\n",
    "        x = np.linspace(0, n, sample_size)\n",
    "        # Calculate the PDF with the new scale parameter\n",
    "        distri = expon.pdf(x, scale=new_scale)\n",
    "\n",
    "    if type==\"uniform\":\n",
    "        distri = np.random.uniform(probability_parameters[\"low\"],\n",
    "                                   probability_parameters[\"high\"],\n",
    "                                   size=sample_size)\n",
    "\n",
    "    count, _, _ = plt.hist(distri, n)  \n",
    "    return count/sample_size\n",
    "\n",
    "def add_unique_identifier(df, subset_columns):\n",
    "    # Obtener registros únicos\n",
    "    unique_records = df.drop_duplicates(subset=subset_columns).copy()\n",
    "\n",
    "    # Agregar un identificador único\n",
    "    unique_records['uname'] = range(1, len(unique_records) + 1)\n",
    "\n",
    "    # Fusionar los registros únicos con el dataframe original\n",
    "    result_df = pd.merge(df, unique_records, on=subset_columns, how='left')\n",
    "\n",
    "    return result_df\n",
    "\n",
    "def resize_distribution(prob_distribution, new_size):\n",
    "    \"\"\"\n",
    "    Resize the probability distribution to a new size using linear interpolation.\n",
    "\n",
    "    Parameters:\n",
    "    - prob_distribution (list): The original probability distribution.\n",
    "    - new_size (int): The desired size of the new probability distribution.\n",
    "\n",
    "    Returns:\n",
    "    - list: The resized probability distribution.\n",
    "    \"\"\"\n",
    "    old_size = len(prob_distribution)\n",
    "\n",
    "    # Create indices for the old and new arrays\n",
    "    old_indices = np.linspace(0, old_size - 1, old_size)\n",
    "    new_indices = np.linspace(0, old_size - 1, new_size)\n",
    "\n",
    "    # Use linear interpolation to resize the distribution\n",
    "    resized_distribution = np.interp(new_indices, old_indices, prob_distribution)\n",
    "\n",
    "    # Normalize the distribution to ensure it sums to 1\n",
    "    resized_distribution /= sum(resized_distribution)\n",
    "\n",
    "    return resized_distribution\n",
    "\n",
    "def get_sample_by_distribution(access_log, sample_size, prob_distri, class_name):\n",
    "    \"\"\" Sampling a dataframe based on a given distribution. \"\"\"\n",
    "    new_sample = pd.DataFrame() # Store all access requests\n",
    "    for i in prob_distri.iloc:    \n",
    "        temp = access_log[access_log[class_name]==i[0]]\n",
    "        n_samples = int(i[1]*sample_size) \n",
    "        if n_samples>0 and not temp.empty:            \n",
    "            temp = temp.sample(n=n_samples, replace=True)\n",
    "            new_sample = pd.concat([new_sample, temp])\n",
    "\n",
    "    return new_sample"
   ]
  },
  {
   "cell_type": "code",
   "execution_count": 14,
   "metadata": {},
   "outputs": [
    {
     "name": "stdout",
     "output_type": "stream",
     "text": [
      "Done!\n",
      "   uname  rname  rating       time\n",
      "0    196    242       3  881250949\n",
      "1    186    302       3  891717742\n",
      "2     22    377       1  878887116\n",
      "3    244     51       2  880606923\n",
      "4    166    346       1  886397596\n",
      "|L| =  100000\n"
     ]
    }
   ],
   "source": [
    "str_dataset = \"ML\"\n",
    "filename = \"../data/\"+str_dataset+\"/0-\"+str_dataset+\"-universal.csv\"\n",
    "\n",
    "acc_log = pd.read_csv(filename)\n",
    "\n",
    "# Remove first column (is the old index)\n",
    "if not str_dataset in [\"ML\"]:\n",
    "    acc_log = acc_log[acc_log.columns[1:]]\n",
    "\n",
    "# Change the uname string values to int values\n",
    "if not str_dataset in [\"AMZ\",\"ML\"]:\n",
    "    acc_log = acc_log.replace(acc_log.uname.unique(), range(len(acc_log.uname.unique())))\n",
    "\n",
    "# Change the resource id\n",
    "if not str_dataset in [\"UN\", \"PM\", \"AMZ\", \"ML\"]:\n",
    "    acc_log[\"rname\"] = acc_log[\"rname\"] + max(acc_log.uname.unique()) + 1\n",
    "\n",
    "print(\"Done!\")\n",
    "print(acc_log.head(5)) # Show the first five rows\n",
    "print(\"|L| = \", len(acc_log))\n",
    "# Delete some variables\n",
    "del filename"
   ]
  },
  {
   "cell_type": "code",
   "execution_count": 15,
   "metadata": {},
   "outputs": [
    {
     "name": "stdout",
     "output_type": "stream",
     "text": [
      "# users: 943 \t Head -> [196 186  22 244 166] \t tail ->  [939 936 930 920 941]\n",
      "# resources: 1682 \t Head -> [242 302 377  51 346] \t tail ->  [1674 1640 1637 1630 1641]\n",
      "Size of AL: \t 100000\n"
     ]
    },
    {
     "ename": "AttributeError",
     "evalue": "'DataFrame' object has no attribute 'ACTION'",
     "output_type": "error",
     "traceback": [
      "\u001b[1;31m---------------------------------------------------------------------------\u001b[0m",
      "\u001b[1;31mAttributeError\u001b[0m                            Traceback (most recent call last)",
      "\u001b[1;32m~\\AppData\\Local\\Temp\\ipykernel_12772\\1552316055.py\u001b[0m in \u001b[0;36m<module>\u001b[1;34m\u001b[0m\n\u001b[0;32m      6\u001b[0m \u001b[0mprint\u001b[0m\u001b[1;33m(\u001b[0m\u001b[1;34m\"# resources:\"\u001b[0m\u001b[1;33m,\u001b[0m \u001b[0mlen\u001b[0m\u001b[1;33m(\u001b[0m\u001b[0mrscs\u001b[0m\u001b[1;33m)\u001b[0m\u001b[1;33m,\u001b[0m \u001b[1;34m\"\\t Head ->\"\u001b[0m\u001b[1;33m,\u001b[0m \u001b[0mrscs\u001b[0m\u001b[1;33m[\u001b[0m\u001b[1;33m:\u001b[0m\u001b[1;36m5\u001b[0m\u001b[1;33m]\u001b[0m\u001b[1;33m,\u001b[0m \u001b[1;34m\"\\t tail -> \"\u001b[0m\u001b[1;33m,\u001b[0m \u001b[0mrscs\u001b[0m\u001b[1;33m[\u001b[0m\u001b[1;33m-\u001b[0m\u001b[1;36m5\u001b[0m\u001b[1;33m:\u001b[0m\u001b[1;33m]\u001b[0m\u001b[1;33m)\u001b[0m\u001b[1;33m\u001b[0m\u001b[1;33m\u001b[0m\u001b[0m\n\u001b[0;32m      7\u001b[0m \u001b[0mprint\u001b[0m\u001b[1;33m(\u001b[0m\u001b[1;34m\"Size of AL: \\t\"\u001b[0m\u001b[1;33m,\u001b[0m \u001b[0mlen\u001b[0m\u001b[1;33m(\u001b[0m\u001b[0macc_log\u001b[0m\u001b[1;33m)\u001b[0m\u001b[1;33m)\u001b[0m\u001b[1;33m\u001b[0m\u001b[1;33m\u001b[0m\u001b[0m\n\u001b[1;32m----> 8\u001b[1;33m \u001b[0mprint\u001b[0m\u001b[1;33m(\u001b[0m\u001b[1;34m\"Size of +AL: \\t\"\u001b[0m\u001b[1;33m,\u001b[0m\u001b[0mlen\u001b[0m\u001b[1;33m(\u001b[0m\u001b[0macc_log\u001b[0m\u001b[1;33m[\u001b[0m\u001b[0macc_log\u001b[0m\u001b[1;33m.\u001b[0m\u001b[0mACTION\u001b[0m\u001b[1;33m==\u001b[0m\u001b[1;36m1\u001b[0m\u001b[1;33m]\u001b[0m\u001b[1;33m)\u001b[0m\u001b[1;33m,\u001b[0m \u001b[1;33m(\u001b[0m\u001b[0mlen\u001b[0m\u001b[1;33m(\u001b[0m\u001b[0macc_log\u001b[0m\u001b[1;33m[\u001b[0m\u001b[0macc_log\u001b[0m\u001b[1;33m.\u001b[0m\u001b[0mACTION\u001b[0m\u001b[1;33m==\u001b[0m\u001b[1;36m1\u001b[0m\u001b[1;33m]\u001b[0m\u001b[1;33m)\u001b[0m\u001b[1;33m/\u001b[0m\u001b[0mlen\u001b[0m\u001b[1;33m(\u001b[0m\u001b[0macc_log\u001b[0m\u001b[1;33m)\u001b[0m\u001b[1;33m)\u001b[0m\u001b[1;33m*\u001b[0m\u001b[1;36m100\u001b[0m\u001b[1;33m)\u001b[0m\u001b[1;33m\u001b[0m\u001b[1;33m\u001b[0m\u001b[0m\n\u001b[0m\u001b[0;32m      9\u001b[0m \u001b[0mprint\u001b[0m\u001b[1;33m(\u001b[0m\u001b[1;34m\"Size of -AL: \\t\"\u001b[0m\u001b[1;33m,\u001b[0m\u001b[0mlen\u001b[0m\u001b[1;33m(\u001b[0m\u001b[0macc_log\u001b[0m\u001b[1;33m[\u001b[0m\u001b[0macc_log\u001b[0m\u001b[1;33m.\u001b[0m\u001b[0mACTION\u001b[0m\u001b[1;33m==\u001b[0m\u001b[1;36m0\u001b[0m\u001b[1;33m]\u001b[0m\u001b[1;33m)\u001b[0m\u001b[1;33m,\u001b[0m \u001b[1;33m(\u001b[0m\u001b[0mlen\u001b[0m\u001b[1;33m(\u001b[0m\u001b[0macc_log\u001b[0m\u001b[1;33m[\u001b[0m\u001b[0macc_log\u001b[0m\u001b[1;33m.\u001b[0m\u001b[0mACTION\u001b[0m\u001b[1;33m==\u001b[0m\u001b[1;36m0\u001b[0m\u001b[1;33m]\u001b[0m\u001b[1;33m)\u001b[0m\u001b[1;33m/\u001b[0m\u001b[0mlen\u001b[0m\u001b[1;33m(\u001b[0m\u001b[0macc_log\u001b[0m\u001b[1;33m)\u001b[0m\u001b[1;33m)\u001b[0m\u001b[1;33m*\u001b[0m\u001b[1;36m100\u001b[0m\u001b[1;33m)\u001b[0m\u001b[1;33m\u001b[0m\u001b[1;33m\u001b[0m\u001b[0m\n",
      "\u001b[1;32mc:\\Users\\danie\\anaconda3\\envs\\tesis_env\\lib\\site-packages\\pandas\\core\\generic.py\u001b[0m in \u001b[0;36m__getattr__\u001b[1;34m(self, name)\u001b[0m\n\u001b[0;32m   5485\u001b[0m         ):\n\u001b[0;32m   5486\u001b[0m             \u001b[1;32mreturn\u001b[0m \u001b[0mself\u001b[0m\u001b[1;33m[\u001b[0m\u001b[0mname\u001b[0m\u001b[1;33m]\u001b[0m\u001b[1;33m\u001b[0m\u001b[1;33m\u001b[0m\u001b[0m\n\u001b[1;32m-> 5487\u001b[1;33m         \u001b[1;32mreturn\u001b[0m \u001b[0mobject\u001b[0m\u001b[1;33m.\u001b[0m\u001b[0m__getattribute__\u001b[0m\u001b[1;33m(\u001b[0m\u001b[0mself\u001b[0m\u001b[1;33m,\u001b[0m \u001b[0mname\u001b[0m\u001b[1;33m)\u001b[0m\u001b[1;33m\u001b[0m\u001b[1;33m\u001b[0m\u001b[0m\n\u001b[0m\u001b[0;32m   5488\u001b[0m \u001b[1;33m\u001b[0m\u001b[0m\n\u001b[0;32m   5489\u001b[0m     \u001b[1;32mdef\u001b[0m \u001b[0m__setattr__\u001b[0m\u001b[1;33m(\u001b[0m\u001b[0mself\u001b[0m\u001b[1;33m,\u001b[0m \u001b[0mname\u001b[0m\u001b[1;33m:\u001b[0m \u001b[0mstr\u001b[0m\u001b[1;33m,\u001b[0m \u001b[0mvalue\u001b[0m\u001b[1;33m)\u001b[0m \u001b[1;33m->\u001b[0m \u001b[1;32mNone\u001b[0m\u001b[1;33m:\u001b[0m\u001b[1;33m\u001b[0m\u001b[1;33m\u001b[0m\u001b[0m\n",
      "\u001b[1;31mAttributeError\u001b[0m: 'DataFrame' object has no attribute 'ACTION'"
     ]
    }
   ],
   "source": [
    "### Properties\n",
    "\n",
    "users = acc_log.uname.unique()\n",
    "print(\"# users:\", len(users), \"\\t Head ->\", users[:5], \"\\t tail -> \", users[-5:])\n",
    "rscs = acc_log.rname.unique()\n",
    "print(\"# resources:\", len(rscs), \"\\t Head ->\", rscs[:5], \"\\t tail -> \", rscs[-5:])\n",
    "print(\"Size of AL: \\t\", len(acc_log))\n",
    "print(\"Size of +AL: \\t\",len(acc_log[acc_log.ACTION==1]), (len(acc_log[acc_log.ACTION==1])/len(acc_log))*100)\n",
    "print(\"Size of -AL: \\t\",len(acc_log[acc_log.ACTION==0]), (len(acc_log[acc_log.ACTION==0])/len(acc_log))*100)"
   ]
  },
  {
   "cell_type": "markdown",
   "metadata": {},
   "source": [
    "## AMZ Distribution"
   ]
  },
  {
   "cell_type": "code",
   "execution_count": 19,
   "metadata": {},
   "outputs": [
    {
     "name": "stdout",
     "output_type": "stream",
     "text": [
      "Done!\n",
      "   Unnamed: 0  ACTION  rname  MGR_ID  ROLE_ROLLUP_1  ROLE_ROLLUP_2  \\\n",
      "0           0       1  39353   85475         117961         118300   \n",
      "1           1       1  17183    1540         117961         118343   \n",
      "2           2       1  36724   14457         118219         118220   \n",
      "3           3       1  36135    5396         117961         118343   \n",
      "4           4       1  42680    5905         117929         117930   \n",
      "\n",
      "   ROLE_DEPTNAME  ROLE_TITLE  ROLE_FAMILY_DESC  ROLE_FAMILY  ROLE_CODE  uname  \n",
      "0         123472      117905            117906       290919     117908      1  \n",
      "1         123125      118536            118536       308574     118539      2  \n",
      "2         117884      117879            267952        19721     117880      3  \n",
      "3         119993      118321            240983       290919     118322      4  \n",
      "4         119569      119323            123932        19793     119325      5  \n"
     ]
    }
   ],
   "source": [
    "# Load ddata\n",
    "amz_al = pd.read_csv(\"../data/AMZ/0-AMZ-universal.csv\")\n",
    "\n",
    "print(\"Done!\")\n",
    "print(amz_al.head(5)) # Show the first five rows"
   ]
  },
  {
   "cell_type": "markdown",
   "metadata": {},
   "source": [
    "### Mapping Distribution"
   ]
  },
  {
   "cell_type": "code",
   "execution_count": 76,
   "metadata": {},
   "outputs": [
    {
     "name": "stdout",
     "output_type": "stream",
     "text": [
      "USERS\n",
      "Original Distribution: 9561\n",
      "Resized Distribution: 9561\n",
      "<class 'pandas.core.frame.DataFrame'>\n",
      "RangeIndex: 9561 entries, 0 to 9560\n",
      "Data columns (total 2 columns):\n",
      " #   Column  Non-Null Count  Dtype  \n",
      "---  ------  --------------  -----  \n",
      " 0   UID     9561 non-null   int64  \n",
      " 1   prob    9561 non-null   float64\n",
      "dtypes: float64(1), int64(1)\n",
      "memory usage: 149.5 KB\n",
      "None\n",
      "\n",
      "RESOURCES\n",
      "Original Distribution: 7518\n",
      "Resized Distribution: 7518\n",
      "<class 'pandas.core.frame.DataFrame'>\n",
      "RangeIndex: 7518 entries, 0 to 7517\n",
      "Data columns (total 2 columns):\n",
      " #   Column  Non-Null Count  Dtype  \n",
      "---  ------  --------------  -----  \n",
      " 0   RID     7518 non-null   int64  \n",
      " 1   prob    7518 non-null   float64\n",
      "dtypes: float64(1), int64(1)\n",
      "memory usage: 117.6 KB\n",
      "None\n"
     ]
    }
   ],
   "source": [
    "distribution_name = \"Rw\"\n",
    "\n",
    "### USERS DISTRIBUTION\n",
    "n_bins = len(users) # number of Users to map\n",
    "to_plot = amz_al[USER_ATTRS[\"AMZ\"]].value_counts(normalize=True, ascending=True)\n",
    "test = list(to_plot.values)\n",
    "resized_distribution = resize_distribution(test, n_bins)\n",
    "print(\"USERS\")\n",
    "print(\"Original Distribution:\", len(test))\n",
    "print(\"Resized Distribution:\", len(resized_distribution))\n",
    "user_prob_distri = pd.DataFrame({\"UID\": users, \"prob\": resized_distribution})\n",
    "print(user_prob_distri.info())\n",
    "\n",
    "### RESOURCES DISTRIBUTION\n",
    "n_bins = len(rscs) # Number of resources\n",
    "to_plot = amz_al[\"rname\"].value_counts(normalize=True, ascending=True)\n",
    "test = list(to_plot.values)\n",
    "resized_distribution = resize_distribution(test, n_bins)\n",
    "print(\"\\nRESOURCES\")\n",
    "print(\"Original Distribution:\", len(test))\n",
    "print(\"Resized Distribution:\", len(resized_distribution))\n",
    "res_prob_distri = pd.DataFrame({\"RID\": rscs, \"prob\": resized_distribution})\n",
    "print(res_prob_distri.info())"
   ]
  },
  {
   "cell_type": "markdown",
   "metadata": {},
   "source": [
    "## Others Distributions"
   ]
  },
  {
   "cell_type": "markdown",
   "metadata": {},
   "source": [
    "### Normal"
   ]
  },
  {
   "cell_type": "code",
   "execution_count": 92,
   "metadata": {},
   "outputs": [
    {
     "name": "stdout",
     "output_type": "stream",
     "text": [
      "Users Done!\n"
     ]
    },
    {
     "data": {
      "image/png": "[encoded data removed]",
      "text/plain": [
       "<Figure size 432x288 with 1 Axes>"
      ]
     },
     "metadata": {
      "needs_background": "light"
     },
     "output_type": "display_data"
    }
   ],
   "source": [
    "distribution_name = \"Nr\"\n",
    "\n",
    "proba_param = {\"mu\": 0, \"sigma\": 1}\n",
    "prob = get_probability_distribution(len(users), len(acc_log), proba_param, \"normal\")\n",
    "user_prob_distri = pd.DataFrame({\"UID\": users, \"prob\": prob})\n",
    "print(\"Users Done!\")"
   ]
  },
  {
   "cell_type": "code",
   "execution_count": 93,
   "metadata": {},
   "outputs": [
    {
     "name": "stdout",
     "output_type": "stream",
     "text": [
      "Resouces Done!\n"
     ]
    },
    {
     "data": {
      "image/png": "[encoded data removed]",
      "text/plain": [
       "<Figure size 432x288 with 1 Axes>"
      ]
     },
     "metadata": {
      "needs_background": "light"
     },
     "output_type": "display_data"
    }
   ],
   "source": [
    "proba_param = {\"mu\": 0, \"sigma\": 1}\n",
    "prob = get_probability_distribution(len(rscs), len(acc_log), proba_param, \"normal\")\n",
    "res_prob_distri = pd.DataFrame({\"UID\": rscs, \"prob\": prob})\n",
    "print(\"Resouces Done!\")"
   ]
  },
  {
   "cell_type": "markdown",
   "metadata": {},
   "source": [
    "### Poisson"
   ]
  },
  {
   "cell_type": "code",
   "execution_count": 17,
   "metadata": {},
   "outputs": [
    {
     "name": "stdout",
     "output_type": "stream",
     "text": [
      "Resources Done!\n"
     ]
    },
    {
     "data": {
      "image/png": "[encoded data removed]",
      "text/plain": [
       "<Figure size 432x288 with 1 Axes>"
      ]
     },
     "metadata": {
      "needs_background": "light"
     },
     "output_type": "display_data"
    }
   ],
   "source": [
    "distribution_name = \"Ps\"\n",
    "\n",
    "proba_param = {\"lam\": 3000}\n",
    "prob = get_probability_distribution(len(rscs), len(acc_log), proba_param, \"poisson\")\n",
    "res_prob_distri = pd.DataFrame({\"UID\": rscs, \"prob\": prob})\n",
    "print(\"Resources Done!\")"
   ]
  },
  {
   "cell_type": "code",
   "execution_count": 18,
   "metadata": {},
   "outputs": [
    {
     "name": "stdout",
     "output_type": "stream",
     "text": [
      "Done!\n"
     ]
    },
    {
     "data": {
      "image/png": "[encoded data removed]",
      "text/plain": [
       "<Figure size 432x288 with 1 Axes>"
      ]
     },
     "metadata": {
      "needs_background": "light"
     },
     "output_type": "display_data"
    }
   ],
   "source": [
    "proba_param = {\"lam\": 15}\n",
    "prob = get_probability_distribution(len(users), len(acc_log), proba_param, \"poisson\")\n",
    "user_prob_distri = pd.DataFrame({\"UID\": users, \"prob\": prob})\n",
    "print(\"Done!\")"
   ]
  },
  {
   "cell_type": "markdown",
   "metadata": {},
   "source": [
    "### Exponencial"
   ]
  },
  {
   "cell_type": "code",
   "execution_count": 20,
   "metadata": {},
   "outputs": [
    {
     "name": "stdout",
     "output_type": "stream",
     "text": [
      "Resources Done!\n"
     ]
    },
    {
     "data": {
      "image/png": "[encoded data removed]",
      "text/plain": [
       "<Figure size 432x288 with 1 Axes>"
      ]
     },
     "metadata": {
      "needs_background": "light"
     },
     "output_type": "display_data"
    }
   ],
   "source": [
    "distribution_name = \"Ex\"\n",
    "\n",
    "proba_param = {\"lam\": 0.002} # Cerca a la unidad mejor curvatura\n",
    "prob = get_probability_distribution(len(rscs), len(acc_log), proba_param, \"exponential\")\n",
    "res_prob_distri = pd.DataFrame({\"UID\": rscs, \"prob\": prob})\n",
    "print(\"Resources Done!\")"
   ]
  },
  {
   "cell_type": "code",
   "execution_count": 21,
   "metadata": {},
   "outputs": [
    {
     "name": "stdout",
     "output_type": "stream",
     "text": [
      "Done!\n"
     ]
    },
    {
     "data": {
      "image/png": "[encoded data removed]",
      "text/plain": [
       "<Figure size 432x288 with 1 Axes>"
      ]
     },
     "metadata": {
      "needs_background": "light"
     },
     "output_type": "display_data"
    }
   ],
   "source": [
    "proba_param = {\"lam\": 0.003}\n",
    "prob = get_probability_distribution(len(users), len(acc_log), proba_param, \"exponential\")\n",
    "user_prob_distri = pd.DataFrame({\"UID\": users, \"prob\": prob})\n",
    "print(\"Done!\")"
   ]
  },
  {
   "cell_type": "markdown",
   "metadata": {},
   "source": [
    "### Uniform"
   ]
  },
  {
   "cell_type": "code",
   "execution_count": 117,
   "metadata": {},
   "outputs": [
    {
     "name": "stdout",
     "output_type": "stream",
     "text": [
      "Resources Done!\n"
     ]
    },
    {
     "data": {
      "image/png": "[encoded data removed]",
      "text/plain": [
       "<Figure size 432x288 with 1 Axes>"
      ]
     },
     "metadata": {
      "needs_background": "light"
     },
     "output_type": "display_data"
    }
   ],
   "source": [
    "distribution_name = \"Un\"\n",
    "\n",
    "proba_param = {\"low\": 0, \"high\": len(rscs)}\n",
    "prob = get_probability_distribution(len(rscs), len(acc_log), proba_param, \"uniform\")\n",
    "res_prob_distri = pd.DataFrame({\"UID\": rscs, \"prob\": prob})\n",
    "print(\"Resources Done!\")"
   ]
  },
  {
   "cell_type": "code",
   "execution_count": 118,
   "metadata": {},
   "outputs": [
    {
     "name": "stdout",
     "output_type": "stream",
     "text": [
      "Done!\n"
     ]
    },
    {
     "data": {
      "image/png": "[encoded data removed]",
      "text/plain": [
       "<Figure size 432x288 with 1 Axes>"
      ]
     },
     "metadata": {
      "needs_background": "light"
     },
     "output_type": "display_data"
    }
   ],
   "source": [
    "proba_param = {\"low\": 0, \"high\": len(users)}\n",
    "prob = get_probability_distribution(len(users), len(acc_log), proba_param, \"uniform\")\n",
    "user_prob_distri = pd.DataFrame({\"UID\": users, \"prob\": prob})\n",
    "print(\"Done!\")"
   ]
  },
  {
   "cell_type": "markdown",
   "metadata": {},
   "source": [
    "## Creating distribution"
   ]
  },
  {
   "cell_type": "code",
   "execution_count": 84,
   "metadata": {},
   "outputs": [
    {
     "name": "stdout",
     "output_type": "stream",
     "text": [
      "<class 'pandas.core.frame.DataFrame'>\n",
      "RangeIndex: 200000 entries, 0 to 199999\n",
      "Data columns (total 4 columns):\n",
      " #   Column  Non-Null Count   Dtype\n",
      "---  ------  --------------   -----\n",
      " 0   uname   200000 non-null  int64\n",
      " 1   rname   200000 non-null  int64\n",
      " 2   rating  200000 non-null  int64\n",
      " 3   time    200000 non-null  int64\n",
      "dtypes: int64(4)\n",
      "memory usage: 6.1 MB\n"
     ]
    }
   ],
   "source": [
    "### Only for AMZ and ML dataset\n",
    "\n",
    "# We duplicate the access log\n",
    "alter_acc_log = acc_log.append(acc_log, ignore_index=True)\n",
    "alter_acc_log.info()"
   ]
  },
  {
   "cell_type": "code",
   "execution_count": 22,
   "metadata": {},
   "outputs": [
    {
     "name": "stdout",
     "output_type": "stream",
     "text": [
      "*** Res Done! ***\n",
      "*** Users Done! ***\n"
     ]
    }
   ],
   "source": [
    "# El que tenga más tamaño es el primero en ejecutarse.\n",
    "# Evitar demsaida pérdida de información\n",
    "\n",
    "if len(users) > len(rscs):\n",
    "    alter_acc_log = get_sample_by_distribution(acc_log, len(acc_log), user_prob_distri, \"uname\")\n",
    "    print(\"*** Users Done! ***\")\n",
    "    alter_acc_log = get_sample_by_distribution(alter_acc_log, len(alter_acc_log), res_prob_distri, \"rname\")\n",
    "    print(\"*** Res Done! ***\")\n",
    "else:\n",
    "    alter_acc_log = get_sample_by_distribution(acc_log, len(acc_log), res_prob_distri, \"rname\")\n",
    "    print(\"*** Res Done! ***\")\n",
    "    alter_acc_log = get_sample_by_distribution(alter_acc_log, len(alter_acc_log), user_prob_distri, \"uname\")\n",
    "    print(\"*** Users Done! ***\")"
   ]
  },
  {
   "cell_type": "code",
   "execution_count": 23,
   "metadata": {},
   "outputs": [
    {
     "name": "stdout",
     "output_type": "stream",
     "text": [
      "Number of users: \t 943\n",
      "Number of Resources: \t 1648\n",
      "Size of AL: \t 99057\n"
     ]
    },
    {
     "ename": "AttributeError",
     "evalue": "'DataFrame' object has no attribute 'ACTION'",
     "output_type": "error",
     "traceback": [
      "\u001b[1;31m---------------------------------------------------------------------------\u001b[0m",
      "\u001b[1;31mAttributeError\u001b[0m                            Traceback (most recent call last)",
      "\u001b[1;32m~\\AppData\\Local\\Temp\\ipykernel_12772\\3668788761.py\u001b[0m in \u001b[0;36m<module>\u001b[1;34m\u001b[0m\n\u001b[0;32m      4\u001b[0m \u001b[0mprint\u001b[0m\u001b[1;33m(\u001b[0m\u001b[1;34m\"Number of Resources: \\t\"\u001b[0m\u001b[1;33m,\u001b[0m \u001b[0mlen\u001b[0m\u001b[1;33m(\u001b[0m\u001b[0malter_acc_log\u001b[0m\u001b[1;33m.\u001b[0m\u001b[0mrname\u001b[0m\u001b[1;33m.\u001b[0m\u001b[0mdrop_duplicates\u001b[0m\u001b[1;33m(\u001b[0m\u001b[1;33m)\u001b[0m\u001b[1;33m)\u001b[0m\u001b[1;33m)\u001b[0m\u001b[1;33m\u001b[0m\u001b[1;33m\u001b[0m\u001b[0m\n\u001b[0;32m      5\u001b[0m \u001b[0mprint\u001b[0m\u001b[1;33m(\u001b[0m\u001b[1;34m\"Size of AL: \\t\"\u001b[0m\u001b[1;33m,\u001b[0m \u001b[0mlen\u001b[0m\u001b[1;33m(\u001b[0m\u001b[0malter_acc_log\u001b[0m\u001b[1;33m)\u001b[0m\u001b[1;33m)\u001b[0m\u001b[1;33m\u001b[0m\u001b[1;33m\u001b[0m\u001b[0m\n\u001b[1;32m----> 6\u001b[1;33m print(\"Size of +AL: \\t\",len(alter_acc_log[alter_acc_log.ACTION==1]),\n\u001b[0m\u001b[0;32m      7\u001b[0m       (len(alter_acc_log[alter_acc_log.ACTION==1])/len(alter_acc_log))*100)\n\u001b[0;32m      8\u001b[0m print(\"Size of -AL: \\t\",len(alter_acc_log[alter_acc_log.ACTION==0]),\n",
      "\u001b[1;32mc:\\Users\\danie\\anaconda3\\envs\\tesis_env\\lib\\site-packages\\pandas\\core\\generic.py\u001b[0m in \u001b[0;36m__getattr__\u001b[1;34m(self, name)\u001b[0m\n\u001b[0;32m   5485\u001b[0m         ):\n\u001b[0;32m   5486\u001b[0m             \u001b[1;32mreturn\u001b[0m \u001b[0mself\u001b[0m\u001b[1;33m[\u001b[0m\u001b[0mname\u001b[0m\u001b[1;33m]\u001b[0m\u001b[1;33m\u001b[0m\u001b[1;33m\u001b[0m\u001b[0m\n\u001b[1;32m-> 5487\u001b[1;33m         \u001b[1;32mreturn\u001b[0m \u001b[0mobject\u001b[0m\u001b[1;33m.\u001b[0m\u001b[0m__getattribute__\u001b[0m\u001b[1;33m(\u001b[0m\u001b[0mself\u001b[0m\u001b[1;33m,\u001b[0m \u001b[0mname\u001b[0m\u001b[1;33m)\u001b[0m\u001b[1;33m\u001b[0m\u001b[1;33m\u001b[0m\u001b[0m\n\u001b[0m\u001b[0;32m   5488\u001b[0m \u001b[1;33m\u001b[0m\u001b[0m\n\u001b[0;32m   5489\u001b[0m     \u001b[1;32mdef\u001b[0m \u001b[0m__setattr__\u001b[0m\u001b[1;33m(\u001b[0m\u001b[0mself\u001b[0m\u001b[1;33m,\u001b[0m \u001b[0mname\u001b[0m\u001b[1;33m:\u001b[0m \u001b[0mstr\u001b[0m\u001b[1;33m,\u001b[0m \u001b[0mvalue\u001b[0m\u001b[1;33m)\u001b[0m \u001b[1;33m->\u001b[0m \u001b[1;32mNone\u001b[0m\u001b[1;33m:\u001b[0m\u001b[1;33m\u001b[0m\u001b[1;33m\u001b[0m\u001b[0m\n",
      "\u001b[1;31mAttributeError\u001b[0m: 'DataFrame' object has no attribute 'ACTION'"
     ]
    }
   ],
   "source": [
    "#print(\"Number of users: \\t\", len(alter_acc_log[USER_ATTRS[str_dataset]].drop_duplicates()))\n",
    "print(\"Number of users: \\t\", len(alter_acc_log.uname.drop_duplicates()))\n",
    "#print(\"Number of Resources: \\t\", len(alter_acc_log[RES_ATTRS[str_dataset]].drop_duplicates()))\n",
    "print(\"Number of Resources: \\t\", len(alter_acc_log.rname.drop_duplicates()))\n",
    "print(\"Size of AL: \\t\", len(alter_acc_log))\n",
    "print(\"Size of +AL: \\t\",len(alter_acc_log[alter_acc_log.ACTION==1]),\n",
    "      (len(alter_acc_log[alter_acc_log.ACTION==1])/len(alter_acc_log))*100)\n",
    "print(\"Size of -AL: \\t\",len(alter_acc_log[alter_acc_log.ACTION==0]),\n",
    "      (len(alter_acc_log[alter_acc_log.ACTION==0])/len(alter_acc_log))*100)"
   ]
  },
  {
   "cell_type": "code",
   "execution_count": 24,
   "metadata": {},
   "outputs": [
    {
     "data": {
      "text/plain": [
       "('Ex', 'ML')"
      ]
     },
     "execution_count": 24,
     "metadata": {},
     "output_type": "execute_result"
    }
   ],
   "source": [
    "distribution_name, str_dataset"
   ]
  },
  {
   "cell_type": "code",
   "execution_count": 25,
   "metadata": {},
   "outputs": [],
   "source": [
    "### Save the access log\n",
    "#alter_acc_log.to_csv(\"../data/\"+str_dataset+\"/\"+str_dataset+\"-\"+distribution_name+\".csv\")\n",
    "alter_acc_log.to_csv(str_dataset+\"-\"+distribution_name+\".csv\")"
   ]
  },
  {
   "cell_type": "code",
   "execution_count": 13,
   "metadata": {},
   "outputs": [
    {
     "data": {
      "image/png": "[encoded data removed]",
      "text/plain": [
       "<Figure size 1008x360 with 2 Axes>"
      ]
     },
     "metadata": {
      "needs_background": "light"
     },
     "output_type": "display_data"
    }
   ],
   "source": [
    "fig, ax = plt.subplots(1,2,figsize=(14, 5))\n",
    "\n",
    "### USUERS (LEFT)\n",
    "ax[0].spines[['right', 'top']].set_visible(False)\n",
    "to_plot = alter_acc_log[\"uname\"].value_counts(normalize=True)\n",
    "ax[0].plot(range(len(to_plot)), to_plot)\n",
    "ax[0].set_xlabel('users $i$', loc=\"left\", size=\"large\")\n",
    "ax[0].set_ylabel('$P_k$', loc=\"top\", size=\"large\", parse_math=True)\n",
    "ax[0].yaxis.set_label_coords(-0.03,0.95)\n",
    "ax[0].set_title(\"User distribution.\", size=\"x-large\", x=0.5, y=1, parse_math=True)\n",
    "plt.suptitle(str_dataset+\" Access Log\", size=\"xx-large\", family='monospace', x=0.15, y=1)\n",
    "\n",
    "### RESOURCES (RIGHT)\n",
    "ax[1].spines[['right', 'top']].set_visible(False)\n",
    "to_plot = alter_acc_log[\"rname\"].value_counts(normalize=True)\n",
    "ax[1].plot(range(len(to_plot)), to_plot)\n",
    "ax[1].set_xlabel('resource $i$', loc=\"left\", size=\"large\")\n",
    "ax[1].set_ylabel('$P_k$', loc=\"top\", size=\"large\", parse_math=True)\n",
    "ax[1].yaxis.set_label_coords(-0.03,0.95)\n",
    "ax[1].set_title(\"Resource distribution.\", size=\"x-large\", x=0.5, y=1, parse_math=True)\n",
    "\n",
    "plt.suptitle(str_dataset+\" Access Log - \"+distribution_name, size=\"xx-large\", family='monospace', x=0.5, y=1)\n",
    "plt.show()"
   ]
  }
 ],
 "metadata": {
  "kernelspec": {
   "display_name": "tesis_env",
   "language": "python",
   "name": "python3"
  },
  "language_info": {
   "codemirror_mode": {
    "name": "ipython",
    "version": 3
   },
   "file_extension": ".py",
   "mimetype": "text/x-python",
   "name": "python",
   "nbconvert_exporter": "python",
   "pygments_lexer": "ipython3",
   "version": "3.7.13"
  }
 },
 "nbformat": 4,
 "nbformat_minor": 2
}
