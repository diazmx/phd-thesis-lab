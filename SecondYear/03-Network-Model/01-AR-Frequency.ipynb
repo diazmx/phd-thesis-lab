{
 "cells": [
  {
   "cell_type": "markdown",
   "metadata": {},
   "source": [
    "# Frequency analysis of the duplicated access requests.\n",
    "In this notebook, we analize the duplicated access requests in the access log.\n",
    "This property appear only in the synthetic access log. In the AMZ case study\n",
    "we don't find this property."
   ]
  },
  {
   "cell_type": "code",
   "execution_count": 1,
   "metadata": {},
   "outputs": [],
   "source": [
    "### Import libraries\n",
    "import numpy as np\n",
    "import pandas as pd\n",
    "%matplotlib inline\n",
    "import matplotlib.pyplot as plt\n",
    "import matplotlib as mpl\n",
    "from pathlib import Path\n"
   ]
  },
  {
   "cell_type": "code",
   "execution_count": 21,
   "metadata": {},
   "outputs": [
    {
     "name": "stdout",
     "output_type": "stream",
     "text": [
      "Access Log Loaded!\n",
      "<class 'pandas.core.frame.DataFrame'>\n",
      "RangeIndex: 153676 entries, 0 to 153675\n",
      "Data columns (total 14 columns):\n",
      " #   Column       Non-Null Count   Dtype \n",
      "---  ------       --------------   ----- \n",
      " 0   uname        153676 non-null  object\n",
      " 1   position     153676 non-null  object\n",
      " 2   uward        153676 non-null  object\n",
      " 3   specialties  153676 non-null  object\n",
      " 4   teams        153676 non-null  object\n",
      " 5   agentfor     153676 non-null  object\n",
      " 6   type         153676 non-null  object\n",
      " 7   author       153676 non-null  object\n",
      " 8   patient      153676 non-null  object\n",
      " 9   topics       153676 non-null  object\n",
      " 10  tratingTeam  153676 non-null  object\n",
      " 11  rward        153676 non-null  object\n",
      " 12  rname        153676 non-null  int64 \n",
      " 13  ACTION       153676 non-null  int64 \n",
      "dtypes: int64(2), object(12)\n",
      "memory usage: 16.4+ MB\n",
      "None\n"
     ]
    }
   ],
   "source": [
    "### Load data\n",
    "#filepath = \"../data/no-uniform/UN-Pareto-AMZ-universal.csv\"\n",
    "filepath = \"../data/no-uniform/HC-Normal-universal.csv\"\n",
    "acc_log = pd.read_csv(filepath)\n",
    "acc_log = acc_log[acc_log.columns[1:]]\n",
    "print(\"Access Log Loaded!\")\n",
    "print(acc_log.info())"
   ]
  },
  {
   "cell_type": "code",
   "execution_count": 22,
   "metadata": {},
   "outputs": [
    {
     "name": "stdout",
     "output_type": "stream",
     "text": [
      "# Access requests =  153676\n",
      "# Unique Access requests =  61614 (40.09%)\n",
      "Difference =  92062\n"
     ]
    }
   ],
   "source": [
    "### Number of duplicated access requests\n",
    "print(\"# Access requests = \", len(acc_log))\n",
    "print(\"# Unique Access requests = \", len(acc_log.drop_duplicates()), \n",
    "      \"({:.2f}%)\".format((len(acc_log.drop_duplicates())*100)/len(acc_log)))\n",
    "difference_acc_req = len(acc_log) - len(acc_log.drop_duplicates())\n",
    "print(\"Difference = \", difference_acc_req)"
   ]
  },
  {
   "cell_type": "code",
   "execution_count": 23,
   "metadata": {},
   "outputs": [
    {
     "data": {
      "image/png": "[encoded data removed]",
      "text/plain": [
       "<Figure size 720x432 with 1 Axes>"
      ]
     },
     "metadata": {
      "needs_background": "light"
     },
     "output_type": "display_data"
    }
   ],
   "source": [
    "### Selection only user-resource access requests\n",
    "\n",
    "fpath = Path(mpl.get_data_path(), \"C:\\\\Users\\\\danie\\\\AppData\\\\Local\\\\Microsoft\\\\Windows\\\\Fonts\\\\mulish-regular.ttf\")\n",
    "\n",
    "\n",
    "fig, ax = plt.subplots(figsize=(10, 6))\n",
    "ax.spines[['right', 'top']].set_visible(False)\n",
    "to_plot = acc_log.value_counts([\"uname\", \"rname\"])\n",
    "ax.plot(range(len(to_plot)), to_plot)\n",
    "ax.set_xlabel('Index Access Request', loc=\"left\", size=\"large\", font=fpath)\n",
    "ax.set_ylabel('$P_k$', loc=\"top\", size=\"large\", font=fpath, parse_math=True)\n",
    "ax.yaxis.set_label_coords(-0.03,0.95)\n",
    "ax.set_title(\"Distribution of access requests in $L$.\", size=\"xx-large\",  font=fpath, x=0.29, y=1, parse_math=True)\n",
    "plt.show()"
   ]
  },
  {
   "cell_type": "code",
   "execution_count": 5,
   "metadata": {},
   "outputs": [
    {
     "ename": "NameError",
     "evalue": "name 'Counter' is not defined",
     "output_type": "error",
     "traceback": [
      "\u001b[1;31m---------------------------------------------------------------------------\u001b[0m",
      "\u001b[1;31mNameError\u001b[0m                                 Traceback (most recent call last)",
      "\u001b[1;32m~\\AppData\\Local\\Temp\\ipykernel_4276\\1781870188.py\u001b[0m in \u001b[0;36m<module>\u001b[1;34m\u001b[0m\n\u001b[0;32m      1\u001b[0m \u001b[1;31m# from collections import Counter\u001b[0m\u001b[1;33m\u001b[0m\u001b[1;33m\u001b[0m\u001b[1;33m\u001b[0m\u001b[0m\n\u001b[1;32m----> 2\u001b[1;33m \u001b[0mto_plot2\u001b[0m \u001b[1;33m=\u001b[0m \u001b[0mCounter\u001b[0m\u001b[1;33m(\u001b[0m\u001b[0mlist\u001b[0m\u001b[1;33m(\u001b[0m\u001b[0mto_plot\u001b[0m\u001b[1;33m.\u001b[0m\u001b[0mvalues\u001b[0m\u001b[1;33m)\u001b[0m\u001b[1;33m)\u001b[0m\u001b[1;33m\u001b[0m\u001b[1;33m\u001b[0m\u001b[0m\n\u001b[0m\u001b[0;32m      3\u001b[0m \u001b[0mto_plot2\u001b[0m \u001b[1;33m=\u001b[0m \u001b[0mdict\u001b[0m\u001b[1;33m(\u001b[0m\u001b[0mto_plot2\u001b[0m\u001b[1;33m)\u001b[0m\u001b[1;33m\u001b[0m\u001b[1;33m\u001b[0m\u001b[0m\n\u001b[0;32m      4\u001b[0m \u001b[0mto_plot2\u001b[0m\u001b[1;33m\u001b[0m\u001b[1;33m\u001b[0m\u001b[0m\n",
      "\u001b[1;31mNameError\u001b[0m: name 'Counter' is not defined"
     ]
    }
   ],
   "source": [
    "# from collections import Counter\n",
    "to_plot2 = Counter(list(to_plot.values))\n",
    "to_plot2 = dict(to_plot2)\n",
    "to_plot2"
   ]
  },
  {
   "cell_type": "code",
   "execution_count": 76,
   "metadata": {},
   "outputs": [
    {
     "data": {
      "text/plain": [
       "(array([123.,  28.,   5.,   6.,   1.,   1.,   0.,   0.,   0.,   1.]),\n",
       " array([1.0000e+00, 1.4790e+02, 2.9480e+02, 4.4170e+02, 5.8860e+02,\n",
       "        7.3550e+02, 8.8240e+02, 1.0293e+03, 1.1762e+03, 1.3231e+03,\n",
       "        1.4700e+03]),\n",
       " <BarContainer object of 10 artists>)"
      ]
     },
     "execution_count": 76,
     "metadata": {},
     "output_type": "execute_result"
    },
    {
     "data": {
      "image/png": "[encoded data removed]",
      "text/plain": [
       "<Figure size 720x432 with 1 Axes>"
      ]
     },
     "metadata": {
      "needs_background": "light"
     },
     "output_type": "display_data"
    }
   ],
   "source": [
    "fig, ax = plt.subplots(figsize=(10, 6))\n",
    "ax.hist(to_plot2)"
   ]
  },
  {
   "cell_type": "code",
   "execution_count": 57,
   "metadata": {},
   "outputs": [
    {
     "data": {
      "text/plain": [
       "([<matplotlib.patches.Wedge at 0x27b401b2148>,\n",
       "  <matplotlib.patches.Wedge at 0x27b401c0848>,\n",
       "  <matplotlib.patches.Wedge at 0x27b401c8388>,\n",
       "  <matplotlib.patches.Wedge at 0x27b401c0f88>,\n",
       "  <matplotlib.patches.Wedge at 0x27b3ff92948>,\n",
       "  <matplotlib.patches.Wedge at 0x27b3ff9b508>,\n",
       "  <matplotlib.patches.Wedge at 0x27b3ff9bfc8>,\n",
       "  <matplotlib.patches.Wedge at 0x27b3ffa4b08>,\n",
       "  <matplotlib.patches.Wedge at 0x27b3ff92908>,\n",
       "  <matplotlib.patches.Wedge at 0x27b3ff9b4c8>],\n",
       " [Text(1.099999999391374, 3.659203734134094e-05, '11'),\n",
       "  Text(1.0999999507012983, 0.0003293283186410189, '9'),\n",
       "  Text(1.0999985977260371, 0.001756417021207093, '8'),\n",
       "  Text(1.0999598011065734, 0.009404039003928716, '7'),\n",
       "  Text(1.0993656042926456, 0.03735328765003709, '6'),\n",
       "  Text(1.0921128842480075, 0.13148934580223082, '5'),\n",
       "  Text(1.0247991974502633, 0.3997331671318963, '4'),\n",
       "  Text(0.5828077596487207, 0.9329175286665158, '3'),\n",
       "  Text(-0.7978362369704319, 0.7572696606737003, '2'),\n",
       "  Text(0.08561190497115823, -1.0966633949062081, '1')],\n",
       " [Text(0.5999999996680221, 1.9959293095276873e-05, '0.0%'),\n",
       "  Text(0.599999973109799, 0.00017963362834964665, '0.0%'),\n",
       "  Text(0.5999992351232929, 0.0009580456479311416, '0.0%'),\n",
       "  Text(0.5999780733308582, 0.005129475820324753, '0.2%'),\n",
       "  Text(0.5996539659778066, 0.020374520536383865, '0.6%'),\n",
       "  Text(0.5956979368625495, 0.07172146134667134, '2.1%'),\n",
       "  Text(0.5589813804274163, 0.21803627298103434, '5.9%'),\n",
       "  Text(0.31789514162657484, 0.5088641065453722, '14.5%'),\n",
       "  Text(-0.4351834019838719, 0.413056178549291, '29.1%'),\n",
       "  Text(0.046697402711540846, -0.5981800335852043, '47.5%')])"
      ]
     },
     "execution_count": 57,
     "metadata": {},
     "output_type": "execute_result"
    },
    {
     "data": {
      "image/png": "[encoded data removed]",
      "text/plain": [
       "<Figure size 720x432 with 1 Axes>"
      ]
     },
     "metadata": {},
     "output_type": "display_data"
    }
   ],
   "source": [
    "# AX-1\n",
    "fig, ax = plt.subplots(figsize=(10, 6))\n",
    "ax.set_title(\"TEST \", font=fpath)\n",
    "labels_ = list(to_plot2.keys())\n",
    "data_ = list(to_plot2.values())\n",
    "ax.pie(data_, labels=labels_, autopct='%1.1f%%')"
   ]
  }
 ],
 "metadata": {
  "kernelspec": {
   "display_name": "tesis_env",
   "language": "python",
   "name": "python3"
  },
  "language_info": {
   "codemirror_mode": {
    "name": "ipython",
    "version": 3
   },
   "file_extension": ".py",
   "mimetype": "text/x-python",
   "name": "python",
   "nbconvert_exporter": "python",
   "pygments_lexer": "ipython3",
   "version": "3.7.13"
  }
 },
 "nbformat": 4,
 "nbformat_minor": 2
}
