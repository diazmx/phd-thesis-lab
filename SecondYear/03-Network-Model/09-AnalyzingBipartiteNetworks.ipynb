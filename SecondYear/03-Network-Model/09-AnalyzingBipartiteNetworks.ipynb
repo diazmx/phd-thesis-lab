{
 "cells": [
  {
   "cell_type": "markdown",
   "metadata": {},
   "source": [
    "# Analyzing networks model"
   ]
  },
  {
   "cell_type": "code",
   "execution_count": 1,
   "metadata": {},
   "outputs": [],
   "source": [
    "### import libraries\n",
    "\n",
    "import pandas as pd\n",
    "import igraph as ig\n",
    "import numpy as np\n",
    "import matplotlib.pyplot as plt"
   ]
  },
  {
   "cell_type": "code",
   "execution_count": 2,
   "metadata": {},
   "outputs": [],
   "source": [
    "### User and resource attributes for each dataset\n",
    "\n",
    "DS_ID = \"IoT\" # Availables => user_attributes.keys()\n",
    "# OUT_FILE = open(DS_ID+\".output\", \"w\") # File to save the outputs\n",
    "\n",
    "USER_ATTRS = {\"IoT\": [\"role\", \"age\", \"health\", \"uname\"],\n",
    "              \"AMZ\": [\"MGR_ID\",\"ROLE_ROLLUP_1\",\"ROLE_ROLLUP_2\",\"ROLE_DEPTNAME\",\"ROLE_TITLE\",\"ROLE_FAMILY_DESC\",\"ROLE_FAMILY\",\"ROLE_CODE\"],\n",
    "              \"HC\": [\"position\", \"uward\", \"specialties\", \"teams\", \"agentfor\", \"uname\"],\n",
    "              \"UN\": [\"position\",\"departmentu\",\"crsTaken\",\"crsTaught\",\"isChair\", \"uname\"],\n",
    "              \"PM\": [\"adminroles\",\"projects\",\"departmentu\",\"projectsled\",\"expertiseu\",\"isemployee\",\"task\",\"uname\"]}\n",
    "\n",
    "RES_ATTRS = {\"IoT\": [\"area\", \"mode\", \"temperature\", \"lockstatus\", \"rname\"],\n",
    "             \"AMZ\":[\"RID\"],\n",
    "             \"HC\": [\"type\", \"author\", \"patient\", \"topics\", \"tratingTeam\", \"rward\", \"rname\"],\n",
    "             \"UN\": [\"type\",\"student\",\"departmentr\",\"csr\", \"rname\"],\n",
    "             \"PM\": [\"type\",\"project\",\"department\",\"expertise\",\"proprietary\", \"rname\"]}\n",
    "\n",
    "EDG_ATTRS = {\"IoT\": [\"uname\", \"rname\", \"location\", \"timeday\", \"op\", \"ACTION\"],\n",
    "             \"AMZ\": [\"uname\", \"rname\"],\n",
    "             \"HC\": [\"uname\", \"rname\"],\n",
    "             \"UN\":[\"uname\", \"rname\"],\n",
    "             \"PM\":[\"uname\", \"rname\"]}\n",
    "\n",
    "def get_probability_distribution(n, sample_size, probability_parameters, type=\"normal\",):\n",
    "    \"\"\" Get the probability distribution for n elementsin sample size.\"\"\"\n",
    "    distri = None\n",
    "\n",
    "    if type==None:\n",
    "        return None\n",
    "\n",
    "    if type==\"normal\":\n",
    "        distri = np.random.normal(probability_parameters[\"mu\"], \n",
    "                                  probability_parameters[\"sigma\"], \n",
    "                                  size=sample_size)        \n",
    "\n",
    "    if type==\"pareto\":        \n",
    "        distri = (np.random.pareto(probability_parameters[\"alpha\"], sample_size) + 1) * probability_parameters[\"mu\"]        \n",
    "\n",
    "    if type==\"poisson\":\n",
    "        distri = np.random.poisson(probability_parameters[\"lam\"],\n",
    "                                   size=sample_size)        \n",
    "\n",
    "    if type==\"exponential\":\n",
    "        new_scale = 1 / probability_parameters[\"lam\"]\n",
    "        # Generate values for the x-axis\n",
    "        x = np.linspace(0, n, sample_size)\n",
    "        # Calculate the PDF with the new scale parameter\n",
    "        distri = expon.pdf(x, scale=new_scale)\n",
    "\n",
    "    if type==\"uniform\":\n",
    "        distri = np.random.uniform(probability_parameters[\"low\"],\n",
    "                                   probability_parameters[\"high\"],\n",
    "                                   size=sample_size)\n",
    "\n",
    "    count, _, _ = plt.hist(distri, n)  \n",
    "    return count/sample_size\n",
    "\n",
    "def get_sample_by_distribution(access_log, sample_size, prob_distri, class_name):\n",
    "    \"\"\" Sampling a dataframe based on a given distribution. \"\"\"\n",
    "    new_sample = pd.DataFrame() # Store all access requests\n",
    "    for i in prob_distri.iloc:\n",
    "        temp = access_log[access_log[class_name]==i[0]]\n",
    "        n_samples = int(i[1]*sample_size)        \n",
    "        temp = temp.sample(n=n_samples, replace=True)\n",
    "        new_sample = pd.concat([new_sample, temp])\n",
    "\n",
    "    return new_sample"
   ]
  },
  {
   "cell_type": "code",
   "execution_count": 19,
   "metadata": {},
   "outputs": [
    {
     "name": "stdout",
     "output_type": "stream",
     "text": [
      "Done!\n",
      "   uname position    uward specialties teams agentfor type  author  patient  \\\n",
      "0      0    nurse  oncward        None  None     None   HR       3       27   \n",
      "1      0    nurse  oncward        None  None     None   HR      21       27   \n",
      "2      0    nurse  oncward        None  None     None   HR      22       28   \n",
      "3      1    nurse  carward        None  None     None   HR       9       27   \n",
      "4      1    nurse  carward        None  None     None   HR      15       28   \n",
      "\n",
      "       topics tratingTeam    rward  rname  ACTION  \n",
      "0        note    oncTeam2  carward   2801       0  \n",
      "1  cardiology    oncTeam1  carward   4255       0  \n",
      "2        none    carTeam2  carward   4373       0  \n",
      "3        none    carTeam2  carward   3293       1  \n",
      "4    oncology    oncTeam1  carward   3783       1  \n",
      "153723\n"
     ]
    }
   ],
   "source": [
    "str_dataset = \"HC\"\n",
    "type_al = \"Ps\"\n",
    "filename = \"../data/\"+str_dataset+\"/\"+str_dataset+\"-\"+type_al+\".csv\"\n",
    "\n",
    "acc_log = pd.read_csv(filename)\n",
    "\n",
    "# Remove first column (is the old index)\n",
    "acc_log = acc_log[acc_log.columns[1:]]\n",
    "\n",
    "# Change the uname string values to int values\n",
    "if not str_dataset in [\"AMZ\",\"ML\", \"UN\", \"PM\", \"IoT\"]:\n",
    "    acc_log = acc_log.replace(acc_log.uname.unique(), range(len(acc_log.uname.unique())))\n",
    "\n",
    "# Change the resource id\n",
    "if not str_dataset in [\"UN\", \"PM\", \"AMZ\", \"ML\", \"IoT\"]:\n",
    "    acc_log[\"rname\"] = acc_log[\"rname\"] + max(acc_log.uname.unique()) + 1\n",
    "\n",
    "print(\"Done!\")\n",
    "print(acc_log.head(5)) # Show the first five rows\n",
    "print(len(acc_log))\n",
    "\n",
    "# Delete some variables\n",
    "del filename"
   ]
  },
  {
   "cell_type": "code",
   "execution_count": 20,
   "metadata": {},
   "outputs": [
    {
     "name": "stdout",
     "output_type": "stream",
     "text": [
      "|L+| 24842\n",
      "Elementos repetidos 23877\n",
      "Elementos únicos 965\n",
      "\n",
      "MAX FREQ 0.00587714354721842\n",
      "MIN FREQ 4.025440785766042e-05\n",
      "\n",
      "IGRAPH UNWT 341 965 -- \n",
      "+ attr: name (v), type (v), weight (e)\n",
      "30 311\n",
      "It is bipartite!\n"
     ]
    }
   ],
   "source": [
    "### Generate biparite graph\n",
    "\n",
    "pos_acc_reqs = True # Selection to generate a ngative bipartite network\n",
    "\n",
    "if str_dataset == \"ML\":\n",
    "        acc_log_sub = acc_log\n",
    "else:\n",
    "    if pos_acc_reqs:\n",
    "        acc_log_sub = acc_log[acc_log.ACTION == 1]\n",
    "    else:\n",
    "        acc_log_sub = acc_log[acc_log.ACTION == 0]\n",
    "\n",
    "acc_log_freq = acc_log_sub.value_counts([\"uname\", \"rname\"], normalize=True)\n",
    "test = pd.DataFrame(list(acc_log_freq.keys()), columns=[\"uname\", \"rname\"])\n",
    "\n",
    "if pos_acc_reqs:\n",
    "    print(\"|L+|\", len(acc_log_sub))\n",
    "else:\n",
    "    print(\"|L-|\", len(acc_log_sub))\n",
    "\n",
    "print(\"Elementos repetidos\", len(acc_log_sub) - len(test))\n",
    "print(\"Elementos únicos\",len(test))\n",
    "print()\n",
    "test[\"weight\"] = acc_log_freq.values\n",
    "print(\"MAX FREQ\", max(test[\"weight\"]))\n",
    "print(\"MIN FREQ\", min(test[\"weight\"]))\n",
    "print()\n",
    "# Iteration over tuples in the dataframe\n",
    "tuple_list = test.itertuples(index=False)\n",
    "\n",
    "# Using the TupleList method to build the network\n",
    "bip_network = ig.Graph.TupleList(tuple_list, directed=False,\n",
    "                                 edge_attrs=test.columns[2:].tolist())\n",
    "\n",
    "### Add user attributes\n",
    "\n",
    "# Add type of node:     0=User      1=Resource\n",
    "user_nodes = bip_network.vs.select(name_in=acc_log.uname.unique())\n",
    "resource_nodes = bip_network.vs.select(name_in=acc_log.rname.unique())\n",
    "user_nodes[\"type\"] = 0\n",
    "resource_nodes[\"type\"] = 1\n",
    "\n",
    "# Remove objecto to free memory\n",
    "#del user_nodes, resource_nodes\n",
    "\n",
    "print(bip_network.summary())\n",
    "print(len(user_nodes), len(resource_nodes))\n",
    "\n",
    "# Check if it is a bipartite network\n",
    "if bip_network.is_bipartite():\n",
    "    print(\"It is bipartite!\")\n",
    "else:\n",
    "    print(\"The network is not bipartite.\")"
   ]
  },
  {
   "cell_type": "code",
   "execution_count": 21,
   "metadata": {},
   "outputs": [],
   "source": [
    "for i in bip_network.vs():\n",
    "    i[\"name\"] = str(i[\"name\"])"
   ]
  },
  {
   "cell_type": "code",
   "execution_count": 22,
   "metadata": {},
   "outputs": [
    {
     "name": "stdout",
     "output_type": "stream",
     "text": [
      "[0.12354077771515978, 0.010023347556557443, 0.009580549070123177, 0.1230577248208679, 0.010667418082280009]\n"
     ]
    }
   ],
   "source": [
    "graph = bip_network\n",
    "\n",
    "# Inicializar el atributo \"ranking\" de los nodos\n",
    "graph.vs[\"ranking\"] = 0.0\n",
    "\n",
    "# Calcular la suma de los pesos de las aristasS adyacentes para cada nodo\n",
    "#for node in graph.vs:\n",
    "for node in user_nodes:\n",
    "    neighbors = graph.neighbors(node.index)\n",
    "    total_weight = sum(graph.es[edge][\"weight\"] for edge in graph.incident(node.index))\n",
    "    node[\"ranking\"] = total_weight\n",
    "\n",
    "for node in resource_nodes:\n",
    "    neighbors = graph.neighbors(node.index)\n",
    "    total_weight = sum(graph.es[edge][\"weight\"] for edge in graph.incident(node.index))\n",
    "    node[\"ranking\"] = total_weight\n",
    "print(graph.vs[\"ranking\"][:5])\n",
    "\n",
    "if pos_acc_reqs:\n",
    "    bip_network.write(\"binet-\"+str_dataset+\"-\"+type_al+\".gml\")\n",
    "else:\n",
    "    bip_network.write(\"binet-\"+str_dataset+\"-\"+type_al+\"-NEG.gml\")"
   ]
  },
  {
   "cell_type": "code",
   "execution_count": null,
   "metadata": {},
   "outputs": [],
   "source": []
  },
  {
   "cell_type": "code",
   "execution_count": 11,
   "metadata": {},
   "outputs": [
    {
     "data": {
      "image/png": "[encoded data removed]",
      "text/plain": [
       "<Figure size 360x360 with 1 Axes>"
      ]
     },
     "metadata": {
      "needs_background": "light"
     },
     "output_type": "display_data"
    }
   ],
   "source": [
    "fig, ax = plt.subplots(figsize=(5, 5))\n",
    "#ax.loglog()\n",
    "ax.spines[['right', 'top']].set_visible(False)\n",
    "ax.plot(range(len(user_nodes)), user_nodes[\"ranking\"])\n",
    "# ax.plot(range(max_degree), test, ls=\"--\")\n",
    "ax.set_xlabel('Degree $k$', loc=\"left\", size=\"large\", family='monospace', alpha=0.5, parse_math=True)\n",
    "ax.set_ylabel('$P_k$', loc=\"top\", size=\"large\", family='monospace',  alpha=0.5,\n",
    "               parse_math=True)\n",
    "ax.yaxis.set_label_coords(-0.1,0.95)\n",
    "ax.set_title(\"Linear Binning - Ranking Usuarios\", loc='left', size=\"x-large\", family='monospace', x=-0.15, y=1, alpha=0.5)\n",
    "plt.suptitle(\"Degree Distribution\", size=\"xx-large\", family='monospace', x=0.28, y=1)\n",
    "plt.show()"
   ]
  },
  {
   "cell_type": "code",
   "execution_count": 12,
   "metadata": {},
   "outputs": [
    {
     "data": {
      "image/png": "[encoded data removed]",
      "text/plain": [
       "<Figure size 360x360 with 1 Axes>"
      ]
     },
     "metadata": {
      "needs_background": "light"
     },
     "output_type": "display_data"
    }
   ],
   "source": [
    "fig, ax = plt.subplots(figsize=(5, 5))\n",
    "#ax.loglog()\n",
    "ax.spines[['right', 'top']].set_visible(False)\n",
    "ax.plot(range(len(resource_nodes)), resource_nodes[\"ranking\"])\n",
    "# ax.plot(range(max_degree), test, ls=\"--\")\n",
    "ax.set_xlabel('Degree $k$', loc=\"left\", size=\"large\", family='monospace', alpha=0.5, parse_math=True)\n",
    "ax.set_ylabel('$P_k$', loc=\"top\", size=\"large\", family='monospace',  alpha=0.5,\n",
    "               parse_math=True)\n",
    "ax.yaxis.set_label_coords(-0.1,0.95)\n",
    "ax.set_title(\"Linear Binning - Ranking Recursos\", loc='left', size=\"x-large\", family='monospace', x=-0.15, y=1, alpha=0.5)\n",
    "plt.suptitle(\"Degree Distribution\", size=\"xx-large\", family='monospace', x=0.28, y=1)\n",
    "plt.show()"
   ]
  },
  {
   "cell_type": "code",
   "execution_count": 21,
   "metadata": {},
   "outputs": [
    {
     "name": "stdout",
     "output_type": "stream",
     "text": [
      "Información del Grafo:\n",
      "IGRAPH UNWT 987 605 -- \n",
      "+ attr: name (v), ranking (v), type (v), weight (e)\n",
      "\n",
      "Métricas del Grafo:\n",
      "Número de nodos: 987\n",
      "Número de aristas: 605\n",
      "Grado promedio: 1.2259371833839907\n",
      "Peso de Grado promedio:  0.0016528925619834726\n",
      "Degree distribution\n",
      "Densidad: 0.0012433439993752452\n",
      "Diámetro del grafo: 8\n",
      "Average path lenght: 1.6623255813953488\n",
      "Componentes conectados: 383\n",
      "Coeficiente de asortatividad: -0.15359727983545166\n"
     ]
    }
   ],
   "source": [
    "# Imprimir información básica del grafo\n",
    "print(\"Información del Grafo:\")\n",
    "print(graph.summary())\n",
    "\n",
    "# Obtener y mostrar métricas del grafo\n",
    "print(\"\\nMétricas del Grafo:\")\n",
    "print(f\"Número de nodos: {graph.vcount()}\")\n",
    "print(f\"Número de aristas: {graph.ecount()}\")\n",
    "print(f\"Grado promedio: {ig.mean(graph.degree())}\")\n",
    "print(\"Peso de Grado promedio: \", ig.mean(graph.es[\"weight\"]))\n",
    "print(\"Degree distribution\")\n",
    "print(f\"Densidad: {graph.density()}\")\n",
    "print(f\"Diámetro del grafo: {graph.diameter()}\")\n",
    "print(f\"Average path lenght: {graph.average_path_length()}\")\n",
    "print(f\"Componentes conectados: {len(graph.components().subgraphs())}\")\n",
    "#print(f\"Coeficiente de clustering: {graph.transitivity_undirected()}\")\n",
    "print(f\"Coeficiente de asortatividad: {graph.assortativity_degree()}\")"
   ]
  },
  {
   "cell_type": "code",
   "execution_count": 225,
   "metadata": {},
   "outputs": [
    {
     "name": "stderr",
     "output_type": "stream",
     "text": [
      "c:\\Users\\danie\\anaconda3\\envs\\tesis_env\\lib\\site-packages\\ipykernel_launcher.py:11: RuntimeWarning: divide by zero encountered in power\n",
      "  # This is added back by InteractiveShellApp.init_path()\n"
     ]
    }
   ],
   "source": [
    "max_degree = max(graph.degree())\n",
    "\n",
    "degree_list = np.zeros(max_degree, dtype=int)\n",
    "\n",
    "for node in graph.vs():\n",
    "    degree_list[node.degree()-1] = (degree_list[node.degree()-1] + 1)\n",
    "\n",
    "degree_list = degree_list / graph.vcount()\n",
    "result = ig.power_law_fit(graph.degree())\n",
    "test = np.arange(max_degree)\n",
    "test = test ** -result.alpha"
   ]
  },
  {
   "cell_type": "code",
   "execution_count": 1,
   "metadata": {},
   "outputs": [
    {
     "ename": "NameError",
     "evalue": "name 'plt' is not defined",
     "output_type": "error",
     "traceback": [
      "\u001b[1;31m---------------------------------------------------------------------------\u001b[0m",
      "\u001b[1;31mNameError\u001b[0m                                 Traceback (most recent call last)",
      "\u001b[1;32m~\\AppData\\Local\\Temp\\ipykernel_5352\\2559790213.py\u001b[0m in \u001b[0;36m<module>\u001b[1;34m\u001b[0m\n\u001b[1;32m----> 1\u001b[1;33m \u001b[0mfig\u001b[0m\u001b[1;33m,\u001b[0m \u001b[0max\u001b[0m \u001b[1;33m=\u001b[0m \u001b[0mplt\u001b[0m\u001b[1;33m.\u001b[0m\u001b[0msubplots\u001b[0m\u001b[1;33m(\u001b[0m\u001b[0mfigsize\u001b[0m\u001b[1;33m=\u001b[0m\u001b[1;33m(\u001b[0m\u001b[1;36m5\u001b[0m\u001b[1;33m,\u001b[0m \u001b[1;36m5\u001b[0m\u001b[1;33m)\u001b[0m\u001b[1;33m)\u001b[0m\u001b[1;33m\u001b[0m\u001b[1;33m\u001b[0m\u001b[0m\n\u001b[0m\u001b[0;32m      2\u001b[0m \u001b[0max\u001b[0m\u001b[1;33m.\u001b[0m\u001b[0mloglog\u001b[0m\u001b[1;33m(\u001b[0m\u001b[1;33m)\u001b[0m\u001b[1;33m\u001b[0m\u001b[1;33m\u001b[0m\u001b[0m\n\u001b[0;32m      3\u001b[0m \u001b[0max\u001b[0m\u001b[1;33m.\u001b[0m\u001b[0mspines\u001b[0m\u001b[1;33m[\u001b[0m\u001b[1;33m[\u001b[0m\u001b[1;34m'right'\u001b[0m\u001b[1;33m,\u001b[0m \u001b[1;34m'top'\u001b[0m\u001b[1;33m]\u001b[0m\u001b[1;33m]\u001b[0m\u001b[1;33m.\u001b[0m\u001b[0mset_visible\u001b[0m\u001b[1;33m(\u001b[0m\u001b[1;32mFalse\u001b[0m\u001b[1;33m)\u001b[0m\u001b[1;33m\u001b[0m\u001b[1;33m\u001b[0m\u001b[0m\n\u001b[0;32m      4\u001b[0m \u001b[0max\u001b[0m\u001b[1;33m.\u001b[0m\u001b[0mplot\u001b[0m\u001b[1;33m(\u001b[0m\u001b[0mrange\u001b[0m\u001b[1;33m(\u001b[0m\u001b[0mmax_degree\u001b[0m\u001b[1;33m)\u001b[0m\u001b[1;33m,\u001b[0m \u001b[0mdegree_list\u001b[0m\u001b[1;33m,\u001b[0m \u001b[1;34m\"o\"\u001b[0m\u001b[1;33m,\u001b[0m \u001b[0mls\u001b[0m\u001b[1;33m=\u001b[0m\u001b[1;34m'None'\u001b[0m\u001b[1;33m)\u001b[0m\u001b[1;33m\u001b[0m\u001b[1;33m\u001b[0m\u001b[0m\n\u001b[0;32m      5\u001b[0m \u001b[1;31m# ax.plot(range(max_degree), test, ls=\"--\")\u001b[0m\u001b[1;33m\u001b[0m\u001b[1;33m\u001b[0m\u001b[1;33m\u001b[0m\u001b[0m\n",
      "\u001b[1;31mNameError\u001b[0m: name 'plt' is not defined"
     ]
    }
   ],
   "source": [
    "fig, ax = plt.subplots(figsize=(5, 5))\n",
    "ax.loglog()\n",
    "ax.spines[['right', 'top']].set_visible(False)\n",
    "ax.plot(range(max_degree), degree_list, \"o\", ls='None')\n",
    "# ax.plot(range(max_degree), test, ls=\"--\")\n",
    "ax.set_xlabel('Degree $k$', loc=\"left\", size=\"large\", family='monospace', alpha=0.5, parse_math=True)\n",
    "ax.set_ylabel('$P_k$', loc=\"top\", size=\"large\", family='monospace',  alpha=0.5,\n",
    "               parse_math=True)\n",
    "ax.yaxis.set_label_coords(-0.1,0.95)\n",
    "ax.set_title(\"Linear Binning - \"+str_dataset+\".\"+type_al, loc='left', size=\"x-large\", family='monospace', x=-0.15, y=1, alpha=0.5)\n",
    "plt.suptitle(\"Degree Distribution\", size=\"xx-large\", family='monospace', x=0.28, y=1)\n",
    "plt.show()"
   ]
  },
  {
   "cell_type": "markdown",
   "metadata": {},
   "source": [
    "# Ruido"
   ]
  },
  {
   "cell_type": "code",
   "execution_count": 101,
   "metadata": {},
   "outputs": [],
   "source": [
    "from sklearn.model_selection import StratifiedShuffleSplit"
   ]
  },
  {
   "cell_type": "code",
   "execution_count": 106,
   "metadata": {},
   "outputs": [],
   "source": [
    "### Noisy Generation\n",
    "\n",
    "def get_noisy_al(access_log, fraction, random_state=None, previous_al=None):\n",
    "    \"\"\" Compute the noisy access log (NAL) version. \"\"\"\n",
    "    acc_log = access_log\n",
    "    acc_log[\"flag\"] = 0\n",
    "    \n",
    "    if isinstance(previous_al, pd.DataFrame): # idk\n",
    "        acc_log = previous_al\n",
    "\n",
    "    noysi_al = None\n",
    "    \n",
    "    if random_state != None:\n",
    "        noisy_separation = StratifiedShuffleSplit(n_splits = 1,\n",
    "                                                    train_size = 1-fraction,\n",
    "                                                    random_state = random_state)        \n",
    "    else:\n",
    "        noisy_separation = StratifiedShuffleSplit(n_splits = 1,\n",
    "                                                    train_size = 1-fraction)        \n",
    "    \n",
    "    noisy_acc_log_selection = noisy_separation.split(acc_log, acc_log.ACTION)\n",
    "                    \n",
    "    noisy_acc_req = None\n",
    "    normal_acc_req = None\n",
    "    for noisy_idx, normal_idx, in noisy_acc_log_selection:\n",
    "        noisy_acc_req = acc_log.iloc[noisy_idx]\n",
    "        normal_acc_req = acc_log.iloc[normal_idx]\n",
    "\n",
    "    # Change the resolution in the noisy_selection dataset\n",
    "    noisy_acc_req[\"ACTION\"] = np.where(noisy_acc_req[\"ACTION\"] == 0, 1, 0)\n",
    "    noisy_acc_req[\"flag\"] = 1\n",
    "\n",
    "    noysi_al = pd.concat([noisy_acc_req, normal_acc_req])\n",
    "\n",
    "    return noysi_al\n",
    "\n",
    "def eliminar_repetidos_con_mayor_peso(df):\n",
    "    # Ordenar el DataFrame por la columna \"weight\" en orden descendente\n",
    "    df_ordenado = df.sort_values(by='weight', ascending=False)\n",
    "    \n",
    "    # Mantener la primera aparición de cada combinación única de \"name\" y \"resource\"\n",
    "    df_sin_repetidos = df_ordenado.drop_duplicates(subset=['uname', 'rname'], keep='first')\n",
    "    \n",
    "    return df_sin_repetidos"
   ]
  },
  {
   "cell_type": "code",
   "execution_count": 136,
   "metadata": {},
   "outputs": [
    {
     "name": "stdout",
     "output_type": "stream",
     "text": [
      "ACTION\n",
      "1         850\n",
      "0         150\n",
      "dtype: int64\n"
     ]
    }
   ],
   "source": [
    "import pandas as pd\n",
    "import numpy as np\n",
    "\n",
    "\n",
    "# Definir la cantidad de registros en el DataFrame\n",
    "num_registros = 1000\n",
    "\n",
    "# Crear un DataFrame con una columna \"ACTION\"\n",
    "df = pd.DataFrame({'ACTION': [1] * int(0.85 * num_registros) + [0] * int(0.15 * num_registros)})\n",
    "\n",
    "# Mostrar el DataFrame resultante\n",
    "print(df.value_counts())"
   ]
  },
  {
   "cell_type": "code",
   "execution_count": 137,
   "metadata": {},
   "outputs": [
    {
     "name": "stdout",
     "output_type": "stream",
     "text": [
      "150\n",
      "<class 'pandas.core.frame.DataFrame'>\n",
      "RangeIndex: 1000 entries, 0 to 999\n",
      "Data columns (total 1 columns):\n",
      " #   Column  Non-Null Count  Dtype\n",
      "---  ------  --------------  -----\n",
      " 0   ACTION  1000 non-null   int64\n",
      "dtypes: int64(1)\n",
      "memory usage: 7.9 KB\n",
      "None\n",
      "ACTION\n",
      "1         850\n",
      "0         150\n",
      "dtype: int64\n"
     ]
    }
   ],
   "source": [
    "def cambiar_valores_preservando_proporcion(df, columna_a_cambiar, fraccion_a_cambiar):\n",
    "    # Verifica que la columna especificada exista en el DataFrame\n",
    "    if columna_a_cambiar not in df.columns:\n",
    "        print(f\"La columna '{columna_a_cambiar}' no existe en el DataFrame.\")\n",
    "        return None\n",
    "\n",
    "    # Verifica que la fracción esté en el rango [0, 1]\n",
    "    if fraccion_a_cambiar < 0 or fraccion_a_cambiar > 1:\n",
    "        print(\"La fracción a cambiar debe estar en el rango [0, 1].\")\n",
    "        return None\n",
    "\n",
    "    # Calcula la cantidad de filas a cambiar basándose en la fracción proporcionada\n",
    "    cantidad_filas_cambiar = int(fraccion_a_cambiar * len(df))\n",
    "    print(cantidad_filas_cambiar)\n",
    "\n",
    "    # Filtra el DataFrame por la clase especificada\n",
    "    df_clase_permit = df[df[columna_a_cambiar] == 1]    \n",
    "    df_clase_deny = df[df[columna_a_cambiar] == 0]\n",
    "\n",
    "    # Verifica que haya suficientes filas para cambiar en ambas clases\n",
    "    if cantidad_filas_cambiar > min(len(df_clase_permit), len(df_clase_deny)):\n",
    "        print(\"No hay suficientes filas en una o ambas clases para cambiar.\")\n",
    "        return None\n",
    "\n",
    "    # Selecciona aleatoriamente las filas a cambiar en cada clase\n",
    "    filas_cambiar_permit = np.random.choice(df_clase_permit.index, size=int(cantidad_filas_cambiar / 2), replace=False)\n",
    "    filas_cambiar_deny = np.random.choice(df_clase_deny.index, size=int(cantidad_filas_cambiar / 2), replace=False)\n",
    "\n",
    "    # Cambia los valores de las filas seleccionadas\n",
    "    df.loc[filas_cambiar_permit, columna_a_cambiar] = 0\n",
    "    df.loc[filas_cambiar_deny, columna_a_cambiar] = 1\n",
    "\n",
    "    return df\n",
    "\n",
    "# Llama a la función para cambiar los valores preservando la proporción\n",
    "df_modificado = cambiar_valores_preservando_proporcion(df, \"ACTION\", 0.15)\n",
    "print(df_modificado.info())\n",
    "print(df_modificado.value_counts())"
   ]
  },
  {
   "cell_type": "code",
   "execution_count": 104,
   "metadata": {},
   "outputs": [
    {
     "name": "stdout",
     "output_type": "stream",
     "text": [
      "DENY= 123161  \t PERMIT= 29938\n"
     ]
    },
    {
     "name": "stderr",
     "output_type": "stream",
     "text": [
      "c:\\Users\\danie\\anaconda3\\envs\\tesis_env\\lib\\site-packages\\ipykernel_launcher.py:30: SettingWithCopyWarning: \n",
      "A value is trying to be set on a copy of a slice from a DataFrame.\n",
      "Try using .loc[row_indexer,col_indexer] = value instead\n",
      "\n",
      "See the caveats in the documentation: https://pandas.pydata.org/pandas-docs/stable/user_guide/indexing.html#returning-a-view-versus-a-copy\n",
      "c:\\Users\\danie\\anaconda3\\envs\\tesis_env\\lib\\site-packages\\ipykernel_launcher.py:31: SettingWithCopyWarning: \n",
      "A value is trying to be set on a copy of a slice from a DataFrame.\n",
      "Try using .loc[row_indexer,col_indexer] = value instead\n",
      "\n",
      "See the caveats in the documentation: https://pandas.pydata.org/pandas-docs/stable/user_guide/indexing.html#returning-a-view-versus-a-copy\n"
     ]
    },
    {
     "name": "stdout",
     "output_type": "stream",
     "text": [
      "DENY= 113840  \t PERMIT= 39259\n"
     ]
    }
   ],
   "source": [
    "print(\"DENY=\", len(acc_log[acc_log.ACTION == 0]), \" \\t PERMIT=\",\n",
    "      len(acc_log[acc_log.ACTION == 1]))\n",
    "\n",
    "noisy_al = get_noisy_al(acc_log, fraction=0.1)\n",
    "\n",
    "print(\"DENY=\", len(noisy_al[noisy_al.ACTION == 0]), \" \\t PERMIT=\",\n",
    "      len(noisy_al[noisy_al.ACTION == 1]))\n"
   ]
  },
  {
   "cell_type": "code",
   "execution_count": 138,
   "metadata": {},
   "outputs": [
    {
     "ename": "NameError",
     "evalue": "name 'noisy_al' is not defined",
     "output_type": "error",
     "traceback": [
      "\u001b[1;31m---------------------------------------------------------------------------\u001b[0m",
      "\u001b[1;31mNameError\u001b[0m                                 Traceback (most recent call last)",
      "\u001b[1;32m~\\AppData\\Local\\Temp\\ipykernel_5352\\3637733277.py\u001b[0m in \u001b[0;36m<module>\u001b[1;34m\u001b[0m\n\u001b[0;32m      1\u001b[0m \u001b[1;31m### Generate biparite graph\u001b[0m\u001b[1;33m\u001b[0m\u001b[1;33m\u001b[0m\u001b[1;33m\u001b[0m\u001b[0m\n\u001b[1;32m----> 2\u001b[1;33m \u001b[0macc_log_sub\u001b[0m \u001b[1;33m=\u001b[0m \u001b[0mnoisy_al\u001b[0m\u001b[1;33m[\u001b[0m\u001b[0mnoisy_al\u001b[0m\u001b[1;33m.\u001b[0m\u001b[0mACTION\u001b[0m \u001b[1;33m==\u001b[0m \u001b[1;36m1\u001b[0m\u001b[1;33m]\u001b[0m\u001b[1;33m\u001b[0m\u001b[1;33m\u001b[0m\u001b[0m\n\u001b[0m\u001b[0;32m      3\u001b[0m \u001b[0macc_log_freq\u001b[0m \u001b[1;33m=\u001b[0m \u001b[0macc_log_sub\u001b[0m\u001b[1;33m.\u001b[0m\u001b[0mvalue_counts\u001b[0m\u001b[1;33m(\u001b[0m\u001b[1;33m[\u001b[0m\u001b[1;34m\"uname\"\u001b[0m\u001b[1;33m,\u001b[0m \u001b[1;34m\"rname\"\u001b[0m\u001b[1;33m,\u001b[0m\u001b[1;34m\"flag\"\u001b[0m\u001b[1;33m]\u001b[0m\u001b[1;33m,\u001b[0m \u001b[0mnormalize\u001b[0m\u001b[1;33m=\u001b[0m\u001b[1;32mTrue\u001b[0m\u001b[1;33m)\u001b[0m\u001b[1;33m\u001b[0m\u001b[1;33m\u001b[0m\u001b[0m\n\u001b[0;32m      4\u001b[0m \u001b[0mtest\u001b[0m \u001b[1;33m=\u001b[0m \u001b[0mpd\u001b[0m\u001b[1;33m.\u001b[0m\u001b[0mDataFrame\u001b[0m\u001b[1;33m(\u001b[0m\u001b[0mlist\u001b[0m\u001b[1;33m(\u001b[0m\u001b[0macc_log_freq\u001b[0m\u001b[1;33m.\u001b[0m\u001b[0mkeys\u001b[0m\u001b[1;33m(\u001b[0m\u001b[1;33m)\u001b[0m\u001b[1;33m)\u001b[0m\u001b[1;33m,\u001b[0m \u001b[0mcolumns\u001b[0m\u001b[1;33m=\u001b[0m\u001b[1;33m[\u001b[0m\u001b[1;34m\"uname\"\u001b[0m\u001b[1;33m,\u001b[0m \u001b[1;34m\"rname\"\u001b[0m\u001b[1;33m]\u001b[0m\u001b[1;33m)\u001b[0m\u001b[1;33m\u001b[0m\u001b[1;33m\u001b[0m\u001b[0m\n\u001b[0;32m      5\u001b[0m \u001b[0mtest\u001b[0m\u001b[1;33m[\u001b[0m\u001b[1;34m\"weight\"\u001b[0m\u001b[1;33m]\u001b[0m \u001b[1;33m=\u001b[0m \u001b[0macc_log_freq\u001b[0m\u001b[1;33m.\u001b[0m\u001b[0mvalues\u001b[0m\u001b[1;33m\u001b[0m\u001b[1;33m\u001b[0m\u001b[0m\n",
      "\u001b[1;31mNameError\u001b[0m: name 'noisy_al' is not defined"
     ]
    }
   ],
   "source": [
    "### Generate biparite graph\n",
    "acc_log_sub = noisy_al[noisy_al.ACTION == 1]\n",
    "acc_log_freq = acc_log_sub.value_counts([\"uname\", \"rname\"], normalize=True)\n",
    "test = pd.DataFrame(list(acc_log_freq.keys()), columns=[\"uname\", \"rname\"])\n",
    "test[\"weight\"] = acc_log_freq.values\n",
    "azucar = eliminar_repetidos_con_mayor_peso(test)\n",
    "azucar"
   ]
  },
  {
   "cell_type": "code",
   "execution_count": 126,
   "metadata": {},
   "outputs": [],
   "source": [
    "import networkx as nx\n",
    "def get_edge_weight(i_node, j_node):\n",
    "    \"\"\"\n",
    "    Compute the weight of an edge between i and j nodes.\n",
    "\n",
    "    Args:\n",
    "        i_node (networkX node): i node.\n",
    "        j_node (networkX node): j node.\n",
    "\n",
    "    Returns:\n",
    "        weight (float): The weight between nodes.\n",
    "\n",
    "    Raises:\n",
    "        TypeError: if there are not an intersection\n",
    "    \"\"\"\n",
    "    neighs_i = set(i_node.neighbors())  # Set of neighbors of i\n",
    "    neighs_j = set(j_node.neighbors())  # Set of neighbors of j\n",
    "\n",
    "    # Calculate intersection between two previous sets\n",
    "    insersection_neighbors = neighs_i.intersection(neighs_j)\n",
    "\n",
    "    weight = (len(insersection_neighbors)*len(insersection_neighbors)\n",
    "              ) / (len(neighs_i)*len(neighs_j))\n",
    "\n",
    "    return weight\n",
    "\n",
    "def bipartite_projection(biparte_network, node_type=0):\n",
    "    \"\"\"\n",
    "    Generate a monopartite network from bipartite network.\n",
    "\n",
    "    Parameters:\n",
    "        bipartite_network (igraph Graph): The bipartie network.\n",
    "        node_type (int): The set of nodes of the monopartite network.\n",
    "\n",
    "    Returns:\n",
    "        Graph (iGraph): The monopartite (projected) network.\n",
    "\n",
    "    Raises:\n",
    "        Some\n",
    "    \"\"\"\n",
    "\n",
    "    # Check if the bipartite network is a bipartite network:\n",
    "    if not biparte_network.is_bipartite():\n",
    "        raise TypeError(\"The ARBN is not bipartite\")\n",
    "\n",
    "    # networkX object (more easy to buil)\n",
    "    g = nx.Graph()\n",
    "\n",
    "    # All opposite node set\n",
    "    opposite_nodes = biparte_network.vs.select(type=1)\n",
    "\n",
    "    # Check for every node the same type\n",
    "    for X_node in opposite_nodes:\n",
    "        # Select all neighbors of the X_node\n",
    "        neighbordhood = X_node.neighbors()\n",
    "\n",
    "        for Y_node_i in neighbordhood:\n",
    "            for Y_node_j in neighbordhood:\n",
    "                # Ceck if both nodes are the same\n",
    "                if Y_node_i['name'] != Y_node_j['name']:\n",
    "                    # If there is no an edge generate\n",
    "                    if not g.has_edge(Y_node_i['name'], Y_node_j['name']):\n",
    "                        weight_ = get_edge_weight(Y_node_i, Y_node_j)\n",
    "                        # print(\"Peso: \", Y_node_i['name'], \"-\", Y_node_j['name'], \" => \", weight_)\n",
    "                        g.add_edge(Y_node_i[\"name\"], Y_node_j[\"name\"],\n",
    "                                   weight=weight_)\n",
    "\n",
    "    # Convert from networkX graph to igraph graph\n",
    "    g = ig.Graph.from_networkx(g)\n",
    "    g.vs[\"name\"] = g.vs[\"_nx_name\"]\n",
    "    del g.vs[\"_nx_name\"]\n",
    "\n",
    "    for u_nodes in g.vs:\n",
    "        rsrcs = biparte_network.vs.find(name=u_nodes[\"name\"]).neighbors()\n",
    "        rsrcs = [r_node[\"name\"] for r_node in rsrcs]\n",
    "        u_nodes[\"rsrcs\"] = rsrcs\n",
    "\n",
    "    print(\"User Network builded!\")\n",
    "    print(g.summary())\n",
    "    return g"
   ]
  },
  {
   "cell_type": "code",
   "execution_count": 227,
   "metadata": {},
   "outputs": [
    {
     "name": "stdout",
     "output_type": "stream",
     "text": [
      "User Network builded!\n",
      "IGRAPH UNW- 105 804 -- \n",
      "+ attr: name (v), rsrcs (v), weight (e)\n"
     ]
    }
   ],
   "source": [
    "proj = bipartite_projection(bip_network)\n",
    "max_degree = max(proj.degree())\n",
    "degree_list = np.zeros(max_degree, dtype=int)\n",
    "\n",
    "for node in proj.vs():\n",
    "    degree_list[node.degree()-1] = (degree_list[node.degree()-1] + 1)\n",
    "\n",
    "degree_list = degree_list / proj.vcount()"
   ]
  },
  {
   "cell_type": "code",
   "execution_count": 228,
   "metadata": {},
   "outputs": [
    {
     "data": {
      "image/png": "[encoded data removed]",
      "text/plain": [
       "<Figure size 360x360 with 1 Axes>"
      ]
     },
     "metadata": {
      "needs_background": "light"
     },
     "output_type": "display_data"
    }
   ],
   "source": [
    "fig, ax = plt.subplots(figsize=(5, 5))\n",
    "ax.loglog()\n",
    "ax.spines[['right', 'top']].set_visible(False)\n",
    "ax.plot(range(max_degree), degree_list, \"o\", ls='None')\n",
    "ax.set_xlabel('Degree $k$', loc=\"left\", size=\"large\", family='monospace', alpha=0.5, parse_math=True)\n",
    "ax.set_ylabel('$P_k$', loc=\"top\", size=\"large\", family='monospace',  alpha=0.5,\n",
    "               parse_math=True)\n",
    "ax.yaxis.set_label_coords(-0.1,0.95)\n",
    "ax.set_title(\"Linear Binning - \", loc='left', size=\"x-large\", family='monospace', x=-0.15, y=1, alpha=0.5)\n",
    "plt.suptitle(\"Degree Distribution\", size=\"xx-large\", family='monospace', x=0.28, y=1)\n",
    "plt.show()"
   ]
  },
  {
   "cell_type": "code",
   "execution_count": 229,
   "metadata": {},
   "outputs": [
    {
     "name": "stdout",
     "output_type": "stream",
     "text": [
      "User Network builded!\n",
      "IGRAPH UNW- 105 804 -- \n",
      "+ attr: name (v), rsrcs (v), weight (e)\n"
     ]
    },
    {
     "data": {
      "image/png": "[encoded data removed]",
      "text/plain": [
       "<Figure size 360x360 with 1 Axes>"
      ]
     },
     "metadata": {
      "needs_background": "light"
     },
     "output_type": "display_data"
    }
   ],
   "source": [
    "proj = bipartite_projection(bip_network)\n",
    "\n",
    "fig, ax = plt.subplots(figsize=(5, 5))\n",
    "#ax.loglog()\n",
    "ax.spines[['right', 'top']].set_visible(False)\n",
    "ax.plot( proj.es[\"weight\"],range(len(proj.es)), \"o\", ls='None')\n",
    "ax.set_xlabel('Degree $k$', loc=\"left\", size=\"large\", family='monospace', alpha=0.5, parse_math=True)\n",
    "ax.set_ylabel('$P_k$', loc=\"top\", size=\"large\", family='monospace',  alpha=0.5,\n",
    "               parse_math=True)\n",
    "ax.yaxis.set_label_coords(-0.1,0.95)\n",
    "ax.set_title(\"Linear Binning - \", loc='left', size=\"x-large\", family='monospace', x=-0.15, y=1, alpha=0.5)\n",
    "plt.suptitle(\"Degree Distribution\", size=\"xx-large\", family='monospace', x=0.28, y=1)\n",
    "plt.show()"
   ]
  },
  {
   "cell_type": "code",
   "execution_count": null,
   "metadata": {},
   "outputs": [],
   "source": []
  },
  {
   "cell_type": "code",
   "execution_count": 202,
   "metadata": {},
   "outputs": [],
   "source": [
    "def get_edge_weight_2(i_node, j_node):\n",
    "    \"\"\"\n",
    "    Compute the weight of an edge between i and j nodes.\n",
    "\n",
    "    Args:\n",
    "        i_node (networkX node): i node.\n",
    "        j_node (networkX node): j node.\n",
    "\n",
    "    Returns:\n",
    "        weight (float): The weight between nodes.\n",
    "\n",
    "    Raises:\n",
    "        TypeError: if there are not an intersection\n",
    "    \"\"\"\n",
    "    neighs_i = set(i_node.neighbors())  # Set of neighbors of i\n",
    "    neighs_j = set(j_node.neighbors())  # Set of neighbors of j\n",
    "\n",
    "    # Calculate intersection between two previous sets\n",
    "    insersection_neighbors = neighs_i.intersection(neighs_j)\n",
    "\n",
    "    for node in insersection_neighbors:        \n",
    "        total_weight = sum(bip_network.es[edge][\"weight\"] for edge in bip_network.incident(node.index))\n",
    "    \n",
    "    for nodo in i_node.neighbors():\n",
    "        i_rank = sum(bip_network.es[edge][\"weight\"] for edge in bip_network.incident(nodo.index))\n",
    "\n",
    "    for nodo in j_node.neighbors():\n",
    "        j_rank = sum(bip_network.es[edge][\"weight\"] for edge in bip_network.incident(nodo.index))\n",
    "\n",
    "    weight = (total_weight*total_weight) / (i_rank*j_rank)\n",
    "\n",
    "    return weight\n",
    "\n",
    "def bipartite_projection_2(biparte_network, node_type=0):\n",
    "    \"\"\"\n",
    "    Generate a monopartite network from bipartite network.\n",
    "\n",
    "    Parameters:\n",
    "        bipartite_network (igraph Graph): The bipartie network.\n",
    "        node_type (int): The set of nodes of the monopartite network.\n",
    "\n",
    "    Returns:\n",
    "        Graph (iGraph): The monopartite (projected) network.\n",
    "\n",
    "    Raises:\n",
    "        Some\n",
    "    \"\"\"\n",
    "\n",
    "    # Check if the bipartite network is a bipartite network:\n",
    "    if not biparte_network.is_bipartite():\n",
    "        raise TypeError(\"The ARBN is not bipartite\")\n",
    "\n",
    "    # networkX object (more easy to buil)\n",
    "    g = nx.Graph()\n",
    "\n",
    "    # All opposite node set\n",
    "    opposite_nodes = biparte_network.vs.select(type=1)\n",
    "\n",
    "    # Check for every node the same type\n",
    "    for X_node in opposite_nodes:\n",
    "        # Select all neighbors of the X_node\n",
    "        neighbordhood = X_node.neighbors()\n",
    "\n",
    "        for Y_node_i in neighbordhood:\n",
    "            for Y_node_j in neighbordhood:\n",
    "                # Ceck if both nodes are the same\n",
    "                if Y_node_i['name'] != Y_node_j['name']:\n",
    "                    # If there is no an edge generate\n",
    "                    if not g.has_edge(Y_node_i['name'], Y_node_j['name']):\n",
    "                        weight_ = get_edge_weight_2(Y_node_i, Y_node_j)\n",
    "                        # print(\"Peso: \", Y_node_i['name'], \"-\", Y_node_j['name'], \" => \", weight_)\n",
    "                        g.add_edge(Y_node_i[\"name\"], Y_node_j[\"name\"],\n",
    "                                   weight=weight_)\n",
    "\n",
    "    # Convert from networkX graph to igraph graph\n",
    "    g = ig.Graph.from_networkx(g)\n",
    "    g.vs[\"name\"] = g.vs[\"_nx_name\"]\n",
    "    del g.vs[\"_nx_name\"]\n",
    "\n",
    "    for u_nodes in g.vs:\n",
    "        rsrcs = biparte_network.vs.find(name=u_nodes[\"name\"]).neighbors()\n",
    "        rsrcs = [r_node[\"name\"] for r_node in rsrcs]\n",
    "        u_nodes[\"rsrcs\"] = rsrcs\n",
    "\n",
    "    print(\"User Network builded!\")\n",
    "    print(g.summary())\n",
    "    return g"
   ]
  },
  {
   "cell_type": "code",
   "execution_count": 159,
   "metadata": {},
   "outputs": [
    {
     "data": {
      "text/plain": [
       "(igraph.Vertex(<igraph.Graph object at 0x0000014EAA70F5E8>, 2, {'name': 2532, 'type': 1, 'ranking': 0.026822099004609527}),\n",
       " igraph.Vertex(<igraph.Graph object at 0x0000014EAA70F5E8>, 20, {'name': 2523, 'type': 1, 'ranking': 0.005611597301088917}))"
      ]
     },
     "execution_count": 159,
     "metadata": {},
     "output_type": "execute_result"
    }
   ],
   "source": [
    "a = bip_network.vs[2]\n",
    "b = bip_network.vs[20]\n",
    "a, b"
   ]
  },
  {
   "cell_type": "code",
   "execution_count": 184,
   "metadata": {},
   "outputs": [
    {
     "data": {
      "text/plain": [
       "0.5"
      ]
     },
     "execution_count": 184,
     "metadata": {},
     "output_type": "execute_result"
    }
   ],
   "source": [
    "get_edge_weight(a, b)"
   ]
  },
  {
   "cell_type": "code",
   "execution_count": 185,
   "metadata": {},
   "outputs": [
    {
     "data": {
      "text/plain": [
       "1.0"
      ]
     },
     "execution_count": 185,
     "metadata": {},
     "output_type": "execute_result"
    }
   ],
   "source": [
    "get_edge_weight_2(a, b)"
   ]
  },
  {
   "cell_type": "code",
   "execution_count": 230,
   "metadata": {},
   "outputs": [
    {
     "name": "stdout",
     "output_type": "stream",
     "text": [
      "User Network builded!\n",
      "IGRAPH UNW- 105 804 -- \n",
      "+ attr: name (v), rsrcs (v), weight (e)\n"
     ]
    },
    {
     "data": {
      "image/png": "[encoded data removed]",
      "text/plain": [
       "<Figure size 360x360 with 1 Axes>"
      ]
     },
     "metadata": {
      "needs_background": "light"
     },
     "output_type": "display_data"
    }
   ],
   "source": [
    "proj = bipartite_projection_2(bip_network)\n",
    "max_degree = max(proj.degree())\n",
    "degree_list = np.zeros(max_degree, dtype=int)\n",
    "\n",
    "for node in proj.vs():\n",
    "    degree_list[node.degree()-1] = (degree_list[node.degree()-1] + 1)\n",
    "\n",
    "degree_list = degree_list / proj.vcount()\n",
    "\n",
    "fig, ax = plt.subplots(figsize=(5, 5))\n",
    "ax.loglog()\n",
    "ax.spines[['right', 'top']].set_visible(False)\n",
    "ax.plot(range(max_degree), degree_list, \"o\", ls='None')\n",
    "ax.set_xlabel('Degree $k$', loc=\"left\", size=\"large\", family='monospace', alpha=0.5, parse_math=True)\n",
    "ax.set_ylabel('$P_k$', loc=\"top\", size=\"large\", family='monospace',  alpha=0.5,\n",
    "               parse_math=True)\n",
    "ax.yaxis.set_label_coords(-0.1,0.95)\n",
    "ax.set_title(\"Linear Binning - \", loc='left', size=\"x-large\", family='monospace', x=-0.15, y=1, alpha=0.5)\n",
    "plt.suptitle(\"Degree Distribution\", size=\"xx-large\", family='monospace', x=0.28, y=1)\n",
    "plt.show()"
   ]
  },
  {
   "cell_type": "code",
   "execution_count": 234,
   "metadata": {},
   "outputs": [
    {
     "name": "stdout",
     "output_type": "stream",
     "text": [
      "User Network builded!\n",
      "IGRAPH UNW- 105 804 -- \n",
      "+ attr: name (v), rsrcs (v), weight (e)\n"
     ]
    },
    {
     "ename": "AttributeError",
     "evalue": "'YAxis' object has no attribute 'log'",
     "output_type": "error",
     "traceback": [
      "\u001b[1;31m---------------------------------------------------------------------------\u001b[0m",
      "\u001b[1;31mAttributeError\u001b[0m                            Traceback (most recent call last)",
      "\u001b[1;32m~\\AppData\\Local\\Temp\\ipykernel_17212\\1653384211.py\u001b[0m in \u001b[0;36m<module>\u001b[1;34m\u001b[0m\n\u001b[0;32m      4\u001b[0m \u001b[1;33m\u001b[0m\u001b[0m\n\u001b[0;32m      5\u001b[0m \u001b[0mfig\u001b[0m\u001b[1;33m,\u001b[0m \u001b[0max\u001b[0m \u001b[1;33m=\u001b[0m \u001b[0mplt\u001b[0m\u001b[1;33m.\u001b[0m\u001b[0msubplots\u001b[0m\u001b[1;33m(\u001b[0m\u001b[0mfigsize\u001b[0m\u001b[1;33m=\u001b[0m\u001b[1;33m(\u001b[0m\u001b[1;36m5\u001b[0m\u001b[1;33m,\u001b[0m \u001b[1;36m5\u001b[0m\u001b[1;33m)\u001b[0m\u001b[1;33m)\u001b[0m\u001b[1;33m\u001b[0m\u001b[1;33m\u001b[0m\u001b[0m\n\u001b[1;32m----> 6\u001b[1;33m \u001b[0max\u001b[0m\u001b[1;33m.\u001b[0m\u001b[0myaxis\u001b[0m\u001b[1;33m.\u001b[0m\u001b[0mlog\u001b[0m\u001b[1;33m(\u001b[0m\u001b[1;33m)\u001b[0m\u001b[1;33m\u001b[0m\u001b[1;33m\u001b[0m\u001b[0m\n\u001b[0m\u001b[0;32m      7\u001b[0m \u001b[0max\u001b[0m\u001b[1;33m.\u001b[0m\u001b[0mspines\u001b[0m\u001b[1;33m[\u001b[0m\u001b[1;33m[\u001b[0m\u001b[1;34m'right'\u001b[0m\u001b[1;33m,\u001b[0m \u001b[1;34m'top'\u001b[0m\u001b[1;33m]\u001b[0m\u001b[1;33m]\u001b[0m\u001b[1;33m.\u001b[0m\u001b[0mset_visible\u001b[0m\u001b[1;33m(\u001b[0m\u001b[1;32mFalse\u001b[0m\u001b[1;33m)\u001b[0m\u001b[1;33m\u001b[0m\u001b[1;33m\u001b[0m\u001b[0m\n\u001b[0;32m      8\u001b[0m \u001b[1;31m#ax.plot(range(len(proj.es)), asd, \"o\", ls='None')\u001b[0m\u001b[1;33m\u001b[0m\u001b[1;33m\u001b[0m\u001b[1;33m\u001b[0m\u001b[0m\n",
      "\u001b[1;31mAttributeError\u001b[0m: 'YAxis' object has no attribute 'log'"
     ]
    },
    {
     "data": {
      "image/png": "[encoded data removed]",
      "text/plain": [
       "<Figure size 360x360 with 1 Axes>"
      ]
     },
     "metadata": {
      "needs_background": "light"
     },
     "output_type": "display_data"
    }
   ],
   "source": [
    "proj = bipartite_projection_2(bip_network)\n",
    "\n",
    "asd = np.array(proj.es[\"weight\"])/max(proj.es[\"weight\"])\n",
    "\n",
    "fig, ax = plt.subplots(figsize=(5, 5))\n",
    "ax.yaxis(\"\")\n",
    "ax.spines[['right', 'top']].set_visible(False)\n",
    "#ax.plot(range(len(proj.es)), asd, \"o\", ls='None')\n",
    "ax.plot(asd,range(len(proj.es)), \"o\", ls='None')\n",
    "ax.set_xlabel('Degree $k$', loc=\"left\", size=\"large\", family='monospace', alpha=0.5, parse_math=True)\n",
    "ax.set_ylabel('$P_k$', loc=\"top\", size=\"large\", family='monospace',  alpha=0.5,\n",
    "               parse_math=True)\n",
    "ax.yaxis.set_label_coords(-0.1,0.95)\n",
    "ax.set_title(\"Linear Binning - \", loc='left', size=\"x-large\", family='monospace', x=-0.15, y=1, alpha=0.5)\n",
    "plt.suptitle(\"Degree Distribution\", size=\"xx-large\", family='monospace', x=0.28, y=1)\n",
    "plt.show()"
   ]
  }
 ],
 "metadata": {
  "kernelspec": {
   "display_name": "base",
   "language": "python",
   "name": "python3"
  },
  "language_info": {
   "codemirror_mode": {
    "name": "ipython",
    "version": 3
   },
   "file_extension": ".py",
   "mimetype": "text/x-python",
   "name": "python",
   "nbconvert_exporter": "python",
   "pygments_lexer": "ipython3",
   "version": "3.7.13"
  }
 },
 "nbformat": 4,
 "nbformat_minor": 2
}
