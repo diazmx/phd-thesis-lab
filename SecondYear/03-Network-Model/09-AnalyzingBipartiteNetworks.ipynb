{
 "cells": [
  {
   "cell_type": "markdown",
   "metadata": {},
   "source": [
    "# Analyzing networks model"
   ]
  },
  {
   "cell_type": "code",
   "execution_count": 35,
   "metadata": {},
   "outputs": [],
   "source": [
    "### import libraries\n",
    "\n",
    "import pandas as pd\n",
    "import igraph as ig\n",
    "import numpy as np"
   ]
  },
  {
   "cell_type": "code",
   "execution_count": null,
   "metadata": {},
   "outputs": [],
   "source": [
    "### Read the graph\n",
    "\n",
    "filename = \"name_of_file.gml\"\n",
    "bip_net = ig.read(filename)\n",
    "\n",
    "# Average degree\n",
    "avg_degree = bip_net.\n",
    "print(\"Avg. degree: \", avg_degree)"
   ]
  },
  {
   "cell_type": "code",
   "execution_count": 65,
   "metadata": {},
   "outputs": [
    {
     "name": "stdout",
     "output_type": "stream",
     "text": [
      "Información del Grafo:\n",
      "IGRAPH U--- 10 15 -- \n",
      "+ attr: weights (e)\n",
      "\n",
      "Métricas del Grafo:\n",
      "Número de nodos: 10\n",
      "Número de aristas: 15\n",
      "Grado promedio: 3.0\n",
      "Peso de Grado promedio:  0.5296715524249522\n",
      "Degree distribution\n",
      "Densidad: 0.3333333333333333\n",
      "Diámetro del grafo: 3\n",
      "Average path lenght: 1.8222222222222222\n",
      "Componentes conectados: 1\n",
      "Coeficiente de clustering: 0.20930232558139536\n",
      "Coeficiente de asortatividad: -0.6333938294010888\n"
     ]
    }
   ],
   "source": [
    "# Crear un grafo de ejemplo\n",
    "graph = ig.Graph.Erdos_Renyi(n=10, m=15, directed=False)\n",
    "graph.es[\"weights\"] = np.random.random_sample(size=15)\n",
    "\n",
    "# Imprimir información básica del grafo\n",
    "print(\"Información del Grafo:\")\n",
    "print(graph.summary())\n",
    "\n",
    "# Obtener y mostrar métricas del grafo\n",
    "print(\"\\nMétricas del Grafo:\")\n",
    "print(f\"Número de nodos: {graph.vcount()}\")\n",
    "print(f\"Número de aristas: {graph.ecount()}\")\n",
    "print(f\"Grado promedio: {ig.mean(graph.degree())}\")\n",
    "print(\"Peso de Grado promedio: \", ig.mean(graph.es[\"weights\"]))\n",
    "print(\"Degree distribution\")\n",
    "print(f\"Densidad: {graph.density()}\")\n",
    "print(f\"Diámetro del grafo: {graph.diameter()}\")\n",
    "print(f\"Average path lenght: {graph.average_path_length()}\")\n",
    "print(f\"Componentes conectados: {len(graph.components().subgraphs())}\")\n",
    "print(f\"Coeficiente de clustering: {graph.transitivity_undirected()}\")\n",
    "print(f\"Coeficiente de asortatividad: {graph.assortativity_degree()}\")\n",
    "\n",
    "# Degree Correlation\n",
    "\n",
    "#print(f\"Centralidad de intermediación (betweenness centrality): {graph.betweenness()}\")\n",
    "#print(f\"Excentricidad de cada nodo: {graph.eccentricity()}\")\n",
    "#print(f\"PageRank: {graph.pagerank()}\")\n",
    "#print(f\"Coeficiente de eigenvector de cada nodo: {graph.eigenvector_centrality()}\")"
   ]
  },
  {
   "cell_type": "code",
   "execution_count": 64,
   "metadata": {},
   "outputs": [
    {
     "ename": "TypeError",
     "evalue": "sequence or iterable expected",
     "output_type": "error",
     "traceback": [
      "\u001b[0;31m---------------------------------------------------------------------------\u001b[0m",
      "\u001b[0;31mTypeError\u001b[0m                                 Traceback (most recent call last)",
      "Cell \u001b[0;32mIn[64], line 12\u001b[0m\n\u001b[1;32m      9\u001b[0m degree_distribution \u001b[38;5;241m=\u001b[39m graph\u001b[38;5;241m.\u001b[39mdegree_distribution()\n\u001b[1;32m     11\u001b[0m \u001b[38;5;66;03m# Calcular la correlación de grados entre el grafo original y su grafo aleatorio\u001b[39;00m\n\u001b[0;32m---> 12\u001b[0m random_graph \u001b[38;5;241m=\u001b[39m ig\u001b[38;5;241m.\u001b[39mGraph\u001b[38;5;241m.\u001b[39mDegree_Sequence(degree_distribution)\n\u001b[1;32m     13\u001b[0m degree_correlation_original \u001b[38;5;241m=\u001b[39m graph\u001b[38;5;241m.\u001b[39mdegree_correlation()\n\u001b[1;32m     14\u001b[0m degree_correlation_random \u001b[38;5;241m=\u001b[39m random_graph\u001b[38;5;241m.\u001b[39mdegree_correlation()\n",
      "\u001b[0;31mTypeError\u001b[0m: sequence or iterable expected"
     ]
    }
   ],
   "source": [
    "import igraph as ig\n",
    "import matplotlib.pyplot as plt\n",
    "import numpy as np\n",
    "\n",
    "# Crear un grafo de ejemplo (puedes reemplazarlo con tu propio grafo)\n",
    "graph = ig.Graph.Erdos_Renyi(n=100, m=150, directed=False)\n",
    "\n",
    "# Obtener la distribución de grados del grafo original\n",
    "degree_distribution = graph.degree_distribution()\n",
    "\n",
    "# Calcular la correlación de grados entre el grafo original y su grafo aleatorio\n",
    "random_graph = ig.Graph.Degree_Sequence(degree_distribution)\n",
    "degree_correlation_original = graph.degree_correlation()\n",
    "degree_correlation_random = random_graph.degree_correlation()\n",
    "\n",
    "# Graficar la correlación de grados\n",
    "plt.plot(degree_correlation_original, label=\"Grafo Original\", color=\"blue\", marker=\"o\")\n",
    "plt.plot(degree_correlation_random, label=\"Grafo Aleatorio\", color=\"red\", linestyle=\"--\", marker=\"s\")\n",
    "\n",
    "# Configuraciones adicionales\n",
    "plt.title(\"Correlación de Grados\")\n",
    "plt.xlabel(\"Grado k\")\n",
    "plt.ylabel(\"Correlación de Grados\")\n",
    "plt.legend()\n",
    "plt.grid(True)\n",
    "plt.show()\n"
   ]
  },
  {
   "cell_type": "code",
   "execution_count": null,
   "metadata": {},
   "outputs": [],
   "source": [
    "ig.Graph.degres"
   ]
  }
 ],
 "metadata": {
  "kernelspec": {
   "display_name": "base",
   "language": "python",
   "name": "python3"
  },
  "language_info": {
   "codemirror_mode": {
    "name": "ipython",
    "version": 3
   },
   "file_extension": ".py",
   "mimetype": "text/x-python",
   "name": "python",
   "nbconvert_exporter": "python",
   "pygments_lexer": "ipython3",
   "version": "3.11.5"
  }
 },
 "nbformat": 4,
 "nbformat_minor": 2
}
