{
 "cells": [
  {
   "cell_type": "code",
   "execution_count": 2,
   "metadata": {},
   "outputs": [],
   "source": [
    "### import libraries\n",
    "\n",
    "import pandas as pd\n",
    "import igraph as ig\n",
    "import numpy as np\n",
    "import matplotlib.pyplot as plt"
   ]
  },
  {
   "cell_type": "code",
   "execution_count": 88,
   "metadata": {},
   "outputs": [
    {
     "name": "stdout",
     "output_type": "stream",
     "text": [
      "IGRAPH UNWT 926 45608 -- \n",
      "+ attr: id (v), name (v), ranking (v), type (v), weight (e)\n",
      "|U|= 116 |R|= 810 \n",
      "\n",
      "IGRAPH UNWT 893 37710 -- \n",
      "+ attr: id (v), name (v), ranking (v), type (v), weight (e)\n",
      "|U|= 108 |R|= 785\n"
     ]
    }
   ],
   "source": [
    "str_dataset = \"IoT\"\n",
    "str_distri = \"Nr\"\n",
    "\n",
    "pos_bip_network = ig.read(\"../data/\"+str_dataset+\"/binet-\"+str_dataset+\"-\"+str_distri+\".gml\")\n",
    "print(pos_bip_network.summary())\n",
    "print(\"|U|=\", len(pos_bip_network.vs.select(type=0)),\"|R|=\", len(pos_bip_network.vs.select(type=1)), \"\\n\" )\n",
    "\n",
    "neg_bip_network = ig.read(\"../data/\"+str_dataset+\"/binet-\"+str_dataset+\"-\"+str_distri+\"-NEG.gml\")\n",
    "print(neg_bip_network.summary())\n",
    "print(\"|U|=\", len(neg_bip_network.vs.select(type=0)),\"|R|=\", len(neg_bip_network.vs.select(type=1)) )"
   ]
  },
  {
   "cell_type": "markdown",
   "metadata": {},
   "source": [
    "#### Nodos de Usuarios"
   ]
  },
  {
   "cell_type": "code",
   "execution_count": 89,
   "metadata": {},
   "outputs": [
    {
     "name": "stdout",
     "output_type": "stream",
     "text": [
      "Number of resources in both bipartite network: 107\n"
     ]
    },
    {
     "name": "stdout",
     "output_type": "stream",
     "text": [
      "Done\n",
      "Ruido = 93\n"
     ]
    }
   ],
   "source": [
    "# Obtener la intersección de los recursos que acceden en ambos grafos para trabajar solo con ellos\n",
    "res_nodes_in_both = set(pos_bip_network.vs.select(type=0)[\"name\"]).intersection(\n",
    "    set(neg_bip_network.vs.select(type=0)[\"name\"]))\n",
    "print(\"Number of resources in both bipartite network:\", len(res_nodes_in_both))\n",
    "\n",
    "contador = 0\n",
    "\n",
    "# Recorrer por cada recurso y obtener los nodos vecinos en cada grafo bipartito.\n",
    "for res in res_nodes_in_both:\n",
    "    res_node_pos = pos_bip_network.vs.find(name=res)\n",
    "    res_node_neg = neg_bip_network.vs.find(name=res)\n",
    "\n",
    "    # Get the neighbors of each node\n",
    "    neighs_pos_node = set([i[\"name\"] for i in res_node_pos.neighbors()])\n",
    "    neighs_neg_node = set([i[\"name\"] for i in res_node_neg.neighbors()])\n",
    "\n",
    "    # Calcular su intersección. Si es conjunto vacío está perfecto\n",
    "    if len(neighs_pos_node.intersection(neighs_neg_node)) != 0: # Empty set\n",
    "        contador += 1\n",
    "        # print(\"Problem\", res)\n",
    "        # print(neighs_pos_node)\n",
    "        # print(neighs_neg_node)\n",
    "        # print(neighs_pos_node.intersection(neighs_neg_node))\n",
    "\n",
    "print(\"Done\")\n",
    "print(\"Ruido =\", contador)"
   ]
  },
  {
   "cell_type": "markdown",
   "metadata": {},
   "source": [
    "#### Nodos de recursos"
   ]
  },
  {
   "cell_type": "code",
   "execution_count": 90,
   "metadata": {},
   "outputs": [
    {
     "name": "stdout",
     "output_type": "stream",
     "text": [
      "Number of resources in both bipartite network: 777\n",
      "Done\n",
      "Ruido = 718\n"
     ]
    }
   ],
   "source": [
    "# Obtener la intersección de los recursos que acceden en ambos grafos para trabajar solo con ellos\n",
    "res_nodes_in_both = set(pos_bip_network.vs.select(type=1)[\"name\"]).intersection(\n",
    "    set(neg_bip_network.vs.select(type=1)[\"name\"]))\n",
    "print(\"Number of resources in both bipartite network:\", len(res_nodes_in_both))\n",
    "\n",
    "contador = 0\n",
    "\n",
    "# Recorrer por cada recurso y obtener los nodos vecinos en cada grafo bipartito.\n",
    "for res in res_nodes_in_both:\n",
    "    res_node_pos = pos_bip_network.vs.find(name=res)\n",
    "    res_node_neg = neg_bip_network.vs.find(name=res)\n",
    "\n",
    "    # Get the neighbors of each node\n",
    "    neighs_pos_node = set([i[\"name\"] for i in res_node_pos.neighbors()])\n",
    "    neighs_neg_node = set([i[\"name\"] for i in res_node_neg.neighbors()])\n",
    "\n",
    "    # Calcular su intersección. Si es conjunto vacío está perfecto\n",
    "    if len(neighs_pos_node.intersection(neighs_neg_node)) != 0: # Empty set\n",
    "        contador += 1\n",
    "        # print(\"Problem\", res)\n",
    "        # print(neighs_pos_node)\n",
    "        # print(neighs_neg_node)\n",
    "        # print(neighs_pos_node.intersection(neighs_neg_node))\n",
    "\n",
    "print(\"Done\")\n",
    "print(\"Ruido =\", contador)"
   ]
  },
  {
   "cell_type": "code",
   "execution_count": null,
   "metadata": {},
   "outputs": [],
   "source": []
  }
 ],
 "metadata": {
  "kernelspec": {
   "display_name": "tesis_env",
   "language": "python",
   "name": "python3"
  },
  "language_info": {
   "codemirror_mode": {
    "name": "ipython",
    "version": 3
   },
   "file_extension": ".py",
   "mimetype": "text/x-python",
   "name": "python",
   "nbconvert_exporter": "python",
   "pygments_lexer": "ipython3",
   "version": "3.7.13"
  }
 },
 "nbformat": 4,
 "nbformat_minor": 2
}
