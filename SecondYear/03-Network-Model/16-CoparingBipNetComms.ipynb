{
 "cells": [
  {
   "cell_type": "code",
   "execution_count": 7,
   "metadata": {},
   "outputs": [],
   "source": [
    "### import libraries\n",
    "\n",
    "import pandas as pd\n",
    "import igraph as ig\n",
    "import numpy as np\n",
    "import networkx as nx\n",
    "from auxiliar_functions.community_detection import sub_community_detection, add_type_commts\n",
    "import matplotlib.pyplot as plt"
   ]
  },
  {
   "cell_type": "code",
   "execution_count": 8,
   "metadata": {},
   "outputs": [
    {
     "name": "stdout",
     "output_type": "stream",
     "text": [
      "IGRAPH UNWT 926 45608 -- \n",
      "+ attr: id (v), name (v), ranking (v), type (v), weight (e)\n",
      "|U|= 116 |R|= 810 \n",
      "\n",
      "IGRAPH UNWT 893 37710 -- \n",
      "+ attr: id (v), name (v), ranking (v), type (v), weight (e)\n",
      "|U|= 108 |R|= 785\n"
     ]
    }
   ],
   "source": [
    "str_dataset = \"IoT\"\n",
    "str_distri = \"Nr\"\n",
    "\n",
    "pos_bip_network = ig.read(\"../data/\"+str_dataset+\"/binet-\"+str_dataset+\"-\"+str_distri+\".gml\")\n",
    "print(pos_bip_network.summary())\n",
    "print(\"|U|=\", len(pos_bip_network.vs.select(type=0)),\"|R|=\", len(pos_bip_network.vs.select(type=1)), \"\\n\" )\n",
    "\n",
    "neg_bip_network = ig.read(\"../data/\"+str_dataset+\"/binet-\"+str_dataset+\"-\"+str_distri+\"-NEG.gml\")\n",
    "print(neg_bip_network.summary())\n",
    "print(\"|U|=\", len(neg_bip_network.vs.select(type=0)),\"|R|=\", len(neg_bip_network.vs.select(type=1)) )"
   ]
  },
  {
   "cell_type": "markdown",
   "metadata": {},
   "source": [
    "# Proyección"
   ]
  },
  {
   "cell_type": "code",
   "execution_count": 46,
   "metadata": {},
   "outputs": [],
   "source": [
    "def search_resource_in_commty(resource_id, commty):\n",
    "    \"\"\" Search the resource in the commty. If the resource is in the commty\n",
    "    returns True.\"\"\"    \n",
    "    for node in commty.vs(): # Por cada nodo en la comunidad        \n",
    "        if resource_id in node[\"rsrcs\"]: # Check if the user accesed to resource\n",
    "            return True\n",
    "        break\n",
    "    return False\n",
    "\n",
    "def get_edge_weight_2(i_node, j_node, bi_graph):\n",
    "    \"\"\"\n",
    "    Compute the weight of an edge between i and j nodes.\n",
    "\n",
    "    Args:\n",
    "        i_node (networkX node): i node.\n",
    "        j_node (networkX node): j node.\n",
    "\n",
    "    Returns:\n",
    "        weight (float): The weight between nodes.\n",
    "\n",
    "    Raises:\n",
    "        TypeError: if there are not an intersection\n",
    "    \"\"\"\n",
    "    common_neighbors = set(i_node.neighbors()).intersection(j_node.neighbors())\n",
    "\n",
    "    if not common_neighbors:\n",
    "        raise ValueError(\"There are no common neighbors.\")\n",
    "\n",
    "    # Calculate intersection between two previous sets\n",
    "    weighted_sum = sum(bi_graph[i_node,neighbor] for neighbor in common_neighbors)\n",
    "    weighted_sum += sum(bi_graph[j_node,neighbor] for neighbor in common_neighbors)\n",
    "    \n",
    "    i_rank = sum(bi_graph[i_node, target] for target in i_node.neighbors())\n",
    "\n",
    "    j_rank = sum(bi_graph[j_node, target] for target in j_node.neighbors())\n",
    "\n",
    "    weight = (weighted_sum*weighted_sum) / (i_rank*j_rank)\n",
    "\n",
    "    return weight\n",
    "\n",
    "def bipartite_projection_2(biparte_network, node_type=0):\n",
    "    \"\"\"\n",
    "    Generate a monopartite network from bipartite network.\n",
    "\n",
    "    Parameters:\n",
    "        bipartite_network (igraph Graph): The bipartie network.\n",
    "        node_type (int): The set of nodes of the monopartite network.\n",
    "\n",
    "    Returns:\n",
    "        Graph (iGraph): The monopartite (projected) network.\n",
    "\n",
    "    Raises:\n",
    "        Some\n",
    "    \"\"\"\n",
    "\n",
    "    # Check if the bipartite network is a bipartite network:\n",
    "    # if not biparte_network.is_bipartite():\n",
    "    #     raise TypeError(\"The ARBN is not bipartite\")\n",
    "\n",
    "    # networkX object (more easy to buil)\n",
    "    g = nx.Graph()\n",
    "\n",
    "    # All opposite node set\n",
    "    opposite_nodes = biparte_network.vs.select(type=1)\n",
    "\n",
    "    # Check for every node the same type\n",
    "    for X_node in opposite_nodes:\n",
    "        # Select all neighbors of the X_node\n",
    "        neighbordhood = X_node.neighbors()\n",
    "\n",
    "        for Y_node_i in neighbordhood:\n",
    "            for Y_node_j in neighbordhood:\n",
    "                # Ceck if both nodes are the same\n",
    "                if Y_node_i['name'] != Y_node_j['name']:\n",
    "                    # If there is no an edge generate\n",
    "                    if not g.has_edge(Y_node_i['name'], Y_node_j['name']):\n",
    "                        weight_ = get_edge_weight_2(Y_node_i, Y_node_j, biparte_network)\n",
    "                        # print(\"Peso: \", Y_node_i['name'], \"-\", Y_node_j['name'], \" => \", weight_)\n",
    "                        g.add_edge(Y_node_i[\"name\"], Y_node_j[\"name\"],\n",
    "                                   weight=weight_)\n",
    "\n",
    "    # Convert from networkX graph to igraph graph\n",
    "    g = ig.Graph.from_networkx(g)\n",
    "    g.vs[\"name\"] = g.vs[\"_nx_name\"]\n",
    "    del g.vs[\"_nx_name\"]\n",
    "\n",
    "    for u_nodes in g.vs:\n",
    "        rsrcs = biparte_network.vs.find(name=u_nodes[\"name\"]).neighbors()\n",
    "        rsrcs = [r_node[\"name\"] for r_node in rsrcs]\n",
    "        u_nodes[\"rsrcs\"] = rsrcs\n",
    "\n",
    "    print(\"User Network builded!\")\n",
    "    print(g.summary())\n",
    "    return g\n",
    "\n",
    "def bipartite_projection_rs(biparte_network):\n",
    "    \"\"\"\n",
    "    Generate a monopartite network from bipartite network.\n",
    "\n",
    "    Parameters:\n",
    "        bipartite_network (igraph Graph): The bipartie network.\n",
    "        node_type (int): The set of nodes of the monopartite network.\n",
    "\n",
    "    Returns:\n",
    "        Graph (iGraph): The monopartite (projected) network.\n",
    "\n",
    "    Raises:\n",
    "        Some\n",
    "    \"\"\"\n",
    "\n",
    "    # Check if the bipartite network is a bipartite network:\n",
    "    # if not biparte_network.is_bipartite():\n",
    "    #     raise TypeError(\"The ARBN is not bipartite\")\n",
    "\n",
    "    # networkX object (more easy to buil)\n",
    "    g = nx.Graph()\n",
    "\n",
    "    # All opposite node set\n",
    "    opposite_nodes = biparte_network.vs.select(type=0)\n",
    "\n",
    "    # Check for every node the same type\n",
    "    for X_node in opposite_nodes:\n",
    "        # Select all neighbors of the X_node\n",
    "        neighbordhood = X_node.neighbors()\n",
    "\n",
    "        for Y_node_i in neighbordhood:\n",
    "            for Y_node_j in neighbordhood:\n",
    "                # Ceck if both nodes are the same\n",
    "                if Y_node_i['name'] != Y_node_j['name']:\n",
    "                    # If there is no an edge generate\n",
    "                    if not g.has_edge(Y_node_i['name'], Y_node_j['name']):\n",
    "                        weight_ = get_edge_weight_2(Y_node_i, Y_node_j, biparte_network)\n",
    "                        # print(\"Peso: \", Y_node_i['name'], \"-\", Y_node_j['name'], \" => \", weight_)\n",
    "                        g.add_edge(Y_node_i[\"name\"], Y_node_j[\"name\"],\n",
    "                                   weight=weight_)\n",
    "\n",
    "    # Convert from networkX graph to igraph graph\n",
    "    g = ig.Graph.from_networkx(g)\n",
    "    g.vs[\"name\"] = g.vs[\"_nx_name\"]\n",
    "    del g.vs[\"_nx_name\"]\n",
    "\n",
    "    for u_nodes in g.vs:\n",
    "        rsrcs = biparte_network.vs.find(name=u_nodes[\"name\"]).neighbors()\n",
    "        rsrcs = [r_node[\"name\"] for r_node in rsrcs]\n",
    "        u_nodes[\"rsrcs\"] = rsrcs\n",
    "\n",
    "    print(\"User Network builded!\")\n",
    "    print(g.summary())\n",
    "    return g"
   ]
  },
  {
   "cell_type": "code",
   "execution_count": 47,
   "metadata": {},
   "outputs": [
    {
     "name": "stdout",
     "output_type": "stream",
     "text": [
      "User Network builded!\n",
      "IGRAPH UNW- 116 6219 -- \n",
      "+ attr: name (v), rsrcs (v), weight (e)\n",
      "User Network builded!\n",
      "IGRAPH UNW- 810 322639 -- \n",
      "+ attr: name (v), rsrcs (v), weight (e)\n",
      "User Network builded!\n",
      "IGRAPH UNW- 108 5365 -- \n",
      "+ attr: name (v), rsrcs (v), weight (e)\n",
      "User Network builded!\n",
      "IGRAPH UNW- 810 322639 -- \n",
      "+ attr: name (v), rsrcs (v), weight (e)\n"
     ]
    }
   ],
   "source": [
    "### Projection of the networks\n",
    "\n",
    "pos_user_user = bipartite_projection_2(pos_bip_network)\n",
    "pos_res_res = bipartite_projection_rs(pos_bip_network)\n",
    "\n",
    "neg_user_user = bipartite_projection_2(neg_bip_network)\n",
    "neg_res_res = bipartite_projection_rs(pos_bip_network)\n"
   ]
  },
  {
   "cell_type": "markdown",
   "metadata": {},
   "source": [
    "# Detección Comunidades"
   ]
  },
  {
   "cell_type": "markdown",
   "metadata": {},
   "source": [
    "## Positive"
   ]
  },
  {
   "cell_type": "markdown",
   "metadata": {},
   "source": [
    "### Users"
   ]
  },
  {
   "cell_type": "code",
   "execution_count": 48,
   "metadata": {},
   "outputs": [
    {
     "name": "stdout",
     "output_type": "stream",
     "text": [
      "Modularity: 0.0095\n",
      "IGRAPH UNW- 116 6219 -- \n",
      "+ attr: commty (v), name (v), rsrcs (v), weight (e)\n",
      "Clustering with 116 elements and 3 clusters\n",
      "Comunidad con # mayor recursos 804\n",
      "Big Threshold:  402  \t\t Med Threshold 201\n"
     ]
    }
   ],
   "source": [
    "### Community detection algorithm\n",
    "\n",
    "# Louvain Algorithm\n",
    "parti_pos_user_user = pos_user_user.community_multilevel(\n",
    "    weights=pos_user_user.es()[\"weight\"])\n",
    "print(\"Modularity: %.4f\" % parti_pos_user_user.modularity) # Modualarity value\n",
    "\n",
    "# Add cluster attribute to nodes\n",
    "pos_user_user.vs[\"commty\"] = parti_pos_user_user.membership\n",
    "\n",
    "print(pos_user_user.summary())\n",
    "print(parti_pos_user_user.summary())\n",
    "\n",
    "dict_commts = sub_community_detection(pos_user_user, 0.5, None)\n",
    "len(dict_commts)\n",
    "# Obtener el máximo valor de recursos en el total de comunidades\n",
    "n_res_in_comms = [len(i[1]) for i in dict_commts.values()]\n",
    "max_n_res = max(n_res_in_comms)\n",
    "print(\"Comunidad con # mayor recursos\", max_n_res)\n",
    "\n",
    "# Umbrales para la clasificación de comunidades\n",
    "big_threshold = int(0.50 * max_n_res)\n",
    "med_threshold = int(0.25 * max_n_res)\n",
    "print(\"Big Threshold: \", big_threshold, \" \\t\\t Med Threshold\", med_threshold)"
   ]
  },
  {
   "cell_type": "markdown",
   "metadata": {},
   "source": [
    "### Resourcces"
   ]
  },
  {
   "cell_type": "code",
   "execution_count": 49,
   "metadata": {},
   "outputs": [
    {
     "name": "stdout",
     "output_type": "stream",
     "text": [
      "Modularity: 0.0092\n",
      "IGRAPH UNW- 810 322639 -- \n",
      "+ attr: commty (v), name (v), rsrcs (v), weight (e)\n",
      "Clustering with 810 elements and 2 clusters\n",
      "Comunidad con # mayor recursos 112\n",
      "Big Threshold:  56  \t\t Med Threshold 28\n"
     ]
    }
   ],
   "source": [
    "### Community detection algorithm\n",
    "\n",
    "# Louvain Algorithm\n",
    "parti_pos_res_res = pos_res_res.community_multilevel(\n",
    "    weights=pos_res_res.es()[\"weight\"])\n",
    "print(\"Modularity: %.4f\" % parti_pos_res_res.modularity) # Modualarity value\n",
    "\n",
    "# Add cluster attribute to nodes\n",
    "pos_res_res.vs[\"commty\"] = parti_pos_res_res.membership\n",
    "\n",
    "print(pos_res_res.summary())\n",
    "print(parti_pos_res_res.summary())\n",
    "\n",
    "dict_commts = sub_community_detection(pos_res_res, 0.5, None)\n",
    "len(dict_commts)\n",
    "# Obtener el máximo valor de recursos en el total de comunidades\n",
    "n_res_in_comms = [len(i[1]) for i in dict_commts.values()]\n",
    "max_n_res = max(n_res_in_comms)\n",
    "print(\"Comunidad con # mayor recursos\", max_n_res)\n",
    "\n",
    "# Umbrales para la clasificación de comunidades\n",
    "big_threshold = int(0.50 * max_n_res)\n",
    "med_threshold = int(0.25 * max_n_res)\n",
    "print(\"Big Threshold: \", big_threshold, \" \\t\\t Med Threshold\", med_threshold)"
   ]
  },
  {
   "cell_type": "markdown",
   "metadata": {},
   "source": [
    "## Negative"
   ]
  },
  {
   "cell_type": "markdown",
   "metadata": {},
   "source": [
    "### Users"
   ]
  },
  {
   "cell_type": "code",
   "execution_count": 50,
   "metadata": {},
   "outputs": [
    {
     "name": "stdout",
     "output_type": "stream",
     "text": [
      "Modularity: 0.0063\n",
      "IGRAPH UNW- 108 5365 -- \n",
      "+ attr: commty (v), name (v), rsrcs (v), weight (e)\n",
      "Clustering with 108 elements and 2 clusters\n",
      "Comunidad con # mayor recursos 768\n",
      "Big Threshold:  384  \t\t Med Threshold 192\n"
     ]
    }
   ],
   "source": [
    "### Community detection algorithm\n",
    "\n",
    "# Louvain Algorithm\n",
    "parti_neg_user_user = neg_user_user.community_multilevel(\n",
    "    weights=neg_user_user.es()[\"weight\"])\n",
    "print(\"Modularity: %.4f\" % parti_neg_user_user.modularity) # Modualarity value\n",
    "\n",
    "# Add cluster attribute to nodes\n",
    "neg_user_user.vs[\"commty\"] = parti_neg_user_user.membership\n",
    "\n",
    "print(neg_user_user.summary())\n",
    "print(parti_neg_user_user.summary())\n",
    "\n",
    "dict_commts = sub_community_detection(neg_user_user, 0.5, None)\n",
    "len(dict_commts)\n",
    "# Obtener el máximo valor de recursos en el total de comunidades\n",
    "n_res_in_comms = [len(i[1]) for i in dict_commts.values()]\n",
    "max_n_res = max(n_res_in_comms)\n",
    "print(\"Comunidad con # mayor recursos\", max_n_res)\n",
    "\n",
    "# Umbrales para la clasificación de comunidades\n",
    "big_threshold = int(0.50 * max_n_res)\n",
    "med_threshold = int(0.25 * max_n_res)\n",
    "print(\"Big Threshold: \", big_threshold, \" \\t\\t Med Threshold\", med_threshold)"
   ]
  },
  {
   "cell_type": "markdown",
   "metadata": {},
   "source": [
    "### Resources"
   ]
  },
  {
   "cell_type": "code",
   "execution_count": 51,
   "metadata": {},
   "outputs": [
    {
     "name": "stdout",
     "output_type": "stream",
     "text": [
      "Modularity: 0.0092\n",
      "IGRAPH UNW- 810 322639 -- \n",
      "+ attr: commty (v), name (v), rsrcs (v), weight (e)\n",
      "Clustering with 810 elements and 2 clusters\n",
      "Comunidad con # mayor recursos 112\n",
      "Big Threshold:  56  \t\t Med Threshold 28\n"
     ]
    }
   ],
   "source": [
    "### Community detection algorithm\n",
    "\n",
    "# Louvain Algorithm\n",
    "parti_neg_res_res = neg_res_res.community_multilevel(\n",
    "    weights=neg_res_res.es()[\"weight\"])\n",
    "print(\"Modularity: %.4f\" % parti_neg_res_res.modularity) # Modualarity value\n",
    "\n",
    "# Add cluster attribute to nodes\n",
    "neg_res_res.vs[\"commty\"] = parti_neg_res_res.membership\n",
    "\n",
    "print(neg_res_res.summary())\n",
    "print(parti_neg_res_res.summary())\n",
    "\n",
    "dict_commts = sub_community_detection(neg_res_res, 0.5, None)\n",
    "len(dict_commts)\n",
    "# Obtener el máximo valor de recursos en el total de comunidades\n",
    "n_res_in_comms = [len(i[1]) for i in dict_commts.values()]\n",
    "max_n_res = max(n_res_in_comms)\n",
    "print(\"Comunidad con # mayor recursos\", max_n_res)\n",
    "\n",
    "# Umbrales para la clasificación de comunidades\n",
    "big_threshold = int(0.50 * max_n_res)\n",
    "med_threshold = int(0.25 * max_n_res)\n",
    "print(\"Big Threshold: \", big_threshold, \" \\t\\t Med Threshold\", med_threshold)"
   ]
  },
  {
   "cell_type": "markdown",
   "metadata": {},
   "source": [
    "# Main"
   ]
  },
  {
   "cell_type": "markdown",
   "metadata": {},
   "source": [
    "## Users"
   ]
  },
  {
   "cell_type": "code",
   "execution_count": 52,
   "metadata": {},
   "outputs": [
    {
     "name": "stdout",
     "output_type": "stream",
     "text": [
      "Number of resources in both bipartite network: 107\n",
      "Done\n",
      "Ruido = 80\n"
     ]
    }
   ],
   "source": [
    "users_nodes_in_both = set(pos_bip_network.vs.select(type=0)[\"name\"]).intersection(\n",
    "    set(neg_bip_network.vs.select(type=0)[\"name\"]))\n",
    "print(\"Number of resources in both bipartite network:\", len(users_nodes_in_both))\n",
    "\n",
    "contador = 0\n",
    "\n",
    "# Recorrer por cada recurso y obtener los nodos vecinos en cada grafo bipartito.\n",
    "for res in users_nodes_in_both:\n",
    "    \n",
    "    # Get the nodes in each community\n",
    "    neighs_pos_node = []\n",
    "    for commty in parti_pos_res_res.subgraphs(): # For each commty in the partition\n",
    "        if search_resource_in_commty(res, commty):\n",
    "            neighs_pos_node += [i[\"name\"] for i in commty.vs()]            \n",
    "    # Convert to set\n",
    "    neighs_pos_node = set(neighs_pos_node)\n",
    "    #print(neighs_pos_node)\n",
    "\n",
    "    neighs_neg_node = []\n",
    "    for commty in parti_neg_res_res.subgraphs(): # For each commty in the partition\n",
    "        if search_resource_in_commty(res, commty):\n",
    "            neighs_neg_node += [i[\"name\"] for i in commty.vs()]\n",
    "    # Convert to set\n",
    "    neighs_neg_node = set(neighs_neg_node)\n",
    "    \n",
    "\n",
    "    # Calcular su intersección. Si es conjunto vacío está perfecto\n",
    "    if len(neighs_pos_node.intersection(neighs_neg_node)) != 0: # Empty set\n",
    "        contador += 1\n",
    "        # print(\"Problem\", res)\n",
    "        # print(neighs_pos_node)\n",
    "        # print(neighs_neg_node)\n",
    "        # print(neighs_pos_node.intersection(neighs_neg_node))\n",
    "\n",
    "print(\"Done\")\n",
    "print(\"Ruido =\", contador)"
   ]
  },
  {
   "cell_type": "markdown",
   "metadata": {},
   "source": [
    "## Resources"
   ]
  },
  {
   "cell_type": "code",
   "execution_count": 53,
   "metadata": {},
   "outputs": [
    {
     "name": "stdout",
     "output_type": "stream",
     "text": [
      "Number of resources in both bipartite network: 777\n",
      "Done\n",
      "Ruido = 653\n"
     ]
    }
   ],
   "source": [
    "res_nodes_in_both = set(pos_bip_network.vs.select(type=1)[\"name\"]).intersection(\n",
    "    set(neg_bip_network.vs.select(type=1)[\"name\"]))\n",
    "print(\"Number of resources in both bipartite network:\", len(res_nodes_in_both))\n",
    "\n",
    "contador = 0\n",
    "\n",
    "# Recorrer por cada recurso y obtener los nodos vecinos en cada grafo bipartito.\n",
    "for res in res_nodes_in_both:\n",
    "    \n",
    "    # Get the nodes in each community\n",
    "    neighs_pos_node = []\n",
    "    for commty in parti_pos_user_user.subgraphs(): # For each commty in the partition\n",
    "        if search_resource_in_commty(res, commty):\n",
    "            neighs_pos_node += [i[\"name\"] for i in commty.vs()]            \n",
    "    # Convert to set\n",
    "    neighs_pos_node = set(neighs_pos_node)\n",
    "    #print(neighs_pos_node)\n",
    "\n",
    "    neighs_neg_node = []\n",
    "    for commty in parti_neg_user_user.subgraphs(): # For each commty in the partition\n",
    "        if search_resource_in_commty(res, commty):\n",
    "            neighs_neg_node += [i[\"name\"] for i in commty.vs()]\n",
    "    # Convert to set\n",
    "    neighs_neg_node = set(neighs_neg_node)\n",
    "    \n",
    "\n",
    "    # Calcular su intersección. Si es conjunto vacío está perfecto\n",
    "    if len(neighs_pos_node.intersection(neighs_neg_node)) != 0: # Empty set\n",
    "        contador += 1\n",
    "        # print(\"Problem\", res)\n",
    "        # print(neighs_pos_node)\n",
    "        # print(neighs_neg_node)\n",
    "        # print(neighs_pos_node.intersection(neighs_neg_node))\n",
    "\n",
    "print(\"Done\")\n",
    "print(\"Ruido =\", contador)"
   ]
  }
 ],
 "metadata": {
  "kernelspec": {
   "display_name": "tesis_env",
   "language": "python",
   "name": "python3"
  },
  "language_info": {
   "codemirror_mode": {
    "name": "ipython",
    "version": 3
   },
   "file_extension": ".py",
   "mimetype": "text/x-python",
   "name": "python",
   "nbconvert_exporter": "python",
   "pygments_lexer": "ipython3",
   "version": "3.7.13"
  }
 },
 "nbformat": 4,
 "nbformat_minor": 2
}
