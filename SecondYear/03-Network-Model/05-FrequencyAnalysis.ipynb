{
 "cells": [
  {
   "cell_type": "markdown",
   "metadata": {},
   "source": [
    "# Frequency Analysis\n",
    "\n",
    "In this notebook, we explore the frequency of each access request in the synthetic access log. \\\n",
    "According with the first researches, we identify three\n",
    "properties to take advantage in this new model.\n",
    "* Hierarchy\n",
    "* Noisy access requests\n",
    "* Projections\n"
   ]
  },
  {
   "cell_type": "code",
   "execution_count": 1,
   "metadata": {},
   "outputs": [],
   "source": [
    "### Import libraries\n",
    "\n",
    "import pandas as pd\n",
    "import igraph as ig"
   ]
  },
  {
   "cell_type": "code",
   "execution_count": 4,
   "metadata": {},
   "outputs": [],
   "source": [
    "### User and resource attributes for each dataset\n",
    "\n",
    "DS_ID = \"IoT\" # Availables => user_attributes.keys()\n",
    "OUT_FILE = open(DS_ID+\".output\", \"w\") # File to save the outputs\n",
    "\n",
    "USER_ATTRS = {\"IoT\": [\"role\", \"age\", \"health\", \"uname\"],\n",
    "              \"AMZ\": [\"MGR_ID\",\"ROLE_ROLLUP_1\",\"ROLE_ROLLUP_2\",\"ROLE_DEPTNAME\",\"ROLE_TITLE\",\"ROLE_FAMILY_DESC\",\"ROLE_FAMILY\",\"ROLE_CODE\"],\n",
    "              \"HC\": [\"position\", \"uward\", \"specialties\", \"teams\", \"agentfor\", \"uname\"],\n",
    "              \"UN\": [\"position\",\"departmentu\",\"crsTaken\",\"crsTaught\",\"isChair\", \"uname\"],\n",
    "              \"PM\": [\"adminroles\",\"projects\",\"departmentu\",\"projectsled\",\"expertiseu\",\"isemployee\",\"task\",\"uname\"]}\n",
    "\n",
    "RES_ATTRS = {\"IoT\": [\"area\", \"mode\", \"temperature\", \"lockstatus\", \"rname\"],\n",
    "             \"AMZ\":[\"RID\"],\n",
    "             \"HC\": [\"type\", \"author\", \"patient\", \"topics\", \"tratingTeam\", \"rward\", \"rname\"],\n",
    "             \"UN\": [\"type\",\"student\",\"department\",\"csr\", \"rname\"],\n",
    "             \"PM\": [\"type\",\"project\",\"department\",\"expertise\",\"proprietary\", \"rname\"]}\n",
    "\n",
    "EDG_ATTRS = {\"IoT\": [\"uname\", \"rname\", \"location\", \"timeday\", \"op\", \"ACTION\"],\n",
    "             \"AMZ\": [\"uname\", \"rname\"],\n",
    "             \"HC\": [\"uname\", \"rname\"],\n",
    "             \"UN\":[\"uname\", \"rname\"],\n",
    "             \"PM\":[\"uname\", \"rname\"]}\n"
   ]
  },
  {
   "cell_type": "code",
   "execution_count": 10,
   "metadata": {},
   "outputs": [
    {
     "name": "stdout",
     "output_type": "stream",
     "text": [
      "Done!\n",
      "    role  age  health  uname         type        area   mode  temperature  \\\n",
      "0  child    3  health      0  Smart locks  livingroom  armed          -10   \n",
      "1  child    3  health      0  Smart locks  livingroom  armed          -10   \n",
      "2  child    3  health      0  Smart locks  livingroom  armed          -10   \n",
      "3  child    3  health      0  Smart locks  livingroom  armed          -10   \n",
      "4  child    3  health      0  Smart locks  livingroom  armed          -10   \n",
      "\n",
      "  lockstatus  rname    location timeday       op  ACTION  \n",
      "0     locked    120  livingroom     day   access       1  \n",
      "1     locked    120  livingroom     day  control       1  \n",
      "2     locked    120  livingroom     day      arm       1  \n",
      "3     locked    120  livingroom  midday   access       1  \n",
      "4     locked    120  livingroom  midday  control       1  \n"
     ]
    }
   ],
   "source": [
    "### Load dataset file\n",
    "\n",
    "filename = \"../data/IOT-AL-universal.csv\"\n",
    "\n",
    "acc_log = pd.read_csv(filename)\n",
    "\n",
    "# Remove first column (is the old index)\n",
    "acc_log = acc_log[acc_log.columns[1:]]\n",
    "\n",
    "# Change the uname string values to int values\n",
    "acc_log = acc_log.replace(acc_log.uname.unique(), range(len(acc_log.uname.unique())))\n",
    "\n",
    "# Change the resource id\n",
    "acc_log[\"rname\"] = acc_log[\"rname\"] + max(acc_log.uname.unique()) + 1\n",
    "\n",
    "print(\"Done!\")\n",
    "print(acc_log.head(5)) # Show the first five rows\n",
    "\n",
    "OUT_FILE.write(\"***** \"+DS_ID+\" Output information *****\\n\\n\") # Title of the document\n",
    "\n",
    "# Delete some variables\n",
    "del filename"
   ]
  },
  {
   "cell_type": "markdown",
   "metadata": {},
   "source": [
    "## Attributes analysis"
   ]
  },
  {
   "cell_type": "code",
   "execution_count": 13,
   "metadata": {},
   "outputs": [
    {
     "ename": "NameError",
     "evalue": "name 'USER_ATTRS' is not defined",
     "output_type": "error",
     "traceback": [
      "\u001b[0;31m---------------------------------------------------------------------------\u001b[0m",
      "\u001b[0;31mNameError\u001b[0m                                 Traceback (most recent call last)",
      "Cell \u001b[0;32mIn[13], line 3\u001b[0m\n\u001b[1;32m      1\u001b[0m \u001b[38;5;66;03m### User attributes\u001b[39;00m\n\u001b[0;32m----> 3\u001b[0m user_attributes \u001b[38;5;241m=\u001b[39m USER_ATTRS[DS_ID] \u001b[38;5;66;03m# User attributes from the current dataset\u001b[39;00m\n\u001b[1;32m      4\u001b[0m users \u001b[38;5;241m=\u001b[39m acc_log[user_attributes]\u001b[38;5;241m.\u001b[39mdrop_duplicates()\n\u001b[1;32m      5\u001b[0m users \u001b[38;5;241m=\u001b[39m users\u001b[38;5;241m.\u001b[39mreset_index(drop\u001b[38;5;241m=\u001b[39m\u001b[38;5;28;01mTrue\u001b[39;00m)\n",
      "\u001b[0;31mNameError\u001b[0m: name 'USER_ATTRS' is not defined"
     ]
    }
   ],
   "source": [
    "### User attributes\n",
    "\n",
    "user_attributes = USER_ATTRS[DS_ID] # User attributes from the current dataset\n",
    "users = acc_log[user_attributes].drop_duplicates()\n",
    "users = users.reset_index(drop=True)\n",
    "print(\"|U| =\", len(users))\n",
    "OUT_FILE.write(\"|U| = \"+ str(len(users))+ \"\\n\")\n",
    "users.head()"
   ]
  },
  {
   "cell_type": "code",
   "execution_count": null,
   "metadata": {},
   "outputs": [],
   "source": [
    "### Resource attributes\n",
    "\n",
    "res_attributes = RES_ATTRS[DS_ID]\n",
    "resrs = acc_log[res_attributes].drop_duplicates()\n",
    "resrs = resrs.reset_index(drop=True)\n",
    "print(\"|R| =\", len(resrs))\n",
    "OUT_FILE.write(\"|R| = \"+ str(len(resrs))+ \"\\n\")\n",
    "resrs.head()"
   ]
  },
  {
   "cell_type": "code",
   "execution_count": null,
   "metadata": {},
   "outputs": [],
   "source": [
    "# Edges attributes\n",
    "\n",
    "edges_attributes = EDG_ATTRS[DS_ID]\n",
    "edges = acc_log[edges_attributes].drop_duplicates()\n",
    "edges = edges.reset_index(drop=True)\n",
    "#edges[\"weight\"] = edges.value_counts(edges_attributes, normalize=True).values\n",
    "OUT_FILE.write(\"|E| = \"+ str(len(edges))+ \"\\n\")\n",
    "edges.head()"
   ]
  },
  {
   "cell_type": "markdown",
   "metadata": {},
   "source": [
    "## Graph contruction"
   ]
  },
  {
   "cell_type": "code",
   "execution_count": null,
   "metadata": {},
   "outputs": [],
   "source": [
    "### Create the bipartite graph\n",
    "\n",
    "# Iteration over tuples in the dataframe\n",
    "tuple_list = edges.itertuples(index=False)\n",
    "\n",
    "# Using the TupleList method to build the network\n",
    "bip_network = ig.Graph.TupleList(tuple_list, directed=False,\n",
    "                                 edge_attrs=edges.columns[2:].tolist())\n",
    "\n",
    "# Print summary of the bipartite network\n",
    "print(bip_network.summary())\n",
    "OUT_FILE.write(\"\\nBipartite Graph Summary: \\n\" + bip_network.summary())\n",
    "\n",
    "# Check if it is a bipartite network\n",
    "if bip_network.is_bipartite():\n",
    "    print(\"It is bipartite!\")\n",
    "    OUT_FILE.write(\"\\nIt is bipartite!\\n\")\n",
    "else:\n",
    "    print(\"The network is not bipartite.\")\n",
    "    OUT_FILE.write(\"The network is not bipartite.\\n\")\n",
    "\n",
    "del tuple_list"
   ]
  },
  {
   "cell_type": "code",
   "execution_count": null,
   "metadata": {},
   "outputs": [],
   "source": [
    "### Add user attributes\n",
    "\n",
    "# Add type of node:     0=User      1=Resource\n",
    "user_nodes = bip_network.vs.select(name_le=max(users.uname.unique()))\n",
    "resource_nodes = bip_network.vs.select(name_gt=max(users.uname.unique()))\n",
    "user_nodes[\"type\"] = 0\n",
    "resource_nodes[\"type\"] = 1\n",
    "\n",
    "# Add attributes\n",
    "for attr in user_attributes[:-1]:   # User attributes\n",
    "    user_nodes[attr] = users[attr]\n",
    "for attr in res_attributes[:-1]:    # Resource attributes\n",
    "    resource_nodes[attr] = resrs[attr]\n",
    "\n",
    "# Remove objecto to free memory\n",
    "del user_nodes, resource_nodes"
   ]
  },
  {
   "cell_type": "code",
   "execution_count": null,
   "metadata": {},
   "outputs": [],
   "source": [
    "# Save the graph\n",
    "bip_network.write(DS_ID + \"bip-graph.graphml\")"
   ]
  },
  {
   "cell_type": "code",
   "execution_count": 11,
   "metadata": {},
   "outputs": [],
   "source": [
    "OUT_FILE.close()"
   ]
  },
  {
   "cell_type": "markdown",
   "metadata": {},
   "source": [
    "Vamos a agregar como un entero la jerarquia de un usuarios o recurso global.\n",
    "Qué pasa con los valores iguales? Es decir que la suma de participación es igual.\n",
    "\n",
    "UN factor puede ser el número de accesos de aristas. Una especia de cobinación\n",
    "entre el número de aristas y su peso. La más simple es el promedio de suma pero\n",
    "no creo que sea la mejor"
   ]
  },
  {
   "cell_type": "markdown",
   "metadata": {},
   "source": [
    "Aprovechar la estructura de la red es una excelente idea y puede proporcionar información valiosa para la asignación de jerarquías en tu grafo. Aquí hay algunas estrategias que puedes considerar para aprovechar la estructura de la red:\n",
    "\n",
    "1. **Centralidad de Nodo:**\n",
    "   - Utiliza métricas de centralidad, como la centralidad de grado, la centralidad de intermediación o la centralidad de cercanía. Los nodos con mayor centralidad suelen ocupar posiciones más prominentes en la red y podrían recibir jerarquías más altas.\n",
    "\n",
    "2. **Conectividad y Comunidades:**\n",
    "   - Examina la conectividad de los nodos y las comunidades en la red. Los nodos que están altamente conectados o que pertenecen a comunidades bien definidas podrían tener jerarquías más altas.\n",
    "\n",
    "3. **Estructura Bipartita:**\n",
    "   - Dado que estás trabajando con un grafo bipartito que representa usuarios y recursos, considera la estructura específica de este tipo de grafos. Podrías aplicar técnicas específicas para grafos bipartitos, como proyecciones unipartitas, para analizar la relación entre usuarios y recursos.\n",
    "\n",
    "4. **Propagación de Etiquetas:**\n",
    "   - Aplica algoritmos de propagación de etiquetas o algoritmos de clasificación para asignar jerarquías basadas en la información de nodos cercanos. Estos algoritmos pueden aprovechar la estructura local de la red.\n",
    "\n",
    "5. **Similitud de Vecinos:**\n",
    "   - Calcula la similitud entre nodos basada en los vecinos compartidos. Nodos con vecinos similares podrían recibir jerarquías similares.\n",
    "\n",
    "6. **Diferenciación de Roles:**\n",
    "   - Analiza si existen roles diferenciados en la red y asigna jerarquías en función de estos roles. Por ejemplo, algunos nodos pueden actuar como \"centros\" de la red, mientras que otros son más periféricos.\n",
    "\n",
    "7. **Algoritmos de Clustering:**\n",
    "   - Aplica algoritmos de clustering para identificar grupos de nodos con estructuras similares. Los nodos dentro del mismo cluster podrían tener jerarquías similares.\n",
    "\n",
    "8. **Análisis de Caminos Cortos:**\n",
    "   - Examina los caminos cortos en la red. Nodos que se encuentran en rutas de acceso más cortas entre otros nodos podrían recibir jerarquías más altas.\n",
    "\n",
    "Al aprovechar la estructura de la red, puedes obtener insights más profundos y contextuales sobre la importancia y jerarquía de los nodos en tu grafo. La elección de la estrategia dependerá de la naturaleza específica de tu grafo y los objetivos de tu análisis. Experimenta con diferentes enfoques y evalúa cómo afectan tus resultados."
   ]
  },
  {
   "cell_type": "code",
   "execution_count": null,
   "metadata": {},
   "outputs": [],
   "source": []
  }
 ],
 "metadata": {
  "kernelspec": {
   "display_name": "base",
   "language": "python",
   "name": "python3"
  },
  "language_info": {
   "codemirror_mode": {
    "name": "ipython",
    "version": 3
   },
   "file_extension": ".py",
   "mimetype": "text/x-python",
   "name": "python",
   "nbconvert_exporter": "python",
   "pygments_lexer": "ipython3",
   "version": "3.7.13"
  }
 },
 "nbformat": 4,
 "nbformat_minor": 2
}
