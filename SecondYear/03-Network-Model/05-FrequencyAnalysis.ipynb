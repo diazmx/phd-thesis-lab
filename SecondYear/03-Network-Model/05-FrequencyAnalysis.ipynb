{
 "cells": [
  {
   "cell_type": "markdown",
   "metadata": {},
   "source": [
    "# Frequency Analysis\n",
    "\n",
    "In this notebook, we explore the frequency of each access request in the synthetic access log. \\\n",
    "According with the first researches, we identify three\n",
    "properties to take advantage in this new model.\n",
    "* Hierarchy\n",
    "* Noisy access requests\n",
    "* Projections\n"
   ]
  },
  {
   "cell_type": "code",
   "execution_count": 1,
   "metadata": {},
   "outputs": [],
   "source": [
    "### Import libraries\n",
    "\n",
    "import pandas as pd\n",
    "import igraph as ig\n",
    "import matplotlib.pyplot as plt"
   ]
  },
  {
   "cell_type": "code",
   "execution_count": 2,
   "metadata": {},
   "outputs": [],
   "source": [
    "### User and resource attributes for each dataset\n",
    "\n",
    "DS_ID = \"IoT\" # Availables => user_attributes.keys()\n",
    "OUT_FILE = open(DS_ID+\".output\", \"w\") # File to save the outputs\n",
    "\n",
    "USER_ATTRS = {\"IoT\": [\"role\", \"age\", \"health\", \"uname\"],\n",
    "              \"AMZ\": [\"MGR_ID\",\"ROLE_ROLLUP_1\",\"ROLE_ROLLUP_2\",\"ROLE_DEPTNAME\",\"ROLE_TITLE\",\"ROLE_FAMILY_DESC\",\"ROLE_FAMILY\",\"ROLE_CODE\"],\n",
    "              \"HC\": [\"position\", \"uward\", \"specialties\", \"teams\", \"agentfor\", \"uname\"],\n",
    "              \"UN\": [\"position\",\"departmentu\",\"crsTaken\",\"crsTaught\",\"isChair\", \"uname\"],\n",
    "              \"PM\": [\"adminroles\",\"projects\",\"departmentu\",\"projectsled\",\"expertiseu\",\"isemployee\",\"task\",\"uname\"]}\n",
    "\n",
    "RES_ATTRS = {\"IoT\": [\"area\", \"mode\", \"temperature\", \"lockstatus\", \"rname\"],\n",
    "             \"AMZ\":[\"RID\"],\n",
    "             \"HC\": [\"type\", \"author\", \"patient\", \"topics\", \"tratingTeam\", \"rward\", \"rname\"],\n",
    "             \"UN\": [\"type\",\"student\",\"department\",\"csr\", \"rname\"],\n",
    "             \"PM\": [\"type\",\"project\",\"department\",\"expertise\",\"proprietary\", \"rname\"]}\n",
    "\n",
    "EDG_ATTRS = {\"IoT\": [\"uname\", \"rname\", \"location\", \"timeday\", \"op\", \"ACTION\"],\n",
    "             \"AMZ\": [\"uname\", \"rname\"],\n",
    "             \"HC\": [\"uname\", \"rname\"],\n",
    "             \"UN\":[\"uname\", \"rname\"],\n",
    "             \"PM\":[\"uname\", \"rname\"]}\n"
   ]
  },
  {
   "cell_type": "code",
   "execution_count": 3,
   "metadata": {},
   "outputs": [
    {
     "name": "stdout",
     "output_type": "stream",
     "text": [
      "Done!\n",
      "    role  age  health  uname         type        area   mode  temperature  \\\n",
      "0  child    3  health      0  Smart locks  livingroom  armed           25   \n",
      "1  child    3  health      0           TV     bedroom  armed           35   \n",
      "2  child    3  health      0  Smart locks    backyard  night           15   \n",
      "3  child    3  health      0           TV     bedroom  armed          -10   \n",
      "4  child    3  health      0  Smart locks  livingroom  armed            5   \n",
      "\n",
      "  lockstatus  rname    location   timeday         op  ACTION  \n",
      "0     locked    134    backyard  midnight  emergency       0  \n",
      "1     locked    996    backyard     night     access       1  \n",
      "2   unlocked    307  livingroom     night  emergency       0  \n",
      "3     locked    978    backyard  midnight  emergency       0  \n",
      "4   unlocked    127     bedroom  midnight        arm       1  \n"
     ]
    }
   ],
   "source": [
    "### Load dataset file\n",
    "\n",
    "filename = \"../data/IoT-expo-universal.csv\"\n",
    "\n",
    "acc_log = pd.read_csv(filename)\n",
    "\n",
    "# Remove first column (is the old index)\n",
    "acc_log = acc_log[acc_log.columns[1:]]\n",
    "\n",
    "# Change the uname string values to int values\n",
    "acc_log = acc_log.replace(acc_log.uname.unique(), range(len(acc_log.uname.unique())))\n",
    "\n",
    "# Change the resource id\n",
    "acc_log[\"rname\"] = acc_log[\"rname\"] + max(acc_log.uname.unique()) + 1\n",
    "\n",
    "print(\"Done!\")\n",
    "print(acc_log.head(5)) # Show the first five rows\n",
    "\n",
    "OUT_FILE.write(\"***** \"+DS_ID+\" Output information *****\\n\\n\") # Title of the document\n",
    "\n",
    "# Delete some variables\n",
    "del filename"
   ]
  },
  {
   "cell_type": "markdown",
   "metadata": {},
   "source": [
    "## Attributes analysis"
   ]
  },
  {
   "cell_type": "code",
   "execution_count": 4,
   "metadata": {},
   "outputs": [
    {
     "name": "stdout",
     "output_type": "stream",
     "text": [
      "|U| = 120\n"
     ]
    },
    {
     "data": {
      "text/html": [
       "<div>\n",
       "<style scoped>\n",
       "    .dataframe tbody tr th:only-of-type {\n",
       "        vertical-align: middle;\n",
       "    }\n",
       "\n",
       "    .dataframe tbody tr th {\n",
       "        vertical-align: top;\n",
       "    }\n",
       "\n",
       "    .dataframe thead th {\n",
       "        text-align: right;\n",
       "    }\n",
       "</style>\n",
       "<table border=\"1\" class=\"dataframe\">\n",
       "  <thead>\n",
       "    <tr style=\"text-align: right;\">\n",
       "      <th></th>\n",
       "      <th>role</th>\n",
       "      <th>age</th>\n",
       "      <th>health</th>\n",
       "      <th>uname</th>\n",
       "    </tr>\n",
       "  </thead>\n",
       "  <tbody>\n",
       "    <tr>\n",
       "      <th>0</th>\n",
       "      <td>child</td>\n",
       "      <td>3</td>\n",
       "      <td>health</td>\n",
       "      <td>0</td>\n",
       "    </tr>\n",
       "    <tr>\n",
       "      <th>1</th>\n",
       "      <td>child</td>\n",
       "      <td>3</td>\n",
       "      <td>anormal</td>\n",
       "      <td>1</td>\n",
       "    </tr>\n",
       "    <tr>\n",
       "      <th>2</th>\n",
       "      <td>child</td>\n",
       "      <td>3</td>\n",
       "      <td>emergency</td>\n",
       "      <td>2</td>\n",
       "    </tr>\n",
       "    <tr>\n",
       "      <th>3</th>\n",
       "      <td>child</td>\n",
       "      <td>5</td>\n",
       "      <td>health</td>\n",
       "      <td>3</td>\n",
       "    </tr>\n",
       "    <tr>\n",
       "      <th>4</th>\n",
       "      <td>child</td>\n",
       "      <td>5</td>\n",
       "      <td>anormal</td>\n",
       "      <td>4</td>\n",
       "    </tr>\n",
       "  </tbody>\n",
       "</table>\n",
       "</div>"
      ],
      "text/plain": [
       "    role  age     health  uname\n",
       "0  child    3     health      0\n",
       "1  child    3    anormal      1\n",
       "2  child    3  emergency      2\n",
       "3  child    5     health      3\n",
       "4  child    5    anormal      4"
      ]
     },
     "execution_count": 4,
     "metadata": {},
     "output_type": "execute_result"
    }
   ],
   "source": [
    "### User attributes\n",
    "\n",
    "user_attributes = USER_ATTRS[DS_ID] # User attributes from the current dataset\n",
    "users = acc_log[user_attributes].drop_duplicates()\n",
    "users = users.reset_index(drop=True)\n",
    "print(\"|U| =\", len(users))\n",
    "OUT_FILE.write(\"|U| = \"+ str(len(users))+ \"\\n\")\n",
    "users.head()"
   ]
  },
  {
   "cell_type": "code",
   "execution_count": 5,
   "metadata": {},
   "outputs": [
    {
     "name": "stdout",
     "output_type": "stream",
     "text": [
      "|R| = 990\n"
     ]
    },
    {
     "data": {
      "text/html": [
       "<div>\n",
       "<style scoped>\n",
       "    .dataframe tbody tr th:only-of-type {\n",
       "        vertical-align: middle;\n",
       "    }\n",
       "\n",
       "    .dataframe tbody tr th {\n",
       "        vertical-align: top;\n",
       "    }\n",
       "\n",
       "    .dataframe thead th {\n",
       "        text-align: right;\n",
       "    }\n",
       "</style>\n",
       "<table border=\"1\" class=\"dataframe\">\n",
       "  <thead>\n",
       "    <tr style=\"text-align: right;\">\n",
       "      <th></th>\n",
       "      <th>area</th>\n",
       "      <th>mode</th>\n",
       "      <th>temperature</th>\n",
       "      <th>lockstatus</th>\n",
       "      <th>rname</th>\n",
       "    </tr>\n",
       "  </thead>\n",
       "  <tbody>\n",
       "    <tr>\n",
       "      <th>0</th>\n",
       "      <td>livingroom</td>\n",
       "      <td>armed</td>\n",
       "      <td>25</td>\n",
       "      <td>locked</td>\n",
       "      <td>134</td>\n",
       "    </tr>\n",
       "    <tr>\n",
       "      <th>1</th>\n",
       "      <td>bedroom</td>\n",
       "      <td>armed</td>\n",
       "      <td>35</td>\n",
       "      <td>locked</td>\n",
       "      <td>996</td>\n",
       "    </tr>\n",
       "    <tr>\n",
       "      <th>2</th>\n",
       "      <td>backyard</td>\n",
       "      <td>night</td>\n",
       "      <td>15</td>\n",
       "      <td>unlocked</td>\n",
       "      <td>307</td>\n",
       "    </tr>\n",
       "    <tr>\n",
       "      <th>3</th>\n",
       "      <td>bedroom</td>\n",
       "      <td>armed</td>\n",
       "      <td>-10</td>\n",
       "      <td>locked</td>\n",
       "      <td>978</td>\n",
       "    </tr>\n",
       "    <tr>\n",
       "      <th>4</th>\n",
       "      <td>livingroom</td>\n",
       "      <td>armed</td>\n",
       "      <td>5</td>\n",
       "      <td>unlocked</td>\n",
       "      <td>127</td>\n",
       "    </tr>\n",
       "  </tbody>\n",
       "</table>\n",
       "</div>"
      ],
      "text/plain": [
       "         area   mode  temperature lockstatus  rname\n",
       "0  livingroom  armed           25     locked    134\n",
       "1     bedroom  armed           35     locked    996\n",
       "2    backyard  night           15   unlocked    307\n",
       "3     bedroom  armed          -10     locked    978\n",
       "4  livingroom  armed            5   unlocked    127"
      ]
     },
     "execution_count": 5,
     "metadata": {},
     "output_type": "execute_result"
    }
   ],
   "source": [
    "### Resource attributes\n",
    "\n",
    "res_attributes = RES_ATTRS[DS_ID]\n",
    "resrs = acc_log[res_attributes].drop_duplicates()\n",
    "resrs = resrs.reset_index(drop=True)\n",
    "print(\"|R| =\", len(resrs))\n",
    "OUT_FILE.write(\"|R| = \"+ str(len(resrs))+ \"\\n\")\n",
    "resrs.head()"
   ]
  },
  {
   "cell_type": "code",
   "execution_count": 32,
   "metadata": {},
   "outputs": [
    {
     "data": {
      "text/html": [
       "<div>\n",
       "<style scoped>\n",
       "    .dataframe tbody tr th:only-of-type {\n",
       "        vertical-align: middle;\n",
       "    }\n",
       "\n",
       "    .dataframe tbody tr th {\n",
       "        vertical-align: top;\n",
       "    }\n",
       "\n",
       "    .dataframe thead th {\n",
       "        text-align: right;\n",
       "    }\n",
       "</style>\n",
       "<table border=\"1\" class=\"dataframe\">\n",
       "  <thead>\n",
       "    <tr style=\"text-align: right;\">\n",
       "      <th></th>\n",
       "      <th>uname</th>\n",
       "      <th>rname</th>\n",
       "      <th>weight</th>\n",
       "    </tr>\n",
       "  </thead>\n",
       "  <tbody>\n",
       "    <tr>\n",
       "      <th>0</th>\n",
       "      <td>0</td>\n",
       "      <td>121</td>\n",
       "      <td>0.000500</td>\n",
       "    </tr>\n",
       "    <tr>\n",
       "      <th>1</th>\n",
       "      <td>0</td>\n",
       "      <td>123</td>\n",
       "      <td>0.000473</td>\n",
       "    </tr>\n",
       "    <tr>\n",
       "      <th>2</th>\n",
       "      <td>0</td>\n",
       "      <td>161</td>\n",
       "      <td>0.000471</td>\n",
       "    </tr>\n",
       "    <tr>\n",
       "      <th>3</th>\n",
       "      <td>0</td>\n",
       "      <td>120</td>\n",
       "      <td>0.000461</td>\n",
       "    </tr>\n",
       "    <tr>\n",
       "      <th>4</th>\n",
       "      <td>1</td>\n",
       "      <td>161</td>\n",
       "      <td>0.000423</td>\n",
       "    </tr>\n",
       "  </tbody>\n",
       "</table>\n",
       "</div>"
      ],
      "text/plain": [
       "   uname  rname    weight\n",
       "0      0    121  0.000500\n",
       "1      0    123  0.000473\n",
       "2      0    161  0.000471\n",
       "3      0    120  0.000461\n",
       "4      1    161  0.000423"
      ]
     },
     "execution_count": 32,
     "metadata": {},
     "output_type": "execute_result"
    }
   ],
   "source": [
    "# Edges attributes\n",
    "\n",
    "edges_attributes = EDG_ATTRS[DS_ID]\n",
    "#edges = acc_log[edges_attributes].drop_duplicates()\n",
    "#edges = acc_log.value_counts(edges_attributes, normalize=True)\n",
    "edges = acc_log.value_counts([\"uname\", \"rname\"], normalize=True)\n",
    "edges = edges.reset_index().rename(columns={0: 'weight'}).to_dict(orient='records')\n",
    "# edges = edges.reset_index(drop=True)\n",
    "edges = pd.DataFrame(edges)\n",
    "edges = edges.rename(columns={'proportion': 'weight'})\n",
    "#edges[\"weight\"] = edges.value_counts(edges_attributes, normalize=True).values\n",
    "#OUT_FILE.write(\"|E| = \"+ str(len(edges))+ \"\\n\")\n",
    "edges.head()"
   ]
  },
  {
   "cell_type": "markdown",
   "metadata": {},
   "source": [
    "## Graph contruction"
   ]
  },
  {
   "cell_type": "code",
   "execution_count": 34,
   "metadata": {},
   "outputs": [
    {
     "name": "stdout",
     "output_type": "stream",
     "text": [
      "IGRAPH UNW- 1107 118334 -- \n",
      "+ attr: name (v), weight (e)\n",
      "It is bipartite!\n"
     ]
    }
   ],
   "source": [
    "### Create the bipartite graph\n",
    "\n",
    "# Iteration over tuples in the dataframe\n",
    "tuple_list = edges.itertuples(index=False)\n",
    "\n",
    "# Using the TupleList method to build the network\n",
    "bip_network = ig.Graph.TupleList(tuple_list, directed=False,\n",
    "                                 edge_attrs=edges.columns[2:].tolist())\n",
    "\n",
    "# Print summary of the bipartite network\n",
    "print(bip_network.summary())\n",
    "#OUT_FILE.write(\"\\nBipartite Graph Summary: \\n\" + bip_network.summary())\n",
    "\n",
    "# Check if it is a bipartite network\n",
    "if bip_network.is_bipartite():\n",
    "    print(\"It is bipartite!\")\n",
    "#    OUT_FILE.write(\"\\nIt is bipartite!\\n\")\n",
    "else:\n",
    "    print(\"The network is not bipartite.\")\n",
    "#    OUT_FILE.write(\"The network is not bipartite.\\n\")\n",
    "\n",
    "#del tuple_list"
   ]
  },
  {
   "cell_type": "code",
   "execution_count": 35,
   "metadata": {},
   "outputs": [],
   "source": [
    "### Add user attributes\n",
    "\n",
    "# Add type of node:     0=User      1=Resource\n",
    "user_nodes = bip_network.vs.select(name_le=max(users.uname.unique()))\n",
    "resource_nodes = bip_network.vs.select(name_gt=max(users.uname.unique()))\n",
    "user_nodes[\"type\"] = 0\n",
    "resource_nodes[\"type\"] = 1\n",
    "\n",
    "# Add attributes\n",
    "for attr in user_attributes[:-1]:   # User attributes\n",
    "    user_nodes[attr] = users[attr]\n",
    "for attr in res_attributes[:-1]:    # Resource attributes\n",
    "    resource_nodes[attr] = resrs[attr]\n",
    "\n",
    "# Remove objecto to free memory\n",
    "del user_nodes, resource_nodes"
   ]
  },
  {
   "cell_type": "code",
   "execution_count": 36,
   "metadata": {},
   "outputs": [],
   "source": [
    "# Save the graph\n",
    "bip_network.write(DS_ID + \"_bip-graph.graphml\")"
   ]
  },
  {
   "cell_type": "code",
   "execution_count": 28,
   "metadata": {},
   "outputs": [],
   "source": [
    "OUT_FILE.close()"
   ]
  },
  {
   "cell_type": "markdown",
   "metadata": {},
   "source": [
    "Vamos a agregar como un entero la jerarquia de un usuarios o recurso global.\n",
    "Qué pasa con los valores iguales? Es decir que la suma de participación es igual.\n",
    "\n",
    "UN factor puede ser el número de accesos de aristas. Una especia de cobinación\n",
    "entre el número de aristas y su peso. La más simple es el promedio de suma pero\n",
    "no creo que sea la mejor"
   ]
  },
  {
   "cell_type": "markdown",
   "metadata": {},
   "source": [
    "Aprovechar la estructura de la red es una excelente idea y puede proporcionar información valiosa para la asignación de jerarquías en tu grafo. Aquí hay algunas estrategias que puedes considerar para aprovechar la estructura de la red:\n",
    "\n",
    "1. **Centralidad de Nodo:**\n",
    "   - Utiliza métricas de centralidad, como la centralidad de grado, la centralidad de intermediación o la centralidad de cercanía. Los nodos con mayor centralidad suelen ocupar posiciones más prominentes en la red y podrían recibir jerarquías más altas.\n",
    "\n",
    "2. **Conectividad y Comunidades:**\n",
    "   - Examina la conectividad de los nodos y las comunidades en la red. Los nodos que están altamente conectados o que pertenecen a comunidades bien definidas podrían tener jerarquías más altas.\n",
    "\n",
    "3. **Estructura Bipartita:**\n",
    "   - Dado que estás trabajando con un grafo bipartito que representa usuarios y recursos, considera la estructura específica de este tipo de grafos. Podrías aplicar técnicas específicas para grafos bipartitos, como proyecciones unipartitas, para analizar la relación entre usuarios y recursos.\n",
    "\n",
    "4. **Propagación de Etiquetas:**\n",
    "   - Aplica algoritmos de propagación de etiquetas o algoritmos de clasificación para asignar jerarquías basadas en la información de nodos cercanos. Estos algoritmos pueden aprovechar la estructura local de la red.\n",
    "\n",
    "5. **Similitud de Vecinos:**\n",
    "   - Calcula la similitud entre nodos basada en los vecinos compartidos. Nodos con vecinos similares podrían recibir jerarquías similares.\n",
    "\n",
    "6. **Diferenciación de Roles:**\n",
    "   - Analiza si existen roles diferenciados en la red y asigna jerarquías en función de estos roles. Por ejemplo, algunos nodos pueden actuar como \"centros\" de la red, mientras que otros son más periféricos.\n",
    "\n",
    "7. **Algoritmos de Clustering:**\n",
    "   - Aplica algoritmos de clustering para identificar grupos de nodos con estructuras similares. Los nodos dentro del mismo cluster podrían tener jerarquías similares.\n",
    "\n",
    "8. **Análisis de Caminos Cortos:**\n",
    "   - Examina los caminos cortos en la red. Nodos que se encuentran en rutas de acceso más cortas entre otros nodos podrían recibir jerarquías más altas.\n",
    "\n",
    "Al aprovechar la estructura de la red, puedes obtener insights más profundos y contextuales sobre la importancia y jerarquía de los nodos en tu grafo. La elección de la estrategia dependerá de la naturaleza específica de tu grafo y los objetivos de tu análisis. Experimenta con diferentes enfoques y evalúa cómo afectan tus resultados."
   ]
  },
  {
   "cell_type": "code",
   "execution_count": null,
   "metadata": {},
   "outputs": [],
   "source": []
  },
  {
   "cell_type": "markdown",
   "metadata": {},
   "source": [
    "## Jerarquía."
   ]
  },
  {
   "cell_type": "code",
   "execution_count": 21,
   "metadata": {},
   "outputs": [
    {
     "name": "stdout",
     "output_type": "stream",
     "text": [
      "# Access requests =  5702313\n",
      "# Unique Access requests =  1830385 (32.10%)\n",
      "Difference =  3871928\n"
     ]
    }
   ],
   "source": [
    "### Number of duplicated access requests\n",
    "print(\"# Access requests = \", len(acc_log))\n",
    "print(\"# Unique Access requests = \", len(acc_log.drop_duplicates()), \n",
    "      \"({:.2f}%)\".format((len(acc_log.drop_duplicates())*100)/len(acc_log)))\n",
    "difference_acc_req = len(acc_log) - len(acc_log.drop_duplicates())\n",
    "print(\"Difference = \", difference_acc_req)"
   ]
  },
  {
   "cell_type": "code",
   "execution_count": 22,
   "metadata": {},
   "outputs": [
    {
     "data": {
      "image/png": "[encoded data removed]",
      "text/plain": [
       "<Figure size 500x500 with 1 Axes>"
      ]
     },
     "metadata": {},
     "output_type": "display_data"
    }
   ],
   "source": [
    "fig, ax = plt.subplots(figsize=(5, 5))\n",
    "ax.spines[['right', 'top']].set_visible(False)\n",
    "to_plot = acc_log.rname.value_counts()\n",
    "ax.plot(range(len(to_plot)), to_plot)\n",
    "ax.set_xlabel('Index Access Request', loc=\"left\", size=\"large\")\n",
    "ax.set_ylabel('$P_k$', loc=\"top\", size=\"large\", parse_math=True)\n",
    "ax.yaxis.set_label_coords(-0.03,0.95)\n",
    "ax.set_title(\"Distribution of access requests in $L$.\", size=\"xx-large\", x=0.29, y=1, parse_math=True)\n",
    "plt.show()"
   ]
  },
  {
   "cell_type": "code",
   "execution_count": 23,
   "metadata": {},
   "outputs": [
    {
     "data": {
      "text/html": [
       "<div>\n",
       "<style scoped>\n",
       "    .dataframe tbody tr th:only-of-type {\n",
       "        vertical-align: middle;\n",
       "    }\n",
       "\n",
       "    .dataframe tbody tr th {\n",
       "        vertical-align: top;\n",
       "    }\n",
       "\n",
       "    .dataframe thead th {\n",
       "        text-align: right;\n",
       "    }\n",
       "</style>\n",
       "<table border=\"1\" class=\"dataframe\">\n",
       "  <thead>\n",
       "    <tr style=\"text-align: right;\">\n",
       "      <th></th>\n",
       "      <th>uname</th>\n",
       "      <th>rname</th>\n",
       "      <th>count</th>\n",
       "    </tr>\n",
       "  </thead>\n",
       "  <tbody>\n",
       "    <tr>\n",
       "      <th>0</th>\n",
       "      <td>0</td>\n",
       "      <td>121</td>\n",
       "      <td>2849</td>\n",
       "    </tr>\n",
       "    <tr>\n",
       "      <th>1</th>\n",
       "      <td>0</td>\n",
       "      <td>123</td>\n",
       "      <td>2698</td>\n",
       "    </tr>\n",
       "    <tr>\n",
       "      <th>2</th>\n",
       "      <td>0</td>\n",
       "      <td>161</td>\n",
       "      <td>2685</td>\n",
       "    </tr>\n",
       "    <tr>\n",
       "      <th>3</th>\n",
       "      <td>0</td>\n",
       "      <td>120</td>\n",
       "      <td>2627</td>\n",
       "    </tr>\n",
       "    <tr>\n",
       "      <th>4</th>\n",
       "      <td>1</td>\n",
       "      <td>161</td>\n",
       "      <td>2411</td>\n",
       "    </tr>\n",
       "    <tr>\n",
       "      <th>...</th>\n",
       "      <td>...</td>\n",
       "      <td>...</td>\n",
       "      <td>...</td>\n",
       "    </tr>\n",
       "    <tr>\n",
       "      <th>118329</th>\n",
       "      <td>119</td>\n",
       "      <td>658</td>\n",
       "      <td>1</td>\n",
       "    </tr>\n",
       "    <tr>\n",
       "      <th>118330</th>\n",
       "      <td>100</td>\n",
       "      <td>748</td>\n",
       "      <td>1</td>\n",
       "    </tr>\n",
       "    <tr>\n",
       "      <th>118331</th>\n",
       "      <td>86</td>\n",
       "      <td>1029</td>\n",
       "      <td>1</td>\n",
       "    </tr>\n",
       "    <tr>\n",
       "      <th>118332</th>\n",
       "      <td>114</td>\n",
       "      <td>983</td>\n",
       "      <td>1</td>\n",
       "    </tr>\n",
       "    <tr>\n",
       "      <th>118333</th>\n",
       "      <td>111</td>\n",
       "      <td>855</td>\n",
       "      <td>1</td>\n",
       "    </tr>\n",
       "  </tbody>\n",
       "</table>\n",
       "<p>118334 rows × 3 columns</p>\n",
       "</div>"
      ],
      "text/plain": [
       "        uname  rname  count\n",
       "0           0    121   2849\n",
       "1           0    123   2698\n",
       "2           0    161   2685\n",
       "3           0    120   2627\n",
       "4           1    161   2411\n",
       "...       ...    ...    ...\n",
       "118329    119    658      1\n",
       "118330    100    748      1\n",
       "118331     86   1029      1\n",
       "118332    114    983      1\n",
       "118333    111    855      1\n",
       "\n",
       "[118334 rows x 3 columns]"
      ]
     },
     "execution_count": 23,
     "metadata": {},
     "output_type": "execute_result"
    }
   ],
   "source": [
    "to_plot = acc_log.value_counts([\"uname\", \"rname\"], normalize=False)\n",
    "to_plot_dict = to_plot.reset_index().rename(columns={0: 'counts'}).to_dict(orient='records')\n",
    "pd.DataFrame(to_plot_dict)"
   ]
  },
  {
   "cell_type": "markdown",
   "metadata": {},
   "source": [
    "Hola te paso la lista de lo que requiero\n",
    "* El algoritmo genera solicitudes duplicadas?\n",
    "* El algoritmo genera solicitudes con ruido (misma solicitud con DENY y PERMIT)\n",
    "<>"
   ]
  }
 ],
 "metadata": {
  "kernelspec": {
   "display_name": "base",
   "language": "python",
   "name": "python3"
  },
  "language_info": {
   "codemirror_mode": {
    "name": "ipython",
    "version": 3
   },
   "file_extension": ".py",
   "mimetype": "text/x-python",
   "name": "python",
   "nbconvert_exporter": "python",
   "pygments_lexer": "ipython3",
   "version": "3.11.5"
  }
 },
 "nbformat": 4,
 "nbformat_minor": 2
}
