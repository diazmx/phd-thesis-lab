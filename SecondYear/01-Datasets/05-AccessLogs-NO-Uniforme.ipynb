{
 "cells": [
  {
   "cell_type": "markdown",
   "metadata": {},
   "source": [
    "# Access logs no-uniforme"
   ]
  },
  {
   "cell_type": "code",
   "execution_count": 1,
   "metadata": {},
   "outputs": [],
   "source": [
    "import numpy as np\n",
    "import pandas as pd\n",
    "import matplotlib.pyplot as plt\n",
    "import matplotlib as mpl\n",
    "from itertools import product\n",
    "from pathlib import Path\n",
    "from sklearn.model_selection import StratifiedShuffleSplit"
   ]
  },
  {
   "cell_type": "markdown",
   "metadata": {},
   "source": [
    "## Auxiliar functions"
   ]
  },
  {
   "cell_type": "code",
   "execution_count": 2,
   "metadata": {},
   "outputs": [],
   "source": [
    "###\n",
    "class AccessLog:\n",
    "    \"\"\" All operation in AccessLog (AL) \"\"\"\n",
    "    def __init__(self, df_users, df_rscs, df_env, df_op) -> None:\n",
    "        \"\"\" Initialize AL attributes \"\"\"\n",
    "        self.df_users = df_users\n",
    "        self.df_rscs = df_rscs\n",
    "        self.df_env = df_env\n",
    "        self.df_op = df_op\n",
    "        self.user_attrs = df_users.columns\n",
    "        self.rsrc_attrs = df_rscs.columns\n",
    "        self.universal_access_log = []\n",
    "    \n",
    "    def compute_universal_al(self) -> None:\n",
    "        \"\"\" Compute the universal Access Log (UAL). |UAL| = |U| x |R|\"\"\"\n",
    "        access_log = []\n",
    "        for user in self.df_users.values:\n",
    "            for res in self.df_rscs.values:\n",
    "                for env in self.df_env.values:   \n",
    "                    for op in self.df_op.values:\n",
    "                        access_log.append(list(user) + list(res)+ list(env) + list(op))\n",
    "        \n",
    "        access_log = pd.DataFrame(access_log)\n",
    "        access_log.columns = list(self.df_users.columns) + list(self.df_rscs.columns) + list(self.df_env.columns) + list(self.df_op.columns)\n",
    "        self.universal_access_log = access_log\n",
    "\n",
    "    def tuple_rule_evaluation(self, item_rule, acc_req):\n",
    "        if item_rule[0] == 0:\n",
    "            if acc_req[item_rule[1]] != item_rule[2]:\n",
    "                return False                \n",
    "        if item_rule[0] == 1: # => attr1.val = attr2.val\n",
    "            if acc_req[item_rule[1]] != acc_req[item_rule[2]]:\n",
    "                return False\n",
    "        if item_rule[0] == 2: # => attr in values.list\n",
    "            if not acc_req[item_rule[1]] in item_rule[2]:\n",
    "                return False\n",
    "        if item_rule[0] == 3: # => attr < values.list\n",
    "            if not acc_req[item_rule[1]] > item_rule[2]:\n",
    "                return False\n",
    "        if item_rule[0] == 4: # => attr != values.list\n",
    "            if not acc_req[item_rule[1]] == item_rule[2]:\n",
    "                return False\n",
    "        return True\n",
    "\n",
    "    def policy_evaluation(self, policy) -> None:\n",
    "        \"\"\" Compare each access record with a policy set.\"\"\"\n",
    "        false_negs = [] # False negatives\n",
    "        true_pos = [] # True positives\n",
    "        len_policy = len(policy)\n",
    "        counter = 0\n",
    "\n",
    "        for acc_req in self.universal_access_log.iloc:\n",
    "            denies_count = 0\n",
    "            for rule in policy:\n",
    "                res = True\n",
    "                for item_rule in rule:\n",
    "                    res = self.tuple_rule_evaluation(item_rule, acc_req)                    \n",
    "                if res == False:\n",
    "                    denies_count += 1\n",
    "            if denies_count == len_policy:\n",
    "                false_negs.append(acc_req)\n",
    "            else:\n",
    "                true_pos.append(acc_req)\n",
    "\n",
    "            counter += 1\n",
    "            if counter % 500000 == 0:\n",
    "                print(\"Counter:\", counter)\n",
    "        \n",
    "        false_negs = pd.DataFrame(false_negs)\n",
    "        true_pos = pd.DataFrame(true_pos)\n",
    "\n",
    "        print(\"FN;\", len(false_negs), \"\\t\\tTP:\", len(true_pos))\n",
    "\n",
    "        # Add \"ACTION\" column\n",
    "        false_negs[\"ACTION\"] = 0\n",
    "        true_pos[\"ACTION\"] = 1\n",
    "\n",
    "        # Access log with \"ACTION\" column\n",
    "        self.universal_access_log = pd.concat([true_pos,false_negs])\n",
    "\n",
    "    def get_sparse_al(self, fraction, random_state=None, previous_al=None):        \n",
    "        \"\"\" Compute the sparse access log (SAL) version. \"\"\"\n",
    "        acc_log = self.universal_access_log\n",
    "        if isinstance(previous_al, pd.DataFrame):\n",
    "            acc_log = previous_al\n",
    "        sparse_positive_al = None   \n",
    "        pos_access_req = acc_log[acc_log[\"ACTION\"]==1]\n",
    "        if random_state != None:\n",
    "            sparse_positive_al = pos_access_req.sample(frac=fraction,\n",
    "                                                       random_state=random_state)\n",
    "        else:\n",
    "            sparse_positive_al = pos_access_req.sample(frac=fraction)\n",
    "\n",
    "        return pd.concat([sparse_positive_al, acc_log[acc_log[\"ACTION\"]==0]])\n",
    "\n",
    "    def get_noisy_al(self, fraction, random_state=None, previous_al=None):\n",
    "        \"\"\" Compute the noisy access log (NAL) version. \"\"\"\n",
    "        acc_log = self.universal_access_log\n",
    "        if isinstance(previous_al, pd.DataFrame):\n",
    "            acc_log = previous_al\n",
    "\n",
    "        noysi_al = None\n",
    "        if random_state != None:\n",
    "            noisy_separation = StratifiedShuffleSplit(n_splits = 1,\n",
    "                                                      train_size = fraction,\n",
    "                                                      random_state = random_state)\n",
    "        else:\n",
    "            noisy_separation = StratifiedShuffleSplit(n_splits = 1,\n",
    "                                                      train_size = fraction)\n",
    "        \n",
    "        noisy_acc_log_selection = noisy_separation.split(acc_log, acc_log.ACTION)\n",
    "                        \n",
    "        noisy_acc_req = None\n",
    "        normal_acc_req = None\n",
    "        for noisy_idx, normal_idx, in noisy_acc_log_selection:\n",
    "            noisy_acc_req = acc_log.iloc[noisy_idx]\n",
    "            normal_acc_req = acc_log.iloc[normal_idx]\n",
    "\n",
    "        # Change the resolution in the noisy_selection dataset\n",
    "        noisy_acc_req[\"ACTION\"] = np.where(noisy_acc_req[\"ACTION\"] == 0, 1, 0)\n",
    "\n",
    "        noysi_al = pd.concat([noisy_acc_req, normal_acc_req])\n",
    "\n",
    "        return noysi_al\n",
    "\n",
    "    def get_balanced_al(self, positive_frac, random_state = None, previous_al = None):\n",
    "        acc_log = self.universal_access_log\n",
    "        \n",
    "        if isinstance(previous_al, pd.DataFrame):\n",
    "            acc_log = previous_al        \n",
    "\n",
    "        # Compute the original balanced\n",
    "        pos_acc_log = acc_log[acc_log[\"ACTION\"]==1]\n",
    "        neg_acc_log = acc_log[acc_log[\"ACTION\"]==0]\n",
    "\n",
    "        len_al = len(acc_log)\n",
    "        len_pos_ar = len(pos_acc_log)\n",
    "\n",
    "        limit_positive_frac = ( len_pos_ar * 100 ) / len_al\n",
    "\n",
    "        if positive_frac < limit_positive_frac and positive_frac > 1:\n",
    "            print(\"Is not possible\")\n",
    "            return\n",
    "        \n",
    "        len_neg_ar = int(( (1-positive_frac) * 100 * len_pos_ar ) / (positive_frac*100))        \n",
    "\n",
    "        neg_acc_req = []\n",
    "        if random_state != None:\n",
    "            neg_acc_req = neg_acc_log.sample(n=len_neg_ar,\n",
    "                                             random_state=random_state)\n",
    "        else:\n",
    "            neg_acc_req = neg_acc_log.sample(n=len_neg_ar)\n",
    "\n",
    "        return pd.concat([pos_acc_log, neg_acc_req])\n"
   ]
  },
  {
   "cell_type": "code",
   "execution_count": 100,
   "metadata": {},
   "outputs": [],
   "source": [
    "### Get probability distribution\n",
    "\n",
    "def get_probability_distribution(n, sample_size, probability_parameters, type=\"normal\",):\n",
    "    \"\"\" Get the probability distribution for n elementsin sample size.\"\"\"\n",
    "    count = None\n",
    "\n",
    "    if type==\"normal\":\n",
    "        distri = np.random.normal(probability_parameters[\"mu\"], \n",
    "                                  probability_parameters[\"sigma\"], \n",
    "                                  size=sample_size)\n",
    "        count, _, _ = plt.hist(distri, n)\n",
    "\n",
    "    if type==\"pareto\":        \n",
    "        distri = (np.random.pareto(probability_parameters[\"alpha\"], sample_size) + 1) * probability_parameters[\"mu\"]\n",
    "        count, _, _ = plt.hist(distri, n)\n",
    "\n",
    "    if type==None:\n",
    "        return None       \n",
    "\n",
    "\n",
    "    return count/sample_size\n",
    "\n",
    "def get_sample_by_distribution(access_log, sample_size, prob_distri, class_name):\n",
    "    \"\"\" Sampling a dataframe based on a given distribution. \"\"\"\n",
    "    new_sample = pd.DataFrame() # Store all access requests\n",
    "    for i in prob_distri.iloc:\n",
    "        temp = access_log[access_log[class_name]==i[0]]\n",
    "        n_samples = int(i[1]*sample_size)        \n",
    "        temp = temp.sample(n=n_samples, replace=True)\n",
    "        new_sample = pd.concat([new_sample, temp])\n",
    "\n",
    "    return new_sample"
   ]
  },
  {
   "cell_type": "markdown",
   "metadata": {},
   "source": [
    "## Main"
   ]
  },
  {
   "cell_type": "code",
   "execution_count": 106,
   "metadata": {},
   "outputs": [
    {
     "name": "stdout",
     "output_type": "stream",
     "text": [
      "### *** Access Log loaded *** ###\n",
      "<class 'pandas.core.frame.DataFrame'>\n",
      "RangeIndex: 686400 entries, 0 to 686399\n",
      "Data columns (total 13 columns):\n",
      " #   Column       Non-Null Count   Dtype \n",
      "---  ------       --------------   ----- \n",
      " 0   position     686400 non-null  object\n",
      " 1   uward        686400 non-null  object\n",
      " 2   specialties  686400 non-null  object\n",
      " 3   teams        686400 non-null  object\n",
      " 4   agentfor     686400 non-null  object\n",
      " 5   uname        686400 non-null  int64 \n",
      " 6   type         686400 non-null  object\n",
      " 7   author       686400 non-null  object\n",
      " 8   patient      686400 non-null  object\n",
      " 9   topics       686400 non-null  object\n",
      " 10  tratingTeam  686400 non-null  object\n",
      " 11  rward        686400 non-null  object\n",
      " 12  rname        686400 non-null  int64 \n",
      "dtypes: int64(2), object(11)\n",
      "memory usage: 68.1+ MB\n",
      "None\n"
     ]
    }
   ],
   "source": [
    "### Load an access log\n",
    "file_path = \"../data/HC-ALL-positive_ar.csv\"\n",
    "acc_log = pd.read_csv(file_path)\n",
    "acc_log = acc_log[acc_log.columns[1:]]\n",
    "\n",
    "print(\"### *** Access Log loaded *** ###\")\n",
    "print(acc_log.info())"
   ]
  },
  {
   "cell_type": "markdown",
   "metadata": {},
   "source": [
    "## Users distribution"
   ]
  },
  {
   "cell_type": "code",
   "execution_count": 108,
   "metadata": {},
   "outputs": [
    {
     "name": "stdout",
     "output_type": "stream",
     "text": [
      "# users: 768 \t Head -> [0 1 2 3 4] \t tail ->  [805 806 807 808 809]\n"
     ]
    }
   ],
   "source": [
    "### Get all users\n",
    "users = acc_log.uname.unique()\n",
    "print(\"# users:\", len(users), \"\\t Head ->\", users[:5], \"\\t tail -> \", users[-5:])"
   ]
  },
  {
   "cell_type": "markdown",
   "metadata": {},
   "source": [
    "### Normal"
   ]
  },
  {
   "cell_type": "code",
   "execution_count": 109,
   "metadata": {},
   "outputs": [
    {
     "name": "stdout",
     "output_type": "stream",
     "text": [
      "Done!\n"
     ]
    },
    {
     "data": {
      "image/png": "[encoded data removed]",
      "text/plain": [
       "<Figure size 432x288 with 1 Axes>"
      ]
     },
     "metadata": {
      "needs_background": "light"
     },
     "output_type": "display_data"
    }
   ],
   "source": [
    "proba_param = {\"mu\": 0, \"sigma\": 1}\n",
    "prob = get_probability_distribution(len(users), len(acc_log), proba_param, \"normal\")\n",
    "df_user_prob = pd.DataFrame({\"UID\": users, \"prob\": prob})\n",
    "print(\"Done!\")"
   ]
  },
  {
   "cell_type": "code",
   "execution_count": 110,
   "metadata": {},
   "outputs": [
    {
     "name": "stdout",
     "output_type": "stream",
     "text": [
      "Sum p(x) = 1.0\n"
     ]
    },
    {
     "data": {
      "text/plain": [
       "<matplotlib.collections.PathCollection at 0x25d96aa6588>"
      ]
     },
     "execution_count": 110,
     "metadata": {},
     "output_type": "execute_result"
    },
    {
     "data": {
      "image/png": "[encoded data removed]",
      "text/plain": [
       "<Figure size 432x288 with 1 Axes>"
      ]
     },
     "metadata": {
      "needs_background": "light"
     },
     "output_type": "display_data"
    }
   ],
   "source": [
    "### Check CDF\n",
    "print(\"Sum p(x) =\", df_user_prob.prob.sum())\n",
    "cdf = np.cumsum(df_user_prob.prob)\n",
    "plt.plot(range(len(cdf)), cdf)"
   ]
  },
  {
   "cell_type": "code",
   "execution_count": 111,
   "metadata": {},
   "outputs": [
    {
     "name": "stdout",
     "output_type": "stream",
     "text": [
      "*** Done! ***\n",
      "<class 'pandas.core.frame.DataFrame'>\n",
      "Int64Index: 686379 entries, 807 to 685761\n",
      "Data columns (total 13 columns):\n",
      " #   Column       Non-Null Count   Dtype \n",
      "---  ------       --------------   ----- \n",
      " 0   position     686379 non-null  object\n",
      " 1   uward        686379 non-null  object\n",
      " 2   specialties  686379 non-null  object\n",
      " 3   teams        686379 non-null  object\n",
      " 4   agentfor     686379 non-null  object\n",
      " 5   uname        686379 non-null  int64 \n",
      " 6   type         686379 non-null  object\n",
      " 7   author       686379 non-null  object\n",
      " 8   patient      686379 non-null  object\n",
      " 9   topics       686379 non-null  object\n",
      " 10  tratingTeam  686379 non-null  object\n",
      " 11  rward        686379 non-null  object\n",
      " 12  rname        686379 non-null  int64 \n",
      "dtypes: int64(2), object(11)\n",
      "memory usage: 73.3+ MB\n",
      "None\n"
     ]
    }
   ],
   "source": [
    "### Get sample distribution\n",
    "normal_acc_log = get_sample_by_distribution(acc_log, len(acc_log), df_user_prob, \"uname\")\n",
    "print(\"*** Done! ***\")\n",
    "print(normal_acc_log.info())"
   ]
  },
  {
   "cell_type": "code",
   "execution_count": 113,
   "metadata": {},
   "outputs": [
    {
     "name": "stdout",
     "output_type": "stream",
     "text": [
      "Size of Original Access Log =  686400\n",
      "Size of normal Access Log =  686379 \n",
      "\n",
      "# users in Original Access Log = 768\n",
      "# users in normal Access Log = 681\n",
      "Difference = 87\n"
     ]
    }
   ],
   "source": [
    "### new data information\n",
    "print(\"Size of Original Access Log = \", len(acc_log))\n",
    "print(\"Size of normal Access Log = \", len(normal_acc_log),\"\\n\")\n",
    "\n",
    "new_prob_distri = normal_acc_log.uname.value_counts(normalize=True)\n",
    "print(\"# users in Original Access Log =\", len(users))\n",
    "print(\"# users in normal Access Log =\", len(new_prob_distri))\n",
    "print(\"Difference =\", len(users) - len(new_prob_distri))"
   ]
  },
  {
   "cell_type": "code",
   "execution_count": 115,
   "metadata": {},
   "outputs": [
    {
     "data": {
      "text/plain": [
       "<matplotlib.collections.PathCollection at 0x25d96f04d48>"
      ]
     },
     "execution_count": 115,
     "metadata": {},
     "output_type": "execute_result"
    },
    {
     "data": {
      "image/png": "[encoded data removed]",
      "text/plain": [
       "<Figure size 432x288 with 1 Axes>"
      ]
     },
     "metadata": {
      "needs_background": "light"
     },
     "output_type": "display_data"
    }
   ],
   "source": [
    "cdf = np.cumsum(sorted(new_prob_distri, reverse=True))\n",
    "plt.plot(range(len(cdf)), cdf)"
   ]
  },
  {
   "cell_type": "markdown",
   "metadata": {},
   "source": [
    "### Pareto"
   ]
  },
  {
   "cell_type": "code",
   "execution_count": 116,
   "metadata": {},
   "outputs": [
    {
     "name": "stdout",
     "output_type": "stream",
     "text": [
      "Done!\n"
     ]
    },
    {
     "data": {
      "image/png": "[encoded data removed]",
      "text/plain": [
       "<Figure size 432x288 with 1 Axes>"
      ]
     },
     "metadata": {
      "needs_background": "light"
     },
     "output_type": "display_data"
    }
   ],
   "source": [
    "proba_param = {\"alpha\": 3., \"mu\": 2.}\n",
    "prob = get_probability_distribution(len(users), len(acc_log), proba_param, \"pareto\")\n",
    "df_user_prob = pd.DataFrame({\"UID\": users, \"prob\": prob})\n",
    "print(\"Done!\")"
   ]
  },
  {
   "cell_type": "code",
   "execution_count": 117,
   "metadata": {},
   "outputs": [
    {
     "name": "stdout",
     "output_type": "stream",
     "text": [
      "Sum p(x) = 0.9999999999999999\n"
     ]
    },
    {
     "data": {
      "text/plain": [
       "<matplotlib.collections.PathCollection at 0x25d9a0ed988>"
      ]
     },
     "execution_count": 117,
     "metadata": {},
     "output_type": "execute_result"
    },
    {
     "data": {
      "image/png": "[encoded data removed]",
      "text/plain": [
       "<Figure size 432x288 with 1 Axes>"
      ]
     },
     "metadata": {
      "needs_background": "light"
     },
     "output_type": "display_data"
    }
   ],
   "source": [
    "### Check CDF\n",
    "print(\"Sum p(x) =\", df_user_prob.prob.sum())\n",
    "cdf = np.cumsum(df_user_prob.prob)\n",
    "plt.plot(range(len(cdf)), cdf)"
   ]
  },
  {
   "cell_type": "code",
   "execution_count": 119,
   "metadata": {},
   "outputs": [
    {
     "name": "stdout",
     "output_type": "stream",
     "text": [
      "*** Done! ***\n",
      "<class 'pandas.core.frame.DataFrame'>\n",
      "Int64Index: 686399 entries, 1003 to 685680\n",
      "Data columns (total 13 columns):\n",
      " #   Column       Non-Null Count   Dtype \n",
      "---  ------       --------------   ----- \n",
      " 0   position     686399 non-null  object\n",
      " 1   uward        686399 non-null  object\n",
      " 2   specialties  686399 non-null  object\n",
      " 3   teams        686399 non-null  object\n",
      " 4   agentfor     686399 non-null  object\n",
      " 5   uname        686399 non-null  int64 \n",
      " 6   type         686399 non-null  object\n",
      " 7   author       686399 non-null  object\n",
      " 8   patient      686399 non-null  object\n",
      " 9   topics       686399 non-null  object\n",
      " 10  tratingTeam  686399 non-null  object\n",
      " 11  rward        686399 non-null  object\n",
      " 12  rname        686399 non-null  int64 \n",
      "dtypes: int64(2), object(11)\n",
      "memory usage: 73.3+ MB\n",
      "None\n"
     ]
    }
   ],
   "source": [
    "### Get sample distribution\n",
    "pareto_acc_log = get_sample_by_distribution(acc_log, len(acc_log), df_user_prob, \"uname\")\n",
    "print(\"*** Done! ***\")\n",
    "print(pareto_acc_log.info())"
   ]
  },
  {
   "cell_type": "code",
   "execution_count": null,
   "metadata": {},
   "outputs": [],
   "source": [
    "### new data information\n",
    "print(\"Size of Original Access Log = \", len(acc_log))\n",
    "print(\"Size of normal Access Log = \", len(pareto_acc_log),\"\\n\")\n",
    "\n",
    "new_prob_distri = pareto_acc_log.uname.value_counts(normalize=True)\n",
    "print(\"# users in Original Access Log =\", len(users))\n",
    "print(\"# users in normal Access Log =\", len(new_prob_distri))\n",
    "print(\"Difference =\", len(users) - len(new_prob_distri))"
   ]
  },
  {
   "cell_type": "code",
   "execution_count": 120,
   "metadata": {},
   "outputs": [
    {
     "data": {
      "text/plain": [
       "<matplotlib.collections.PathCollection at 0x25da0a68508>"
      ]
     },
     "execution_count": 120,
     "metadata": {},
     "output_type": "execute_result"
    },
    {
     "data": {
      "image/png": "[encoded data removed]",
      "text/plain": [
       "<Figure size 432x288 with 1 Axes>"
      ]
     },
     "metadata": {
      "needs_background": "light"
     },
     "output_type": "display_data"
    }
   ],
   "source": [
    "cdf = np.cumsum(sorted(new_prob_distri, reverse=True))\n",
    "plt.plot(range(len(cdf)), cdf)"
   ]
  },
  {
   "cell_type": "markdown",
   "metadata": {},
   "source": [
    "## Resources"
   ]
  },
  {
   "cell_type": "code",
   "execution_count": 121,
   "metadata": {},
   "outputs": [
    {
     "name": "stdout",
     "output_type": "stream",
     "text": [
      "# resources: 2080 \t Head -> [2080 2082 2084 2086 2088] \t tail ->  [4087 4095 4103 4111 4119]\n"
     ]
    }
   ],
   "source": [
    "### Get all users\n",
    "res = acc_log.rname.unique()\n",
    "print(\"# resources:\", len(res), \"\\t Head ->\", res[:5], \"\\t tail -> \", res[-5:])"
   ]
  },
  {
   "cell_type": "markdown",
   "metadata": {},
   "source": [
    "### normal"
   ]
  },
  {
   "cell_type": "code",
   "execution_count": 124,
   "metadata": {},
   "outputs": [
    {
     "name": "stdout",
     "output_type": "stream",
     "text": [
      "Done!\n"
     ]
    },
    {
     "data": {
      "image/png": "[encoded data removed]",
      "text/plain": [
       "<Figure size 432x288 with 1 Axes>"
      ]
     },
     "metadata": {
      "needs_background": "light"
     },
     "output_type": "display_data"
    }
   ],
   "source": [
    "proba_param = {\"mu\": 0, \"sigma\": 1}\n",
    "prob = get_probability_distribution(len(res), len(acc_log), proba_param, \"normal\")\n",
    "df_res_prob = pd.DataFrame({\"RID\": res, \"prob\": prob})\n",
    "print(\"Done!\")"
   ]
  },
  {
   "cell_type": "code",
   "execution_count": 125,
   "metadata": {},
   "outputs": [
    {
     "name": "stdout",
     "output_type": "stream",
     "text": [
      "Sum p(x) = 1.0\n"
     ]
    },
    {
     "data": {
      "text/plain": [
       "<matplotlib.collections.PathCollection at 0x25d96709888>"
      ]
     },
     "execution_count": 125,
     "metadata": {},
     "output_type": "execute_result"
    },
    {
     "data": {
      "image/png": "[encoded data removed]",
      "text/plain": [
       "<Figure size 432x288 with 1 Axes>"
      ]
     },
     "metadata": {
      "needs_background": "light"
     },
     "output_type": "display_data"
    }
   ],
   "source": [
    "### Check CDF\n",
    "print(\"Sum p(x) =\", df_res_prob.prob.sum())\n",
    "cdf = np.cumsum(df_res_prob.prob)\n",
    "plt.plot(range(len(cdf)), cdf)"
   ]
  },
  {
   "cell_type": "code",
   "execution_count": 127,
   "metadata": {},
   "outputs": [
    {
     "name": "stdout",
     "output_type": "stream",
     "text": [
      "*** Done! ***\n",
      "<class 'pandas.core.frame.DataFrame'>\n",
      "Int64Index: 686385 entries, 17810 to 424569\n",
      "Data columns (total 13 columns):\n",
      " #   Column       Non-Null Count   Dtype \n",
      "---  ------       --------------   ----- \n",
      " 0   position     686385 non-null  object\n",
      " 1   uward        686385 non-null  object\n",
      " 2   specialties  686385 non-null  object\n",
      " 3   teams        686385 non-null  object\n",
      " 4   agentfor     686385 non-null  object\n",
      " 5   uname        686385 non-null  int64 \n",
      " 6   type         686385 non-null  object\n",
      " 7   author       686385 non-null  object\n",
      " 8   patient      686385 non-null  object\n",
      " 9   topics       686385 non-null  object\n",
      " 10  tratingTeam  686385 non-null  object\n",
      " 11  rward        686385 non-null  object\n",
      " 12  rname        686385 non-null  int64 \n",
      "dtypes: int64(2), object(11)\n",
      "memory usage: 73.3+ MB\n",
      "None\n"
     ]
    }
   ],
   "source": [
    "### Get sample distribution\n",
    "normal_acc_log = get_sample_by_distribution(acc_log, len(acc_log), df_res_prob, \"rname\")\n",
    "print(\"*** Done! ***\")\n",
    "print(normal_acc_log.info())"
   ]
  },
  {
   "cell_type": "code",
   "execution_count": 130,
   "metadata": {},
   "outputs": [
    {
     "name": "stdout",
     "output_type": "stream",
     "text": [
      "Size of Original Access Log =  686400\n",
      "Size of normal Access Log =  686385 \n",
      "\n",
      "# users in Original Access Log = 2080\n",
      "# users in normal Access Log = 1698\n",
      "Difference = 382\n"
     ]
    }
   ],
   "source": [
    "### new data information\n",
    "print(\"Size of Original Access Log = \", len(acc_log))\n",
    "print(\"Size of normal Access Log = \", len(normal_acc_log),\"\\n\")\n",
    "\n",
    "new_prob_distri = normal_acc_log.rname.value_counts(normalize=True)\n",
    "print(\"# users in Original Access Log =\", len(res))\n",
    "print(\"# users in normal Access Log =\", len(new_prob_distri))\n",
    "print(\"Difference =\", len(res) - len(new_prob_distri))"
   ]
  },
  {
   "cell_type": "code",
   "execution_count": 131,
   "metadata": {},
   "outputs": [
    {
     "data": {
      "text/plain": [
       "<matplotlib.collections.PathCollection at 0x25d9a1e9d88>"
      ]
     },
     "execution_count": 131,
     "metadata": {},
     "output_type": "execute_result"
    },
    {
     "data": {
      "image/png": "[encoded data removed]",
      "text/plain": [
       "<Figure size 432x288 with 1 Axes>"
      ]
     },
     "metadata": {
      "needs_background": "light"
     },
     "output_type": "display_data"
    }
   ],
   "source": [
    "cdf = np.cumsum(sorted(new_prob_distri, reverse=True))\n",
    "plt.scatter(range(len(cdf)),cdf, marker=\"*\")"
   ]
  },
  {
   "cell_type": "markdown",
   "metadata": {},
   "source": [
    "### Pareto"
   ]
  },
  {
   "cell_type": "code",
   "execution_count": null,
   "metadata": {},
   "outputs": [],
   "source": [
    "proba_param = {\"alpha\": 3., \"mu\": 2.}\n",
    "prob = get_probability_distribution(len(res), len(acc_log), proba_param, \"pareto\")\n",
    "df_res_prob = pd.DataFrame({\"RID\": res, \"prob\": prob})\n",
    "print(\"Done!\")"
   ]
  },
  {
   "cell_type": "code",
   "execution_count": null,
   "metadata": {},
   "outputs": [],
   "source": [
    "### Check CDF\n",
    "print(\"Sum p(x) =\", df_res_prob.prob.sum())\n",
    "cdf = np.cumsum(df_res_prob.prob)\n",
    "plt.scatter(range(len(cdf)),cdf, marker=\"*\")"
   ]
  },
  {
   "cell_type": "code",
   "execution_count": null,
   "metadata": {},
   "outputs": [],
   "source": [
    "### Get sample distribution\n",
    "pareto_acc_log = get_sample_by_distribution(acc_log, len(acc_log), df_res_prob, \"rname\")\n",
    "print(\"*** Done! ***\")\n",
    "print(pareto_acc_log.info())"
   ]
  },
  {
   "cell_type": "code",
   "execution_count": null,
   "metadata": {},
   "outputs": [],
   "source": [
    "### new data information\n",
    "print(\"Size of Original Access Log = \", len(acc_log))\n",
    "print(\"Size of normal Access Log = \", len(pareto_acc_log),\"\\n\")\n",
    "\n",
    "new_prob_distri = pareto_acc_log.rname.value_counts(normalize=True)\n",
    "print(\"# users in Original Access Log =\", len(users))\n",
    "print(\"# users in normal Access Log =\", len(new_prob_distri))\n",
    "print(\"Difference =\", len(users) - len(new_prob_distri))"
   ]
  },
  {
   "cell_type": "code",
   "execution_count": null,
   "metadata": {},
   "outputs": [],
   "source": [
    "cdf = np.cumsum(sorted(new_prob_distri, reverse=True))\n",
    "plt.scatter(range(len(cdf)),cdf, marker=\"*\")"
   ]
  },
  {
   "cell_type": "markdown",
   "metadata": {},
   "source": [
    "## Combine"
   ]
  },
  {
   "cell_type": "code",
   "execution_count": 132,
   "metadata": {},
   "outputs": [
    {
     "name": "stdout",
     "output_type": "stream",
     "text": [
      "# resources: 2080 \t Head -> [2080 2082 2084 2086 2088] \t tail ->  [4087 4095 4103 4111 4119]\n",
      "# users: 768 \t Head -> [0 1 2 3 4] \t tail ->  [805 806 807 808 809]\n"
     ]
    }
   ],
   "source": [
    "### Get all resources\n",
    "res = acc_log.rname.unique()\n",
    "print(\"# resources:\", len(res), \"\\t Head ->\", res[:5], \"\\t tail -> \", res[-5:])\n",
    "\n",
    "### Get all users\n",
    "users = acc_log.uname.unique()\n",
    "print(\"# users:\", len(users), \"\\t Head ->\", users[:5], \"\\t tail -> \", users[-5:])"
   ]
  },
  {
   "cell_type": "markdown",
   "metadata": {},
   "source": [
    "### Normal"
   ]
  },
  {
   "cell_type": "code",
   "execution_count": 133,
   "metadata": {},
   "outputs": [
    {
     "name": "stdout",
     "output_type": "stream",
     "text": [
      "Done!\n"
     ]
    },
    {
     "data": {
      "image/png": "[encoded data removed]",
      "text/plain": [
       "<Figure size 432x288 with 1 Axes>"
      ]
     },
     "metadata": {
      "needs_background": "light"
     },
     "output_type": "display_data"
    }
   ],
   "source": [
    "proba_param = {\"mu\": 0, \"sigma\": 1}\n",
    "prob = get_probability_distribution(len(users), len(acc_log), proba_param, \"normal\")\n",
    "df_user_prob = pd.DataFrame({\"UID\": users, \"prob\": prob})\n",
    "print(\"Done!\")"
   ]
  },
  {
   "cell_type": "code",
   "execution_count": 134,
   "metadata": {},
   "outputs": [
    {
     "name": "stdout",
     "output_type": "stream",
     "text": [
      "*** Done! ***\n"
     ]
    }
   ],
   "source": [
    "### Get sample distribution\n",
    "normal_acc_log = get_sample_by_distribution(acc_log, len(acc_log), df_user_prob, \"uname\")\n",
    "print(\"*** Done! ***\")"
   ]
  },
  {
   "cell_type": "code",
   "execution_count": 135,
   "metadata": {},
   "outputs": [
    {
     "name": "stdout",
     "output_type": "stream",
     "text": [
      "Done!\n"
     ]
    },
    {
     "data": {
      "image/png": "[encoded data removed]",
      "text/plain": [
       "<Figure size 432x288 with 1 Axes>"
      ]
     },
     "metadata": {
      "needs_background": "light"
     },
     "output_type": "display_data"
    }
   ],
   "source": [
    "proba_param = {\"mu\": 0, \"sigma\": 1}\n",
    "prob = get_probability_distribution(len(res), len(acc_log), proba_param, \"normal\")\n",
    "df_res_prob = pd.DataFrame({\"RID\": res, \"prob\": prob})\n",
    "print(\"Done!\")"
   ]
  },
  {
   "cell_type": "code",
   "execution_count": 136,
   "metadata": {},
   "outputs": [
    {
     "name": "stdout",
     "output_type": "stream",
     "text": [
      "*** Done! ***\n"
     ]
    }
   ],
   "source": [
    "### Get sample distribution\n",
    "normal_acc_log = get_sample_by_distribution(normal_acc_log, len(normal_acc_log), df_res_prob, \"rname\")\n",
    "print(\"*** Done! ***\")"
   ]
  },
  {
   "cell_type": "code",
   "execution_count": 143,
   "metadata": {},
   "outputs": [
    {
     "data": {
      "text/plain": [
       "[<matplotlib.lines.Line2D at 0x25d8fba5508>]"
      ]
     },
     "execution_count": 143,
     "metadata": {},
     "output_type": "execute_result"
    },
    {
     "data": {
      "image/png": "[encoded data removed]",
      "text/plain": [
       "<Figure size 432x288 with 1 Axes>"
      ]
     },
     "metadata": {
      "needs_background": "light"
     },
     "output_type": "display_data"
    }
   ],
   "source": [
    "### Users\n",
    "new_prob_distri = normal_acc_log.uname.value_counts(normalize=True)\n",
    "cdf = np.cumsum(sorted(new_prob_distri, reverse=True))\n",
    "plt.plot(range(len(cdf)), cdf)"
   ]
  },
  {
   "cell_type": "code",
   "execution_count": 142,
   "metadata": {},
   "outputs": [
    {
     "data": {
      "text/plain": [
       "[<matplotlib.lines.Line2D at 0x25d8fb1adc8>]"
      ]
     },
     "execution_count": 142,
     "metadata": {},
     "output_type": "execute_result"
    },
    {
     "data": {
      "image/png": "[encoded data removed]",
      "text/plain": [
       "<Figure size 432x288 with 1 Axes>"
      ]
     },
     "metadata": {
      "needs_background": "light"
     },
     "output_type": "display_data"
    }
   ],
   "source": [
    "### Resources\n",
    "new_prob_distri = normal_acc_log.rname.value_counts(normalize=True)\n",
    "cdf = np.cumsum(sorted(new_prob_distri, reverse=True))\n",
    "plt.plot(range(len(cdf)), cdf)"
   ]
  }
 ],
 "metadata": {
  "kernelspec": {
   "display_name": "tesis_env",
   "language": "python",
   "name": "python3"
  },
  "language_info": {
   "codemirror_mode": {
    "name": "ipython",
    "version": 3
   },
   "file_extension": ".py",
   "mimetype": "text/x-python",
   "name": "python",
   "nbconvert_exporter": "python",
   "pygments_lexer": "ipython3",
   "version": "3.7.13"
  }
 },
 "nbformat": 4,
 "nbformat_minor": 2
}
