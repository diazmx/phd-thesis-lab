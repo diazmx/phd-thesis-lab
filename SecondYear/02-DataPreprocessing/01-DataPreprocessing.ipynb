{
 "cells": [
  {
   "cell_type": "markdown",
   "metadata": {},
   "source": [
    "# Phase 1: *Data Preprocessing*"
   ]
  },
  {
   "cell_type": "code",
   "execution_count": 1,
   "metadata": {},
   "outputs": [],
   "source": [
    "import numpy as np\n",
    "import pandas as pd\n",
    "%matplotlib inline\n",
    "import matplotlib.pyplot as plt\n",
    "from extra.cramers import cramers_corrected_stat\n",
    "from sklearn.model_selection import StratifiedShuffleSplit\n",
    "from scipy.stats import chi2_contingency\n"
   ]
  },
  {
   "cell_type": "markdown",
   "metadata": {},
   "source": [
    "## Auxiliar functions"
   ]
  },
  {
   "cell_type": "code",
   "execution_count": 9,
   "metadata": {},
   "outputs": [
    {
     "name": "stdout",
     "output_type": "stream",
     "text": [
      "### *** Access Log loaded *** ###\n",
      "<class 'pandas.core.frame.DataFrame'>\n",
      "RangeIndex: 153760 entries, 0 to 153759\n",
      "Data columns (total 14 columns):\n",
      " #   Column       Non-Null Count   Dtype \n",
      "---  ------       --------------   ----- \n",
      " 0   uname        153760 non-null  object\n",
      " 1   position     153760 non-null  object\n",
      " 2   uward        153760 non-null  object\n",
      " 3   specialties  153760 non-null  object\n",
      " 4   teams        153760 non-null  object\n",
      " 5   agentfor     153760 non-null  object\n",
      " 6   type         153760 non-null  object\n",
      " 7   author       153760 non-null  object\n",
      " 8   patient      153760 non-null  object\n",
      " 9   topics       153760 non-null  object\n",
      " 10  tratingTeam  153760 non-null  object\n",
      " 11  rward        153760 non-null  object\n",
      " 12  rname        153760 non-null  int64 \n",
      " 13  ACTION       153760 non-null  int64 \n",
      "dtypes: int64(2), object(12)\n",
      "memory usage: 16.4+ MB\n",
      "None\n"
     ]
    }
   ],
   "source": [
    "filepath = \"../data/HC-universal.csv\"\n",
    "acc_log = pd.read_csv(filepath)\n",
    "acc_log = acc_log[acc_log.columns[1:]]\n",
    "\n",
    "\n",
    "print(\"### *** Access Log loaded *** ###\")\n",
    "print(acc_log.info())"
   ]
  },
  {
   "cell_type": "markdown",
   "metadata": {},
   "source": [
    "## 1 Data Splitting"
   ]
  },
  {
   "cell_type": "markdown",
   "metadata": {},
   "source": [
    "### Auxiliar"
   ]
  },
  {
   "cell_type": "code",
   "execution_count": 10,
   "metadata": {},
   "outputs": [],
   "source": [
    "def apply_cross_validation(acc_log, k, testSize, randomState=None):\n",
    "    \"\"\"Get all indices to split data.\"\"\"\n",
    "    if randomState != None:\n",
    "        kfold = StratifiedShuffleSplit(n_splits=k, test_size=testSize,\n",
    "                                       random_state=randomState)\n",
    "    else:\n",
    "        kfold = StratifiedShuffleSplit(n_splits=k, test_size=testSize)\n",
    "\n",
    "    data_partition = kfold.split(acc_log, acc_log.ACTION)\n",
    "    data_corpus = []  # List with all data partitions\n",
    "    for train_data, test_data in data_partition:\n",
    "        X_train, X_test = acc_log.iloc[train_data], acc_log.iloc[test_data]\n",
    "        data_corpus.append([X_train, X_test])\n",
    "\n",
    "    print(\"Cross-Validation - DONE\")\n",
    "    print(\"- k =\", k)\n",
    "    print(\"- Percentage Train-Test:\", (1-testSize)*100, \"-\", testSize*100, \"\\n\")\n",
    "\n",
    "    return data_corpus"
   ]
  },
  {
   "cell_type": "markdown",
   "metadata": {},
   "source": [
    "### Main"
   ]
  },
  {
   "cell_type": "code",
   "execution_count": 11,
   "metadata": {},
   "outputs": [
    {
     "name": "stdout",
     "output_type": "stream",
     "text": [
      "Cross-Validation - DONE\n",
      "- k = 10\n",
      "- Percentage Train-Test: 80.0 - 20.0 \n",
      "\n",
      "# Access requests in Train: 123008  %: 80.00\n",
      "# Access requests in Test: 30752  %: 20.00\n",
      "# Access requests: 153760\n"
     ]
    }
   ],
   "source": [
    "cross_validation_settings = {\n",
    "    \"k\": 10,\n",
    "    \"test_size\": 0.2,\n",
    "    \"random_state\": 1\n",
    "}\n",
    "\n",
    "data_corpus = apply_cross_validation(acc_log, cross_validation_settings[\"k\"],\n",
    "                                     cross_validation_settings[\"test_size\"],\n",
    "                                     cross_validation_settings[\"random_state\"])\n",
    "\n",
    "\n",
    "# Selection of a split with the id_k ID.\n",
    "id_k = 0\n",
    "train_acc_log = data_corpus[id_k][0]\n",
    "test_acc_log = data_corpus[id_k][1]\n",
    "\n",
    "print(\"# Access requests in Train:\", len(train_acc_log),\n",
    "        \" %: {:.2f}\".format((len(train_acc_log)/(len(train_acc_log)+len(test_acc_log)))*100))\n",
    "print(\"# Access requests in Test:\", len(test_acc_log),\n",
    "        \" %: {:.2f}\".format((len(test_acc_log)/(len(train_acc_log)+len(test_acc_log)))*100))\n",
    "print(\"# Access requests:\", len(train_acc_log)+len(test_acc_log))\n",
    "\n",
    "del id_k, cross_validation_settings"
   ]
  },
  {
   "cell_type": "markdown",
   "metadata": {},
   "source": [
    "# 2 Handle missing values"
   ]
  },
  {
   "cell_type": "markdown",
   "metadata": {},
   "source": [
    "### Auxiliar"
   ]
  },
  {
   "cell_type": "code",
   "execution_count": null,
   "metadata": {},
   "outputs": [],
   "source": [
    "def handle_missing_values(acc_log):\n",
    "    \"\"\" Handle missing and null data. \"\"\"\n",
    "    \n",
    "    # Loop over column names.\n",
    "    for col in acc_log.columns:\n",
    "        "
   ]
  },
  {
   "cell_type": "markdown",
   "metadata": {},
   "source": [
    "## 2 Missing and null data handle"
   ]
  },
  {
   "cell_type": "code",
   "execution_count": 12,
   "metadata": {},
   "outputs": [
    {
     "data": {
      "text/plain": [
       "doctor    124000\n",
       "None       19840\n",
       "nurse       9920\n",
       "Name: position, dtype: int64"
      ]
     },
     "execution_count": 12,
     "metadata": {},
     "output_type": "execute_result"
    }
   ],
   "source": [
    "acc_log[\"position\"].value_counts(dropna=False)"
   ]
  },
  {
   "cell_type": "markdown",
   "metadata": {},
   "source": [
    "## 3.- Data Discretization"
   ]
  },
  {
   "cell_type": "markdown",
   "metadata": {},
   "source": [
    "### Auxiliar"
   ]
  },
  {
   "cell_type": "code",
   "execution_count": 13,
   "metadata": {},
   "outputs": [],
   "source": [
    "def search_numerical_categories(a_log, ignore_columns):\n",
    "    \"\"\"Check if there are numerical data in each column. The function returns\n",
    "    a list of name column of all numerical data in the access log.\"\"\"\n",
    "    \n",
    "    numerical_data_list = [\"int64\", \"float32\", \"float64\"]\n",
    "    numerical_columns = []\n",
    "    categorical_colums = 0\n",
    "    \n",
    "    for col in a_log.columns:\n",
    "        if a_log[col].dtype in numerical_data_list and not col in ignore_columns:\n",
    "            numerical_columns.append(col)\n",
    "        else:\n",
    "            categorical_colums += 1\n",
    "\n",
    "    if categorical_colums == len(a_log.columns):\n",
    "        return None\n",
    "\n",
    "    return numerical_columns\n"
   ]
  },
  {
   "cell_type": "markdown",
   "metadata": {},
   "source": [
    "### Main"
   ]
  },
  {
   "cell_type": "code",
   "execution_count": 14,
   "metadata": {},
   "outputs": [
    {
     "name": "stdout",
     "output_type": "stream",
     "text": [
      "PASO\n"
     ]
    }
   ],
   "source": [
    "# Check if there are numerical values in each column\n",
    "ignore_columns = [\"rname\", \"uname\", \"ACTION\"]\n",
    "answer = search_numerical_categories(acc_log, ignore_columns)\n",
    "\n",
    "if answer != None:\n",
    "    print(\"Column name with numerical values:\")\n",
    "    print(\"\\t\", answer)\n",
    "else:\n",
    "    print(\"PASO\")\n"
   ]
  },
  {
   "cell_type": "markdown",
   "metadata": {},
   "source": [
    "## 2.- Data Enginiering"
   ]
  },
  {
   "cell_type": "code",
   "execution_count": 15,
   "metadata": {},
   "outputs": [
    {
     "data": {
      "text/html": [
       "<div>\n",
       "<style scoped>\n",
       "    .dataframe tbody tr th:only-of-type {\n",
       "        vertical-align: middle;\n",
       "    }\n",
       "\n",
       "    .dataframe tbody tr th {\n",
       "        vertical-align: top;\n",
       "    }\n",
       "\n",
       "    .dataframe thead th {\n",
       "        text-align: right;\n",
       "    }\n",
       "</style>\n",
       "<table border=\"1\" class=\"dataframe\">\n",
       "  <thead>\n",
       "    <tr style=\"text-align: right;\">\n",
       "      <th></th>\n",
       "      <th>uname</th>\n",
       "      <th>position</th>\n",
       "      <th>uward</th>\n",
       "      <th>specialties</th>\n",
       "      <th>teams</th>\n",
       "      <th>agentfor</th>\n",
       "      <th>type</th>\n",
       "      <th>author</th>\n",
       "      <th>patient</th>\n",
       "      <th>topics</th>\n",
       "      <th>tratingTeam</th>\n",
       "      <th>rward</th>\n",
       "      <th>rname</th>\n",
       "      <th>ACTION</th>\n",
       "    </tr>\n",
       "  </thead>\n",
       "  <tbody>\n",
       "    <tr>\n",
       "      <th>0</th>\n",
       "      <td>oncNurse1</td>\n",
       "      <td>nurse</td>\n",
       "      <td>oncward</td>\n",
       "      <td>None</td>\n",
       "      <td>None</td>\n",
       "      <td>None</td>\n",
       "      <td>item</td>\n",
       "      <td>oncNurse1</td>\n",
       "      <td>oncPat1</td>\n",
       "      <td>oncology</td>\n",
       "      <td>oncTeam1</td>\n",
       "      <td>oncward</td>\n",
       "      <td>0</td>\n",
       "      <td>1</td>\n",
       "    </tr>\n",
       "    <tr>\n",
       "      <th>1</th>\n",
       "      <td>oncNurse1</td>\n",
       "      <td>nurse</td>\n",
       "      <td>oncward</td>\n",
       "      <td>None</td>\n",
       "      <td>None</td>\n",
       "      <td>None</td>\n",
       "      <td>item</td>\n",
       "      <td>oncNurse1</td>\n",
       "      <td>oncPat1</td>\n",
       "      <td>oncology</td>\n",
       "      <td>oncTeam1</td>\n",
       "      <td>carward</td>\n",
       "      <td>1</td>\n",
       "      <td>1</td>\n",
       "    </tr>\n",
       "    <tr>\n",
       "      <th>2</th>\n",
       "      <td>oncNurse1</td>\n",
       "      <td>nurse</td>\n",
       "      <td>oncward</td>\n",
       "      <td>None</td>\n",
       "      <td>None</td>\n",
       "      <td>None</td>\n",
       "      <td>item</td>\n",
       "      <td>oncNurse1</td>\n",
       "      <td>oncPat1</td>\n",
       "      <td>oncology</td>\n",
       "      <td>oncTeam2</td>\n",
       "      <td>oncward</td>\n",
       "      <td>2</td>\n",
       "      <td>1</td>\n",
       "    </tr>\n",
       "    <tr>\n",
       "      <th>3</th>\n",
       "      <td>oncNurse1</td>\n",
       "      <td>nurse</td>\n",
       "      <td>oncward</td>\n",
       "      <td>None</td>\n",
       "      <td>None</td>\n",
       "      <td>None</td>\n",
       "      <td>item</td>\n",
       "      <td>oncNurse1</td>\n",
       "      <td>oncPat1</td>\n",
       "      <td>oncology</td>\n",
       "      <td>oncTeam2</td>\n",
       "      <td>carward</td>\n",
       "      <td>3</td>\n",
       "      <td>1</td>\n",
       "    </tr>\n",
       "    <tr>\n",
       "      <th>4</th>\n",
       "      <td>oncNurse1</td>\n",
       "      <td>nurse</td>\n",
       "      <td>oncward</td>\n",
       "      <td>None</td>\n",
       "      <td>None</td>\n",
       "      <td>None</td>\n",
       "      <td>item</td>\n",
       "      <td>oncNurse1</td>\n",
       "      <td>oncPat1</td>\n",
       "      <td>oncology</td>\n",
       "      <td>carTeam1</td>\n",
       "      <td>oncward</td>\n",
       "      <td>4</td>\n",
       "      <td>1</td>\n",
       "    </tr>\n",
       "    <tr>\n",
       "      <th>...</th>\n",
       "      <td>...</td>\n",
       "      <td>...</td>\n",
       "      <td>...</td>\n",
       "      <td>...</td>\n",
       "      <td>...</td>\n",
       "      <td>...</td>\n",
       "      <td>...</td>\n",
       "      <td>...</td>\n",
       "      <td>...</td>\n",
       "      <td>...</td>\n",
       "      <td>...</td>\n",
       "      <td>...</td>\n",
       "      <td>...</td>\n",
       "      <td>...</td>\n",
       "    </tr>\n",
       "    <tr>\n",
       "      <th>153755</th>\n",
       "      <td>carAgent1</td>\n",
       "      <td>None</td>\n",
       "      <td>None</td>\n",
       "      <td>None</td>\n",
       "      <td>None</td>\n",
       "      <td>carPat1</td>\n",
       "      <td>HR</td>\n",
       "      <td>carAgent1</td>\n",
       "      <td>oncPat1</td>\n",
       "      <td>cardiology</td>\n",
       "      <td>oncTeam2</td>\n",
       "      <td>carward</td>\n",
       "      <td>4915</td>\n",
       "      <td>0</td>\n",
       "    </tr>\n",
       "    <tr>\n",
       "      <th>153756</th>\n",
       "      <td>carAgent1</td>\n",
       "      <td>None</td>\n",
       "      <td>None</td>\n",
       "      <td>None</td>\n",
       "      <td>None</td>\n",
       "      <td>carPat1</td>\n",
       "      <td>HR</td>\n",
       "      <td>carAgent1</td>\n",
       "      <td>oncPat1</td>\n",
       "      <td>cardiology</td>\n",
       "      <td>carTeam1</td>\n",
       "      <td>oncward</td>\n",
       "      <td>4916</td>\n",
       "      <td>0</td>\n",
       "    </tr>\n",
       "    <tr>\n",
       "      <th>153757</th>\n",
       "      <td>carAgent1</td>\n",
       "      <td>None</td>\n",
       "      <td>None</td>\n",
       "      <td>None</td>\n",
       "      <td>None</td>\n",
       "      <td>carPat1</td>\n",
       "      <td>HR</td>\n",
       "      <td>carAgent1</td>\n",
       "      <td>oncPat1</td>\n",
       "      <td>cardiology</td>\n",
       "      <td>carTeam1</td>\n",
       "      <td>carward</td>\n",
       "      <td>4917</td>\n",
       "      <td>0</td>\n",
       "    </tr>\n",
       "    <tr>\n",
       "      <th>153758</th>\n",
       "      <td>carAgent1</td>\n",
       "      <td>None</td>\n",
       "      <td>None</td>\n",
       "      <td>None</td>\n",
       "      <td>None</td>\n",
       "      <td>carPat1</td>\n",
       "      <td>HR</td>\n",
       "      <td>carAgent1</td>\n",
       "      <td>oncPat1</td>\n",
       "      <td>cardiology</td>\n",
       "      <td>carTeam2</td>\n",
       "      <td>oncward</td>\n",
       "      <td>4918</td>\n",
       "      <td>0</td>\n",
       "    </tr>\n",
       "    <tr>\n",
       "      <th>153759</th>\n",
       "      <td>carAgent1</td>\n",
       "      <td>None</td>\n",
       "      <td>None</td>\n",
       "      <td>None</td>\n",
       "      <td>None</td>\n",
       "      <td>carPat1</td>\n",
       "      <td>HR</td>\n",
       "      <td>carAgent1</td>\n",
       "      <td>oncPat1</td>\n",
       "      <td>cardiology</td>\n",
       "      <td>carTeam2</td>\n",
       "      <td>carward</td>\n",
       "      <td>4919</td>\n",
       "      <td>0</td>\n",
       "    </tr>\n",
       "  </tbody>\n",
       "</table>\n",
       "<p>153760 rows × 14 columns</p>\n",
       "</div>"
      ],
      "text/plain": [
       "            uname position    uward specialties teams agentfor  type  \\\n",
       "0       oncNurse1    nurse  oncward        None  None     None  item   \n",
       "1       oncNurse1    nurse  oncward        None  None     None  item   \n",
       "2       oncNurse1    nurse  oncward        None  None     None  item   \n",
       "3       oncNurse1    nurse  oncward        None  None     None  item   \n",
       "4       oncNurse1    nurse  oncward        None  None     None  item   \n",
       "...           ...      ...      ...         ...   ...      ...   ...   \n",
       "153755  carAgent1     None     None        None  None  carPat1    HR   \n",
       "153756  carAgent1     None     None        None  None  carPat1    HR   \n",
       "153757  carAgent1     None     None        None  None  carPat1    HR   \n",
       "153758  carAgent1     None     None        None  None  carPat1    HR   \n",
       "153759  carAgent1     None     None        None  None  carPat1    HR   \n",
       "\n",
       "           author  patient      topics tratingTeam    rward  rname  ACTION  \n",
       "0       oncNurse1  oncPat1    oncology    oncTeam1  oncward      0       1  \n",
       "1       oncNurse1  oncPat1    oncology    oncTeam1  carward      1       1  \n",
       "2       oncNurse1  oncPat1    oncology    oncTeam2  oncward      2       1  \n",
       "3       oncNurse1  oncPat1    oncology    oncTeam2  carward      3       1  \n",
       "4       oncNurse1  oncPat1    oncology    carTeam1  oncward      4       1  \n",
       "...           ...      ...         ...         ...      ...    ...     ...  \n",
       "153755  carAgent1  oncPat1  cardiology    oncTeam2  carward   4915       0  \n",
       "153756  carAgent1  oncPat1  cardiology    carTeam1  oncward   4916       0  \n",
       "153757  carAgent1  oncPat1  cardiology    carTeam1  carward   4917       0  \n",
       "153758  carAgent1  oncPat1  cardiology    carTeam2  oncward   4918       0  \n",
       "153759  carAgent1  oncPat1  cardiology    carTeam2  carward   4919       0  \n",
       "\n",
       "[153760 rows x 14 columns]"
      ]
     },
     "execution_count": 15,
     "metadata": {},
     "output_type": "execute_result"
    }
   ],
   "source": [
    "acc_log"
   ]
  },
  {
   "cell_type": "code",
   "execution_count": 16,
   "metadata": {},
   "outputs": [
    {
     "data": {
      "text/plain": [
       "(array([2., 0., 0., 0., 0., 0., 0., 0., 0., 1.]),\n",
       " array([  9920.,  21328.,  32736.,  44144.,  55552.,  66960.,  78368.,\n",
       "         89776., 101184., 112592., 124000.]),\n",
       " <BarContainer object of 10 artists>)"
      ]
     },
     "execution_count": 16,
     "metadata": {},
     "output_type": "execute_result"
    },
    {
     "data": {
      "image/png": "[encoded data removed]",
      "text/plain": [
       "<Figure size 432x288 with 1 Axes>"
      ]
     },
     "metadata": {
      "needs_background": "light"
     },
     "output_type": "display_data"
    }
   ],
   "source": [
    "plt.hist(acc_log.position.value_counts())"
   ]
  },
  {
   "cell_type": "code",
   "execution_count": 17,
   "metadata": {},
   "outputs": [
    {
     "data": {
      "text/plain": [
       "Index(['uname', 'position', 'uward', 'specialties', 'teams', 'agentfor',\n",
       "       'type', 'author', 'patient', 'topics', 'tratingTeam', 'rward', 'rname',\n",
       "       'ACTION'],\n",
       "      dtype='object')"
      ]
     },
     "execution_count": 17,
     "metadata": {},
     "output_type": "execute_result"
    }
   ],
   "source": [
    "acc_log.columns"
   ]
  },
  {
   "cell_type": "code",
   "execution_count": 18,
   "metadata": {},
   "outputs": [],
   "source": [
    "import scipy.stats as ss\n",
    "\n",
    "def cramers_corrected_stat2(confusion_matrix):\n",
    "    \"\"\" calculate Cramers V statistic for categorial-categorial association.\n",
    "        uses correction from Bergsma and Wicher, \n",
    "        Journal of the Korean Statistical Society 42 (2013): 323-328\n",
    "    \"\"\"\n",
    "    chi2 = ss.chi2_contingency(confusion_matrix)[0]    \n",
    "    n = sum(confusion_matrix.sum())    \n",
    "    phi2 = chi2/n\n",
    "    r,k = confusion_matrix.shape\n",
    "    phi2corr = max(0, phi2 - ((k-1)*(r-1))/(n-1))    \n",
    "    rcorr = r - ((r-1)**2)/(n-1)\n",
    "    kcorr = k - ((k-1)**2)/(n-1)\n",
    "    if min( (kcorr-1), (rcorr-1)) <= 0:\n",
    "        return -1\n",
    "    return np.sqrt(phi2corr / min( (kcorr-1), (rcorr-1)))"
   ]
  },
  {
   "cell_type": "code",
   "execution_count": 19,
   "metadata": {},
   "outputs": [
    {
     "name": "stdout",
     "output_type": "stream",
     "text": [
      "DONE!\n"
     ]
    }
   ],
   "source": [
    "cramers_matrix = []\n",
    "\n",
    "for x_ in acc_log.columns[:-1]:\n",
    "    row_to_add = []\n",
    "    for y_ in acc_log.columns[:-1]:\n",
    "        if x_ == y_:\n",
    "            row_to_add.append(1.0)\n",
    "        else:\n",
    "            conff_mx = pd.crosstab(acc_log[x_], acc_log[y_])\n",
    "            row_to_add.append(cramers_corrected_stat2(conff_mx))\n",
    "    cramers_matrix.append(row_to_add)\n",
    "print(\"DONE!\")"
   ]
  },
  {
   "cell_type": "code",
   "execution_count": 21,
   "metadata": {},
   "outputs": [
    {
     "data": {
      "text/plain": [
       "<AxesSubplot:title={'center':\"Cramér's V correlation.\"}>"
      ]
     },
     "execution_count": 21,
     "metadata": {},
     "output_type": "execute_result"
    },
    {
     "data": {
      "image/png": "[encoded data removed]",
      "text/plain": [
       "<Figure size 720x720 with 2 Axes>"
      ]
     },
     "metadata": {
      "needs_background": "light"
     },
     "output_type": "display_data"
    }
   ],
   "source": [
    "import seaborn as sns\n",
    "\n",
    "fig, ax = plt.subplots(figsize=(10,10))\n",
    "fontdict_title = {'fontsize': 20, 'fontname': 'Times New Roman'}\n",
    "ax.set_title(\"Cramér's V correlation.\", fontdict=fontdict_title)\n",
    "sns.heatmap(cramers_matrix, xticklabels=acc_log.columns[:-1], \n",
    "            yticklabels=acc_log.columns[:-1], cmap=\"Blues\", annot=True)"
   ]
  }
 ],
 "metadata": {
  "kernelspec": {
   "display_name": "base",
   "language": "python",
   "name": "python3"
  },
  "language_info": {
   "codemirror_mode": {
    "name": "ipython",
    "version": 3
   },
   "file_extension": ".py",
   "mimetype": "text/x-python",
   "name": "python",
   "nbconvert_exporter": "python",
   "pygments_lexer": "ipython3",
   "version": "3.7.13"
  }
 },
 "nbformat": 4,
 "nbformat_minor": 2
}
