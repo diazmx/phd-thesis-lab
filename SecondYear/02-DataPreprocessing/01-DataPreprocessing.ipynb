{
 "cells": [
  {
   "cell_type": "markdown",
   "metadata": {},
   "source": [
    "# Phase 1: *Data Preprocessing*"
   ]
  },
  {
   "cell_type": "code",
   "execution_count": 2,
   "metadata": {},
   "outputs": [],
   "source": [
    "import numpy as np\n",
    "import pandas as pd\n",
    "from sklearn.model_selection import StratifiedShuffleSplit"
   ]
  },
  {
   "cell_type": "markdown",
   "metadata": {},
   "source": [
    "## Auxiliar functions"
   ]
  },
  {
   "cell_type": "code",
   "execution_count": 7,
   "metadata": {},
   "outputs": [
    {
     "name": "stderr",
     "output_type": "stream",
     "text": [
      "/tmp/ipykernel_8500/444217266.py:2: DtypeWarning: Columns (1,2) have mixed types. Specify dtype option on import or set low_memory=False.\n",
      "  acc_log = pd.read_csv(file_path)\n"
     ]
    },
    {
     "name": "stdout",
     "output_type": "stream",
     "text": [
      "### *** Access Log loaded *** ###\n",
      "<class 'pandas.core.frame.DataFrame'>\n",
      "RangeIndex: 686400 entries, 0 to 686399\n",
      "Data columns (total 14 columns):\n",
      " #   Column       Non-Null Count   Dtype \n",
      "---  ------       --------------   ----- \n",
      " 0   position     499200 non-null  object\n",
      " 1   uward        499200 non-null  object\n",
      " 2   specialties  572000 non-null  object\n",
      " 3   teams        599040 non-null  object\n",
      " 4   agentfor     524160 non-null  object\n",
      " 5   uname        686400 non-null  int64 \n",
      " 6   type         686400 non-null  object\n",
      " 7   author       686400 non-null  object\n",
      " 8   patient      686400 non-null  object\n",
      " 9   topics       686400 non-null  object\n",
      " 10  tratingTeam  686400 non-null  object\n",
      " 11  rward        686400 non-null  object\n",
      " 12  rname        686400 non-null  int64 \n",
      " 13  ACTION       686400 non-null  int64 \n",
      "dtypes: int64(3), object(11)\n",
      "memory usage: 73.3+ MB\n",
      "None\n"
     ]
    }
   ],
   "source": [
    "file_path = \"../data/HC-ALL-positive_ar.csv\"\n",
    "acc_log = pd.read_csv(file_path)\n",
    "acc_log = acc_log[acc_log.columns[1:]]\n",
    "acc_log[\"ACTION\"] = 1\n",
    "\n",
    "print(\"### *** Access Log loaded *** ###\")\n",
    "print(acc_log.info())"
   ]
  },
  {
   "cell_type": "markdown",
   "metadata": {},
   "source": [
    "## 1 Data Splitting"
   ]
  },
  {
   "cell_type": "markdown",
   "metadata": {},
   "source": [
    "### Auxiliar"
   ]
  },
  {
   "cell_type": "code",
   "execution_count": 11,
   "metadata": {},
   "outputs": [],
   "source": [
    "def apply_cross_validation(acc_log, k, testSize, randomState=None):\n",
    "    \"\"\"Get all indices to split data.\"\"\"\n",
    "    if randomState != None:\n",
    "        kfold = StratifiedShuffleSplit(n_splits=k, test_size=testSize,\n",
    "                                       random_state=randomState)\n",
    "    else:\n",
    "        kfold = StratifiedShuffleSplit(n_splits=k, test_size=testSize)\n",
    "\n",
    "    data_partition = kfold.split(acc_log, acc_log.ACTION)\n",
    "    data_corpus = []  # List with all data partitions\n",
    "    for train_data, test_data in data_partition:\n",
    "        X_train, X_test = acc_log.iloc[train_data], acc_log.iloc[test_data]\n",
    "        data_corpus.append([X_train, X_test])\n",
    "\n",
    "    print(\"Cross-Validation - DONE\")\n",
    "    print(\"- k =\", k)\n",
    "    print(\"- Percentage Train-Test:\", (1-testSize)*100, \"-\", testSize*100, \"\\n\")\n",
    "\n",
    "    return data_corpus"
   ]
  },
  {
   "cell_type": "markdown",
   "metadata": {},
   "source": [
    "### Main"
   ]
  },
  {
   "cell_type": "code",
   "execution_count": 15,
   "metadata": {},
   "outputs": [
    {
     "name": "stdout",
     "output_type": "stream",
     "text": [
      "Cross-Validation - DONE\n",
      "- k = 10\n",
      "- Percentage Train-Test: 80.0 - 20.0 \n",
      "\n",
      "# Access requests in Train: 549120  %: 80.00\n",
      "# Access requests in Test: 137280  %: 20.00\n",
      "# Access requests: 686400\n"
     ]
    }
   ],
   "source": [
    "cross_validation_settings = {\n",
    "    \"k\": 10,\n",
    "    \"test_size\": 0.2,\n",
    "    \"random_state\": 1\n",
    "}\n",
    "\n",
    "data_corpus = apply_cross_validation(acc_log, cross_validation_settings[\"k\"],\n",
    "                                     cross_validation_settings[\"test_size\"],\n",
    "                                     cross_validation_settings[\"random_state\"])\n",
    "\n",
    "\n",
    "# Selection of a split with the id_k ID.\n",
    "id_k = 0\n",
    "train_acc_log = data_corpus[id_k][0]\n",
    "test_acc_log = data_corpus[id_k][1]\n",
    "\n",
    "print(\"# Access requests in Train:\", len(train_acc_log),\n",
    "        \" %: {:.2f}\".format((len(train_acc_log)/(len(train_acc_log)+len(test_acc_log)))*100))\n",
    "print(\"# Access requests in Test:\", len(test_acc_log),\n",
    "        \" %: {:.2f}\".format((len(test_acc_log)/(len(train_acc_log)+len(test_acc_log)))*100))\n",
    "print(\"# Access requests:\", len(train_acc_log)+len(test_acc_log))\n",
    "\n",
    "del id_k, cross_validation_settings"
   ]
  },
  {
   "cell_type": "markdown",
   "metadata": {},
   "source": [
    "# 2 User and resource identification"
   ]
  },
  {
   "cell_type": "code",
   "execution_count": null,
   "metadata": {},
   "outputs": [],
   "source": []
  },
  {
   "cell_type": "markdown",
   "metadata": {},
   "source": [
    "## 2 Missing and null data handle"
   ]
  },
  {
   "cell_type": "markdown",
   "metadata": {},
   "source": [
    "### Auxiliar"
   ]
  },
  {
   "cell_type": "code",
   "execution_count": null,
   "metadata": {},
   "outputs": [],
   "source": [
    "def data_cleaning(acc_log, freq_th):\n",
    "    \"\"\"Missing and null data handle. Addtionally selection of more frequent\n",
    "    Access Requests.\"\"\"\n",
    "    \n",
    "    # Loop over column names.\n",
    "    for col in acc_log.columns:\n",
    "        "
   ]
  },
  {
   "cell_type": "code",
   "execution_count": 36,
   "metadata": {},
   "outputs": [
    {
     "name": "stdout",
     "output_type": "stream",
     "text": [
      "<bound method Series.items of position\n",
      "nurse     312000\n",
      "doctor    187200\n",
      "NaN       187200\n",
      "Name: count, dtype: int64>\n"
     ]
    }
   ],
   "source": [
    "print(acc_log[\"position\"].value_counts(dropna=False).items)"
   ]
  },
  {
   "cell_type": "code",
   "execution_count": 37,
   "metadata": {},
   "outputs": [
    {
     "name": "stdout",
     "output_type": "stream",
     "text": [
      "position\n",
      "nurse     312000\n",
      "doctor    187200\n",
      "NaN       187200\n",
      "Name: count, dtype: int64\n",
      "uward\n",
      "oncward    249600\n",
      "carward    249600\n",
      "NaN        187200\n",
      "Name: count, dtype: int64\n",
      "specialties\n",
      "NaN               114400\n",
      "oncology          114400\n",
      "cardiology        114400\n",
      "anesthesiology    114400\n",
      "pediatrics        114400\n",
      "neurology         114400\n",
      "Name: count, dtype: int64\n",
      "teams\n",
      "oncTeam2    149760\n",
      "oncTeam1    149760\n",
      "carTeam1    149760\n",
      "carTeam2    149760\n",
      "NaN          87360\n",
      "Name: count, dtype: int64\n",
      "agentfor\n",
      "oncPat2    262080\n",
      "carPat2    262080\n",
      "NaN        162240\n",
      "Name: count, dtype: int64\n",
      "uname\n",
      "143    1495\n",
      "52     1495\n",
      "131    1495\n",
      "83     1495\n",
      "82     1495\n",
      "       ... \n",
      "318     520\n",
      "567     520\n",
      "564     520\n",
      "321     520\n",
      "399     520\n",
      "Name: count, Length: 768, dtype: int64\n",
      "type\n",
      "HR    686400\n",
      "Name: count, dtype: int64\n",
      "author\n",
      "oncDoc1      52800\n",
      "oncNurse2    52800\n",
      "oncPat1      52800\n",
      "none         52800\n",
      "doc1         52800\n",
      "oncNurse1    52800\n",
      "oncAgent1    52800\n",
      "carDoc2      52800\n",
      "carNurse1    52800\n",
      "carPat1      52800\n",
      "doc2         52800\n",
      "carNurse2    52800\n",
      "carAgent1    52800\n",
      "Name: count, dtype: int64\n",
      "patient\n",
      "oncPat2    221520\n",
      "carPat2    221520\n",
      "oncPat1    121680\n",
      "carPat1    121680\n",
      "Name: count, dtype: int64\n",
      "topics\n",
      "oncology      137280\n",
      "nursing       137280\n",
      "note          137280\n",
      "none          137280\n",
      "cardiology    137280\n",
      "Name: count, dtype: int64\n",
      "tratingTeam\n",
      "oncTeam1    171600\n",
      "oncTeam2    171600\n",
      "carTeam1    171600\n",
      "carTeam2    171600\n",
      "Name: count, dtype: int64\n",
      "rward\n",
      "oncward    343200\n",
      "carward    343200\n",
      "Name: count, dtype: int64\n",
      "rname\n",
      "2121    426\n",
      "2461    426\n",
      "2477    426\n",
      "2475    426\n",
      "2473    426\n",
      "       ... \n",
      "3464    234\n",
      "3466    234\n",
      "3468    234\n",
      "3470    234\n",
      "4119    234\n",
      "Name: count, Length: 2080, dtype: int64\n",
      "ACTION\n",
      "1    686400\n",
      "Name: count, dtype: int64\n"
     ]
    }
   ],
   "source": [
    "for col in acc_log.columns:\n",
    "    print(acc_log[col].value_counts(dropna=False))"
   ]
  },
  {
   "cell_type": "markdown",
   "metadata": {},
   "source": [
    "### Main"
   ]
  },
  {
   "cell_type": "code",
   "execution_count": null,
   "metadata": {},
   "outputs": [],
   "source": []
  }
 ],
 "metadata": {
  "kernelspec": {
   "display_name": "base",
   "language": "python",
   "name": "python3"
  },
  "language_info": {
   "codemirror_mode": {
    "name": "ipython",
    "version": 3
   },
   "file_extension": ".py",
   "mimetype": "text/x-python",
   "name": "python",
   "nbconvert_exporter": "python",
   "pygments_lexer": "ipython3",
   "version": "3.11.5"
  }
 },
 "nbformat": 4,
 "nbformat_minor": 2
}
