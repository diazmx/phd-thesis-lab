{
 "cells": [
  {
   "cell_type": "code",
   "execution_count": 1,
   "metadata": {},
   "outputs": [],
   "source": [
    "from auxiliar_functions.policy_mining import PolicyMining"
   ]
  },
  {
   "cell_type": "markdown",
   "metadata": {},
   "source": [
    "## Load data"
   ]
  },
  {
   "cell_type": "code",
   "execution_count": 2,
   "metadata": {},
   "outputs": [
    {
     "name": "stdout",
     "output_type": "stream",
     "text": [
      "File loaded! \n",
      "\n",
      "Cross-Validation - DONE\n",
      "- k = 10\n",
      "- Percentage Train-Test: 80.0 - 20.0\n",
      "# Access requests in Train: 26215  %: 80.00\n",
      "# Access requests in Test: 6554  %: 20.00\n",
      "# Access requests: 32769\n",
      "\n",
      "\n",
      "##############################\n",
      " PHASE 1: Data Preprocessing.\n",
      "##############################\n",
      "\n",
      "\n",
      "TASK 1: Done!\n",
      "\n",
      "TASK 2: Done!\n",
      "\n",
      "# (+) access requests: 24697  %: 94.21\n",
      "# (-) access requests: 1518  %: 5.79\n",
      "TASK 3: Done!\n",
      "\n",
      "TASK 4: Done!\n",
      "\n",
      "|U|:  8826  -\t|R|:  6670\n",
      "\n",
      "#########################\n",
      " PHASE 2: Network Model.\n",
      "#########################\n",
      "\n",
      "ARBN builded!\n",
      "IGRAPH UN-- 5665 9553 -- \n",
      "+ attr: name (v), typen (v)\n",
      "|U-Nodes| = 5515\n",
      "|R-Nodes| = 150\n",
      "TASK 1: Done!\n",
      "\n"
     ]
    },
    {
     "ename": "TypeError",
     "evalue": "list indices must be integers or slices, not str",
     "output_type": "error",
     "traceback": [
      "\u001b[0;31m---------------------------------------------------------------------------\u001b[0m",
      "\u001b[0;31mTypeError\u001b[0m                                 Traceback (most recent call last)",
      "\u001b[0;32m/tmp/ipykernel_37692/3605538489.py\u001b[0m in \u001b[0;36m<module>\u001b[0;34m\u001b[0m\n\u001b[1;32m     27\u001b[0m \u001b[0mpm\u001b[0m \u001b[0;34m=\u001b[0m \u001b[0mPolicyMining\u001b[0m\u001b[0;34m(\u001b[0m\u001b[0mFILE_NAME\u001b[0m\u001b[0;34m,\u001b[0m \u001b[0mNAME_DATASET\u001b[0m\u001b[0;34m,\u001b[0m \u001b[0mUSER_ATTRS\u001b[0m\u001b[0;34m,\u001b[0m \u001b[0mRESOURCE_ATTRS\u001b[0m\u001b[0;34m)\u001b[0m\u001b[0;34m\u001b[0m\u001b[0;34m\u001b[0m\u001b[0m\n\u001b[1;32m     28\u001b[0m \u001b[0mpm\u001b[0m\u001b[0;34m.\u001b[0m\u001b[0mdata_preprocessing\u001b[0m\u001b[0;34m(\u001b[0m\u001b[0;34m)\u001b[0m\u001b[0;34m\u001b[0m\u001b[0;34m\u001b[0m\u001b[0m\n\u001b[0;32m---> 29\u001b[0;31m \u001b[0mpm\u001b[0m\u001b[0;34m.\u001b[0m\u001b[0mnetwork_model\u001b[0m\u001b[0;34m(\u001b[0m\u001b[0;34m)\u001b[0m\u001b[0;34m\u001b[0m\u001b[0;34m\u001b[0m\u001b[0m\n\u001b[0m\u001b[1;32m     30\u001b[0m \u001b[0mpm\u001b[0m\u001b[0;34m.\u001b[0m\u001b[0mcommunity_detection\u001b[0m\u001b[0;34m(\u001b[0m\u001b[0;34m)\u001b[0m\u001b[0;34m\u001b[0m\u001b[0;34m\u001b[0m\u001b[0m\n",
      "\u001b[0;32m~/Documents/phd-thesis-lab/phd-thesis-lab/08-NetworkGenerator/auxiliar_functions/policy_mining.py\u001b[0m in \u001b[0;36mnetwork_model\u001b[0;34m(self)\u001b[0m\n\u001b[1;32m    248\u001b[0m         \u001b[0;31m###### ***** TASK 2 ***** #####\u001b[0m\u001b[0;34m\u001b[0m\u001b[0;34m\u001b[0m\u001b[0;34m\u001b[0m\u001b[0m\n\u001b[1;32m    249\u001b[0m         \u001b[0;31m# User network 3\u001b[0m\u001b[0;34m\u001b[0m\u001b[0;34m\u001b[0m\u001b[0;34m\u001b[0m\u001b[0m\n\u001b[0;32m--> 250\u001b[0;31m         \u001b[0mself\u001b[0m\u001b[0;34m.\u001b[0m\u001b[0muser_network\u001b[0m \u001b[0;34m=\u001b[0m \u001b[0mbipartite_projection\u001b[0m\u001b[0;34m(\u001b[0m\u001b[0mself\u001b[0m\u001b[0;34m.\u001b[0m\u001b[0mbip_network\u001b[0m\u001b[0;34m,\u001b[0m \u001b[0mself\u001b[0m\u001b[0;34m.\u001b[0m\u001b[0muser_attrs\u001b[0m\u001b[0;34m,\u001b[0m \u001b[0mself\u001b[0m\u001b[0;34m.\u001b[0m\u001b[0musers_dict\u001b[0m\u001b[0;34m,\u001b[0m \u001b[0;36m0\u001b[0m\u001b[0;34m)\u001b[0m\u001b[0;34m\u001b[0m\u001b[0;34m\u001b[0m\u001b[0m\n\u001b[0m\u001b[1;32m    251\u001b[0m \u001b[0;34m\u001b[0m\u001b[0m\n\u001b[1;32m    252\u001b[0m         \u001b[0;31m# Complex Network Analysis\u001b[0m\u001b[0;34m\u001b[0m\u001b[0;34m\u001b[0m\u001b[0;34m\u001b[0m\u001b[0m\n",
      "\u001b[0;32m~/Documents/phd-thesis-lab/phd-thesis-lab/08-NetworkGenerator/auxiliar_functions/network_model.py\u001b[0m in \u001b[0;36mbipartite_projection\u001b[0;34m(biparte_network, user_dict, user_attrs, node_type)\u001b[0m\n\u001b[1;32m    142\u001b[0m         \u001b[0mu_nodes\u001b[0m\u001b[0;34m[\u001b[0m\u001b[0;34m\"rsrcs\"\u001b[0m\u001b[0;34m]\u001b[0m \u001b[0;34m=\u001b[0m \u001b[0mrsrcs\u001b[0m\u001b[0;34m\u001b[0m\u001b[0;34m\u001b[0m\u001b[0m\n\u001b[1;32m    143\u001b[0m \u001b[0;34m\u001b[0m\u001b[0m\n\u001b[0;32m--> 144\u001b[0;31m         \u001b[0mdata_user\u001b[0m \u001b[0;34m=\u001b[0m \u001b[0muser_dict\u001b[0m\u001b[0;34m[\u001b[0m\u001b[0mu_nodes\u001b[0m\u001b[0;34m[\u001b[0m\u001b[0;34m\"name\"\u001b[0m\u001b[0;34m]\u001b[0m\u001b[0;34m]\u001b[0m\u001b[0;34m\u001b[0m\u001b[0;34m\u001b[0m\u001b[0m\n\u001b[0m\u001b[1;32m    145\u001b[0m         \u001b[0mu_nodes\u001b[0m\u001b[0;34m[\u001b[0m\u001b[0muser_attrs\u001b[0m\u001b[0;34m[\u001b[0m\u001b[0;36m0\u001b[0m\u001b[0;34m]\u001b[0m\u001b[0;34m]\u001b[0m \u001b[0;34m=\u001b[0m \u001b[0mdata_user\u001b[0m\u001b[0;34m[\u001b[0m\u001b[0;36m0\u001b[0m\u001b[0;34m]\u001b[0m\u001b[0;34m\u001b[0m\u001b[0;34m\u001b[0m\u001b[0m\n\u001b[1;32m    146\u001b[0m         \u001b[0mu_nodes\u001b[0m\u001b[0;34m[\u001b[0m\u001b[0muser_attrs\u001b[0m\u001b[0;34m[\u001b[0m\u001b[0;36m1\u001b[0m\u001b[0;34m]\u001b[0m\u001b[0;34m]\u001b[0m \u001b[0;34m=\u001b[0m \u001b[0mdata_user\u001b[0m\u001b[0;34m[\u001b[0m\u001b[0;36m1\u001b[0m\u001b[0;34m]\u001b[0m\u001b[0;34m\u001b[0m\u001b[0;34m\u001b[0m\u001b[0m\n",
      "\u001b[0;31mTypeError\u001b[0m: list indices must be integers or slices, not str"
     ]
    }
   ],
   "source": [
    "NAME_DATASET = \"AMZ\"\n",
    "FILE_NAME = None\n",
    "USER_ATTRS = None\n",
    "RESOURCE_ATTRS = None\n",
    "th_rule_sim = None\n",
    "\n",
    "# Settings for each dataset\n",
    "if NAME_DATASET == \"AMZ\":\n",
    "    FILE_NAME = \"../00-Data/train.csv\"\n",
    "    USER_ATTRS = [\"MGR_ID\", \"ROLE_ROLLUP_1\", \"ROLE_ROLLUP_2\", \"ROLE_DEPTNAME\",\n",
    "                  \"ROLE_TITLE\", \"ROLE_FAMILY_DESC\", \"ROLE_FAMILY\", \"ROLE_CODE\"]\n",
    "    RESOURCE_ATTRS = [\"RID\"]\n",
    "    th_rule_sim = 1\n",
    "\n",
    "elif NAME_DATASET == \"HC\":\n",
    "    FILE_NAME = \"../00-Data/HC-AccessLog.csv\"\n",
    "    USER_ATTRS = ['role', 'specialty', 'team', 'uward', 'agentfor']\n",
    "    RESOURCE_ATTRS = ['type', 'patient', 'treatingteam',\n",
    "                      'oward', 'author', 'topic']\n",
    "    th_rule_sim = 2\n",
    "\n",
    "elif NAME_DATASET == \"CAV\":\n",
    "    FILE_NAME = \"../00-Data/CAV.csv\"\n",
    "else:\n",
    "    print(\"Invalid Dataset\")\n",
    "\n",
    "pm = PolicyMining(FILE_NAME, NAME_DATASET, USER_ATTRS, RESOURCE_ATTRS)\n",
    "pm.data_preprocessing()\n",
    "pm.network_model()\n",
    "pm.community_detection()"
   ]
  },
  {
   "cell_type": "markdown",
   "metadata": {},
   "source": [
    "## Data-preprocessing"
   ]
  },
  {
   "cell_type": "code",
   "execution_count": null,
   "metadata": {},
   "outputs": [
    {
     "data": {
      "text/plain": [
       "'IGRAPH UNW- 630 15164 -- \\n+ attr: commty (v), name (v), rsrcs (v), tpcommty (v), weight (e)'"
      ]
     },
     "execution_count": 7,
     "metadata": {},
     "output_type": "execute_result"
    }
   ],
   "source": [
    "pm.user_network.summary()"
   ]
  },
  {
   "cell_type": "markdown",
   "metadata": {},
   "source": [
    "## Network Models"
   ]
  },
  {
   "cell_type": "code",
   "execution_count": null,
   "metadata": {},
   "outputs": [],
   "source": []
  },
  {
   "cell_type": "markdown",
   "metadata": {},
   "source": [
    "## Community Detection"
   ]
  },
  {
   "cell_type": "code",
   "execution_count": null,
   "metadata": {},
   "outputs": [],
   "source": []
  }
 ],
 "metadata": {
  "kernelspec": {
   "display_name": "tesis_env",
   "language": "python",
   "name": "python3"
  },
  "language_info": {
   "codemirror_mode": {
    "name": "ipython",
    "version": 3
   },
   "file_extension": ".py",
   "mimetype": "text/x-python",
   "name": "python",
   "nbconvert_exporter": "python",
   "pygments_lexer": "ipython3",
   "version": "3.7.13"
  },
  "orig_nbformat": 4,
  "vscode": {
   "interpreter": {
    "hash": "deec884ae07beaa7e970d39d84b9343805b80aeba4e343861fb4097b62dc7004"
   }
  }
 },
 "nbformat": 4,
 "nbformat_minor": 2
}
