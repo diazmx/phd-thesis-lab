{
 "cells": [
  {
   "cell_type": "code",
   "execution_count": 2,
   "metadata": {},
   "outputs": [],
   "source": [
    "from auxiliar_functions.policy_mining import PolicyMining"
   ]
  },
  {
   "cell_type": "markdown",
   "metadata": {},
   "source": [
    "## Load data"
   ]
  },
  {
   "cell_type": "code",
   "execution_count": 3,
   "metadata": {},
   "outputs": [
    {
     "name": "stdout",
     "output_type": "stream",
     "text": [
      "File loaded! \n",
      "\n",
      "Cross-Validation - DONE\n",
      "- k = 10\n",
      "- Percentage Train-Test: 80.0 - 20.0\n",
      "# Access requests in Train: 14400  %: 80.00\n",
      "# Access requests in Test: 3600  %: 20.00\n",
      "# Access requests: 18000\n",
      "\n",
      "\n",
      "##############################\n",
      " PHASE 1: Data Preprocessing.\n",
      "##############################\n",
      "\n",
      "\n",
      "TASK 1: Done!\n",
      "\n",
      "TASK 2: Done!\n",
      "\n",
      "# (+) access requests: 7034  %: 48.85\n",
      "# (-) access requests: 7199  %: 49.99\n",
      "TASK 3: Done!\n",
      "\n",
      "TASK 4: Done!\n",
      "\n",
      "|U|:  1124  -\t|R|:  5601\n",
      "\n",
      "#########################\n",
      " PHASE 2: Network Model.\n",
      "#########################\n",
      "\n",
      "ARBN builded!\n",
      "IGRAPH UN-- 841 2373 -- \n",
      "+ attr: name (v), typen (v)\n",
      "|U-Nodes| = 630\n",
      "|R-Nodes| = 211\n",
      "TASK 1: Done!\n",
      "\n",
      "User Network builded!\n",
      "IGRAPH UNW- 630 15164 -- \n",
      "+ attr: name (v), rsrcs (v), weight (e)\n",
      "\n",
      "###############################\n",
      " PHASE 3: Community Detection.\n",
      "###############################\n",
      "\n",
      "Modularity: 0.4753\n",
      "IGRAPH UNW- 630 15164 -- \n",
      "+ attr: commty (v), name (v), rsrcs (v), weight (e)\n",
      "Clustering with 630 elements and 13 clusters\n",
      "TASK 1: Done!\n",
      "\n",
      "Big Threshold:  49  \t\t Med Threshold 24\n",
      "|C|: 42 == 42\n",
      "Sparse Comms: 2\n",
      "Medium Comms: 11\n",
      "Concentrate Comms: 29\n",
      "TASK 2: Done!\n",
      "\n"
     ]
    }
   ],
   "source": [
    "NAME_DATASET = \"HC\"\n",
    "FILE_NAME = None\n",
    "USER_ATTRS = None\n",
    "RESOURCE_ATTRS = None\n",
    "th_rule_sim = None\n",
    "\n",
    "# Settings for each dataset\n",
    "if NAME_DATASET == \"AMZ\":\n",
    "    FILE_NAME = \"../00-Data/train.csv\"\n",
    "    USER_ATTRS = [\"MGR_ID\", \"ROLE_ROLLUP_1\", \"ROLE_ROLLUP_2\", \"ROLE_DEPTNAME\",\n",
    "                  \"ROLE_TITLE\", \"ROLE_FAMILY_DESC\", \"ROLE_FAMILY\", \"ROLE_CODE\"]\n",
    "    RESOURCE_ATTRS = [\"RID\"]\n",
    "    th_rule_sim = 1\n",
    "\n",
    "elif NAME_DATASET == \"HC\":\n",
    "    FILE_NAME = \"../00-Data/HC-AccessLog.csv\"\n",
    "    USER_ATTRS = ['role', 'specialty', 'team', 'uward', 'agentfor']\n",
    "    RESOURCE_ATTRS = ['type', 'patient', 'treatingteam',\n",
    "                      'oward', 'author', 'topic']\n",
    "    th_rule_sim = 3\n",
    "\n",
    "elif NAME_DATASET == \"CAV\":\n",
    "    FILE_NAME = \"../00-Data/CAV.csv\"\n",
    "else:\n",
    "    print(\"Invalid Dataset\")\n",
    "\n",
    "pm = PolicyMining(FILE_NAME, NAME_DATASET, USER_ATTRS, RESOURCE_ATTRS)\n",
    "pm.data_preprocessing()\n",
    "pm.network_model()\n",
    "pm.community_detection()"
   ]
  },
  {
   "cell_type": "markdown",
   "metadata": {},
   "source": [
    "## Data-preprocessing"
   ]
  },
  {
   "cell_type": "code",
   "execution_count": null,
   "metadata": {},
   "outputs": [],
   "source": []
  },
  {
   "cell_type": "markdown",
   "metadata": {},
   "source": [
    "## Network Models"
   ]
  },
  {
   "cell_type": "code",
   "execution_count": null,
   "metadata": {},
   "outputs": [],
   "source": []
  },
  {
   "cell_type": "markdown",
   "metadata": {},
   "source": [
    "## Community Detection"
   ]
  },
  {
   "cell_type": "code",
   "execution_count": null,
   "metadata": {},
   "outputs": [],
   "source": []
  }
 ],
 "metadata": {
  "kernelspec": {
   "display_name": "tesis_env",
   "language": "python",
   "name": "python3"
  },
  "language_info": {
   "codemirror_mode": {
    "name": "ipython",
    "version": 3
   },
   "file_extension": ".py",
   "mimetype": "text/x-python",
   "name": "python",
   "nbconvert_exporter": "python",
   "pygments_lexer": "ipython3",
   "version": "3.7.13"
  },
  "orig_nbformat": 4
 },
 "nbformat": 4,
 "nbformat_minor": 2
}
