{
 "cells": [
  {
   "cell_type": "markdown",
   "metadata": {},
   "source": [
    "## Datasets exploration\n",
    "In this notebook, we explore eight datasets that we'll use in our all experiment.\n",
    "\n",
    "A briefly description of each dataset is presented following:\n",
    "1. Amazon Kaggle (real-world)\n",
    "2. Amazon UCI (real-world)\n",
    "3. Healthcare (Synthetic)\n",
    "4. Project Management (Synthetic)\n",
    "5. University (Synthetic)"
   ]
  },
  {
   "cell_type": "code",
   "execution_count": null,
   "metadata": {},
   "outputs": [],
   "source": []
  }
 ],
 "metadata": {
  "language_info": {
   "name": "python"
  },
  "orig_nbformat": 4
 },
 "nbformat": 4,
 "nbformat_minor": 2
}
