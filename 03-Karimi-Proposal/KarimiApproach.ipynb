{
 "cells": [
  {
   "attachments": {},
   "cell_type": "markdown",
   "metadata": {},
   "source": [
    "# Karimi Proposal"
   ]
  },
  {
   "cell_type": "code",
   "execution_count": 1,
   "metadata": {},
   "outputs": [],
   "source": [
    "#DO NOT CHANGE THIS CODE\n",
    "import pandas as pd\n",
    "import numpy as np\n",
    "import matplotlib.pyplot as plt\n",
    "\n",
    "import pmtools2 as pm\n",
    "import kmodes\n",
    "%matplotlib inline"
   ]
  },
  {
   "cell_type": "code",
   "execution_count": 2,
   "metadata": {},
   "outputs": [
    {
     "name": "stdout",
     "output_type": "stream",
     "text": [
      "['ACTION', 'RESOURCE', 'MGR_ID', 'ROLE_ROLLUP_1', 'ROLE_ROLLUP_2', 'ROLE_DEPTNAME', 'ROLE_TITLE', 'ROLE_FAMILY_DESC', 'ROLE_FAMILY', 'ROLE_CODE']\n",
      "#Entries: 32769\n",
      "#Users: 9561\n",
      "#Resources: 7518\n",
      "\n",
      "---Attributes---\n",
      "Num values ACTION : 2\n",
      "Num values RESOURCE : 7518\n",
      "Num values MGR_ID : 4243\n",
      "Num values ROLE_ROLLUP_1 : 128\n",
      "Num values ROLE_ROLLUP_2 : 177\n",
      "Num values ROLE_DEPTNAME : 449\n",
      "Num values ROLE_TITLE : 343\n",
      "Num values ROLE_FAMILY_DESC : 2358\n",
      "Num values ROLE_FAMILY : 67\n",
      "Num values ROLE_CODE : 343\n",
      "\n",
      "Num positive entries: 30872\n",
      "Num negative entries: 1897\n"
     ]
    },
    {
     "data": {
      "text/html": [
       "<div>\n",
       "<style scoped>\n",
       "    .dataframe tbody tr th:only-of-type {\n",
       "        vertical-align: middle;\n",
       "    }\n",
       "\n",
       "    .dataframe tbody tr th {\n",
       "        vertical-align: top;\n",
       "    }\n",
       "\n",
       "    .dataframe thead th {\n",
       "        text-align: right;\n",
       "    }\n",
       "</style>\n",
       "<table border=\"1\" class=\"dataframe\">\n",
       "  <thead>\n",
       "    <tr style=\"text-align: right;\">\n",
       "      <th></th>\n",
       "      <th>ACTION</th>\n",
       "      <th>RESOURCE</th>\n",
       "      <th>MGR_ID</th>\n",
       "      <th>ROLE_ROLLUP_1</th>\n",
       "      <th>ROLE_ROLLUP_2</th>\n",
       "      <th>ROLE_DEPTNAME</th>\n",
       "      <th>ROLE_TITLE</th>\n",
       "      <th>ROLE_FAMILY_DESC</th>\n",
       "      <th>ROLE_FAMILY</th>\n",
       "      <th>ROLE_CODE</th>\n",
       "    </tr>\n",
       "  </thead>\n",
       "  <tbody>\n",
       "    <tr>\n",
       "      <th>0</th>\n",
       "      <td>1</td>\n",
       "      <td>39353</td>\n",
       "      <td>85475</td>\n",
       "      <td>117961</td>\n",
       "      <td>118300</td>\n",
       "      <td>123472</td>\n",
       "      <td>117905</td>\n",
       "      <td>117906</td>\n",
       "      <td>290919</td>\n",
       "      <td>117908</td>\n",
       "    </tr>\n",
       "    <tr>\n",
       "      <th>1</th>\n",
       "      <td>1</td>\n",
       "      <td>17183</td>\n",
       "      <td>1540</td>\n",
       "      <td>117961</td>\n",
       "      <td>118343</td>\n",
       "      <td>123125</td>\n",
       "      <td>118536</td>\n",
       "      <td>118536</td>\n",
       "      <td>308574</td>\n",
       "      <td>118539</td>\n",
       "    </tr>\n",
       "    <tr>\n",
       "      <th>2</th>\n",
       "      <td>1</td>\n",
       "      <td>36724</td>\n",
       "      <td>14457</td>\n",
       "      <td>118219</td>\n",
       "      <td>118220</td>\n",
       "      <td>117884</td>\n",
       "      <td>117879</td>\n",
       "      <td>267952</td>\n",
       "      <td>19721</td>\n",
       "      <td>117880</td>\n",
       "    </tr>\n",
       "    <tr>\n",
       "      <th>3</th>\n",
       "      <td>1</td>\n",
       "      <td>36135</td>\n",
       "      <td>5396</td>\n",
       "      <td>117961</td>\n",
       "      <td>118343</td>\n",
       "      <td>119993</td>\n",
       "      <td>118321</td>\n",
       "      <td>240983</td>\n",
       "      <td>290919</td>\n",
       "      <td>118322</td>\n",
       "    </tr>\n",
       "    <tr>\n",
       "      <th>4</th>\n",
       "      <td>1</td>\n",
       "      <td>42680</td>\n",
       "      <td>5905</td>\n",
       "      <td>117929</td>\n",
       "      <td>117930</td>\n",
       "      <td>119569</td>\n",
       "      <td>119323</td>\n",
       "      <td>123932</td>\n",
       "      <td>19793</td>\n",
       "      <td>119325</td>\n",
       "    </tr>\n",
       "    <tr>\n",
       "      <th>...</th>\n",
       "      <td>...</td>\n",
       "      <td>...</td>\n",
       "      <td>...</td>\n",
       "      <td>...</td>\n",
       "      <td>...</td>\n",
       "      <td>...</td>\n",
       "      <td>...</td>\n",
       "      <td>...</td>\n",
       "      <td>...</td>\n",
       "      <td>...</td>\n",
       "    </tr>\n",
       "    <tr>\n",
       "      <th>32764</th>\n",
       "      <td>1</td>\n",
       "      <td>23497</td>\n",
       "      <td>16971</td>\n",
       "      <td>117961</td>\n",
       "      <td>118300</td>\n",
       "      <td>119993</td>\n",
       "      <td>118321</td>\n",
       "      <td>240983</td>\n",
       "      <td>290919</td>\n",
       "      <td>118322</td>\n",
       "    </tr>\n",
       "    <tr>\n",
       "      <th>32765</th>\n",
       "      <td>1</td>\n",
       "      <td>25139</td>\n",
       "      <td>311198</td>\n",
       "      <td>91261</td>\n",
       "      <td>118026</td>\n",
       "      <td>122392</td>\n",
       "      <td>121143</td>\n",
       "      <td>173805</td>\n",
       "      <td>249618</td>\n",
       "      <td>121145</td>\n",
       "    </tr>\n",
       "    <tr>\n",
       "      <th>32766</th>\n",
       "      <td>1</td>\n",
       "      <td>34924</td>\n",
       "      <td>28805</td>\n",
       "      <td>117961</td>\n",
       "      <td>118327</td>\n",
       "      <td>120299</td>\n",
       "      <td>124922</td>\n",
       "      <td>152038</td>\n",
       "      <td>118612</td>\n",
       "      <td>124924</td>\n",
       "    </tr>\n",
       "    <tr>\n",
       "      <th>32767</th>\n",
       "      <td>1</td>\n",
       "      <td>80574</td>\n",
       "      <td>55643</td>\n",
       "      <td>118256</td>\n",
       "      <td>118257</td>\n",
       "      <td>117945</td>\n",
       "      <td>280788</td>\n",
       "      <td>280788</td>\n",
       "      <td>292795</td>\n",
       "      <td>119082</td>\n",
       "    </tr>\n",
       "    <tr>\n",
       "      <th>32768</th>\n",
       "      <td>1</td>\n",
       "      <td>14354</td>\n",
       "      <td>59575</td>\n",
       "      <td>117916</td>\n",
       "      <td>118150</td>\n",
       "      <td>117920</td>\n",
       "      <td>118568</td>\n",
       "      <td>122142</td>\n",
       "      <td>19721</td>\n",
       "      <td>118570</td>\n",
       "    </tr>\n",
       "  </tbody>\n",
       "</table>\n",
       "<p>32769 rows × 10 columns</p>\n",
       "</div>"
      ],
      "text/plain": [
       "       ACTION  RESOURCE  MGR_ID  ROLE_ROLLUP_1  ROLE_ROLLUP_2  ROLE_DEPTNAME  \\\n",
       "0           1     39353   85475         117961         118300         123472   \n",
       "1           1     17183    1540         117961         118343         123125   \n",
       "2           1     36724   14457         118219         118220         117884   \n",
       "3           1     36135    5396         117961         118343         119993   \n",
       "4           1     42680    5905         117929         117930         119569   \n",
       "...       ...       ...     ...            ...            ...            ...   \n",
       "32764       1     23497   16971         117961         118300         119993   \n",
       "32765       1     25139  311198          91261         118026         122392   \n",
       "32766       1     34924   28805         117961         118327         120299   \n",
       "32767       1     80574   55643         118256         118257         117945   \n",
       "32768       1     14354   59575         117916         118150         117920   \n",
       "\n",
       "       ROLE_TITLE  ROLE_FAMILY_DESC  ROLE_FAMILY  ROLE_CODE  \n",
       "0          117905            117906       290919     117908  \n",
       "1          118536            118536       308574     118539  \n",
       "2          117879            267952        19721     117880  \n",
       "3          118321            240983       290919     118322  \n",
       "4          119323            123932        19793     119325  \n",
       "...           ...               ...          ...        ...  \n",
       "32764      118321            240983       290919     118322  \n",
       "32765      121143            173805       249618     121145  \n",
       "32766      124922            152038       118612     124924  \n",
       "32767      280788            280788       292795     119082  \n",
       "32768      118568            122142        19721     118570  \n",
       "\n",
       "[32769 rows x 10 columns]"
      ]
     },
     "execution_count": 2,
     "metadata": {},
     "output_type": "execute_result"
    }
   ],
   "source": [
    "# LOAD DATA\n",
    "#DO NOT CHANGE THIS CODE\n",
    "df_emp_access = pd.read_csv('train.csv')\n",
    "attnames_list = list(df_emp_access.columns)\n",
    "print(attnames_list)\n",
    "#A_III Statistics\n",
    "\n",
    "#DO NOT CHANGE THIS CODE\n",
    "entries = df_emp_access.values.tolist()\n",
    "attidx_to_collcounter = pm.get_entries_freqs(entries)\n",
    "\n",
    "print('#Entries:', len(entries))\n",
    "print('#Users:', len(df_emp_access[attnames_list[2:]].drop_duplicates()))\n",
    "print('#Resources:', len(df_emp_access.RESOURCE.drop_duplicates()))\n",
    "print()\n",
    "\n",
    "print('---Attributes---')\n",
    "for att_idx in range(len(attnames_list)):\n",
    "    print('Num values', attnames_list[att_idx], ':', len(attidx_to_collcounter[att_idx].keys()))\n",
    "num_resources = attnames_list[1]\n",
    "    \n",
    "print()\n",
    "df_pos_entries = df_emp_access[df_emp_access['ACTION']==1]\n",
    "df_neg_entries = df_emp_access[df_emp_access['ACTION']==0]\n",
    "print('Num positive entries:',len(df_pos_entries))\n",
    "print('Num negative entries:',len(df_neg_entries))\n",
    "\n",
    "df_emp_access"
   ]
  },
  {
   "attachments": {},
   "cell_type": "markdown",
   "metadata": {},
   "source": [
    "## Data pre-processing\n",
    "1. Continouos to Categorical Values\n",
    "2. Handle missing values - New value"
   ]
  },
  {
   "cell_type": "code",
   "execution_count": 3,
   "metadata": {},
   "outputs": [],
   "source": [
    "# df_data = df_pos_entries[attnames_list[2:]].drop_duplicates()\n",
    "# print('Drop duplicates:', len(df_data))\n",
    "\n",
    "# pos_entries = df_data.values.tolist()\n",
    "pos_entries = df_pos_entries.values.tolist()\n",
    "neg_entries = df_neg_entries.values.tolist()"
   ]
  },
  {
   "attachments": {},
   "cell_type": "markdown",
   "metadata": {},
   "source": [
    "## Selection of Learning Algorithm\n",
    "1. K-modes algorithm"
   ]
  },
  {
   "cell_type": "code",
   "execution_count": 4,
   "metadata": {},
   "outputs": [
    {
     "name": "stdout",
     "output_type": "stream",
     "text": [
      "Ready!\n"
     ]
    }
   ],
   "source": [
    "###Select the number of clusters###\n",
    "num_clusters = 15\n",
    "\n",
    "#DO NOT CHANGE THIS CODE\n",
    "# seed = 29\n",
    "\n",
    "#Compute centroids and labels\n",
    "# num_init = 5\n",
    "centroids = []\n",
    "kmodes_huang = kmodes.KModes(n_clusters=num_clusters, init='Huang', verbose=0)\n",
    "cluster_labels = kmodes_huang.fit_predict(df_pos_entries)\n",
    "centroids = kmodes_huang.cluster_centroids_\n",
    "\n",
    "print('Ready!')    "
   ]
  },
  {
   "cell_type": "code",
   "execution_count": 5,
   "metadata": {},
   "outputs": [
    {
     "name": "stderr",
     "output_type": "stream",
     "text": [
      "/home/daniel/anaconda3/envs/tesis_env/lib/python3.7/site-packages/ipykernel_launcher.py:1: SettingWithCopyWarning: \n",
      "A value is trying to be set on a copy of a slice from a DataFrame.\n",
      "Try using .loc[row_indexer,col_indexer] = value instead\n",
      "\n",
      "See the caveats in the documentation: https://pandas.pydata.org/pandas-docs/stable/user_guide/indexing.html#returning-a-view-versus-a-copy\n",
      "  \"\"\"Entry point for launching an IPython kernel.\n"
     ]
    }
   ],
   "source": [
    "df_pos_entries[\"cls\"] = cluster_labels"
   ]
  },
  {
   "attachments": {},
   "cell_type": "markdown",
   "metadata": {},
   "source": [
    "## Parameter tuning\n",
    "1. Number of clusters (Silhouette Method)\n",
    "2. Cluster initialization"
   ]
  },
  {
   "cell_type": "code",
   "execution_count": null,
   "metadata": {},
   "outputs": [],
   "source": []
  },
  {
   "attachments": {},
   "cell_type": "markdown",
   "metadata": {},
   "source": [
    "## Policy Rules Extraction"
   ]
  },
  {
   "cell_type": "code",
   "execution_count": 8,
   "metadata": {},
   "outputs": [],
   "source": [
    "def freq(value, attribute, dataplace):\n",
    "    \"\"\"\n",
    "    Calculate the frequency of the value in the dataplace.\n",
    "\n",
    "    Parameters\n",
    "    ----------\n",
    "    value : int\n",
    "        Value to compute its frequency.\n",
    "\n",
    "    attribute : string\n",
    "        Name of the attribute.\n",
    "\n",
    "    dataplace : DataFrame pandas\n",
    "        Data to search.\n",
    "    \n",
    "    Returns\n",
    "    -------\n",
    "    float [0-1]\n",
    "        Returns the value of frequency of the value in the data.\n",
    "    \"\"\"\n",
    "    value_freq = dataplace[dataplace[attribute] == value].drop_duplicates()\n",
    "    return len(value_freq) / len(dataplace)\n",
    "\n",
    "def freq_rels(attrA, attrB, dataplace):\n",
    "    \"\"\"\n",
    "    Compute the frequency of the attribute relation.\n",
    "\n",
    "    Parameters\n",
    "    ----------\n",
    "    attrA : string\n",
    "        Name of the attribute A to compare.\n",
    "    attrB : string\n",
    "        Name of the attribute B to compare.\n",
    "    dataplace : DataFrame pandas\n",
    "        Data to search.\n",
    "\n",
    "    Returns\n",
    "    -------\n",
    "    float [0-1]\n",
    "        Returns the value of frequency of the range of values in the data.\n",
    "    \"\"\"\n",
    "    # Get the range of values of attribute A.\n",
    "    range_val_A = set(dataplace[attrA].values.tolist())\n",
    "\n",
    "    # Get the range of values of attribute B.\n",
    "    range_val_B = set(dataplace[attrB].values.tolist())\n",
    "\n",
    "    # Check if the len\n",
    "    if len(range_val_A) == len(range_val_B):\n",
    "        # Compute the intersection\n",
    "        inter_A_B = range_val_A.intersection(range_val_B)\n",
    "        if len(inter_A_B) == len(range_val_A):\n",
    "            boolean_series = dataplace[attrA].isin(inter_A_B)\n",
    "            frac_log = dataplace[boolean_series]\n",
    "            return len(frac_log) / len(dataplace) # Return the fraction\n",
    "        return 0\n",
    "    else:\n",
    "        return 0    \n",
    "\n",
    "def extract_attributes_filters(C_i, A, L, posThr, negThr):\n",
    "    \"\"\"\n",
    "    Effective attribute extraction algorithm. Generate a rule for each cluster.\n",
    "\n",
    "    Parameters\n",
    "    ----------\n",
    "    C_i : DataFrame pandas\n",
    "        Access request in the Cluster i.\n",
    "\n",
    "    A : List\n",
    "        List of attributes.\n",
    "\n",
    "    V : List\n",
    "        Values of attributes.\n",
    "\n",
    "    L : DataFrame\n",
    "        Complete Access Log.\n",
    "\n",
    "    PosThr : float\n",
    "        Positive Threshold to the effective positive attribute.\n",
    "\n",
    "    NegThr : float\n",
    "        Negative Threshold to the effective negative attribute.\n",
    "\n",
    "    Returns\n",
    "    -------\n",
    "    list\n",
    "        Returns the rule with the effective attributes for the cluster i.\n",
    "    \"\"\"\n",
    "    filter_to_ret = [] # Rule\n",
    "    for a in A:        \n",
    "        a_values = C_i[a].drop_duplicates().tolist()        \n",
    "        for v in a_values:\n",
    "            if freq(v, a, C_i) - freq(v, a, L) > posThr:\n",
    "                if not [a, v] in filter_to_ret:\n",
    "                    filter_to_ret.append([a, v])\n",
    "            if freq(v, a, L) - freq(v, a, C_i) > negThr:\n",
    "                if not [a, -1*v] in filter_to_ret:\n",
    "                    filter_to_ret.append([a, v*-1])\n",
    "    return filter_to_ret\n",
    "\n",
    "def extract_relations(C_i, A, L, posThr, negThr):\n",
    "    \"\"\"\n",
    "    Extract the effective relation. For each cluster.\n",
    "\n",
    "    Parameters\n",
    "    ----------\n",
    "    C_i : DataFrame pandas\n",
    "        Access request in the Cluster i.\n",
    "\n",
    "    A : List\n",
    "        List of attributes.\n",
    "\n",
    "    L : DataFrame\n",
    "        Complete Access Log.\n",
    "\n",
    "    posThr : float\n",
    "        Positive Threshold to the effective positive relation.\n",
    "\n",
    "    negThr : float\n",
    "        Negative Threshold to the effective negative relation.\n",
    "\n",
    "    Returns\n",
    "    -------\n",
    "    list\n",
    "        Returns the rule with the effective relation for the cluster i.\n",
    "    \"\"\"\n",
    "    relation_to_ret = []\n",
    "    for a in A:\n",
    "        for b in A:\n",
    "            if a != b:\n",
    "                if freq_rels(a, b, C_i) - freq_rels(a, b, L) > posThr:\n",
    "                    if not [a, b] in relation_to_ret:\n",
    "                        relation_to_ret.append([a, b])\n",
    "                if freq_rels(a, b, L) - freq_rels(a, b, C_i) > negThr:\n",
    "                    if not [a, '!'+b] in relation_to_ret:                        \n",
    "                        relation_to_ret.append([a, '!'+b])\n",
    "                    #print()\n",
    "\n",
    "def rule_inference(data_, pos_attr_thr, \n",
    "    neg_attr_thr, pos_rel_thr, neg_rel_thr):\n",
    "    rule_list = [] # All rules\n",
    "    n_cluster = len(data_[\"cls\"].drop_duplicates()) # N clusters\n",
    "    attrs = data_.columns[:-1] # Name of the columns\n",
    "\n",
    "    for C_i in range(n_cluster):\n",
    "        #print(C_i)\n",
    "        rule_i = []\n",
    "        data_cluster = data_[data_[\"cls\"] == C_i]\n",
    "        \n",
    "        # Effective attributes\n",
    "        attr_filters = extract_attributes_filters(data_cluster, attrs, data_, \n",
    "            pos_attr_thr, neg_attr_thr)    \n",
    "        rule_i.append(attr_filters)        \n",
    "\n",
    "        # Relations\n",
    "        attr_relation = extract_relations(data_cluster, attrs, data_, \n",
    "            pos_rel_thr, neg_rel_thr)\n",
    "        rule_i.append(attr_relation)\n",
    "        #print(rule_i)\n",
    "\n",
    "        rule_list.append([C_i, rule_i])    \n",
    "\n",
    "    return rule_list"
   ]
  },
  {
   "cell_type": "code",
   "execution_count": 7,
   "metadata": {},
   "outputs": [
    {
     "data": {
      "text/plain": [
       "Index(['RESOURCE', 'MGR_ID', 'ROLE_ROLLUP_1', 'ROLE_ROLLUP_2', 'ROLE_DEPTNAME',\n",
       "       'ROLE_TITLE', 'ROLE_FAMILY_DESC', 'ROLE_FAMILY', 'ROLE_CODE', 'cls'],\n",
       "      dtype='object')"
      ]
     },
     "execution_count": 7,
     "metadata": {},
     "output_type": "execute_result"
    }
   ],
   "source": [
    "df_test = df_pos_entries[df_pos_entries.columns[1:]]\n",
    "df_test.columns"
   ]
  },
  {
   "cell_type": "code",
   "execution_count": 27,
   "metadata": {},
   "outputs": [
    {
     "data": {
      "text/plain": [
       "[[0, [[['ROLE_ROLLUP_1', -117961]], None]],\n",
       " [1,\n",
       "  [[['ROLE_ROLLUP_2', 118052],\n",
       "    ['ROLE_TITLE', 118784],\n",
       "    ['ROLE_FAMILY_DESC', -117906],\n",
       "    ['ROLE_CODE', 118786]],\n",
       "   None]],\n",
       " [2, [[['ROLE_ROLLUP_2', 118300]], None]],\n",
       " [3, [[['ROLE_ROLLUP_2', 118386]], None]],\n",
       " [4, [[['ROLE_ROLLUP_2', 118327]], None]],\n",
       " [5,\n",
       "  [[['MGR_ID', 141],\n",
       "    ['ROLE_ROLLUP_1', 117961],\n",
       "    ['ROLE_ROLLUP_2', 118225],\n",
       "    ['ROLE_DEPTNAME', 122273],\n",
       "    ['ROLE_TITLE', 118321],\n",
       "    ['ROLE_FAMILY', 290919],\n",
       "    ['ROLE_CODE', 118322]],\n",
       "   None]],\n",
       " [6,\n",
       "  [[['ROLE_ROLLUP_2', 118446], ['ROLE_TITLE', 118259], ['ROLE_CODE', 118261]],\n",
       "   None]],\n",
       " [7,\n",
       "  [[['ROLE_ROLLUP_2', 118343],\n",
       "    ['ROLE_FAMILY', 118424],\n",
       "    ['ROLE_FAMILY', -290919]],\n",
       "   None]],\n",
       " [8,\n",
       "  [[['ROLE_TITLE', 117905],\n",
       "    ['ROLE_FAMILY_DESC', 117906],\n",
       "    ['ROLE_FAMILY', 290919],\n",
       "    ['ROLE_CODE', 117908]],\n",
       "   None]],\n",
       " [9, [[['ROLE_ROLLUP_1', 117961], ['ROLE_ROLLUP_2', 117962]], None]],\n",
       " [10,\n",
       "  [[['ROLE_ROLLUP_1', 117961],\n",
       "    ['ROLE_ROLLUP_2', 118343],\n",
       "    ['ROLE_TITLE', 118321],\n",
       "    ['ROLE_FAMILY_DESC', 117906],\n",
       "    ['ROLE_FAMILY', 290919],\n",
       "    ['ROLE_CODE', 118322]],\n",
       "   None]],\n",
       " [11,\n",
       "  [[['ROLE_ROLLUP_2', 118300],\n",
       "    ['ROLE_TITLE', 118784],\n",
       "    ['ROLE_FAMILY_DESC', 117906],\n",
       "    ['ROLE_FAMILY', 290919],\n",
       "    ['ROLE_CODE', 118786]],\n",
       "   None]],\n",
       " [12,\n",
       "  [[['RESOURCE', 34950], ['ROLE_ROLLUP_2', 118327], ['ROLE_DEPTNAME', 118929]],\n",
       "   None]],\n",
       " [13,\n",
       "  [[['ROLE_ROLLUP_2', 118300],\n",
       "    ['ROLE_TITLE', 118422],\n",
       "    ['ROLE_FAMILY', 118424],\n",
       "    ['ROLE_CODE', 118425]],\n",
       "   None]],\n",
       " [14,\n",
       "  [[['ROLE_ROLLUP_1', 117961],\n",
       "    ['ROLE_ROLLUP_2', 118052],\n",
       "    ['ROLE_DEPTNAME', 118821],\n",
       "    ['ROLE_TITLE', 117905],\n",
       "    ['ROLE_FAMILY_DESC', 117906],\n",
       "    ['ROLE_FAMILY', 290919],\n",
       "    ['ROLE_CODE', 117908]],\n",
       "   None]]]"
      ]
     },
     "execution_count": 27,
     "metadata": {},
     "output_type": "execute_result"
    }
   ],
   "source": [
    "pos_attr_thr = 0.3\n",
    "neg_attr_thr = 0.2\n",
    "pos_rel_thr = 0.3\n",
    "neg_rel_thr = 0.2\n",
    "test = rule_inference(df_test, pos_attr_thr, neg_attr_thr, pos_rel_thr, neg_attr_thr)\n",
    "test"
   ]
  },
  {
   "cell_type": "code",
   "execution_count": 29,
   "metadata": {},
   "outputs": [
    {
     "data": {
      "text/plain": [
       "[[['ROLE_ROLLUP_1', -117961]],\n",
       " [['ROLE_ROLLUP_2', 118052],\n",
       "  ['ROLE_TITLE', 118784],\n",
       "  ['ROLE_FAMILY_DESC', -117906],\n",
       "  ['ROLE_CODE', 118786]],\n",
       " [['ROLE_ROLLUP_2', 118300]],\n",
       " [['ROLE_ROLLUP_2', 118386]],\n",
       " [['ROLE_ROLLUP_2', 118327]],\n",
       " [['MGR_ID', 141],\n",
       "  ['ROLE_ROLLUP_1', 117961],\n",
       "  ['ROLE_ROLLUP_2', 118225],\n",
       "  ['ROLE_DEPTNAME', 122273],\n",
       "  ['ROLE_TITLE', 118321],\n",
       "  ['ROLE_FAMILY', 290919],\n",
       "  ['ROLE_CODE', 118322]],\n",
       " [['ROLE_ROLLUP_2', 118446], ['ROLE_TITLE', 118259], ['ROLE_CODE', 118261]],\n",
       " [['ROLE_ROLLUP_2', 118343],\n",
       "  ['ROLE_FAMILY', 118424],\n",
       "  ['ROLE_FAMILY', -290919]],\n",
       " [['ROLE_TITLE', 117905],\n",
       "  ['ROLE_FAMILY_DESC', 117906],\n",
       "  ['ROLE_FAMILY', 290919],\n",
       "  ['ROLE_CODE', 117908]],\n",
       " [['ROLE_ROLLUP_1', 117961], ['ROLE_ROLLUP_2', 117962]],\n",
       " [['ROLE_ROLLUP_1', 117961],\n",
       "  ['ROLE_ROLLUP_2', 118343],\n",
       "  ['ROLE_TITLE', 118321],\n",
       "  ['ROLE_FAMILY_DESC', 117906],\n",
       "  ['ROLE_FAMILY', 290919],\n",
       "  ['ROLE_CODE', 118322]],\n",
       " [['ROLE_ROLLUP_2', 118300],\n",
       "  ['ROLE_TITLE', 118784],\n",
       "  ['ROLE_FAMILY_DESC', 117906],\n",
       "  ['ROLE_FAMILY', 290919],\n",
       "  ['ROLE_CODE', 118786]],\n",
       " [['RESOURCE', 34950], ['ROLE_ROLLUP_2', 118327], ['ROLE_DEPTNAME', 118929]],\n",
       " [['ROLE_ROLLUP_2', 118300],\n",
       "  ['ROLE_TITLE', 118422],\n",
       "  ['ROLE_FAMILY', 118424],\n",
       "  ['ROLE_CODE', 118425]],\n",
       " [['ROLE_ROLLUP_1', 117961],\n",
       "  ['ROLE_ROLLUP_2', 118052],\n",
       "  ['ROLE_DEPTNAME', 118821],\n",
       "  ['ROLE_TITLE', 117905],\n",
       "  ['ROLE_FAMILY_DESC', 117906],\n",
       "  ['ROLE_FAMILY', 290919],\n",
       "  ['ROLE_CODE', 117908]]]"
      ]
     },
     "execution_count": 29,
     "metadata": {},
     "output_type": "execute_result"
    }
   ],
   "source": [
    "only_rules = []\n",
    "for rule in test:\n",
    "    only_rules.append(rule[1][0])\n",
    "only_rules"
   ]
  },
  {
   "cell_type": "code",
   "execution_count": 30,
   "metadata": {},
   "outputs": [
    {
     "name": "stdout",
     "output_type": "stream",
     "text": [
      "0\n",
      "2\n",
      "3\n",
      "4\n"
     ]
    }
   ],
   "source": [
    "# Compute how many rules has a lenght equal to 1.\n",
    "for idx, rule in enumerate(only_rules):\n",
    "    if len(rule) == 1:\n",
    "        print(idx)"
   ]
  },
  {
   "cell_type": "code",
   "execution_count": 14,
   "metadata": {},
   "outputs": [],
   "source": [
    "del only_rules[0]\n",
    "del only_rules[2]\n",
    "del only_rules[3]\n",
    "del only_rules[4]"
   ]
  },
  {
   "cell_type": "code",
   "execution_count": 31,
   "metadata": {},
   "outputs": [],
   "source": [
    "false_neg  = []\n",
    "for i,row in df_pos_entries.iterrows():\n",
    "    \n",
    "    # Evaluación\n",
    "    denies_count = 0    \n",
    "    for rule in only_rules:                                      \n",
    "        # En esta parte se evalua la regla completa\n",
    "        res = True\n",
    "        \n",
    "        #for idx_r, attr_val in enumerate(rule):\n",
    "        for attr_val in rule:            \n",
    "            if attr_val[1] < 0:\n",
    "                if row[attr_val[0]] != attr_val[1]*-1:\n",
    "                    res = False\n",
    "                    break\n",
    "            else:\n",
    "                if row[attr_val[0]] != attr_val[1]:\n",
    "                    res = False\n",
    "                    break\n",
    "        if res == False:\n",
    "            denies_count += 1\n",
    "    \n",
    "    if denies_count == len(only_rules):\n",
    "        false_neg.append(row)\n",
    "        #print(\"FP-2\")"
   ]
  },
  {
   "cell_type": "code",
   "execution_count": 32,
   "metadata": {},
   "outputs": [
    {
     "name": "stdout",
     "output_type": "stream",
     "text": [
      "Tasa FN: 32.76\n",
      "FN:  10114  de  30872\n"
     ]
    }
   ],
   "source": [
    "FN = len(false_neg)\n",
    "print(\"Tasa FN: {:.2f}\".format((FN/ len(df_pos_entries))*100))\n",
    "print(\"FN: \", FN, \" de \", len(df_pos_entries))"
   ]
  },
  {
   "cell_type": "code",
   "execution_count": 33,
   "metadata": {},
   "outputs": [],
   "source": [
    "false_pos  = []\n",
    "for i,row in df_neg_entries.iterrows():\n",
    "    # Evaluación\n",
    "    denies_count = 0\n",
    "    temp_rules_n = 0\n",
    "    for rule in only_rules:                                      \n",
    "        # En esta parte se evalua la regla completa\n",
    "        res = True                        \n",
    "        for attr_val in rule:\n",
    "            if attr_val[1] < 0:\n",
    "                if row[attr_val[0]] != attr_val[1]*-1:\n",
    "                    res = False\n",
    "                    break\n",
    "            else:\n",
    "                if row[attr_val[0]] != attr_val[1]:\n",
    "                    res = False\n",
    "                    break\n",
    "        if res == False:\n",
    "            denies_count += 1                                \n",
    "    #print(\"XXX-\", denies_count, temp_rules_n, res)\n",
    "    if denies_count < len(only_rules):\n",
    "        false_pos.append(row)\n",
    "        #print(\"FP-2\")    \n",
    "    #else:\n",
    "    #    print(\"ENtra PAPA\")\n",
    "    "
   ]
  },
  {
   "cell_type": "code",
   "execution_count": 34,
   "metadata": {},
   "outputs": [
    {
     "name": "stdout",
     "output_type": "stream",
     "text": [
      "Tasa FP: 59.41\n",
      "FN:  1127  de  1897\n"
     ]
    }
   ],
   "source": [
    "FP = len(false_pos)\n",
    "print(\"Tasa FP: {:.2f}\".format((FP/ len(df_neg_entries))*100))\n",
    "print(\"FN: \", FP, \" de \", len(df_neg_entries))"
   ]
  },
  {
   "cell_type": "code",
   "execution_count": 35,
   "metadata": {},
   "outputs": [
    {
     "name": "stdout",
     "output_type": "stream",
     "text": [
      "FN: 10114  - 32.76\n",
      "FP: 1127  - 59.41\n",
      "Precision: 0.9485035412382911\n",
      "Recall: 0.6723892200051826\n",
      "F-score 0.7869287487916296\n",
      "# Rules: 15\n",
      "WSC: 52\n"
     ]
    }
   ],
   "source": [
    "\n",
    "TP = len(df_pos_entries) - FN\n",
    "#TP = 50 - FN\n",
    "TN = len(df_neg_entries) - FP\n",
    "#TN = 50 - FP\n",
    "\n",
    "precision = TP / (TP + FP)\n",
    "\n",
    "recall = TP / (TP + FN)\n",
    "\n",
    "fscore = 2*(precision*recall)/(precision+recall)\n",
    "\n",
    "print(\"FN:\", FN, \" - {:.2f}\".format((FN/len(df_pos_entries))*100))\n",
    "#print(\"FN:\", FN, \" - {:.2f}\".format((FN/50)*100))\n",
    "print(\"FP:\", FP, \" - {:.2f}\".format((FP/len(df_neg_entries))*100))\n",
    "#print(\"FP:\", FP, \" - {:.2f}\".format((FP/50)*100))\n",
    "print(\"Precision:\", precision)\n",
    "print(\"Recall:\", recall)\n",
    "print(\"F-score\", fscore)\n",
    "\n",
    "def compute_wsc(policy):\n",
    "    return sum([len(rule) for rule in policy])\n",
    "\n",
    "print(\"# Rules:\", len(only_rules))\n",
    "print(\"WSC:\", compute_wsc(only_rules))"
   ]
  },
  {
   "attachments": {},
   "cell_type": "markdown",
   "metadata": {},
   "source": [
    "## Policy Enhancement\n",
    "1. Rule Pruning\n",
    "2. Policy Refinement"
   ]
  },
  {
   "cell_type": "code",
   "execution_count": 41,
   "metadata": {},
   "outputs": [],
   "source": [
    "false_neg = pd.DataFrame(false_neg)"
   ]
  },
  {
   "cell_type": "code",
   "execution_count": 42,
   "metadata": {},
   "outputs": [
    {
     "name": "stdout",
     "output_type": "stream",
     "text": [
      "Ready!\n"
     ]
    }
   ],
   "source": [
    "###Select the number of clusters###\n",
    "num_clusters = 5\n",
    "\n",
    "#DO NOT CHANGE THIS CODE\n",
    "# seed = 29\n",
    "\n",
    "#Compute centroids and labels\n",
    "# num_init = 5\n",
    "centroids = []\n",
    "kmodes_huang = kmodes.KModes(n_clusters=num_clusters, init='Huang', verbose=0)\n",
    "cluster_labels = kmodes_huang.fit_predict(false_neg)\n",
    "centroids = kmodes_huang.cluster_centroids_\n",
    "\n",
    "print('Ready!')    "
   ]
  },
  {
   "cell_type": "code",
   "execution_count": 43,
   "metadata": {},
   "outputs": [],
   "source": [
    "false_neg[\"cls\"] = cluster_labels"
   ]
  },
  {
   "cell_type": "code",
   "execution_count": 44,
   "metadata": {},
   "outputs": [],
   "source": [
    "df_test_2 = false_neg[false_neg.columns[1:]]"
   ]
  },
  {
   "cell_type": "code",
   "execution_count": 45,
   "metadata": {},
   "outputs": [
    {
     "data": {
      "text/plain": [
       "[[0, [[['ROLE_FAMILY', -19721]], None]],\n",
       " [1,\n",
       "  [[['ROLE_TITLE', 118568], ['ROLE_FAMILY', 19721], ['ROLE_CODE', 118570]],\n",
       "   None]],\n",
       " [2,\n",
       "  [[['ROLE_DEPTNAME', 117878],\n",
       "    ['ROLE_TITLE', 117879],\n",
       "    ['ROLE_FAMILY_DESC', 117879],\n",
       "    ['ROLE_FAMILY', 19721],\n",
       "    ['ROLE_CODE', 117880]],\n",
       "   None]],\n",
       " [3,\n",
       "  [[['ROLE_ROLLUP_1', 91261],\n",
       "    ['ROLE_ROLLUP_2', 118026],\n",
       "    ['ROLE_TITLE', 118321],\n",
       "    ['ROLE_FAMILY_DESC', 117906],\n",
       "    ['ROLE_FAMILY', 290919],\n",
       "    ['ROLE_CODE', 118322]],\n",
       "   None]],\n",
       " [4,\n",
       "  [[['ROLE_DEPTNAME', 117920],\n",
       "    ['ROLE_TITLE', 117879],\n",
       "    ['ROLE_FAMILY_DESC', 117886],\n",
       "    ['ROLE_FAMILY', 19721],\n",
       "    ['ROLE_CODE', 117880]],\n",
       "   None]]]"
      ]
     },
     "execution_count": 45,
     "metadata": {},
     "output_type": "execute_result"
    }
   ],
   "source": [
    "pos_attr_thr = 0.3\n",
    "neg_attr_thr = 0.2\n",
    "pos_rel_thr = 0.3\n",
    "neg_rel_thr = 0.2\n",
    "test = rule_inference(df_test_2, pos_attr_thr, neg_attr_thr, pos_rel_thr, neg_attr_thr)\n",
    "test"
   ]
  },
  {
   "cell_type": "code",
   "execution_count": 46,
   "metadata": {},
   "outputs": [
    {
     "data": {
      "text/plain": [
       "20"
      ]
     },
     "execution_count": 46,
     "metadata": {},
     "output_type": "execute_result"
    }
   ],
   "source": [
    "#only_rules = []\n",
    "for rule in test:\n",
    "    only_rules.append(rule[1][0])\n",
    "len(only_rules)"
   ]
  },
  {
   "cell_type": "code",
   "execution_count": 47,
   "metadata": {},
   "outputs": [
    {
     "name": "stdout",
     "output_type": "stream",
     "text": [
      "0\n",
      "2\n",
      "3\n",
      "4\n",
      "15\n"
     ]
    }
   ],
   "source": [
    "# Compute how many rules has a lenght equal to 1.\n",
    "for idx, rule in enumerate(only_rules):\n",
    "    if len(rule) == 1:\n",
    "        print(idx)"
   ]
  },
  {
   "cell_type": "code",
   "execution_count": 48,
   "metadata": {},
   "outputs": [
    {
     "name": "stdout",
     "output_type": "stream",
     "text": [
      "Tasa FN: 24.60\n",
      "FN:  7595  de  30872\n"
     ]
    }
   ],
   "source": [
    "false_neg  = []\n",
    "for i,row in df_pos_entries.iterrows():\n",
    "    \n",
    "    # Evaluación\n",
    "    denies_count = 0    \n",
    "    for rule in only_rules:                                      \n",
    "        # En esta parte se evalua la regla completa\n",
    "        res = True\n",
    "        \n",
    "        #for idx_r, attr_val in enumerate(rule):\n",
    "        for attr_val in rule:            \n",
    "            if attr_val[1] < 0:\n",
    "                if row[attr_val[0]] == attr_val[1]*-1:\n",
    "                    res = False\n",
    "                    break\n",
    "            else:\n",
    "                if row[attr_val[0]] != attr_val[1]:\n",
    "                    res = False\n",
    "                    break\n",
    "        if res == False:\n",
    "            denies_count += 1\n",
    "    \n",
    "    if denies_count == len(only_rules):\n",
    "        false_neg.append(row)\n",
    "        #print(\"FP-2\")\n",
    "\n",
    "FN = len(false_neg)\n",
    "print(\"Tasa FN: {:.2f}\".format((FN/ len(df_pos_entries))*100))\n",
    "print(\"FN: \", FN, \" de \", len(df_pos_entries))"
   ]
  },
  {
   "cell_type": "code",
   "execution_count": 49,
   "metadata": {},
   "outputs": [
    {
     "name": "stdout",
     "output_type": "stream",
     "text": [
      "Tasa FP: 72.54\n",
      "FN:  1376  de  1897\n"
     ]
    }
   ],
   "source": [
    "false_pos  = []\n",
    "for i,row in df_neg_entries.iterrows():\n",
    "    # Evaluación\n",
    "    denies_count = 0\n",
    "    temp_rules_n = 0\n",
    "    for rule in only_rules:                                      \n",
    "        # En esta parte se evalua la regla completa\n",
    "        res = True                        \n",
    "        for attr_val in rule:\n",
    "            if attr_val[1] < 0:\n",
    "                if row[attr_val[0]] == attr_val[1]*-1:\n",
    "                    res = False\n",
    "                    break\n",
    "            else:\n",
    "                if row[attr_val[0]] != attr_val[1]:\n",
    "                    res = False\n",
    "                    break\n",
    "        if res == False:\n",
    "            denies_count += 1                                \n",
    "    #print(\"XXX-\", denies_count, temp_rules_n, res)\n",
    "    if denies_count < len(only_rules):\n",
    "        false_pos.append(row)\n",
    "        #print(\"FP-2\")    \n",
    "    #else:\n",
    "    #    print(\"ENtra PAPA\")\n",
    "FP = len(false_pos)\n",
    "print(\"Tasa FP: {:.2f}\".format((FP/ len(df_neg_entries))*100))\n",
    "print(\"FN: \", FP, \" de \", len(df_neg_entries))"
   ]
  },
  {
   "cell_type": "code",
   "execution_count": 50,
   "metadata": {},
   "outputs": [
    {
     "name": "stdout",
     "output_type": "stream",
     "text": [
      "FN: 7595  - 24.60\n",
      "FP: 1376  - 72.54\n",
      "Precision: 0.9441852918508904\n",
      "Recall: 0.7539841927960611\n",
      "F-score 0.8384331382260243\n",
      "# Rules: 20\n",
      "WSC: 72\n"
     ]
    }
   ],
   "source": [
    "TP = len(df_pos_entries) - FN\n",
    "#TP = 50 - FN\n",
    "TN = len(df_neg_entries) - FP\n",
    "#TN = 50 - FP\n",
    "\n",
    "precision = TP / (TP + FP)\n",
    "\n",
    "recall = TP / (TP + FN)\n",
    "\n",
    "fscore = 2*(precision*recall)/(precision+recall)\n",
    "\n",
    "print(\"FN:\", FN, \" - {:.2f}\".format((FN/len(df_pos_entries))*100))\n",
    "#print(\"FN:\", FN, \" - {:.2f}\".format((FN/50)*100))\n",
    "print(\"FP:\", FP, \" - {:.2f}\".format((FP/len(df_neg_entries))*100))\n",
    "#print(\"FP:\", FP, \" - {:.2f}\".format((FP/50)*100))\n",
    "print(\"Precision:\", precision)\n",
    "print(\"Recall:\", recall)\n",
    "print(\"F-score\", fscore)\n",
    "\n",
    "def compute_wsc(policy):\n",
    "    return sum([len(rule) for rule in policy])\n",
    "\n",
    "print(\"# Rules:\", len(only_rules))\n",
    "print(\"WSC:\", compute_wsc(only_rules))"
   ]
  }
 ],
 "metadata": {
  "kernelspec": {
   "display_name": "tesis_env",
   "language": "python",
   "name": "python3"
  },
  "language_info": {
   "codemirror_mode": {
    "name": "ipython",
    "version": 3
   },
   "file_extension": ".py",
   "mimetype": "text/x-python",
   "name": "python",
   "nbconvert_exporter": "python",
   "pygments_lexer": "ipython3",
   "version": "3.7.13 (default, Mar 29 2022, 02:18:16) \n[GCC 7.5.0]"
  },
  "orig_nbformat": 4,
  "vscode": {
   "interpreter": {
    "hash": "deec884ae07beaa7e970d39d84b9343805b80aeba4e343861fb4097b62dc7004"
   }
  }
 },
 "nbformat": 4,
 "nbformat_minor": 2
}
