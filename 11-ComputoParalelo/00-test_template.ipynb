{
 "cells": [
  {
   "cell_type": "code",
   "execution_count": 9,
   "metadata": {},
   "outputs": [
    {
     "name": "stderr",
     "output_type": "stream",
     "text": [
      "c:\\Users\\danie\\anaconda3\\envs\\tesis_env\\lib\\site-packages\\ipykernel_launcher.py:12: ClusterWarning: scipy.cluster: The symmetric non-negative hollow observation matrix looks suspiciously like an uncondensed distance matrix\n",
      "  if sys.path[0] == '':\n"
     ]
    },
    {
     "data": {
      "image/png": "[encoded data removed]",
      "text/plain": [
       "<Figure size 432x288 with 1 Axes>"
      ]
     },
     "metadata": {
      "needs_background": "light"
     },
     "output_type": "display_data"
    }
   ],
   "source": [
    "import numpy as np\n",
    "from scipy.cluster.hierarchy import linkage, dendrogram\n",
    "import matplotlib.pyplot as plt\n",
    "\n",
    "# Sample data (distance matrix)\n",
    "data = np.array([[0, 2, 3, 4],\n",
    "                 [2, 0, 5, 6],\n",
    "                 [3, 5, 0, 7],\n",
    "                 [4, 6, 7, 0]])\n",
    "\n",
    "# Perform hierarchical clustering\n",
    "linkage_matrix = linkage(data, method='single')  # You can choose a different linkage method\n",
    "\n",
    "# Plot dendrogram\n",
    "dendrogram(linkage_matrix)\n",
    "plt.show()\n"
   ]
  },
  {
   "cell_type": "code",
   "execution_count": 8,
   "metadata": {},
   "outputs": [
    {
     "data": {
      "text/plain": [
       "array([[0., 1., 4., 2.],\n",
       "       [2., 4., 6., 3.],\n",
       "       [3., 5., 8., 4.]])"
      ]
     },
     "execution_count": 8,
     "metadata": {},
     "output_type": "execute_result"
    }
   ],
   "source": [
    "data = np.array([[0, 0, 0, 0],\n",
    "                 [2, 0, 0, 0],\n",
    "                 [3, 5, 0, 0],\n",
    "                 [4, 6, 7, 0]])\n",
    "\n",
    "data = np.array([[0, 0, 0],\n",
    "                 [3, 0, 0],\n",
    "                 [4, 7, 0]])\n",
    "\n",
    "data = np.array([[0, 0, 0],\n",
    "                 [3, 0, 0],\n",
    "                 [4, 7, 0]])"
   ]
  },
  {
   "cell_type": "code",
   "execution_count": 6,
   "metadata": {},
   "outputs": [
    {
     "name": "stderr",
     "output_type": "stream",
     "text": [
      "c:\\Users\\danie\\anaconda3\\envs\\tesis_env\\lib\\site-packages\\ipykernel_launcher.py:20: ClusterWarning: scipy.cluster: The symmetric non-negative hollow observation matrix looks suspiciously like an uncondensed distance matrix\n"
     ]
    },
    {
     "data": {
      "image/png": "[encoded data removed]",
      "text/plain": [
       "<Figure size 432x288 with 1 Axes>"
      ]
     },
     "metadata": {
      "needs_background": "light"
     },
     "output_type": "display_data"
    }
   ],
   "source": [
    "import numpy as np\n",
    "import matplotlib.pyplot as plt\n",
    "from scipy.cluster.hierarchy import dendrogram, linkage\n",
    "\n",
    "# Example distance matrix (10x10)\n",
    "distance_matrix = np.array([\n",
    "    [0, 1, 2, 3, 4, 5, 6, 7, 8, 9],\n",
    "    [1, 0, 1.5, 2.5, 3.5, 4.5, 5.5, 6.5, 7.5, 8.5],\n",
    "    [2, 1.5, 0, 1, 2, 3, 4, 5, 6, 7],\n",
    "    [3, 2.5, 1, 0, 1, 2, 3, 4, 5, 6],\n",
    "    [4, 3.5, 2, 1, 0, 1, 2, 3, 4, 5],\n",
    "    [5, 4.5, 3, 2, 1, 0, 1, 2, 3, 4],\n",
    "    [6, 5.5, 4, 3, 2, 1, 0, 1, 2, 3],\n",
    "    [7, 6.5, 5, 4, 3, 2, 1, 0, 1, 2],\n",
    "    [8, 7.5, 6, 5, 4, 3, 2, 1, 0, 1],\n",
    "    [9, 8.5, 7, 6, 5, 4, 3, 2, 1, 0]\n",
    "])\n",
    "\n",
    "# Perform single-linkage hierarchical clustering\n",
    "linkage_matrix = linkage(distance_matrix, method='ward')\n",
    "\n",
    "# Plot the dendrogram\n",
    "dendrogram(linkage_matrix)\n",
    "plt.xlabel('Data Points')\n",
    "plt.ylabel('Distance')\n",
    "plt.title('Single-Linkage Hierarchical Clustering')\n",
    "plt.show()\n"
   ]
  }
 ],
 "metadata": {
  "kernelspec": {
   "display_name": "tesis_env",
   "language": "python",
   "name": "python3"
  },
  "language_info": {
   "codemirror_mode": {
    "name": "ipython",
    "version": 3
   },
   "file_extension": ".py",
   "mimetype": "text/x-python",
   "name": "python",
   "nbconvert_exporter": "python",
   "pygments_lexer": "ipython3",
   "version": "3.7.13"
  },
  "orig_nbformat": 4
 },
 "nbformat": 4,
 "nbformat_minor": 2
}
